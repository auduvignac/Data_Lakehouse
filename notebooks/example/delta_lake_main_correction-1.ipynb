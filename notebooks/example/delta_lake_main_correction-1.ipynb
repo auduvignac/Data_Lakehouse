{
 "cells": [
  {
   "cell_type": "markdown",
   "metadata": {
    "id": "GwjrdGLoXzly"
   },
   "source": [
    "* Formation Continue EMIASD, Univ. Paris Dauphine, Promo 6\n",
    "* Author: Mohamed-Amine Baazizi\n",
    "* Affiliation: LIP6 - Faculté des Sciences - Sorbonne Université\n",
    "* Email: mohamed-amine.baazizi@lip6.fr\n",
    "* Reusing without consent of the author is strictly forbidden\n",
    "* June 2025\n",
    "\n",
    "<p align=\"center\">\n",
    "  <a href=\"https://colab.research.google.com/github/auduvignac/Data_Lakehouse/blob/main/notebooks/example/delta_lake_main_correction-1.ipynb\" target=\"_blank\">\n",
    "  <img src=\"https://colab.research.google.com/assets/colab-badge.svg\" alt=\"Ouvrir dans Google Colab\"/>\n",
    "  </a>\n",
    "</p>"
   ]
  },
  {
   "cell_type": "markdown",
   "metadata": {
    "id": "GunJfIR6YM_h"
   },
   "source": [
    "# Delta Lake\n"
   ]
  },
  {
   "cell_type": "markdown",
   "metadata": {
    "id": "-kfCqy7EtbGd"
   },
   "source": [
    "## Outline"
   ]
  },
  {
   "cell_type": "markdown",
   "metadata": {
    "id": "GpI9l0JZYRdh"
   },
   "source": [
    "This lab is dedicated to practicing Delta Lake. It begins with a set of demos meant to illustrate the usage of Delta, on small examples.\n",
    "A use case based on realistic data is then presented and followed by the analysis of query plans generated for Delta operations.\n",
    "\n",
    "\n",
    "For the official documentation visit https://docs.delta.io/latest/index.html\n",
    "\n",
    "\n",
    "\n",
    "\n",
    "\n",
    "\n",
    "\n"
   ]
  },
  {
   "cell_type": "markdown",
   "metadata": {
    "id": "csSU_SanYPJQ"
   },
   "source": [
    "## Prerequisite"
   ]
  },
  {
   "cell_type": "markdown",
   "metadata": {
    "id": "BYxx4XY_TN0H"
   },
   "source": [
    "### System setup"
   ]
  },
  {
   "cell_type": "code",
   "execution_count": null,
   "metadata": {
    "id": "mW_DrY7ZlUj_"
   },
   "outputs": [],
   "source": [
    "%%capture\n",
    "%pip install pyspark==3.5.3\n",
    "%pip install -q delta-spark==3.2.1\n",
    "%pip install pyngrok"
   ]
  },
  {
   "cell_type": "code",
   "execution_count": null,
   "metadata": {
    "colab": {
     "base_uri": "https://localhost:8080/"
    },
    "id": "o1YXYF4nWHNE",
    "outputId": "052cb325-bdee-479e-80e6-06cfe5890a44"
   },
   "outputs": [],
   "source": [
    "%pip list|grep spark"
   ]
  },
  {
   "cell_type": "code",
   "execution_count": null,
   "metadata": {
    "colab": {
     "base_uri": "https://localhost:8080/"
    },
    "id": "YleMAo5BgR0P",
    "outputId": "cf18d99d-66a7-4f24-a9ac-b3a8db50068a"
   },
   "outputs": [],
   "source": [
    "import pyspark\n",
    "\n",
    "print(f\"PySpark version: {pyspark.__version__}\")"
   ]
  },
  {
   "cell_type": "code",
   "execution_count": null,
   "metadata": {
    "id": "ZGcYc-DKqpUi"
   },
   "outputs": [],
   "source": [
    "from pyspark import SparkConf\n",
    "from pyspark.context import SparkContext\n",
    "from pyspark.sql import SparkSession\n",
    "\n",
    "local = \"local[*]\"\n",
    "appName = \"Formation Continue EMIASD - Delta Lake \"\n",
    "localConfig = SparkConf().setAppName(appName).setMaster(local).\\\n",
    "  set(\"spark.executor.memory\", \"8G\").\\\n",
    "  set(\"spark.driver.memory\",\"8G\").\\\n",
    "  set(\"spark.sql.catalogImplementation\",\"in-memory\").\\\n",
    "  set(\"spark.sql.extensions\",\"io.delta.sql.DeltaSparkSessionExtension\").\\\n",
    "  set(\"spark.sql.catalog.spark_catalog\",\"org.apache.spark.sql.delta.catalog.DeltaCatalog\").\\\n",
    "  set(\"spark.jars.packages\",\"io.delta:delta-spark_2.12:3.1.0\").\\\n",
    "  set(\"spark.databricks.delta.schema.autoMerge.enabled\",\"true\")\n",
    "\n",
    "spark = SparkSession.builder.config(conf = localConfig).getOrCreate()\n",
    "sc = spark.sparkContext\n",
    "sc.setLogLevel(\"ERROR\")"
   ]
  },
  {
   "cell_type": "code",
   "execution_count": null,
   "metadata": {
    "colab": {
     "base_uri": "https://localhost:8080/",
     "height": 222
    },
    "id": "tvPytoK4Xl3t",
    "outputId": "94c5408b-e222-4092-e738-12f7e0d5146b"
   },
   "outputs": [],
   "source": [
    "spark"
   ]
  },
  {
   "cell_type": "markdown",
   "metadata": {
    "id": "uEE-92qgTQ4p"
   },
   "source": [
    "### Data import"
   ]
  },
  {
   "cell_type": "code",
   "execution_count": null,
   "metadata": {
    "id": "95fudS-iTbB5"
   },
   "outputs": [],
   "source": [
    "%%capture\n",
    "! wget https://nuage.lip6.fr/s/BbQ9rzGHKJexKYp/download/sales.tar -O /tmp/sales.tar\n",
    "!mkdir /tmp/delta\n",
    "! tar xvf /tmp/sales.tar -C /tmp/delta"
   ]
  },
  {
   "cell_type": "code",
   "execution_count": null,
   "metadata": {
    "colab": {
     "base_uri": "https://localhost:8080/"
    },
    "id": "o7YspSlaTdTh",
    "outputId": "4a1c6708-e60c-42a2-e1e1-b856f76f9c53"
   },
   "outputs": [],
   "source": [
    "!ls /tmp/delta/sales"
   ]
  },
  {
   "cell_type": "markdown",
   "metadata": {
    "id": "PPmP7vcOr6XX"
   },
   "source": [
    "## Demo1: first steps"
   ]
  },
  {
   "cell_type": "markdown",
   "metadata": {
    "id": "6sBb4C8GteZR"
   },
   "source": [
    "### load the data into delta"
   ]
  },
  {
   "cell_type": "code",
   "execution_count": null,
   "metadata": {
    "colab": {
     "base_uri": "https://localhost:8080/"
    },
    "id": "4pqEJ8Q5Y4SX",
    "outputId": "7ce225b7-2a1a-429c-d288-1b0fdfffbd25"
   },
   "outputs": [],
   "source": [
    "query = \"\"\"\n",
    "CREATE TABLE delta.`/tmp/delta-table` USING DELTA AS SELECT col1 as id FROM VALUES 0,1,2,3,4;\n",
    "\"\"\"\n",
    "spark.sql(query)"
   ]
  },
  {
   "cell_type": "code",
   "execution_count": null,
   "metadata": {
    "colab": {
     "base_uri": "https://localhost:8080/"
    },
    "id": "0biz8Q2kZGh5",
    "outputId": "50acee89-4355-4024-b1d4-f4ad26d40744"
   },
   "outputs": [],
   "source": [
    "query = \"\"\"\n",
    "SELECT * FROM delta.`/tmp/delta-table`;\n",
    "\"\"\"\n",
    "spark.sql(query).show()"
   ]
  },
  {
   "cell_type": "markdown",
   "metadata": {
    "id": "7gC5yWqIti5z"
   },
   "source": [
    "### update the data\n",
    "#### overwrite"
   ]
  },
  {
   "cell_type": "code",
   "execution_count": null,
   "metadata": {
    "colab": {
     "base_uri": "https://localhost:8080/"
    },
    "id": "54vtYTfOZWMg",
    "outputId": "e65ac606-ac1b-4115-a22b-670a62b18820"
   },
   "outputs": [],
   "source": [
    "query = \"\"\"\n",
    "INSERT OVERWRITE delta.`/tmp/delta-table` SELECT col1 as id FROM VALUES 5,6,7,8,9;\n",
    "\"\"\"\n",
    "spark.sql(query)"
   ]
  },
  {
   "cell_type": "code",
   "execution_count": null,
   "metadata": {
    "colab": {
     "base_uri": "https://localhost:8080/"
    },
    "id": "d4UkNiH4ZanE",
    "outputId": "aa64c1cf-f36c-4a97-b2db-174d1a1274bc"
   },
   "outputs": [],
   "source": [
    "query = \"\"\"\n",
    "SELECT * FROM delta.`/tmp/delta-table`;\n",
    "\"\"\"\n",
    "spark.sql(query).show()"
   ]
  },
  {
   "cell_type": "markdown",
   "metadata": {
    "id": "n51K-OE-zEbi"
   },
   "source": [
    "#### conditional overwrite"
   ]
  },
  {
   "cell_type": "code",
   "execution_count": null,
   "metadata": {
    "colab": {
     "base_uri": "https://localhost:8080/"
    },
    "id": "PgZYQlzKZmC-",
    "outputId": "43465362-f109-4ec1-b185-f742b4694c17"
   },
   "outputs": [],
   "source": [
    "query = \"\"\"\n",
    "UPDATE delta.`/tmp/delta-table` SET id = id + 100 WHERE id % 2 == 0;\n",
    "\"\"\"\n",
    "spark.sql(query)"
   ]
  },
  {
   "cell_type": "code",
   "execution_count": null,
   "metadata": {
    "colab": {
     "base_uri": "https://localhost:8080/"
    },
    "id": "ZGyGJUbTZ5Tk",
    "outputId": "9ac0d4e7-672a-4056-fdd1-1eeb53822906"
   },
   "outputs": [],
   "source": [
    "query = \"\"\"\n",
    "SELECT * FROM delta.`/tmp/delta-table`;\n",
    "\"\"\"\n",
    "spark.sql(query).show()"
   ]
  },
  {
   "cell_type": "code",
   "execution_count": null,
   "metadata": {
    "colab": {
     "base_uri": "https://localhost:8080/"
    },
    "id": "WEOePP5UaIhx",
    "outputId": "3a3bc2f0-d769-4242-bcea-ee41f609b1dc"
   },
   "outputs": [],
   "source": [
    "query = \"\"\"\n",
    "DELETE FROM delta.`/tmp/delta-table` WHERE id % 2 == 0;\n",
    "\"\"\"\n",
    "spark.sql(query)"
   ]
  },
  {
   "cell_type": "code",
   "execution_count": null,
   "metadata": {
    "colab": {
     "base_uri": "https://localhost:8080/"
    },
    "id": "Tycomqu-aIfb",
    "outputId": "961f0617-9902-4160-9182-11318a3fcd13"
   },
   "outputs": [],
   "source": [
    "query = \"\"\"\n",
    "SELECT * FROM delta.`/tmp/delta-table`;\n",
    "\"\"\"\n",
    "spark.sql(query).show()"
   ]
  },
  {
   "cell_type": "code",
   "execution_count": null,
   "metadata": {
    "colab": {
     "base_uri": "https://localhost:8080/"
    },
    "id": "vwV6XupUaPIL",
    "outputId": "b3ba038b-05c9-4296-b59d-8cf88544b0ac"
   },
   "outputs": [],
   "source": [
    "query = \"\"\"\n",
    "CREATE TEMP VIEW newData AS SELECT col1 AS id FROM VALUES 1,3,5,7,9,11,13,15,17,19;\n",
    "\"\"\"\n",
    "spark.sql(query)"
   ]
  },
  {
   "cell_type": "code",
   "execution_count": null,
   "metadata": {
    "colab": {
     "base_uri": "https://localhost:8080/"
    },
    "id": "M96V_5IBaZhE",
    "outputId": "337878df-ac45-4953-9a1f-9e0416959544"
   },
   "outputs": [],
   "source": [
    "query = \"\"\"\n",
    "SELECT * FROM `newData`;\n",
    "\"\"\"\n",
    "spark.sql(query).show()"
   ]
  },
  {
   "cell_type": "code",
   "execution_count": null,
   "metadata": {
    "colab": {
     "base_uri": "https://localhost:8080/"
    },
    "id": "3bPAmhZlaWez",
    "outputId": "fac11af8-8155-4f98-c2cb-b3d90819837f"
   },
   "outputs": [],
   "source": [
    "query = \"\"\"\n",
    "MERGE INTO delta.`/tmp/delta-table` AS oldData\n",
    "USING newData\n",
    "ON oldData.id = newData.id\n",
    "WHEN MATCHED\n",
    "  THEN UPDATE SET id = newData.id\n",
    "WHEN NOT MATCHED\n",
    "  THEN INSERT (id) VALUES (newData.id);\n",
    "\"\"\"\n",
    "spark.sql(query)"
   ]
  },
  {
   "cell_type": "code",
   "execution_count": null,
   "metadata": {
    "colab": {
     "base_uri": "https://localhost:8080/"
    },
    "id": "EVIy7AOmaPA5",
    "outputId": "98eee580-bf08-4482-8ab5-97409d2d1729"
   },
   "outputs": [],
   "source": [
    "query = \"\"\"\n",
    "SELECT * FROM delta.`/tmp/delta-table`;\n",
    "\"\"\"\n",
    "spark.sql(query).show()"
   ]
  },
  {
   "cell_type": "markdown",
   "metadata": {
    "id": "LFk6LjuF6YLI"
   },
   "source": [
    "### view history"
   ]
  },
  {
   "cell_type": "code",
   "execution_count": null,
   "metadata": {
    "colab": {
     "base_uri": "https://localhost:8080/"
    },
    "id": "4M23w7FrbuRj",
    "outputId": "185828ce-d54f-46f2-e394-f25ffe6a5f43"
   },
   "outputs": [],
   "source": [
    "query = \"\"\"\n",
    "SELECT * FROM delta.`/tmp/delta-table` VERSION AS OF 0;\n",
    "\"\"\"\n",
    "spark.sql(query).show()"
   ]
  },
  {
   "cell_type": "code",
   "execution_count": null,
   "metadata": {
    "colab": {
     "base_uri": "https://localhost:8080/"
    },
    "id": "BxTIpNxYbzDV",
    "outputId": "95d393b3-6cc9-476d-8e0b-fd311efc9b24"
   },
   "outputs": [],
   "source": [
    "query = \"\"\"\n",
    "SELECT * FROM delta.`/tmp/delta-table` VERSION AS OF 1;\n",
    "\"\"\"\n",
    "spark.sql(query).show()"
   ]
  },
  {
   "cell_type": "markdown",
   "metadata": {
    "id": "8h6Zc1bPoAUB"
   },
   "source": [
    "## Creating synthetic data\n"
   ]
  },
  {
   "cell_type": "markdown",
   "metadata": {
    "id": "IQBLb81vr2_o"
   },
   "source": [
    "### Persons"
   ]
  },
  {
   "cell_type": "code",
   "execution_count": null,
   "metadata": {
    "colab": {
     "base_uri": "https://localhost:8080/"
    },
    "id": "Mz04HT1LqHms",
    "outputId": "602e6e73-b74a-48fe-c1ea-8a383f00cf3a"
   },
   "outputs": [],
   "source": [
    "query = \"\"\"\n",
    "CREATE TABLE delta.`/tmp/persons` USING DELTA AS\n",
    "SELECT col1 as serial, col2 as name, col3 as age, col4 as address\n",
    "FROM VALUES (\"12345\", \"Alice\", 25, \"123 Main St\"),\n",
    "            (\"67890\", \"Bob\", 30, \"456 Oak Ave\"),\n",
    "            (\"24680\", \"Charlie\", 35, \"789 Elm St\");\n",
    "\"\"\"\n",
    "spark.sql(query)"
   ]
  },
  {
   "cell_type": "code",
   "execution_count": null,
   "metadata": {
    "colab": {
     "base_uri": "https://localhost:8080/"
    },
    "id": "BRS4ng1Exzty",
    "outputId": "edef89e3-16b8-47a1-9900-c40a8d8575f2"
   },
   "outputs": [],
   "source": [
    "query = \"\"\"\n",
    "SELECT * FROM delta.`/tmp/persons`;\n",
    "\"\"\"\n",
    "spark.sql(query).show()"
   ]
  },
  {
   "cell_type": "code",
   "execution_count": null,
   "metadata": {
    "colab": {
     "base_uri": "https://localhost:8080/"
    },
    "id": "AVHqgfnM9iTp",
    "outputId": "d89ea143-85ab-41aa-d536-484a862dc0dc"
   },
   "outputs": [],
   "source": [
    "! ls -alR /tmp/persons"
   ]
  },
  {
   "cell_type": "code",
   "execution_count": null,
   "metadata": {
    "colab": {
     "base_uri": "https://localhost:8080/"
    },
    "id": "r7wKrQvYyCT_",
    "outputId": "117badd3-12e8-4a03-f111-51ce8219fe90"
   },
   "outputs": [],
   "source": [
    "query = \"\"\"\n",
    "CREATE TEMP VIEW newPersons AS\n",
    "SELECT col1 as serial, col2 as name, col3 as age, col4 as address\n",
    "FROM VALUES (\"78120\", \"Dan\", 42, \"432 Holly Rd\"), (\"97362\", \"Lorry\", 40, \"290 Wise Ave\"), (\"12345\", \"Alice\", 25, \"123 Main St\")\n",
    "\"\"\"\n",
    "spark.sql(query)"
   ]
  },
  {
   "cell_type": "code",
   "execution_count": null,
   "metadata": {
    "colab": {
     "base_uri": "https://localhost:8080/"
    },
    "id": "GjBg5aKyqjjk",
    "outputId": "e6fbfb4f-14d0-45d0-c4c3-9fc1097a4ac1"
   },
   "outputs": [],
   "source": [
    "query = \"\"\"\n",
    "SELECT * from newPersons\n",
    "\"\"\"\n",
    "spark.sql(query).show()"
   ]
  },
  {
   "cell_type": "markdown",
   "metadata": {
    "id": "hrInpLvgod65"
   },
   "source": [
    "### Salaries"
   ]
  },
  {
   "cell_type": "code",
   "execution_count": null,
   "metadata": {
    "colab": {
     "base_uri": "https://localhost:8080/"
    },
    "id": "MVChthzayPAH",
    "outputId": "d82010c7-5470-401c-9562-e912554d0183"
   },
   "outputs": [],
   "source": [
    "query = \"\"\"\n",
    "CREATE TABLE delta.`/tmp/salaries` USING DELTA AS\n",
    "SELECT col1 as serial, col2 as salary\n",
    "FROM VALUES (\"12345\", 45000),\n",
    "        (\"67890\", 52000),\n",
    "        (\"24680\", 36000),\n",
    "        (\"78120\", 60000),\n",
    "        (\"97362\",38000)\n",
    "\"\"\"\n",
    "spark.sql(query)"
   ]
  },
  {
   "cell_type": "code",
   "execution_count": null,
   "metadata": {
    "colab": {
     "base_uri": "https://localhost:8080/"
    },
    "id": "Q1Z-4SS8yO0_",
    "outputId": "b0dee36a-4383-4457-8545-fdf6ca1ccbc2"
   },
   "outputs": [],
   "source": [
    "query = \"\"\"\n",
    "SELECT * from delta.`/tmp/salaries`\n",
    "\"\"\"\n",
    "spark.sql(query).show()"
   ]
  },
  {
   "cell_type": "code",
   "execution_count": null,
   "metadata": {
    "colab": {
     "base_uri": "https://localhost:8080/"
    },
    "id": "TgVPE7qXytsy",
    "outputId": "712f439d-2767-4a91-cfc1-5b7f829dc240"
   },
   "outputs": [],
   "source": [
    "query = \"\"\"\n",
    "CREATE TEMP VIEW newSalaries AS\n",
    "SELECT col1 as serial, col2 as salary\n",
    "FROM VALUES (\"12345\", 47000),\n",
    "        (\"67890\", 50000),\n",
    "        (\"24680\", 46000),\n",
    "        (\"78120\", 61000),\n",
    "        (\"97362\",39000)\n",
    "\"\"\"\n",
    "spark.sql(query)"
   ]
  },
  {
   "cell_type": "code",
   "execution_count": null,
   "metadata": {
    "colab": {
     "base_uri": "https://localhost:8080/"
    },
    "id": "XodXLDZGytly",
    "outputId": "26f23bc1-8c26-4dd6-cdb5-f19add80b3fe"
   },
   "outputs": [],
   "source": [
    "query = \"\"\"\n",
    "SELECT * from newSalaries\n",
    "\"\"\"\n",
    "spark.sql(query).show()"
   ]
  },
  {
   "cell_type": "markdown",
   "metadata": {
    "id": "qvCkgOJ2o51k"
   },
   "source": [
    "### Sales"
   ]
  },
  {
   "cell_type": "code",
   "execution_count": null,
   "metadata": {
    "colab": {
     "base_uri": "https://localhost:8080/"
    },
    "id": "UHT6rUe3zGtE",
    "outputId": "083e126f-4958-4510-efd7-0a537817a8ef"
   },
   "outputs": [],
   "source": [
    "query = \"\"\"\n",
    "CREATE TABLE delta.`/tmp/sales` USING DELTA AS\n",
    "SELECT col1 as product_id, col2 as quantity, col3 as totalprice\n",
    "FROM VALUES (\"CHA_2\",2,60),(\"BED_4\",1,300),(\"SHO_15\",2,60)\n",
    "\"\"\"\n",
    "spark.sql(query)"
   ]
  },
  {
   "cell_type": "code",
   "execution_count": null,
   "metadata": {
    "colab": {
     "base_uri": "https://localhost:8080/"
    },
    "id": "IcvSG8Bs1qJu",
    "outputId": "feb0e1c3-d3a3-436e-8a35-70dae820cea7"
   },
   "outputs": [],
   "source": [
    "query = \"\"\"\n",
    "SELECT * FROM delta.`/tmp/sales`\n",
    "\"\"\"\n",
    "spark.sql(query).show()"
   ]
  },
  {
   "cell_type": "code",
   "execution_count": null,
   "metadata": {
    "colab": {
     "base_uri": "https://localhost:8080/"
    },
    "id": "dCZuvPSoAEcZ",
    "outputId": "5181b3e4-4193-422e-b133-dc2f5d5956ca"
   },
   "outputs": [],
   "source": [
    "!ls -hR /tmp/salesStatus"
   ]
  },
  {
   "cell_type": "code",
   "execution_count": null,
   "metadata": {
    "colab": {
     "base_uri": "https://localhost:8080/"
    },
    "id": "loBnyH7QGVc1",
    "outputId": "d51fcbd2-0ac1-423f-e6e2-28d5c7cade23"
   },
   "outputs": [],
   "source": [
    "query = \"\"\"\n",
    "CREATE TABLE delta.`/tmp/salesStatus` USING DELTA AS\n",
    "SELECT product_id, quantity, totalprice, 'available' as status\n",
    "FROM delta.`/tmp/sales`\n",
    "\"\"\"\n",
    "spark.sql(query)"
   ]
  },
  {
   "cell_type": "code",
   "execution_count": null,
   "metadata": {
    "colab": {
     "base_uri": "https://localhost:8080/"
    },
    "id": "i389omYMGoeL",
    "outputId": "a00ad6e1-5ef5-4212-a70d-9db4c71c45ab"
   },
   "outputs": [],
   "source": [
    "query = \"\"\"\n",
    "SELECT * FROM delta.`/tmp/salesStatus`\n",
    "\"\"\"\n",
    "spark.sql(query).show()"
   ]
  },
  {
   "cell_type": "code",
   "execution_count": null,
   "metadata": {
    "colab": {
     "base_uri": "https://localhost:8080/"
    },
    "id": "ysdcCZjYvgB6",
    "outputId": "fb36deb9-cffc-4c27-eaee-1bdaa5d4bef1"
   },
   "outputs": [],
   "source": [
    "spark.sql(f\"DESCRIBE TABLE EXTENDED delta.`/tmp/salesStatus`\").show()"
   ]
  },
  {
   "cell_type": "code",
   "execution_count": null,
   "metadata": {
    "colab": {
     "base_uri": "https://localhost:8080/"
    },
    "id": "o80YSQtzzGnM",
    "outputId": "3bfb922f-9ce4-42eb-ff08-fc2e253503df"
   },
   "outputs": [],
   "source": [
    "query = \"\"\"\n",
    "CREATE TEMP VIEW newSales AS\n",
    "SELECT col1 as product_id, col2 as quantity, col3 as totalprice\n",
    "FROM VALUES (\"SHO_15\",3,90),(\"CHA_2\",1,30),(\"BED_6\",1,200)\n",
    "\n",
    "\"\"\"\n",
    "spark.sql(query)"
   ]
  },
  {
   "cell_type": "code",
   "execution_count": null,
   "metadata": {
    "colab": {
     "base_uri": "https://localhost:8080/"
    },
    "id": "Ede4oEeM2Wz1",
    "outputId": "1a91ecb9-e6a2-47d8-c00e-925a638e6b3d"
   },
   "outputs": [],
   "source": [
    "query = \"\"\"\n",
    "SELECT * FROM newSales\n",
    "\"\"\"\n",
    "spark.sql(query).show()"
   ]
  },
  {
   "cell_type": "markdown",
   "metadata": {
    "id": "29J3fU3po_v0"
   },
   "source": [
    "### Products"
   ]
  },
  {
   "cell_type": "code",
   "execution_count": null,
   "metadata": {
    "colab": {
     "base_uri": "https://localhost:8080/"
    },
    "id": "aTPJFSMp2bh7",
    "outputId": "75d1d0e9-a4c6-4a16-ed44-39a279f57009"
   },
   "outputs": [],
   "source": [
    "query = \"\"\"\n",
    "CREATE TEMP VIEW products AS\n",
    "SELECT col1 as product_id, col2 as category, col3 as color\n",
    "FROM VALUES (\"CHA_2\",\"Furniture\",\"blue\"),(\"BED_4\",\"Furniture\",\"brown\"),(\"SHO_15\",\"Cloth\",\"black\")\n",
    "\n",
    "\"\"\"\n",
    "spark.sql(query)"
   ]
  },
  {
   "cell_type": "code",
   "execution_count": null,
   "metadata": {
    "colab": {
     "base_uri": "https://localhost:8080/"
    },
    "id": "8RWuphHw2j-7",
    "outputId": "dd7cd8ea-5a35-42ff-e846-775ab87bc031"
   },
   "outputs": [],
   "source": [
    "query = \"\"\"\n",
    "SELECT * FROM products\n",
    "\"\"\"\n",
    "spark.sql(query).show()"
   ]
  },
  {
   "cell_type": "code",
   "execution_count": null,
   "metadata": {
    "colab": {
     "base_uri": "https://localhost:8080/"
    },
    "id": "0hAHsUnAvPPT",
    "outputId": "9abdd9c0-fdfa-4333-ee8c-c2a4aeab9b31"
   },
   "outputs": [],
   "source": [
    "spark.sql(\"SHOW TABLES\").show()"
   ]
  },
  {
   "cell_type": "markdown",
   "metadata": {
    "id": "OkgbLaJW-P0w"
   },
   "source": [
    "## Demo2: delta operations"
   ]
  },
  {
   "cell_type": "markdown",
   "metadata": {
    "id": "aRP_QqBQN8W1"
   },
   "source": [
    "### Q1. Adding new tuples\n",
    "Consider the Delta table `person` with the following columns: serial, name, age, and address. You have a new dataset `newPersons` with the same columns, but with additional records. Write a merge statement to update the Delta table with the new records.\n"
   ]
  },
  {
   "cell_type": "code",
   "execution_count": null,
   "metadata": {
    "colab": {
     "base_uri": "https://localhost:8080/",
     "height": 557
    },
    "id": "GuQOLNgsEvLM",
    "outputId": "49843e97-26f1-4c26-9333-4cb20c3bef1b"
   },
   "outputs": [],
   "source": [
    "query = \"\"\"\n",
    "MERGE INTO delta.`/tmp/persons` AS oldData\n",
    "USING newPersons\n",
    "ON oldData.serial = newPersons.serial\n",
    "WHEN NOT MATCHED\n",
    "  THEN INSERT *;\n",
    "\"\"\"\n",
    "spark.sql(query).show()"
   ]
  },
  {
   "cell_type": "code",
   "execution_count": null,
   "metadata": {
    "colab": {
     "base_uri": "https://localhost:8080/"
    },
    "id": "RkPVm4KAGcJ3",
    "outputId": "9f80aa2e-bc24-442e-a183-ef00868f8d61"
   },
   "outputs": [],
   "source": [
    "query = \"\"\"\n",
    "SELECT * FROM\n",
    "delta.`/tmp/persons`\n",
    "\"\"\"\n",
    "spark.sql(query).show()"
   ]
  },
  {
   "cell_type": "markdown",
   "metadata": {
    "id": "nKD875I8OYT_"
   },
   "source": [
    "### Q2: updating existing tuples\n",
    "Assume you have a Delta table `salaries` with columns serial and salary. You want to update the salary of the employees who earn less than 50,000. You have a new dataset, `newSalaries` with the same columns but with updated salary information. Write a merge statement to update the `salaries` table with the new salary information.\n"
   ]
  },
  {
   "cell_type": "code",
   "execution_count": null,
   "metadata": {
    "colab": {
     "base_uri": "https://localhost:8080/"
    },
    "id": "YutXzBL8Gp1U",
    "outputId": "59101285-a3c0-47ae-b4c5-0f1ffbf5fc88"
   },
   "outputs": [],
   "source": [
    "query = \"\"\"\n",
    "MERGE INTO delta.`/tmp/salaries` AS oldData\n",
    "USING newSalaries\n",
    "ON oldData.serial = newSalaries.serial\n",
    "WHEN MATCHED AND oldData.salary<50000\n",
    "  THEN UPDATE SET oldData.salary=newSalaries.salary;\n",
    "\"\"\"\n",
    "spark.sql(query).show()"
   ]
  },
  {
   "cell_type": "code",
   "execution_count": null,
   "metadata": {
    "colab": {
     "base_uri": "https://localhost:8080/"
    },
    "id": "zgv1dfHtGpy1",
    "outputId": "9695ad30-98e3-4c82-cef1-7fc118187fdd"
   },
   "outputs": [],
   "source": [
    "query = \"\"\"\n",
    "SELECT * FROM\n",
    "delta.`/tmp/salaries`\n",
    "\"\"\"\n",
    "spark.sql(query).show()"
   ]
  },
  {
   "cell_type": "markdown",
   "metadata": {
    "id": "hU_0ZWKHoqwj"
   },
   "source": [
    "### Q3: adding new tuples and updating existing ones\n",
    "You have a Delta table `sales` with columns `product_id`, `quantity`, and `totalprice`. Write a merge statement to insert the new products from a dataframe `newSales` into `sales` and to make sure that, for existing products, the column `sales` has the sum of the quantity and totalprice.\n"
   ]
  },
  {
   "cell_type": "code",
   "execution_count": null,
   "metadata": {
    "colab": {
     "base_uri": "https://localhost:8080/"
    },
    "id": "CiHqjAQxIbAP",
    "outputId": "dcaaff26-fe91-44ba-cd9b-58831b4d6091"
   },
   "outputs": [],
   "source": [
    "query = \"\"\"\n",
    "MERGE INTO delta.`/tmp/sales` AS oldData\n",
    "USING newSales\n",
    "ON oldData.product_id = newSales.product_id\n",
    "WHEN MATCHED\n",
    "  THEN UPDATE SET oldData.quantity = oldData.quantity + newSales.quantity,\n",
    "                  oldData.totalprice = oldData.totalprice + newSales.totalprice\n",
    "WHEN NOT MATCHED\n",
    "  THEN INSERT *\n",
    "\"\"\"\n",
    "spark.sql(query).show()"
   ]
  },
  {
   "cell_type": "code",
   "execution_count": null,
   "metadata": {
    "colab": {
     "base_uri": "https://localhost:8080/"
    },
    "id": "BA6nfkPGIa5D",
    "outputId": "daf334de-46f0-42c3-8ca0-6021cb93a8ea"
   },
   "outputs": [],
   "source": [
    "query = \"\"\"\n",
    "SELECT * FROM\n",
    "delta.`/tmp/sales`\n",
    "\"\"\"\n",
    "spark.sql(query).show()"
   ]
  },
  {
   "cell_type": "markdown",
   "metadata": {
    "id": "cOCzQqTmy7h9"
   },
   "source": [
    "### Q4: Merge tables with different schemas\n",
    "Consier the delta table `sales`.  Write a merge statement to augment `sales` with the cateogry and the color of the products by using an auxiliary table `Products` whose schema is `product_id`, `category` and `color` and such that `product_id` can used for matching the tuples of `sales`."
   ]
  },
  {
   "cell_type": "code",
   "execution_count": null,
   "metadata": {
    "colab": {
     "base_uri": "https://localhost:8080/"
    },
    "id": "eNPS7CN5Kj-v",
    "outputId": "0aa51fd7-b115-4ed2-df4b-d271b93121e1"
   },
   "outputs": [],
   "source": [
    "query = \"\"\"\n",
    "MERGE INTO delta.`/tmp/sales` oldData\n",
    "USING products\n",
    "ON oldData.product_id = products.product_id\n",
    "WHEN MATCHED\n",
    "  THEN UPDATE SET *\n",
    "WHEN NOT MATCHED\n",
    "  THEN INSERT *\n",
    "\"\"\"\n",
    "spark.sql(query).show()"
   ]
  },
  {
   "cell_type": "code",
   "execution_count": null,
   "metadata": {
    "colab": {
     "base_uri": "https://localhost:8080/"
    },
    "id": "jGPtjZOcLhWr",
    "outputId": "a4fa02b8-d26d-4793-afb5-737f09e55842"
   },
   "outputs": [],
   "source": [
    "query = \"\"\"\n",
    "SELECT * FROM delta.`/tmp/sales`\n",
    "\"\"\"\n",
    "spark.sql(query).show()"
   ]
  },
  {
   "cell_type": "markdown",
   "metadata": {
    "id": "iLZxdogbGs05"
   },
   "source": [
    "### Q5: updating existing tuples when not matched by source\n",
    "Consier the delta table `salesStatus` which extends the table `sales` with the column `status` meant to track the availability of products.\n",
    "Write a merge statement that:\n",
    "- updates the quantity of products in `salesStatus` by considering sales reported in `newSales` like in Q3 above and\n",
    "- marks the status of the products which are not reported in `newSales` as 'unavailable'"
   ]
  },
  {
   "cell_type": "code",
   "execution_count": null,
   "metadata": {
    "colab": {
     "base_uri": "https://localhost:8080/"
    },
    "id": "LawVDl8JIQyI",
    "outputId": "a191e153-51ed-4cba-a2f8-7894d47da263"
   },
   "outputs": [],
   "source": [
    "query = \"\"\"\n",
    "MERGE INTO delta.`/tmp/salesStatus` AS oldData\n",
    "USING newSales\n",
    "ON oldData.product_id = newSales.product_id\n",
    "WHEN MATCHED\n",
    "  THEN UPDATE SET oldData.quantity = oldData.quantity + newSales.quantity,\n",
    "                  oldData.totalprice = oldData.totalprice + newSales.totalprice\n",
    "WHEN NOT MATCHED BY SOURCE\n",
    "  THEN UPDATE SET oldData.status = 'unavailable'\n",
    "\"\"\"\n",
    "spark.sql(query).show()"
   ]
  },
  {
   "cell_type": "code",
   "execution_count": null,
   "metadata": {
    "colab": {
     "base_uri": "https://localhost:8080/"
    },
    "id": "HGoK-tEEIVBc",
    "outputId": "318e2e71-3e55-4ddb-bf06-3d7dd397236a"
   },
   "outputs": [],
   "source": [
    "query = \"\"\"\n",
    "SELECT * FROM delta.`/tmp/salesStatus`\n",
    "\"\"\"\n",
    "spark.sql(query).show()"
   ]
  },
  {
   "cell_type": "markdown",
   "metadata": {
    "id": "D6Q_U_6R1yBP"
   },
   "source": [
    "## Demo 3: Attaching constraints"
   ]
  },
  {
   "cell_type": "markdown",
   "metadata": {
    "id": "wWeLbIQj1-3D"
   },
   "source": [
    "### Not-null constraint"
   ]
  },
  {
   "cell_type": "code",
   "execution_count": null,
   "metadata": {
    "colab": {
     "base_uri": "https://localhost:8080/"
    },
    "id": "5TqMXDUD13mQ",
    "outputId": "d8c99100-2a3f-43c4-a5d5-eaabd7f36891"
   },
   "outputs": [],
   "source": [
    "query = \"\"\"\n",
    "CREATE TABLE default.persons (\n",
    "    serial INT NOT NULL,\n",
    "    name STRING,\n",
    "    birthDate TIMESTAMP,\n",
    "    address STRING\n",
    "  ) USING DELTA;\n",
    "\"\"\"\n",
    "spark.sql(query)"
   ]
  },
  {
   "cell_type": "code",
   "execution_count": null,
   "metadata": {
    "colab": {
     "base_uri": "https://localhost:8080/"
    },
    "id": "ILZAiGWN3HzV",
    "outputId": "6d2b1ae9-fad0-4bcf-cec6-8390402cac6e"
   },
   "outputs": [],
   "source": [
    "query = \"\"\"insert into default.persons values (12345, \"Alice\",\"2000-02-01\" ,\"123 Main St\") \"\"\"\n",
    "spark.sql(query)"
   ]
  },
  {
   "cell_type": "code",
   "execution_count": null,
   "metadata": {
    "colab": {
     "base_uri": "https://localhost:8080/"
    },
    "id": "C7yIbaHm3bmb",
    "outputId": "b0d24d7e-066a-4180-96f7-b5c1ae1d4465"
   },
   "outputs": [],
   "source": [
    "query = \"\"\"select * from default.persons \"\"\"\n",
    "spark.sql(query).show()"
   ]
  },
  {
   "cell_type": "markdown",
   "metadata": {
    "id": "8ukalnEM3tw0"
   },
   "source": [
    "Can we run the following statement?"
   ]
  },
  {
   "cell_type": "code",
   "execution_count": null,
   "metadata": {
    "id": "e4QMxLUrMUsu"
   },
   "outputs": [],
   "source": [
    "# query = \"\"\"insert into default.persons values (null, \"Bob\",\"1996-03-14\" ,\"456 Oak Ave\") \"\"\"\n",
    "# spark.sql(query).show()"
   ]
  },
  {
   "cell_type": "markdown",
   "metadata": {
    "id": "OCQ_46q02BDs"
   },
   "source": [
    "### Predicate constraint"
   ]
  },
  {
   "cell_type": "code",
   "execution_count": null,
   "metadata": {
    "colab": {
     "base_uri": "https://localhost:8080/"
    },
    "id": "yuhD3yaL2GU8",
    "outputId": "285a008f-ac8c-4636-da02-b47c047b3a83"
   },
   "outputs": [],
   "source": [
    "spark.sql(\"\"\" ALTER TABLE default.persons ADD CONSTRAINT birthdate CHECK (birthDate > '2000-01-01'); \"\"\")"
   ]
  },
  {
   "cell_type": "code",
   "execution_count": null,
   "metadata": {
    "colab": {
     "base_uri": "https://localhost:8080/"
    },
    "id": "wWsQJYGi4n0A",
    "outputId": "46cde176-380f-4580-8c14-ea0af7ee791f"
   },
   "outputs": [],
   "source": [
    "spark.sql(\"\"\"SHOW TBLPROPERTIES default.persons\"\"\").show(truncate=False)"
   ]
  },
  {
   "cell_type": "code",
   "execution_count": null,
   "metadata": {
    "colab": {
     "base_uri": "https://localhost:8080/"
    },
    "id": "L2jaoF7H35Uj",
    "outputId": "1436fd37-bfce-42d6-d4d7-9019985a0bee"
   },
   "outputs": [],
   "source": [
    "spark.sql(\"\"\"insert into default.persons values (47962, \"Bob\",\"2003-03-14\" ,\"456 Oak Ave\") \"\"\")"
   ]
  },
  {
   "cell_type": "markdown",
   "metadata": {
    "id": "hESBMIS434pn"
   },
   "source": [
    "Can we run the following statement?"
   ]
  },
  {
   "cell_type": "code",
   "execution_count": null,
   "metadata": {
    "id": "O_zZuSuZlJPD"
   },
   "outputs": [],
   "source": [
    "# spark.sql(\"\"\"insert into default.persons values (47962, \"Bob\",\"1999-03-14\" ,\"456 Oak Ave\") \"\"\")"
   ]
  },
  {
   "cell_type": "markdown",
   "metadata": {
    "id": "HVCjZ2MyDGS5"
   },
   "source": [
    "### Generated columns\n",
    "The following  delta table contains three columns `year`, `month` and `day` that must correspond to the date elements in the `saledate` column."
   ]
  },
  {
   "cell_type": "code",
   "execution_count": null,
   "metadata": {
    "colab": {
     "base_uri": "https://localhost:8080/"
    },
    "id": "nDQp6eD7G-rG",
    "outputId": "05dc3c25-da5d-42cd-db41-3ccfa58e2192"
   },
   "outputs": [],
   "source": [
    "from delta.tables import *\n",
    "\n",
    "DeltaTable.createOrReplace(spark) \\\n",
    "  .tableName(\"default.sales\") \\\n",
    "  .addColumn(\"saleid\", \"STRING\") \\\n",
    "  .addColumn(\"saledate\", \"TIMESTAMP\") \\\n",
    "  .addColumn(\"quantity\", \"INT\") \\\n",
    "  .addColumn(\"year\", \"INT\", generatedAlwaysAs=\"YEAR(saledate)\") \\\n",
    "  .addColumn(\"month\", \"INT\", generatedAlwaysAs=\"MONTH(saledate)\") \\\n",
    "  .addColumn(\"day\", \"INT\", generatedAlwaysAs=\"DAYOFMONTH(saledate)\") \\\n",
    "  .partitionedBy(\"year\", \"month\") \\\n",
    "  .execute()"
   ]
  },
  {
   "cell_type": "code",
   "execution_count": null,
   "metadata": {
    "colab": {
     "base_uri": "https://localhost:8080/"
    },
    "id": "h77HzhcKIPpi",
    "outputId": "841652b0-d401-4223-f901-74e2cc020abe"
   },
   "outputs": [],
   "source": [
    "spark.sql(\"\"\" insert into default.sales\n",
    "            values ('S000000124','2023-02-26 00:00:00',2.0,2023,02,26)  \"\"\")"
   ]
  },
  {
   "cell_type": "code",
   "execution_count": null,
   "metadata": {
    "colab": {
     "base_uri": "https://localhost:8080/"
    },
    "id": "KqE9dVCNIVm0",
    "outputId": "4dca3795-0367-4c6f-fad6-e1769e3b0ea4"
   },
   "outputs": [],
   "source": [
    "spark.sql(\"\"\" select * from default.sales \"\"\").show()"
   ]
  },
  {
   "cell_type": "markdown",
   "metadata": {
    "id": "R0ag38IaIgvW"
   },
   "source": [
    "can we run the following command?"
   ]
  },
  {
   "cell_type": "code",
   "execution_count": null,
   "metadata": {
    "id": "YaBbdOXvIan7"
   },
   "outputs": [],
   "source": [
    "# spark.sql(\"\"\" insert into default.sales values ('S000000124','2024-02-26 00:00:00',2.0,2023,02,26)  \"\"\")"
   ]
  },
  {
   "cell_type": "markdown",
   "metadata": {
    "id": "JgchT6SU7-xR"
   },
   "source": [
    "## Exercice to solve"
   ]
  },
  {
   "cell_type": "markdown",
   "metadata": {
    "id": "Z1G5IVktAXSx"
   },
   "source": [
    "### Data import"
   ]
  },
  {
   "cell_type": "code",
   "execution_count": null,
   "metadata": {
    "colab": {
     "base_uri": "https://localhost:8080/"
    },
    "id": "ordeWbBrN4nx",
    "outputId": "9035c3f1-d0a6-4d0c-8011-488063fd27dd"
   },
   "outputs": [],
   "source": [
    "query = \"\"\"\n",
    "CREATE TABLE IF NOT EXISTS salesOriginal\n",
    "USING csv\n",
    "OPTIONS (\n",
    "  header \"true\",\n",
    "  path \"/tmp/delta/sales/salesOriginal.csv\",\n",
    "  inferSchema \"true\"\n",
    ")\n",
    "\"\"\"\n",
    "spark.sql(query)"
   ]
  },
  {
   "cell_type": "code",
   "execution_count": null,
   "metadata": {
    "colab": {
     "base_uri": "https://localhost:8080/"
    },
    "id": "g0Edbb9NQMdt",
    "outputId": "17a00578-6161-4243-c9a4-4b3bfb9b842b"
   },
   "outputs": [],
   "source": [
    "query = \"\"\"\n",
    "DESCRIBE salesOriginal\n",
    "\"\"\"\n",
    "spark.sql(query).show()"
   ]
  },
  {
   "cell_type": "code",
   "execution_count": null,
   "metadata": {
    "colab": {
     "base_uri": "https://localhost:8080/"
    },
    "id": "s0W7igW8QZbn",
    "outputId": "3d74a610-c7b1-49dc-8abf-8c0b2c0e9d40"
   },
   "outputs": [],
   "source": [
    "query = \"\"\"\n",
    "CREATE TABLE IF NOT EXISTS march23_sales\n",
    "USING csv\n",
    "OPTIONS (\n",
    "  header \"true\",\n",
    "  path \"/tmp/delta/sales/march23_sales.csv\",\n",
    "  inferSchema \"true\"\n",
    ")\n",
    "\"\"\"\n",
    "spark.sql(query)"
   ]
  },
  {
   "cell_type": "code",
   "execution_count": null,
   "metadata": {
    "colab": {
     "base_uri": "https://localhost:8080/"
    },
    "id": "v_tVBHO4QdNU",
    "outputId": "e1d8e204-2581-4d19-9100-070c41e1ecb4"
   },
   "outputs": [],
   "source": [
    "query = \"\"\"\n",
    "DESCRIBE march23_sales\n",
    "\"\"\"\n",
    "spark.sql(query).show()"
   ]
  },
  {
   "cell_type": "code",
   "execution_count": null,
   "metadata": {
    "colab": {
     "base_uri": "https://localhost:8080/"
    },
    "id": "6QfLaZbENqqx",
    "outputId": "49470634-d25b-4162-9ec9-9567abdafc2a"
   },
   "outputs": [],
   "source": [
    "query = \"\"\"\n",
    "SELECT count(*) FROM  march23_sales\n",
    "\"\"\"\n",
    "spark.sql(query).show(5)"
   ]
  },
  {
   "cell_type": "markdown",
   "metadata": {
    "id": "6e_agqb2v0n2"
   },
   "source": [
    "### Creation of the delta tables"
   ]
  },
  {
   "cell_type": "code",
   "execution_count": null,
   "metadata": {
    "colab": {
     "base_uri": "https://localhost:8080/"
    },
    "id": "mWVBUgduQtNF",
    "outputId": "0dd98e6c-8128-4b39-941f-a38495a0bb0f"
   },
   "outputs": [],
   "source": [
    "query = \"\"\"\n",
    "CREATE TABLE delta.`/tmp/deltaSales` USING DELTA AS SELECT * FROM salesOriginal;\n",
    "\"\"\"\n",
    "spark.sql(query)"
   ]
  },
  {
   "cell_type": "code",
   "execution_count": null,
   "metadata": {
    "colab": {
     "base_uri": "https://localhost:8080/"
    },
    "id": "HvFi5eYOREaI",
    "outputId": "c7bb43bd-4953-4ad5-e79a-d72f2603ff2b"
   },
   "outputs": [],
   "source": [
    "query = \"\"\"\n",
    "SELECT * FROM  delta.`/tmp/deltaSales`\n",
    "\"\"\"\n",
    "spark.sql(query).show(5)"
   ]
  },
  {
   "cell_type": "code",
   "execution_count": null,
   "metadata": {
    "colab": {
     "base_uri": "https://localhost:8080/"
    },
    "id": "dUkfdbjjNjaj",
    "outputId": "f2859f29-1b51-4af4-d8e5-b7598fd263c1"
   },
   "outputs": [],
   "source": [
    "query = \"\"\"\n",
    "SELECT count(*) FROM  delta.`/tmp/deltaSales`\n",
    "\"\"\"\n",
    "spark.sql(query).show()"
   ]
  },
  {
   "cell_type": "markdown",
   "metadata": {
    "id": "Dmo8PBuNAK_o"
   },
   "source": [
    "### Adding new records\n",
    "Write a merge statement to insert the march 2023 records into `deltaSales`"
   ]
  },
  {
   "cell_type": "code",
   "execution_count": null,
   "metadata": {
    "colab": {
     "base_uri": "https://localhost:8080/"
    },
    "id": "1QXirBTdN2k8",
    "outputId": "090d4117-90c1-49c0-ff7f-4dbf15826b17"
   },
   "outputs": [],
   "source": [
    "query = \"\"\"\n",
    "MERGE INTO delta.`/tmp/deltaSales` AS oldData\n",
    "USING march23_sales\n",
    "ON oldData.saleid = march23_sales.saleid\n",
    "WHEN NOT MATCHED\n",
    "  THEN INSERT *;\n",
    "\n",
    "\"\"\"\n",
    "spark.sql(query).show()"
   ]
  },
  {
   "cell_type": "markdown",
   "metadata": {
    "id": "jJ0GWq2OAR06"
   },
   "source": [
    "### Updating records\n",
    "Write update statements that increases the unitprice of products sold on 2023, based on their category, as follows: furniture -> 5%, others -> 10%"
   ]
  },
  {
   "cell_type": "code",
   "execution_count": null,
   "metadata": {
    "colab": {
     "base_uri": "https://localhost:8080/"
    },
    "id": "OvjFyUD4PMqr",
    "outputId": "cf9cbcbb-e777-425f-985c-11c8250ad0c6"
   },
   "outputs": [],
   "source": [
    "query = \"\"\"\n",
    "select category, count(*) from delta.`/tmp/deltaSales`\n",
    "WHERE YEAR(saledate) >=2023\n",
    "group by category\n",
    "\"\"\"\n",
    "spark.sql(query).show()"
   ]
  },
  {
   "cell_type": "code",
   "execution_count": null,
   "metadata": {
    "colab": {
     "base_uri": "https://localhost:8080/"
    },
    "id": "UPs31eToTAwT",
    "outputId": "652f44dc-d1f5-4ab9-a95b-f286e579147a"
   },
   "outputs": [],
   "source": [
    "query = \"\"\"\n",
    "update delta.`/tmp/deltaSales`\n",
    "set unitprice=unitprice*1.05\n",
    "WHERE category='Furniture' and YEAR(saledate) >=2023\n",
    "\"\"\"\n",
    "spark.sql(query).show()"
   ]
  },
  {
   "cell_type": "code",
   "execution_count": null,
   "metadata": {
    "colab": {
     "base_uri": "https://localhost:8080/"
    },
    "id": "XYz5VmL-U2qn",
    "outputId": "a66836aa-a320-46dd-d527-cc845c6e3278"
   },
   "outputs": [],
   "source": [
    "query = \"\"\"\n",
    "update delta.`/tmp/deltaSales`\n",
    "set unitprice=unitprice*1.1\n",
    "WHERE category!='Furniture' and YEAR(saledate) >=2023\n",
    "\"\"\"\n",
    "spark.sql(query).show()"
   ]
  },
  {
   "cell_type": "code",
   "execution_count": null,
   "metadata": {
    "id": "NhyKGRPUqoLx"
   },
   "outputs": [],
   "source": []
  },
  {
   "cell_type": "markdown",
   "metadata": {
    "id": "hNyHm2oly6Cg"
   },
   "source": [
    "### Removing old records\n",
    "remove all sales older than 01-Jan-2023. How many records remain?"
   ]
  },
  {
   "cell_type": "code",
   "execution_count": null,
   "metadata": {
    "colab": {
     "base_uri": "https://localhost:8080/"
    },
    "id": "Q7mXQSQWQjNL",
    "outputId": "ecb07373-522c-4b4c-a159-61a8de381820"
   },
   "outputs": [],
   "source": [
    "query = \"\"\"\n",
    "select count(*) from delta.`/tmp/deltaSales`\n",
    "WHERE saledate <'2023-01-01'\n",
    "\"\"\"\n",
    "spark.sql(query).show()"
   ]
  },
  {
   "cell_type": "code",
   "execution_count": null,
   "metadata": {
    "colab": {
     "base_uri": "https://localhost:8080/"
    },
    "id": "3OQOnU2nVMpV",
    "outputId": "bbc6ab66-3351-48c1-a42b-37b344cf4584"
   },
   "outputs": [],
   "source": [
    "query = \"\"\"\n",
    "delete from delta.`/tmp/deltaSales`\n",
    "WHERE saledate <'2023-01-01'\n",
    "\"\"\"\n",
    "spark.sql(query).show()"
   ]
  },
  {
   "cell_type": "markdown",
   "metadata": {
    "id": "3y09Br-I04C8"
   },
   "source": [
    "### History viewing\n"
   ]
  },
  {
   "cell_type": "code",
   "execution_count": null,
   "metadata": {
    "colab": {
     "base_uri": "https://localhost:8080/"
    },
    "id": "LWrOrQfDVfms",
    "outputId": "50485bcb-f146-41b3-e85a-bae4869d4bbb"
   },
   "outputs": [],
   "source": [
    "queryv = \"\"\"\n",
    "DESCRIBE HISTORY delta.`/tmp/deltaSales`\n",
    "\"\"\"\n",
    "dfv = spark.sql(queryv)\n",
    "dfv.show()"
   ]
  },
  {
   "cell_type": "code",
   "execution_count": null,
   "metadata": {
    "colab": {
     "base_uri": "https://localhost:8080/"
    },
    "id": "Zna2qqvSrSXk",
    "outputId": "d6fc2279-abb3-4247-bbc8-ad39c0f51755"
   },
   "outputs": [],
   "source": [
    "dfv = dfv.select(\"operation\",  \"operationMetrics\")\n",
    "# dfv.select(\"operation\", \"operationParameters\")\n",
    "dfv.show(truncate=False)"
   ]
  },
  {
   "cell_type": "markdown",
   "metadata": {
    "id": "a1YclKosWbn5"
   },
   "source": [
    "### Restoring to a previous version"
   ]
  },
  {
   "cell_type": "code",
   "execution_count": null,
   "metadata": {
    "colab": {
     "base_uri": "https://localhost:8080/"
    },
    "id": "ChaMilCYWbQ2",
    "outputId": "94002cf7-4cbf-4a02-ce33-a199bded19ab"
   },
   "outputs": [],
   "source": [
    "query = \"\"\"\n",
    "RESTORE TABLE delta.`/tmp/deltaSales` TO VERSION AS OF 2\n",
    "\"\"\"\n",
    "spark.sql(query).show()"
   ]
  },
  {
   "cell_type": "code",
   "execution_count": null,
   "metadata": {
    "colab": {
     "base_uri": "https://localhost:8080/"
    },
    "id": "N1kkrS1dSGAI",
    "outputId": "58c9fabe-804b-4fcf-daf5-24b186cf4118"
   },
   "outputs": [],
   "source": [
    "query = \"\"\"\n",
    "select count(*) from delta.`/tmp/deltaSales`\n",
    "WHERE saledate <'2023-01-01'\n",
    "\"\"\"\n",
    "spark.sql(query).show()"
   ]
  },
  {
   "cell_type": "code",
   "execution_count": null,
   "metadata": {
    "id": "CqQT52ChWqd1"
   },
   "outputs": [],
   "source": [
    "query = \"\"\"\n",
    "DESCRIBE HISTORY delta.`/tmp/deltaSales`\n",
    "\"\"\"\n",
    "spark.sql(query).show()"
   ]
  },
  {
   "cell_type": "code",
   "execution_count": null,
   "metadata": {
    "colab": {
     "base_uri": "https://localhost:8080/"
    },
    "id": "rKE4VR7lOi00",
    "outputId": "8823d9c3-2b06-4f51-e358-58156de9c610"
   },
   "outputs": [],
   "source": [
    "query = \"\"\"\n",
    "RESTORE TABLE delta.`/tmp/deltaSales` TO VERSION AS OF 4\n",
    "\"\"\"\n",
    "spark.sql(query).show()"
   ]
  },
  {
   "cell_type": "markdown",
   "metadata": {
    "id": "R7oLc2P-juaY"
   },
   "source": [
    "## Demo 4: change data feed"
   ]
  },
  {
   "cell_type": "markdown",
   "metadata": {
    "id": "GZ9_0glRj150"
   },
   "source": [
    "### Table creation with CDF activated"
   ]
  },
  {
   "cell_type": "code",
   "execution_count": null,
   "metadata": {
    "colab": {
     "base_uri": "https://localhost:8080/"
    },
    "id": "DVjvb3jNjxW-",
    "outputId": "5a1f0630-3951-499b-85ba-82a72619b58b"
   },
   "outputs": [],
   "source": [
    "query = \"\"\"\n",
    "CREATE TABLE IF NOT EXISTS salesOriginal\n",
    "USING csv\n",
    "OPTIONS (\n",
    "  header \"true\",\n",
    "  path \"/tmp/delta/sales/salesOriginal.csv\",\n",
    "  inferSchema \"true\"\n",
    ")\n",
    "\"\"\"\n",
    "spark.sql(query)"
   ]
  },
  {
   "cell_type": "code",
   "execution_count": null,
   "metadata": {
    "colab": {
     "base_uri": "https://localhost:8080/"
    },
    "id": "RBYOz4X2j-xT",
    "outputId": "1e1c3de5-76d9-4724-e151-9c29e024763d"
   },
   "outputs": [],
   "source": [
    "query = \"\"\"\n",
    "CREATE TABLE delta.`/tmp/deltaSalesCDF` USING DELTA TBLPROPERTIES (delta.enableChangeDataFeed = true)\n",
    "AS SELECT * FROM salesOriginal\n",
    "\"\"\"\n",
    "spark.sql(query)"
   ]
  },
  {
   "cell_type": "markdown",
   "metadata": {
    "id": "OmzXP3nNkhxi"
   },
   "source": [
    "### CDF for Updates"
   ]
  },
  {
   "cell_type": "code",
   "execution_count": null,
   "metadata": {
    "colab": {
     "base_uri": "https://localhost:8080/"
    },
    "id": "DLJ8O6lWkkhE",
    "outputId": "d7a528b5-608f-4c13-c2eb-858609572b48"
   },
   "outputs": [],
   "source": [
    "query = \"\"\"\n",
    "UPDATE delta.`/tmp/deltaSalesCDF`\n",
    "SET unitprice = unitprice * 1.05\n",
    "WHERE saledate >= '2023-02-01' and category='Cloth'\n",
    "\"\"\"\n",
    "spark.sql(query).show()"
   ]
  },
  {
   "cell_type": "code",
   "execution_count": null,
   "metadata": {
    "colab": {
     "base_uri": "https://localhost:8080/"
    },
    "id": "VxKvoYpfjwys",
    "outputId": "4d61cf62-3213-47b2-9ea0-4a6ee60bdcb4"
   },
   "outputs": [],
   "source": [
    "query = \"\"\"\n",
    "SELECT * FROM table_changes_by_path('/tmp/deltaSalesCDF', 0)\n",
    "\"\"\"\n",
    "spark.sql(query).show()"
   ]
  },
  {
   "cell_type": "code",
   "execution_count": null,
   "metadata": {
    "colab": {
     "base_uri": "https://localhost:8080/"
    },
    "id": "d76UtMwblcHo",
    "outputId": "3091e745-876b-42c2-cb22-8c7361870832"
   },
   "outputs": [],
   "source": [
    "query = \"\"\"\n",
    "SELECT _change_type, _commit_version, _commit_timestamp, count(*)\n",
    "FROM table_changes_by_path('/tmp/deltaSalesCDF', 0)\n",
    "GROUP BY _change_type, _commit_version, _commit_timestamp\n",
    "\"\"\"\n",
    "spark.sql(query).show()"
   ]
  },
  {
   "cell_type": "code",
   "execution_count": null,
   "metadata": {
    "colab": {
     "base_uri": "https://localhost:8080/"
    },
    "id": "vVQbly6BkXeY",
    "outputId": "72eb6d99-f2c4-473e-999b-b949825265da"
   },
   "outputs": [],
   "source": [
    "query = \"\"\"\n",
    "SELECT saleid, _change_type, unitprice\n",
    "FROM table_changes_by_path('/tmp/deltaSalesCDF', 0)\n",
    "WHERE saledate >= '2023-02-01' and category='Cloth' and _commit_version = 1\n",
    "CLUSTER BY saleid\n",
    "\"\"\"\n",
    "spark.sql(query).show()"
   ]
  },
  {
   "cell_type": "markdown",
   "metadata": {
    "id": "OseLpQxFnKCB"
   },
   "source": [
    "### CDF for Deletes"
   ]
  },
  {
   "cell_type": "code",
   "execution_count": null,
   "metadata": {
    "colab": {
     "base_uri": "https://localhost:8080/"
    },
    "id": "384NC-GZnO9w",
    "outputId": "61aff0dc-fd93-4401-9523-6d72abe65b66"
   },
   "outputs": [],
   "source": [
    "query = \"\"\"\n",
    "DELETE FROM delta.`/tmp/deltaSalesCDF`\n",
    "WHERE city = 'Chicago' and category='Cloth'\n",
    "\"\"\"\n",
    "spark.sql(query).show()"
   ]
  },
  {
   "cell_type": "code",
   "execution_count": null,
   "metadata": {
    "colab": {
     "base_uri": "https://localhost:8080/"
    },
    "id": "j2hfvqPWnO2p",
    "outputId": "ccbfa073-b3d2-49b0-a635-1d1b5162cfef"
   },
   "outputs": [],
   "source": [
    "query = \"\"\"\n",
    "SELECT _change_type, _commit_version, _commit_timestamp, count(*)\n",
    "FROM table_changes_by_path('/tmp/deltaSalesCDF', 0)\n",
    "GROUP BY _change_type, _commit_version, _commit_timestamp\n",
    "\"\"\"\n",
    "spark.sql(query).show()"
   ]
  },
  {
   "cell_type": "markdown",
   "metadata": {
    "id": "dvxfKgRCoyTD"
   },
   "source": [
    "Retrieve the deleted records"
   ]
  },
  {
   "cell_type": "code",
   "execution_count": null,
   "metadata": {
    "colab": {
     "base_uri": "https://localhost:8080/"
    },
    "id": "oTEnGL67ovj4",
    "outputId": "5bc8f4f0-94e8-4627-aac5-c765af9379e4"
   },
   "outputs": [],
   "source": [
    "query = \"\"\"\n",
    "SELECT distinct city, category\n",
    "FROM table_changes_by_path('/tmp/deltaSalesCDF', 0)\n",
    "\"\"\"\n",
    "spark.sql(query).show()"
   ]
  },
  {
   "cell_type": "markdown",
   "metadata": {
    "id": "Sp41GQxObYwK"
   },
   "source": [
    "## Query plan analysis"
   ]
  },
  {
   "cell_type": "markdown",
   "metadata": {
    "id": "FK0LmP96bc-e"
   },
   "source": [
    "The goal is to observe the impact of clustering on query plans. We start by creating a tunnel, using the ngrok.com service, to access the Spark GUI.\n",
    "Make sure to have access to ngrok.com by connecting using your google account, for example."
   ]
  },
  {
   "cell_type": "code",
   "execution_count": null,
   "metadata": {
    "id": "pjkiFbq7gLny"
   },
   "outputs": [],
   "source": [
    "spark.conf.set(\"spark.sql.adaptive.enabled\", False)"
   ]
  },
  {
   "cell_type": "code",
   "execution_count": null,
   "metadata": {
    "colab": {
     "base_uri": "https://localhost:8080/"
    },
    "id": "3WOUAa-pSzUo",
    "outputId": "75217fbd-6d73-47af-dfc7-8cb09727f7d7"
   },
   "outputs": [],
   "source": [
    "import getpass\n",
    "\n",
    "from pyngrok import conf, ngrok\n",
    "\n",
    "print(\"Enter your authtoken, which can be copied \"\n",
    "\"from https://dashboard.ngrok.com/get-started/your-authtoken\")\n",
    "conf.get_default().auth_token = getpass.getpass()\n",
    "\n",
    "ui_port = 4040\n",
    "public_url = ngrok.connect(ui_port).public_url\n",
    "print(f\" * ngrok tunnel \\\"{public_url}\\\" -> \\\"http://127.0.0.1:{ui_port}\\\"\")"
   ]
  },
  {
   "cell_type": "markdown",
   "metadata": {
    "id": "wChWGI4xdc9a"
   },
   "source": [
    "### Creation of the partitionned delta tables"
   ]
  },
  {
   "cell_type": "code",
   "execution_count": null,
   "metadata": {
    "colab": {
     "base_uri": "https://localhost:8080/"
    },
    "id": "81GCzQ8ST2yz",
    "outputId": "c3012cf8-715a-4b06-e91d-be1be969cad7"
   },
   "outputs": [],
   "source": [
    "query = \"\"\"\n",
    "CREATE TABLE IF NOT EXISTS salesOriginal\n",
    "USING csv\n",
    "OPTIONS (\n",
    "  header \"true\",\n",
    "  path \"/tmp/delta/sales/salesOriginal.csv\",\n",
    "  inferSchema \"true\"\n",
    ")\n",
    "\"\"\"\n",
    "spark.sql(query)"
   ]
  },
  {
   "cell_type": "markdown",
   "metadata": {
    "id": "qouNuKmLQTMm"
   },
   "source": [
    "#### Partition by one column"
   ]
  },
  {
   "cell_type": "code",
   "execution_count": null,
   "metadata": {
    "colab": {
     "base_uri": "https://localhost:8080/"
    },
    "id": "XAL25djdbdMB",
    "outputId": "55524b65-8dd8-452d-d9cc-4e0a89560f05"
   },
   "outputs": [],
   "source": [
    "query = \"\"\"\n",
    "CREATE TABLE delta.`/tmp/deltaSalesPerCity` USING DELTA PARTITIONED BY (city)\n",
    "AS SELECT * FROM salesOriginal\n",
    "\"\"\"\n",
    "spark.sql(query)"
   ]
  },
  {
   "cell_type": "code",
   "execution_count": null,
   "metadata": {
    "colab": {
     "base_uri": "https://localhost:8080/"
    },
    "id": "cMR7VCgydiZn",
    "outputId": "ff0fa75f-4992-4a7f-c282-e34d7664e16d"
   },
   "outputs": [],
   "source": [
    "query = \"\"\"\n",
    "DESCRIBE delta.`/tmp/deltaSalesPerCity`\n",
    "\"\"\"\n",
    "spark.sql(query).show(truncate=False)"
   ]
  },
  {
   "cell_type": "code",
   "execution_count": null,
   "metadata": {
    "colab": {
     "base_uri": "https://localhost:8080/"
    },
    "id": "eJ6lXtoedtTT",
    "outputId": "93e9fcce-1c5e-47a9-8f32-544b83cdf414"
   },
   "outputs": [],
   "source": [
    "! ls /tmp/deltaSalesPerCity"
   ]
  },
  {
   "cell_type": "code",
   "execution_count": null,
   "metadata": {
    "colab": {
     "base_uri": "https://localhost:8080/"
    },
    "id": "lsrBHb1vd5G5",
    "outputId": "7caafb4d-2e75-4b36-e5b4-6f32c3a0e937"
   },
   "outputs": [],
   "source": [
    "! ls /tmp/deltaSalesPerCity/'city=Bergamo'"
   ]
  },
  {
   "cell_type": "code",
   "execution_count": null,
   "metadata": {
    "id": "_Z1mzma8TwUr"
   },
   "outputs": [],
   "source": [
    "%%capture\n",
    "%pip install parquet-tools"
   ]
  },
  {
   "cell_type": "code",
   "execution_count": null,
   "metadata": {
    "colab": {
     "base_uri": "https://localhost:8080/"
    },
    "id": "amPvgX9aUiSN",
    "outputId": "26616c8c-9d1c-405c-ba1f-98153a889bdd"
   },
   "outputs": [],
   "source": [
    "%parquet-tools inspect --detail /tmp/deltaSalesPerCity/'city=Chicago'/*parquet"
   ]
  },
  {
   "cell_type": "code",
   "execution_count": null,
   "metadata": {
    "colab": {
     "base_uri": "https://localhost:8080/"
    },
    "id": "pQl-CJPHTxKo",
    "outputId": "d3dca716-0192-4bee-8351-59a1bb46b698"
   },
   "outputs": [],
   "source": [
    "%parquet-tools inspect --detail /tmp/deltaSalesPerCity/'city=Bergamo'/*parquet"
   ]
  },
  {
   "cell_type": "markdown",
   "metadata": {
    "id": "6jbB6lVIQcUb"
   },
   "source": [
    "#### Partition by two columns"
   ]
  },
  {
   "cell_type": "code",
   "execution_count": null,
   "metadata": {
    "colab": {
     "base_uri": "https://localhost:8080/"
    },
    "id": "OFlYJvLNdIiC",
    "outputId": "e330d52c-0f45-4d6c-8d6a-c6c869caa904"
   },
   "outputs": [],
   "source": [
    "query = \"\"\"\n",
    "CREATE TABLE delta.`/tmp/deltaSalesPerCityCategory` USING DELTA PARTITIONED BY (city,category)\n",
    "AS SELECT * FROM salesOriginal\n",
    "\"\"\"\n",
    "spark.sql(query)"
   ]
  },
  {
   "cell_type": "code",
   "execution_count": null,
   "metadata": {
    "colab": {
     "base_uri": "https://localhost:8080/"
    },
    "id": "mH77O5MVdY_t",
    "outputId": "d1092934-fe5a-4c2d-e7a9-9d60654c5285"
   },
   "outputs": [],
   "source": [
    "query = \"\"\"\n",
    "DESCRIBE delta.`/tmp/deltaSalesPerCityCategory`\n",
    "\"\"\"\n",
    "spark.sql(query).show(truncate=False)"
   ]
  },
  {
   "cell_type": "code",
   "execution_count": null,
   "metadata": {
    "colab": {
     "base_uri": "https://localhost:8080/"
    },
    "id": "sCOh_T95ddDE",
    "outputId": "d74c4e89-da73-4963-e27b-ed0d5705cf62"
   },
   "outputs": [],
   "source": [
    "! ls /tmp/deltaSalesPerCityCategory"
   ]
  },
  {
   "cell_type": "code",
   "execution_count": null,
   "metadata": {
    "colab": {
     "base_uri": "https://localhost:8080/"
    },
    "id": "n5v17k81dodg",
    "outputId": "0439631c-a1f6-42a2-c98a-65a90a9f0d55"
   },
   "outputs": [],
   "source": [
    "! ls /tmp/deltaSalesPerCityCategory/'city=Bergamo'"
   ]
  },
  {
   "cell_type": "code",
   "execution_count": null,
   "metadata": {
    "colab": {
     "base_uri": "https://localhost:8080/"
    },
    "id": "PFULTUFuYGWC",
    "outputId": "59d1d8b3-8ed1-4965-b8aa-7868f5dc166a"
   },
   "outputs": [],
   "source": [
    "! ls /tmp/deltaSalesPerCityCategory/_delta_log"
   ]
  },
  {
   "cell_type": "markdown",
   "metadata": {
    "id": "sp2_U2rfeSLr"
   },
   "source": [
    "### Comparing the query plans"
   ]
  },
  {
   "cell_type": "markdown",
   "metadata": {
    "id": "FXEjT5Y_g3Ry"
   },
   "source": [
    "#### selection query on the partitionning column"
   ]
  },
  {
   "cell_type": "code",
   "execution_count": null,
   "metadata": {
    "colab": {
     "base_uri": "https://localhost:8080/"
    },
    "id": "mNrjessAfmdc",
    "outputId": "1d0cac70-1505-48d7-87aa-d90248980fa6"
   },
   "outputs": [],
   "source": [
    "spark.sparkContext.setJobDescription('P1: selection salesOriginal on city = SF or C')\n",
    "\n",
    "query = \"\"\"\n",
    "SELECT sum(quantity) as sumQty, max(unitprice) as maxPrice\n",
    "FROM salesOriginal\n",
    "WHERE city in('San Francisco', 'Chicago')\n",
    "\"\"\"\n",
    "spark.sql(query).collect()"
   ]
  },
  {
   "cell_type": "code",
   "execution_count": null,
   "metadata": {
    "colab": {
     "base_uri": "https://localhost:8080/"
    },
    "id": "Hb5EZGayf71D",
    "outputId": "f22eafc8-5127-400c-98c2-ffbed3fb7673"
   },
   "outputs": [],
   "source": [
    "spark.sparkContext.setJobDescription('P2: selection deltaSalesPerCity on city = SF or C')\n",
    "\n",
    "query = \"\"\"\n",
    "SELECT sum(quantity) as sumQty, max(unitprice) as maxPrice\n",
    "FROM delta.`/tmp/deltaSalesPerCity`\n",
    "WHERE city in('San Francisco', 'Chicago')\n",
    "\"\"\"\n",
    "spark.sql(query).collect()"
   ]
  },
  {
   "cell_type": "markdown",
   "metadata": {
    "id": "iWlB-XC1-LH3"
   },
   "source": [
    "report and compare the number of files and size of data read in the two above plans\n",
    "- P1\n",
    "- P2"
   ]
  },
  {
   "cell_type": "code",
   "execution_count": null,
   "metadata": {
    "colab": {
     "base_uri": "https://localhost:8080/"
    },
    "id": "y9L3-WJASETG",
    "outputId": "53db04b7-545e-404f-8f15-5c0e9ac3ad04"
   },
   "outputs": [],
   "source": [
    "spark.sparkContext.setJobDescription('P3: selection salesOriginal on category = C')\n",
    "\n",
    "query = \"\"\"\n",
    "SELECT sum(quantity) as sumQty, max(unitprice) as maxPrice\n",
    "FROM salesOriginal\n",
    "WHERE category = 'Cloth'\n",
    "\"\"\"\n",
    "spark.sql(query).collect()"
   ]
  },
  {
   "cell_type": "code",
   "execution_count": null,
   "metadata": {
    "colab": {
     "base_uri": "https://localhost:8080/"
    },
    "id": "pTp7SO8eSC9s",
    "outputId": "4de06517-1d6a-48d5-a3af-5a343aec3077"
   },
   "outputs": [],
   "source": [
    "spark.sparkContext.setJobDescription('P4 selection deltaSalesPerCityCategory on category = C')\n",
    "\n",
    "query = \"\"\"\n",
    "SELECT sum(quantity) as sumQty, max(unitprice) as maxPrice\n",
    "FROM delta.`/tmp/deltaSalesPerCityCategory`\n",
    "WHERE category = 'Cloth'\n",
    "\"\"\"\n",
    "spark.sql(query).collect()"
   ]
  },
  {
   "cell_type": "markdown",
   "metadata": {
    "id": "eOMjfXvT_KGy"
   },
   "source": [
    "report and compare the number of files and size of data read in the two above plans\n",
    "- P3\n",
    "- P4"
   ]
  },
  {
   "cell_type": "markdown",
   "metadata": {
    "id": "tbe8NswrWrsz"
   },
   "source": [
    "#### selection query on a column not used for partitionning"
   ]
  },
  {
   "cell_type": "code",
   "execution_count": null,
   "metadata": {
    "colab": {
     "base_uri": "https://localhost:8080/"
    },
    "id": "jnrw7x9pW12_",
    "outputId": "99d64981-8f28-4534-bc3c-c2238ecb45bc"
   },
   "outputs": [],
   "source": [
    "spark.sparkContext.setJobDescription('P5 selection salesOriginal on country = G or I')\n",
    "\n",
    "query = \"\"\"\n",
    "SELECT sum(quantity) as sumQty, max(unitprice) as maxPrice\n",
    "FROM salesOriginal\n",
    "WHERE country in ('Germany', 'Italy')\n",
    "\"\"\"\n",
    "spark.sql(query).collect()"
   ]
  },
  {
   "cell_type": "code",
   "execution_count": null,
   "metadata": {
    "colab": {
     "base_uri": "https://localhost:8080/"
    },
    "id": "OMxYv41aW4BR",
    "outputId": "6c94cdbd-ebbd-48bb-dcae-e734a4fa6b19"
   },
   "outputs": [],
   "source": [
    "spark.sparkContext.setJobDescription('P6 selection deltaSalesPerCity on country = G or I')\n",
    "\n",
    "query = \"\"\"\n",
    "SELECT sum(quantity) as sumQty, max(unitprice) as maxPrice\n",
    "FROM delta.`/tmp/deltaSalesPerCity`\n",
    "WHERE country in ('Germany', 'Italy')\n",
    "\"\"\"\n",
    "spark.sql(query).collect()"
   ]
  },
  {
   "cell_type": "markdown",
   "metadata": {
    "id": "wS7Mnm1y_wHt"
   },
   "source": [
    "report and compare the number of files and size of data read in the two above plans\n",
    "- P5\n",
    "- P6"
   ]
  },
  {
   "cell_type": "markdown",
   "metadata": {
    "id": "MppWYwCjezIP"
   },
   "source": [
    "#### aggregation query on the partitionning column"
   ]
  },
  {
   "cell_type": "code",
   "execution_count": null,
   "metadata": {
    "colab": {
     "base_uri": "https://localhost:8080/"
    },
    "id": "_8puO38ad0Ax",
    "outputId": "0828d682-133c-40c1-ad02-c22254141918"
   },
   "outputs": [],
   "source": [
    "spark.sparkContext.setJobDescription('P7 aggregation salesOriginal on city')\n",
    "\n",
    "query = \"\"\"\n",
    "SELECT city, sum(quantity) as sumQty, max(unitprice) as maxPrice\n",
    "FROM salesOriginal\n",
    "group by city\n",
    "\"\"\"\n",
    "spark.sql(query).collect()[0]"
   ]
  },
  {
   "cell_type": "code",
   "execution_count": null,
   "metadata": {
    "colab": {
     "base_uri": "https://localhost:8080/"
    },
    "id": "VhXpTsWqeyW3",
    "outputId": "12062ded-fe08-4a5d-941b-4b9e4bba7755"
   },
   "outputs": [],
   "source": [
    "spark.sparkContext.setJobDescription('P8 aggregation deltaSalesPerCity on city')\n",
    "\n",
    "query = \"\"\"\n",
    "SELECT city, sum(quantity) as sumQty, max(unitprice) as maxPrice\n",
    "FROM delta.`/tmp/deltaSalesPerCity`\n",
    "group by city\n",
    "\"\"\"\n",
    "spark.sql(query).collect()[0]"
   ]
  },
  {
   "cell_type": "markdown",
   "metadata": {
    "id": "EfO1YeUyC9cO"
   },
   "source": [
    "report and compare the number of files and size of data read in the two above plans\n",
    "- P7\n",
    "- P8"
   ]
  },
  {
   "cell_type": "markdown",
   "metadata": {
    "id": "Cf_TDu65ZXGX"
   },
   "source": [
    "#### aggregation query on a column not used for partitionning"
   ]
  },
  {
   "cell_type": "code",
   "execution_count": null,
   "metadata": {
    "colab": {
     "base_uri": "https://localhost:8080/"
    },
    "id": "16TGl-v1ZhjN",
    "outputId": "93b529fd-893e-4a4e-d352-f6f5ad88074e"
   },
   "outputs": [],
   "source": [
    "spark.sparkContext.setJobDescription('P9 aggregation salesOriginal on country')\n",
    "\n",
    "query = \"\"\"\n",
    "SELECT country, sum(quantity) as sumQty, max(unitprice) as maxPrice\n",
    "FROM salesOriginal\n",
    "group by country\n",
    "\"\"\"\n",
    "spark.sql(query).collect()[0]"
   ]
  },
  {
   "cell_type": "code",
   "execution_count": null,
   "metadata": {
    "colab": {
     "base_uri": "https://localhost:8080/"
    },
    "id": "-VPmkIpJZhSg",
    "outputId": "b669b8a4-5159-4924-96d5-958546578d86"
   },
   "outputs": [],
   "source": [
    "spark.sparkContext.setJobDescription('P10 aggregation deltaSalesPerCity on country')\n",
    "\n",
    "query = \"\"\"\n",
    "SELECT country, sum(quantity) as sumQty, max(unitprice) as maxPrice\n",
    "FROM delta.`/tmp/deltaSalesPerCity`\n",
    "group by country\n",
    "\"\"\"\n",
    "spark.sql(query).collect()[0]"
   ]
  },
  {
   "cell_type": "markdown",
   "metadata": {
    "id": "ggjgvg1wDTaq"
   },
   "source": [
    "report and compare the number of files and size of data read in the two above plans\n",
    "- P9\n",
    "- P10"
   ]
  }
 ],
 "metadata": {
  "colab": {
   "provenance": [],
   "toc_visible": true
  },
  "kernelspec": {
   "display_name": ".env",
   "language": "python",
   "name": "python3"
  },
  "language_info": {
   "codemirror_mode": {
    "name": "ipython",
    "version": 3
   },
   "file_extension": ".py",
   "mimetype": "text/x-python",
   "name": "python",
   "nbconvert_exporter": "python",
   "pygments_lexer": "ipython3",
   "version": "3.10.12"
  }
 },
 "nbformat": 4,
 "nbformat_minor": 0
}

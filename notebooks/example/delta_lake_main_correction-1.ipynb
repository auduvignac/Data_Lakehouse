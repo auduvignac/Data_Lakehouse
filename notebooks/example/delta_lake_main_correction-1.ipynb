{
  "cells": [
    {
      "cell_type": "markdown",
      "metadata": {
        "id": "GwjrdGLoXzly"
      },
      "source": [
        "* Formation Continue EMIASD, Univ. Paris Dauphine, Promo 6\n",
        "* Author: Mohamed-Amine Baazizi\n",
        "* Affiliation: LIP6 - Faculté des Sciences - Sorbonne Université\n",
        "* Email: mohamed-amine.baazizi@lip6.fr\n",
        "* Reusing without consent of the author is strictly forbidden\n",
        "* June 2025\n",
        "\n",
        "<p align=\"center\">\n",
        "  <a href=\"https://colab.research.google.com/github/auduvignac/Data_Lakehouse/blob/main/notebooks/example/delta_lake_main_correction-1.ipynb\" target=\"_blank\">\n",
        "  <img src=\"https://colab.research.google.com/assets/colab-badge.svg\" alt=\"Ouvrir dans Google Colab\"/>\n",
        "  </a>\n",
        "</p>"
      ]
    },
    {
      "cell_type": "markdown",
      "metadata": {
        "id": "GunJfIR6YM_h"
      },
      "source": [
        "# Delta Lake\n"
      ]
    },
    {
      "cell_type": "markdown",
      "metadata": {
        "id": "-kfCqy7EtbGd"
      },
      "source": [
        "## Outline"
      ]
    },
    {
      "cell_type": "markdown",
      "metadata": {
        "id": "GpI9l0JZYRdh"
      },
      "source": [
        "This lab is dedicated to practicing Delta Lake. It begins with a set of demos meant to illustrate the usage of Delta, on small examples.\n",
        "A use case based on realistic data is then presented and followed by the analysis of query plans generated for Delta operations.\n",
        "\n",
        "\n",
        "For the official documentation visit https://docs.delta.io/latest/index.html\n",
        "\n",
        "\n",
        "\n",
        "\n",
        "\n",
        "\n",
        "\n"
      ]
    },
    {
      "cell_type": "markdown",
      "metadata": {
        "id": "csSU_SanYPJQ"
      },
      "source": [
        "## Prerequisite"
      ]
    },
    {
      "cell_type": "code",
      "source": [
        "!wget -q https://raw.githubusercontent.com/auduvignac/Data_Lakehouse/refs/heads/main/setup_env.py -O setup_env.py\n",
        "%run setup_env.py"
      ],
      "metadata": {
        "id": "B0FX_3q2l4PB",
        "outputId": "ed106555-16fc-42a2-8d23-2259771ae9eb",
        "colab": {
          "base_uri": "https://localhost:8080/"
        }
      },
      "execution_count": 1,
      "outputs": [
        {
          "output_type": "stream",
          "name": "stdout",
          "text": [
            "⚡ Exécution sur Colab : vérification stricte des dépendances…\n",
            "✅ delta-spark 3.2.1 — OK\n",
            "✅ parquet-tools 0.2.16 — OK\n",
            "✅ pyngrok 7.3.0 — OK\n",
            "✅ pyspark 3.5.3 — OK\n",
            "✅ Toutes les dépendances satisfont les contraintes.\n"
          ]
        }
      ]
    },
    {
      "cell_type": "markdown",
      "metadata": {
        "id": "BYxx4XY_TN0H"
      },
      "source": [
        "### System setup"
      ]
    },
    {
      "cell_type": "code",
      "execution_count": null,
      "metadata": {
        "id": "mW_DrY7ZlUj_"
      },
      "outputs": [],
      "source": [
        "%%capture\n",
        "%pip install pyspark==3.5.3\n",
        "%pip install -q delta-spark==3.2.1\n",
        "%pip install pyngrok"
      ]
    },
    {
      "cell_type": "code",
      "execution_count": null,
      "metadata": {
        "id": "o1YXYF4nWHNE"
      },
      "outputs": [],
      "source": [
        "%pip list|grep spark"
      ]
    },
    {
      "cell_type": "code",
      "execution_count": null,
      "metadata": {
        "id": "YleMAo5BgR0P"
      },
      "outputs": [],
      "source": [
        "import pyspark\n",
        "\n",
        "print(f\"PySpark version: {pyspark.__version__}\")"
      ]
    },
    {
      "cell_type": "code",
      "execution_count": 2,
      "metadata": {
        "id": "ZGcYc-DKqpUi"
      },
      "outputs": [],
      "source": [
        "from pyspark import SparkConf\n",
        "from pyspark.context import SparkContext\n",
        "from pyspark.sql import SparkSession\n",
        "\n",
        "local = \"local[*]\"\n",
        "appName = \"Formation Continue EMIASD - Delta Lake \"\n",
        "localConfig = SparkConf().setAppName(appName).setMaster(local).\\\n",
        "  set(\"spark.executor.memory\", \"8G\").\\\n",
        "  set(\"spark.driver.memory\",\"8G\").\\\n",
        "  set(\"spark.sql.catalogImplementation\",\"in-memory\").\\\n",
        "  set(\"spark.sql.extensions\",\"io.delta.sql.DeltaSparkSessionExtension\").\\\n",
        "  set(\"spark.sql.catalog.spark_catalog\",\"org.apache.spark.sql.delta.catalog.DeltaCatalog\").\\\n",
        "  set(\"spark.jars.packages\",\"io.delta:delta-spark_2.12:3.1.0\").\\\n",
        "  set(\"spark.databricks.delta.schema.autoMerge.enabled\",\"true\")\n",
        "\n",
        "spark = SparkSession.builder.config(conf = localConfig).getOrCreate()\n",
        "sc = spark.sparkContext\n",
        "sc.setLogLevel(\"ERROR\")"
      ]
    },
    {
      "cell_type": "code",
      "execution_count": null,
      "metadata": {
        "id": "tvPytoK4Xl3t"
      },
      "outputs": [],
      "source": [
        "spark"
      ]
    },
    {
      "cell_type": "markdown",
      "metadata": {
        "id": "uEE-92qgTQ4p"
      },
      "source": [
        "### Data import"
      ]
    },
    {
      "cell_type": "code",
      "execution_count": 3,
      "metadata": {
        "id": "95fudS-iTbB5"
      },
      "outputs": [],
      "source": [
        "%%capture\n",
        "! wget https://nuage.lip6.fr/s/BbQ9rzGHKJexKYp/download/sales.tar -O /tmp/sales.tar\n",
        "!mkdir /tmp/delta\n",
        "! tar xvf /tmp/sales.tar -C /tmp/delta"
      ]
    },
    {
      "cell_type": "code",
      "execution_count": 4,
      "metadata": {
        "colab": {
          "base_uri": "https://localhost:8080/"
        },
        "id": "o7YspSlaTdTh",
        "outputId": "13a0dc33-04a9-440e-c0d5-aed8626e5d49"
      },
      "outputs": [
        {
          "output_type": "stream",
          "name": "stdout",
          "text": [
            "march23_sales.csv  salesOriginal.csv\n"
          ]
        }
      ],
      "source": [
        "!ls /tmp/delta/sales"
      ]
    },
    {
      "cell_type": "markdown",
      "metadata": {
        "id": "PPmP7vcOr6XX"
      },
      "source": [
        "## Demo1: first steps"
      ]
    },
    {
      "cell_type": "markdown",
      "metadata": {
        "id": "6sBb4C8GteZR"
      },
      "source": [
        "### load the data into delta"
      ]
    },
    {
      "cell_type": "code",
      "execution_count": 5,
      "metadata": {
        "colab": {
          "base_uri": "https://localhost:8080/"
        },
        "id": "4pqEJ8Q5Y4SX",
        "outputId": "a1f4041b-26b0-4f70-8a51-c5ac973882f0"
      },
      "outputs": [
        {
          "output_type": "execute_result",
          "data": {
            "text/plain": [
              "DataFrame[]"
            ]
          },
          "metadata": {},
          "execution_count": 5
        }
      ],
      "source": [
        "query = \"\"\"\n",
        "CREATE TABLE IF NOT EXISTS delta.`/tmp/delta-table` USING DELTA AS\n",
        "SELECT col1 AS id\n",
        "FROM\n",
        "VALUES 0,\n",
        "       1,\n",
        "       2,\n",
        "       3,\n",
        "       4;\n",
        "\"\"\"\n",
        "spark.sql(query)"
      ]
    },
    {
      "cell_type": "code",
      "execution_count": 6,
      "metadata": {
        "colab": {
          "base_uri": "https://localhost:8080/"
        },
        "id": "0biz8Q2kZGh5",
        "outputId": "98965883-1b4b-4a93-eed1-64b25aa2145a"
      },
      "outputs": [
        {
          "output_type": "stream",
          "name": "stdout",
          "text": [
            "+---+\n",
            "| id|\n",
            "+---+\n",
            "|  1|\n",
            "|  3|\n",
            "|  5|\n",
            "|  7|\n",
            "|  9|\n",
            "| 11|\n",
            "| 13|\n",
            "| 15|\n",
            "| 17|\n",
            "| 19|\n",
            "+---+\n",
            "\n"
          ]
        }
      ],
      "source": [
        "query = \"\"\"\n",
        "SELECT *\n",
        "FROM delta.`/tmp/delta-table`;\n",
        "\"\"\"\n",
        "spark.sql(query).show()"
      ]
    },
    {
      "cell_type": "markdown",
      "metadata": {
        "id": "7gC5yWqIti5z"
      },
      "source": [
        "### update the data\n",
        "#### overwrite"
      ]
    },
    {
      "cell_type": "code",
      "execution_count": 7,
      "metadata": {
        "colab": {
          "base_uri": "https://localhost:8080/"
        },
        "id": "54vtYTfOZWMg",
        "outputId": "0a390c45-8dd2-473e-ece0-25f39d3d2af2"
      },
      "outputs": [
        {
          "output_type": "execute_result",
          "data": {
            "text/plain": [
              "DataFrame[]"
            ]
          },
          "metadata": {},
          "execution_count": 7
        }
      ],
      "source": [
        "query = \"\"\"\n",
        "INSERT OVERWRITE delta.`/tmp/delta-table`\n",
        "SELECT col1 AS id\n",
        "FROM\n",
        "VALUES 5,\n",
        "       6,\n",
        "       7,\n",
        "       8,\n",
        "       9;\n",
        "\"\"\"\n",
        "spark.sql(query)"
      ]
    },
    {
      "cell_type": "code",
      "execution_count": 8,
      "metadata": {
        "colab": {
          "base_uri": "https://localhost:8080/"
        },
        "id": "d4UkNiH4ZanE",
        "outputId": "25747cd6-a4e8-4289-8617-f56b5f65eee2"
      },
      "outputs": [
        {
          "output_type": "stream",
          "name": "stdout",
          "text": [
            "+---+\n",
            "| id|\n",
            "+---+\n",
            "|  7|\n",
            "|  8|\n",
            "|  9|\n",
            "|  5|\n",
            "|  6|\n",
            "+---+\n",
            "\n"
          ]
        }
      ],
      "source": [
        "query = \"\"\"\n",
        "SELECT *\n",
        "FROM delta.`/tmp/delta-table`;\n",
        "\"\"\"\n",
        "spark.sql(query).show()"
      ]
    },
    {
      "cell_type": "markdown",
      "metadata": {
        "id": "n51K-OE-zEbi"
      },
      "source": [
        "#### conditional overwrite"
      ]
    },
    {
      "cell_type": "code",
      "execution_count": 9,
      "metadata": {
        "colab": {
          "base_uri": "https://localhost:8080/"
        },
        "id": "PgZYQlzKZmC-",
        "outputId": "3fbc6b0d-61e3-4a16-906f-5945ac322c0e"
      },
      "outputs": [
        {
          "output_type": "execute_result",
          "data": {
            "text/plain": [
              "DataFrame[num_affected_rows: bigint]"
            ]
          },
          "metadata": {},
          "execution_count": 9
        }
      ],
      "source": [
        "query = \"\"\"\n",
        "UPDATE delta.`/tmp/delta-table`\n",
        "SET id = id + 100\n",
        "WHERE id % 2 == 0;\n",
        "\"\"\"\n",
        "spark.sql(query)"
      ]
    },
    {
      "cell_type": "code",
      "execution_count": 10,
      "metadata": {
        "colab": {
          "base_uri": "https://localhost:8080/"
        },
        "id": "ZGyGJUbTZ5Tk",
        "outputId": "fc8bb63c-5276-48cc-ee32-14aeed3771bf"
      },
      "outputs": [
        {
          "output_type": "stream",
          "name": "stdout",
          "text": [
            "+---+\n",
            "| id|\n",
            "+---+\n",
            "|  7|\n",
            "|108|\n",
            "|  9|\n",
            "|  5|\n",
            "|106|\n",
            "+---+\n",
            "\n"
          ]
        }
      ],
      "source": [
        "query = \"\"\"\n",
        "SELECT *\n",
        "FROM delta.`/tmp/delta-table`;\n",
        "\"\"\"\n",
        "spark.sql(query).show()"
      ]
    },
    {
      "cell_type": "code",
      "execution_count": 11,
      "metadata": {
        "colab": {
          "base_uri": "https://localhost:8080/"
        },
        "id": "WEOePP5UaIhx",
        "outputId": "116a6ed0-0abb-4ac3-b4e5-85995c0b7768"
      },
      "outputs": [
        {
          "output_type": "execute_result",
          "data": {
            "text/plain": [
              "DataFrame[num_affected_rows: bigint]"
            ]
          },
          "metadata": {},
          "execution_count": 11
        }
      ],
      "source": [
        "query = \"\"\"\n",
        "DELETE\n",
        "FROM delta.`/tmp/delta-table`\n",
        "WHERE id % 2 == 0;\n",
        "\"\"\"\n",
        "spark.sql(query)"
      ]
    },
    {
      "cell_type": "code",
      "execution_count": 12,
      "metadata": {
        "colab": {
          "base_uri": "https://localhost:8080/"
        },
        "id": "Tycomqu-aIfb",
        "outputId": "c9ad5646-5568-48f6-bc62-dd3dd0a68f98"
      },
      "outputs": [
        {
          "output_type": "stream",
          "name": "stdout",
          "text": [
            "+---+\n",
            "| id|\n",
            "+---+\n",
            "|  7|\n",
            "|  9|\n",
            "|  5|\n",
            "+---+\n",
            "\n"
          ]
        }
      ],
      "source": [
        "query = \"\"\"\n",
        "SELECT *\n",
        "FROM delta.`/tmp/delta-table`;\n",
        "\"\"\"\n",
        "spark.sql(query).show()"
      ]
    },
    {
      "cell_type": "code",
      "execution_count": 13,
      "metadata": {
        "colab": {
          "base_uri": "https://localhost:8080/"
        },
        "id": "vwV6XupUaPIL",
        "outputId": "0b04a42d-73a7-477d-ced4-dfc8eee474da"
      },
      "outputs": [
        {
          "output_type": "execute_result",
          "data": {
            "text/plain": [
              "DataFrame[]"
            ]
          },
          "metadata": {},
          "execution_count": 13
        }
      ],
      "source": [
        "query = \"\"\"\n",
        "CREATE OR REPLACE TEMP VIEW newData AS\n",
        "SELECT col1 AS id\n",
        "FROM\n",
        "VALUES 1,\n",
        "       3,\n",
        "       5,\n",
        "       7,\n",
        "       9,\n",
        "       11,\n",
        "       13,\n",
        "       15,\n",
        "       17,\n",
        "       19;\n",
        "\"\"\"\n",
        "spark.sql(query)"
      ]
    },
    {
      "cell_type": "code",
      "execution_count": 14,
      "metadata": {
        "colab": {
          "base_uri": "https://localhost:8080/"
        },
        "id": "M96V_5IBaZhE",
        "outputId": "9d9cb832-3ce9-448e-cd27-f09d39375714"
      },
      "outputs": [
        {
          "output_type": "stream",
          "name": "stdout",
          "text": [
            "+---+\n",
            "| id|\n",
            "+---+\n",
            "|  1|\n",
            "|  3|\n",
            "|  5|\n",
            "|  7|\n",
            "|  9|\n",
            "| 11|\n",
            "| 13|\n",
            "| 15|\n",
            "| 17|\n",
            "| 19|\n",
            "+---+\n",
            "\n"
          ]
        }
      ],
      "source": [
        "query = \"\"\"\n",
        "SELECT *\n",
        "FROM `newData`;\n",
        "\"\"\"\n",
        "spark.sql(query).show()"
      ]
    },
    {
      "cell_type": "code",
      "execution_count": 15,
      "metadata": {
        "colab": {
          "base_uri": "https://localhost:8080/"
        },
        "id": "3bPAmhZlaWez",
        "outputId": "176ad20d-6f2d-4334-964b-886314cd19cb"
      },
      "outputs": [
        {
          "output_type": "execute_result",
          "data": {
            "text/plain": [
              "DataFrame[num_affected_rows: bigint, num_updated_rows: bigint, num_deleted_rows: bigint, num_inserted_rows: bigint]"
            ]
          },
          "metadata": {},
          "execution_count": 15
        }
      ],
      "source": [
        "query = \"\"\"\n",
        "MERGE INTO delta.`/tmp/delta-table` AS oldData\n",
        "USING newData\n",
        "ON oldData.id = newData.id\n",
        "WHEN MATCHED\n",
        "  THEN UPDATE SET id = newData.id\n",
        "WHEN NOT MATCHED\n",
        "  THEN INSERT (id) VALUES (newData.id);\n",
        "\"\"\"\n",
        "spark.sql(query)"
      ]
    },
    {
      "cell_type": "code",
      "execution_count": 16,
      "metadata": {
        "colab": {
          "base_uri": "https://localhost:8080/"
        },
        "id": "EVIy7AOmaPA5",
        "outputId": "573f8bd0-df51-4fee-976c-94bd5f44b5f6"
      },
      "outputs": [
        {
          "output_type": "stream",
          "name": "stdout",
          "text": [
            "+---+\n",
            "| id|\n",
            "+---+\n",
            "|  1|\n",
            "|  3|\n",
            "|  5|\n",
            "|  7|\n",
            "|  9|\n",
            "| 11|\n",
            "| 13|\n",
            "| 15|\n",
            "| 17|\n",
            "| 19|\n",
            "+---+\n",
            "\n"
          ]
        }
      ],
      "source": [
        "query = \"\"\"\n",
        "SELECT *\n",
        "FROM delta.`/tmp/delta-table`;\n",
        "\"\"\"\n",
        "spark.sql(query).show()"
      ]
    },
    {
      "cell_type": "markdown",
      "metadata": {
        "id": "LFk6LjuF6YLI"
      },
      "source": [
        "### view history"
      ]
    },
    {
      "cell_type": "code",
      "execution_count": 17,
      "metadata": {
        "colab": {
          "base_uri": "https://localhost:8080/"
        },
        "id": "4M23w7FrbuRj",
        "outputId": "96ffd876-4a7c-48af-b273-0b73927b7f51"
      },
      "outputs": [
        {
          "output_type": "stream",
          "name": "stdout",
          "text": [
            "+---+\n",
            "| id|\n",
            "+---+\n",
            "|  2|\n",
            "|  3|\n",
            "|  4|\n",
            "|  0|\n",
            "|  1|\n",
            "+---+\n",
            "\n"
          ]
        }
      ],
      "source": [
        "query = \"\"\"\n",
        "SELECT *\n",
        "FROM delta.`/tmp/delta-table` VERSION AS OF 0;\n",
        "\"\"\"\n",
        "spark.sql(query).show()"
      ]
    },
    {
      "cell_type": "code",
      "execution_count": 18,
      "metadata": {
        "colab": {
          "base_uri": "https://localhost:8080/"
        },
        "id": "BxTIpNxYbzDV",
        "outputId": "e1f90bdb-b124-497d-bd65-aaa45d46d331"
      },
      "outputs": [
        {
          "output_type": "stream",
          "name": "stdout",
          "text": [
            "+---+\n",
            "| id|\n",
            "+---+\n",
            "|  7|\n",
            "|  8|\n",
            "|  9|\n",
            "|  5|\n",
            "|  6|\n",
            "+---+\n",
            "\n"
          ]
        }
      ],
      "source": [
        "query = \"\"\"\n",
        "SELECT *\n",
        "FROM delta.`/tmp/delta-table` VERSION AS OF 1;\n",
        "\"\"\"\n",
        "spark.sql(query).show()"
      ]
    },
    {
      "cell_type": "markdown",
      "metadata": {
        "id": "8h6Zc1bPoAUB"
      },
      "source": [
        "## Creating synthetic data\n"
      ]
    },
    {
      "cell_type": "markdown",
      "metadata": {
        "id": "IQBLb81vr2_o"
      },
      "source": [
        "### Persons"
      ]
    },
    {
      "cell_type": "code",
      "execution_count": 19,
      "metadata": {
        "colab": {
          "base_uri": "https://localhost:8080/"
        },
        "id": "Mz04HT1LqHms",
        "outputId": "5f102c98-7593-4c55-d787-723ac548710c"
      },
      "outputs": [
        {
          "output_type": "execute_result",
          "data": {
            "text/plain": [
              "DataFrame[]"
            ]
          },
          "metadata": {},
          "execution_count": 19
        }
      ],
      "source": [
        "query = \"\"\"\n",
        "CREATE TABLE IF NOT EXISTS delta.`/tmp/persons` USING DELTA AS\n",
        "SELECT col1 AS serial,\n",
        "       col2 AS name,\n",
        "       col3 AS age,\n",
        "       col4 AS address\n",
        "FROM\n",
        "VALUES (\"12345\", \"Alice\", 25, \"123 Main St\"),\n",
        "       (\"67890\", \"Bob\", 30, \"456 Oak Ave\"),\n",
        "       (\"24680\", \"Charlie\", 35, \"789 Elm St\");\n",
        "\"\"\"\n",
        "spark.sql(query)"
      ]
    },
    {
      "cell_type": "code",
      "execution_count": 20,
      "metadata": {
        "colab": {
          "base_uri": "https://localhost:8080/"
        },
        "id": "BRS4ng1Exzty",
        "outputId": "a5eff514-5461-42b3-ab3c-344d4850ce0a"
      },
      "outputs": [
        {
          "output_type": "stream",
          "name": "stdout",
          "text": [
            "+------+-------+---+------------+\n",
            "|serial|   name|age|     address|\n",
            "+------+-------+---+------------+\n",
            "| 97362|  Lorry| 40|290 Wise Ave|\n",
            "| 12345|  Alice| 25| 123 Main St|\n",
            "| 78120|    Dan| 42|432 Holly Rd|\n",
            "| 67890|    Bob| 30| 456 Oak Ave|\n",
            "| 24680|Charlie| 35|  789 Elm St|\n",
            "+------+-------+---+------------+\n",
            "\n"
          ]
        }
      ],
      "source": [
        "query = \"\"\"\n",
        "SELECT *\n",
        "FROM delta.`/tmp/persons`;\n",
        "\"\"\"\n",
        "spark.sql(query).show()"
      ]
    },
    {
      "cell_type": "code",
      "execution_count": 21,
      "metadata": {
        "colab": {
          "base_uri": "https://localhost:8080/"
        },
        "id": "AVHqgfnM9iTp",
        "outputId": "b164a604-a3a7-4a55-a79e-fa80a6c93ea8"
      },
      "outputs": [
        {
          "output_type": "stream",
          "name": "stdout",
          "text": [
            "/tmp/persons:\n",
            "total 44\n",
            "drwxr-xr-x 3 root root 4096 Aug 22 16:51 .\n",
            "drwxrwxrwt 1 root root 4096 Aug 22 19:00 ..\n",
            "drwxr-xr-x 2 root root 4096 Aug 22 16:51 _delta_log\n",
            "-rw-r--r-- 1 root root 1227 Aug 22 16:51 part-00000-151ee026-9112-4340-bf5b-89a36d54a688-c000.snappy.parquet\n",
            "-rw-r--r-- 1 root root   20 Aug 22 16:51 .part-00000-151ee026-9112-4340-bf5b-89a36d54a688-c000.snappy.parquet.crc\n",
            "-rw-r--r-- 1 root root 1234 Aug 22 16:33 part-00000-af27b3e0-8354-4976-ae06-beb29b16ed2d-c000.snappy.parquet\n",
            "-rw-r--r-- 1 root root   20 Aug 22 16:33 .part-00000-af27b3e0-8354-4976-ae06-beb29b16ed2d-c000.snappy.parquet.crc\n",
            "-rw-r--r-- 1 root root 1241 Aug 22 16:51 part-00001-691f8a13-8d31-431f-8432-fddd6de70d4f-c000.snappy.parquet\n",
            "-rw-r--r-- 1 root root   20 Aug 22 16:51 .part-00001-691f8a13-8d31-431f-8432-fddd6de70d4f-c000.snappy.parquet.crc\n",
            "-rw-r--r-- 1 root root 1213 Aug 22 16:33 part-00001-6de1b723-c519-40bd-90e2-305dd5c1cc0c-c000.snappy.parquet\n",
            "-rw-r--r-- 1 root root   20 Aug 22 16:33 .part-00001-6de1b723-c519-40bd-90e2-305dd5c1cc0c-c000.snappy.parquet.crc\n",
            "\n",
            "/tmp/persons/_delta_log:\n",
            "total 24\n",
            "drwxr-xr-x 2 root root 4096 Aug 22 16:51 .\n",
            "drwxr-xr-x 3 root root 4096 Aug 22 16:51 ..\n",
            "-rw-r--r-- 1 root root 1901 Aug 22 16:33 00000000000000000000.json\n",
            "-rw-r--r-- 1 root root   24 Aug 22 16:33 .00000000000000000000.json.crc\n",
            "-rw-r--r-- 1 root root 1976 Aug 22 16:51 00000000000000000001.json\n",
            "-rw-r--r-- 1 root root   24 Aug 22 16:51 .00000000000000000001.json.crc\n"
          ]
        }
      ],
      "source": [
        "! ls -alR /tmp/persons"
      ]
    },
    {
      "cell_type": "code",
      "execution_count": 22,
      "metadata": {
        "colab": {
          "base_uri": "https://localhost:8080/"
        },
        "id": "r7wKrQvYyCT_",
        "outputId": "006d4932-a6e6-4d44-99c7-fa0db2c5f6ad"
      },
      "outputs": [
        {
          "output_type": "execute_result",
          "data": {
            "text/plain": [
              "DataFrame[]"
            ]
          },
          "metadata": {},
          "execution_count": 22
        }
      ],
      "source": [
        "query = \"\"\"\n",
        "CREATE OR REPLACE TEMP VIEW newPersons AS\n",
        "SELECT col1 AS serial,\n",
        "       col2 AS name,\n",
        "       col3 AS age,\n",
        "       col4 AS address\n",
        "FROM\n",
        "VALUES (\"78120\", \"Dan\", 42, \"432 Holly Rd\"),\n",
        "       (\"97362\", \"Lorry\", 40, \"290 Wise Ave\"),\n",
        "       (\"12345\", \"Alice\", 25, \"123 Main St\")\n",
        "\"\"\"\n",
        "spark.sql(query)"
      ]
    },
    {
      "cell_type": "code",
      "execution_count": 23,
      "metadata": {
        "colab": {
          "base_uri": "https://localhost:8080/"
        },
        "id": "GjBg5aKyqjjk",
        "outputId": "0c5d9372-a058-4d7c-e874-71c3796b4ad1"
      },
      "outputs": [
        {
          "output_type": "stream",
          "name": "stdout",
          "text": [
            "+------+-----+---+------------+\n",
            "|serial| name|age|     address|\n",
            "+------+-----+---+------------+\n",
            "| 78120|  Dan| 42|432 Holly Rd|\n",
            "| 97362|Lorry| 40|290 Wise Ave|\n",
            "| 12345|Alice| 25| 123 Main St|\n",
            "+------+-----+---+------------+\n",
            "\n"
          ]
        }
      ],
      "source": [
        "query = \"\"\"\n",
        "SELECT *\n",
        "from newPersons\n",
        "\"\"\"\n",
        "spark.sql(query).show()"
      ]
    },
    {
      "cell_type": "markdown",
      "metadata": {
        "id": "hrInpLvgod65"
      },
      "source": [
        "### Salaries"
      ]
    },
    {
      "cell_type": "code",
      "execution_count": 24,
      "metadata": {
        "colab": {
          "base_uri": "https://localhost:8080/"
        },
        "id": "MVChthzayPAH",
        "outputId": "4497e263-2486-40fb-e26d-0ad589052322"
      },
      "outputs": [
        {
          "output_type": "execute_result",
          "data": {
            "text/plain": [
              "DataFrame[]"
            ]
          },
          "metadata": {},
          "execution_count": 24
        }
      ],
      "source": [
        "query = \"\"\"\n",
        "CREATE TABLE IF NOT EXISTS delta.`/tmp/salaries` USING DELTA AS\n",
        "SELECT col1 AS serial,\n",
        "       col2 AS salary\n",
        "FROM\n",
        "VALUES (\"12345\", 45000),\n",
        "       (\"67890\", 52000),\n",
        "       (\"24680\", 36000),\n",
        "       (\"78120\", 60000),\n",
        "       (\"97362\",38000)\n",
        "\"\"\"\n",
        "spark.sql(query)"
      ]
    },
    {
      "cell_type": "code",
      "execution_count": 25,
      "metadata": {
        "colab": {
          "base_uri": "https://localhost:8080/"
        },
        "id": "Q1Z-4SS8yO0_",
        "outputId": "f121b826-a16e-4c69-c7e5-9dc135d0b879"
      },
      "outputs": [
        {
          "output_type": "stream",
          "name": "stdout",
          "text": [
            "+------+------+\n",
            "|serial|salary|\n",
            "+------+------+\n",
            "| 24680| 46000|\n",
            "| 78120| 60000|\n",
            "| 97362| 39000|\n",
            "| 12345| 47000|\n",
            "| 67890| 52000|\n",
            "+------+------+\n",
            "\n"
          ]
        }
      ],
      "source": [
        "query = \"\"\"\n",
        "SELECT *\n",
        "from delta.`/tmp/salaries`\n",
        "\"\"\"\n",
        "spark.sql(query).show()"
      ]
    },
    {
      "cell_type": "code",
      "execution_count": 26,
      "metadata": {
        "colab": {
          "base_uri": "https://localhost:8080/"
        },
        "id": "TgVPE7qXytsy",
        "outputId": "e9f1d904-cffa-4b23-de23-ddb9516e51ac"
      },
      "outputs": [
        {
          "output_type": "execute_result",
          "data": {
            "text/plain": [
              "DataFrame[]"
            ]
          },
          "metadata": {},
          "execution_count": 26
        }
      ],
      "source": [
        "query = \"\"\"\n",
        "CREATE OR REPLACE TEMP VIEW newSalaries AS\n",
        "SELECT col1 AS serial,\n",
        "       col2 AS salary\n",
        "FROM\n",
        "VALUES (\"12345\", 47000),\n",
        "       (\"67890\", 50000),\n",
        "       (\"24680\", 46000),\n",
        "       (\"78120\", 61000),\n",
        "       (\"97362\",39000)\n",
        "\"\"\"\n",
        "spark.sql(query)"
      ]
    },
    {
      "cell_type": "code",
      "execution_count": 27,
      "metadata": {
        "colab": {
          "base_uri": "https://localhost:8080/"
        },
        "id": "XodXLDZGytly",
        "outputId": "0a82c5b6-cf06-4def-8d55-2372416d011f"
      },
      "outputs": [
        {
          "output_type": "stream",
          "name": "stdout",
          "text": [
            "+------+------+\n",
            "|serial|salary|\n",
            "+------+------+\n",
            "| 12345| 47000|\n",
            "| 67890| 50000|\n",
            "| 24680| 46000|\n",
            "| 78120| 61000|\n",
            "| 97362| 39000|\n",
            "+------+------+\n",
            "\n"
          ]
        }
      ],
      "source": [
        "query = \"\"\"\n",
        "SELECT *\n",
        "from newSalaries\n",
        "\"\"\"\n",
        "spark.sql(query).show()"
      ]
    },
    {
      "cell_type": "markdown",
      "metadata": {
        "id": "qvCkgOJ2o51k"
      },
      "source": [
        "### Sales"
      ]
    },
    {
      "cell_type": "code",
      "execution_count": 28,
      "metadata": {
        "colab": {
          "base_uri": "https://localhost:8080/"
        },
        "id": "UHT6rUe3zGtE",
        "outputId": "587079a1-2933-4ec6-a54c-5a558e0c39bd"
      },
      "outputs": [
        {
          "output_type": "execute_result",
          "data": {
            "text/plain": [
              "DataFrame[]"
            ]
          },
          "metadata": {},
          "execution_count": 28
        }
      ],
      "source": [
        "query = \"\"\"\n",
        "CREATE TABLE IF NOT EXISTS delta.`/tmp/sales` USING DELTA AS\n",
        "SELECT col1 AS product_id,\n",
        "       col2 AS quantity,\n",
        "       col3 AS totalprice\n",
        "FROM\n",
        "VALUES (\"CHA_2\",2,60),\n",
        "       (\"BED_4\",1,300),\n",
        "       (\"SHO_15\",2,60)\n",
        "\"\"\"\n",
        "spark.sql(query)"
      ]
    },
    {
      "cell_type": "code",
      "execution_count": 29,
      "metadata": {
        "colab": {
          "base_uri": "https://localhost:8080/"
        },
        "id": "IcvSG8Bs1qJu",
        "outputId": "836ea87c-0ecf-4e8d-baa6-abbe4635994e"
      },
      "outputs": [
        {
          "output_type": "stream",
          "name": "stdout",
          "text": [
            "+----------+--------+----------+---------+-----+\n",
            "|product_id|quantity|totalprice| category|color|\n",
            "+----------+--------+----------+---------+-----+\n",
            "|     BED_4|       1|       300|Furniture|brown|\n",
            "|     BED_6|       1|       200|     NULL| NULL|\n",
            "|     CHA_2|       3|        90|Furniture| blue|\n",
            "|    SHO_15|       5|       150|    Cloth|black|\n",
            "+----------+--------+----------+---------+-----+\n",
            "\n"
          ]
        }
      ],
      "source": [
        "query = \"\"\"\n",
        "SELECT *\n",
        "FROM delta.`/tmp/sales`\n",
        "\"\"\"\n",
        "spark.sql(query).show()"
      ]
    },
    {
      "cell_type": "code",
      "execution_count": 30,
      "metadata": {
        "colab": {
          "base_uri": "https://localhost:8080/"
        },
        "id": "dCZuvPSoAEcZ",
        "outputId": "fc159551-0521-4cce-92ca-4b11ab491132"
      },
      "outputs": [
        {
          "output_type": "stream",
          "name": "stdout",
          "text": [
            "/tmp/sales:\n",
            "_delta_log\n",
            "part-00000-0216a1a1-3238-49ac-b50f-40f4509ec290-c000.snappy.parquet\n",
            "part-00000-2388d698-53c1-4eb4-8cad-a56188fc1953-c000.snappy.parquet\n",
            "part-00000-2e5b5f71-a3d9-4b14-8680-23933d206feb-c000.snappy.parquet\n",
            "part-00001-bef91a23-dfec-4be9-983f-81272af79b04-c000.snappy.parquet\n",
            "\n",
            "/tmp/sales/_delta_log:\n",
            "00000000000000000000.json  00000000000000000001.json  00000000000000000002.json\n"
          ]
        }
      ],
      "source": [
        "!ls -hR /tmp/sales"
      ]
    },
    {
      "cell_type": "code",
      "execution_count": 56,
      "metadata": {
        "colab": {
          "base_uri": "https://localhost:8080/"
        },
        "id": "loBnyH7QGVc1",
        "outputId": "44e8281f-dc96-4680-f710-7b91a2aa6872"
      },
      "outputs": [
        {
          "output_type": "execute_result",
          "data": {
            "text/plain": [
              "DataFrame[]"
            ]
          },
          "metadata": {},
          "execution_count": 56
        }
      ],
      "source": [
        "query = \"\"\"\n",
        "CREATE IF NOT EXISTS delta.`/tmp/salesStatus` USING DELTA AS\n",
        "SELECT product_id, quantity, totalprice, CAST('available' AS STRING) AS status\n",
        "FROM delta.`/tmp/sales`\n",
        "\"\"\"\n",
        "spark.sql(query)"
      ]
    },
    {
      "cell_type": "code",
      "execution_count": 52,
      "metadata": {
        "colab": {
          "base_uri": "https://localhost:8080/"
        },
        "id": "i389omYMGoeL",
        "outputId": "3501e60e-19b3-485b-bf8f-800db909d100"
      },
      "outputs": [
        {
          "output_type": "stream",
          "name": "stdout",
          "text": [
            "+----------+--------+----------+\n",
            "|product_id|quantity|totalprice|\n",
            "+----------+--------+----------+\n",
            "|     BED_4|       1|       300|\n",
            "|    SHO_15|       2|        60|\n",
            "|     CHA_2|       2|        60|\n",
            "+----------+--------+----------+\n",
            "\n"
          ]
        }
      ],
      "source": [
        "query = \"\"\"\n",
        "SELECT * FROM delta.`/tmp/salesStatus`\n",
        "\"\"\"\n",
        "spark.sql(query).show()"
      ]
    },
    {
      "cell_type": "code",
      "execution_count": 57,
      "metadata": {
        "colab": {
          "base_uri": "https://localhost:8080/"
        },
        "id": "ysdcCZjYvgB6",
        "outputId": "f2a75ad0-8b86-4d7f-e670-1927e1bf058d"
      },
      "outputs": [
        {
          "output_type": "stream",
          "name": "stdout",
          "text": [
            "+--------------------+--------------------+-------+\n",
            "|            col_name|           data_type|comment|\n",
            "+--------------------+--------------------+-------+\n",
            "|          product_id|              string|   NULL|\n",
            "|            quantity|                 int|   NULL|\n",
            "|          totalprice|                 int|   NULL|\n",
            "|              status|              string|   NULL|\n",
            "|                    |                    |       |\n",
            "|# Detailed Table ...|                    |       |\n",
            "|                Name|delta.`file:/tmp/...|       |\n",
            "|                Type|             MANAGED|       |\n",
            "|            Location|    /tmp/salesStatus|       |\n",
            "|            Provider|               delta|       |\n",
            "|    Table Properties|[delta.minReaderV...|       |\n",
            "+--------------------+--------------------+-------+\n",
            "\n"
          ]
        }
      ],
      "source": [
        "spark.sql(f\"DESCRIBE TABLE EXTENDED delta.`/tmp/salesStatus`\").show()"
      ]
    },
    {
      "cell_type": "code",
      "source": [
        "!ls -hR /tmp/salesStatus"
      ],
      "metadata": {
        "id": "EGQFJATcsDDx",
        "outputId": "671bf4c9-2faa-4f45-8607-0fd159e8ccb4",
        "colab": {
          "base_uri": "https://localhost:8080/"
        }
      },
      "execution_count": 34,
      "outputs": [
        {
          "output_type": "stream",
          "name": "stdout",
          "text": [
            "/tmp/salesStatus:\n",
            "_delta_log\n",
            "part-00000-039c92f3-fe48-4649-8f56-ab99b5413286-c000.snappy.parquet\n",
            "part-00001-1d799168-f36a-40be-b4d7-8e3704765dff-c000.snappy.parquet\n",
            "\n",
            "/tmp/salesStatus/_delta_log:\n",
            "00000000000000000000.json\n"
          ]
        }
      ]
    },
    {
      "cell_type": "code",
      "execution_count": 35,
      "metadata": {
        "colab": {
          "base_uri": "https://localhost:8080/"
        },
        "id": "o80YSQtzzGnM",
        "outputId": "153cfa72-a7a9-4f78-e3e9-f22dab9231eb"
      },
      "outputs": [
        {
          "output_type": "execute_result",
          "data": {
            "text/plain": [
              "DataFrame[]"
            ]
          },
          "metadata": {},
          "execution_count": 35
        }
      ],
      "source": [
        "query = \"\"\"\n",
        "CREATE OR REPLACE TEMP VIEW newSales AS\n",
        "SELECT col1 as product_id, col2 as quantity, col3 as totalprice\n",
        "FROM VALUES (\"SHO_15\",3,90),(\"CHA_2\",1,30),(\"BED_6\",1,200)\n",
        "\n",
        "\"\"\"\n",
        "spark.sql(query)"
      ]
    },
    {
      "cell_type": "code",
      "execution_count": 36,
      "metadata": {
        "colab": {
          "base_uri": "https://localhost:8080/"
        },
        "id": "Ede4oEeM2Wz1",
        "outputId": "85b8a389-c6b7-4565-b199-140b42396a84"
      },
      "outputs": [
        {
          "output_type": "stream",
          "name": "stdout",
          "text": [
            "+----------+--------+----------+\n",
            "|product_id|quantity|totalprice|\n",
            "+----------+--------+----------+\n",
            "|    SHO_15|       3|        90|\n",
            "|     CHA_2|       1|        30|\n",
            "|     BED_6|       1|       200|\n",
            "+----------+--------+----------+\n",
            "\n"
          ]
        }
      ],
      "source": [
        "query = \"\"\"\n",
        "SELECT *\n",
        "FROM newSales\n",
        "\"\"\"\n",
        "spark.sql(query).show()"
      ]
    },
    {
      "cell_type": "markdown",
      "metadata": {
        "id": "29J3fU3po_v0"
      },
      "source": [
        "### Products"
      ]
    },
    {
      "cell_type": "code",
      "execution_count": 37,
      "metadata": {
        "colab": {
          "base_uri": "https://localhost:8080/"
        },
        "id": "aTPJFSMp2bh7",
        "outputId": "0facb5ff-f677-48fe-eae2-f40ea84547b7"
      },
      "outputs": [
        {
          "output_type": "execute_result",
          "data": {
            "text/plain": [
              "DataFrame[]"
            ]
          },
          "metadata": {},
          "execution_count": 37
        }
      ],
      "source": [
        "query = \"\"\"\n",
        "CREATE OR REPLACE TEMP VIEW products AS\n",
        "SELECT col1 as product_id, col2 as category, col3 as color\n",
        "FROM VALUES (\"CHA_2\",\"Furniture\",\"blue\"),(\"BED_4\",\"Furniture\",\"brown\"),(\"SHO_15\",\"Cloth\",\"black\")\n",
        "\n",
        "\"\"\"\n",
        "spark.sql(query)"
      ]
    },
    {
      "cell_type": "code",
      "execution_count": 38,
      "metadata": {
        "colab": {
          "base_uri": "https://localhost:8080/"
        },
        "id": "8RWuphHw2j-7",
        "outputId": "c8aafa86-5fa3-4399-aeed-b90c1c3400d5"
      },
      "outputs": [
        {
          "output_type": "stream",
          "name": "stdout",
          "text": [
            "+----------+---------+-----+\n",
            "|product_id| category|color|\n",
            "+----------+---------+-----+\n",
            "|     CHA_2|Furniture| blue|\n",
            "|     BED_4|Furniture|brown|\n",
            "|    SHO_15|    Cloth|black|\n",
            "+----------+---------+-----+\n",
            "\n"
          ]
        }
      ],
      "source": [
        "query = \"\"\"\n",
        "SELECT *\n",
        "FROM products\n",
        "\"\"\"\n",
        "spark.sql(query).show()"
      ]
    },
    {
      "cell_type": "code",
      "execution_count": 39,
      "metadata": {
        "colab": {
          "base_uri": "https://localhost:8080/"
        },
        "id": "0hAHsUnAvPPT",
        "outputId": "ace3f5b2-7508-484d-b7f0-beffc81c2d4c"
      },
      "outputs": [
        {
          "output_type": "stream",
          "name": "stdout",
          "text": [
            "+---------+-----------+-----------+\n",
            "|namespace|  tableName|isTemporary|\n",
            "+---------+-----------+-----------+\n",
            "|         |    newdata|      false|\n",
            "|         | newpersons|      false|\n",
            "|         |newsalaries|      false|\n",
            "|         |   newsales|      false|\n",
            "|         |   products|      false|\n",
            "+---------+-----------+-----------+\n",
            "\n"
          ]
        }
      ],
      "source": [
        "spark.sql(\"SHOW TABLES\").show()"
      ]
    },
    {
      "cell_type": "markdown",
      "metadata": {
        "id": "OkgbLaJW-P0w"
      },
      "source": [
        "## Demo2: delta operations"
      ]
    },
    {
      "cell_type": "markdown",
      "metadata": {
        "id": "aRP_QqBQN8W1"
      },
      "source": [
        "### Q1. Adding new tuples\n",
        "Consider the Delta table `person` with the following columns: serial, name, age, and address. You have a new dataset `newPersons` with the same columns, but with additional records. Write a merge statement to update the Delta table with the new records.\n"
      ]
    },
    {
      "cell_type": "code",
      "execution_count": 40,
      "metadata": {
        "colab": {
          "base_uri": "https://localhost:8080/"
        },
        "id": "GuQOLNgsEvLM",
        "outputId": "3cfc1ee1-d584-4d73-fca1-2715c511d720"
      },
      "outputs": [
        {
          "output_type": "stream",
          "name": "stdout",
          "text": [
            "+-----------------+----------------+----------------+-----------------+\n",
            "|num_affected_rows|num_updated_rows|num_deleted_rows|num_inserted_rows|\n",
            "+-----------------+----------------+----------------+-----------------+\n",
            "|                0|               0|               0|                0|\n",
            "+-----------------+----------------+----------------+-----------------+\n",
            "\n"
          ]
        }
      ],
      "source": [
        "query = \"\"\"\n",
        "MERGE INTO delta.`/tmp/persons` AS oldData\n",
        "USING newPersons\n",
        "ON oldData.serial = newPersons.serial\n",
        "WHEN NOT MATCHED\n",
        "  THEN INSERT *;\n",
        "\"\"\"\n",
        "spark.sql(query).show()"
      ]
    },
    {
      "cell_type": "code",
      "execution_count": 41,
      "metadata": {
        "colab": {
          "base_uri": "https://localhost:8080/"
        },
        "id": "RkPVm4KAGcJ3",
        "outputId": "68596532-7e70-45f3-e737-6dab663b173d"
      },
      "outputs": [
        {
          "output_type": "stream",
          "name": "stdout",
          "text": [
            "+------+-------+---+------------+\n",
            "|serial|   name|age|     address|\n",
            "+------+-------+---+------------+\n",
            "| 97362|  Lorry| 40|290 Wise Ave|\n",
            "| 12345|  Alice| 25| 123 Main St|\n",
            "| 78120|    Dan| 42|432 Holly Rd|\n",
            "| 67890|    Bob| 30| 456 Oak Ave|\n",
            "| 24680|Charlie| 35|  789 Elm St|\n",
            "+------+-------+---+------------+\n",
            "\n"
          ]
        }
      ],
      "source": [
        "query = \"\"\"\n",
        "SELECT *\n",
        "FROM delta.`/tmp/persons`\n",
        "\"\"\"\n",
        "spark.sql(query).show()"
      ]
    },
    {
      "cell_type": "markdown",
      "metadata": {
        "id": "nKD875I8OYT_"
      },
      "source": [
        "### Q2: updating existing tuples\n",
        "Assume you have a Delta table `salaries` with columns serial and salary. You want to update the salary of the employees who earn less than 50,000. You have a new dataset, `newSalaries` with the same columns but with updated salary information. Write a merge statement to update the `salaries` table with the new salary information.\n"
      ]
    },
    {
      "cell_type": "code",
      "execution_count": 42,
      "metadata": {
        "colab": {
          "base_uri": "https://localhost:8080/"
        },
        "id": "YutXzBL8Gp1U",
        "outputId": "fede66df-a499-42b4-9a5e-2335d9afdf6a"
      },
      "outputs": [
        {
          "output_type": "stream",
          "name": "stdout",
          "text": [
            "+-----------------+----------------+----------------+-----------------+\n",
            "|num_affected_rows|num_updated_rows|num_deleted_rows|num_inserted_rows|\n",
            "+-----------------+----------------+----------------+-----------------+\n",
            "|                3|               3|               0|                0|\n",
            "+-----------------+----------------+----------------+-----------------+\n",
            "\n"
          ]
        }
      ],
      "source": [
        "query = \"\"\"\n",
        "MERGE INTO delta.`/tmp/salaries` AS oldData\n",
        "USING newSalaries\n",
        "ON oldData.serial = newSalaries.serial\n",
        "WHEN MATCHED AND oldData.salary<50000\n",
        "  THEN UPDATE SET oldData.salary=newSalaries.salary;\n",
        "\"\"\"\n",
        "spark.sql(query).show()"
      ]
    },
    {
      "cell_type": "code",
      "execution_count": 43,
      "metadata": {
        "colab": {
          "base_uri": "https://localhost:8080/"
        },
        "id": "zgv1dfHtGpy1",
        "outputId": "0be037f0-4755-4d01-d43c-379cf531a2f0"
      },
      "outputs": [
        {
          "output_type": "stream",
          "name": "stdout",
          "text": [
            "+------+------+\n",
            "|serial|salary|\n",
            "+------+------+\n",
            "| 24680| 46000|\n",
            "| 78120| 60000|\n",
            "| 97362| 39000|\n",
            "| 12345| 47000|\n",
            "| 67890| 52000|\n",
            "+------+------+\n",
            "\n"
          ]
        }
      ],
      "source": [
        "query = \"\"\"\n",
        "SELECT *\n",
        "FROM delta.`/tmp/salaries`\n",
        "\"\"\"\n",
        "spark.sql(query).show()"
      ]
    },
    {
      "cell_type": "markdown",
      "metadata": {
        "id": "hU_0ZWKHoqwj"
      },
      "source": [
        "### Q3: adding new tuples and updating existing ones\n",
        "You have a Delta table `sales` with columns `product_id`, `quantity`, and `totalprice`. Write a merge statement to insert the new products from a dataframe `newSales` into `sales` and to make sure that, for existing products, the column `sales` has the sum of the quantity and totalprice.\n"
      ]
    },
    {
      "cell_type": "code",
      "execution_count": 44,
      "metadata": {
        "colab": {
          "base_uri": "https://localhost:8080/"
        },
        "id": "CiHqjAQxIbAP",
        "outputId": "ba2a0f5a-5c0b-4e0f-faf6-1479f932ca72"
      },
      "outputs": [
        {
          "output_type": "stream",
          "name": "stdout",
          "text": [
            "+-----------------+----------------+----------------+-----------------+\n",
            "|num_affected_rows|num_updated_rows|num_deleted_rows|num_inserted_rows|\n",
            "+-----------------+----------------+----------------+-----------------+\n",
            "|                3|               3|               0|                0|\n",
            "+-----------------+----------------+----------------+-----------------+\n",
            "\n"
          ]
        }
      ],
      "source": [
        "query = \"\"\"\n",
        "MERGE INTO delta.`/tmp/sales` AS oldData\n",
        "USING newSales\n",
        "ON oldData.product_id = newSales.product_id\n",
        "WHEN MATCHED\n",
        "  THEN UPDATE SET oldData.quantity = oldData.quantity + newSales.quantity,\n",
        "                  oldData.totalprice = oldData.totalprice + newSales.totalprice\n",
        "WHEN NOT MATCHED\n",
        "  THEN INSERT *\n",
        "\"\"\"\n",
        "spark.sql(query).show()"
      ]
    },
    {
      "cell_type": "code",
      "execution_count": 45,
      "metadata": {
        "colab": {
          "base_uri": "https://localhost:8080/"
        },
        "id": "BA6nfkPGIa5D",
        "outputId": "7ba87764-f46b-471f-c2f3-419d47eb0dd0"
      },
      "outputs": [
        {
          "output_type": "stream",
          "name": "stdout",
          "text": [
            "+----------+--------+----------+---------+-----+\n",
            "|product_id|quantity|totalprice| category|color|\n",
            "+----------+--------+----------+---------+-----+\n",
            "|     BED_4|       1|       300|Furniture|brown|\n",
            "|     BED_6|       2|       400|     NULL| NULL|\n",
            "|     CHA_2|       4|       120|Furniture| blue|\n",
            "|    SHO_15|       8|       240|    Cloth|black|\n",
            "+----------+--------+----------+---------+-----+\n",
            "\n"
          ]
        }
      ],
      "source": [
        "query = \"\"\"\n",
        "SELECT *\n",
        "FROM delta.`/tmp/sales`\n",
        "\"\"\"\n",
        "spark.sql(query).show()"
      ]
    },
    {
      "cell_type": "markdown",
      "metadata": {
        "id": "cOCzQqTmy7h9"
      },
      "source": [
        "### Q4: Merge tables with different schemas\n",
        "Consider the delta table `sales`.  Write a merge statement to augment `sales` with the cateogry and the color of the products by using an auxiliary table `Products` whose schema is `product_id`, `category` and `color` and such that `product_id` can used for matching the tuples of `sales`."
      ]
    },
    {
      "cell_type": "code",
      "execution_count": 46,
      "metadata": {
        "colab": {
          "base_uri": "https://localhost:8080/"
        },
        "id": "eNPS7CN5Kj-v",
        "outputId": "89470679-8f8e-4885-c293-ff2e4d3233af"
      },
      "outputs": [
        {
          "output_type": "stream",
          "name": "stdout",
          "text": [
            "+-----------------+----------------+----------------+-----------------+\n",
            "|num_affected_rows|num_updated_rows|num_deleted_rows|num_inserted_rows|\n",
            "+-----------------+----------------+----------------+-----------------+\n",
            "|                3|               3|               0|                0|\n",
            "+-----------------+----------------+----------------+-----------------+\n",
            "\n"
          ]
        }
      ],
      "source": [
        "query = \"\"\"\n",
        "MERGE INTO delta.`/tmp/sales` oldData\n",
        "USING products\n",
        "ON oldData.product_id = products.product_id\n",
        "WHEN MATCHED\n",
        "  THEN UPDATE SET *\n",
        "WHEN NOT MATCHED\n",
        "  THEN INSERT *\n",
        "\"\"\"\n",
        "spark.sql(query).show()"
      ]
    },
    {
      "cell_type": "code",
      "execution_count": 47,
      "metadata": {
        "colab": {
          "base_uri": "https://localhost:8080/"
        },
        "id": "jGPtjZOcLhWr",
        "outputId": "5a29e752-346a-4f3a-fec8-47eb0769259a"
      },
      "outputs": [
        {
          "output_type": "stream",
          "name": "stdout",
          "text": [
            "+----------+--------+----------+---------+-----+\n",
            "|product_id|quantity|totalprice| category|color|\n",
            "+----------+--------+----------+---------+-----+\n",
            "|     BED_4|       1|       300|Furniture|brown|\n",
            "|     BED_6|       2|       400|     NULL| NULL|\n",
            "|     CHA_2|       4|       120|Furniture| blue|\n",
            "|    SHO_15|       8|       240|    Cloth|black|\n",
            "+----------+--------+----------+---------+-----+\n",
            "\n"
          ]
        }
      ],
      "source": [
        "query = \"\"\"\n",
        "SELECT *\n",
        "FROM delta.`/tmp/sales`\n",
        "\"\"\"\n",
        "spark.sql(query).show()"
      ]
    },
    {
      "cell_type": "markdown",
      "metadata": {
        "id": "iLZxdogbGs05"
      },
      "source": [
        "### Q5: updating existing tuples when not matched by source\n",
        "Consider the delta table `salesStatus` which extends the table `sales` with the column `status` meant to track the availability of products.\n",
        "Write a merge statement that:\n",
        "- updates the quantity of products in `salesStatus` by considering sales reported in `newSales` like in Q3 above and\n",
        "- marks the status of the products which are not reported in `newSales` as 'unavailable'"
      ]
    },
    {
      "cell_type": "code",
      "execution_count": 58,
      "metadata": {
        "colab": {
          "base_uri": "https://localhost:8080/"
        },
        "id": "LawVDl8JIQyI",
        "outputId": "e45e15a6-bc62-4d3b-89f0-b8ff1a83109b"
      },
      "outputs": [
        {
          "output_type": "stream",
          "name": "stdout",
          "text": [
            "+-----------------+----------------+----------------+-----------------+\n",
            "|num_affected_rows|num_updated_rows|num_deleted_rows|num_inserted_rows|\n",
            "+-----------------+----------------+----------------+-----------------+\n",
            "|                4|               4|               0|                0|\n",
            "+-----------------+----------------+----------------+-----------------+\n",
            "\n"
          ]
        }
      ],
      "source": [
        "query = \"\"\"\n",
        "MERGE INTO delta.`/tmp/salesStatus` AS oldData\n",
        "USING newSales\n",
        "ON oldData.product_id = newSales.product_id\n",
        "WHEN MATCHED\n",
        "  THEN UPDATE SET oldData.quantity = oldData.quantity + newSales.quantity,\n",
        "                  oldData.totalprice = oldData.totalprice + newSales.totalprice\n",
        "WHEN NOT MATCHED BY SOURCE\n",
        "  THEN UPDATE SET oldData.status = 'unavailable'\n",
        "\"\"\"\n",
        "spark.sql(query).show()"
      ]
    },
    {
      "cell_type": "code",
      "execution_count": 59,
      "metadata": {
        "colab": {
          "base_uri": "https://localhost:8080/"
        },
        "id": "HGoK-tEEIVBc",
        "outputId": "ba7c3c3e-bff5-4ecc-cc9e-58ccfb3fcbdd"
      },
      "outputs": [
        {
          "output_type": "stream",
          "name": "stdout",
          "text": [
            "+----------+--------+----------+-----------+\n",
            "|product_id|quantity|totalprice|     status|\n",
            "+----------+--------+----------+-----------+\n",
            "|     BED_4|       1|       300|unavailable|\n",
            "|     BED_6|       3|       600|  available|\n",
            "|     CHA_2|       5|       150|  available|\n",
            "|    SHO_15|      11|       330|  available|\n",
            "+----------+--------+----------+-----------+\n",
            "\n"
          ]
        }
      ],
      "source": [
        "query = \"\"\"\n",
        "SELECT * FROM delta.`/tmp/salesStatus`\n",
        "\"\"\"\n",
        "spark.sql(query).show()"
      ]
    },
    {
      "cell_type": "markdown",
      "metadata": {
        "id": "D6Q_U_6R1yBP"
      },
      "source": [
        "## Demo 3: Attaching constraints"
      ]
    },
    {
      "cell_type": "markdown",
      "metadata": {
        "id": "wWeLbIQj1-3D"
      },
      "source": [
        "### Not-null constraint"
      ]
    },
    {
      "cell_type": "code",
      "execution_count": 60,
      "metadata": {
        "colab": {
          "base_uri": "https://localhost:8080/"
        },
        "id": "5TqMXDUD13mQ",
        "outputId": "b106ede9-7605-4e5b-fd22-55c24274507e"
      },
      "outputs": [
        {
          "output_type": "execute_result",
          "data": {
            "text/plain": [
              "DataFrame[]"
            ]
          },
          "metadata": {},
          "execution_count": 60
        }
      ],
      "source": [
        "query = \"\"\"\n",
        "CREATE TABLE default.persons (\n",
        "    serial INT NOT NULL,\n",
        "    name STRING,\n",
        "    birthDate TIMESTAMP,\n",
        "    address STRING\n",
        "  ) USING DELTA;\n",
        "\"\"\"\n",
        "spark.sql(query)"
      ]
    },
    {
      "cell_type": "code",
      "execution_count": 61,
      "metadata": {
        "colab": {
          "base_uri": "https://localhost:8080/"
        },
        "id": "ILZAiGWN3HzV",
        "outputId": "146029e8-2c54-4ebb-dec9-0a8a2f58426a"
      },
      "outputs": [
        {
          "output_type": "execute_result",
          "data": {
            "text/plain": [
              "DataFrame[]"
            ]
          },
          "metadata": {},
          "execution_count": 61
        }
      ],
      "source": [
        "query = \"\"\"insert into default.persons values (12345, \"Alice\",\"2000-02-01\" ,\"123 Main St\") \"\"\"\n",
        "spark.sql(query)"
      ]
    },
    {
      "cell_type": "code",
      "execution_count": 62,
      "metadata": {
        "colab": {
          "base_uri": "https://localhost:8080/"
        },
        "id": "C7yIbaHm3bmb",
        "outputId": "05770a90-0cf8-4f75-ac25-619bcfaa8e28"
      },
      "outputs": [
        {
          "output_type": "stream",
          "name": "stdout",
          "text": [
            "+------+-----+-------------------+-----------+\n",
            "|serial| name|          birthDate|    address|\n",
            "+------+-----+-------------------+-----------+\n",
            "| 12345|Alice|2000-02-01 00:00:00|123 Main St|\n",
            "+------+-----+-------------------+-----------+\n",
            "\n"
          ]
        }
      ],
      "source": [
        "query = \"\"\"select * from default.persons \"\"\"\n",
        "spark.sql(query).show()"
      ]
    },
    {
      "cell_type": "markdown",
      "metadata": {
        "id": "8ukalnEM3tw0"
      },
      "source": [
        "Can we run the following statement?"
      ]
    },
    {
      "cell_type": "code",
      "execution_count": null,
      "metadata": {
        "id": "e4QMxLUrMUsu"
      },
      "outputs": [],
      "source": [
        "query = \"\"\"insert into default.persons values (null, \"Bob\",\"1996-03-14\" ,\"456 Oak Ave\") \"\"\"\n",
        "spark.sql(query).show()"
      ]
    },
    {
      "cell_type": "markdown",
      "source": [
        "The code above gives the following error :\n",
        "```pgsql\n",
        "DeltaInvariantViolationException: [DELTA_NOT_NULL_CONSTRAINT_VIOLATED]\n",
        "NOT NULL constraint violated for column: serial\n",
        "```\n",
        "\n",
        "Why?\n",
        "\n",
        "The `default.persons` table has a serial column defined as `NOT NULL`.\n",
        "\n",
        "But We ar trying to insert null into it:\n",
        "```sql\n",
        "insert into default.persons values (null, \"Bob\",\"1996-03-14\" ,\"456 Oak Ave\")\n",
        "```\n",
        "So Spark/Delta Lake rejects the insert."
      ],
      "metadata": {
        "id": "9-Buj1i1MpLe"
      }
    },
    {
      "cell_type": "markdown",
      "metadata": {
        "id": "OCQ_46q02BDs"
      },
      "source": [
        "### Predicate constraint"
      ]
    },
    {
      "cell_type": "code",
      "execution_count": 64,
      "metadata": {
        "colab": {
          "base_uri": "https://localhost:8080/"
        },
        "id": "yuhD3yaL2GU8",
        "outputId": "8ccd2109-a1ef-429c-df18-4c6ae6469280"
      },
      "outputs": [
        {
          "output_type": "execute_result",
          "data": {
            "text/plain": [
              "DataFrame[]"
            ]
          },
          "metadata": {},
          "execution_count": 64
        }
      ],
      "source": [
        "spark.sql(\"\"\" ALTER TABLE default.persons ADD CONSTRAINT birthdate CHECK (birthDate > '2000-01-01'); \"\"\")"
      ]
    },
    {
      "cell_type": "code",
      "execution_count": 65,
      "metadata": {
        "colab": {
          "base_uri": "https://localhost:8080/"
        },
        "id": "wWsQJYGi4n0A",
        "outputId": "626332ce-99b3-43c2-d87f-c91c3f426eaf"
      },
      "outputs": [
        {
          "output_type": "stream",
          "name": "stdout",
          "text": [
            "+---------------------------+------------------------+\n",
            "|key                        |value                   |\n",
            "+---------------------------+------------------------+\n",
            "|delta.constraints.birthdate|birthDate > '2000-01-01'|\n",
            "|delta.minReaderVersion     |1                       |\n",
            "|delta.minWriterVersion     |3                       |\n",
            "+---------------------------+------------------------+\n",
            "\n"
          ]
        }
      ],
      "source": [
        "spark.sql(\"\"\"SHOW TBLPROPERTIES default.persons\"\"\").show(truncate=False)"
      ]
    },
    {
      "cell_type": "code",
      "execution_count": 66,
      "metadata": {
        "colab": {
          "base_uri": "https://localhost:8080/"
        },
        "id": "L2jaoF7H35Uj",
        "outputId": "2062daa4-5d99-468b-b034-81d273836150"
      },
      "outputs": [
        {
          "output_type": "execute_result",
          "data": {
            "text/plain": [
              "DataFrame[]"
            ]
          },
          "metadata": {},
          "execution_count": 66
        }
      ],
      "source": [
        "spark.sql(\"\"\"insert into default.persons values (47962, \"Bob\",\"2003-03-14\" ,\"456 Oak Ave\") \"\"\")"
      ]
    },
    {
      "cell_type": "markdown",
      "metadata": {
        "id": "hESBMIS434pn"
      },
      "source": [
        "Can we run the following statement?"
      ]
    },
    {
      "cell_type": "code",
      "execution_count": 67,
      "metadata": {
        "id": "O_zZuSuZlJPD",
        "outputId": "e5d8e99d-6513-483e-a51f-24884e9bd31b",
        "colab": {
          "base_uri": "https://localhost:8080/",
          "height": 793
        }
      },
      "outputs": [
        {
          "output_type": "error",
          "ename": "Py4JJavaError",
          "evalue": "An error occurred while calling o42.sql.\n: org.apache.spark.sql.delta.schema.DeltaInvariantViolationException: [DELTA_VIOLATE_CONSTRAINT_WITH_VALUES] CHECK constraint birthdate (birthDate > '2000-01-01') violated by row with values:\n - birthDate : 921369600000000\n\tat org.apache.spark.sql.delta.schema.DeltaInvariantViolationException$.getConstraintViolationWithValuesException(InvariantViolationException.scala:75)\n\tat org.apache.spark.sql.delta.schema.DeltaInvariantViolationException$.apply(InvariantViolationException.scala:101)\n\tat org.apache.spark.sql.delta.schema.DeltaInvariantViolationException$.apply(InvariantViolationException.scala:112)\n\tat org.apache.spark.sql.delta.schema.DeltaInvariantViolationException.apply(InvariantViolationException.scala)\n\tat org.apache.spark.sql.catalyst.expressions.GeneratedClass$SpecificUnsafeProjection.CheckDeltaInvariant_0$(Unknown Source)\n\tat org.apache.spark.sql.catalyst.expressions.GeneratedClass$SpecificUnsafeProjection.apply(Unknown Source)\n\tat org.apache.spark.sql.delta.constraints.DeltaInvariantCheckerExec.$anonfun$doExecute$3(DeltaInvariantCheckerExec.scala:79)\n\tat scala.collection.Iterator$$anon$10.next(Iterator.scala:461)\n\tat org.apache.spark.sql.execution.datasources.FileFormatDataWriter.writeWithIterator(FileFormatDataWriter.scala:92)\n\tat org.apache.spark.sql.delta.files.DeltaFileFormatWriter$.$anonfun$executeTask$1(DeltaFileFormatWriter.scala:430)\n\tat org.apache.spark.util.Utils$.tryWithSafeFinallyAndFailureCallbacks(Utils.scala:1397)\n\tat org.apache.spark.sql.delta.files.DeltaFileFormatWriter$.executeTask(DeltaFileFormatWriter.scala:437)\n\tat org.apache.spark.sql.delta.files.DeltaFileFormatWriter$.$anonfun$executeWrite$2(DeltaFileFormatWriter.scala:274)\n\tat org.apache.spark.scheduler.ResultTask.runTask(ResultTask.scala:93)\n\tat org.apache.spark.TaskContext.runTaskWithListeners(TaskContext.scala:166)\n\tat org.apache.spark.scheduler.Task.run(Task.scala:141)\n\tat org.apache.spark.executor.Executor$TaskRunner.$anonfun$run$4(Executor.scala:620)\n\tat org.apache.spark.util.SparkErrorUtils.tryWithSafeFinally(SparkErrorUtils.scala:64)\n\tat org.apache.spark.util.SparkErrorUtils.tryWithSafeFinally$(SparkErrorUtils.scala:61)\n\tat org.apache.spark.util.Utils$.tryWithSafeFinally(Utils.scala:94)\n\tat org.apache.spark.executor.Executor$TaskRunner.run(Executor.scala:623)\n\tat java.base/java.util.concurrent.ThreadPoolExecutor.runWorker(ThreadPoolExecutor.java:1128)\n\tat java.base/java.util.concurrent.ThreadPoolExecutor$Worker.run(ThreadPoolExecutor.java:628)\n\tat java.base/java.lang.Thread.run(Thread.java:829)\n",
          "traceback": [
            "\u001b[0;31m---------------------------------------------------------------------------\u001b[0m",
            "\u001b[0;31mPy4JJavaError\u001b[0m                             Traceback (most recent call last)",
            "\u001b[0;32m/tmp/ipython-input-4101434566.py\u001b[0m in \u001b[0;36m<cell line: 0>\u001b[0;34m()\u001b[0m\n\u001b[0;32m----> 1\u001b[0;31m \u001b[0mspark\u001b[0m\u001b[0;34m.\u001b[0m\u001b[0msql\u001b[0m\u001b[0;34m(\u001b[0m\u001b[0;34m\"\"\"insert into default.persons values (47962, \"Bob\",\"1999-03-14\" ,\"456 Oak Ave\") \"\"\"\u001b[0m\u001b[0;34m)\u001b[0m\u001b[0;34m\u001b[0m\u001b[0;34m\u001b[0m\u001b[0m\n\u001b[0m",
            "\u001b[0;32m/usr/local/lib/python3.12/dist-packages/pyspark/sql/session.py\u001b[0m in \u001b[0;36msql\u001b[0;34m(self, sqlQuery, args, **kwargs)\u001b[0m\n\u001b[1;32m   1629\u001b[0m                     \u001b[0;34m[\u001b[0m\u001b[0m_to_java_column\u001b[0m\u001b[0;34m(\u001b[0m\u001b[0mlit\u001b[0m\u001b[0;34m(\u001b[0m\u001b[0mv\u001b[0m\u001b[0;34m)\u001b[0m\u001b[0;34m)\u001b[0m \u001b[0;32mfor\u001b[0m \u001b[0mv\u001b[0m \u001b[0;32min\u001b[0m \u001b[0;34m(\u001b[0m\u001b[0margs\u001b[0m \u001b[0;32mor\u001b[0m \u001b[0;34m[\u001b[0m\u001b[0;34m]\u001b[0m\u001b[0;34m)\u001b[0m\u001b[0;34m]\u001b[0m\u001b[0;34m\u001b[0m\u001b[0;34m\u001b[0m\u001b[0m\n\u001b[1;32m   1630\u001b[0m                 )\n\u001b[0;32m-> 1631\u001b[0;31m             \u001b[0;32mreturn\u001b[0m \u001b[0mDataFrame\u001b[0m\u001b[0;34m(\u001b[0m\u001b[0mself\u001b[0m\u001b[0;34m.\u001b[0m\u001b[0m_jsparkSession\u001b[0m\u001b[0;34m.\u001b[0m\u001b[0msql\u001b[0m\u001b[0;34m(\u001b[0m\u001b[0msqlQuery\u001b[0m\u001b[0;34m,\u001b[0m \u001b[0mlitArgs\u001b[0m\u001b[0;34m)\u001b[0m\u001b[0;34m,\u001b[0m \u001b[0mself\u001b[0m\u001b[0;34m)\u001b[0m\u001b[0;34m\u001b[0m\u001b[0;34m\u001b[0m\u001b[0m\n\u001b[0m\u001b[1;32m   1632\u001b[0m         \u001b[0;32mfinally\u001b[0m\u001b[0;34m:\u001b[0m\u001b[0;34m\u001b[0m\u001b[0;34m\u001b[0m\u001b[0m\n\u001b[1;32m   1633\u001b[0m             \u001b[0;32mif\u001b[0m \u001b[0mlen\u001b[0m\u001b[0;34m(\u001b[0m\u001b[0mkwargs\u001b[0m\u001b[0;34m)\u001b[0m \u001b[0;34m>\u001b[0m \u001b[0;36m0\u001b[0m\u001b[0;34m:\u001b[0m\u001b[0;34m\u001b[0m\u001b[0;34m\u001b[0m\u001b[0m\n",
            "\u001b[0;32m/usr/local/lib/python3.12/dist-packages/py4j/java_gateway.py\u001b[0m in \u001b[0;36m__call__\u001b[0;34m(self, *args)\u001b[0m\n\u001b[1;32m   1320\u001b[0m \u001b[0;34m\u001b[0m\u001b[0m\n\u001b[1;32m   1321\u001b[0m         \u001b[0manswer\u001b[0m \u001b[0;34m=\u001b[0m \u001b[0mself\u001b[0m\u001b[0;34m.\u001b[0m\u001b[0mgateway_client\u001b[0m\u001b[0;34m.\u001b[0m\u001b[0msend_command\u001b[0m\u001b[0;34m(\u001b[0m\u001b[0mcommand\u001b[0m\u001b[0;34m)\u001b[0m\u001b[0;34m\u001b[0m\u001b[0;34m\u001b[0m\u001b[0m\n\u001b[0;32m-> 1322\u001b[0;31m         return_value = get_return_value(\n\u001b[0m\u001b[1;32m   1323\u001b[0m             answer, self.gateway_client, self.target_id, self.name)\n\u001b[1;32m   1324\u001b[0m \u001b[0;34m\u001b[0m\u001b[0m\n",
            "\u001b[0;32m/usr/local/lib/python3.12/dist-packages/pyspark/errors/exceptions/captured.py\u001b[0m in \u001b[0;36mdeco\u001b[0;34m(*a, **kw)\u001b[0m\n\u001b[1;32m    177\u001b[0m     \u001b[0;32mdef\u001b[0m \u001b[0mdeco\u001b[0m\u001b[0;34m(\u001b[0m\u001b[0;34m*\u001b[0m\u001b[0ma\u001b[0m\u001b[0;34m:\u001b[0m \u001b[0mAny\u001b[0m\u001b[0;34m,\u001b[0m \u001b[0;34m**\u001b[0m\u001b[0mkw\u001b[0m\u001b[0;34m:\u001b[0m \u001b[0mAny\u001b[0m\u001b[0;34m)\u001b[0m \u001b[0;34m->\u001b[0m \u001b[0mAny\u001b[0m\u001b[0;34m:\u001b[0m\u001b[0;34m\u001b[0m\u001b[0;34m\u001b[0m\u001b[0m\n\u001b[1;32m    178\u001b[0m         \u001b[0;32mtry\u001b[0m\u001b[0;34m:\u001b[0m\u001b[0;34m\u001b[0m\u001b[0;34m\u001b[0m\u001b[0m\n\u001b[0;32m--> 179\u001b[0;31m             \u001b[0;32mreturn\u001b[0m \u001b[0mf\u001b[0m\u001b[0;34m(\u001b[0m\u001b[0;34m*\u001b[0m\u001b[0ma\u001b[0m\u001b[0;34m,\u001b[0m \u001b[0;34m**\u001b[0m\u001b[0mkw\u001b[0m\u001b[0;34m)\u001b[0m\u001b[0;34m\u001b[0m\u001b[0;34m\u001b[0m\u001b[0m\n\u001b[0m\u001b[1;32m    180\u001b[0m         \u001b[0;32mexcept\u001b[0m \u001b[0mPy4JJavaError\u001b[0m \u001b[0;32mas\u001b[0m \u001b[0me\u001b[0m\u001b[0;34m:\u001b[0m\u001b[0;34m\u001b[0m\u001b[0;34m\u001b[0m\u001b[0m\n\u001b[1;32m    181\u001b[0m             \u001b[0mconverted\u001b[0m \u001b[0;34m=\u001b[0m \u001b[0mconvert_exception\u001b[0m\u001b[0;34m(\u001b[0m\u001b[0me\u001b[0m\u001b[0;34m.\u001b[0m\u001b[0mjava_exception\u001b[0m\u001b[0;34m)\u001b[0m\u001b[0;34m\u001b[0m\u001b[0;34m\u001b[0m\u001b[0m\n",
            "\u001b[0;32m/usr/local/lib/python3.12/dist-packages/py4j/protocol.py\u001b[0m in \u001b[0;36mget_return_value\u001b[0;34m(answer, gateway_client, target_id, name)\u001b[0m\n\u001b[1;32m    324\u001b[0m             \u001b[0mvalue\u001b[0m \u001b[0;34m=\u001b[0m \u001b[0mOUTPUT_CONVERTER\u001b[0m\u001b[0;34m[\u001b[0m\u001b[0mtype\u001b[0m\u001b[0;34m]\u001b[0m\u001b[0;34m(\u001b[0m\u001b[0manswer\u001b[0m\u001b[0;34m[\u001b[0m\u001b[0;36m2\u001b[0m\u001b[0;34m:\u001b[0m\u001b[0;34m]\u001b[0m\u001b[0;34m,\u001b[0m \u001b[0mgateway_client\u001b[0m\u001b[0;34m)\u001b[0m\u001b[0;34m\u001b[0m\u001b[0;34m\u001b[0m\u001b[0m\n\u001b[1;32m    325\u001b[0m             \u001b[0;32mif\u001b[0m \u001b[0manswer\u001b[0m\u001b[0;34m[\u001b[0m\u001b[0;36m1\u001b[0m\u001b[0;34m]\u001b[0m \u001b[0;34m==\u001b[0m \u001b[0mREFERENCE_TYPE\u001b[0m\u001b[0;34m:\u001b[0m\u001b[0;34m\u001b[0m\u001b[0;34m\u001b[0m\u001b[0m\n\u001b[0;32m--> 326\u001b[0;31m                 raise Py4JJavaError(\n\u001b[0m\u001b[1;32m    327\u001b[0m                     \u001b[0;34m\"An error occurred while calling {0}{1}{2}.\\n\"\u001b[0m\u001b[0;34m.\u001b[0m\u001b[0;34m\u001b[0m\u001b[0;34m\u001b[0m\u001b[0m\n\u001b[1;32m    328\u001b[0m                     format(target_id, \".\", name), value)\n",
            "\u001b[0;31mPy4JJavaError\u001b[0m: An error occurred while calling o42.sql.\n: org.apache.spark.sql.delta.schema.DeltaInvariantViolationException: [DELTA_VIOLATE_CONSTRAINT_WITH_VALUES] CHECK constraint birthdate (birthDate > '2000-01-01') violated by row with values:\n - birthDate : 921369600000000\n\tat org.apache.spark.sql.delta.schema.DeltaInvariantViolationException$.getConstraintViolationWithValuesException(InvariantViolationException.scala:75)\n\tat org.apache.spark.sql.delta.schema.DeltaInvariantViolationException$.apply(InvariantViolationException.scala:101)\n\tat org.apache.spark.sql.delta.schema.DeltaInvariantViolationException$.apply(InvariantViolationException.scala:112)\n\tat org.apache.spark.sql.delta.schema.DeltaInvariantViolationException.apply(InvariantViolationException.scala)\n\tat org.apache.spark.sql.catalyst.expressions.GeneratedClass$SpecificUnsafeProjection.CheckDeltaInvariant_0$(Unknown Source)\n\tat org.apache.spark.sql.catalyst.expressions.GeneratedClass$SpecificUnsafeProjection.apply(Unknown Source)\n\tat org.apache.spark.sql.delta.constraints.DeltaInvariantCheckerExec.$anonfun$doExecute$3(DeltaInvariantCheckerExec.scala:79)\n\tat scala.collection.Iterator$$anon$10.next(Iterator.scala:461)\n\tat org.apache.spark.sql.execution.datasources.FileFormatDataWriter.writeWithIterator(FileFormatDataWriter.scala:92)\n\tat org.apache.spark.sql.delta.files.DeltaFileFormatWriter$.$anonfun$executeTask$1(DeltaFileFormatWriter.scala:430)\n\tat org.apache.spark.util.Utils$.tryWithSafeFinallyAndFailureCallbacks(Utils.scala:1397)\n\tat org.apache.spark.sql.delta.files.DeltaFileFormatWriter$.executeTask(DeltaFileFormatWriter.scala:437)\n\tat org.apache.spark.sql.delta.files.DeltaFileFormatWriter$.$anonfun$executeWrite$2(DeltaFileFormatWriter.scala:274)\n\tat org.apache.spark.scheduler.ResultTask.runTask(ResultTask.scala:93)\n\tat org.apache.spark.TaskContext.runTaskWithListeners(TaskContext.scala:166)\n\tat org.apache.spark.scheduler.Task.run(Task.scala:141)\n\tat org.apache.spark.executor.Executor$TaskRunner.$anonfun$run$4(Executor.scala:620)\n\tat org.apache.spark.util.SparkErrorUtils.tryWithSafeFinally(SparkErrorUtils.scala:64)\n\tat org.apache.spark.util.SparkErrorUtils.tryWithSafeFinally$(SparkErrorUtils.scala:61)\n\tat org.apache.spark.util.Utils$.tryWithSafeFinally(Utils.scala:94)\n\tat org.apache.spark.executor.Executor$TaskRunner.run(Executor.scala:623)\n\tat java.base/java.util.concurrent.ThreadPoolExecutor.runWorker(ThreadPoolExecutor.java:1128)\n\tat java.base/java.util.concurrent.ThreadPoolExecutor$Worker.run(ThreadPoolExecutor.java:628)\n\tat java.base/java.lang.Thread.run(Thread.java:829)\n"
          ]
        }
      ],
      "source": [
        "spark.sql(\"\"\"insert into default.persons values (47962, \"Bob\",\"1999-03-14\" ,\"456 Oak Ave\") \"\"\")"
      ]
    },
    {
      "cell_type": "markdown",
      "source": [
        "The code above gives the following error :\n",
        "```\n",
        "DeltaInvariantViolationException: getConstraintViolationWithValuesException\n",
        "```\n",
        "which means that the table `default.persons` has one or more constraints defined (beyond `NOT NULL`), and your row doesn't satisfy them.\n",
        "\n",
        "Let's rung the following code to check the constraints defined on `default.persons`."
      ],
      "metadata": {
        "id": "Gx6iEJV2Nmj2"
      }
    },
    {
      "cell_type": "code",
      "source": [
        "# Show table details including constraints\n",
        "details = spark.sql(\"DESCRIBE DETAIL default.persons\")\n",
        "details.select(\"properties\").show(truncate=False)"
      ],
      "metadata": {
        "id": "XS15pO29OGl7",
        "outputId": "8f0f77a5-41b9-4438-9499-8d39ce50fd84",
        "colab": {
          "base_uri": "https://localhost:8080/"
        }
      },
      "execution_count": 69,
      "outputs": [
        {
          "output_type": "stream",
          "name": "stdout",
          "text": [
            "+---------------------------------------------------------+\n",
            "|properties                                               |\n",
            "+---------------------------------------------------------+\n",
            "|{delta.constraints.birthdate -> birthDate > '2000-01-01'}|\n",
            "+---------------------------------------------------------+\n",
            "\n"
          ]
        }
      ]
    },
    {
      "cell_type": "markdown",
      "source": [
        "The `properties` column lists all constraints defined on the table.\n",
        "\n",
        "If we insert a row that violates one of these (e.g., `serial=47962` when `serial < 10000` is required), Delta will raise a `DeltaInvariantViolationException`.\n",
        "\n",
        "Always check `DESCRIBE DETAIL` if we're not sure which rules your table enforces."
      ],
      "metadata": {
        "id": "MxDkkYarOk8E"
      }
    },
    {
      "cell_type": "markdown",
      "metadata": {
        "id": "HVCjZ2MyDGS5"
      },
      "source": [
        "### Generated columns\n",
        "The following  delta table contains three columns `year`, `month` and `day` that must correspond to the date elements in the `saledate` column."
      ]
    },
    {
      "cell_type": "code",
      "execution_count": 70,
      "metadata": {
        "colab": {
          "base_uri": "https://localhost:8080/"
        },
        "id": "nDQp6eD7G-rG",
        "outputId": "c853fe64-d497-41df-b5cf-708b7a18c228"
      },
      "outputs": [
        {
          "output_type": "execute_result",
          "data": {
            "text/plain": [
              "<delta.tables.DeltaTable at 0x7a4b8a36eab0>"
            ]
          },
          "metadata": {},
          "execution_count": 70
        }
      ],
      "source": [
        "from delta.tables import *\n",
        "\n",
        "DeltaTable.createOrReplace(spark) \\\n",
        "  .tableName(\"default.sales\") \\\n",
        "  .addColumn(\"saleid\", \"STRING\") \\\n",
        "  .addColumn(\"saledate\", \"TIMESTAMP\") \\\n",
        "  .addColumn(\"quantity\", \"INT\") \\\n",
        "  .addColumn(\"year\", \"INT\", generatedAlwaysAs=\"YEAR(saledate)\") \\\n",
        "  .addColumn(\"month\", \"INT\", generatedAlwaysAs=\"MONTH(saledate)\") \\\n",
        "  .addColumn(\"day\", \"INT\", generatedAlwaysAs=\"DAYOFMONTH(saledate)\") \\\n",
        "  .partitionedBy(\"year\", \"month\") \\\n",
        "  .execute()"
      ]
    },
    {
      "cell_type": "code",
      "execution_count": 71,
      "metadata": {
        "colab": {
          "base_uri": "https://localhost:8080/"
        },
        "id": "h77HzhcKIPpi",
        "outputId": "ed0c9464-ca28-4f4d-9298-7aa921ec76d0"
      },
      "outputs": [
        {
          "output_type": "execute_result",
          "data": {
            "text/plain": [
              "DataFrame[]"
            ]
          },
          "metadata": {},
          "execution_count": 71
        }
      ],
      "source": [
        "spark.sql(\"\"\"\n",
        "insert into default.sales\n",
        "values ('S000000124','2023-02-26 00:00:00',2.0,2023,02,26)\n",
        "\"\"\")"
      ]
    },
    {
      "cell_type": "code",
      "execution_count": 72,
      "metadata": {
        "colab": {
          "base_uri": "https://localhost:8080/"
        },
        "id": "KqE9dVCNIVm0",
        "outputId": "7595be01-f1a6-4c5e-cf77-e886be7e34f1"
      },
      "outputs": [
        {
          "output_type": "stream",
          "name": "stdout",
          "text": [
            "+----------+-------------------+--------+----+-----+---+\n",
            "|    saleid|           saledate|quantity|year|month|day|\n",
            "+----------+-------------------+--------+----+-----+---+\n",
            "|S000000124|2023-02-26 00:00:00|       2|2023|    2| 26|\n",
            "+----------+-------------------+--------+----+-----+---+\n",
            "\n"
          ]
        }
      ],
      "source": [
        "spark.sql(\"\"\" select * from default.sales \"\"\").show()"
      ]
    },
    {
      "cell_type": "markdown",
      "metadata": {
        "id": "R0ag38IaIgvW"
      },
      "source": [
        "can we run the following command?"
      ]
    },
    {
      "cell_type": "code",
      "execution_count": 73,
      "metadata": {
        "id": "YaBbdOXvIan7",
        "outputId": "aff3fcd3-0383-49a2-8c4f-62a05aa23236",
        "colab": {
          "base_uri": "https://localhost:8080/",
          "height": 845
        }
      },
      "outputs": [
        {
          "output_type": "error",
          "ename": "Py4JJavaError",
          "evalue": "An error occurred while calling o42.sql.\n: org.apache.spark.sql.delta.schema.DeltaInvariantViolationException: [DELTA_VIOLATE_CONSTRAINT_WITH_VALUES] CHECK constraint Generated Column (year <=> YEAR(saledate)) violated by row with values:\n - saledate : 1708905600000000\n - year : 2023\n\tat org.apache.spark.sql.delta.schema.DeltaInvariantViolationException$.getConstraintViolationWithValuesException(InvariantViolationException.scala:75)\n\tat org.apache.spark.sql.delta.schema.DeltaInvariantViolationException$.apply(InvariantViolationException.scala:101)\n\tat org.apache.spark.sql.delta.schema.DeltaInvariantViolationException$.apply(InvariantViolationException.scala:112)\n\tat org.apache.spark.sql.delta.schema.DeltaInvariantViolationException.apply(InvariantViolationException.scala)\n\tat org.apache.spark.sql.catalyst.expressions.GeneratedClass$SpecificUnsafeProjection.CheckDeltaInvariant_0$(Unknown Source)\n\tat org.apache.spark.sql.catalyst.expressions.GeneratedClass$SpecificUnsafeProjection.apply(Unknown Source)\n\tat org.apache.spark.sql.delta.constraints.DeltaInvariantCheckerExec.$anonfun$doExecute$3(DeltaInvariantCheckerExec.scala:79)\n\tat scala.collection.Iterator$$anon$10.next(Iterator.scala:461)\n\tat org.apache.spark.sql.execution.UnsafeExternalRowSorter.sort(UnsafeExternalRowSorter.java:226)\n\tat org.apache.spark.sql.execution.SortExec.$anonfun$doExecute$1(SortExec.scala:119)\n\tat org.apache.spark.rdd.RDD.$anonfun$mapPartitionsInternal$2(RDD.scala:893)\n\tat org.apache.spark.rdd.RDD.$anonfun$mapPartitionsInternal$2$adapted(RDD.scala:893)\n\tat org.apache.spark.rdd.MapPartitionsRDD.compute(MapPartitionsRDD.scala:52)\n\tat org.apache.spark.rdd.RDD.computeOrReadCheckpoint(RDD.scala:367)\n\tat org.apache.spark.rdd.RDD.iterator(RDD.scala:331)\n\tat org.apache.spark.scheduler.ResultTask.runTask(ResultTask.scala:93)\n\tat org.apache.spark.TaskContext.runTaskWithListeners(TaskContext.scala:166)\n\tat org.apache.spark.scheduler.Task.run(Task.scala:141)\n\tat org.apache.spark.executor.Executor$TaskRunner.$anonfun$run$4(Executor.scala:620)\n\tat org.apache.spark.util.SparkErrorUtils.tryWithSafeFinally(SparkErrorUtils.scala:64)\n\tat org.apache.spark.util.SparkErrorUtils.tryWithSafeFinally$(SparkErrorUtils.scala:61)\n\tat org.apache.spark.util.Utils$.tryWithSafeFinally(Utils.scala:94)\n\tat org.apache.spark.executor.Executor$TaskRunner.run(Executor.scala:623)\n\tat java.base/java.util.concurrent.ThreadPoolExecutor.runWorker(ThreadPoolExecutor.java:1128)\n\tat java.base/java.util.concurrent.ThreadPoolExecutor$Worker.run(ThreadPoolExecutor.java:628)\n\tat java.base/java.lang.Thread.run(Thread.java:829)\n",
          "traceback": [
            "\u001b[0;31m---------------------------------------------------------------------------\u001b[0m",
            "\u001b[0;31mPy4JJavaError\u001b[0m                             Traceback (most recent call last)",
            "\u001b[0;32m/tmp/ipython-input-2188181457.py\u001b[0m in \u001b[0;36m<cell line: 0>\u001b[0;34m()\u001b[0m\n\u001b[0;32m----> 1\u001b[0;31m \u001b[0mspark\u001b[0m\u001b[0;34m.\u001b[0m\u001b[0msql\u001b[0m\u001b[0;34m(\u001b[0m\u001b[0;34m\"\"\" insert into default.sales values ('S000000124','2024-02-26 00:00:00',2.0,2023,02,26)  \"\"\"\u001b[0m\u001b[0;34m)\u001b[0m\u001b[0;34m\u001b[0m\u001b[0;34m\u001b[0m\u001b[0m\n\u001b[0m",
            "\u001b[0;32m/usr/local/lib/python3.12/dist-packages/pyspark/sql/session.py\u001b[0m in \u001b[0;36msql\u001b[0;34m(self, sqlQuery, args, **kwargs)\u001b[0m\n\u001b[1;32m   1629\u001b[0m                     \u001b[0;34m[\u001b[0m\u001b[0m_to_java_column\u001b[0m\u001b[0;34m(\u001b[0m\u001b[0mlit\u001b[0m\u001b[0;34m(\u001b[0m\u001b[0mv\u001b[0m\u001b[0;34m)\u001b[0m\u001b[0;34m)\u001b[0m \u001b[0;32mfor\u001b[0m \u001b[0mv\u001b[0m \u001b[0;32min\u001b[0m \u001b[0;34m(\u001b[0m\u001b[0margs\u001b[0m \u001b[0;32mor\u001b[0m \u001b[0;34m[\u001b[0m\u001b[0;34m]\u001b[0m\u001b[0;34m)\u001b[0m\u001b[0;34m]\u001b[0m\u001b[0;34m\u001b[0m\u001b[0;34m\u001b[0m\u001b[0m\n\u001b[1;32m   1630\u001b[0m                 )\n\u001b[0;32m-> 1631\u001b[0;31m             \u001b[0;32mreturn\u001b[0m \u001b[0mDataFrame\u001b[0m\u001b[0;34m(\u001b[0m\u001b[0mself\u001b[0m\u001b[0;34m.\u001b[0m\u001b[0m_jsparkSession\u001b[0m\u001b[0;34m.\u001b[0m\u001b[0msql\u001b[0m\u001b[0;34m(\u001b[0m\u001b[0msqlQuery\u001b[0m\u001b[0;34m,\u001b[0m \u001b[0mlitArgs\u001b[0m\u001b[0;34m)\u001b[0m\u001b[0;34m,\u001b[0m \u001b[0mself\u001b[0m\u001b[0;34m)\u001b[0m\u001b[0;34m\u001b[0m\u001b[0;34m\u001b[0m\u001b[0m\n\u001b[0m\u001b[1;32m   1632\u001b[0m         \u001b[0;32mfinally\u001b[0m\u001b[0;34m:\u001b[0m\u001b[0;34m\u001b[0m\u001b[0;34m\u001b[0m\u001b[0m\n\u001b[1;32m   1633\u001b[0m             \u001b[0;32mif\u001b[0m \u001b[0mlen\u001b[0m\u001b[0;34m(\u001b[0m\u001b[0mkwargs\u001b[0m\u001b[0;34m)\u001b[0m \u001b[0;34m>\u001b[0m \u001b[0;36m0\u001b[0m\u001b[0;34m:\u001b[0m\u001b[0;34m\u001b[0m\u001b[0;34m\u001b[0m\u001b[0m\n",
            "\u001b[0;32m/usr/local/lib/python3.12/dist-packages/py4j/java_gateway.py\u001b[0m in \u001b[0;36m__call__\u001b[0;34m(self, *args)\u001b[0m\n\u001b[1;32m   1320\u001b[0m \u001b[0;34m\u001b[0m\u001b[0m\n\u001b[1;32m   1321\u001b[0m         \u001b[0manswer\u001b[0m \u001b[0;34m=\u001b[0m \u001b[0mself\u001b[0m\u001b[0;34m.\u001b[0m\u001b[0mgateway_client\u001b[0m\u001b[0;34m.\u001b[0m\u001b[0msend_command\u001b[0m\u001b[0;34m(\u001b[0m\u001b[0mcommand\u001b[0m\u001b[0;34m)\u001b[0m\u001b[0;34m\u001b[0m\u001b[0;34m\u001b[0m\u001b[0m\n\u001b[0;32m-> 1322\u001b[0;31m         return_value = get_return_value(\n\u001b[0m\u001b[1;32m   1323\u001b[0m             answer, self.gateway_client, self.target_id, self.name)\n\u001b[1;32m   1324\u001b[0m \u001b[0;34m\u001b[0m\u001b[0m\n",
            "\u001b[0;32m/usr/local/lib/python3.12/dist-packages/pyspark/errors/exceptions/captured.py\u001b[0m in \u001b[0;36mdeco\u001b[0;34m(*a, **kw)\u001b[0m\n\u001b[1;32m    177\u001b[0m     \u001b[0;32mdef\u001b[0m \u001b[0mdeco\u001b[0m\u001b[0;34m(\u001b[0m\u001b[0;34m*\u001b[0m\u001b[0ma\u001b[0m\u001b[0;34m:\u001b[0m \u001b[0mAny\u001b[0m\u001b[0;34m,\u001b[0m \u001b[0;34m**\u001b[0m\u001b[0mkw\u001b[0m\u001b[0;34m:\u001b[0m \u001b[0mAny\u001b[0m\u001b[0;34m)\u001b[0m \u001b[0;34m->\u001b[0m \u001b[0mAny\u001b[0m\u001b[0;34m:\u001b[0m\u001b[0;34m\u001b[0m\u001b[0;34m\u001b[0m\u001b[0m\n\u001b[1;32m    178\u001b[0m         \u001b[0;32mtry\u001b[0m\u001b[0;34m:\u001b[0m\u001b[0;34m\u001b[0m\u001b[0;34m\u001b[0m\u001b[0m\n\u001b[0;32m--> 179\u001b[0;31m             \u001b[0;32mreturn\u001b[0m \u001b[0mf\u001b[0m\u001b[0;34m(\u001b[0m\u001b[0;34m*\u001b[0m\u001b[0ma\u001b[0m\u001b[0;34m,\u001b[0m \u001b[0;34m**\u001b[0m\u001b[0mkw\u001b[0m\u001b[0;34m)\u001b[0m\u001b[0;34m\u001b[0m\u001b[0;34m\u001b[0m\u001b[0m\n\u001b[0m\u001b[1;32m    180\u001b[0m         \u001b[0;32mexcept\u001b[0m \u001b[0mPy4JJavaError\u001b[0m \u001b[0;32mas\u001b[0m \u001b[0me\u001b[0m\u001b[0;34m:\u001b[0m\u001b[0;34m\u001b[0m\u001b[0;34m\u001b[0m\u001b[0m\n\u001b[1;32m    181\u001b[0m             \u001b[0mconverted\u001b[0m \u001b[0;34m=\u001b[0m \u001b[0mconvert_exception\u001b[0m\u001b[0;34m(\u001b[0m\u001b[0me\u001b[0m\u001b[0;34m.\u001b[0m\u001b[0mjava_exception\u001b[0m\u001b[0;34m)\u001b[0m\u001b[0;34m\u001b[0m\u001b[0;34m\u001b[0m\u001b[0m\n",
            "\u001b[0;32m/usr/local/lib/python3.12/dist-packages/py4j/protocol.py\u001b[0m in \u001b[0;36mget_return_value\u001b[0;34m(answer, gateway_client, target_id, name)\u001b[0m\n\u001b[1;32m    324\u001b[0m             \u001b[0mvalue\u001b[0m \u001b[0;34m=\u001b[0m \u001b[0mOUTPUT_CONVERTER\u001b[0m\u001b[0;34m[\u001b[0m\u001b[0mtype\u001b[0m\u001b[0;34m]\u001b[0m\u001b[0;34m(\u001b[0m\u001b[0manswer\u001b[0m\u001b[0;34m[\u001b[0m\u001b[0;36m2\u001b[0m\u001b[0;34m:\u001b[0m\u001b[0;34m]\u001b[0m\u001b[0;34m,\u001b[0m \u001b[0mgateway_client\u001b[0m\u001b[0;34m)\u001b[0m\u001b[0;34m\u001b[0m\u001b[0;34m\u001b[0m\u001b[0m\n\u001b[1;32m    325\u001b[0m             \u001b[0;32mif\u001b[0m \u001b[0manswer\u001b[0m\u001b[0;34m[\u001b[0m\u001b[0;36m1\u001b[0m\u001b[0;34m]\u001b[0m \u001b[0;34m==\u001b[0m \u001b[0mREFERENCE_TYPE\u001b[0m\u001b[0;34m:\u001b[0m\u001b[0;34m\u001b[0m\u001b[0;34m\u001b[0m\u001b[0m\n\u001b[0;32m--> 326\u001b[0;31m                 raise Py4JJavaError(\n\u001b[0m\u001b[1;32m    327\u001b[0m                     \u001b[0;34m\"An error occurred while calling {0}{1}{2}.\\n\"\u001b[0m\u001b[0;34m.\u001b[0m\u001b[0;34m\u001b[0m\u001b[0;34m\u001b[0m\u001b[0m\n\u001b[1;32m    328\u001b[0m                     format(target_id, \".\", name), value)\n",
            "\u001b[0;31mPy4JJavaError\u001b[0m: An error occurred while calling o42.sql.\n: org.apache.spark.sql.delta.schema.DeltaInvariantViolationException: [DELTA_VIOLATE_CONSTRAINT_WITH_VALUES] CHECK constraint Generated Column (year <=> YEAR(saledate)) violated by row with values:\n - saledate : 1708905600000000\n - year : 2023\n\tat org.apache.spark.sql.delta.schema.DeltaInvariantViolationException$.getConstraintViolationWithValuesException(InvariantViolationException.scala:75)\n\tat org.apache.spark.sql.delta.schema.DeltaInvariantViolationException$.apply(InvariantViolationException.scala:101)\n\tat org.apache.spark.sql.delta.schema.DeltaInvariantViolationException$.apply(InvariantViolationException.scala:112)\n\tat org.apache.spark.sql.delta.schema.DeltaInvariantViolationException.apply(InvariantViolationException.scala)\n\tat org.apache.spark.sql.catalyst.expressions.GeneratedClass$SpecificUnsafeProjection.CheckDeltaInvariant_0$(Unknown Source)\n\tat org.apache.spark.sql.catalyst.expressions.GeneratedClass$SpecificUnsafeProjection.apply(Unknown Source)\n\tat org.apache.spark.sql.delta.constraints.DeltaInvariantCheckerExec.$anonfun$doExecute$3(DeltaInvariantCheckerExec.scala:79)\n\tat scala.collection.Iterator$$anon$10.next(Iterator.scala:461)\n\tat org.apache.spark.sql.execution.UnsafeExternalRowSorter.sort(UnsafeExternalRowSorter.java:226)\n\tat org.apache.spark.sql.execution.SortExec.$anonfun$doExecute$1(SortExec.scala:119)\n\tat org.apache.spark.rdd.RDD.$anonfun$mapPartitionsInternal$2(RDD.scala:893)\n\tat org.apache.spark.rdd.RDD.$anonfun$mapPartitionsInternal$2$adapted(RDD.scala:893)\n\tat org.apache.spark.rdd.MapPartitionsRDD.compute(MapPartitionsRDD.scala:52)\n\tat org.apache.spark.rdd.RDD.computeOrReadCheckpoint(RDD.scala:367)\n\tat org.apache.spark.rdd.RDD.iterator(RDD.scala:331)\n\tat org.apache.spark.scheduler.ResultTask.runTask(ResultTask.scala:93)\n\tat org.apache.spark.TaskContext.runTaskWithListeners(TaskContext.scala:166)\n\tat org.apache.spark.scheduler.Task.run(Task.scala:141)\n\tat org.apache.spark.executor.Executor$TaskRunner.$anonfun$run$4(Executor.scala:620)\n\tat org.apache.spark.util.SparkErrorUtils.tryWithSafeFinally(SparkErrorUtils.scala:64)\n\tat org.apache.spark.util.SparkErrorUtils.tryWithSafeFinally$(SparkErrorUtils.scala:61)\n\tat org.apache.spark.util.Utils$.tryWithSafeFinally(Utils.scala:94)\n\tat org.apache.spark.executor.Executor$TaskRunner.run(Executor.scala:623)\n\tat java.base/java.util.concurrent.ThreadPoolExecutor.runWorker(ThreadPoolExecutor.java:1128)\n\tat java.base/java.util.concurrent.ThreadPoolExecutor$Worker.run(ThreadPoolExecutor.java:628)\n\tat java.base/java.lang.Thread.run(Thread.java:829)\n"
          ]
        }
      ],
      "source": [
        "spark.sql(\"\"\" insert into default.sales values ('S000000124','2024-02-26 00:00:00',2.0,2023,02,26)  \"\"\")"
      ]
    },
    {
      "cell_type": "markdown",
      "source": [
        "The code above gives the following error :\n",
        "```\n",
        "DeltaInvariantViolationException: getConstraintViolationWithValuesException\n",
        "```\n",
        "That means the `default.sales` Delta table has constraints (like `NOT NULL` or `CHECK`) and our row broke one of them."
      ],
      "metadata": {
        "id": "UtPYc4oyPMAE"
      }
    },
    {
      "cell_type": "markdown",
      "metadata": {
        "id": "JgchT6SU7-xR"
      },
      "source": [
        "## Exercice to solve"
      ]
    },
    {
      "cell_type": "markdown",
      "metadata": {
        "id": "Z1G5IVktAXSx"
      },
      "source": [
        "### Data import"
      ]
    },
    {
      "cell_type": "code",
      "execution_count": 74,
      "metadata": {
        "colab": {
          "base_uri": "https://localhost:8080/"
        },
        "id": "ordeWbBrN4nx",
        "outputId": "e63f13de-3295-4aa4-8301-f0fdad5393d8"
      },
      "outputs": [
        {
          "output_type": "execute_result",
          "data": {
            "text/plain": [
              "DataFrame[]"
            ]
          },
          "metadata": {},
          "execution_count": 74
        }
      ],
      "source": [
        "query = \"\"\"\n",
        "CREATE TABLE IF NOT EXISTS salesOriginal\n",
        "USING csv\n",
        "OPTIONS (\n",
        "  header \"true\",\n",
        "  path \"/tmp/delta/sales/salesOriginal.csv\",\n",
        "  inferSchema \"true\"\n",
        ")\n",
        "\"\"\"\n",
        "spark.sql(query)"
      ]
    },
    {
      "cell_type": "code",
      "execution_count": 75,
      "metadata": {
        "colab": {
          "base_uri": "https://localhost:8080/"
        },
        "id": "g0Edbb9NQMdt",
        "outputId": "dfe90c01-b1d9-475c-b8b2-3069e37eb8dc"
      },
      "outputs": [
        {
          "output_type": "stream",
          "name": "stdout",
          "text": [
            "+-------------+---------+-------+\n",
            "|     col_name|data_type|comment|\n",
            "+-------------+---------+-------+\n",
            "|       saleid|   string|   NULL|\n",
            "|     saledate|     date|   NULL|\n",
            "|     quantity|   double|   NULL|\n",
            "|    unitprice|   double|   NULL|\n",
            "|       shopid|   string|   NULL|\n",
            "|         city|   string|   NULL|\n",
            "|        state|   string|   NULL|\n",
            "|      country|   string|   NULL|\n",
            "|     shopsize|   string|   NULL|\n",
            "|    productid|   string|   NULL|\n",
            "|     category|   string|   NULL|\n",
            "|  subcategory|   string|   NULL|\n",
            "|         size|   string|   NULL|\n",
            "|purchaseprice|   double|   NULL|\n",
            "|        color|   string|   NULL|\n",
            "|        brand|   string|   NULL|\n",
            "+-------------+---------+-------+\n",
            "\n"
          ]
        }
      ],
      "source": [
        "query = \"\"\"\n",
        "DESCRIBE salesOriginal\n",
        "\"\"\"\n",
        "spark.sql(query).show()"
      ]
    },
    {
      "cell_type": "code",
      "execution_count": 76,
      "metadata": {
        "colab": {
          "base_uri": "https://localhost:8080/"
        },
        "id": "s0W7igW8QZbn",
        "outputId": "67518158-6edd-42c1-a4da-0f58fb895350"
      },
      "outputs": [
        {
          "output_type": "execute_result",
          "data": {
            "text/plain": [
              "DataFrame[]"
            ]
          },
          "metadata": {},
          "execution_count": 76
        }
      ],
      "source": [
        "query = \"\"\"\n",
        "CREATE TABLE IF NOT EXISTS march23_sales\n",
        "USING csv\n",
        "OPTIONS (\n",
        "  header \"true\",\n",
        "  path \"/tmp/delta/sales/march23_sales.csv\",\n",
        "  inferSchema \"true\"\n",
        ")\n",
        "\"\"\"\n",
        "spark.sql(query)"
      ]
    },
    {
      "cell_type": "code",
      "execution_count": 77,
      "metadata": {
        "colab": {
          "base_uri": "https://localhost:8080/"
        },
        "id": "v_tVBHO4QdNU",
        "outputId": "ad847703-44b0-4bb6-f2e8-bcbc7be20e35"
      },
      "outputs": [
        {
          "output_type": "stream",
          "name": "stdout",
          "text": [
            "+-------------+---------+-------+\n",
            "|     col_name|data_type|comment|\n",
            "+-------------+---------+-------+\n",
            "|       saleid|   string|   NULL|\n",
            "|     saledate|     date|   NULL|\n",
            "|     quantity|   double|   NULL|\n",
            "|    unitprice|   double|   NULL|\n",
            "|       shopid|   string|   NULL|\n",
            "|         city|   string|   NULL|\n",
            "|        state|   string|   NULL|\n",
            "|      country|   string|   NULL|\n",
            "|     shopsize|   string|   NULL|\n",
            "|    productid|   string|   NULL|\n",
            "|     category|   string|   NULL|\n",
            "|  subcategory|   string|   NULL|\n",
            "|         size|   string|   NULL|\n",
            "|purchaseprice|   double|   NULL|\n",
            "|        color|   string|   NULL|\n",
            "|        brand|   string|   NULL|\n",
            "+-------------+---------+-------+\n",
            "\n"
          ]
        }
      ],
      "source": [
        "query = \"\"\"\n",
        "DESCRIBE march23_sales\n",
        "\"\"\"\n",
        "spark.sql(query).show()"
      ]
    },
    {
      "cell_type": "code",
      "execution_count": 78,
      "metadata": {
        "colab": {
          "base_uri": "https://localhost:8080/"
        },
        "id": "6QfLaZbENqqx",
        "outputId": "68dbca8b-8e3b-4bb3-d219-e470679309da"
      },
      "outputs": [
        {
          "output_type": "stream",
          "name": "stdout",
          "text": [
            "+--------+\n",
            "|count(1)|\n",
            "+--------+\n",
            "|      84|\n",
            "+--------+\n",
            "\n"
          ]
        }
      ],
      "source": [
        "query = \"\"\"\n",
        "SELECT count(*) FROM  march23_sales\n",
        "\"\"\"\n",
        "spark.sql(query).show(5)"
      ]
    },
    {
      "cell_type": "markdown",
      "metadata": {
        "id": "6e_agqb2v0n2"
      },
      "source": [
        "### Creation of the delta tables"
      ]
    },
    {
      "cell_type": "code",
      "execution_count": 79,
      "metadata": {
        "colab": {
          "base_uri": "https://localhost:8080/"
        },
        "id": "mWVBUgduQtNF",
        "outputId": "e0f15db2-62a9-46ca-fa5c-e49ebbdcabfa"
      },
      "outputs": [
        {
          "output_type": "execute_result",
          "data": {
            "text/plain": [
              "DataFrame[]"
            ]
          },
          "metadata": {},
          "execution_count": 79
        }
      ],
      "source": [
        "query = \"\"\"\n",
        "CREATE TABLE delta.`/tmp/deltaSales` USING DELTA AS SELECT * FROM salesOriginal;\n",
        "\"\"\"\n",
        "spark.sql(query)"
      ]
    },
    {
      "cell_type": "code",
      "execution_count": 80,
      "metadata": {
        "colab": {
          "base_uri": "https://localhost:8080/"
        },
        "id": "HvFi5eYOREaI",
        "outputId": "de53dc10-43a0-414b-d745-f297a3db6a1a"
      },
      "outputs": [
        {
          "output_type": "stream",
          "name": "stdout",
          "text": [
            "+----------+----------+--------+---------+------+-------------+----------+-------+--------+---------+---------+-----------+------+-------------+-----+-----+\n",
            "|    saleid|  saledate|quantity|unitprice|shopid|         city|     state|country|shopsize|productid| category|subcategory|  size|purchaseprice|color|brand|\n",
            "+----------+----------+--------+---------+------+-------------+----------+-------+--------+---------+---------+-----------+------+-------------+-----+-----+\n",
            "|S000000124|2023-02-26|     2.0|     60.0|shop_4|San Francisco|California|    USA|   small|    CHA_2|Furniture|      Chair|  NULL|         48.0| blue|Basic|\n",
            "|S000000125|2023-02-25|     1.0|    150.0|shop_5|      Houston|     Texas|    USA|   small|    BED_3|Furniture|        Bed|Single|        127.0|  red| Mega|\n",
            "|S000000126|2023-02-24|     1.0|    300.0|shop_6|  San Antonio|     Texas|    USA|   small|    BED_4|Furniture|        Bed|Double|        252.0|brown|Basic|\n",
            "|S000000127|2023-02-23|     1.0|    395.0|shop_7|      Chicago|  Illinois|    USA|   small|    BED_5|Furniture|        Bed| Queen|        333.0|black| Mega|\n",
            "|S000000128|2023-02-22|     4.0|    440.0|shop_8|   Regensburg|   Bavaria|Germany|   small|    BED_6|Furniture|        Bed|  King|        375.0|white|Basic|\n",
            "+----------+----------+--------+---------+------+-------------+----------+-------+--------+---------+---------+-----------+------+-------------+-----+-----+\n",
            "only showing top 5 rows\n",
            "\n"
          ]
        }
      ],
      "source": [
        "query = \"\"\"\n",
        "SELECT * FROM  delta.`/tmp/deltaSales`\n",
        "\"\"\"\n",
        "spark.sql(query).show(5)"
      ]
    },
    {
      "cell_type": "code",
      "execution_count": 81,
      "metadata": {
        "colab": {
          "base_uri": "https://localhost:8080/"
        },
        "id": "dUkfdbjjNjaj",
        "outputId": "b79ed5f8-2418-449a-bb43-8bfeaea3772f"
      },
      "outputs": [
        {
          "output_type": "stream",
          "name": "stdout",
          "text": [
            "+--------+\n",
            "|count(1)|\n",
            "+--------+\n",
            "|    4916|\n",
            "+--------+\n",
            "\n"
          ]
        }
      ],
      "source": [
        "query = \"\"\"\n",
        "SELECT count(*) FROM  delta.`/tmp/deltaSales`\n",
        "\"\"\"\n",
        "spark.sql(query).show()"
      ]
    },
    {
      "cell_type": "markdown",
      "metadata": {
        "id": "Dmo8PBuNAK_o"
      },
      "source": [
        "### Adding new records\n",
        "Write a merge statement to insert the march 2023 records into `deltaSales`"
      ]
    },
    {
      "cell_type": "code",
      "execution_count": 82,
      "metadata": {
        "colab": {
          "base_uri": "https://localhost:8080/"
        },
        "id": "1QXirBTdN2k8",
        "outputId": "192f17a0-eb10-4805-b445-c93a410b87be"
      },
      "outputs": [
        {
          "output_type": "stream",
          "name": "stdout",
          "text": [
            "+-----------------+----------------+----------------+-----------------+\n",
            "|num_affected_rows|num_updated_rows|num_deleted_rows|num_inserted_rows|\n",
            "+-----------------+----------------+----------------+-----------------+\n",
            "|               84|               0|               0|               84|\n",
            "+-----------------+----------------+----------------+-----------------+\n",
            "\n"
          ]
        }
      ],
      "source": [
        "query = \"\"\"\n",
        "MERGE INTO delta.`/tmp/deltaSales` AS oldData\n",
        "USING march23_sales\n",
        "ON oldData.saleid = march23_sales.saleid\n",
        "WHEN NOT MATCHED\n",
        "  THEN INSERT *;\n",
        "\n",
        "\"\"\"\n",
        "spark.sql(query).show()"
      ]
    },
    {
      "cell_type": "markdown",
      "metadata": {
        "id": "jJ0GWq2OAR06"
      },
      "source": [
        "### Updating records\n",
        "Write update statements that increases the unitprice of products sold on 2023, based on their category, as follows: furniture -> 5%, others -> 10%"
      ]
    },
    {
      "cell_type": "code",
      "execution_count": 83,
      "metadata": {
        "colab": {
          "base_uri": "https://localhost:8080/"
        },
        "id": "OvjFyUD4PMqr",
        "outputId": "08712a44-c335-4972-ae91-3505c2f32f5d"
      },
      "outputs": [
        {
          "output_type": "stream",
          "name": "stdout",
          "text": [
            "+---------+--------+\n",
            "| category|count(1)|\n",
            "+---------+--------+\n",
            "|Furniture|     882|\n",
            "|    Cloth|    1680|\n",
            "+---------+--------+\n",
            "\n"
          ]
        }
      ],
      "source": [
        "query = \"\"\"\n",
        "select category, count(*) from delta.`/tmp/deltaSales`\n",
        "WHERE YEAR(saledate) >=2023\n",
        "group by category\n",
        "\"\"\"\n",
        "spark.sql(query).show()"
      ]
    },
    {
      "cell_type": "code",
      "execution_count": 84,
      "metadata": {
        "colab": {
          "base_uri": "https://localhost:8080/"
        },
        "id": "UPs31eToTAwT",
        "outputId": "e2d6be14-8db3-439d-b4ae-cc9340433bfe"
      },
      "outputs": [
        {
          "output_type": "stream",
          "name": "stdout",
          "text": [
            "+-----------------+\n",
            "|num_affected_rows|\n",
            "+-----------------+\n",
            "|              882|\n",
            "+-----------------+\n",
            "\n"
          ]
        }
      ],
      "source": [
        "query = \"\"\"\n",
        "update delta.`/tmp/deltaSales`\n",
        "set unitprice=unitprice*1.05\n",
        "WHERE category='Furniture' and YEAR(saledate) >=2023\n",
        "\"\"\"\n",
        "spark.sql(query).show()"
      ]
    },
    {
      "cell_type": "code",
      "execution_count": 85,
      "metadata": {
        "colab": {
          "base_uri": "https://localhost:8080/"
        },
        "id": "XYz5VmL-U2qn",
        "outputId": "afd68738-7a29-483d-974d-a2295ef35d8e"
      },
      "outputs": [
        {
          "output_type": "stream",
          "name": "stdout",
          "text": [
            "+-----------------+\n",
            "|num_affected_rows|\n",
            "+-----------------+\n",
            "|             1680|\n",
            "+-----------------+\n",
            "\n"
          ]
        }
      ],
      "source": [
        "query = \"\"\"\n",
        "update delta.`/tmp/deltaSales`\n",
        "set unitprice=unitprice*1.1\n",
        "WHERE category!='Furniture' and YEAR(saledate) >=2023\n",
        "\"\"\"\n",
        "spark.sql(query).show()"
      ]
    },
    {
      "cell_type": "markdown",
      "metadata": {
        "id": "hNyHm2oly6Cg"
      },
      "source": [
        "### Removing old records\n",
        "remove all sales older than 01-Jan-2023. How many records remain?"
      ]
    },
    {
      "cell_type": "code",
      "execution_count": 86,
      "metadata": {
        "colab": {
          "base_uri": "https://localhost:8080/"
        },
        "id": "Q7mXQSQWQjNL",
        "outputId": "e17c0402-237e-4d2b-aebc-df0f82d08168"
      },
      "outputs": [
        {
          "output_type": "stream",
          "name": "stdout",
          "text": [
            "+--------+\n",
            "|count(1)|\n",
            "+--------+\n",
            "|    2438|\n",
            "+--------+\n",
            "\n"
          ]
        }
      ],
      "source": [
        "query = \"\"\"\n",
        "select count(*) from delta.`/tmp/deltaSales`\n",
        "WHERE saledate <'2023-01-01'\n",
        "\"\"\"\n",
        "spark.sql(query).show()"
      ]
    },
    {
      "cell_type": "code",
      "execution_count": 87,
      "metadata": {
        "colab": {
          "base_uri": "https://localhost:8080/"
        },
        "id": "3OQOnU2nVMpV",
        "outputId": "64f600ba-3e36-4a5e-b224-720b0c23b399"
      },
      "outputs": [
        {
          "output_type": "stream",
          "name": "stdout",
          "text": [
            "+-----------------+\n",
            "|num_affected_rows|\n",
            "+-----------------+\n",
            "|             2438|\n",
            "+-----------------+\n",
            "\n"
          ]
        }
      ],
      "source": [
        "query = \"\"\"\n",
        "delete from delta.`/tmp/deltaSales`\n",
        "WHERE saledate <'2023-01-01'\n",
        "\"\"\"\n",
        "spark.sql(query).show()"
      ]
    },
    {
      "cell_type": "markdown",
      "metadata": {
        "id": "3y09Br-I04C8"
      },
      "source": [
        "### History viewing\n"
      ]
    },
    {
      "cell_type": "code",
      "execution_count": 88,
      "metadata": {
        "colab": {
          "base_uri": "https://localhost:8080/"
        },
        "id": "LWrOrQfDVfms",
        "outputId": "6bed004d-28c2-42fb-90c1-1d1d48292a2a"
      },
      "outputs": [
        {
          "output_type": "stream",
          "name": "stdout",
          "text": [
            "+-------+--------------------+------+--------+--------------------+--------------------+----+--------+---------+-----------+--------------+-------------+--------------------+------------+--------------------+\n",
            "|version|           timestamp|userId|userName|           operation| operationParameters| job|notebook|clusterId|readVersion|isolationLevel|isBlindAppend|    operationMetrics|userMetadata|          engineInfo|\n",
            "+-------+--------------------+------+--------+--------------------+--------------------+----+--------+---------+-----------+--------------+-------------+--------------------+------------+--------------------+\n",
            "|      4|2025-08-22 19:25:...|  NULL|    NULL|              DELETE|{predicate -> [\"(...|NULL|    NULL|     NULL|          3|  Serializable|        false|{numRemovedFiles ...|        NULL|Apache-Spark/3.5....|\n",
            "|      3|2025-08-22 19:25:...|  NULL|    NULL|              UPDATE|{predicate -> [\"(...|NULL|    NULL|     NULL|          2|  Serializable|        false|{numRemovedFiles ...|        NULL|Apache-Spark/3.5....|\n",
            "|      2|2025-08-22 19:25:...|  NULL|    NULL|              UPDATE|{predicate -> [\"(...|NULL|    NULL|     NULL|          1|  Serializable|        false|{numRemovedFiles ...|        NULL|Apache-Spark/3.5....|\n",
            "|      1|2025-08-22 19:25:...|  NULL|    NULL|               MERGE|{predicate -> [\"(...|NULL|    NULL|     NULL|          0|  Serializable|        false|{numTargetRowsCop...|        NULL|Apache-Spark/3.5....|\n",
            "|      0|2025-08-22 19:24:...|  NULL|    NULL|CREATE TABLE AS S...|{isManaged -> fal...|NULL|    NULL|     NULL|       NULL|  Serializable|         true|{numFiles -> 1, n...|        NULL|Apache-Spark/3.5....|\n",
            "+-------+--------------------+------+--------+--------------------+--------------------+----+--------+---------+-----------+--------------+-------------+--------------------+------------+--------------------+\n",
            "\n"
          ]
        }
      ],
      "source": [
        "queryv = \"\"\"\n",
        "DESCRIBE HISTORY delta.`/tmp/deltaSales`\n",
        "\"\"\"\n",
        "dfv = spark.sql(queryv)\n",
        "dfv.show()"
      ]
    },
    {
      "cell_type": "code",
      "execution_count": 89,
      "metadata": {
        "colab": {
          "base_uri": "https://localhost:8080/"
        },
        "id": "Zna2qqvSrSXk",
        "outputId": "eceb83e2-e0ec-4108-de59-9549ae8032ad"
      },
      "outputs": [
        {
          "output_type": "stream",
          "name": "stdout",
          "text": [
            "+----------------------+-----------------------------------------------------------------------------------------------------------------------------------------------------------------------------------------------------------------------------------------------------------------------------------------------------------------------------------------------------------------------------------------------------------------------------------------------------------------------------------------------------------------------------------------------------------------------------------------------------------------------------------------------------+\n",
            "|operation             |operationMetrics                                                                                                                                                                                                                                                                                                                                                                                                                                                                                                                                                                                                                                     |\n",
            "+----------------------+-----------------------------------------------------------------------------------------------------------------------------------------------------------------------------------------------------------------------------------------------------------------------------------------------------------------------------------------------------------------------------------------------------------------------------------------------------------------------------------------------------------------------------------------------------------------------------------------------------------------------------------------------------+\n",
            "|DELETE                |{numRemovedFiles -> 1, numRemovedBytes -> 37789, numCopiedRows -> 2478, numDeletionVectorsAdded -> 0, numDeletionVectorsRemoved -> 0, numAddedChangeFiles -> 0, executionTimeMs -> 2375, numDeletionVectorsUpdated -> 0, numDeletedRows -> 2438, scanTimeMs -> 1475, numAddedFiles -> 1, numAddedBytes -> 22011, rewriteTimeMs -> 900}                                                                                                                                                                                                                                                                                                               |\n",
            "|UPDATE                |{numRemovedFiles -> 2, numRemovedBytes -> 43948, numCopiedRows -> 3320, numDeletionVectorsAdded -> 0, numDeletionVectorsRemoved -> 0, numAddedChangeFiles -> 0, executionTimeMs -> 2901, numDeletionVectorsUpdated -> 0, scanTimeMs -> 2208, numAddedFiles -> 2, numUpdatedRows -> 1680, numAddedBytes -> 44148, rewriteTimeMs -> 693}                                                                                                                                                                                                                                                                                                               |\n",
            "|UPDATE                |{numRemovedFiles -> 2, numRemovedBytes -> 43674, numCopiedRows -> 4118, numDeletionVectorsAdded -> 0, numDeletionVectorsRemoved -> 0, numAddedChangeFiles -> 0, executionTimeMs -> 2612, numDeletionVectorsUpdated -> 0, scanTimeMs -> 1828, numAddedFiles -> 2, numUpdatedRows -> 882, numAddedBytes -> 43948, rewriteTimeMs -> 784}                                                                                                                                                                                                                                                                                                                |\n",
            "|MERGE                 |{numTargetRowsCopied -> 0, numTargetRowsDeleted -> 0, numTargetFilesAdded -> 1, numTargetBytesAdded -> 6345, numTargetBytesRemoved -> 0, numTargetDeletionVectorsAdded -> 0, numTargetRowsMatchedUpdated -> 0, executionTimeMs -> 1360, numTargetRowsInserted -> 84, numTargetRowsMatchedDeleted -> 0, numTargetDeletionVectorsUpdated -> 0, scanTimeMs -> 0, numTargetRowsUpdated -> 0, numOutputRows -> 84, numTargetDeletionVectorsRemoved -> 0, numTargetRowsNotMatchedBySourceUpdated -> 0, numTargetChangeFilesAdded -> 0, numSourceRows -> 84, numTargetFilesRemoved -> 0, numTargetRowsNotMatchedBySourceDeleted -> 0, rewriteTimeMs -> 1354}|\n",
            "|CREATE TABLE AS SELECT|{numFiles -> 1, numOutputRows -> 4916, numOutputBytes -> 37329}                                                                                                                                                                                                                                                                                                                                                                                                                                                                                                                                                                                      |\n",
            "+----------------------+-----------------------------------------------------------------------------------------------------------------------------------------------------------------------------------------------------------------------------------------------------------------------------------------------------------------------------------------------------------------------------------------------------------------------------------------------------------------------------------------------------------------------------------------------------------------------------------------------------------------------------------------------------+\n",
            "\n"
          ]
        }
      ],
      "source": [
        "dfv = dfv.select(\"operation\",  \"operationMetrics\")\n",
        "# dfv.select(\"operation\", \"operationParameters\")\n",
        "dfv.show(truncate=False)"
      ]
    },
    {
      "cell_type": "markdown",
      "metadata": {
        "id": "a1YclKosWbn5"
      },
      "source": [
        "### Restoring to a previous version"
      ]
    },
    {
      "cell_type": "code",
      "execution_count": 90,
      "metadata": {
        "colab": {
          "base_uri": "https://localhost:8080/"
        },
        "id": "ChaMilCYWbQ2",
        "outputId": "08ee4702-f034-48e1-f92a-15201d41aa4a"
      },
      "outputs": [
        {
          "output_type": "stream",
          "name": "stdout",
          "text": [
            "+------------------------+--------------------------+-----------------+------------------+------------------+-------------------+\n",
            "|table_size_after_restore|num_of_files_after_restore|num_removed_files|num_restored_files|removed_files_size|restored_files_size|\n",
            "+------------------------+--------------------------+-----------------+------------------+------------------+-------------------+\n",
            "|                   43948|                         2|                2|                 2|             28370|              43948|\n",
            "+------------------------+--------------------------+-----------------+------------------+------------------+-------------------+\n",
            "\n"
          ]
        }
      ],
      "source": [
        "query = \"\"\"\n",
        "RESTORE TABLE delta.`/tmp/deltaSales` TO VERSION AS OF 2\n",
        "\"\"\"\n",
        "spark.sql(query).show()"
      ]
    },
    {
      "cell_type": "code",
      "execution_count": 91,
      "metadata": {
        "colab": {
          "base_uri": "https://localhost:8080/"
        },
        "id": "N1kkrS1dSGAI",
        "outputId": "17e483a7-1dd9-4499-d648-075f3f3929c1"
      },
      "outputs": [
        {
          "output_type": "stream",
          "name": "stdout",
          "text": [
            "+--------+\n",
            "|count(1)|\n",
            "+--------+\n",
            "|    2438|\n",
            "+--------+\n",
            "\n"
          ]
        }
      ],
      "source": [
        "query = \"\"\"\n",
        "select count(*) from delta.`/tmp/deltaSales`\n",
        "WHERE saledate <'2023-01-01'\n",
        "\"\"\"\n",
        "spark.sql(query).show()"
      ]
    },
    {
      "cell_type": "code",
      "execution_count": 92,
      "metadata": {
        "id": "CqQT52ChWqd1",
        "outputId": "0162637c-00cb-4d23-cd68-13c033ded0dd",
        "colab": {
          "base_uri": "https://localhost:8080/"
        }
      },
      "outputs": [
        {
          "output_type": "stream",
          "name": "stdout",
          "text": [
            "+-------+--------------------+------+--------+--------------------+--------------------+----+--------+---------+-----------+--------------+-------------+--------------------+------------+--------------------+\n",
            "|version|           timestamp|userId|userName|           operation| operationParameters| job|notebook|clusterId|readVersion|isolationLevel|isBlindAppend|    operationMetrics|userMetadata|          engineInfo|\n",
            "+-------+--------------------+------+--------+--------------------+--------------------+----+--------+---------+-----------+--------------+-------------+--------------------+------------+--------------------+\n",
            "|      5|2025-08-22 19:26:...|  NULL|    NULL|             RESTORE|{version -> 2, ti...|NULL|    NULL|     NULL|          4|  Serializable|        false|{numRestoredFiles...|        NULL|Apache-Spark/3.5....|\n",
            "|      4|2025-08-22 19:25:...|  NULL|    NULL|              DELETE|{predicate -> [\"(...|NULL|    NULL|     NULL|          3|  Serializable|        false|{numRemovedFiles ...|        NULL|Apache-Spark/3.5....|\n",
            "|      3|2025-08-22 19:25:...|  NULL|    NULL|              UPDATE|{predicate -> [\"(...|NULL|    NULL|     NULL|          2|  Serializable|        false|{numRemovedFiles ...|        NULL|Apache-Spark/3.5....|\n",
            "|      2|2025-08-22 19:25:...|  NULL|    NULL|              UPDATE|{predicate -> [\"(...|NULL|    NULL|     NULL|          1|  Serializable|        false|{numRemovedFiles ...|        NULL|Apache-Spark/3.5....|\n",
            "|      1|2025-08-22 19:25:...|  NULL|    NULL|               MERGE|{predicate -> [\"(...|NULL|    NULL|     NULL|          0|  Serializable|        false|{numTargetRowsCop...|        NULL|Apache-Spark/3.5....|\n",
            "|      0|2025-08-22 19:24:...|  NULL|    NULL|CREATE TABLE AS S...|{isManaged -> fal...|NULL|    NULL|     NULL|       NULL|  Serializable|         true|{numFiles -> 1, n...|        NULL|Apache-Spark/3.5....|\n",
            "+-------+--------------------+------+--------+--------------------+--------------------+----+--------+---------+-----------+--------------+-------------+--------------------+------------+--------------------+\n",
            "\n"
          ]
        }
      ],
      "source": [
        "query = \"\"\"\n",
        "DESCRIBE HISTORY delta.`/tmp/deltaSales`\n",
        "\"\"\"\n",
        "spark.sql(query).show()"
      ]
    },
    {
      "cell_type": "code",
      "execution_count": 93,
      "metadata": {
        "colab": {
          "base_uri": "https://localhost:8080/"
        },
        "id": "rKE4VR7lOi00",
        "outputId": "fa3382bc-0cf1-4f7a-dd54-a51e3f1b6fc7"
      },
      "outputs": [
        {
          "output_type": "stream",
          "name": "stdout",
          "text": [
            "+------------------------+--------------------------+-----------------+------------------+------------------+-------------------+\n",
            "|table_size_after_restore|num_of_files_after_restore|num_removed_files|num_restored_files|removed_files_size|restored_files_size|\n",
            "+------------------------+--------------------------+-----------------+------------------+------------------+-------------------+\n",
            "|                   28370|                         2|                2|                 2|             43948|              28370|\n",
            "+------------------------+--------------------------+-----------------+------------------+------------------+-------------------+\n",
            "\n"
          ]
        }
      ],
      "source": [
        "query = \"\"\"\n",
        "RESTORE TABLE delta.`/tmp/deltaSales` TO VERSION AS OF 4\n",
        "\"\"\"\n",
        "spark.sql(query).show()"
      ]
    },
    {
      "cell_type": "markdown",
      "metadata": {
        "id": "R7oLc2P-juaY"
      },
      "source": [
        "## Demo 4: change data feed"
      ]
    },
    {
      "cell_type": "markdown",
      "metadata": {
        "id": "GZ9_0glRj150"
      },
      "source": [
        "### Table creation with CDF activated"
      ]
    },
    {
      "cell_type": "code",
      "execution_count": 94,
      "metadata": {
        "colab": {
          "base_uri": "https://localhost:8080/"
        },
        "id": "DVjvb3jNjxW-",
        "outputId": "bd22d835-b1af-4062-a7e1-76ffaf1bd2ec"
      },
      "outputs": [
        {
          "output_type": "execute_result",
          "data": {
            "text/plain": [
              "DataFrame[]"
            ]
          },
          "metadata": {},
          "execution_count": 94
        }
      ],
      "source": [
        "query = \"\"\"\n",
        "CREATE TABLE IF NOT EXISTS salesOriginal\n",
        "USING csv\n",
        "OPTIONS (\n",
        "  header \"true\",\n",
        "  path \"/tmp/delta/sales/salesOriginal.csv\",\n",
        "  inferSchema \"true\"\n",
        ")\n",
        "\"\"\"\n",
        "spark.sql(query)"
      ]
    },
    {
      "cell_type": "code",
      "execution_count": 95,
      "metadata": {
        "colab": {
          "base_uri": "https://localhost:8080/"
        },
        "id": "RBYOz4X2j-xT",
        "outputId": "61816fb7-a83e-4b51-9a0a-08a0947ba8ac"
      },
      "outputs": [
        {
          "output_type": "execute_result",
          "data": {
            "text/plain": [
              "DataFrame[]"
            ]
          },
          "metadata": {},
          "execution_count": 95
        }
      ],
      "source": [
        "query = \"\"\"\n",
        "CREATE TABLE delta.`/tmp/deltaSalesCDF` USING DELTA TBLPROPERTIES (delta.enableChangeDataFeed = true)\n",
        "AS SELECT * FROM salesOriginal\n",
        "\"\"\"\n",
        "spark.sql(query)"
      ]
    },
    {
      "cell_type": "markdown",
      "metadata": {
        "id": "OmzXP3nNkhxi"
      },
      "source": [
        "### CDF for Updates"
      ]
    },
    {
      "cell_type": "code",
      "execution_count": 96,
      "metadata": {
        "colab": {
          "base_uri": "https://localhost:8080/"
        },
        "id": "DLJ8O6lWkkhE",
        "outputId": "0660bd6f-00fa-4a8b-ff46-333ef8d86f53"
      },
      "outputs": [
        {
          "output_type": "stream",
          "name": "stdout",
          "text": [
            "+-----------------+\n",
            "|num_affected_rows|\n",
            "+-----------------+\n",
            "|              765|\n",
            "+-----------------+\n",
            "\n"
          ]
        }
      ],
      "source": [
        "query = \"\"\"\n",
        "UPDATE delta.`/tmp/deltaSalesCDF`\n",
        "SET unitprice = unitprice * 1.05\n",
        "WHERE saledate >= '2023-02-01' and category='Cloth'\n",
        "\"\"\"\n",
        "spark.sql(query).show()"
      ]
    },
    {
      "cell_type": "code",
      "execution_count": 97,
      "metadata": {
        "colab": {
          "base_uri": "https://localhost:8080/"
        },
        "id": "VxKvoYpfjwys",
        "outputId": "252dfb32-1539-4eb6-b7ae-4ecd74849904"
      },
      "outputs": [
        {
          "output_type": "stream",
          "name": "stdout",
          "text": [
            "+----------+----------+--------+------------------+-------+-----------+----------+-------+--------+---------+--------+-----------+----+-------------+-----+--------+----------------+---------------+--------------------+\n",
            "|    saleid|  saledate|quantity|         unitprice| shopid|       city|     state|country|shopsize|productid|category|subcategory|size|purchaseprice|color|   brand|    _change_type|_commit_version|   _commit_timestamp|\n",
            "+----------+----------+--------+------------------+-------+-----------+----------+-------+--------+---------+--------+-----------+----+-------------+-----+--------+----------------+---------------+--------------------+\n",
            "|S000000129|2023-02-21|     1.0|              20.0| shop_9|     Munich|   Bavaria|Germany|     big|    TSH_7|   Cloth|     Tshirt|  XS|         17.0| blue|NewBrand| update_preimage|              1|2025-08-22 19:27:...|\n",
            "|S000000129|2023-02-21|     1.0|              21.0| shop_9|     Munich|   Bavaria|Germany|     big|    TSH_7|   Cloth|     Tshirt|  XS|         17.0| blue|NewBrand|update_postimage|              1|2025-08-22 19:27:...|\n",
            "|S000000130|2023-02-20|     1.0|              20.0|shop_10|  Offenbach|     Hesse|Germany|  medium|    TSH_8|   Cloth|     Tshirt|   S|         18.0|  red|   Basic| update_preimage|              1|2025-08-22 19:27:...|\n",
            "|S000000130|2023-02-20|     1.0|              21.0|shop_10|  Offenbach|     Hesse|Germany|  medium|    TSH_8|   Cloth|     Tshirt|   S|         18.0|  red|   Basic|update_postimage|              1|2025-08-22 19:27:...|\n",
            "|S000000131|2023-02-19|     1.0|              22.0|shop_11|      Fulda|     Hesse|Germany|  medium|    TSH_9|   Cloth|     Tshirt|   M|         19.0|brown|    Mega| update_preimage|              1|2025-08-22 19:27:...|\n",
            "|S000000131|2023-02-19|     1.0|              23.1|shop_11|      Fulda|     Hesse|Germany|  medium|    TSH_9|   Cloth|     Tshirt|   M|         19.0|brown|    Mega|update_postimage|              1|2025-08-22 19:27:...|\n",
            "|S000000132|2023-02-18|     2.0|              24.0|shop_12|     Chieti|   Abruzzo|  Italy|  medium|   TSH_10|   Cloth|     Tshirt|   L|         20.0|black|    Over| update_preimage|              1|2025-08-22 19:27:...|\n",
            "|S000000132|2023-02-18|     2.0|25.200000000000003|shop_12|     Chieti|   Abruzzo|  Italy|  medium|   TSH_10|   Cloth|     Tshirt|   L|         20.0|black|    Over|update_postimage|              1|2025-08-22 19:27:...|\n",
            "|S000000133|2023-02-17|     1.0|              24.0|shop_13|    Pescara|   Abruzzo|  Italy|   small|   TSH_11|   Cloth|     Tshirt|  XL|         21.0|white|NewBrand| update_preimage|              1|2025-08-22 19:27:...|\n",
            "|S000000133|2023-02-17|     1.0|25.200000000000003|shop_13|    Pescara|   Abruzzo|  Italy|   small|   TSH_11|   Cloth|     Tshirt|  XL|         21.0|white|NewBrand|update_postimage|              1|2025-08-22 19:27:...|\n",
            "|S000000134|2023-02-16|     3.0|              45.0|shop_14|      Milan|  Lombardy|  Italy|   small|   HOO_12|   Cloth|     Hoodie|   S|         35.0| blue|   Basic| update_preimage|              1|2025-08-22 19:27:...|\n",
            "|S000000134|2023-02-16|     3.0|             47.25|shop_14|      Milan|  Lombardy|  Italy|   small|   HOO_12|   Cloth|     Hoodie|   S|         35.0| blue|   Basic|update_postimage|              1|2025-08-22 19:27:...|\n",
            "|S000000135|2023-02-15|     1.0|              48.0|shop_15|    Bergamo|  Lombardy|  Italy|   small|   HOO_13|   Cloth|     Hoodie|   M|         38.0|  red|    Mega| update_preimage|              1|2025-08-22 19:27:...|\n",
            "|S000000135|2023-02-15|     1.0|50.400000000000006|shop_15|    Bergamo|  Lombardy|  Italy|   small|   HOO_13|   Cloth|     Hoodie|   M|         38.0|  red|    Mega|update_postimage|              1|2025-08-22 19:27:...|\n",
            "|S000000136|2023-02-14|     2.0|              49.0|shop_16|   New York|  New York|    USA|   small|   HOO_14|   Cloth|     Hoodie|   L|         39.0|brown|    Over| update_preimage|              1|2025-08-22 19:27:...|\n",
            "|S000000136|2023-02-14|     2.0|             51.45|shop_16|   New York|  New York|    USA|   small|   HOO_14|   Cloth|     Hoodie|   L|         39.0|brown|    Over|update_postimage|              1|2025-08-22 19:27:...|\n",
            "|S000000137|2023-02-13|     2.0|              60.0|shop_17|Los Angeles|California|    USA|   small|   SHO_15|   Cloth|      Shoes|   7|         40.0|black|NewBrand| update_preimage|              1|2025-08-22 19:27:...|\n",
            "|S000000137|2023-02-13|     2.0|              63.0|shop_17|Los Angeles|California|    USA|   small|   SHO_15|   Cloth|      Shoes|   7|         40.0|black|NewBrand|update_postimage|              1|2025-08-22 19:27:...|\n",
            "|S000000138|2023-02-12|     1.0|              60.0|shop_18|  San Diego|California|    USA|     big|   SHO_16|   Cloth|      Shoes|   8|         42.0|white|   Basic| update_preimage|              1|2025-08-22 19:27:...|\n",
            "|S000000138|2023-02-12|     1.0|              63.0|shop_18|  San Diego|California|    USA|     big|   SHO_16|   Cloth|      Shoes|   8|         42.0|white|   Basic|update_postimage|              1|2025-08-22 19:27:...|\n",
            "+----------+----------+--------+------------------+-------+-----------+----------+-------+--------+---------+--------+-----------+----+-------------+-----+--------+----------------+---------------+--------------------+\n",
            "only showing top 20 rows\n",
            "\n"
          ]
        }
      ],
      "source": [
        "query = \"\"\"\n",
        "SELECT * FROM table_changes_by_path('/tmp/deltaSalesCDF', 0)\n",
        "\"\"\"\n",
        "spark.sql(query).show()"
      ]
    },
    {
      "cell_type": "code",
      "execution_count": 98,
      "metadata": {
        "colab": {
          "base_uri": "https://localhost:8080/"
        },
        "id": "d76UtMwblcHo",
        "outputId": "653d1ec7-bd7d-4d1e-a4ab-448824e0c6a1"
      },
      "outputs": [
        {
          "output_type": "stream",
          "name": "stdout",
          "text": [
            "+----------------+---------------+--------------------+--------+\n",
            "|    _change_type|_commit_version|   _commit_timestamp|count(1)|\n",
            "+----------------+---------------+--------------------+--------+\n",
            "| update_preimage|              1|2025-08-22 19:27:...|     765|\n",
            "|update_postimage|              1|2025-08-22 19:27:...|     765|\n",
            "|          insert|              0|2025-08-22 19:26:...|    4916|\n",
            "+----------------+---------------+--------------------+--------+\n",
            "\n"
          ]
        }
      ],
      "source": [
        "query = \"\"\"\n",
        "SELECT _change_type, _commit_version, _commit_timestamp, count(*)\n",
        "FROM table_changes_by_path('/tmp/deltaSalesCDF', 0)\n",
        "GROUP BY _change_type, _commit_version, _commit_timestamp\n",
        "\"\"\"\n",
        "spark.sql(query).show()"
      ]
    },
    {
      "cell_type": "code",
      "execution_count": 99,
      "metadata": {
        "colab": {
          "base_uri": "https://localhost:8080/"
        },
        "id": "vVQbly6BkXeY",
        "outputId": "23c5ebd1-fd7b-4d94-b607-18c905d81096"
      },
      "outputs": [
        {
          "output_type": "stream",
          "name": "stdout",
          "text": [
            "+----------+----------------+------------------+\n",
            "|    saleid|    _change_type|         unitprice|\n",
            "+----------+----------------+------------------+\n",
            "|S000000007| update_preimage|              20.0|\n",
            "|S000000007|update_postimage|              21.0|\n",
            "|S000000008| update_preimage|              20.0|\n",
            "|S000000008|update_postimage|              21.0|\n",
            "|S000000009| update_preimage|              22.0|\n",
            "|S000000009|update_postimage|              23.1|\n",
            "|S000000010| update_preimage|              24.0|\n",
            "|S000000010|update_postimage|25.200000000000003|\n",
            "|S000000011| update_preimage|              24.0|\n",
            "|S000000011|update_postimage|25.200000000000003|\n",
            "|S000000012| update_preimage|              45.0|\n",
            "|S000000012|update_postimage|             47.25|\n",
            "|S000000013| update_preimage|              48.0|\n",
            "|S000000013|update_postimage|50.400000000000006|\n",
            "|S000000014| update_preimage|              49.0|\n",
            "|S000000014|update_postimage|             51.45|\n",
            "|S000000015| update_preimage|              60.0|\n",
            "|S000000015|update_postimage|              63.0|\n",
            "|S000000016| update_preimage|              60.0|\n",
            "|S000000016|update_postimage|              63.0|\n",
            "+----------+----------------+------------------+\n",
            "only showing top 20 rows\n",
            "\n"
          ]
        }
      ],
      "source": [
        "query = \"\"\"\n",
        "SELECT saleid, _change_type, unitprice\n",
        "FROM table_changes_by_path('/tmp/deltaSalesCDF', 0)\n",
        "WHERE saledate >= '2023-02-01' and category='Cloth' and _commit_version = 1\n",
        "CLUSTER BY saleid\n",
        "\"\"\"\n",
        "spark.sql(query).show()"
      ]
    },
    {
      "cell_type": "markdown",
      "metadata": {
        "id": "OseLpQxFnKCB"
      },
      "source": [
        "### CDF for Deletes"
      ]
    },
    {
      "cell_type": "code",
      "execution_count": 100,
      "metadata": {
        "colab": {
          "base_uri": "https://localhost:8080/"
        },
        "id": "384NC-GZnO9w",
        "outputId": "c380fd1a-443e-423e-e649-01a93311bf69"
      },
      "outputs": [
        {
          "output_type": "stream",
          "name": "stdout",
          "text": [
            "+-----------------+\n",
            "|num_affected_rows|\n",
            "+-----------------+\n",
            "|              244|\n",
            "+-----------------+\n",
            "\n"
          ]
        }
      ],
      "source": [
        "query = \"\"\"\n",
        "DELETE FROM delta.`/tmp/deltaSalesCDF`\n",
        "WHERE city = 'Chicago' and category='Cloth'\n",
        "\"\"\"\n",
        "spark.sql(query).show()"
      ]
    },
    {
      "cell_type": "code",
      "execution_count": 101,
      "metadata": {
        "colab": {
          "base_uri": "https://localhost:8080/"
        },
        "id": "j2hfvqPWnO2p",
        "outputId": "d4d0fb87-0a09-441f-f80b-e8d139c2d30a"
      },
      "outputs": [
        {
          "output_type": "stream",
          "name": "stdout",
          "text": [
            "+----------------+---------------+--------------------+--------+\n",
            "|    _change_type|_commit_version|   _commit_timestamp|count(1)|\n",
            "+----------------+---------------+--------------------+--------+\n",
            "| update_preimage|              1|2025-08-22 19:27:...|     765|\n",
            "|update_postimage|              1|2025-08-22 19:27:...|     765|\n",
            "|          delete|              2|2025-08-22 19:27:...|     244|\n",
            "|          insert|              0|2025-08-22 19:26:...|    4916|\n",
            "+----------------+---------------+--------------------+--------+\n",
            "\n"
          ]
        }
      ],
      "source": [
        "query = \"\"\"\n",
        "SELECT _change_type, _commit_version, _commit_timestamp, count(*)\n",
        "FROM table_changes_by_path('/tmp/deltaSalesCDF', 0)\n",
        "GROUP BY _change_type, _commit_version, _commit_timestamp\n",
        "\"\"\"\n",
        "spark.sql(query).show()"
      ]
    },
    {
      "cell_type": "markdown",
      "metadata": {
        "id": "dvxfKgRCoyTD"
      },
      "source": [
        "Retrieve the deleted records"
      ]
    },
    {
      "cell_type": "code",
      "execution_count": 102,
      "metadata": {
        "colab": {
          "base_uri": "https://localhost:8080/"
        },
        "id": "oTEnGL67ovj4",
        "outputId": "5b779bdc-2127-4905-ef6a-b3aec7235a47"
      },
      "outputs": [
        {
          "output_type": "stream",
          "name": "stdout",
          "text": [
            "+-------------+---------+\n",
            "|         city| category|\n",
            "+-------------+---------+\n",
            "|  Los Angeles|    Cloth|\n",
            "|      Pescara|    Cloth|\n",
            "|       Munich|    Cloth|\n",
            "|        Milan|    Cloth|\n",
            "|   Regensburg|    Cloth|\n",
            "|San Francisco|    Cloth|\n",
            "|     New York|    Cloth|\n",
            "|  San Antonio|    Cloth|\n",
            "|      Chicago|    Cloth|\n",
            "|    San Diego|    Cloth|\n",
            "|      Bergamo|    Cloth|\n",
            "|        Fulda|    Cloth|\n",
            "|       Chieti|    Cloth|\n",
            "|      Houston|    Cloth|\n",
            "|     San Jose|    Cloth|\n",
            "|    Offenbach|    Cloth|\n",
            "|        Fulda|Furniture|\n",
            "|       Munich|Furniture|\n",
            "|  San Antonio|Furniture|\n",
            "|     New York|Furniture|\n",
            "+-------------+---------+\n",
            "only showing top 20 rows\n",
            "\n"
          ]
        }
      ],
      "source": [
        "query = \"\"\"\n",
        "SELECT distinct city, category\n",
        "FROM table_changes_by_path('/tmp/deltaSalesCDF', 0)\n",
        "\"\"\"\n",
        "spark.sql(query).show()"
      ]
    },
    {
      "cell_type": "markdown",
      "metadata": {
        "id": "Sp41GQxObYwK"
      },
      "source": [
        "## Query plan analysis"
      ]
    },
    {
      "cell_type": "markdown",
      "metadata": {
        "id": "FK0LmP96bc-e"
      },
      "source": [
        "The goal is to observe the impact of clustering on query plans. We start by creating a tunnel, using the ngrok.com service, to access the Spark GUI.\n",
        "Make sure to have access to ngrok.com by connecting using your google account, for example."
      ]
    },
    {
      "cell_type": "code",
      "execution_count": 103,
      "metadata": {
        "id": "pjkiFbq7gLny"
      },
      "outputs": [],
      "source": [
        "spark.conf.set(\"spark.sql.adaptive.enabled\", False)"
      ]
    },
    {
      "cell_type": "code",
      "source": [
        "!ngrok config add-authtoken"
      ],
      "metadata": {
        "id": "YNak9_WDRpZa"
      },
      "execution_count": null,
      "outputs": []
    },
    {
      "cell_type": "code",
      "execution_count": 105,
      "metadata": {
        "colab": {
          "base_uri": "https://localhost:8080/"
        },
        "id": "3WOUAa-pSzUo",
        "outputId": "7e142f99-53dc-4a38-d47d-7d3d9d404f80"
      },
      "outputs": [
        {
          "output_type": "stream",
          "name": "stdout",
          "text": [
            "Enter your authtoken, which can be copied from https://dashboard.ngrok.com/get-started/your-authtoken\n",
            "··········\n",
            " * ngrok tunnel \"https://fe788677b00f.ngrok-free.app\" -> \"http://127.0.0.1:4040\"\n"
          ]
        }
      ],
      "source": [
        "import getpass\n",
        "\n",
        "from pyngrok import conf, ngrok\n",
        "\n",
        "print(\"Enter your authtoken, which can be copied \"\n",
        "\"from https://dashboard.ngrok.com/get-started/your-authtoken\")\n",
        "conf.get_default().auth_token = getpass.getpass()\n",
        "\n",
        "ui_port = 4040\n",
        "public_url = ngrok.connect(ui_port).public_url\n",
        "print(f\" * ngrok tunnel \\\"{public_url}\\\" -> \\\"http://127.0.0.1:{ui_port}\\\"\")"
      ]
    },
    {
      "cell_type": "markdown",
      "metadata": {
        "id": "wChWGI4xdc9a"
      },
      "source": [
        "### Creation of the partitionned delta tables"
      ]
    },
    {
      "cell_type": "code",
      "execution_count": 106,
      "metadata": {
        "colab": {
          "base_uri": "https://localhost:8080/"
        },
        "id": "81GCzQ8ST2yz",
        "outputId": "c8cf8894-f3a1-414e-a61d-d70d0c1ff883"
      },
      "outputs": [
        {
          "output_type": "execute_result",
          "data": {
            "text/plain": [
              "DataFrame[]"
            ]
          },
          "metadata": {},
          "execution_count": 106
        }
      ],
      "source": [
        "query = \"\"\"\n",
        "CREATE TABLE IF NOT EXISTS salesOriginal\n",
        "USING csv\n",
        "OPTIONS (\n",
        "  header \"true\",\n",
        "  path \"/tmp/delta/sales/salesOriginal.csv\",\n",
        "  inferSchema \"true\"\n",
        ")\n",
        "\"\"\"\n",
        "spark.sql(query)"
      ]
    },
    {
      "cell_type": "markdown",
      "metadata": {
        "id": "qouNuKmLQTMm"
      },
      "source": [
        "#### Partition by one column"
      ]
    },
    {
      "cell_type": "code",
      "execution_count": 107,
      "metadata": {
        "colab": {
          "base_uri": "https://localhost:8080/"
        },
        "id": "XAL25djdbdMB",
        "outputId": "d72f1a39-acae-4d9e-d826-d9059af915e6"
      },
      "outputs": [
        {
          "output_type": "execute_result",
          "data": {
            "text/plain": [
              "DataFrame[]"
            ]
          },
          "metadata": {},
          "execution_count": 107
        }
      ],
      "source": [
        "query = \"\"\"\n",
        "CREATE TABLE delta.`/tmp/deltaSalesPerCity` USING DELTA PARTITIONED BY (city)\n",
        "AS SELECT * FROM salesOriginal\n",
        "\"\"\"\n",
        "spark.sql(query)"
      ]
    },
    {
      "cell_type": "code",
      "execution_count": 108,
      "metadata": {
        "colab": {
          "base_uri": "https://localhost:8080/"
        },
        "id": "cMR7VCgydiZn",
        "outputId": "095c0105-713e-4a97-b85f-589a99077b0e"
      },
      "outputs": [
        {
          "output_type": "stream",
          "name": "stdout",
          "text": [
            "+-----------------------+---------+-------+\n",
            "|col_name               |data_type|comment|\n",
            "+-----------------------+---------+-------+\n",
            "|saleid                 |string   |NULL   |\n",
            "|saledate               |date     |NULL   |\n",
            "|quantity               |double   |NULL   |\n",
            "|unitprice              |double   |NULL   |\n",
            "|shopid                 |string   |NULL   |\n",
            "|city                   |string   |NULL   |\n",
            "|state                  |string   |NULL   |\n",
            "|country                |string   |NULL   |\n",
            "|shopsize               |string   |NULL   |\n",
            "|productid              |string   |NULL   |\n",
            "|category               |string   |NULL   |\n",
            "|subcategory            |string   |NULL   |\n",
            "|size                   |string   |NULL   |\n",
            "|purchaseprice          |double   |NULL   |\n",
            "|color                  |string   |NULL   |\n",
            "|brand                  |string   |NULL   |\n",
            "|# Partition Information|         |       |\n",
            "|# col_name             |data_type|comment|\n",
            "|city                   |string   |NULL   |\n",
            "+-----------------------+---------+-------+\n",
            "\n"
          ]
        }
      ],
      "source": [
        "query = \"\"\"\n",
        "DESCRIBE delta.`/tmp/deltaSalesPerCity`\n",
        "\"\"\"\n",
        "spark.sql(query).show(truncate=False)"
      ]
    },
    {
      "cell_type": "code",
      "execution_count": 109,
      "metadata": {
        "colab": {
          "base_uri": "https://localhost:8080/"
        },
        "id": "eJ6lXtoedtTT",
        "outputId": "056a74fb-76dc-472b-d1e0-f0d5409c257a"
      },
      "outputs": [
        {
          "output_type": "stream",
          "name": "stdout",
          "text": [
            "'city=Bergamo'\t'city=Los Angeles'  'city=Pescara'\t  'city=San Jose'\n",
            "'city=Chicago'\t'city=Milan'\t    'city=Regensburg'\t   _delta_log\n",
            "'city=Chieti'\t'city=Munich'\t    'city=San Antonio'\n",
            "'city=Fulda'\t'city=New York'     'city=San Diego'\n",
            "'city=Houston'\t'city=Offenbach'    'city=San Francisco'\n"
          ]
        }
      ],
      "source": [
        "! ls /tmp/deltaSalesPerCity"
      ]
    },
    {
      "cell_type": "code",
      "execution_count": 110,
      "metadata": {
        "colab": {
          "base_uri": "https://localhost:8080/"
        },
        "id": "lsrBHb1vd5G5",
        "outputId": "d97da31d-583a-4b0e-d148-b3871b2947b4"
      },
      "outputs": [
        {
          "output_type": "stream",
          "name": "stdout",
          "text": [
            "part-00000-b4a21374-5973-4e27-888c-5088aa23cacf.c000.snappy.parquet\n"
          ]
        }
      ],
      "source": [
        "! ls /tmp/deltaSalesPerCity/'city=Bergamo'"
      ]
    },
    {
      "cell_type": "code",
      "execution_count": 111,
      "metadata": {
        "id": "_Z1mzma8TwUr"
      },
      "outputs": [],
      "source": [
        "%%capture\n",
        "%pip install parquet-tools"
      ]
    },
    {
      "cell_type": "code",
      "execution_count": 113,
      "metadata": {
        "colab": {
          "base_uri": "https://localhost:8080/"
        },
        "id": "amPvgX9aUiSN",
        "outputId": "77120c7c-9083-481c-d753-ef3ac93b29e6"
      },
      "outputs": [
        {
          "output_type": "stream",
          "name": "stdout",
          "text": [
            "FileMetaData\n",
            "\u001b[31m■■■■\u001b[0mversion = 1\n",
            "\u001b[31m■■■■\u001b[0mschema = list\n",
            "\u001b[31m■■■■\u001b[0m\u001b[33m■■■■\u001b[0mSchemaElement\n",
            "\u001b[31m■■■■\u001b[0m\u001b[33m■■■■\u001b[0m\u001b[32m■■■■\u001b[0mname = spark_schema\n",
            "\u001b[31m■■■■\u001b[0m\u001b[33m■■■■\u001b[0m\u001b[32m■■■■\u001b[0mnum_children = 15\n",
            "\u001b[31m■■■■\u001b[0m\u001b[33m■■■■\u001b[0mSchemaElement\n",
            "\u001b[31m■■■■\u001b[0m\u001b[33m■■■■\u001b[0m\u001b[32m■■■■\u001b[0mtype = 6\n",
            "\u001b[31m■■■■\u001b[0m\u001b[33m■■■■\u001b[0m\u001b[32m■■■■\u001b[0mrepetition_type = 1\n",
            "\u001b[31m■■■■\u001b[0m\u001b[33m■■■■\u001b[0m\u001b[32m■■■■\u001b[0mname = saleid\n",
            "\u001b[31m■■■■\u001b[0m\u001b[33m■■■■\u001b[0m\u001b[32m■■■■\u001b[0mlogicalType = LogicalType\n",
            "\u001b[31m■■■■\u001b[0m\u001b[33m■■■■\u001b[0m\u001b[32m■■■■\u001b[0m\u001b[34m■■■■\u001b[0mSTRING = StringType\n",
            "\u001b[31m■■■■\u001b[0m\u001b[33m■■■■\u001b[0mSchemaElement\n",
            "\u001b[31m■■■■\u001b[0m\u001b[33m■■■■\u001b[0m\u001b[32m■■■■\u001b[0mtype = 1\n",
            "\u001b[31m■■■■\u001b[0m\u001b[33m■■■■\u001b[0m\u001b[32m■■■■\u001b[0mrepetition_type = 1\n",
            "\u001b[31m■■■■\u001b[0m\u001b[33m■■■■\u001b[0m\u001b[32m■■■■\u001b[0mname = saledate\n",
            "\u001b[31m■■■■\u001b[0m\u001b[33m■■■■\u001b[0m\u001b[32m■■■■\u001b[0mconverted_type = 6\n",
            "\u001b[31m■■■■\u001b[0m\u001b[33m■■■■\u001b[0m\u001b[32m■■■■\u001b[0mlogicalType = LogicalType\n",
            "\u001b[31m■■■■\u001b[0m\u001b[33m■■■■\u001b[0m\u001b[32m■■■■\u001b[0m\u001b[34m■■■■\u001b[0mDATE = DateType\n",
            "\u001b[31m■■■■\u001b[0m\u001b[33m■■■■\u001b[0mSchemaElement\n",
            "\u001b[31m■■■■\u001b[0m\u001b[33m■■■■\u001b[0m\u001b[32m■■■■\u001b[0mtype = 5\n",
            "\u001b[31m■■■■\u001b[0m\u001b[33m■■■■\u001b[0m\u001b[32m■■■■\u001b[0mrepetition_type = 1\n",
            "\u001b[31m■■■■\u001b[0m\u001b[33m■■■■\u001b[0m\u001b[32m■■■■\u001b[0mname = quantity\n",
            "\u001b[31m■■■■\u001b[0m\u001b[33m■■■■\u001b[0mSchemaElement\n",
            "\u001b[31m■■■■\u001b[0m\u001b[33m■■■■\u001b[0m\u001b[32m■■■■\u001b[0mtype = 5\n",
            "\u001b[31m■■■■\u001b[0m\u001b[33m■■■■\u001b[0m\u001b[32m■■■■\u001b[0mrepetition_type = 1\n",
            "\u001b[31m■■■■\u001b[0m\u001b[33m■■■■\u001b[0m\u001b[32m■■■■\u001b[0mname = unitprice\n",
            "\u001b[31m■■■■\u001b[0m\u001b[33m■■■■\u001b[0mSchemaElement\n",
            "\u001b[31m■■■■\u001b[0m\u001b[33m■■■■\u001b[0m\u001b[32m■■■■\u001b[0mtype = 6\n",
            "\u001b[31m■■■■\u001b[0m\u001b[33m■■■■\u001b[0m\u001b[32m■■■■\u001b[0mrepetition_type = 1\n",
            "\u001b[31m■■■■\u001b[0m\u001b[33m■■■■\u001b[0m\u001b[32m■■■■\u001b[0mname = shopid\n",
            "\u001b[31m■■■■\u001b[0m\u001b[33m■■■■\u001b[0m\u001b[32m■■■■\u001b[0mlogicalType = LogicalType\n",
            "\u001b[31m■■■■\u001b[0m\u001b[33m■■■■\u001b[0m\u001b[32m■■■■\u001b[0m\u001b[34m■■■■\u001b[0mSTRING = StringType\n",
            "\u001b[31m■■■■\u001b[0m\u001b[33m■■■■\u001b[0mSchemaElement\n",
            "\u001b[31m■■■■\u001b[0m\u001b[33m■■■■\u001b[0m\u001b[32m■■■■\u001b[0mtype = 6\n",
            "\u001b[31m■■■■\u001b[0m\u001b[33m■■■■\u001b[0m\u001b[32m■■■■\u001b[0mrepetition_type = 1\n",
            "\u001b[31m■■■■\u001b[0m\u001b[33m■■■■\u001b[0m\u001b[32m■■■■\u001b[0mname = state\n",
            "\u001b[31m■■■■\u001b[0m\u001b[33m■■■■\u001b[0m\u001b[32m■■■■\u001b[0mlogicalType = LogicalType\n",
            "\u001b[31m■■■■\u001b[0m\u001b[33m■■■■\u001b[0m\u001b[32m■■■■\u001b[0m\u001b[34m■■■■\u001b[0mSTRING = StringType\n",
            "\u001b[31m■■■■\u001b[0m\u001b[33m■■■■\u001b[0mSchemaElement\n",
            "\u001b[31m■■■■\u001b[0m\u001b[33m■■■■\u001b[0m\u001b[32m■■■■\u001b[0mtype = 6\n",
            "\u001b[31m■■■■\u001b[0m\u001b[33m■■■■\u001b[0m\u001b[32m■■■■\u001b[0mrepetition_type = 1\n",
            "\u001b[31m■■■■\u001b[0m\u001b[33m■■■■\u001b[0m\u001b[32m■■■■\u001b[0mname = country\n",
            "\u001b[31m■■■■\u001b[0m\u001b[33m■■■■\u001b[0m\u001b[32m■■■■\u001b[0mlogicalType = LogicalType\n",
            "\u001b[31m■■■■\u001b[0m\u001b[33m■■■■\u001b[0m\u001b[32m■■■■\u001b[0m\u001b[34m■■■■\u001b[0mSTRING = StringType\n",
            "\u001b[31m■■■■\u001b[0m\u001b[33m■■■■\u001b[0mSchemaElement\n",
            "\u001b[31m■■■■\u001b[0m\u001b[33m■■■■\u001b[0m\u001b[32m■■■■\u001b[0mtype = 6\n",
            "\u001b[31m■■■■\u001b[0m\u001b[33m■■■■\u001b[0m\u001b[32m■■■■\u001b[0mrepetition_type = 1\n",
            "\u001b[31m■■■■\u001b[0m\u001b[33m■■■■\u001b[0m\u001b[32m■■■■\u001b[0mname = shopsize\n",
            "\u001b[31m■■■■\u001b[0m\u001b[33m■■■■\u001b[0m\u001b[32m■■■■\u001b[0mlogicalType = LogicalType\n",
            "\u001b[31m■■■■\u001b[0m\u001b[33m■■■■\u001b[0m\u001b[32m■■■■\u001b[0m\u001b[34m■■■■\u001b[0mSTRING = StringType\n",
            "\u001b[31m■■■■\u001b[0m\u001b[33m■■■■\u001b[0mSchemaElement\n",
            "\u001b[31m■■■■\u001b[0m\u001b[33m■■■■\u001b[0m\u001b[32m■■■■\u001b[0mtype = 6\n",
            "\u001b[31m■■■■\u001b[0m\u001b[33m■■■■\u001b[0m\u001b[32m■■■■\u001b[0mrepetition_type = 1\n",
            "\u001b[31m■■■■\u001b[0m\u001b[33m■■■■\u001b[0m\u001b[32m■■■■\u001b[0mname = productid\n",
            "\u001b[31m■■■■\u001b[0m\u001b[33m■■■■\u001b[0m\u001b[32m■■■■\u001b[0mlogicalType = LogicalType\n",
            "\u001b[31m■■■■\u001b[0m\u001b[33m■■■■\u001b[0m\u001b[32m■■■■\u001b[0m\u001b[34m■■■■\u001b[0mSTRING = StringType\n",
            "\u001b[31m■■■■\u001b[0m\u001b[33m■■■■\u001b[0mSchemaElement\n",
            "\u001b[31m■■■■\u001b[0m\u001b[33m■■■■\u001b[0m\u001b[32m■■■■\u001b[0mtype = 6\n",
            "\u001b[31m■■■■\u001b[0m\u001b[33m■■■■\u001b[0m\u001b[32m■■■■\u001b[0mrepetition_type = 1\n",
            "\u001b[31m■■■■\u001b[0m\u001b[33m■■■■\u001b[0m\u001b[32m■■■■\u001b[0mname = category\n",
            "\u001b[31m■■■■\u001b[0m\u001b[33m■■■■\u001b[0m\u001b[32m■■■■\u001b[0mlogicalType = LogicalType\n",
            "\u001b[31m■■■■\u001b[0m\u001b[33m■■■■\u001b[0m\u001b[32m■■■■\u001b[0m\u001b[34m■■■■\u001b[0mSTRING = StringType\n",
            "\u001b[31m■■■■\u001b[0m\u001b[33m■■■■\u001b[0mSchemaElement\n",
            "\u001b[31m■■■■\u001b[0m\u001b[33m■■■■\u001b[0m\u001b[32m■■■■\u001b[0mtype = 6\n",
            "\u001b[31m■■■■\u001b[0m\u001b[33m■■■■\u001b[0m\u001b[32m■■■■\u001b[0mrepetition_type = 1\n",
            "\u001b[31m■■■■\u001b[0m\u001b[33m■■■■\u001b[0m\u001b[32m■■■■\u001b[0mname = subcategory\n",
            "\u001b[31m■■■■\u001b[0m\u001b[33m■■■■\u001b[0m\u001b[32m■■■■\u001b[0mlogicalType = LogicalType\n",
            "\u001b[31m■■■■\u001b[0m\u001b[33m■■■■\u001b[0m\u001b[32m■■■■\u001b[0m\u001b[34m■■■■\u001b[0mSTRING = StringType\n",
            "\u001b[31m■■■■\u001b[0m\u001b[33m■■■■\u001b[0mSchemaElement\n",
            "\u001b[31m■■■■\u001b[0m\u001b[33m■■■■\u001b[0m\u001b[32m■■■■\u001b[0mtype = 6\n",
            "\u001b[31m■■■■\u001b[0m\u001b[33m■■■■\u001b[0m\u001b[32m■■■■\u001b[0mrepetition_type = 1\n",
            "\u001b[31m■■■■\u001b[0m\u001b[33m■■■■\u001b[0m\u001b[32m■■■■\u001b[0mname = size\n",
            "\u001b[31m■■■■\u001b[0m\u001b[33m■■■■\u001b[0m\u001b[32m■■■■\u001b[0mlogicalType = LogicalType\n",
            "\u001b[31m■■■■\u001b[0m\u001b[33m■■■■\u001b[0m\u001b[32m■■■■\u001b[0m\u001b[34m■■■■\u001b[0mSTRING = StringType\n",
            "\u001b[31m■■■■\u001b[0m\u001b[33m■■■■\u001b[0mSchemaElement\n",
            "\u001b[31m■■■■\u001b[0m\u001b[33m■■■■\u001b[0m\u001b[32m■■■■\u001b[0mtype = 5\n",
            "\u001b[31m■■■■\u001b[0m\u001b[33m■■■■\u001b[0m\u001b[32m■■■■\u001b[0mrepetition_type = 1\n",
            "\u001b[31m■■■■\u001b[0m\u001b[33m■■■■\u001b[0m\u001b[32m■■■■\u001b[0mname = purchaseprice\n",
            "\u001b[31m■■■■\u001b[0m\u001b[33m■■■■\u001b[0mSchemaElement\n",
            "\u001b[31m■■■■\u001b[0m\u001b[33m■■■■\u001b[0m\u001b[32m■■■■\u001b[0mtype = 6\n",
            "\u001b[31m■■■■\u001b[0m\u001b[33m■■■■\u001b[0m\u001b[32m■■■■\u001b[0mrepetition_type = 1\n",
            "\u001b[31m■■■■\u001b[0m\u001b[33m■■■■\u001b[0m\u001b[32m■■■■\u001b[0mname = color\n",
            "\u001b[31m■■■■\u001b[0m\u001b[33m■■■■\u001b[0m\u001b[32m■■■■\u001b[0mlogicalType = LogicalType\n",
            "\u001b[31m■■■■\u001b[0m\u001b[33m■■■■\u001b[0m\u001b[32m■■■■\u001b[0m\u001b[34m■■■■\u001b[0mSTRING = StringType\n",
            "\u001b[31m■■■■\u001b[0m\u001b[33m■■■■\u001b[0mSchemaElement\n",
            "\u001b[31m■■■■\u001b[0m\u001b[33m■■■■\u001b[0m\u001b[32m■■■■\u001b[0mtype = 6\n",
            "\u001b[31m■■■■\u001b[0m\u001b[33m■■■■\u001b[0m\u001b[32m■■■■\u001b[0mrepetition_type = 1\n",
            "\u001b[31m■■■■\u001b[0m\u001b[33m■■■■\u001b[0m\u001b[32m■■■■\u001b[0mname = brand\n",
            "\u001b[31m■■■■\u001b[0m\u001b[33m■■■■\u001b[0m\u001b[32m■■■■\u001b[0mlogicalType = LogicalType\n",
            "\u001b[31m■■■■\u001b[0m\u001b[33m■■■■\u001b[0m\u001b[32m■■■■\u001b[0m\u001b[34m■■■■\u001b[0mSTRING = StringType\n",
            "\u001b[31m■■■■\u001b[0mnum_rows = 375\n",
            "\u001b[31m■■■■\u001b[0mrow_groups = list\n",
            "\u001b[31m■■■■\u001b[0m\u001b[33m■■■■\u001b[0mRowGroup\n",
            "\u001b[31m■■■■\u001b[0m\u001b[33m■■■■\u001b[0m\u001b[32m■■■■\u001b[0mcolumns = list\n",
            "\u001b[31m■■■■\u001b[0m\u001b[33m■■■■\u001b[0m\u001b[32m■■■■\u001b[0m\u001b[34m■■■■\u001b[0mColumnChunk\n",
            "\u001b[31m■■■■\u001b[0m\u001b[33m■■■■\u001b[0m\u001b[32m■■■■\u001b[0m\u001b[34m■■■■\u001b[0m\u001b[31m■■■■\u001b[0mfile_offset = 4\n",
            "\u001b[31m■■■■\u001b[0m\u001b[33m■■■■\u001b[0m\u001b[32m■■■■\u001b[0m\u001b[34m■■■■\u001b[0m\u001b[31m■■■■\u001b[0mmeta_data = ColumnMetaData\n",
            "\u001b[31m■■■■\u001b[0m\u001b[33m■■■■\u001b[0m\u001b[32m■■■■\u001b[0m\u001b[34m■■■■\u001b[0m\u001b[31m■■■■\u001b[0m\u001b[33m■■■■\u001b[0mtype = 6\n",
            "\u001b[31m■■■■\u001b[0m\u001b[33m■■■■\u001b[0m\u001b[32m■■■■\u001b[0m\u001b[34m■■■■\u001b[0m\u001b[31m■■■■\u001b[0m\u001b[33m■■■■\u001b[0mencodings = list\n",
            "\u001b[31m■■■■\u001b[0m\u001b[33m■■■■\u001b[0m\u001b[32m■■■■\u001b[0m\u001b[34m■■■■\u001b[0m\u001b[31m■■■■\u001b[0m\u001b[33m■■■■\u001b[0m\u001b[32m■■■■\u001b[0m4\n",
            "\u001b[31m■■■■\u001b[0m\u001b[33m■■■■\u001b[0m\u001b[32m■■■■\u001b[0m\u001b[34m■■■■\u001b[0m\u001b[31m■■■■\u001b[0m\u001b[33m■■■■\u001b[0m\u001b[32m■■■■\u001b[0m0\n",
            "\u001b[31m■■■■\u001b[0m\u001b[33m■■■■\u001b[0m\u001b[32m■■■■\u001b[0m\u001b[34m■■■■\u001b[0m\u001b[31m■■■■\u001b[0m\u001b[33m■■■■\u001b[0m\u001b[32m■■■■\u001b[0m3\n",
            "\u001b[31m■■■■\u001b[0m\u001b[33m■■■■\u001b[0m\u001b[32m■■■■\u001b[0m\u001b[34m■■■■\u001b[0m\u001b[31m■■■■\u001b[0m\u001b[33m■■■■\u001b[0mpath_in_schema = list\n",
            "\u001b[31m■■■■\u001b[0m\u001b[33m■■■■\u001b[0m\u001b[32m■■■■\u001b[0m\u001b[34m■■■■\u001b[0m\u001b[31m■■■■\u001b[0m\u001b[33m■■■■\u001b[0m\u001b[32m■■■■\u001b[0msaleid\n",
            "\u001b[31m■■■■\u001b[0m\u001b[33m■■■■\u001b[0m\u001b[32m■■■■\u001b[0m\u001b[34m■■■■\u001b[0m\u001b[31m■■■■\u001b[0m\u001b[33m■■■■\u001b[0mcodec = 1\n",
            "\u001b[31m■■■■\u001b[0m\u001b[33m■■■■\u001b[0m\u001b[32m■■■■\u001b[0m\u001b[34m■■■■\u001b[0m\u001b[31m■■■■\u001b[0m\u001b[33m■■■■\u001b[0mnum_values = 375\n",
            "\u001b[31m■■■■\u001b[0m\u001b[33m■■■■\u001b[0m\u001b[32m■■■■\u001b[0m\u001b[34m■■■■\u001b[0m\u001b[31m■■■■\u001b[0m\u001b[33m■■■■\u001b[0mtotal_uncompressed_size = 5283\n",
            "\u001b[31m■■■■\u001b[0m\u001b[33m■■■■\u001b[0m\u001b[32m■■■■\u001b[0m\u001b[34m■■■■\u001b[0m\u001b[31m■■■■\u001b[0m\u001b[33m■■■■\u001b[0mtotal_compressed_size = 1930\n",
            "\u001b[31m■■■■\u001b[0m\u001b[33m■■■■\u001b[0m\u001b[32m■■■■\u001b[0m\u001b[34m■■■■\u001b[0m\u001b[31m■■■■\u001b[0m\u001b[33m■■■■\u001b[0mdata_page_offset = 4\n",
            "\u001b[31m■■■■\u001b[0m\u001b[33m■■■■\u001b[0m\u001b[32m■■■■\u001b[0m\u001b[34m■■■■\u001b[0m\u001b[31m■■■■\u001b[0m\u001b[33m■■■■\u001b[0mstatistics = Statistics\n",
            "\u001b[31m■■■■\u001b[0m\u001b[33m■■■■\u001b[0m\u001b[32m■■■■\u001b[0m\u001b[34m■■■■\u001b[0m\u001b[31m■■■■\u001b[0m\u001b[33m■■■■\u001b[0m\u001b[32m■■■■\u001b[0mmax_value = b'S000004999'\n",
            "\u001b[31m■■■■\u001b[0m\u001b[33m■■■■\u001b[0m\u001b[32m■■■■\u001b[0m\u001b[34m■■■■\u001b[0m\u001b[31m■■■■\u001b[0m\u001b[33m■■■■\u001b[0m\u001b[32m■■■■\u001b[0mmin_value = b'S000000007'\n",
            "\u001b[31m■■■■\u001b[0m\u001b[33m■■■■\u001b[0m\u001b[32m■■■■\u001b[0m\u001b[34m■■■■\u001b[0m\u001b[31m■■■■\u001b[0m\u001b[33m■■■■\u001b[0mencoding_stats = list\n",
            "\u001b[31m■■■■\u001b[0m\u001b[33m■■■■\u001b[0m\u001b[32m■■■■\u001b[0m\u001b[34m■■■■\u001b[0m\u001b[31m■■■■\u001b[0m\u001b[33m■■■■\u001b[0m\u001b[32m■■■■\u001b[0mPageEncodingStats\n",
            "\u001b[31m■■■■\u001b[0m\u001b[33m■■■■\u001b[0m\u001b[32m■■■■\u001b[0m\u001b[34m■■■■\u001b[0m\u001b[31m■■■■\u001b[0m\u001b[33m■■■■\u001b[0m\u001b[32m■■■■\u001b[0m\u001b[34m■■■■\u001b[0mcount = 1\n",
            "\u001b[31m■■■■\u001b[0m\u001b[33m■■■■\u001b[0m\u001b[32m■■■■\u001b[0m\u001b[34m■■■■\u001b[0m\u001b[31m■■■■\u001b[0moffset_index_offset = 5493\n",
            "\u001b[31m■■■■\u001b[0m\u001b[33m■■■■\u001b[0m\u001b[32m■■■■\u001b[0m\u001b[34m■■■■\u001b[0m\u001b[31m■■■■\u001b[0moffset_index_length = 11\n",
            "\u001b[31m■■■■\u001b[0m\u001b[33m■■■■\u001b[0m\u001b[32m■■■■\u001b[0m\u001b[34m■■■■\u001b[0m\u001b[31m■■■■\u001b[0mcolumn_index_offset = 5089\n",
            "\u001b[31m■■■■\u001b[0m\u001b[33m■■■■\u001b[0m\u001b[32m■■■■\u001b[0m\u001b[34m■■■■\u001b[0m\u001b[31m■■■■\u001b[0mcolumn_index_length = 35\n",
            "\u001b[31m■■■■\u001b[0m\u001b[33m■■■■\u001b[0m\u001b[32m■■■■\u001b[0m\u001b[34m■■■■\u001b[0mColumnChunk\n",
            "\u001b[31m■■■■\u001b[0m\u001b[33m■■■■\u001b[0m\u001b[32m■■■■\u001b[0m\u001b[34m■■■■\u001b[0m\u001b[31m■■■■\u001b[0mfile_offset = 1991\n",
            "\u001b[31m■■■■\u001b[0m\u001b[33m■■■■\u001b[0m\u001b[32m■■■■\u001b[0m\u001b[34m■■■■\u001b[0m\u001b[31m■■■■\u001b[0mmeta_data = ColumnMetaData\n",
            "\u001b[31m■■■■\u001b[0m\u001b[33m■■■■\u001b[0m\u001b[32m■■■■\u001b[0m\u001b[34m■■■■\u001b[0m\u001b[31m■■■■\u001b[0m\u001b[33m■■■■\u001b[0mtype = 1\n",
            "\u001b[31m■■■■\u001b[0m\u001b[33m■■■■\u001b[0m\u001b[32m■■■■\u001b[0m\u001b[34m■■■■\u001b[0m\u001b[31m■■■■\u001b[0m\u001b[33m■■■■\u001b[0mencodings = list\n",
            "\u001b[31m■■■■\u001b[0m\u001b[33m■■■■\u001b[0m\u001b[32m■■■■\u001b[0m\u001b[34m■■■■\u001b[0m\u001b[31m■■■■\u001b[0m\u001b[33m■■■■\u001b[0m\u001b[32m■■■■\u001b[0m4\n",
            "\u001b[31m■■■■\u001b[0m\u001b[33m■■■■\u001b[0m\u001b[32m■■■■\u001b[0m\u001b[34m■■■■\u001b[0m\u001b[31m■■■■\u001b[0m\u001b[33m■■■■\u001b[0m\u001b[32m■■■■\u001b[0m2\n",
            "\u001b[31m■■■■\u001b[0m\u001b[33m■■■■\u001b[0m\u001b[32m■■■■\u001b[0m\u001b[34m■■■■\u001b[0m\u001b[31m■■■■\u001b[0m\u001b[33m■■■■\u001b[0m\u001b[32m■■■■\u001b[0m3\n",
            "\u001b[31m■■■■\u001b[0m\u001b[33m■■■■\u001b[0m\u001b[32m■■■■\u001b[0m\u001b[34m■■■■\u001b[0m\u001b[31m■■■■\u001b[0m\u001b[33m■■■■\u001b[0mpath_in_schema = list\n",
            "\u001b[31m■■■■\u001b[0m\u001b[33m■■■■\u001b[0m\u001b[32m■■■■\u001b[0m\u001b[34m■■■■\u001b[0m\u001b[31m■■■■\u001b[0m\u001b[33m■■■■\u001b[0m\u001b[32m■■■■\u001b[0msaledate\n",
            "\u001b[31m■■■■\u001b[0m\u001b[33m■■■■\u001b[0m\u001b[32m■■■■\u001b[0m\u001b[34m■■■■\u001b[0m\u001b[31m■■■■\u001b[0m\u001b[33m■■■■\u001b[0mcodec = 1\n",
            "\u001b[31m■■■■\u001b[0m\u001b[33m■■■■\u001b[0m\u001b[32m■■■■\u001b[0m\u001b[34m■■■■\u001b[0m\u001b[31m■■■■\u001b[0m\u001b[33m■■■■\u001b[0mnum_values = 375\n",
            "\u001b[31m■■■■\u001b[0m\u001b[33m■■■■\u001b[0m\u001b[32m■■■■\u001b[0m\u001b[34m■■■■\u001b[0m\u001b[31m■■■■\u001b[0m\u001b[33m■■■■\u001b[0mtotal_uncompressed_size = 277\n",
            "\u001b[31m■■■■\u001b[0m\u001b[33m■■■■\u001b[0m\u001b[32m■■■■\u001b[0m\u001b[34m■■■■\u001b[0m\u001b[31m■■■■\u001b[0m\u001b[33m■■■■\u001b[0mtotal_compressed_size = 122\n",
            "\u001b[31m■■■■\u001b[0m\u001b[33m■■■■\u001b[0m\u001b[32m■■■■\u001b[0m\u001b[34m■■■■\u001b[0m\u001b[31m■■■■\u001b[0m\u001b[33m■■■■\u001b[0mdata_page_offset = 1991\n",
            "\u001b[31m■■■■\u001b[0m\u001b[33m■■■■\u001b[0m\u001b[32m■■■■\u001b[0m\u001b[34m■■■■\u001b[0m\u001b[31m■■■■\u001b[0m\u001b[33m■■■■\u001b[0mdictionary_page_offset = 1934\n",
            "\u001b[31m■■■■\u001b[0m\u001b[33m■■■■\u001b[0m\u001b[32m■■■■\u001b[0m\u001b[34m■■■■\u001b[0m\u001b[31m■■■■\u001b[0m\u001b[33m■■■■\u001b[0mstatistics = Statistics\n",
            "\u001b[31m■■■■\u001b[0m\u001b[33m■■■■\u001b[0m\u001b[32m■■■■\u001b[0m\u001b[34m■■■■\u001b[0m\u001b[31m■■■■\u001b[0m\u001b[33m■■■■\u001b[0m\u001b[32m■■■■\u001b[0mmax = b'\\xd3K\\x00\\x00'\n",
            "\u001b[31m■■■■\u001b[0m\u001b[33m■■■■\u001b[0m\u001b[32m■■■■\u001b[0m\u001b[34m■■■■\u001b[0m\u001b[31m■■■■\u001b[0m\u001b[33m■■■■\u001b[0m\u001b[32m■■■■\u001b[0mmin = b'cK\\x00\\x00'\n",
            "\u001b[31m■■■■\u001b[0m\u001b[33m■■■■\u001b[0m\u001b[32m■■■■\u001b[0m\u001b[34m■■■■\u001b[0m\u001b[31m■■■■\u001b[0m\u001b[33m■■■■\u001b[0m\u001b[32m■■■■\u001b[0mmax_value = b'\\xd3K\\x00\\x00'\n",
            "\u001b[31m■■■■\u001b[0m\u001b[33m■■■■\u001b[0m\u001b[32m■■■■\u001b[0m\u001b[34m■■■■\u001b[0m\u001b[31m■■■■\u001b[0m\u001b[33m■■■■\u001b[0m\u001b[32m■■■■\u001b[0mmin_value = b'cK\\x00\\x00'\n",
            "\u001b[31m■■■■\u001b[0m\u001b[33m■■■■\u001b[0m\u001b[32m■■■■\u001b[0m\u001b[34m■■■■\u001b[0m\u001b[31m■■■■\u001b[0m\u001b[33m■■■■\u001b[0mencoding_stats = list\n",
            "\u001b[31m■■■■\u001b[0m\u001b[33m■■■■\u001b[0m\u001b[32m■■■■\u001b[0m\u001b[34m■■■■\u001b[0m\u001b[31m■■■■\u001b[0m\u001b[33m■■■■\u001b[0m\u001b[32m■■■■\u001b[0mPageEncodingStats\n",
            "\u001b[31m■■■■\u001b[0m\u001b[33m■■■■\u001b[0m\u001b[32m■■■■\u001b[0m\u001b[34m■■■■\u001b[0m\u001b[31m■■■■\u001b[0m\u001b[33m■■■■\u001b[0m\u001b[32m■■■■\u001b[0m\u001b[34m■■■■\u001b[0mpage_type = 2\n",
            "\u001b[31m■■■■\u001b[0m\u001b[33m■■■■\u001b[0m\u001b[32m■■■■\u001b[0m\u001b[34m■■■■\u001b[0m\u001b[31m■■■■\u001b[0m\u001b[33m■■■■\u001b[0m\u001b[32m■■■■\u001b[0m\u001b[34m■■■■\u001b[0mencoding = 2\n",
            "\u001b[31m■■■■\u001b[0m\u001b[33m■■■■\u001b[0m\u001b[32m■■■■\u001b[0m\u001b[34m■■■■\u001b[0m\u001b[31m■■■■\u001b[0m\u001b[33m■■■■\u001b[0m\u001b[32m■■■■\u001b[0m\u001b[34m■■■■\u001b[0mcount = 1\n",
            "\u001b[31m■■■■\u001b[0m\u001b[33m■■■■\u001b[0m\u001b[32m■■■■\u001b[0m\u001b[34m■■■■\u001b[0m\u001b[31m■■■■\u001b[0m\u001b[33m■■■■\u001b[0m\u001b[32m■■■■\u001b[0mPageEncodingStats\n",
            "\u001b[31m■■■■\u001b[0m\u001b[33m■■■■\u001b[0m\u001b[32m■■■■\u001b[0m\u001b[34m■■■■\u001b[0m\u001b[31m■■■■\u001b[0m\u001b[33m■■■■\u001b[0m\u001b[32m■■■■\u001b[0m\u001b[34m■■■■\u001b[0mencoding = 2\n",
            "\u001b[31m■■■■\u001b[0m\u001b[33m■■■■\u001b[0m\u001b[32m■■■■\u001b[0m\u001b[34m■■■■\u001b[0m\u001b[31m■■■■\u001b[0m\u001b[33m■■■■\u001b[0m\u001b[32m■■■■\u001b[0m\u001b[34m■■■■\u001b[0mcount = 1\n",
            "\u001b[31m■■■■\u001b[0m\u001b[33m■■■■\u001b[0m\u001b[32m■■■■\u001b[0m\u001b[34m■■■■\u001b[0m\u001b[31m■■■■\u001b[0moffset_index_offset = 5504\n",
            "\u001b[31m■■■■\u001b[0m\u001b[33m■■■■\u001b[0m\u001b[32m■■■■\u001b[0m\u001b[34m■■■■\u001b[0m\u001b[31m■■■■\u001b[0moffset_index_length = 12\n",
            "\u001b[31m■■■■\u001b[0m\u001b[33m■■■■\u001b[0m\u001b[32m■■■■\u001b[0m\u001b[34m■■■■\u001b[0m\u001b[31m■■■■\u001b[0mcolumn_index_offset = 5124\n",
            "\u001b[31m■■■■\u001b[0m\u001b[33m■■■■\u001b[0m\u001b[32m■■■■\u001b[0m\u001b[34m■■■■\u001b[0m\u001b[31m■■■■\u001b[0mcolumn_index_length = 23\n",
            "\u001b[31m■■■■\u001b[0m\u001b[33m■■■■\u001b[0m\u001b[32m■■■■\u001b[0m\u001b[34m■■■■\u001b[0mColumnChunk\n",
            "\u001b[31m■■■■\u001b[0m\u001b[33m■■■■\u001b[0m\u001b[32m■■■■\u001b[0m\u001b[34m■■■■\u001b[0m\u001b[31m■■■■\u001b[0mfile_offset = 2102\n",
            "\u001b[31m■■■■\u001b[0m\u001b[33m■■■■\u001b[0m\u001b[32m■■■■\u001b[0m\u001b[34m■■■■\u001b[0m\u001b[31m■■■■\u001b[0mmeta_data = ColumnMetaData\n",
            "\u001b[31m■■■■\u001b[0m\u001b[33m■■■■\u001b[0m\u001b[32m■■■■\u001b[0m\u001b[34m■■■■\u001b[0m\u001b[31m■■■■\u001b[0m\u001b[33m■■■■\u001b[0mtype = 5\n",
            "\u001b[31m■■■■\u001b[0m\u001b[33m■■■■\u001b[0m\u001b[32m■■■■\u001b[0m\u001b[34m■■■■\u001b[0m\u001b[31m■■■■\u001b[0m\u001b[33m■■■■\u001b[0mencodings = list\n",
            "\u001b[31m■■■■\u001b[0m\u001b[33m■■■■\u001b[0m\u001b[32m■■■■\u001b[0m\u001b[34m■■■■\u001b[0m\u001b[31m■■■■\u001b[0m\u001b[33m■■■■\u001b[0m\u001b[32m■■■■\u001b[0m4\n",
            "\u001b[31m■■■■\u001b[0m\u001b[33m■■■■\u001b[0m\u001b[32m■■■■\u001b[0m\u001b[34m■■■■\u001b[0m\u001b[31m■■■■\u001b[0m\u001b[33m■■■■\u001b[0m\u001b[32m■■■■\u001b[0m2\n",
            "\u001b[31m■■■■\u001b[0m\u001b[33m■■■■\u001b[0m\u001b[32m■■■■\u001b[0m\u001b[34m■■■■\u001b[0m\u001b[31m■■■■\u001b[0m\u001b[33m■■■■\u001b[0m\u001b[32m■■■■\u001b[0m3\n",
            "\u001b[31m■■■■\u001b[0m\u001b[33m■■■■\u001b[0m\u001b[32m■■■■\u001b[0m\u001b[34m■■■■\u001b[0m\u001b[31m■■■■\u001b[0m\u001b[33m■■■■\u001b[0mpath_in_schema = list\n",
            "\u001b[31m■■■■\u001b[0m\u001b[33m■■■■\u001b[0m\u001b[32m■■■■\u001b[0m\u001b[34m■■■■\u001b[0m\u001b[31m■■■■\u001b[0m\u001b[33m■■■■\u001b[0m\u001b[32m■■■■\u001b[0mquantity\n",
            "\u001b[31m■■■■\u001b[0m\u001b[33m■■■■\u001b[0m\u001b[32m■■■■\u001b[0m\u001b[34m■■■■\u001b[0m\u001b[31m■■■■\u001b[0m\u001b[33m■■■■\u001b[0mcodec = 1\n",
            "\u001b[31m■■■■\u001b[0m\u001b[33m■■■■\u001b[0m\u001b[32m■■■■\u001b[0m\u001b[34m■■■■\u001b[0m\u001b[31m■■■■\u001b[0m\u001b[33m■■■■\u001b[0mnum_values = 375\n",
            "\u001b[31m■■■■\u001b[0m\u001b[33m■■■■\u001b[0m\u001b[32m■■■■\u001b[0m\u001b[34m■■■■\u001b[0m\u001b[31m■■■■\u001b[0m\u001b[33m■■■■\u001b[0mtotal_uncompressed_size = 179\n",
            "\u001b[31m■■■■\u001b[0m\u001b[33m■■■■\u001b[0m\u001b[32m■■■■\u001b[0m\u001b[34m■■■■\u001b[0m\u001b[31m■■■■\u001b[0m\u001b[33m■■■■\u001b[0mtotal_compressed_size = 133\n",
            "\u001b[31m■■■■\u001b[0m\u001b[33m■■■■\u001b[0m\u001b[32m■■■■\u001b[0m\u001b[34m■■■■\u001b[0m\u001b[31m■■■■\u001b[0m\u001b[33m■■■■\u001b[0mdata_page_offset = 2102\n",
            "\u001b[31m■■■■\u001b[0m\u001b[33m■■■■\u001b[0m\u001b[32m■■■■\u001b[0m\u001b[34m■■■■\u001b[0m\u001b[31m■■■■\u001b[0m\u001b[33m■■■■\u001b[0mdictionary_page_offset = 2056\n",
            "\u001b[31m■■■■\u001b[0m\u001b[33m■■■■\u001b[0m\u001b[32m■■■■\u001b[0m\u001b[34m■■■■\u001b[0m\u001b[31m■■■■\u001b[0m\u001b[33m■■■■\u001b[0mstatistics = Statistics\n",
            "\u001b[31m■■■■\u001b[0m\u001b[33m■■■■\u001b[0m\u001b[32m■■■■\u001b[0m\u001b[34m■■■■\u001b[0m\u001b[31m■■■■\u001b[0m\u001b[33m■■■■\u001b[0m\u001b[32m■■■■\u001b[0mmax = b'\\x00\\x00\\x00\\x00\\x00\\x00\\x10@'\n",
            "\u001b[31m■■■■\u001b[0m\u001b[33m■■■■\u001b[0m\u001b[32m■■■■\u001b[0m\u001b[34m■■■■\u001b[0m\u001b[31m■■■■\u001b[0m\u001b[33m■■■■\u001b[0m\u001b[32m■■■■\u001b[0mmin = b'\\x00\\x00\\x00\\x00\\x00\\x00\\xf0?'\n",
            "\u001b[31m■■■■\u001b[0m\u001b[33m■■■■\u001b[0m\u001b[32m■■■■\u001b[0m\u001b[34m■■■■\u001b[0m\u001b[31m■■■■\u001b[0m\u001b[33m■■■■\u001b[0m\u001b[32m■■■■\u001b[0mmax_value = b'\\x00\\x00\\x00\\x00\\x00\\x00\\x10@'\n",
            "\u001b[31m■■■■\u001b[0m\u001b[33m■■■■\u001b[0m\u001b[32m■■■■\u001b[0m\u001b[34m■■■■\u001b[0m\u001b[31m■■■■\u001b[0m\u001b[33m■■■■\u001b[0m\u001b[32m■■■■\u001b[0mmin_value = b'\\x00\\x00\\x00\\x00\\x00\\x00\\xf0?'\n",
            "\u001b[31m■■■■\u001b[0m\u001b[33m■■■■\u001b[0m\u001b[32m■■■■\u001b[0m\u001b[34m■■■■\u001b[0m\u001b[31m■■■■\u001b[0m\u001b[33m■■■■\u001b[0mencoding_stats = list\n",
            "\u001b[31m■■■■\u001b[0m\u001b[33m■■■■\u001b[0m\u001b[32m■■■■\u001b[0m\u001b[34m■■■■\u001b[0m\u001b[31m■■■■\u001b[0m\u001b[33m■■■■\u001b[0m\u001b[32m■■■■\u001b[0mPageEncodingStats\n",
            "\u001b[31m■■■■\u001b[0m\u001b[33m■■■■\u001b[0m\u001b[32m■■■■\u001b[0m\u001b[34m■■■■\u001b[0m\u001b[31m■■■■\u001b[0m\u001b[33m■■■■\u001b[0m\u001b[32m■■■■\u001b[0m\u001b[34m■■■■\u001b[0mpage_type = 2\n",
            "\u001b[31m■■■■\u001b[0m\u001b[33m■■■■\u001b[0m\u001b[32m■■■■\u001b[0m\u001b[34m■■■■\u001b[0m\u001b[31m■■■■\u001b[0m\u001b[33m■■■■\u001b[0m\u001b[32m■■■■\u001b[0m\u001b[34m■■■■\u001b[0mencoding = 2\n",
            "\u001b[31m■■■■\u001b[0m\u001b[33m■■■■\u001b[0m\u001b[32m■■■■\u001b[0m\u001b[34m■■■■\u001b[0m\u001b[31m■■■■\u001b[0m\u001b[33m■■■■\u001b[0m\u001b[32m■■■■\u001b[0m\u001b[34m■■■■\u001b[0mcount = 1\n",
            "\u001b[31m■■■■\u001b[0m\u001b[33m■■■■\u001b[0m\u001b[32m■■■■\u001b[0m\u001b[34m■■■■\u001b[0m\u001b[31m■■■■\u001b[0m\u001b[33m■■■■\u001b[0m\u001b[32m■■■■\u001b[0mPageEncodingStats\n",
            "\u001b[31m■■■■\u001b[0m\u001b[33m■■■■\u001b[0m\u001b[32m■■■■\u001b[0m\u001b[34m■■■■\u001b[0m\u001b[31m■■■■\u001b[0m\u001b[33m■■■■\u001b[0m\u001b[32m■■■■\u001b[0m\u001b[34m■■■■\u001b[0mencoding = 2\n",
            "\u001b[31m■■■■\u001b[0m\u001b[33m■■■■\u001b[0m\u001b[32m■■■■\u001b[0m\u001b[34m■■■■\u001b[0m\u001b[31m■■■■\u001b[0m\u001b[33m■■■■\u001b[0m\u001b[32m■■■■\u001b[0m\u001b[34m■■■■\u001b[0mcount = 1\n",
            "\u001b[31m■■■■\u001b[0m\u001b[33m■■■■\u001b[0m\u001b[32m■■■■\u001b[0m\u001b[34m■■■■\u001b[0m\u001b[31m■■■■\u001b[0moffset_index_offset = 5516\n",
            "\u001b[31m■■■■\u001b[0m\u001b[33m■■■■\u001b[0m\u001b[32m■■■■\u001b[0m\u001b[34m■■■■\u001b[0m\u001b[31m■■■■\u001b[0moffset_index_length = 12\n",
            "\u001b[31m■■■■\u001b[0m\u001b[33m■■■■\u001b[0m\u001b[32m■■■■\u001b[0m\u001b[34m■■■■\u001b[0m\u001b[31m■■■■\u001b[0mcolumn_index_offset = 5147\n",
            "\u001b[31m■■■■\u001b[0m\u001b[33m■■■■\u001b[0m\u001b[32m■■■■\u001b[0m\u001b[34m■■■■\u001b[0m\u001b[31m■■■■\u001b[0mcolumn_index_length = 31\n",
            "\u001b[31m■■■■\u001b[0m\u001b[33m■■■■\u001b[0m\u001b[32m■■■■\u001b[0m\u001b[34m■■■■\u001b[0mColumnChunk\n",
            "\u001b[31m■■■■\u001b[0m\u001b[33m■■■■\u001b[0m\u001b[32m■■■■\u001b[0m\u001b[34m■■■■\u001b[0m\u001b[31m■■■■\u001b[0mfile_offset = 2276\n",
            "\u001b[31m■■■■\u001b[0m\u001b[33m■■■■\u001b[0m\u001b[32m■■■■\u001b[0m\u001b[34m■■■■\u001b[0m\u001b[31m■■■■\u001b[0mmeta_data = ColumnMetaData\n",
            "\u001b[31m■■■■\u001b[0m\u001b[33m■■■■\u001b[0m\u001b[32m■■■■\u001b[0m\u001b[34m■■■■\u001b[0m\u001b[31m■■■■\u001b[0m\u001b[33m■■■■\u001b[0mtype = 5\n",
            "\u001b[31m■■■■\u001b[0m\u001b[33m■■■■\u001b[0m\u001b[32m■■■■\u001b[0m\u001b[34m■■■■\u001b[0m\u001b[31m■■■■\u001b[0m\u001b[33m■■■■\u001b[0mencodings = list\n",
            "\u001b[31m■■■■\u001b[0m\u001b[33m■■■■\u001b[0m\u001b[32m■■■■\u001b[0m\u001b[34m■■■■\u001b[0m\u001b[31m■■■■\u001b[0m\u001b[33m■■■■\u001b[0m\u001b[32m■■■■\u001b[0m4\n",
            "\u001b[31m■■■■\u001b[0m\u001b[33m■■■■\u001b[0m\u001b[32m■■■■\u001b[0m\u001b[34m■■■■\u001b[0m\u001b[31m■■■■\u001b[0m\u001b[33m■■■■\u001b[0m\u001b[32m■■■■\u001b[0m2\n",
            "\u001b[31m■■■■\u001b[0m\u001b[33m■■■■\u001b[0m\u001b[32m■■■■\u001b[0m\u001b[34m■■■■\u001b[0m\u001b[31m■■■■\u001b[0m\u001b[33m■■■■\u001b[0m\u001b[32m■■■■\u001b[0m3\n",
            "\u001b[31m■■■■\u001b[0m\u001b[33m■■■■\u001b[0m\u001b[32m■■■■\u001b[0m\u001b[34m■■■■\u001b[0m\u001b[31m■■■■\u001b[0m\u001b[33m■■■■\u001b[0mpath_in_schema = list\n",
            "\u001b[31m■■■■\u001b[0m\u001b[33m■■■■\u001b[0m\u001b[32m■■■■\u001b[0m\u001b[34m■■■■\u001b[0m\u001b[31m■■■■\u001b[0m\u001b[33m■■■■\u001b[0m\u001b[32m■■■■\u001b[0munitprice\n",
            "\u001b[31m■■■■\u001b[0m\u001b[33m■■■■\u001b[0m\u001b[32m■■■■\u001b[0m\u001b[34m■■■■\u001b[0m\u001b[31m■■■■\u001b[0m\u001b[33m■■■■\u001b[0mcodec = 1\n",
            "\u001b[31m■■■■\u001b[0m\u001b[33m■■■■\u001b[0m\u001b[32m■■■■\u001b[0m\u001b[34m■■■■\u001b[0m\u001b[31m■■■■\u001b[0m\u001b[33m■■■■\u001b[0mnum_values = 375\n",
            "\u001b[31m■■■■\u001b[0m\u001b[33m■■■■\u001b[0m\u001b[32m■■■■\u001b[0m\u001b[34m■■■■\u001b[0m\u001b[31m■■■■\u001b[0m\u001b[33m■■■■\u001b[0mtotal_uncompressed_size = 340\n",
            "\u001b[31m■■■■\u001b[0m\u001b[33m■■■■\u001b[0m\u001b[32m■■■■\u001b[0m\u001b[34m■■■■\u001b[0m\u001b[31m■■■■\u001b[0m\u001b[33m■■■■\u001b[0mtotal_compressed_size = 313\n",
            "\u001b[31m■■■■\u001b[0m\u001b[33m■■■■\u001b[0m\u001b[32m■■■■\u001b[0m\u001b[34m■■■■\u001b[0m\u001b[31m■■■■\u001b[0m\u001b[33m■■■■\u001b[0mdata_page_offset = 2276\n",
            "\u001b[31m■■■■\u001b[0m\u001b[33m■■■■\u001b[0m\u001b[32m■■■■\u001b[0m\u001b[34m■■■■\u001b[0m\u001b[31m■■■■\u001b[0m\u001b[33m■■■■\u001b[0mdictionary_page_offset = 2189\n",
            "\u001b[31m■■■■\u001b[0m\u001b[33m■■■■\u001b[0m\u001b[32m■■■■\u001b[0m\u001b[34m■■■■\u001b[0m\u001b[31m■■■■\u001b[0m\u001b[33m■■■■\u001b[0mstatistics = Statistics\n",
            "\u001b[31m■■■■\u001b[0m\u001b[33m■■■■\u001b[0m\u001b[32m■■■■\u001b[0m\u001b[34m■■■■\u001b[0m\u001b[31m■■■■\u001b[0m\u001b[33m■■■■\u001b[0m\u001b[32m■■■■\u001b[0mmax = b'\\x00\\x00\\x00\\x00\\x00\\x80{@'\n",
            "\u001b[31m■■■■\u001b[0m\u001b[33m■■■■\u001b[0m\u001b[32m■■■■\u001b[0m\u001b[34m■■■■\u001b[0m\u001b[31m■■■■\u001b[0m\u001b[33m■■■■\u001b[0m\u001b[32m■■■■\u001b[0mmin = b'\\x00\\x00\\x00\\x00\\x00\\x004@'\n",
            "\u001b[31m■■■■\u001b[0m\u001b[33m■■■■\u001b[0m\u001b[32m■■■■\u001b[0m\u001b[34m■■■■\u001b[0m\u001b[31m■■■■\u001b[0m\u001b[33m■■■■\u001b[0m\u001b[32m■■■■\u001b[0mmax_value = b'\\x00\\x00\\x00\\x00\\x00\\x80{@'\n",
            "\u001b[31m■■■■\u001b[0m\u001b[33m■■■■\u001b[0m\u001b[32m■■■■\u001b[0m\u001b[34m■■■■\u001b[0m\u001b[31m■■■■\u001b[0m\u001b[33m■■■■\u001b[0m\u001b[32m■■■■\u001b[0mmin_value = b'\\x00\\x00\\x00\\x00\\x00\\x004@'\n",
            "\u001b[31m■■■■\u001b[0m\u001b[33m■■■■\u001b[0m\u001b[32m■■■■\u001b[0m\u001b[34m■■■■\u001b[0m\u001b[31m■■■■\u001b[0m\u001b[33m■■■■\u001b[0mencoding_stats = list\n",
            "\u001b[31m■■■■\u001b[0m\u001b[33m■■■■\u001b[0m\u001b[32m■■■■\u001b[0m\u001b[34m■■■■\u001b[0m\u001b[31m■■■■\u001b[0m\u001b[33m■■■■\u001b[0m\u001b[32m■■■■\u001b[0mPageEncodingStats\n",
            "\u001b[31m■■■■\u001b[0m\u001b[33m■■■■\u001b[0m\u001b[32m■■■■\u001b[0m\u001b[34m■■■■\u001b[0m\u001b[31m■■■■\u001b[0m\u001b[33m■■■■\u001b[0m\u001b[32m■■■■\u001b[0m\u001b[34m■■■■\u001b[0mpage_type = 2\n",
            "\u001b[31m■■■■\u001b[0m\u001b[33m■■■■\u001b[0m\u001b[32m■■■■\u001b[0m\u001b[34m■■■■\u001b[0m\u001b[31m■■■■\u001b[0m\u001b[33m■■■■\u001b[0m\u001b[32m■■■■\u001b[0m\u001b[34m■■■■\u001b[0mencoding = 2\n",
            "\u001b[31m■■■■\u001b[0m\u001b[33m■■■■\u001b[0m\u001b[32m■■■■\u001b[0m\u001b[34m■■■■\u001b[0m\u001b[31m■■■■\u001b[0m\u001b[33m■■■■\u001b[0m\u001b[32m■■■■\u001b[0m\u001b[34m■■■■\u001b[0mcount = 1\n",
            "\u001b[31m■■■■\u001b[0m\u001b[33m■■■■\u001b[0m\u001b[32m■■■■\u001b[0m\u001b[34m■■■■\u001b[0m\u001b[31m■■■■\u001b[0m\u001b[33m■■■■\u001b[0m\u001b[32m■■■■\u001b[0mPageEncodingStats\n",
            "\u001b[31m■■■■\u001b[0m\u001b[33m■■■■\u001b[0m\u001b[32m■■■■\u001b[0m\u001b[34m■■■■\u001b[0m\u001b[31m■■■■\u001b[0m\u001b[33m■■■■\u001b[0m\u001b[32m■■■■\u001b[0m\u001b[34m■■■■\u001b[0mencoding = 2\n",
            "\u001b[31m■■■■\u001b[0m\u001b[33m■■■■\u001b[0m\u001b[32m■■■■\u001b[0m\u001b[34m■■■■\u001b[0m\u001b[31m■■■■\u001b[0m\u001b[33m■■■■\u001b[0m\u001b[32m■■■■\u001b[0m\u001b[34m■■■■\u001b[0mcount = 1\n",
            "\u001b[31m■■■■\u001b[0m\u001b[33m■■■■\u001b[0m\u001b[32m■■■■\u001b[0m\u001b[34m■■■■\u001b[0m\u001b[31m■■■■\u001b[0moffset_index_offset = 5528\n",
            "\u001b[31m■■■■\u001b[0m\u001b[33m■■■■\u001b[0m\u001b[32m■■■■\u001b[0m\u001b[34m■■■■\u001b[0m\u001b[31m■■■■\u001b[0moffset_index_length = 12\n",
            "\u001b[31m■■■■\u001b[0m\u001b[33m■■■■\u001b[0m\u001b[32m■■■■\u001b[0m\u001b[34m■■■■\u001b[0m\u001b[31m■■■■\u001b[0mcolumn_index_offset = 5178\n",
            "\u001b[31m■■■■\u001b[0m\u001b[33m■■■■\u001b[0m\u001b[32m■■■■\u001b[0m\u001b[34m■■■■\u001b[0m\u001b[31m■■■■\u001b[0mcolumn_index_length = 31\n",
            "\u001b[31m■■■■\u001b[0m\u001b[33m■■■■\u001b[0m\u001b[32m■■■■\u001b[0m\u001b[34m■■■■\u001b[0mColumnChunk\n",
            "\u001b[31m■■■■\u001b[0m\u001b[33m■■■■\u001b[0m\u001b[32m■■■■\u001b[0m\u001b[34m■■■■\u001b[0m\u001b[31m■■■■\u001b[0mfile_offset = 2550\n",
            "\u001b[31m■■■■\u001b[0m\u001b[33m■■■■\u001b[0m\u001b[32m■■■■\u001b[0m\u001b[34m■■■■\u001b[0m\u001b[31m■■■■\u001b[0mmeta_data = ColumnMetaData\n",
            "\u001b[31m■■■■\u001b[0m\u001b[33m■■■■\u001b[0m\u001b[32m■■■■\u001b[0m\u001b[34m■■■■\u001b[0m\u001b[31m■■■■\u001b[0m\u001b[33m■■■■\u001b[0mtype = 6\n",
            "\u001b[31m■■■■\u001b[0m\u001b[33m■■■■\u001b[0m\u001b[32m■■■■\u001b[0m\u001b[34m■■■■\u001b[0m\u001b[31m■■■■\u001b[0m\u001b[33m■■■■\u001b[0mencodings = list\n",
            "\u001b[31m■■■■\u001b[0m\u001b[33m■■■■\u001b[0m\u001b[32m■■■■\u001b[0m\u001b[34m■■■■\u001b[0m\u001b[31m■■■■\u001b[0m\u001b[33m■■■■\u001b[0m\u001b[32m■■■■\u001b[0m4\n",
            "\u001b[31m■■■■\u001b[0m\u001b[33m■■■■\u001b[0m\u001b[32m■■■■\u001b[0m\u001b[34m■■■■\u001b[0m\u001b[31m■■■■\u001b[0m\u001b[33m■■■■\u001b[0m\u001b[32m■■■■\u001b[0m2\n",
            "\u001b[31m■■■■\u001b[0m\u001b[33m■■■■\u001b[0m\u001b[32m■■■■\u001b[0m\u001b[34m■■■■\u001b[0m\u001b[31m■■■■\u001b[0m\u001b[33m■■■■\u001b[0m\u001b[32m■■■■\u001b[0m3\n",
            "\u001b[31m■■■■\u001b[0m\u001b[33m■■■■\u001b[0m\u001b[32m■■■■\u001b[0m\u001b[34m■■■■\u001b[0m\u001b[31m■■■■\u001b[0m\u001b[33m■■■■\u001b[0mpath_in_schema = list\n",
            "\u001b[31m■■■■\u001b[0m\u001b[33m■■■■\u001b[0m\u001b[32m■■■■\u001b[0m\u001b[34m■■■■\u001b[0m\u001b[31m■■■■\u001b[0m\u001b[33m■■■■\u001b[0m\u001b[32m■■■■\u001b[0mshopid\n",
            "\u001b[31m■■■■\u001b[0m\u001b[33m■■■■\u001b[0m\u001b[32m■■■■\u001b[0m\u001b[34m■■■■\u001b[0m\u001b[31m■■■■\u001b[0m\u001b[33m■■■■\u001b[0mcodec = 1\n",
            "\u001b[31m■■■■\u001b[0m\u001b[33m■■■■\u001b[0m\u001b[32m■■■■\u001b[0m\u001b[34m■■■■\u001b[0m\u001b[31m■■■■\u001b[0m\u001b[33m■■■■\u001b[0mnum_values = 375\n",
            "\u001b[31m■■■■\u001b[0m\u001b[33m■■■■\u001b[0m\u001b[32m■■■■\u001b[0m\u001b[34m■■■■\u001b[0m\u001b[31m■■■■\u001b[0m\u001b[33m■■■■\u001b[0mtotal_uncompressed_size = 179\n",
            "\u001b[31m■■■■\u001b[0m\u001b[33m■■■■\u001b[0m\u001b[32m■■■■\u001b[0m\u001b[34m■■■■\u001b[0m\u001b[31m■■■■\u001b[0m\u001b[33m■■■■\u001b[0mtotal_compressed_size = 98\n",
            "\u001b[31m■■■■\u001b[0m\u001b[33m■■■■\u001b[0m\u001b[32m■■■■\u001b[0m\u001b[34m■■■■\u001b[0m\u001b[31m■■■■\u001b[0m\u001b[33m■■■■\u001b[0mdata_page_offset = 2550\n",
            "\u001b[31m■■■■\u001b[0m\u001b[33m■■■■\u001b[0m\u001b[32m■■■■\u001b[0m\u001b[34m■■■■\u001b[0m\u001b[31m■■■■\u001b[0m\u001b[33m■■■■\u001b[0mdictionary_page_offset = 2502\n",
            "\u001b[31m■■■■\u001b[0m\u001b[33m■■■■\u001b[0m\u001b[32m■■■■\u001b[0m\u001b[34m■■■■\u001b[0m\u001b[31m■■■■\u001b[0m\u001b[33m■■■■\u001b[0mstatistics = Statistics\n",
            "\u001b[31m■■■■\u001b[0m\u001b[33m■■■■\u001b[0m\u001b[32m■■■■\u001b[0m\u001b[34m■■■■\u001b[0m\u001b[31m■■■■\u001b[0m\u001b[33m■■■■\u001b[0m\u001b[32m■■■■\u001b[0mmax_value = b'shop_7'\n",
            "\u001b[31m■■■■\u001b[0m\u001b[33m■■■■\u001b[0m\u001b[32m■■■■\u001b[0m\u001b[34m■■■■\u001b[0m\u001b[31m■■■■\u001b[0m\u001b[33m■■■■\u001b[0m\u001b[32m■■■■\u001b[0mmin_value = b'shop_23'\n",
            "\u001b[31m■■■■\u001b[0m\u001b[33m■■■■\u001b[0m\u001b[32m■■■■\u001b[0m\u001b[34m■■■■\u001b[0m\u001b[31m■■■■\u001b[0m\u001b[33m■■■■\u001b[0mencoding_stats = list\n",
            "\u001b[31m■■■■\u001b[0m\u001b[33m■■■■\u001b[0m\u001b[32m■■■■\u001b[0m\u001b[34m■■■■\u001b[0m\u001b[31m■■■■\u001b[0m\u001b[33m■■■■\u001b[0m\u001b[32m■■■■\u001b[0mPageEncodingStats\n",
            "\u001b[31m■■■■\u001b[0m\u001b[33m■■■■\u001b[0m\u001b[32m■■■■\u001b[0m\u001b[34m■■■■\u001b[0m\u001b[31m■■■■\u001b[0m\u001b[33m■■■■\u001b[0m\u001b[32m■■■■\u001b[0m\u001b[34m■■■■\u001b[0mpage_type = 2\n",
            "\u001b[31m■■■■\u001b[0m\u001b[33m■■■■\u001b[0m\u001b[32m■■■■\u001b[0m\u001b[34m■■■■\u001b[0m\u001b[31m■■■■\u001b[0m\u001b[33m■■■■\u001b[0m\u001b[32m■■■■\u001b[0m\u001b[34m■■■■\u001b[0mencoding = 2\n",
            "\u001b[31m■■■■\u001b[0m\u001b[33m■■■■\u001b[0m\u001b[32m■■■■\u001b[0m\u001b[34m■■■■\u001b[0m\u001b[31m■■■■\u001b[0m\u001b[33m■■■■\u001b[0m\u001b[32m■■■■\u001b[0m\u001b[34m■■■■\u001b[0mcount = 1\n",
            "\u001b[31m■■■■\u001b[0m\u001b[33m■■■■\u001b[0m\u001b[32m■■■■\u001b[0m\u001b[34m■■■■\u001b[0m\u001b[31m■■■■\u001b[0m\u001b[33m■■■■\u001b[0m\u001b[32m■■■■\u001b[0mPageEncodingStats\n",
            "\u001b[31m■■■■\u001b[0m\u001b[33m■■■■\u001b[0m\u001b[32m■■■■\u001b[0m\u001b[34m■■■■\u001b[0m\u001b[31m■■■■\u001b[0m\u001b[33m■■■■\u001b[0m\u001b[32m■■■■\u001b[0m\u001b[34m■■■■\u001b[0mencoding = 2\n",
            "\u001b[31m■■■■\u001b[0m\u001b[33m■■■■\u001b[0m\u001b[32m■■■■\u001b[0m\u001b[34m■■■■\u001b[0m\u001b[31m■■■■\u001b[0m\u001b[33m■■■■\u001b[0m\u001b[32m■■■■\u001b[0m\u001b[34m■■■■\u001b[0mcount = 1\n",
            "\u001b[31m■■■■\u001b[0m\u001b[33m■■■■\u001b[0m\u001b[32m■■■■\u001b[0m\u001b[34m■■■■\u001b[0m\u001b[31m■■■■\u001b[0moffset_index_offset = 5540\n",
            "\u001b[31m■■■■\u001b[0m\u001b[33m■■■■\u001b[0m\u001b[32m■■■■\u001b[0m\u001b[34m■■■■\u001b[0m\u001b[31m■■■■\u001b[0moffset_index_length = 11\n",
            "\u001b[31m■■■■\u001b[0m\u001b[33m■■■■\u001b[0m\u001b[32m■■■■\u001b[0m\u001b[34m■■■■\u001b[0m\u001b[31m■■■■\u001b[0mcolumn_index_offset = 5209\n",
            "\u001b[31m■■■■\u001b[0m\u001b[33m■■■■\u001b[0m\u001b[32m■■■■\u001b[0m\u001b[34m■■■■\u001b[0m\u001b[31m■■■■\u001b[0mcolumn_index_length = 28\n",
            "\u001b[31m■■■■\u001b[0m\u001b[33m■■■■\u001b[0m\u001b[32m■■■■\u001b[0m\u001b[34m■■■■\u001b[0mColumnChunk\n",
            "\u001b[31m■■■■\u001b[0m\u001b[33m■■■■\u001b[0m\u001b[32m■■■■\u001b[0m\u001b[34m■■■■\u001b[0m\u001b[31m■■■■\u001b[0mfile_offset = 2633\n",
            "\u001b[31m■■■■\u001b[0m\u001b[33m■■■■\u001b[0m\u001b[32m■■■■\u001b[0m\u001b[34m■■■■\u001b[0m\u001b[31m■■■■\u001b[0mmeta_data = ColumnMetaData\n",
            "\u001b[31m■■■■\u001b[0m\u001b[33m■■■■\u001b[0m\u001b[32m■■■■\u001b[0m\u001b[34m■■■■\u001b[0m\u001b[31m■■■■\u001b[0m\u001b[33m■■■■\u001b[0mtype = 6\n",
            "\u001b[31m■■■■\u001b[0m\u001b[33m■■■■\u001b[0m\u001b[32m■■■■\u001b[0m\u001b[34m■■■■\u001b[0m\u001b[31m■■■■\u001b[0m\u001b[33m■■■■\u001b[0mencodings = list\n",
            "\u001b[31m■■■■\u001b[0m\u001b[33m■■■■\u001b[0m\u001b[32m■■■■\u001b[0m\u001b[34m■■■■\u001b[0m\u001b[31m■■■■\u001b[0m\u001b[33m■■■■\u001b[0m\u001b[32m■■■■\u001b[0m4\n",
            "\u001b[31m■■■■\u001b[0m\u001b[33m■■■■\u001b[0m\u001b[32m■■■■\u001b[0m\u001b[34m■■■■\u001b[0m\u001b[31m■■■■\u001b[0m\u001b[33m■■■■\u001b[0m\u001b[32m■■■■\u001b[0m2\n",
            "\u001b[31m■■■■\u001b[0m\u001b[33m■■■■\u001b[0m\u001b[32m■■■■\u001b[0m\u001b[34m■■■■\u001b[0m\u001b[31m■■■■\u001b[0m\u001b[33m■■■■\u001b[0m\u001b[32m■■■■\u001b[0m3\n",
            "\u001b[31m■■■■\u001b[0m\u001b[33m■■■■\u001b[0m\u001b[32m■■■■\u001b[0m\u001b[34m■■■■\u001b[0m\u001b[31m■■■■\u001b[0m\u001b[33m■■■■\u001b[0mpath_in_schema = list\n",
            "\u001b[31m■■■■\u001b[0m\u001b[33m■■■■\u001b[0m\u001b[32m■■■■\u001b[0m\u001b[34m■■■■\u001b[0m\u001b[31m■■■■\u001b[0m\u001b[33m■■■■\u001b[0m\u001b[32m■■■■\u001b[0mstate\n",
            "\u001b[31m■■■■\u001b[0m\u001b[33m■■■■\u001b[0m\u001b[32m■■■■\u001b[0m\u001b[34m■■■■\u001b[0m\u001b[31m■■■■\u001b[0m\u001b[33m■■■■\u001b[0mcodec = 1\n",
            "\u001b[31m■■■■\u001b[0m\u001b[33m■■■■\u001b[0m\u001b[32m■■■■\u001b[0m\u001b[34m■■■■\u001b[0m\u001b[31m■■■■\u001b[0m\u001b[33m■■■■\u001b[0mnum_values = 375\n",
            "\u001b[31m■■■■\u001b[0m\u001b[33m■■■■\u001b[0m\u001b[32m■■■■\u001b[0m\u001b[34m■■■■\u001b[0m\u001b[31m■■■■\u001b[0m\u001b[33m■■■■\u001b[0mtotal_uncompressed_size = 65\n",
            "\u001b[31m■■■■\u001b[0m\u001b[33m■■■■\u001b[0m\u001b[32m■■■■\u001b[0m\u001b[34m■■■■\u001b[0m\u001b[31m■■■■\u001b[0m\u001b[33m■■■■\u001b[0mtotal_compressed_size = 69\n",
            "\u001b[31m■■■■\u001b[0m\u001b[33m■■■■\u001b[0m\u001b[32m■■■■\u001b[0m\u001b[34m■■■■\u001b[0m\u001b[31m■■■■\u001b[0m\u001b[33m■■■■\u001b[0mdata_page_offset = 2633\n",
            "\u001b[31m■■■■\u001b[0m\u001b[33m■■■■\u001b[0m\u001b[32m■■■■\u001b[0m\u001b[34m■■■■\u001b[0m\u001b[31m■■■■\u001b[0m\u001b[33m■■■■\u001b[0mdictionary_page_offset = 2600\n",
            "\u001b[31m■■■■\u001b[0m\u001b[33m■■■■\u001b[0m\u001b[32m■■■■\u001b[0m\u001b[34m■■■■\u001b[0m\u001b[31m■■■■\u001b[0m\u001b[33m■■■■\u001b[0mstatistics = Statistics\n",
            "\u001b[31m■■■■\u001b[0m\u001b[33m■■■■\u001b[0m\u001b[32m■■■■\u001b[0m\u001b[34m■■■■\u001b[0m\u001b[31m■■■■\u001b[0m\u001b[33m■■■■\u001b[0m\u001b[32m■■■■\u001b[0mmax = b'Illinois'\n",
            "\u001b[31m■■■■\u001b[0m\u001b[33m■■■■\u001b[0m\u001b[32m■■■■\u001b[0m\u001b[34m■■■■\u001b[0m\u001b[31m■■■■\u001b[0m\u001b[33m■■■■\u001b[0m\u001b[32m■■■■\u001b[0mmin = b'Illinois'\n",
            "\u001b[31m■■■■\u001b[0m\u001b[33m■■■■\u001b[0m\u001b[32m■■■■\u001b[0m\u001b[34m■■■■\u001b[0m\u001b[31m■■■■\u001b[0m\u001b[33m■■■■\u001b[0m\u001b[32m■■■■\u001b[0mmax_value = b'Illinois'\n",
            "\u001b[31m■■■■\u001b[0m\u001b[33m■■■■\u001b[0m\u001b[32m■■■■\u001b[0m\u001b[34m■■■■\u001b[0m\u001b[31m■■■■\u001b[0m\u001b[33m■■■■\u001b[0m\u001b[32m■■■■\u001b[0mmin_value = b'Illinois'\n",
            "\u001b[31m■■■■\u001b[0m\u001b[33m■■■■\u001b[0m\u001b[32m■■■■\u001b[0m\u001b[34m■■■■\u001b[0m\u001b[31m■■■■\u001b[0m\u001b[33m■■■■\u001b[0mencoding_stats = list\n",
            "\u001b[31m■■■■\u001b[0m\u001b[33m■■■■\u001b[0m\u001b[32m■■■■\u001b[0m\u001b[34m■■■■\u001b[0m\u001b[31m■■■■\u001b[0m\u001b[33m■■■■\u001b[0m\u001b[32m■■■■\u001b[0mPageEncodingStats\n",
            "\u001b[31m■■■■\u001b[0m\u001b[33m■■■■\u001b[0m\u001b[32m■■■■\u001b[0m\u001b[34m■■■■\u001b[0m\u001b[31m■■■■\u001b[0m\u001b[33m■■■■\u001b[0m\u001b[32m■■■■\u001b[0m\u001b[34m■■■■\u001b[0mpage_type = 2\n",
            "\u001b[31m■■■■\u001b[0m\u001b[33m■■■■\u001b[0m\u001b[32m■■■■\u001b[0m\u001b[34m■■■■\u001b[0m\u001b[31m■■■■\u001b[0m\u001b[33m■■■■\u001b[0m\u001b[32m■■■■\u001b[0m\u001b[34m■■■■\u001b[0mencoding = 2\n",
            "\u001b[31m■■■■\u001b[0m\u001b[33m■■■■\u001b[0m\u001b[32m■■■■\u001b[0m\u001b[34m■■■■\u001b[0m\u001b[31m■■■■\u001b[0m\u001b[33m■■■■\u001b[0m\u001b[32m■■■■\u001b[0m\u001b[34m■■■■\u001b[0mcount = 1\n",
            "\u001b[31m■■■■\u001b[0m\u001b[33m■■■■\u001b[0m\u001b[32m■■■■\u001b[0m\u001b[34m■■■■\u001b[0m\u001b[31m■■■■\u001b[0m\u001b[33m■■■■\u001b[0m\u001b[32m■■■■\u001b[0mPageEncodingStats\n",
            "\u001b[31m■■■■\u001b[0m\u001b[33m■■■■\u001b[0m\u001b[32m■■■■\u001b[0m\u001b[34m■■■■\u001b[0m\u001b[31m■■■■\u001b[0m\u001b[33m■■■■\u001b[0m\u001b[32m■■■■\u001b[0m\u001b[34m■■■■\u001b[0mencoding = 2\n",
            "\u001b[31m■■■■\u001b[0m\u001b[33m■■■■\u001b[0m\u001b[32m■■■■\u001b[0m\u001b[34m■■■■\u001b[0m\u001b[31m■■■■\u001b[0m\u001b[33m■■■■\u001b[0m\u001b[32m■■■■\u001b[0m\u001b[34m■■■■\u001b[0mcount = 1\n",
            "\u001b[31m■■■■\u001b[0m\u001b[33m■■■■\u001b[0m\u001b[32m■■■■\u001b[0m\u001b[34m■■■■\u001b[0m\u001b[31m■■■■\u001b[0moffset_index_offset = 5551\n",
            "\u001b[31m■■■■\u001b[0m\u001b[33m■■■■\u001b[0m\u001b[32m■■■■\u001b[0m\u001b[34m■■■■\u001b[0m\u001b[31m■■■■\u001b[0moffset_index_length = 11\n",
            "\u001b[31m■■■■\u001b[0m\u001b[33m■■■■\u001b[0m\u001b[32m■■■■\u001b[0m\u001b[34m■■■■\u001b[0m\u001b[31m■■■■\u001b[0mcolumn_index_offset = 5237\n",
            "\u001b[31m■■■■\u001b[0m\u001b[33m■■■■\u001b[0m\u001b[32m■■■■\u001b[0m\u001b[34m■■■■\u001b[0m\u001b[31m■■■■\u001b[0mcolumn_index_length = 31\n",
            "\u001b[31m■■■■\u001b[0m\u001b[33m■■■■\u001b[0m\u001b[32m■■■■\u001b[0m\u001b[34m■■■■\u001b[0mColumnChunk\n",
            "\u001b[31m■■■■\u001b[0m\u001b[33m■■■■\u001b[0m\u001b[32m■■■■\u001b[0m\u001b[34m■■■■\u001b[0m\u001b[31m■■■■\u001b[0mfile_offset = 2697\n",
            "\u001b[31m■■■■\u001b[0m\u001b[33m■■■■\u001b[0m\u001b[32m■■■■\u001b[0m\u001b[34m■■■■\u001b[0m\u001b[31m■■■■\u001b[0mmeta_data = ColumnMetaData\n",
            "\u001b[31m■■■■\u001b[0m\u001b[33m■■■■\u001b[0m\u001b[32m■■■■\u001b[0m\u001b[34m■■■■\u001b[0m\u001b[31m■■■■\u001b[0m\u001b[33m■■■■\u001b[0mtype = 6\n",
            "\u001b[31m■■■■\u001b[0m\u001b[33m■■■■\u001b[0m\u001b[32m■■■■\u001b[0m\u001b[34m■■■■\u001b[0m\u001b[31m■■■■\u001b[0m\u001b[33m■■■■\u001b[0mencodings = list\n",
            "\u001b[31m■■■■\u001b[0m\u001b[33m■■■■\u001b[0m\u001b[32m■■■■\u001b[0m\u001b[34m■■■■\u001b[0m\u001b[31m■■■■\u001b[0m\u001b[33m■■■■\u001b[0m\u001b[32m■■■■\u001b[0m4\n",
            "\u001b[31m■■■■\u001b[0m\u001b[33m■■■■\u001b[0m\u001b[32m■■■■\u001b[0m\u001b[34m■■■■\u001b[0m\u001b[31m■■■■\u001b[0m\u001b[33m■■■■\u001b[0m\u001b[32m■■■■\u001b[0m2\n",
            "\u001b[31m■■■■\u001b[0m\u001b[33m■■■■\u001b[0m\u001b[32m■■■■\u001b[0m\u001b[34m■■■■\u001b[0m\u001b[31m■■■■\u001b[0m\u001b[33m■■■■\u001b[0m\u001b[32m■■■■\u001b[0m3\n",
            "\u001b[31m■■■■\u001b[0m\u001b[33m■■■■\u001b[0m\u001b[32m■■■■\u001b[0m\u001b[34m■■■■\u001b[0m\u001b[31m■■■■\u001b[0m\u001b[33m■■■■\u001b[0mpath_in_schema = list\n",
            "\u001b[31m■■■■\u001b[0m\u001b[33m■■■■\u001b[0m\u001b[32m■■■■\u001b[0m\u001b[34m■■■■\u001b[0m\u001b[31m■■■■\u001b[0m\u001b[33m■■■■\u001b[0m\u001b[32m■■■■\u001b[0mcountry\n",
            "\u001b[31m■■■■\u001b[0m\u001b[33m■■■■\u001b[0m\u001b[32m■■■■\u001b[0m\u001b[34m■■■■\u001b[0m\u001b[31m■■■■\u001b[0m\u001b[33m■■■■\u001b[0mcodec = 1\n",
            "\u001b[31m■■■■\u001b[0m\u001b[33m■■■■\u001b[0m\u001b[32m■■■■\u001b[0m\u001b[34m■■■■\u001b[0m\u001b[31m■■■■\u001b[0m\u001b[33m■■■■\u001b[0mnum_values = 375\n",
            "\u001b[31m■■■■\u001b[0m\u001b[33m■■■■\u001b[0m\u001b[32m■■■■\u001b[0m\u001b[34m■■■■\u001b[0m\u001b[31m■■■■\u001b[0m\u001b[33m■■■■\u001b[0mtotal_uncompressed_size = 60\n",
            "\u001b[31m■■■■\u001b[0m\u001b[33m■■■■\u001b[0m\u001b[32m■■■■\u001b[0m\u001b[34m■■■■\u001b[0m\u001b[31m■■■■\u001b[0m\u001b[33m■■■■\u001b[0mtotal_compressed_size = 64\n",
            "\u001b[31m■■■■\u001b[0m\u001b[33m■■■■\u001b[0m\u001b[32m■■■■\u001b[0m\u001b[34m■■■■\u001b[0m\u001b[31m■■■■\u001b[0m\u001b[33m■■■■\u001b[0mdata_page_offset = 2697\n",
            "\u001b[31m■■■■\u001b[0m\u001b[33m■■■■\u001b[0m\u001b[32m■■■■\u001b[0m\u001b[34m■■■■\u001b[0m\u001b[31m■■■■\u001b[0m\u001b[33m■■■■\u001b[0mdictionary_page_offset = 2669\n",
            "\u001b[31m■■■■\u001b[0m\u001b[33m■■■■\u001b[0m\u001b[32m■■■■\u001b[0m\u001b[34m■■■■\u001b[0m\u001b[31m■■■■\u001b[0m\u001b[33m■■■■\u001b[0mstatistics = Statistics\n",
            "\u001b[31m■■■■\u001b[0m\u001b[33m■■■■\u001b[0m\u001b[32m■■■■\u001b[0m\u001b[34m■■■■\u001b[0m\u001b[31m■■■■\u001b[0m\u001b[33m■■■■\u001b[0m\u001b[32m■■■■\u001b[0mmax = b'USA'\n",
            "\u001b[31m■■■■\u001b[0m\u001b[33m■■■■\u001b[0m\u001b[32m■■■■\u001b[0m\u001b[34m■■■■\u001b[0m\u001b[31m■■■■\u001b[0m\u001b[33m■■■■\u001b[0m\u001b[32m■■■■\u001b[0mmin = b'USA'\n",
            "\u001b[31m■■■■\u001b[0m\u001b[33m■■■■\u001b[0m\u001b[32m■■■■\u001b[0m\u001b[34m■■■■\u001b[0m\u001b[31m■■■■\u001b[0m\u001b[33m■■■■\u001b[0m\u001b[32m■■■■\u001b[0mmax_value = b'USA'\n",
            "\u001b[31m■■■■\u001b[0m\u001b[33m■■■■\u001b[0m\u001b[32m■■■■\u001b[0m\u001b[34m■■■■\u001b[0m\u001b[31m■■■■\u001b[0m\u001b[33m■■■■\u001b[0m\u001b[32m■■■■\u001b[0mmin_value = b'USA'\n",
            "\u001b[31m■■■■\u001b[0m\u001b[33m■■■■\u001b[0m\u001b[32m■■■■\u001b[0m\u001b[34m■■■■\u001b[0m\u001b[31m■■■■\u001b[0m\u001b[33m■■■■\u001b[0mencoding_stats = list\n",
            "\u001b[31m■■■■\u001b[0m\u001b[33m■■■■\u001b[0m\u001b[32m■■■■\u001b[0m\u001b[34m■■■■\u001b[0m\u001b[31m■■■■\u001b[0m\u001b[33m■■■■\u001b[0m\u001b[32m■■■■\u001b[0mPageEncodingStats\n",
            "\u001b[31m■■■■\u001b[0m\u001b[33m■■■■\u001b[0m\u001b[32m■■■■\u001b[0m\u001b[34m■■■■\u001b[0m\u001b[31m■■■■\u001b[0m\u001b[33m■■■■\u001b[0m\u001b[32m■■■■\u001b[0m\u001b[34m■■■■\u001b[0mpage_type = 2\n",
            "\u001b[31m■■■■\u001b[0m\u001b[33m■■■■\u001b[0m\u001b[32m■■■■\u001b[0m\u001b[34m■■■■\u001b[0m\u001b[31m■■■■\u001b[0m\u001b[33m■■■■\u001b[0m\u001b[32m■■■■\u001b[0m\u001b[34m■■■■\u001b[0mencoding = 2\n",
            "\u001b[31m■■■■\u001b[0m\u001b[33m■■■■\u001b[0m\u001b[32m■■■■\u001b[0m\u001b[34m■■■■\u001b[0m\u001b[31m■■■■\u001b[0m\u001b[33m■■■■\u001b[0m\u001b[32m■■■■\u001b[0m\u001b[34m■■■■\u001b[0mcount = 1\n",
            "\u001b[31m■■■■\u001b[0m\u001b[33m■■■■\u001b[0m\u001b[32m■■■■\u001b[0m\u001b[34m■■■■\u001b[0m\u001b[31m■■■■\u001b[0m\u001b[33m■■■■\u001b[0m\u001b[32m■■■■\u001b[0mPageEncodingStats\n",
            "\u001b[31m■■■■\u001b[0m\u001b[33m■■■■\u001b[0m\u001b[32m■■■■\u001b[0m\u001b[34m■■■■\u001b[0m\u001b[31m■■■■\u001b[0m\u001b[33m■■■■\u001b[0m\u001b[32m■■■■\u001b[0m\u001b[34m■■■■\u001b[0mencoding = 2\n",
            "\u001b[31m■■■■\u001b[0m\u001b[33m■■■■\u001b[0m\u001b[32m■■■■\u001b[0m\u001b[34m■■■■\u001b[0m\u001b[31m■■■■\u001b[0m\u001b[33m■■■■\u001b[0m\u001b[32m■■■■\u001b[0m\u001b[34m■■■■\u001b[0mcount = 1\n",
            "\u001b[31m■■■■\u001b[0m\u001b[33m■■■■\u001b[0m\u001b[32m■■■■\u001b[0m\u001b[34m■■■■\u001b[0m\u001b[31m■■■■\u001b[0moffset_index_offset = 5562\n",
            "\u001b[31m■■■■\u001b[0m\u001b[33m■■■■\u001b[0m\u001b[32m■■■■\u001b[0m\u001b[34m■■■■\u001b[0m\u001b[31m■■■■\u001b[0moffset_index_length = 11\n",
            "\u001b[31m■■■■\u001b[0m\u001b[33m■■■■\u001b[0m\u001b[32m■■■■\u001b[0m\u001b[34m■■■■\u001b[0m\u001b[31m■■■■\u001b[0mcolumn_index_offset = 5268\n",
            "\u001b[31m■■■■\u001b[0m\u001b[33m■■■■\u001b[0m\u001b[32m■■■■\u001b[0m\u001b[34m■■■■\u001b[0m\u001b[31m■■■■\u001b[0mcolumn_index_length = 21\n",
            "\u001b[31m■■■■\u001b[0m\u001b[33m■■■■\u001b[0m\u001b[32m■■■■\u001b[0m\u001b[34m■■■■\u001b[0mColumnChunk\n",
            "\u001b[31m■■■■\u001b[0m\u001b[33m■■■■\u001b[0m\u001b[32m■■■■\u001b[0m\u001b[34m■■■■\u001b[0m\u001b[31m■■■■\u001b[0mfile_offset = 2773\n",
            "\u001b[31m■■■■\u001b[0m\u001b[33m■■■■\u001b[0m\u001b[32m■■■■\u001b[0m\u001b[34m■■■■\u001b[0m\u001b[31m■■■■\u001b[0mmeta_data = ColumnMetaData\n",
            "\u001b[31m■■■■\u001b[0m\u001b[33m■■■■\u001b[0m\u001b[32m■■■■\u001b[0m\u001b[34m■■■■\u001b[0m\u001b[31m■■■■\u001b[0m\u001b[33m■■■■\u001b[0mtype = 6\n",
            "\u001b[31m■■■■\u001b[0m\u001b[33m■■■■\u001b[0m\u001b[32m■■■■\u001b[0m\u001b[34m■■■■\u001b[0m\u001b[31m■■■■\u001b[0m\u001b[33m■■■■\u001b[0mencodings = list\n",
            "\u001b[31m■■■■\u001b[0m\u001b[33m■■■■\u001b[0m\u001b[32m■■■■\u001b[0m\u001b[34m■■■■\u001b[0m\u001b[31m■■■■\u001b[0m\u001b[33m■■■■\u001b[0m\u001b[32m■■■■\u001b[0m4\n",
            "\u001b[31m■■■■\u001b[0m\u001b[33m■■■■\u001b[0m\u001b[32m■■■■\u001b[0m\u001b[34m■■■■\u001b[0m\u001b[31m■■■■\u001b[0m\u001b[33m■■■■\u001b[0m\u001b[32m■■■■\u001b[0m2\n",
            "\u001b[31m■■■■\u001b[0m\u001b[33m■■■■\u001b[0m\u001b[32m■■■■\u001b[0m\u001b[34m■■■■\u001b[0m\u001b[31m■■■■\u001b[0m\u001b[33m■■■■\u001b[0m\u001b[32m■■■■\u001b[0m3\n",
            "\u001b[31m■■■■\u001b[0m\u001b[33m■■■■\u001b[0m\u001b[32m■■■■\u001b[0m\u001b[34m■■■■\u001b[0m\u001b[31m■■■■\u001b[0m\u001b[33m■■■■\u001b[0mpath_in_schema = list\n",
            "\u001b[31m■■■■\u001b[0m\u001b[33m■■■■\u001b[0m\u001b[32m■■■■\u001b[0m\u001b[34m■■■■\u001b[0m\u001b[31m■■■■\u001b[0m\u001b[33m■■■■\u001b[0m\u001b[32m■■■■\u001b[0mshopsize\n",
            "\u001b[31m■■■■\u001b[0m\u001b[33m■■■■\u001b[0m\u001b[32m■■■■\u001b[0m\u001b[34m■■■■\u001b[0m\u001b[31m■■■■\u001b[0m\u001b[33m■■■■\u001b[0mcodec = 1\n",
            "\u001b[31m■■■■\u001b[0m\u001b[33m■■■■\u001b[0m\u001b[32m■■■■\u001b[0m\u001b[34m■■■■\u001b[0m\u001b[31m■■■■\u001b[0m\u001b[33m■■■■\u001b[0mnum_values = 375\n",
            "\u001b[31m■■■■\u001b[0m\u001b[33m■■■■\u001b[0m\u001b[32m■■■■\u001b[0m\u001b[34m■■■■\u001b[0m\u001b[31m■■■■\u001b[0m\u001b[33m■■■■\u001b[0mtotal_uncompressed_size = 118\n",
            "\u001b[31m■■■■\u001b[0m\u001b[33m■■■■\u001b[0m\u001b[32m■■■■\u001b[0m\u001b[34m■■■■\u001b[0m\u001b[31m■■■■\u001b[0m\u001b[33m■■■■\u001b[0mtotal_compressed_size = 84\n",
            "\u001b[31m■■■■\u001b[0m\u001b[33m■■■■\u001b[0m\u001b[32m■■■■\u001b[0m\u001b[34m■■■■\u001b[0m\u001b[31m■■■■\u001b[0m\u001b[33m■■■■\u001b[0mdata_page_offset = 2773\n",
            "\u001b[31m■■■■\u001b[0m\u001b[33m■■■■\u001b[0m\u001b[32m■■■■\u001b[0m\u001b[34m■■■■\u001b[0m\u001b[31m■■■■\u001b[0m\u001b[33m■■■■\u001b[0mdictionary_page_offset = 2733\n",
            "\u001b[31m■■■■\u001b[0m\u001b[33m■■■■\u001b[0m\u001b[32m■■■■\u001b[0m\u001b[34m■■■■\u001b[0m\u001b[31m■■■■\u001b[0m\u001b[33m■■■■\u001b[0mstatistics = Statistics\n",
            "\u001b[31m■■■■\u001b[0m\u001b[33m■■■■\u001b[0m\u001b[32m■■■■\u001b[0m\u001b[34m■■■■\u001b[0m\u001b[31m■■■■\u001b[0m\u001b[33m■■■■\u001b[0m\u001b[32m■■■■\u001b[0mmax_value = b'small'\n",
            "\u001b[31m■■■■\u001b[0m\u001b[33m■■■■\u001b[0m\u001b[32m■■■■\u001b[0m\u001b[34m■■■■\u001b[0m\u001b[31m■■■■\u001b[0m\u001b[33m■■■■\u001b[0m\u001b[32m■■■■\u001b[0mmin_value = b'medium'\n",
            "\u001b[31m■■■■\u001b[0m\u001b[33m■■■■\u001b[0m\u001b[32m■■■■\u001b[0m\u001b[34m■■■■\u001b[0m\u001b[31m■■■■\u001b[0m\u001b[33m■■■■\u001b[0mencoding_stats = list\n",
            "\u001b[31m■■■■\u001b[0m\u001b[33m■■■■\u001b[0m\u001b[32m■■■■\u001b[0m\u001b[34m■■■■\u001b[0m\u001b[31m■■■■\u001b[0m\u001b[33m■■■■\u001b[0m\u001b[32m■■■■\u001b[0mPageEncodingStats\n",
            "\u001b[31m■■■■\u001b[0m\u001b[33m■■■■\u001b[0m\u001b[32m■■■■\u001b[0m\u001b[34m■■■■\u001b[0m\u001b[31m■■■■\u001b[0m\u001b[33m■■■■\u001b[0m\u001b[32m■■■■\u001b[0m\u001b[34m■■■■\u001b[0mpage_type = 2\n",
            "\u001b[31m■■■■\u001b[0m\u001b[33m■■■■\u001b[0m\u001b[32m■■■■\u001b[0m\u001b[34m■■■■\u001b[0m\u001b[31m■■■■\u001b[0m\u001b[33m■■■■\u001b[0m\u001b[32m■■■■\u001b[0m\u001b[34m■■■■\u001b[0mencoding = 2\n",
            "\u001b[31m■■■■\u001b[0m\u001b[33m■■■■\u001b[0m\u001b[32m■■■■\u001b[0m\u001b[34m■■■■\u001b[0m\u001b[31m■■■■\u001b[0m\u001b[33m■■■■\u001b[0m\u001b[32m■■■■\u001b[0m\u001b[34m■■■■\u001b[0mcount = 1\n",
            "\u001b[31m■■■■\u001b[0m\u001b[33m■■■■\u001b[0m\u001b[32m■■■■\u001b[0m\u001b[34m■■■■\u001b[0m\u001b[31m■■■■\u001b[0m\u001b[33m■■■■\u001b[0m\u001b[32m■■■■\u001b[0mPageEncodingStats\n",
            "\u001b[31m■■■■\u001b[0m\u001b[33m■■■■\u001b[0m\u001b[32m■■■■\u001b[0m\u001b[34m■■■■\u001b[0m\u001b[31m■■■■\u001b[0m\u001b[33m■■■■\u001b[0m\u001b[32m■■■■\u001b[0m\u001b[34m■■■■\u001b[0mencoding = 2\n",
            "\u001b[31m■■■■\u001b[0m\u001b[33m■■■■\u001b[0m\u001b[32m■■■■\u001b[0m\u001b[34m■■■■\u001b[0m\u001b[31m■■■■\u001b[0m\u001b[33m■■■■\u001b[0m\u001b[32m■■■■\u001b[0m\u001b[34m■■■■\u001b[0mcount = 1\n",
            "\u001b[31m■■■■\u001b[0m\u001b[33m■■■■\u001b[0m\u001b[32m■■■■\u001b[0m\u001b[34m■■■■\u001b[0m\u001b[31m■■■■\u001b[0moffset_index_offset = 5573\n",
            "\u001b[31m■■■■\u001b[0m\u001b[33m■■■■\u001b[0m\u001b[32m■■■■\u001b[0m\u001b[34m■■■■\u001b[0m\u001b[31m■■■■\u001b[0moffset_index_length = 11\n",
            "\u001b[31m■■■■\u001b[0m\u001b[33m■■■■\u001b[0m\u001b[32m■■■■\u001b[0m\u001b[34m■■■■\u001b[0m\u001b[31m■■■■\u001b[0mcolumn_index_offset = 5289\n",
            "\u001b[31m■■■■\u001b[0m\u001b[33m■■■■\u001b[0m\u001b[32m■■■■\u001b[0m\u001b[34m■■■■\u001b[0m\u001b[31m■■■■\u001b[0mcolumn_index_length = 26\n",
            "\u001b[31m■■■■\u001b[0m\u001b[33m■■■■\u001b[0m\u001b[32m■■■■\u001b[0m\u001b[34m■■■■\u001b[0mColumnChunk\n",
            "\u001b[31m■■■■\u001b[0m\u001b[33m■■■■\u001b[0m\u001b[32m■■■■\u001b[0m\u001b[34m■■■■\u001b[0m\u001b[31m■■■■\u001b[0mfile_offset = 3189\n",
            "\u001b[31m■■■■\u001b[0m\u001b[33m■■■■\u001b[0m\u001b[32m■■■■\u001b[0m\u001b[34m■■■■\u001b[0m\u001b[31m■■■■\u001b[0mmeta_data = ColumnMetaData\n",
            "\u001b[31m■■■■\u001b[0m\u001b[33m■■■■\u001b[0m\u001b[32m■■■■\u001b[0m\u001b[34m■■■■\u001b[0m\u001b[31m■■■■\u001b[0m\u001b[33m■■■■\u001b[0mtype = 6\n",
            "\u001b[31m■■■■\u001b[0m\u001b[33m■■■■\u001b[0m\u001b[32m■■■■\u001b[0m\u001b[34m■■■■\u001b[0m\u001b[31m■■■■\u001b[0m\u001b[33m■■■■\u001b[0mencodings = list\n",
            "\u001b[31m■■■■\u001b[0m\u001b[33m■■■■\u001b[0m\u001b[32m■■■■\u001b[0m\u001b[34m■■■■\u001b[0m\u001b[31m■■■■\u001b[0m\u001b[33m■■■■\u001b[0m\u001b[32m■■■■\u001b[0m4\n",
            "\u001b[31m■■■■\u001b[0m\u001b[33m■■■■\u001b[0m\u001b[32m■■■■\u001b[0m\u001b[34m■■■■\u001b[0m\u001b[31m■■■■\u001b[0m\u001b[33m■■■■\u001b[0m\u001b[32m■■■■\u001b[0m2\n",
            "\u001b[31m■■■■\u001b[0m\u001b[33m■■■■\u001b[0m\u001b[32m■■■■\u001b[0m\u001b[34m■■■■\u001b[0m\u001b[31m■■■■\u001b[0m\u001b[33m■■■■\u001b[0m\u001b[32m■■■■\u001b[0m3\n",
            "\u001b[31m■■■■\u001b[0m\u001b[33m■■■■\u001b[0m\u001b[32m■■■■\u001b[0m\u001b[34m■■■■\u001b[0m\u001b[31m■■■■\u001b[0m\u001b[33m■■■■\u001b[0mpath_in_schema = list\n",
            "\u001b[31m■■■■\u001b[0m\u001b[33m■■■■\u001b[0m\u001b[32m■■■■\u001b[0m\u001b[34m■■■■\u001b[0m\u001b[31m■■■■\u001b[0m\u001b[33m■■■■\u001b[0m\u001b[32m■■■■\u001b[0mproductid\n",
            "\u001b[31m■■■■\u001b[0m\u001b[33m■■■■\u001b[0m\u001b[32m■■■■\u001b[0m\u001b[34m■■■■\u001b[0m\u001b[31m■■■■\u001b[0m\u001b[33m■■■■\u001b[0mcodec = 1\n",
            "\u001b[31m■■■■\u001b[0m\u001b[33m■■■■\u001b[0m\u001b[32m■■■■\u001b[0m\u001b[34m■■■■\u001b[0m\u001b[31m■■■■\u001b[0m\u001b[33m■■■■\u001b[0mnum_values = 375\n",
            "\u001b[31m■■■■\u001b[0m\u001b[33m■■■■\u001b[0m\u001b[32m■■■■\u001b[0m\u001b[34m■■■■\u001b[0m\u001b[31m■■■■\u001b[0m\u001b[33m■■■■\u001b[0mtotal_uncompressed_size = 938\n",
            "\u001b[31m■■■■\u001b[0m\u001b[33m■■■■\u001b[0m\u001b[32m■■■■\u001b[0m\u001b[34m■■■■\u001b[0m\u001b[31m■■■■\u001b[0m\u001b[33m■■■■\u001b[0mtotal_compressed_size = 693\n",
            "\u001b[31m■■■■\u001b[0m\u001b[33m■■■■\u001b[0m\u001b[32m■■■■\u001b[0m\u001b[34m■■■■\u001b[0m\u001b[31m■■■■\u001b[0m\u001b[33m■■■■\u001b[0mdata_page_offset = 3189\n",
            "\u001b[31m■■■■\u001b[0m\u001b[33m■■■■\u001b[0m\u001b[32m■■■■\u001b[0m\u001b[34m■■■■\u001b[0m\u001b[31m■■■■\u001b[0m\u001b[33m■■■■\u001b[0mdictionary_page_offset = 2817\n",
            "\u001b[31m■■■■\u001b[0m\u001b[33m■■■■\u001b[0m\u001b[32m■■■■\u001b[0m\u001b[34m■■■■\u001b[0m\u001b[31m■■■■\u001b[0m\u001b[33m■■■■\u001b[0mstatistics = Statistics\n",
            "\u001b[31m■■■■\u001b[0m\u001b[33m■■■■\u001b[0m\u001b[32m■■■■\u001b[0m\u001b[34m■■■■\u001b[0m\u001b[31m■■■■\u001b[0m\u001b[33m■■■■\u001b[0m\u001b[32m■■■■\u001b[0mmax_value = b'TSH_9'\n",
            "\u001b[31m■■■■\u001b[0m\u001b[33m■■■■\u001b[0m\u001b[32m■■■■\u001b[0m\u001b[34m■■■■\u001b[0m\u001b[31m■■■■\u001b[0m\u001b[33m■■■■\u001b[0m\u001b[32m■■■■\u001b[0mmin_value = b'BED_24'\n",
            "\u001b[31m■■■■\u001b[0m\u001b[33m■■■■\u001b[0m\u001b[32m■■■■\u001b[0m\u001b[34m■■■■\u001b[0m\u001b[31m■■■■\u001b[0m\u001b[33m■■■■\u001b[0mencoding_stats = list\n",
            "\u001b[31m■■■■\u001b[0m\u001b[33m■■■■\u001b[0m\u001b[32m■■■■\u001b[0m\u001b[34m■■■■\u001b[0m\u001b[31m■■■■\u001b[0m\u001b[33m■■■■\u001b[0m\u001b[32m■■■■\u001b[0mPageEncodingStats\n",
            "\u001b[31m■■■■\u001b[0m\u001b[33m■■■■\u001b[0m\u001b[32m■■■■\u001b[0m\u001b[34m■■■■\u001b[0m\u001b[31m■■■■\u001b[0m\u001b[33m■■■■\u001b[0m\u001b[32m■■■■\u001b[0m\u001b[34m■■■■\u001b[0mpage_type = 2\n",
            "\u001b[31m■■■■\u001b[0m\u001b[33m■■■■\u001b[0m\u001b[32m■■■■\u001b[0m\u001b[34m■■■■\u001b[0m\u001b[31m■■■■\u001b[0m\u001b[33m■■■■\u001b[0m\u001b[32m■■■■\u001b[0m\u001b[34m■■■■\u001b[0mencoding = 2\n",
            "\u001b[31m■■■■\u001b[0m\u001b[33m■■■■\u001b[0m\u001b[32m■■■■\u001b[0m\u001b[34m■■■■\u001b[0m\u001b[31m■■■■\u001b[0m\u001b[33m■■■■\u001b[0m\u001b[32m■■■■\u001b[0m\u001b[34m■■■■\u001b[0mcount = 1\n",
            "\u001b[31m■■■■\u001b[0m\u001b[33m■■■■\u001b[0m\u001b[32m■■■■\u001b[0m\u001b[34m■■■■\u001b[0m\u001b[31m■■■■\u001b[0m\u001b[33m■■■■\u001b[0m\u001b[32m■■■■\u001b[0mPageEncodingStats\n",
            "\u001b[31m■■■■\u001b[0m\u001b[33m■■■■\u001b[0m\u001b[32m■■■■\u001b[0m\u001b[34m■■■■\u001b[0m\u001b[31m■■■■\u001b[0m\u001b[33m■■■■\u001b[0m\u001b[32m■■■■\u001b[0m\u001b[34m■■■■\u001b[0mencoding = 2\n",
            "\u001b[31m■■■■\u001b[0m\u001b[33m■■■■\u001b[0m\u001b[32m■■■■\u001b[0m\u001b[34m■■■■\u001b[0m\u001b[31m■■■■\u001b[0m\u001b[33m■■■■\u001b[0m\u001b[32m■■■■\u001b[0m\u001b[34m■■■■\u001b[0mcount = 1\n",
            "\u001b[31m■■■■\u001b[0m\u001b[33m■■■■\u001b[0m\u001b[32m■■■■\u001b[0m\u001b[34m■■■■\u001b[0m\u001b[31m■■■■\u001b[0moffset_index_offset = 5584\n",
            "\u001b[31m■■■■\u001b[0m\u001b[33m■■■■\u001b[0m\u001b[32m■■■■\u001b[0m\u001b[34m■■■■\u001b[0m\u001b[31m■■■■\u001b[0moffset_index_length = 12\n",
            "\u001b[31m■■■■\u001b[0m\u001b[33m■■■■\u001b[0m\u001b[32m■■■■\u001b[0m\u001b[34m■■■■\u001b[0m\u001b[31m■■■■\u001b[0mcolumn_index_offset = 5315\n",
            "\u001b[31m■■■■\u001b[0m\u001b[33m■■■■\u001b[0m\u001b[32m■■■■\u001b[0m\u001b[34m■■■■\u001b[0m\u001b[31m■■■■\u001b[0mcolumn_index_length = 26\n",
            "\u001b[31m■■■■\u001b[0m\u001b[33m■■■■\u001b[0m\u001b[32m■■■■\u001b[0m\u001b[34m■■■■\u001b[0mColumnChunk\n",
            "\u001b[31m■■■■\u001b[0m\u001b[33m■■■■\u001b[0m\u001b[32m■■■■\u001b[0m\u001b[34m■■■■\u001b[0m\u001b[31m■■■■\u001b[0mfile_offset = 3553\n",
            "\u001b[31m■■■■\u001b[0m\u001b[33m■■■■\u001b[0m\u001b[32m■■■■\u001b[0m\u001b[34m■■■■\u001b[0m\u001b[31m■■■■\u001b[0mmeta_data = ColumnMetaData\n",
            "\u001b[31m■■■■\u001b[0m\u001b[33m■■■■\u001b[0m\u001b[32m■■■■\u001b[0m\u001b[34m■■■■\u001b[0m\u001b[31m■■■■\u001b[0m\u001b[33m■■■■\u001b[0mtype = 6\n",
            "\u001b[31m■■■■\u001b[0m\u001b[33m■■■■\u001b[0m\u001b[32m■■■■\u001b[0m\u001b[34m■■■■\u001b[0m\u001b[31m■■■■\u001b[0m\u001b[33m■■■■\u001b[0mencodings = list\n",
            "\u001b[31m■■■■\u001b[0m\u001b[33m■■■■\u001b[0m\u001b[32m■■■■\u001b[0m\u001b[34m■■■■\u001b[0m\u001b[31m■■■■\u001b[0m\u001b[33m■■■■\u001b[0m\u001b[32m■■■■\u001b[0m4\n",
            "\u001b[31m■■■■\u001b[0m\u001b[33m■■■■\u001b[0m\u001b[32m■■■■\u001b[0m\u001b[34m■■■■\u001b[0m\u001b[31m■■■■\u001b[0m\u001b[33m■■■■\u001b[0m\u001b[32m■■■■\u001b[0m2\n",
            "\u001b[31m■■■■\u001b[0m\u001b[33m■■■■\u001b[0m\u001b[32m■■■■\u001b[0m\u001b[34m■■■■\u001b[0m\u001b[31m■■■■\u001b[0m\u001b[33m■■■■\u001b[0m\u001b[32m■■■■\u001b[0m3\n",
            "\u001b[31m■■■■\u001b[0m\u001b[33m■■■■\u001b[0m\u001b[32m■■■■\u001b[0m\u001b[34m■■■■\u001b[0m\u001b[31m■■■■\u001b[0m\u001b[33m■■■■\u001b[0mpath_in_schema = list\n",
            "\u001b[31m■■■■\u001b[0m\u001b[33m■■■■\u001b[0m\u001b[32m■■■■\u001b[0m\u001b[34m■■■■\u001b[0m\u001b[31m■■■■\u001b[0m\u001b[33m■■■■\u001b[0m\u001b[32m■■■■\u001b[0mcategory\n",
            "\u001b[31m■■■■\u001b[0m\u001b[33m■■■■\u001b[0m\u001b[32m■■■■\u001b[0m\u001b[34m■■■■\u001b[0m\u001b[31m■■■■\u001b[0m\u001b[33m■■■■\u001b[0mcodec = 1\n",
            "\u001b[31m■■■■\u001b[0m\u001b[33m■■■■\u001b[0m\u001b[32m■■■■\u001b[0m\u001b[34m■■■■\u001b[0m\u001b[31m■■■■\u001b[0m\u001b[33m■■■■\u001b[0mnum_values = 375\n",
            "\u001b[31m■■■■\u001b[0m\u001b[33m■■■■\u001b[0m\u001b[32m■■■■\u001b[0m\u001b[34m■■■■\u001b[0m\u001b[31m■■■■\u001b[0m\u001b[33m■■■■\u001b[0mtotal_uncompressed_size = 122\n",
            "\u001b[31m■■■■\u001b[0m\u001b[33m■■■■\u001b[0m\u001b[32m■■■■\u001b[0m\u001b[34m■■■■\u001b[0m\u001b[31m■■■■\u001b[0m\u001b[33m■■■■\u001b[0mtotal_compressed_size = 117\n",
            "\u001b[31m■■■■\u001b[0m\u001b[33m■■■■\u001b[0m\u001b[32m■■■■\u001b[0m\u001b[34m■■■■\u001b[0m\u001b[31m■■■■\u001b[0m\u001b[33m■■■■\u001b[0mdata_page_offset = 3553\n",
            "\u001b[31m■■■■\u001b[0m\u001b[33m■■■■\u001b[0m\u001b[32m■■■■\u001b[0m\u001b[34m■■■■\u001b[0m\u001b[31m■■■■\u001b[0m\u001b[33m■■■■\u001b[0mdictionary_page_offset = 3510\n",
            "\u001b[31m■■■■\u001b[0m\u001b[33m■■■■\u001b[0m\u001b[32m■■■■\u001b[0m\u001b[34m■■■■\u001b[0m\u001b[31m■■■■\u001b[0m\u001b[33m■■■■\u001b[0mstatistics = Statistics\n",
            "\u001b[31m■■■■\u001b[0m\u001b[33m■■■■\u001b[0m\u001b[32m■■■■\u001b[0m\u001b[34m■■■■\u001b[0m\u001b[31m■■■■\u001b[0m\u001b[33m■■■■\u001b[0m\u001b[32m■■■■\u001b[0mmax_value = b'Furniture'\n",
            "\u001b[31m■■■■\u001b[0m\u001b[33m■■■■\u001b[0m\u001b[32m■■■■\u001b[0m\u001b[34m■■■■\u001b[0m\u001b[31m■■■■\u001b[0m\u001b[33m■■■■\u001b[0m\u001b[32m■■■■\u001b[0mmin_value = b'Cloth'\n",
            "\u001b[31m■■■■\u001b[0m\u001b[33m■■■■\u001b[0m\u001b[32m■■■■\u001b[0m\u001b[34m■■■■\u001b[0m\u001b[31m■■■■\u001b[0m\u001b[33m■■■■\u001b[0mencoding_stats = list\n",
            "\u001b[31m■■■■\u001b[0m\u001b[33m■■■■\u001b[0m\u001b[32m■■■■\u001b[0m\u001b[34m■■■■\u001b[0m\u001b[31m■■■■\u001b[0m\u001b[33m■■■■\u001b[0m\u001b[32m■■■■\u001b[0mPageEncodingStats\n",
            "\u001b[31m■■■■\u001b[0m\u001b[33m■■■■\u001b[0m\u001b[32m■■■■\u001b[0m\u001b[34m■■■■\u001b[0m\u001b[31m■■■■\u001b[0m\u001b[33m■■■■\u001b[0m\u001b[32m■■■■\u001b[0m\u001b[34m■■■■\u001b[0mpage_type = 2\n",
            "\u001b[31m■■■■\u001b[0m\u001b[33m■■■■\u001b[0m\u001b[32m■■■■\u001b[0m\u001b[34m■■■■\u001b[0m\u001b[31m■■■■\u001b[0m\u001b[33m■■■■\u001b[0m\u001b[32m■■■■\u001b[0m\u001b[34m■■■■\u001b[0mencoding = 2\n",
            "\u001b[31m■■■■\u001b[0m\u001b[33m■■■■\u001b[0m\u001b[32m■■■■\u001b[0m\u001b[34m■■■■\u001b[0m\u001b[31m■■■■\u001b[0m\u001b[33m■■■■\u001b[0m\u001b[32m■■■■\u001b[0m\u001b[34m■■■■\u001b[0mcount = 1\n",
            "\u001b[31m■■■■\u001b[0m\u001b[33m■■■■\u001b[0m\u001b[32m■■■■\u001b[0m\u001b[34m■■■■\u001b[0m\u001b[31m■■■■\u001b[0m\u001b[33m■■■■\u001b[0m\u001b[32m■■■■\u001b[0mPageEncodingStats\n",
            "\u001b[31m■■■■\u001b[0m\u001b[33m■■■■\u001b[0m\u001b[32m■■■■\u001b[0m\u001b[34m■■■■\u001b[0m\u001b[31m■■■■\u001b[0m\u001b[33m■■■■\u001b[0m\u001b[32m■■■■\u001b[0m\u001b[34m■■■■\u001b[0mencoding = 2\n",
            "\u001b[31m■■■■\u001b[0m\u001b[33m■■■■\u001b[0m\u001b[32m■■■■\u001b[0m\u001b[34m■■■■\u001b[0m\u001b[31m■■■■\u001b[0m\u001b[33m■■■■\u001b[0m\u001b[32m■■■■\u001b[0m\u001b[34m■■■■\u001b[0mcount = 1\n",
            "\u001b[31m■■■■\u001b[0m\u001b[33m■■■■\u001b[0m\u001b[32m■■■■\u001b[0m\u001b[34m■■■■\u001b[0m\u001b[31m■■■■\u001b[0moffset_index_offset = 5596\n",
            "\u001b[31m■■■■\u001b[0m\u001b[33m■■■■\u001b[0m\u001b[32m■■■■\u001b[0m\u001b[34m■■■■\u001b[0m\u001b[31m■■■■\u001b[0moffset_index_length = 12\n",
            "\u001b[31m■■■■\u001b[0m\u001b[33m■■■■\u001b[0m\u001b[32m■■■■\u001b[0m\u001b[34m■■■■\u001b[0m\u001b[31m■■■■\u001b[0mcolumn_index_offset = 5341\n",
            "\u001b[31m■■■■\u001b[0m\u001b[33m■■■■\u001b[0m\u001b[32m■■■■\u001b[0m\u001b[34m■■■■\u001b[0m\u001b[31m■■■■\u001b[0mcolumn_index_length = 29\n",
            "\u001b[31m■■■■\u001b[0m\u001b[33m■■■■\u001b[0m\u001b[32m■■■■\u001b[0m\u001b[34m■■■■\u001b[0mColumnChunk\n",
            "\u001b[31m■■■■\u001b[0m\u001b[33m■■■■\u001b[0m\u001b[32m■■■■\u001b[0m\u001b[34m■■■■\u001b[0m\u001b[31m■■■■\u001b[0mfile_offset = 3699\n",
            "\u001b[31m■■■■\u001b[0m\u001b[33m■■■■\u001b[0m\u001b[32m■■■■\u001b[0m\u001b[34m■■■■\u001b[0m\u001b[31m■■■■\u001b[0mmeta_data = ColumnMetaData\n",
            "\u001b[31m■■■■\u001b[0m\u001b[33m■■■■\u001b[0m\u001b[32m■■■■\u001b[0m\u001b[34m■■■■\u001b[0m\u001b[31m■■■■\u001b[0m\u001b[33m■■■■\u001b[0mtype = 6\n",
            "\u001b[31m■■■■\u001b[0m\u001b[33m■■■■\u001b[0m\u001b[32m■■■■\u001b[0m\u001b[34m■■■■\u001b[0m\u001b[31m■■■■\u001b[0m\u001b[33m■■■■\u001b[0mencodings = list\n",
            "\u001b[31m■■■■\u001b[0m\u001b[33m■■■■\u001b[0m\u001b[32m■■■■\u001b[0m\u001b[34m■■■■\u001b[0m\u001b[31m■■■■\u001b[0m\u001b[33m■■■■\u001b[0m\u001b[32m■■■■\u001b[0m4\n",
            "\u001b[31m■■■■\u001b[0m\u001b[33m■■■■\u001b[0m\u001b[32m■■■■\u001b[0m\u001b[34m■■■■\u001b[0m\u001b[31m■■■■\u001b[0m\u001b[33m■■■■\u001b[0m\u001b[32m■■■■\u001b[0m2\n",
            "\u001b[31m■■■■\u001b[0m\u001b[33m■■■■\u001b[0m\u001b[32m■■■■\u001b[0m\u001b[34m■■■■\u001b[0m\u001b[31m■■■■\u001b[0m\u001b[33m■■■■\u001b[0m\u001b[32m■■■■\u001b[0m3\n",
            "\u001b[31m■■■■\u001b[0m\u001b[33m■■■■\u001b[0m\u001b[32m■■■■\u001b[0m\u001b[34m■■■■\u001b[0m\u001b[31m■■■■\u001b[0m\u001b[33m■■■■\u001b[0mpath_in_schema = list\n",
            "\u001b[31m■■■■\u001b[0m\u001b[33m■■■■\u001b[0m\u001b[32m■■■■\u001b[0m\u001b[34m■■■■\u001b[0m\u001b[31m■■■■\u001b[0m\u001b[33m■■■■\u001b[0m\u001b[32m■■■■\u001b[0msubcategory\n",
            "\u001b[31m■■■■\u001b[0m\u001b[33m■■■■\u001b[0m\u001b[32m■■■■\u001b[0m\u001b[34m■■■■\u001b[0m\u001b[31m■■■■\u001b[0m\u001b[33m■■■■\u001b[0mcodec = 1\n",
            "\u001b[31m■■■■\u001b[0m\u001b[33m■■■■\u001b[0m\u001b[32m■■■■\u001b[0m\u001b[34m■■■■\u001b[0m\u001b[31m■■■■\u001b[0m\u001b[33m■■■■\u001b[0mnum_values = 375\n",
            "\u001b[31m■■■■\u001b[0m\u001b[33m■■■■\u001b[0m\u001b[32m■■■■\u001b[0m\u001b[34m■■■■\u001b[0m\u001b[31m■■■■\u001b[0m\u001b[33m■■■■\u001b[0mtotal_uncompressed_size = 249\n",
            "\u001b[31m■■■■\u001b[0m\u001b[33m■■■■\u001b[0m\u001b[32m■■■■\u001b[0m\u001b[34m■■■■\u001b[0m\u001b[31m■■■■\u001b[0m\u001b[33m■■■■\u001b[0mtotal_compressed_size = 241\n",
            "\u001b[31m■■■■\u001b[0m\u001b[33m■■■■\u001b[0m\u001b[32m■■■■\u001b[0m\u001b[34m■■■■\u001b[0m\u001b[31m■■■■\u001b[0m\u001b[33m■■■■\u001b[0mdata_page_offset = 3699\n",
            "\u001b[31m■■■■\u001b[0m\u001b[33m■■■■\u001b[0m\u001b[32m■■■■\u001b[0m\u001b[34m■■■■\u001b[0m\u001b[31m■■■■\u001b[0m\u001b[33m■■■■\u001b[0mdictionary_page_offset = 3627\n",
            "\u001b[31m■■■■\u001b[0m\u001b[33m■■■■\u001b[0m\u001b[32m■■■■\u001b[0m\u001b[34m■■■■\u001b[0m\u001b[31m■■■■\u001b[0m\u001b[33m■■■■\u001b[0mstatistics = Statistics\n",
            "\u001b[31m■■■■\u001b[0m\u001b[33m■■■■\u001b[0m\u001b[32m■■■■\u001b[0m\u001b[34m■■■■\u001b[0m\u001b[31m■■■■\u001b[0m\u001b[33m■■■■\u001b[0m\u001b[32m■■■■\u001b[0mmax_value = b'Tshirt'\n",
            "\u001b[31m■■■■\u001b[0m\u001b[33m■■■■\u001b[0m\u001b[32m■■■■\u001b[0m\u001b[34m■■■■\u001b[0m\u001b[31m■■■■\u001b[0m\u001b[33m■■■■\u001b[0m\u001b[32m■■■■\u001b[0mmin_value = b'Bed'\n",
            "\u001b[31m■■■■\u001b[0m\u001b[33m■■■■\u001b[0m\u001b[32m■■■■\u001b[0m\u001b[34m■■■■\u001b[0m\u001b[31m■■■■\u001b[0m\u001b[33m■■■■\u001b[0mencoding_stats = list\n",
            "\u001b[31m■■■■\u001b[0m\u001b[33m■■■■\u001b[0m\u001b[32m■■■■\u001b[0m\u001b[34m■■■■\u001b[0m\u001b[31m■■■■\u001b[0m\u001b[33m■■■■\u001b[0m\u001b[32m■■■■\u001b[0mPageEncodingStats\n",
            "\u001b[31m■■■■\u001b[0m\u001b[33m■■■■\u001b[0m\u001b[32m■■■■\u001b[0m\u001b[34m■■■■\u001b[0m\u001b[31m■■■■\u001b[0m\u001b[33m■■■■\u001b[0m\u001b[32m■■■■\u001b[0m\u001b[34m■■■■\u001b[0mpage_type = 2\n",
            "\u001b[31m■■■■\u001b[0m\u001b[33m■■■■\u001b[0m\u001b[32m■■■■\u001b[0m\u001b[34m■■■■\u001b[0m\u001b[31m■■■■\u001b[0m\u001b[33m■■■■\u001b[0m\u001b[32m■■■■\u001b[0m\u001b[34m■■■■\u001b[0mencoding = 2\n",
            "\u001b[31m■■■■\u001b[0m\u001b[33m■■■■\u001b[0m\u001b[32m■■■■\u001b[0m\u001b[34m■■■■\u001b[0m\u001b[31m■■■■\u001b[0m\u001b[33m■■■■\u001b[0m\u001b[32m■■■■\u001b[0m\u001b[34m■■■■\u001b[0mcount = 1\n",
            "\u001b[31m■■■■\u001b[0m\u001b[33m■■■■\u001b[0m\u001b[32m■■■■\u001b[0m\u001b[34m■■■■\u001b[0m\u001b[31m■■■■\u001b[0m\u001b[33m■■■■\u001b[0m\u001b[32m■■■■\u001b[0mPageEncodingStats\n",
            "\u001b[31m■■■■\u001b[0m\u001b[33m■■■■\u001b[0m\u001b[32m■■■■\u001b[0m\u001b[34m■■■■\u001b[0m\u001b[31m■■■■\u001b[0m\u001b[33m■■■■\u001b[0m\u001b[32m■■■■\u001b[0m\u001b[34m■■■■\u001b[0mencoding = 2\n",
            "\u001b[31m■■■■\u001b[0m\u001b[33m■■■■\u001b[0m\u001b[32m■■■■\u001b[0m\u001b[34m■■■■\u001b[0m\u001b[31m■■■■\u001b[0m\u001b[33m■■■■\u001b[0m\u001b[32m■■■■\u001b[0m\u001b[34m■■■■\u001b[0mcount = 1\n",
            "\u001b[31m■■■■\u001b[0m\u001b[33m■■■■\u001b[0m\u001b[32m■■■■\u001b[0m\u001b[34m■■■■\u001b[0m\u001b[31m■■■■\u001b[0moffset_index_offset = 5608\n",
            "\u001b[31m■■■■\u001b[0m\u001b[33m■■■■\u001b[0m\u001b[32m■■■■\u001b[0m\u001b[34m■■■■\u001b[0m\u001b[31m■■■■\u001b[0moffset_index_length = 12\n",
            "\u001b[31m■■■■\u001b[0m\u001b[33m■■■■\u001b[0m\u001b[32m■■■■\u001b[0m\u001b[34m■■■■\u001b[0m\u001b[31m■■■■\u001b[0mcolumn_index_offset = 5370\n",
            "\u001b[31m■■■■\u001b[0m\u001b[33m■■■■\u001b[0m\u001b[32m■■■■\u001b[0m\u001b[34m■■■■\u001b[0m\u001b[31m■■■■\u001b[0mcolumn_index_length = 24\n",
            "\u001b[31m■■■■\u001b[0m\u001b[33m■■■■\u001b[0m\u001b[32m■■■■\u001b[0m\u001b[34m■■■■\u001b[0mColumnChunk\n",
            "\u001b[31m■■■■\u001b[0m\u001b[33m■■■■\u001b[0m\u001b[32m■■■■\u001b[0m\u001b[34m■■■■\u001b[0m\u001b[31m■■■■\u001b[0mfile_offset = 3986\n",
            "\u001b[31m■■■■\u001b[0m\u001b[33m■■■■\u001b[0m\u001b[32m■■■■\u001b[0m\u001b[34m■■■■\u001b[0m\u001b[31m■■■■\u001b[0mmeta_data = ColumnMetaData\n",
            "\u001b[31m■■■■\u001b[0m\u001b[33m■■■■\u001b[0m\u001b[32m■■■■\u001b[0m\u001b[34m■■■■\u001b[0m\u001b[31m■■■■\u001b[0m\u001b[33m■■■■\u001b[0mtype = 6\n",
            "\u001b[31m■■■■\u001b[0m\u001b[33m■■■■\u001b[0m\u001b[32m■■■■\u001b[0m\u001b[34m■■■■\u001b[0m\u001b[31m■■■■\u001b[0m\u001b[33m■■■■\u001b[0mencodings = list\n",
            "\u001b[31m■■■■\u001b[0m\u001b[33m■■■■\u001b[0m\u001b[32m■■■■\u001b[0m\u001b[34m■■■■\u001b[0m\u001b[31m■■■■\u001b[0m\u001b[33m■■■■\u001b[0m\u001b[32m■■■■\u001b[0m4\n",
            "\u001b[31m■■■■\u001b[0m\u001b[33m■■■■\u001b[0m\u001b[32m■■■■\u001b[0m\u001b[34m■■■■\u001b[0m\u001b[31m■■■■\u001b[0m\u001b[33m■■■■\u001b[0m\u001b[32m■■■■\u001b[0m2\n",
            "\u001b[31m■■■■\u001b[0m\u001b[33m■■■■\u001b[0m\u001b[32m■■■■\u001b[0m\u001b[34m■■■■\u001b[0m\u001b[31m■■■■\u001b[0m\u001b[33m■■■■\u001b[0m\u001b[32m■■■■\u001b[0m3\n",
            "\u001b[31m■■■■\u001b[0m\u001b[33m■■■■\u001b[0m\u001b[32m■■■■\u001b[0m\u001b[34m■■■■\u001b[0m\u001b[31m■■■■\u001b[0m\u001b[33m■■■■\u001b[0mpath_in_schema = list\n",
            "\u001b[31m■■■■\u001b[0m\u001b[33m■■■■\u001b[0m\u001b[32m■■■■\u001b[0m\u001b[34m■■■■\u001b[0m\u001b[31m■■■■\u001b[0m\u001b[33m■■■■\u001b[0m\u001b[32m■■■■\u001b[0msize\n",
            "\u001b[31m■■■■\u001b[0m\u001b[33m■■■■\u001b[0m\u001b[32m■■■■\u001b[0m\u001b[34m■■■■\u001b[0m\u001b[31m■■■■\u001b[0m\u001b[33m■■■■\u001b[0mcodec = 1\n",
            "\u001b[31m■■■■\u001b[0m\u001b[33m■■■■\u001b[0m\u001b[32m■■■■\u001b[0m\u001b[34m■■■■\u001b[0m\u001b[31m■■■■\u001b[0m\u001b[33m■■■■\u001b[0mnum_values = 375\n",
            "\u001b[31m■■■■\u001b[0m\u001b[33m■■■■\u001b[0m\u001b[32m■■■■\u001b[0m\u001b[34m■■■■\u001b[0m\u001b[31m■■■■\u001b[0m\u001b[33m■■■■\u001b[0mtotal_uncompressed_size = 423\n",
            "\u001b[31m■■■■\u001b[0m\u001b[33m■■■■\u001b[0m\u001b[32m■■■■\u001b[0m\u001b[34m■■■■\u001b[0m\u001b[31m■■■■\u001b[0m\u001b[33m■■■■\u001b[0mtotal_compressed_size = 401\n",
            "\u001b[31m■■■■\u001b[0m\u001b[33m■■■■\u001b[0m\u001b[32m■■■■\u001b[0m\u001b[34m■■■■\u001b[0m\u001b[31m■■■■\u001b[0m\u001b[33m■■■■\u001b[0mdata_page_offset = 3986\n",
            "\u001b[31m■■■■\u001b[0m\u001b[33m■■■■\u001b[0m\u001b[32m■■■■\u001b[0m\u001b[34m■■■■\u001b[0m\u001b[31m■■■■\u001b[0m\u001b[33m■■■■\u001b[0mdictionary_page_offset = 3868\n",
            "\u001b[31m■■■■\u001b[0m\u001b[33m■■■■\u001b[0m\u001b[32m■■■■\u001b[0m\u001b[34m■■■■\u001b[0m\u001b[31m■■■■\u001b[0m\u001b[33m■■■■\u001b[0mstatistics = Statistics\n",
            "\u001b[31m■■■■\u001b[0m\u001b[33m■■■■\u001b[0m\u001b[32m■■■■\u001b[0m\u001b[34m■■■■\u001b[0m\u001b[31m■■■■\u001b[0m\u001b[33m■■■■\u001b[0m\u001b[32m■■■■\u001b[0mnull_count = 20\n",
            "\u001b[31m■■■■\u001b[0m\u001b[33m■■■■\u001b[0m\u001b[32m■■■■\u001b[0m\u001b[34m■■■■\u001b[0m\u001b[31m■■■■\u001b[0m\u001b[33m■■■■\u001b[0m\u001b[32m■■■■\u001b[0mmax_value = b'XS'\n",
            "\u001b[31m■■■■\u001b[0m\u001b[33m■■■■\u001b[0m\u001b[32m■■■■\u001b[0m\u001b[34m■■■■\u001b[0m\u001b[31m■■■■\u001b[0m\u001b[33m■■■■\u001b[0m\u001b[32m■■■■\u001b[0mmin_value = b'10'\n",
            "\u001b[31m■■■■\u001b[0m\u001b[33m■■■■\u001b[0m\u001b[32m■■■■\u001b[0m\u001b[34m■■■■\u001b[0m\u001b[31m■■■■\u001b[0m\u001b[33m■■■■\u001b[0mencoding_stats = list\n",
            "\u001b[31m■■■■\u001b[0m\u001b[33m■■■■\u001b[0m\u001b[32m■■■■\u001b[0m\u001b[34m■■■■\u001b[0m\u001b[31m■■■■\u001b[0m\u001b[33m■■■■\u001b[0m\u001b[32m■■■■\u001b[0mPageEncodingStats\n",
            "\u001b[31m■■■■\u001b[0m\u001b[33m■■■■\u001b[0m\u001b[32m■■■■\u001b[0m\u001b[34m■■■■\u001b[0m\u001b[31m■■■■\u001b[0m\u001b[33m■■■■\u001b[0m\u001b[32m■■■■\u001b[0m\u001b[34m■■■■\u001b[0mpage_type = 2\n",
            "\u001b[31m■■■■\u001b[0m\u001b[33m■■■■\u001b[0m\u001b[32m■■■■\u001b[0m\u001b[34m■■■■\u001b[0m\u001b[31m■■■■\u001b[0m\u001b[33m■■■■\u001b[0m\u001b[32m■■■■\u001b[0m\u001b[34m■■■■\u001b[0mencoding = 2\n",
            "\u001b[31m■■■■\u001b[0m\u001b[33m■■■■\u001b[0m\u001b[32m■■■■\u001b[0m\u001b[34m■■■■\u001b[0m\u001b[31m■■■■\u001b[0m\u001b[33m■■■■\u001b[0m\u001b[32m■■■■\u001b[0m\u001b[34m■■■■\u001b[0mcount = 1\n",
            "\u001b[31m■■■■\u001b[0m\u001b[33m■■■■\u001b[0m\u001b[32m■■■■\u001b[0m\u001b[34m■■■■\u001b[0m\u001b[31m■■■■\u001b[0m\u001b[33m■■■■\u001b[0m\u001b[32m■■■■\u001b[0mPageEncodingStats\n",
            "\u001b[31m■■■■\u001b[0m\u001b[33m■■■■\u001b[0m\u001b[32m■■■■\u001b[0m\u001b[34m■■■■\u001b[0m\u001b[31m■■■■\u001b[0m\u001b[33m■■■■\u001b[0m\u001b[32m■■■■\u001b[0m\u001b[34m■■■■\u001b[0mencoding = 2\n",
            "\u001b[31m■■■■\u001b[0m\u001b[33m■■■■\u001b[0m\u001b[32m■■■■\u001b[0m\u001b[34m■■■■\u001b[0m\u001b[31m■■■■\u001b[0m\u001b[33m■■■■\u001b[0m\u001b[32m■■■■\u001b[0m\u001b[34m■■■■\u001b[0mcount = 1\n",
            "\u001b[31m■■■■\u001b[0m\u001b[33m■■■■\u001b[0m\u001b[32m■■■■\u001b[0m\u001b[34m■■■■\u001b[0m\u001b[31m■■■■\u001b[0moffset_index_offset = 5620\n",
            "\u001b[31m■■■■\u001b[0m\u001b[33m■■■■\u001b[0m\u001b[32m■■■■\u001b[0m\u001b[34m■■■■\u001b[0m\u001b[31m■■■■\u001b[0moffset_index_length = 12\n",
            "\u001b[31m■■■■\u001b[0m\u001b[33m■■■■\u001b[0m\u001b[32m■■■■\u001b[0m\u001b[34m■■■■\u001b[0m\u001b[31m■■■■\u001b[0mcolumn_index_offset = 5394\n",
            "\u001b[31m■■■■\u001b[0m\u001b[33m■■■■\u001b[0m\u001b[32m■■■■\u001b[0m\u001b[34m■■■■\u001b[0m\u001b[31m■■■■\u001b[0mcolumn_index_length = 19\n",
            "\u001b[31m■■■■\u001b[0m\u001b[33m■■■■\u001b[0m\u001b[32m■■■■\u001b[0m\u001b[34m■■■■\u001b[0mColumnChunk\n",
            "\u001b[31m■■■■\u001b[0m\u001b[33m■■■■\u001b[0m\u001b[32m■■■■\u001b[0m\u001b[34m■■■■\u001b[0m\u001b[31m■■■■\u001b[0mfile_offset = 4387\n",
            "\u001b[31m■■■■\u001b[0m\u001b[33m■■■■\u001b[0m\u001b[32m■■■■\u001b[0m\u001b[34m■■■■\u001b[0m\u001b[31m■■■■\u001b[0mmeta_data = ColumnMetaData\n",
            "\u001b[31m■■■■\u001b[0m\u001b[33m■■■■\u001b[0m\u001b[32m■■■■\u001b[0m\u001b[34m■■■■\u001b[0m\u001b[31m■■■■\u001b[0m\u001b[33m■■■■\u001b[0mtype = 5\n",
            "\u001b[31m■■■■\u001b[0m\u001b[33m■■■■\u001b[0m\u001b[32m■■■■\u001b[0m\u001b[34m■■■■\u001b[0m\u001b[31m■■■■\u001b[0m\u001b[33m■■■■\u001b[0mencodings = list\n",
            "\u001b[31m■■■■\u001b[0m\u001b[33m■■■■\u001b[0m\u001b[32m■■■■\u001b[0m\u001b[34m■■■■\u001b[0m\u001b[31m■■■■\u001b[0m\u001b[33m■■■■\u001b[0m\u001b[32m■■■■\u001b[0m4\n",
            "\u001b[31m■■■■\u001b[0m\u001b[33m■■■■\u001b[0m\u001b[32m■■■■\u001b[0m\u001b[34m■■■■\u001b[0m\u001b[31m■■■■\u001b[0m\u001b[33m■■■■\u001b[0m\u001b[32m■■■■\u001b[0m2\n",
            "\u001b[31m■■■■\u001b[0m\u001b[33m■■■■\u001b[0m\u001b[32m■■■■\u001b[0m\u001b[34m■■■■\u001b[0m\u001b[31m■■■■\u001b[0m\u001b[33m■■■■\u001b[0m\u001b[32m■■■■\u001b[0m3\n",
            "\u001b[31m■■■■\u001b[0m\u001b[33m■■■■\u001b[0m\u001b[32m■■■■\u001b[0m\u001b[34m■■■■\u001b[0m\u001b[31m■■■■\u001b[0m\u001b[33m■■■■\u001b[0mpath_in_schema = list\n",
            "\u001b[31m■■■■\u001b[0m\u001b[33m■■■■\u001b[0m\u001b[32m■■■■\u001b[0m\u001b[34m■■■■\u001b[0m\u001b[31m■■■■\u001b[0m\u001b[33m■■■■\u001b[0m\u001b[32m■■■■\u001b[0mpurchaseprice\n",
            "\u001b[31m■■■■\u001b[0m\u001b[33m■■■■\u001b[0m\u001b[32m■■■■\u001b[0m\u001b[34m■■■■\u001b[0m\u001b[31m■■■■\u001b[0m\u001b[33m■■■■\u001b[0mcodec = 1\n",
            "\u001b[31m■■■■\u001b[0m\u001b[33m■■■■\u001b[0m\u001b[32m■■■■\u001b[0m\u001b[34m■■■■\u001b[0m\u001b[31m■■■■\u001b[0m\u001b[33m■■■■\u001b[0mnum_values = 375\n",
            "\u001b[31m■■■■\u001b[0m\u001b[33m■■■■\u001b[0m\u001b[32m■■■■\u001b[0m\u001b[34m■■■■\u001b[0m\u001b[31m■■■■\u001b[0m\u001b[33m■■■■\u001b[0mtotal_uncompressed_size = 443\n",
            "\u001b[31m■■■■\u001b[0m\u001b[33m■■■■\u001b[0m\u001b[32m■■■■\u001b[0m\u001b[34m■■■■\u001b[0m\u001b[31m■■■■\u001b[0m\u001b[33m■■■■\u001b[0mtotal_compressed_size = 392\n",
            "\u001b[31m■■■■\u001b[0m\u001b[33m■■■■\u001b[0m\u001b[32m■■■■\u001b[0m\u001b[34m■■■■\u001b[0m\u001b[31m■■■■\u001b[0m\u001b[33m■■■■\u001b[0mdata_page_offset = 4387\n",
            "\u001b[31m■■■■\u001b[0m\u001b[33m■■■■\u001b[0m\u001b[32m■■■■\u001b[0m\u001b[34m■■■■\u001b[0m\u001b[31m■■■■\u001b[0m\u001b[33m■■■■\u001b[0mdictionary_page_offset = 4269\n",
            "\u001b[31m■■■■\u001b[0m\u001b[33m■■■■\u001b[0m\u001b[32m■■■■\u001b[0m\u001b[34m■■■■\u001b[0m\u001b[31m■■■■\u001b[0m\u001b[33m■■■■\u001b[0mstatistics = Statistics\n",
            "\u001b[31m■■■■\u001b[0m\u001b[33m■■■■\u001b[0m\u001b[32m■■■■\u001b[0m\u001b[34m■■■■\u001b[0m\u001b[31m■■■■\u001b[0m\u001b[33m■■■■\u001b[0m\u001b[32m■■■■\u001b[0mmax = b'\\x00\\x00\\x00\\x00\\x00pw@'\n",
            "\u001b[31m■■■■\u001b[0m\u001b[33m■■■■\u001b[0m\u001b[32m■■■■\u001b[0m\u001b[34m■■■■\u001b[0m\u001b[31m■■■■\u001b[0m\u001b[33m■■■■\u001b[0m\u001b[32m■■■■\u001b[0mmin = b'\\x00\\x00\\x00\\x00\\x00\\x001@'\n",
            "\u001b[31m■■■■\u001b[0m\u001b[33m■■■■\u001b[0m\u001b[32m■■■■\u001b[0m\u001b[34m■■■■\u001b[0m\u001b[31m■■■■\u001b[0m\u001b[33m■■■■\u001b[0m\u001b[32m■■■■\u001b[0mmax_value = b'\\x00\\x00\\x00\\x00\\x00pw@'\n",
            "\u001b[31m■■■■\u001b[0m\u001b[33m■■■■\u001b[0m\u001b[32m■■■■\u001b[0m\u001b[34m■■■■\u001b[0m\u001b[31m■■■■\u001b[0m\u001b[33m■■■■\u001b[0m\u001b[32m■■■■\u001b[0mmin_value = b'\\x00\\x00\\x00\\x00\\x00\\x001@'\n",
            "\u001b[31m■■■■\u001b[0m\u001b[33m■■■■\u001b[0m\u001b[32m■■■■\u001b[0m\u001b[34m■■■■\u001b[0m\u001b[31m■■■■\u001b[0m\u001b[33m■■■■\u001b[0mencoding_stats = list\n",
            "\u001b[31m■■■■\u001b[0m\u001b[33m■■■■\u001b[0m\u001b[32m■■■■\u001b[0m\u001b[34m■■■■\u001b[0m\u001b[31m■■■■\u001b[0m\u001b[33m■■■■\u001b[0m\u001b[32m■■■■\u001b[0mPageEncodingStats\n",
            "\u001b[31m■■■■\u001b[0m\u001b[33m■■■■\u001b[0m\u001b[32m■■■■\u001b[0m\u001b[34m■■■■\u001b[0m\u001b[31m■■■■\u001b[0m\u001b[33m■■■■\u001b[0m\u001b[32m■■■■\u001b[0m\u001b[34m■■■■\u001b[0mpage_type = 2\n",
            "\u001b[31m■■■■\u001b[0m\u001b[33m■■■■\u001b[0m\u001b[32m■■■■\u001b[0m\u001b[34m■■■■\u001b[0m\u001b[31m■■■■\u001b[0m\u001b[33m■■■■\u001b[0m\u001b[32m■■■■\u001b[0m\u001b[34m■■■■\u001b[0mencoding = 2\n",
            "\u001b[31m■■■■\u001b[0m\u001b[33m■■■■\u001b[0m\u001b[32m■■■■\u001b[0m\u001b[34m■■■■\u001b[0m\u001b[31m■■■■\u001b[0m\u001b[33m■■■■\u001b[0m\u001b[32m■■■■\u001b[0m\u001b[34m■■■■\u001b[0mcount = 1\n",
            "\u001b[31m■■■■\u001b[0m\u001b[33m■■■■\u001b[0m\u001b[32m■■■■\u001b[0m\u001b[34m■■■■\u001b[0m\u001b[31m■■■■\u001b[0m\u001b[33m■■■■\u001b[0m\u001b[32m■■■■\u001b[0mPageEncodingStats\n",
            "\u001b[31m■■■■\u001b[0m\u001b[33m■■■■\u001b[0m\u001b[32m■■■■\u001b[0m\u001b[34m■■■■\u001b[0m\u001b[31m■■■■\u001b[0m\u001b[33m■■■■\u001b[0m\u001b[32m■■■■\u001b[0m\u001b[34m■■■■\u001b[0mencoding = 2\n",
            "\u001b[31m■■■■\u001b[0m\u001b[33m■■■■\u001b[0m\u001b[32m■■■■\u001b[0m\u001b[34m■■■■\u001b[0m\u001b[31m■■■■\u001b[0m\u001b[33m■■■■\u001b[0m\u001b[32m■■■■\u001b[0m\u001b[34m■■■■\u001b[0mcount = 1\n",
            "\u001b[31m■■■■\u001b[0m\u001b[33m■■■■\u001b[0m\u001b[32m■■■■\u001b[0m\u001b[34m■■■■\u001b[0m\u001b[31m■■■■\u001b[0moffset_index_offset = 5632\n",
            "\u001b[31m■■■■\u001b[0m\u001b[33m■■■■\u001b[0m\u001b[32m■■■■\u001b[0m\u001b[34m■■■■\u001b[0m\u001b[31m■■■■\u001b[0moffset_index_length = 12\n",
            "\u001b[31m■■■■\u001b[0m\u001b[33m■■■■\u001b[0m\u001b[32m■■■■\u001b[0m\u001b[34m■■■■\u001b[0m\u001b[31m■■■■\u001b[0mcolumn_index_offset = 5413\n",
            "\u001b[31m■■■■\u001b[0m\u001b[33m■■■■\u001b[0m\u001b[32m■■■■\u001b[0m\u001b[34m■■■■\u001b[0m\u001b[31m■■■■\u001b[0mcolumn_index_length = 31\n",
            "\u001b[31m■■■■\u001b[0m\u001b[33m■■■■\u001b[0m\u001b[32m■■■■\u001b[0m\u001b[34m■■■■\u001b[0mColumnChunk\n",
            "\u001b[31m■■■■\u001b[0m\u001b[33m■■■■\u001b[0m\u001b[32m■■■■\u001b[0m\u001b[34m■■■■\u001b[0m\u001b[31m■■■■\u001b[0mfile_offset = 4720\n",
            "\u001b[31m■■■■\u001b[0m\u001b[33m■■■■\u001b[0m\u001b[32m■■■■\u001b[0m\u001b[34m■■■■\u001b[0m\u001b[31m■■■■\u001b[0mmeta_data = ColumnMetaData\n",
            "\u001b[31m■■■■\u001b[0m\u001b[33m■■■■\u001b[0m\u001b[32m■■■■\u001b[0m\u001b[34m■■■■\u001b[0m\u001b[31m■■■■\u001b[0m\u001b[33m■■■■\u001b[0mtype = 6\n",
            "\u001b[31m■■■■\u001b[0m\u001b[33m■■■■\u001b[0m\u001b[32m■■■■\u001b[0m\u001b[34m■■■■\u001b[0m\u001b[31m■■■■\u001b[0m\u001b[33m■■■■\u001b[0mencodings = list\n",
            "\u001b[31m■■■■\u001b[0m\u001b[33m■■■■\u001b[0m\u001b[32m■■■■\u001b[0m\u001b[34m■■■■\u001b[0m\u001b[31m■■■■\u001b[0m\u001b[33m■■■■\u001b[0m\u001b[32m■■■■\u001b[0m4\n",
            "\u001b[31m■■■■\u001b[0m\u001b[33m■■■■\u001b[0m\u001b[32m■■■■\u001b[0m\u001b[34m■■■■\u001b[0m\u001b[31m■■■■\u001b[0m\u001b[33m■■■■\u001b[0m\u001b[32m■■■■\u001b[0m2\n",
            "\u001b[31m■■■■\u001b[0m\u001b[33m■■■■\u001b[0m\u001b[32m■■■■\u001b[0m\u001b[34m■■■■\u001b[0m\u001b[31m■■■■\u001b[0m\u001b[33m■■■■\u001b[0m\u001b[32m■■■■\u001b[0m3\n",
            "\u001b[31m■■■■\u001b[0m\u001b[33m■■■■\u001b[0m\u001b[32m■■■■\u001b[0m\u001b[34m■■■■\u001b[0m\u001b[31m■■■■\u001b[0m\u001b[33m■■■■\u001b[0mpath_in_schema = list\n",
            "\u001b[31m■■■■\u001b[0m\u001b[33m■■■■\u001b[0m\u001b[32m■■■■\u001b[0m\u001b[34m■■■■\u001b[0m\u001b[31m■■■■\u001b[0m\u001b[33m■■■■\u001b[0m\u001b[32m■■■■\u001b[0mcolor\n",
            "\u001b[31m■■■■\u001b[0m\u001b[33m■■■■\u001b[0m\u001b[32m■■■■\u001b[0m\u001b[34m■■■■\u001b[0m\u001b[31m■■■■\u001b[0m\u001b[33m■■■■\u001b[0mcodec = 1\n",
            "\u001b[31m■■■■\u001b[0m\u001b[33m■■■■\u001b[0m\u001b[32m■■■■\u001b[0m\u001b[34m■■■■\u001b[0m\u001b[31m■■■■\u001b[0m\u001b[33m■■■■\u001b[0mnum_values = 375\n",
            "\u001b[31m■■■■\u001b[0m\u001b[33m■■■■\u001b[0m\u001b[32m■■■■\u001b[0m\u001b[34m■■■■\u001b[0m\u001b[31m■■■■\u001b[0m\u001b[33m■■■■\u001b[0mtotal_uncompressed_size = 237\n",
            "\u001b[31m■■■■\u001b[0m\u001b[33m■■■■\u001b[0m\u001b[32m■■■■\u001b[0m\u001b[34m■■■■\u001b[0m\u001b[31m■■■■\u001b[0m\u001b[33m■■■■\u001b[0mtotal_compressed_size = 239\n",
            "\u001b[31m■■■■\u001b[0m\u001b[33m■■■■\u001b[0m\u001b[32m■■■■\u001b[0m\u001b[34m■■■■\u001b[0m\u001b[31m■■■■\u001b[0m\u001b[33m■■■■\u001b[0mdata_page_offset = 4720\n",
            "\u001b[31m■■■■\u001b[0m\u001b[33m■■■■\u001b[0m\u001b[32m■■■■\u001b[0m\u001b[34m■■■■\u001b[0m\u001b[31m■■■■\u001b[0m\u001b[33m■■■■\u001b[0mdictionary_page_offset = 4661\n",
            "\u001b[31m■■■■\u001b[0m\u001b[33m■■■■\u001b[0m\u001b[32m■■■■\u001b[0m\u001b[34m■■■■\u001b[0m\u001b[31m■■■■\u001b[0m\u001b[33m■■■■\u001b[0mstatistics = Statistics\n",
            "\u001b[31m■■■■\u001b[0m\u001b[33m■■■■\u001b[0m\u001b[32m■■■■\u001b[0m\u001b[34m■■■■\u001b[0m\u001b[31m■■■■\u001b[0m\u001b[33m■■■■\u001b[0m\u001b[32m■■■■\u001b[0mmax_value = b'white'\n",
            "\u001b[31m■■■■\u001b[0m\u001b[33m■■■■\u001b[0m\u001b[32m■■■■\u001b[0m\u001b[34m■■■■\u001b[0m\u001b[31m■■■■\u001b[0m\u001b[33m■■■■\u001b[0m\u001b[32m■■■■\u001b[0mmin_value = b'black'\n",
            "\u001b[31m■■■■\u001b[0m\u001b[33m■■■■\u001b[0m\u001b[32m■■■■\u001b[0m\u001b[34m■■■■\u001b[0m\u001b[31m■■■■\u001b[0m\u001b[33m■■■■\u001b[0mencoding_stats = list\n",
            "\u001b[31m■■■■\u001b[0m\u001b[33m■■■■\u001b[0m\u001b[32m■■■■\u001b[0m\u001b[34m■■■■\u001b[0m\u001b[31m■■■■\u001b[0m\u001b[33m■■■■\u001b[0m\u001b[32m■■■■\u001b[0mPageEncodingStats\n",
            "\u001b[31m■■■■\u001b[0m\u001b[33m■■■■\u001b[0m\u001b[32m■■■■\u001b[0m\u001b[34m■■■■\u001b[0m\u001b[31m■■■■\u001b[0m\u001b[33m■■■■\u001b[0m\u001b[32m■■■■\u001b[0m\u001b[34m■■■■\u001b[0mpage_type = 2\n",
            "\u001b[31m■■■■\u001b[0m\u001b[33m■■■■\u001b[0m\u001b[32m■■■■\u001b[0m\u001b[34m■■■■\u001b[0m\u001b[31m■■■■\u001b[0m\u001b[33m■■■■\u001b[0m\u001b[32m■■■■\u001b[0m\u001b[34m■■■■\u001b[0mencoding = 2\n",
            "\u001b[31m■■■■\u001b[0m\u001b[33m■■■■\u001b[0m\u001b[32m■■■■\u001b[0m\u001b[34m■■■■\u001b[0m\u001b[31m■■■■\u001b[0m\u001b[33m■■■■\u001b[0m\u001b[32m■■■■\u001b[0m\u001b[34m■■■■\u001b[0mcount = 1\n",
            "\u001b[31m■■■■\u001b[0m\u001b[33m■■■■\u001b[0m\u001b[32m■■■■\u001b[0m\u001b[34m■■■■\u001b[0m\u001b[31m■■■■\u001b[0m\u001b[33m■■■■\u001b[0m\u001b[32m■■■■\u001b[0mPageEncodingStats\n",
            "\u001b[31m■■■■\u001b[0m\u001b[33m■■■■\u001b[0m\u001b[32m■■■■\u001b[0m\u001b[34m■■■■\u001b[0m\u001b[31m■■■■\u001b[0m\u001b[33m■■■■\u001b[0m\u001b[32m■■■■\u001b[0m\u001b[34m■■■■\u001b[0mencoding = 2\n",
            "\u001b[31m■■■■\u001b[0m\u001b[33m■■■■\u001b[0m\u001b[32m■■■■\u001b[0m\u001b[34m■■■■\u001b[0m\u001b[31m■■■■\u001b[0m\u001b[33m■■■■\u001b[0m\u001b[32m■■■■\u001b[0m\u001b[34m■■■■\u001b[0mcount = 1\n",
            "\u001b[31m■■■■\u001b[0m\u001b[33m■■■■\u001b[0m\u001b[32m■■■■\u001b[0m\u001b[34m■■■■\u001b[0m\u001b[31m■■■■\u001b[0moffset_index_offset = 5644\n",
            "\u001b[31m■■■■\u001b[0m\u001b[33m■■■■\u001b[0m\u001b[32m■■■■\u001b[0m\u001b[34m■■■■\u001b[0m\u001b[31m■■■■\u001b[0moffset_index_length = 12\n",
            "\u001b[31m■■■■\u001b[0m\u001b[33m■■■■\u001b[0m\u001b[32m■■■■\u001b[0m\u001b[34m■■■■\u001b[0m\u001b[31m■■■■\u001b[0mcolumn_index_offset = 5444\n",
            "\u001b[31m■■■■\u001b[0m\u001b[33m■■■■\u001b[0m\u001b[32m■■■■\u001b[0m\u001b[34m■■■■\u001b[0m\u001b[31m■■■■\u001b[0mcolumn_index_length = 25\n",
            "\u001b[31m■■■■\u001b[0m\u001b[33m■■■■\u001b[0m\u001b[32m■■■■\u001b[0m\u001b[34m■■■■\u001b[0mColumnChunk\n",
            "\u001b[31m■■■■\u001b[0m\u001b[33m■■■■\u001b[0m\u001b[32m■■■■\u001b[0m\u001b[34m■■■■\u001b[0m\u001b[31m■■■■\u001b[0mfile_offset = 4958\n",
            "\u001b[31m■■■■\u001b[0m\u001b[33m■■■■\u001b[0m\u001b[32m■■■■\u001b[0m\u001b[34m■■■■\u001b[0m\u001b[31m■■■■\u001b[0mmeta_data = ColumnMetaData\n",
            "\u001b[31m■■■■\u001b[0m\u001b[33m■■■■\u001b[0m\u001b[32m■■■■\u001b[0m\u001b[34m■■■■\u001b[0m\u001b[31m■■■■\u001b[0m\u001b[33m■■■■\u001b[0mtype = 6\n",
            "\u001b[31m■■■■\u001b[0m\u001b[33m■■■■\u001b[0m\u001b[32m■■■■\u001b[0m\u001b[34m■■■■\u001b[0m\u001b[31m■■■■\u001b[0m\u001b[33m■■■■\u001b[0mencodings = list\n",
            "\u001b[31m■■■■\u001b[0m\u001b[33m■■■■\u001b[0m\u001b[32m■■■■\u001b[0m\u001b[34m■■■■\u001b[0m\u001b[31m■■■■\u001b[0m\u001b[33m■■■■\u001b[0m\u001b[32m■■■■\u001b[0m4\n",
            "\u001b[31m■■■■\u001b[0m\u001b[33m■■■■\u001b[0m\u001b[32m■■■■\u001b[0m\u001b[34m■■■■\u001b[0m\u001b[31m■■■■\u001b[0m\u001b[33m■■■■\u001b[0m\u001b[32m■■■■\u001b[0m2\n",
            "\u001b[31m■■■■\u001b[0m\u001b[33m■■■■\u001b[0m\u001b[32m■■■■\u001b[0m\u001b[34m■■■■\u001b[0m\u001b[31m■■■■\u001b[0m\u001b[33m■■■■\u001b[0m\u001b[32m■■■■\u001b[0m3\n",
            "\u001b[31m■■■■\u001b[0m\u001b[33m■■■■\u001b[0m\u001b[32m■■■■\u001b[0m\u001b[34m■■■■\u001b[0m\u001b[31m■■■■\u001b[0m\u001b[33m■■■■\u001b[0mpath_in_schema = list\n",
            "\u001b[31m■■■■\u001b[0m\u001b[33m■■■■\u001b[0m\u001b[32m■■■■\u001b[0m\u001b[34m■■■■\u001b[0m\u001b[31m■■■■\u001b[0m\u001b[33m■■■■\u001b[0m\u001b[32m■■■■\u001b[0mbrand\n",
            "\u001b[31m■■■■\u001b[0m\u001b[33m■■■■\u001b[0m\u001b[32m■■■■\u001b[0m\u001b[34m■■■■\u001b[0m\u001b[31m■■■■\u001b[0m\u001b[33m■■■■\u001b[0mcodec = 1\n",
            "\u001b[31m■■■■\u001b[0m\u001b[33m■■■■\u001b[0m\u001b[32m■■■■\u001b[0m\u001b[34m■■■■\u001b[0m\u001b[31m■■■■\u001b[0m\u001b[33m■■■■\u001b[0mnum_values = 375\n",
            "\u001b[31m■■■■\u001b[0m\u001b[33m■■■■\u001b[0m\u001b[32m■■■■\u001b[0m\u001b[34m■■■■\u001b[0m\u001b[31m■■■■\u001b[0m\u001b[33m■■■■\u001b[0mtotal_uncompressed_size = 184\n",
            "\u001b[31m■■■■\u001b[0m\u001b[33m■■■■\u001b[0m\u001b[32m■■■■\u001b[0m\u001b[34m■■■■\u001b[0m\u001b[31m■■■■\u001b[0m\u001b[33m■■■■\u001b[0mtotal_compressed_size = 189\n",
            "\u001b[31m■■■■\u001b[0m\u001b[33m■■■■\u001b[0m\u001b[32m■■■■\u001b[0m\u001b[34m■■■■\u001b[0m\u001b[31m■■■■\u001b[0m\u001b[33m■■■■\u001b[0mdata_page_offset = 4958\n",
            "\u001b[31m■■■■\u001b[0m\u001b[33m■■■■\u001b[0m\u001b[32m■■■■\u001b[0m\u001b[34m■■■■\u001b[0m\u001b[31m■■■■\u001b[0m\u001b[33m■■■■\u001b[0mdictionary_page_offset = 4900\n",
            "\u001b[31m■■■■\u001b[0m\u001b[33m■■■■\u001b[0m\u001b[32m■■■■\u001b[0m\u001b[34m■■■■\u001b[0m\u001b[31m■■■■\u001b[0m\u001b[33m■■■■\u001b[0mstatistics = Statistics\n",
            "\u001b[31m■■■■\u001b[0m\u001b[33m■■■■\u001b[0m\u001b[32m■■■■\u001b[0m\u001b[34m■■■■\u001b[0m\u001b[31m■■■■\u001b[0m\u001b[33m■■■■\u001b[0m\u001b[32m■■■■\u001b[0mmax_value = b'Over'\n",
            "\u001b[31m■■■■\u001b[0m\u001b[33m■■■■\u001b[0m\u001b[32m■■■■\u001b[0m\u001b[34m■■■■\u001b[0m\u001b[31m■■■■\u001b[0m\u001b[33m■■■■\u001b[0m\u001b[32m■■■■\u001b[0mmin_value = b'Basic'\n",
            "\u001b[31m■■■■\u001b[0m\u001b[33m■■■■\u001b[0m\u001b[32m■■■■\u001b[0m\u001b[34m■■■■\u001b[0m\u001b[31m■■■■\u001b[0m\u001b[33m■■■■\u001b[0mencoding_stats = list\n",
            "\u001b[31m■■■■\u001b[0m\u001b[33m■■■■\u001b[0m\u001b[32m■■■■\u001b[0m\u001b[34m■■■■\u001b[0m\u001b[31m■■■■\u001b[0m\u001b[33m■■■■\u001b[0m\u001b[32m■■■■\u001b[0mPageEncodingStats\n",
            "\u001b[31m■■■■\u001b[0m\u001b[33m■■■■\u001b[0m\u001b[32m■■■■\u001b[0m\u001b[34m■■■■\u001b[0m\u001b[31m■■■■\u001b[0m\u001b[33m■■■■\u001b[0m\u001b[32m■■■■\u001b[0m\u001b[34m■■■■\u001b[0mpage_type = 2\n",
            "\u001b[31m■■■■\u001b[0m\u001b[33m■■■■\u001b[0m\u001b[32m■■■■\u001b[0m\u001b[34m■■■■\u001b[0m\u001b[31m■■■■\u001b[0m\u001b[33m■■■■\u001b[0m\u001b[32m■■■■\u001b[0m\u001b[34m■■■■\u001b[0mencoding = 2\n",
            "\u001b[31m■■■■\u001b[0m\u001b[33m■■■■\u001b[0m\u001b[32m■■■■\u001b[0m\u001b[34m■■■■\u001b[0m\u001b[31m■■■■\u001b[0m\u001b[33m■■■■\u001b[0m\u001b[32m■■■■\u001b[0m\u001b[34m■■■■\u001b[0mcount = 1\n",
            "\u001b[31m■■■■\u001b[0m\u001b[33m■■■■\u001b[0m\u001b[32m■■■■\u001b[0m\u001b[34m■■■■\u001b[0m\u001b[31m■■■■\u001b[0m\u001b[33m■■■■\u001b[0m\u001b[32m■■■■\u001b[0mPageEncodingStats\n",
            "\u001b[31m■■■■\u001b[0m\u001b[33m■■■■\u001b[0m\u001b[32m■■■■\u001b[0m\u001b[34m■■■■\u001b[0m\u001b[31m■■■■\u001b[0m\u001b[33m■■■■\u001b[0m\u001b[32m■■■■\u001b[0m\u001b[34m■■■■\u001b[0mencoding = 2\n",
            "\u001b[31m■■■■\u001b[0m\u001b[33m■■■■\u001b[0m\u001b[32m■■■■\u001b[0m\u001b[34m■■■■\u001b[0m\u001b[31m■■■■\u001b[0m\u001b[33m■■■■\u001b[0m\u001b[32m■■■■\u001b[0m\u001b[34m■■■■\u001b[0mcount = 1\n",
            "\u001b[31m■■■■\u001b[0m\u001b[33m■■■■\u001b[0m\u001b[32m■■■■\u001b[0m\u001b[34m■■■■\u001b[0m\u001b[31m■■■■\u001b[0moffset_index_offset = 5656\n",
            "\u001b[31m■■■■\u001b[0m\u001b[33m■■■■\u001b[0m\u001b[32m■■■■\u001b[0m\u001b[34m■■■■\u001b[0m\u001b[31m■■■■\u001b[0moffset_index_length = 12\n",
            "\u001b[31m■■■■\u001b[0m\u001b[33m■■■■\u001b[0m\u001b[32m■■■■\u001b[0m\u001b[34m■■■■\u001b[0m\u001b[31m■■■■\u001b[0mcolumn_index_offset = 5469\n",
            "\u001b[31m■■■■\u001b[0m\u001b[33m■■■■\u001b[0m\u001b[32m■■■■\u001b[0m\u001b[34m■■■■\u001b[0m\u001b[31m■■■■\u001b[0mcolumn_index_length = 24\n",
            "\u001b[31m■■■■\u001b[0m\u001b[33m■■■■\u001b[0m\u001b[32m■■■■\u001b[0mtotal_byte_size = 9097\n",
            "\u001b[31m■■■■\u001b[0m\u001b[33m■■■■\u001b[0m\u001b[32m■■■■\u001b[0mnum_rows = 375\n",
            "\u001b[31m■■■■\u001b[0m\u001b[33m■■■■\u001b[0m\u001b[32m■■■■\u001b[0mfile_offset = 4\n",
            "\u001b[31m■■■■\u001b[0m\u001b[33m■■■■\u001b[0m\u001b[32m■■■■\u001b[0mtotal_compressed_size = 5085\n",
            "\u001b[31m■■■■\u001b[0mkey_value_metadata = list\n",
            "\u001b[31m■■■■\u001b[0m\u001b[33m■■■■\u001b[0mKeyValue\n",
            "\u001b[31m■■■■\u001b[0m\u001b[33m■■■■\u001b[0m\u001b[32m■■■■\u001b[0mkey = org.apache.spark.version\n",
            "\u001b[31m■■■■\u001b[0m\u001b[33m■■■■\u001b[0m\u001b[32m■■■■\u001b[0mvalue = 3.5.3\n",
            "\u001b[31m■■■■\u001b[0m\u001b[33m■■■■\u001b[0mKeyValue\n",
            "\u001b[31m■■■■\u001b[0m\u001b[33m■■■■\u001b[0m\u001b[32m■■■■\u001b[0mkey = org.apache.spark.sql.parquet.row.metadata\n",
            "\u001b[31m■■■■\u001b[0m\u001b[33m■■■■\u001b[0m\u001b[32m■■■■\u001b[0mvalue = {\"type\":\"struct\",\"fields\":[{\"name\":\"saleid\",\"type\":\"string\",\"nullable\":true,\"metadata\":{}},{\"name\":\"saledate\",\"type\":\"date\",\"nullable\":true,\"metadata\":{}},{\"name\":\"quantity\",\"type\":\"double\",\"nullable\":true,\"metadata\":{}},{\"name\":\"unitprice\",\"type\":\"double\",\"nullable\":true,\"metadata\":{}},{\"name\":\"shopid\",\"type\":\"string\",\"nullable\":true,\"metadata\":{}},{\"name\":\"state\",\"type\":\"string\",\"nullable\":true,\"metadata\":{}},{\"name\":\"country\",\"type\":\"string\",\"nullable\":true,\"metadata\":{}},{\"name\":\"shopsize\",\"type\":\"string\",\"nullable\":true,\"metadata\":{}},{\"name\":\"productid\",\"type\":\"string\",\"nullable\":true,\"metadata\":{}},{\"name\":\"category\",\"type\":\"string\",\"nullable\":true,\"metadata\":{}},{\"name\":\"subcategory\",\"type\":\"string\",\"nullable\":true,\"metadata\":{}},{\"name\":\"size\",\"type\":\"string\",\"nullable\":true,\"metadata\":{}},{\"name\":\"purchaseprice\",\"type\":\"double\",\"nullable\":true,\"metadata\":{}},{\"name\":\"color\",\"type\":\"string\",\"nullable\":true,\"metadata\":{}},{\"name\":\"brand\",\"type\":\"string\",\"nullable\":true,\"metadata\":{}}]}\n",
            "\u001b[31m■■■■\u001b[0mcreated_by = parquet-mr version 1.13.1 (build db4183109d5b734ec5930d870cdae161e408ddba)\n",
            "\u001b[31m■■■■\u001b[0mcolumn_orders = list\n",
            "\u001b[31m■■■■\u001b[0m\u001b[33m■■■■\u001b[0mColumnOrder\n",
            "\u001b[31m■■■■\u001b[0m\u001b[33m■■■■\u001b[0m\u001b[32m■■■■\u001b[0mTYPE_ORDER = TypeDefinedOrder\n",
            "\u001b[31m■■■■\u001b[0m\u001b[33m■■■■\u001b[0mColumnOrder\n",
            "\u001b[31m■■■■\u001b[0m\u001b[33m■■■■\u001b[0m\u001b[32m■■■■\u001b[0mTYPE_ORDER = TypeDefinedOrder\n",
            "\u001b[31m■■■■\u001b[0m\u001b[33m■■■■\u001b[0mColumnOrder\n",
            "\u001b[31m■■■■\u001b[0m\u001b[33m■■■■\u001b[0m\u001b[32m■■■■\u001b[0mTYPE_ORDER = TypeDefinedOrder\n",
            "\u001b[31m■■■■\u001b[0m\u001b[33m■■■■\u001b[0mColumnOrder\n",
            "\u001b[31m■■■■\u001b[0m\u001b[33m■■■■\u001b[0m\u001b[32m■■■■\u001b[0mTYPE_ORDER = TypeDefinedOrder\n",
            "\u001b[31m■■■■\u001b[0m\u001b[33m■■■■\u001b[0mColumnOrder\n",
            "\u001b[31m■■■■\u001b[0m\u001b[33m■■■■\u001b[0m\u001b[32m■■■■\u001b[0mTYPE_ORDER = TypeDefinedOrder\n",
            "\u001b[31m■■■■\u001b[0m\u001b[33m■■■■\u001b[0mColumnOrder\n",
            "\u001b[31m■■■■\u001b[0m\u001b[33m■■■■\u001b[0m\u001b[32m■■■■\u001b[0mTYPE_ORDER = TypeDefinedOrder\n",
            "\u001b[31m■■■■\u001b[0m\u001b[33m■■■■\u001b[0mColumnOrder\n",
            "\u001b[31m■■■■\u001b[0m\u001b[33m■■■■\u001b[0m\u001b[32m■■■■\u001b[0mTYPE_ORDER = TypeDefinedOrder\n",
            "\u001b[31m■■■■\u001b[0m\u001b[33m■■■■\u001b[0mColumnOrder\n",
            "\u001b[31m■■■■\u001b[0m\u001b[33m■■■■\u001b[0m\u001b[32m■■■■\u001b[0mTYPE_ORDER = TypeDefinedOrder\n",
            "\u001b[31m■■■■\u001b[0m\u001b[33m■■■■\u001b[0mColumnOrder\n",
            "\u001b[31m■■■■\u001b[0m\u001b[33m■■■■\u001b[0m\u001b[32m■■■■\u001b[0mTYPE_ORDER = TypeDefinedOrder\n",
            "\u001b[31m■■■■\u001b[0m\u001b[33m■■■■\u001b[0mColumnOrder\n",
            "\u001b[31m■■■■\u001b[0m\u001b[33m■■■■\u001b[0m\u001b[32m■■■■\u001b[0mTYPE_ORDER = TypeDefinedOrder\n",
            "\u001b[31m■■■■\u001b[0m\u001b[33m■■■■\u001b[0mColumnOrder\n",
            "\u001b[31m■■■■\u001b[0m\u001b[33m■■■■\u001b[0m\u001b[32m■■■■\u001b[0mTYPE_ORDER = TypeDefinedOrder\n",
            "\u001b[31m■■■■\u001b[0m\u001b[33m■■■■\u001b[0mColumnOrder\n",
            "\u001b[31m■■■■\u001b[0m\u001b[33m■■■■\u001b[0m\u001b[32m■■■■\u001b[0mTYPE_ORDER = TypeDefinedOrder\n",
            "\u001b[31m■■■■\u001b[0m\u001b[33m■■■■\u001b[0mColumnOrder\n",
            "\u001b[31m■■■■\u001b[0m\u001b[33m■■■■\u001b[0m\u001b[32m■■■■\u001b[0mTYPE_ORDER = TypeDefinedOrder\n",
            "\u001b[31m■■■■\u001b[0m\u001b[33m■■■■\u001b[0mColumnOrder\n",
            "\u001b[31m■■■■\u001b[0m\u001b[33m■■■■\u001b[0m\u001b[32m■■■■\u001b[0mTYPE_ORDER = TypeDefinedOrder\n",
            "\u001b[31m■■■■\u001b[0m\u001b[33m■■■■\u001b[0mColumnOrder\n",
            "\u001b[31m■■■■\u001b[0m\u001b[33m■■■■\u001b[0m\u001b[32m■■■■\u001b[0mTYPE_ORDER = TypeDefinedOrder\u001b[0m\n",
            "\u001b[0m\u001b[0m"
          ]
        }
      ],
      "source": [
        "!parquet-tools inspect --detail /tmp/deltaSalesPerCity/'city=Chicago'/*parquet"
      ]
    },
    {
      "cell_type": "code",
      "execution_count": 114,
      "metadata": {
        "colab": {
          "base_uri": "https://localhost:8080/"
        },
        "id": "pQl-CJPHTxKo",
        "outputId": "73cd1b83-d35f-473b-bf5e-aad5d74194db"
      },
      "outputs": [
        {
          "output_type": "stream",
          "name": "stdout",
          "text": [
            "FileMetaData\n",
            "\u001b[31m■■■■\u001b[0mversion = 1\n",
            "\u001b[31m■■■■\u001b[0mschema = list\n",
            "\u001b[31m■■■■\u001b[0m\u001b[33m■■■■\u001b[0mSchemaElement\n",
            "\u001b[31m■■■■\u001b[0m\u001b[33m■■■■\u001b[0m\u001b[32m■■■■\u001b[0mname = spark_schema\n",
            "\u001b[31m■■■■\u001b[0m\u001b[33m■■■■\u001b[0m\u001b[32m■■■■\u001b[0mnum_children = 15\n",
            "\u001b[31m■■■■\u001b[0m\u001b[33m■■■■\u001b[0mSchemaElement\n",
            "\u001b[31m■■■■\u001b[0m\u001b[33m■■■■\u001b[0m\u001b[32m■■■■\u001b[0mtype = 6\n",
            "\u001b[31m■■■■\u001b[0m\u001b[33m■■■■\u001b[0m\u001b[32m■■■■\u001b[0mrepetition_type = 1\n",
            "\u001b[31m■■■■\u001b[0m\u001b[33m■■■■\u001b[0m\u001b[32m■■■■\u001b[0mname = saleid\n",
            "\u001b[31m■■■■\u001b[0m\u001b[33m■■■■\u001b[0m\u001b[32m■■■■\u001b[0mlogicalType = LogicalType\n",
            "\u001b[31m■■■■\u001b[0m\u001b[33m■■■■\u001b[0m\u001b[32m■■■■\u001b[0m\u001b[34m■■■■\u001b[0mSTRING = StringType\n",
            "\u001b[31m■■■■\u001b[0m\u001b[33m■■■■\u001b[0mSchemaElement\n",
            "\u001b[31m■■■■\u001b[0m\u001b[33m■■■■\u001b[0m\u001b[32m■■■■\u001b[0mtype = 1\n",
            "\u001b[31m■■■■\u001b[0m\u001b[33m■■■■\u001b[0m\u001b[32m■■■■\u001b[0mrepetition_type = 1\n",
            "\u001b[31m■■■■\u001b[0m\u001b[33m■■■■\u001b[0m\u001b[32m■■■■\u001b[0mname = saledate\n",
            "\u001b[31m■■■■\u001b[0m\u001b[33m■■■■\u001b[0m\u001b[32m■■■■\u001b[0mconverted_type = 6\n",
            "\u001b[31m■■■■\u001b[0m\u001b[33m■■■■\u001b[0m\u001b[32m■■■■\u001b[0mlogicalType = LogicalType\n",
            "\u001b[31m■■■■\u001b[0m\u001b[33m■■■■\u001b[0m\u001b[32m■■■■\u001b[0m\u001b[34m■■■■\u001b[0mDATE = DateType\n",
            "\u001b[31m■■■■\u001b[0m\u001b[33m■■■■\u001b[0mSchemaElement\n",
            "\u001b[31m■■■■\u001b[0m\u001b[33m■■■■\u001b[0m\u001b[32m■■■■\u001b[0mtype = 5\n",
            "\u001b[31m■■■■\u001b[0m\u001b[33m■■■■\u001b[0m\u001b[32m■■■■\u001b[0mrepetition_type = 1\n",
            "\u001b[31m■■■■\u001b[0m\u001b[33m■■■■\u001b[0m\u001b[32m■■■■\u001b[0mname = quantity\n",
            "\u001b[31m■■■■\u001b[0m\u001b[33m■■■■\u001b[0mSchemaElement\n",
            "\u001b[31m■■■■\u001b[0m\u001b[33m■■■■\u001b[0m\u001b[32m■■■■\u001b[0mtype = 5\n",
            "\u001b[31m■■■■\u001b[0m\u001b[33m■■■■\u001b[0m\u001b[32m■■■■\u001b[0mrepetition_type = 1\n",
            "\u001b[31m■■■■\u001b[0m\u001b[33m■■■■\u001b[0m\u001b[32m■■■■\u001b[0mname = unitprice\n",
            "\u001b[31m■■■■\u001b[0m\u001b[33m■■■■\u001b[0mSchemaElement\n",
            "\u001b[31m■■■■\u001b[0m\u001b[33m■■■■\u001b[0m\u001b[32m■■■■\u001b[0mtype = 6\n",
            "\u001b[31m■■■■\u001b[0m\u001b[33m■■■■\u001b[0m\u001b[32m■■■■\u001b[0mrepetition_type = 1\n",
            "\u001b[31m■■■■\u001b[0m\u001b[33m■■■■\u001b[0m\u001b[32m■■■■\u001b[0mname = shopid\n",
            "\u001b[31m■■■■\u001b[0m\u001b[33m■■■■\u001b[0m\u001b[32m■■■■\u001b[0mlogicalType = LogicalType\n",
            "\u001b[31m■■■■\u001b[0m\u001b[33m■■■■\u001b[0m\u001b[32m■■■■\u001b[0m\u001b[34m■■■■\u001b[0mSTRING = StringType\n",
            "\u001b[31m■■■■\u001b[0m\u001b[33m■■■■\u001b[0mSchemaElement\n",
            "\u001b[31m■■■■\u001b[0m\u001b[33m■■■■\u001b[0m\u001b[32m■■■■\u001b[0mtype = 6\n",
            "\u001b[31m■■■■\u001b[0m\u001b[33m■■■■\u001b[0m\u001b[32m■■■■\u001b[0mrepetition_type = 1\n",
            "\u001b[31m■■■■\u001b[0m\u001b[33m■■■■\u001b[0m\u001b[32m■■■■\u001b[0mname = state\n",
            "\u001b[31m■■■■\u001b[0m\u001b[33m■■■■\u001b[0m\u001b[32m■■■■\u001b[0mlogicalType = LogicalType\n",
            "\u001b[31m■■■■\u001b[0m\u001b[33m■■■■\u001b[0m\u001b[32m■■■■\u001b[0m\u001b[34m■■■■\u001b[0mSTRING = StringType\n",
            "\u001b[31m■■■■\u001b[0m\u001b[33m■■■■\u001b[0mSchemaElement\n",
            "\u001b[31m■■■■\u001b[0m\u001b[33m■■■■\u001b[0m\u001b[32m■■■■\u001b[0mtype = 6\n",
            "\u001b[31m■■■■\u001b[0m\u001b[33m■■■■\u001b[0m\u001b[32m■■■■\u001b[0mrepetition_type = 1\n",
            "\u001b[31m■■■■\u001b[0m\u001b[33m■■■■\u001b[0m\u001b[32m■■■■\u001b[0mname = country\n",
            "\u001b[31m■■■■\u001b[0m\u001b[33m■■■■\u001b[0m\u001b[32m■■■■\u001b[0mlogicalType = LogicalType\n",
            "\u001b[31m■■■■\u001b[0m\u001b[33m■■■■\u001b[0m\u001b[32m■■■■\u001b[0m\u001b[34m■■■■\u001b[0mSTRING = StringType\n",
            "\u001b[31m■■■■\u001b[0m\u001b[33m■■■■\u001b[0mSchemaElement\n",
            "\u001b[31m■■■■\u001b[0m\u001b[33m■■■■\u001b[0m\u001b[32m■■■■\u001b[0mtype = 6\n",
            "\u001b[31m■■■■\u001b[0m\u001b[33m■■■■\u001b[0m\u001b[32m■■■■\u001b[0mrepetition_type = 1\n",
            "\u001b[31m■■■■\u001b[0m\u001b[33m■■■■\u001b[0m\u001b[32m■■■■\u001b[0mname = shopsize\n",
            "\u001b[31m■■■■\u001b[0m\u001b[33m■■■■\u001b[0m\u001b[32m■■■■\u001b[0mlogicalType = LogicalType\n",
            "\u001b[31m■■■■\u001b[0m\u001b[33m■■■■\u001b[0m\u001b[32m■■■■\u001b[0m\u001b[34m■■■■\u001b[0mSTRING = StringType\n",
            "\u001b[31m■■■■\u001b[0m\u001b[33m■■■■\u001b[0mSchemaElement\n",
            "\u001b[31m■■■■\u001b[0m\u001b[33m■■■■\u001b[0m\u001b[32m■■■■\u001b[0mtype = 6\n",
            "\u001b[31m■■■■\u001b[0m\u001b[33m■■■■\u001b[0m\u001b[32m■■■■\u001b[0mrepetition_type = 1\n",
            "\u001b[31m■■■■\u001b[0m\u001b[33m■■■■\u001b[0m\u001b[32m■■■■\u001b[0mname = productid\n",
            "\u001b[31m■■■■\u001b[0m\u001b[33m■■■■\u001b[0m\u001b[32m■■■■\u001b[0mlogicalType = LogicalType\n",
            "\u001b[31m■■■■\u001b[0m\u001b[33m■■■■\u001b[0m\u001b[32m■■■■\u001b[0m\u001b[34m■■■■\u001b[0mSTRING = StringType\n",
            "\u001b[31m■■■■\u001b[0m\u001b[33m■■■■\u001b[0mSchemaElement\n",
            "\u001b[31m■■■■\u001b[0m\u001b[33m■■■■\u001b[0m\u001b[32m■■■■\u001b[0mtype = 6\n",
            "\u001b[31m■■■■\u001b[0m\u001b[33m■■■■\u001b[0m\u001b[32m■■■■\u001b[0mrepetition_type = 1\n",
            "\u001b[31m■■■■\u001b[0m\u001b[33m■■■■\u001b[0m\u001b[32m■■■■\u001b[0mname = category\n",
            "\u001b[31m■■■■\u001b[0m\u001b[33m■■■■\u001b[0m\u001b[32m■■■■\u001b[0mlogicalType = LogicalType\n",
            "\u001b[31m■■■■\u001b[0m\u001b[33m■■■■\u001b[0m\u001b[32m■■■■\u001b[0m\u001b[34m■■■■\u001b[0mSTRING = StringType\n",
            "\u001b[31m■■■■\u001b[0m\u001b[33m■■■■\u001b[0mSchemaElement\n",
            "\u001b[31m■■■■\u001b[0m\u001b[33m■■■■\u001b[0m\u001b[32m■■■■\u001b[0mtype = 6\n",
            "\u001b[31m■■■■\u001b[0m\u001b[33m■■■■\u001b[0m\u001b[32m■■■■\u001b[0mrepetition_type = 1\n",
            "\u001b[31m■■■■\u001b[0m\u001b[33m■■■■\u001b[0m\u001b[32m■■■■\u001b[0mname = subcategory\n",
            "\u001b[31m■■■■\u001b[0m\u001b[33m■■■■\u001b[0m\u001b[32m■■■■\u001b[0mlogicalType = LogicalType\n",
            "\u001b[31m■■■■\u001b[0m\u001b[33m■■■■\u001b[0m\u001b[32m■■■■\u001b[0m\u001b[34m■■■■\u001b[0mSTRING = StringType\n",
            "\u001b[31m■■■■\u001b[0m\u001b[33m■■■■\u001b[0mSchemaElement\n",
            "\u001b[31m■■■■\u001b[0m\u001b[33m■■■■\u001b[0m\u001b[32m■■■■\u001b[0mtype = 6\n",
            "\u001b[31m■■■■\u001b[0m\u001b[33m■■■■\u001b[0m\u001b[32m■■■■\u001b[0mrepetition_type = 1\n",
            "\u001b[31m■■■■\u001b[0m\u001b[33m■■■■\u001b[0m\u001b[32m■■■■\u001b[0mname = size\n",
            "\u001b[31m■■■■\u001b[0m\u001b[33m■■■■\u001b[0m\u001b[32m■■■■\u001b[0mlogicalType = LogicalType\n",
            "\u001b[31m■■■■\u001b[0m\u001b[33m■■■■\u001b[0m\u001b[32m■■■■\u001b[0m\u001b[34m■■■■\u001b[0mSTRING = StringType\n",
            "\u001b[31m■■■■\u001b[0m\u001b[33m■■■■\u001b[0mSchemaElement\n",
            "\u001b[31m■■■■\u001b[0m\u001b[33m■■■■\u001b[0m\u001b[32m■■■■\u001b[0mtype = 5\n",
            "\u001b[31m■■■■\u001b[0m\u001b[33m■■■■\u001b[0m\u001b[32m■■■■\u001b[0mrepetition_type = 1\n",
            "\u001b[31m■■■■\u001b[0m\u001b[33m■■■■\u001b[0m\u001b[32m■■■■\u001b[0mname = purchaseprice\n",
            "\u001b[31m■■■■\u001b[0m\u001b[33m■■■■\u001b[0mSchemaElement\n",
            "\u001b[31m■■■■\u001b[0m\u001b[33m■■■■\u001b[0m\u001b[32m■■■■\u001b[0mtype = 6\n",
            "\u001b[31m■■■■\u001b[0m\u001b[33m■■■■\u001b[0m\u001b[32m■■■■\u001b[0mrepetition_type = 1\n",
            "\u001b[31m■■■■\u001b[0m\u001b[33m■■■■\u001b[0m\u001b[32m■■■■\u001b[0mname = color\n",
            "\u001b[31m■■■■\u001b[0m\u001b[33m■■■■\u001b[0m\u001b[32m■■■■\u001b[0mlogicalType = LogicalType\n",
            "\u001b[31m■■■■\u001b[0m\u001b[33m■■■■\u001b[0m\u001b[32m■■■■\u001b[0m\u001b[34m■■■■\u001b[0mSTRING = StringType\n",
            "\u001b[31m■■■■\u001b[0m\u001b[33m■■■■\u001b[0mSchemaElement\n",
            "\u001b[31m■■■■\u001b[0m\u001b[33m■■■■\u001b[0m\u001b[32m■■■■\u001b[0mtype = 6\n",
            "\u001b[31m■■■■\u001b[0m\u001b[33m■■■■\u001b[0m\u001b[32m■■■■\u001b[0mrepetition_type = 1\n",
            "\u001b[31m■■■■\u001b[0m\u001b[33m■■■■\u001b[0m\u001b[32m■■■■\u001b[0mname = brand\n",
            "\u001b[31m■■■■\u001b[0m\u001b[33m■■■■\u001b[0m\u001b[32m■■■■\u001b[0mlogicalType = LogicalType\n",
            "\u001b[31m■■■■\u001b[0m\u001b[33m■■■■\u001b[0m\u001b[32m■■■■\u001b[0m\u001b[34m■■■■\u001b[0mSTRING = StringType\n",
            "\u001b[31m■■■■\u001b[0mnum_rows = 250\n",
            "\u001b[31m■■■■\u001b[0mrow_groups = list\n",
            "\u001b[31m■■■■\u001b[0m\u001b[33m■■■■\u001b[0mRowGroup\n",
            "\u001b[31m■■■■\u001b[0m\u001b[33m■■■■\u001b[0m\u001b[32m■■■■\u001b[0mcolumns = list\n",
            "\u001b[31m■■■■\u001b[0m\u001b[33m■■■■\u001b[0m\u001b[32m■■■■\u001b[0m\u001b[34m■■■■\u001b[0mColumnChunk\n",
            "\u001b[31m■■■■\u001b[0m\u001b[33m■■■■\u001b[0m\u001b[32m■■■■\u001b[0m\u001b[34m■■■■\u001b[0m\u001b[31m■■■■\u001b[0mfile_offset = 4\n",
            "\u001b[31m■■■■\u001b[0m\u001b[33m■■■■\u001b[0m\u001b[32m■■■■\u001b[0m\u001b[34m■■■■\u001b[0m\u001b[31m■■■■\u001b[0mmeta_data = ColumnMetaData\n",
            "\u001b[31m■■■■\u001b[0m\u001b[33m■■■■\u001b[0m\u001b[32m■■■■\u001b[0m\u001b[34m■■■■\u001b[0m\u001b[31m■■■■\u001b[0m\u001b[33m■■■■\u001b[0mtype = 6\n",
            "\u001b[31m■■■■\u001b[0m\u001b[33m■■■■\u001b[0m\u001b[32m■■■■\u001b[0m\u001b[34m■■■■\u001b[0m\u001b[31m■■■■\u001b[0m\u001b[33m■■■■\u001b[0mencodings = list\n",
            "\u001b[31m■■■■\u001b[0m\u001b[33m■■■■\u001b[0m\u001b[32m■■■■\u001b[0m\u001b[34m■■■■\u001b[0m\u001b[31m■■■■\u001b[0m\u001b[33m■■■■\u001b[0m\u001b[32m■■■■\u001b[0m4\n",
            "\u001b[31m■■■■\u001b[0m\u001b[33m■■■■\u001b[0m\u001b[32m■■■■\u001b[0m\u001b[34m■■■■\u001b[0m\u001b[31m■■■■\u001b[0m\u001b[33m■■■■\u001b[0m\u001b[32m■■■■\u001b[0m0\n",
            "\u001b[31m■■■■\u001b[0m\u001b[33m■■■■\u001b[0m\u001b[32m■■■■\u001b[0m\u001b[34m■■■■\u001b[0m\u001b[31m■■■■\u001b[0m\u001b[33m■■■■\u001b[0m\u001b[32m■■■■\u001b[0m3\n",
            "\u001b[31m■■■■\u001b[0m\u001b[33m■■■■\u001b[0m\u001b[32m■■■■\u001b[0m\u001b[34m■■■■\u001b[0m\u001b[31m■■■■\u001b[0m\u001b[33m■■■■\u001b[0mpath_in_schema = list\n",
            "\u001b[31m■■■■\u001b[0m\u001b[33m■■■■\u001b[0m\u001b[32m■■■■\u001b[0m\u001b[34m■■■■\u001b[0m\u001b[31m■■■■\u001b[0m\u001b[33m■■■■\u001b[0m\u001b[32m■■■■\u001b[0msaleid\n",
            "\u001b[31m■■■■\u001b[0m\u001b[33m■■■■\u001b[0m\u001b[32m■■■■\u001b[0m\u001b[34m■■■■\u001b[0m\u001b[31m■■■■\u001b[0m\u001b[33m■■■■\u001b[0mcodec = 1\n",
            "\u001b[31m■■■■\u001b[0m\u001b[33m■■■■\u001b[0m\u001b[32m■■■■\u001b[0m\u001b[34m■■■■\u001b[0m\u001b[31m■■■■\u001b[0m\u001b[33m■■■■\u001b[0mnum_values = 250\n",
            "\u001b[31m■■■■\u001b[0m\u001b[33m■■■■\u001b[0m\u001b[32m■■■■\u001b[0m\u001b[34m■■■■\u001b[0m\u001b[31m■■■■\u001b[0m\u001b[33m■■■■\u001b[0mtotal_uncompressed_size = 3533\n",
            "\u001b[31m■■■■\u001b[0m\u001b[33m■■■■\u001b[0m\u001b[32m■■■■\u001b[0m\u001b[34m■■■■\u001b[0m\u001b[31m■■■■\u001b[0m\u001b[33m■■■■\u001b[0mtotal_compressed_size = 1303\n",
            "\u001b[31m■■■■\u001b[0m\u001b[33m■■■■\u001b[0m\u001b[32m■■■■\u001b[0m\u001b[34m■■■■\u001b[0m\u001b[31m■■■■\u001b[0m\u001b[33m■■■■\u001b[0mdata_page_offset = 4\n",
            "\u001b[31m■■■■\u001b[0m\u001b[33m■■■■\u001b[0m\u001b[32m■■■■\u001b[0m\u001b[34m■■■■\u001b[0m\u001b[31m■■■■\u001b[0m\u001b[33m■■■■\u001b[0mstatistics = Statistics\n",
            "\u001b[31m■■■■\u001b[0m\u001b[33m■■■■\u001b[0m\u001b[32m■■■■\u001b[0m\u001b[34m■■■■\u001b[0m\u001b[31m■■■■\u001b[0m\u001b[33m■■■■\u001b[0m\u001b[32m■■■■\u001b[0mmax_value = b'S000004991'\n",
            "\u001b[31m■■■■\u001b[0m\u001b[33m■■■■\u001b[0m\u001b[32m■■■■\u001b[0m\u001b[34m■■■■\u001b[0m\u001b[31m■■■■\u001b[0m\u001b[33m■■■■\u001b[0m\u001b[32m■■■■\u001b[0mmin_value = b'S000000015'\n",
            "\u001b[31m■■■■\u001b[0m\u001b[33m■■■■\u001b[0m\u001b[32m■■■■\u001b[0m\u001b[34m■■■■\u001b[0m\u001b[31m■■■■\u001b[0m\u001b[33m■■■■\u001b[0mencoding_stats = list\n",
            "\u001b[31m■■■■\u001b[0m\u001b[33m■■■■\u001b[0m\u001b[32m■■■■\u001b[0m\u001b[34m■■■■\u001b[0m\u001b[31m■■■■\u001b[0m\u001b[33m■■■■\u001b[0m\u001b[32m■■■■\u001b[0mPageEncodingStats\n",
            "\u001b[31m■■■■\u001b[0m\u001b[33m■■■■\u001b[0m\u001b[32m■■■■\u001b[0m\u001b[34m■■■■\u001b[0m\u001b[31m■■■■\u001b[0m\u001b[33m■■■■\u001b[0m\u001b[32m■■■■\u001b[0m\u001b[34m■■■■\u001b[0mcount = 1\n",
            "\u001b[31m■■■■\u001b[0m\u001b[33m■■■■\u001b[0m\u001b[32m■■■■\u001b[0m\u001b[34m■■■■\u001b[0m\u001b[31m■■■■\u001b[0moffset_index_offset = 4296\n",
            "\u001b[31m■■■■\u001b[0m\u001b[33m■■■■\u001b[0m\u001b[32m■■■■\u001b[0m\u001b[34m■■■■\u001b[0m\u001b[31m■■■■\u001b[0moffset_index_length = 11\n",
            "\u001b[31m■■■■\u001b[0m\u001b[33m■■■■\u001b[0m\u001b[32m■■■■\u001b[0m\u001b[34m■■■■\u001b[0m\u001b[31m■■■■\u001b[0mcolumn_index_offset = 3888\n",
            "\u001b[31m■■■■\u001b[0m\u001b[33m■■■■\u001b[0m\u001b[32m■■■■\u001b[0m\u001b[34m■■■■\u001b[0m\u001b[31m■■■■\u001b[0mcolumn_index_length = 35\n",
            "\u001b[31m■■■■\u001b[0m\u001b[33m■■■■\u001b[0m\u001b[32m■■■■\u001b[0m\u001b[34m■■■■\u001b[0mColumnChunk\n",
            "\u001b[31m■■■■\u001b[0m\u001b[33m■■■■\u001b[0m\u001b[32m■■■■\u001b[0m\u001b[34m■■■■\u001b[0m\u001b[31m■■■■\u001b[0mfile_offset = 1352\n",
            "\u001b[31m■■■■\u001b[0m\u001b[33m■■■■\u001b[0m\u001b[32m■■■■\u001b[0m\u001b[34m■■■■\u001b[0m\u001b[31m■■■■\u001b[0mmeta_data = ColumnMetaData\n",
            "\u001b[31m■■■■\u001b[0m\u001b[33m■■■■\u001b[0m\u001b[32m■■■■\u001b[0m\u001b[34m■■■■\u001b[0m\u001b[31m■■■■\u001b[0m\u001b[33m■■■■\u001b[0mtype = 1\n",
            "\u001b[31m■■■■\u001b[0m\u001b[33m■■■■\u001b[0m\u001b[32m■■■■\u001b[0m\u001b[34m■■■■\u001b[0m\u001b[31m■■■■\u001b[0m\u001b[33m■■■■\u001b[0mencodings = list\n",
            "\u001b[31m■■■■\u001b[0m\u001b[33m■■■■\u001b[0m\u001b[32m■■■■\u001b[0m\u001b[34m■■■■\u001b[0m\u001b[31m■■■■\u001b[0m\u001b[33m■■■■\u001b[0m\u001b[32m■■■■\u001b[0m4\n",
            "\u001b[31m■■■■\u001b[0m\u001b[33m■■■■\u001b[0m\u001b[32m■■■■\u001b[0m\u001b[34m■■■■\u001b[0m\u001b[31m■■■■\u001b[0m\u001b[33m■■■■\u001b[0m\u001b[32m■■■■\u001b[0m2\n",
            "\u001b[31m■■■■\u001b[0m\u001b[33m■■■■\u001b[0m\u001b[32m■■■■\u001b[0m\u001b[34m■■■■\u001b[0m\u001b[31m■■■■\u001b[0m\u001b[33m■■■■\u001b[0m\u001b[32m■■■■\u001b[0m3\n",
            "\u001b[31m■■■■\u001b[0m\u001b[33m■■■■\u001b[0m\u001b[32m■■■■\u001b[0m\u001b[34m■■■■\u001b[0m\u001b[31m■■■■\u001b[0m\u001b[33m■■■■\u001b[0mpath_in_schema = list\n",
            "\u001b[31m■■■■\u001b[0m\u001b[33m■■■■\u001b[0m\u001b[32m■■■■\u001b[0m\u001b[34m■■■■\u001b[0m\u001b[31m■■■■\u001b[0m\u001b[33m■■■■\u001b[0m\u001b[32m■■■■\u001b[0msaledate\n",
            "\u001b[31m■■■■\u001b[0m\u001b[33m■■■■\u001b[0m\u001b[32m■■■■\u001b[0m\u001b[34m■■■■\u001b[0m\u001b[31m■■■■\u001b[0m\u001b[33m■■■■\u001b[0mcodec = 1\n",
            "\u001b[31m■■■■\u001b[0m\u001b[33m■■■■\u001b[0m\u001b[32m■■■■\u001b[0m\u001b[34m■■■■\u001b[0m\u001b[31m■■■■\u001b[0m\u001b[33m■■■■\u001b[0mnum_values = 250\n",
            "\u001b[31m■■■■\u001b[0m\u001b[33m■■■■\u001b[0m\u001b[32m■■■■\u001b[0m\u001b[34m■■■■\u001b[0m\u001b[31m■■■■\u001b[0m\u001b[33m■■■■\u001b[0mtotal_uncompressed_size = 173\n",
            "\u001b[31m■■■■\u001b[0m\u001b[33m■■■■\u001b[0m\u001b[32m■■■■\u001b[0m\u001b[34m■■■■\u001b[0m\u001b[31m■■■■\u001b[0m\u001b[33m■■■■\u001b[0mtotal_compressed_size = 103\n",
            "\u001b[31m■■■■\u001b[0m\u001b[33m■■■■\u001b[0m\u001b[32m■■■■\u001b[0m\u001b[34m■■■■\u001b[0m\u001b[31m■■■■\u001b[0m\u001b[33m■■■■\u001b[0mdata_page_offset = 1352\n",
            "\u001b[31m■■■■\u001b[0m\u001b[33m■■■■\u001b[0m\u001b[32m■■■■\u001b[0m\u001b[34m■■■■\u001b[0m\u001b[31m■■■■\u001b[0m\u001b[33m■■■■\u001b[0mdictionary_page_offset = 1307\n",
            "\u001b[31m■■■■\u001b[0m\u001b[33m■■■■\u001b[0m\u001b[32m■■■■\u001b[0m\u001b[34m■■■■\u001b[0m\u001b[31m■■■■\u001b[0m\u001b[33m■■■■\u001b[0mstatistics = Statistics\n",
            "\u001b[31m■■■■\u001b[0m\u001b[33m■■■■\u001b[0m\u001b[32m■■■■\u001b[0m\u001b[34m■■■■\u001b[0m\u001b[31m■■■■\u001b[0m\u001b[33m■■■■\u001b[0m\u001b[32m■■■■\u001b[0mmax = b'\\xcbK\\x00\\x00'\n",
            "\u001b[31m■■■■\u001b[0m\u001b[33m■■■■\u001b[0m\u001b[32m■■■■\u001b[0m\u001b[34m■■■■\u001b[0m\u001b[31m■■■■\u001b[0m\u001b[33m■■■■\u001b[0m\u001b[32m■■■■\u001b[0mmin = b'kK\\x00\\x00'\n",
            "\u001b[31m■■■■\u001b[0m\u001b[33m■■■■\u001b[0m\u001b[32m■■■■\u001b[0m\u001b[34m■■■■\u001b[0m\u001b[31m■■■■\u001b[0m\u001b[33m■■■■\u001b[0m\u001b[32m■■■■\u001b[0mmax_value = b'\\xcbK\\x00\\x00'\n",
            "\u001b[31m■■■■\u001b[0m\u001b[33m■■■■\u001b[0m\u001b[32m■■■■\u001b[0m\u001b[34m■■■■\u001b[0m\u001b[31m■■■■\u001b[0m\u001b[33m■■■■\u001b[0m\u001b[32m■■■■\u001b[0mmin_value = b'kK\\x00\\x00'\n",
            "\u001b[31m■■■■\u001b[0m\u001b[33m■■■■\u001b[0m\u001b[32m■■■■\u001b[0m\u001b[34m■■■■\u001b[0m\u001b[31m■■■■\u001b[0m\u001b[33m■■■■\u001b[0mencoding_stats = list\n",
            "\u001b[31m■■■■\u001b[0m\u001b[33m■■■■\u001b[0m\u001b[32m■■■■\u001b[0m\u001b[34m■■■■\u001b[0m\u001b[31m■■■■\u001b[0m\u001b[33m■■■■\u001b[0m\u001b[32m■■■■\u001b[0mPageEncodingStats\n",
            "\u001b[31m■■■■\u001b[0m\u001b[33m■■■■\u001b[0m\u001b[32m■■■■\u001b[0m\u001b[34m■■■■\u001b[0m\u001b[31m■■■■\u001b[0m\u001b[33m■■■■\u001b[0m\u001b[32m■■■■\u001b[0m\u001b[34m■■■■\u001b[0mpage_type = 2\n",
            "\u001b[31m■■■■\u001b[0m\u001b[33m■■■■\u001b[0m\u001b[32m■■■■\u001b[0m\u001b[34m■■■■\u001b[0m\u001b[31m■■■■\u001b[0m\u001b[33m■■■■\u001b[0m\u001b[32m■■■■\u001b[0m\u001b[34m■■■■\u001b[0mencoding = 2\n",
            "\u001b[31m■■■■\u001b[0m\u001b[33m■■■■\u001b[0m\u001b[32m■■■■\u001b[0m\u001b[34m■■■■\u001b[0m\u001b[31m■■■■\u001b[0m\u001b[33m■■■■\u001b[0m\u001b[32m■■■■\u001b[0m\u001b[34m■■■■\u001b[0mcount = 1\n",
            "\u001b[31m■■■■\u001b[0m\u001b[33m■■■■\u001b[0m\u001b[32m■■■■\u001b[0m\u001b[34m■■■■\u001b[0m\u001b[31m■■■■\u001b[0m\u001b[33m■■■■\u001b[0m\u001b[32m■■■■\u001b[0mPageEncodingStats\n",
            "\u001b[31m■■■■\u001b[0m\u001b[33m■■■■\u001b[0m\u001b[32m■■■■\u001b[0m\u001b[34m■■■■\u001b[0m\u001b[31m■■■■\u001b[0m\u001b[33m■■■■\u001b[0m\u001b[32m■■■■\u001b[0m\u001b[34m■■■■\u001b[0mencoding = 2\n",
            "\u001b[31m■■■■\u001b[0m\u001b[33m■■■■\u001b[0m\u001b[32m■■■■\u001b[0m\u001b[34m■■■■\u001b[0m\u001b[31m■■■■\u001b[0m\u001b[33m■■■■\u001b[0m\u001b[32m■■■■\u001b[0m\u001b[34m■■■■\u001b[0mcount = 1\n",
            "\u001b[31m■■■■\u001b[0m\u001b[33m■■■■\u001b[0m\u001b[32m■■■■\u001b[0m\u001b[34m■■■■\u001b[0m\u001b[31m■■■■\u001b[0moffset_index_offset = 4307\n",
            "\u001b[31m■■■■\u001b[0m\u001b[33m■■■■\u001b[0m\u001b[32m■■■■\u001b[0m\u001b[34m■■■■\u001b[0m\u001b[31m■■■■\u001b[0moffset_index_length = 11\n",
            "\u001b[31m■■■■\u001b[0m\u001b[33m■■■■\u001b[0m\u001b[32m■■■■\u001b[0m\u001b[34m■■■■\u001b[0m\u001b[31m■■■■\u001b[0mcolumn_index_offset = 3923\n",
            "\u001b[31m■■■■\u001b[0m\u001b[33m■■■■\u001b[0m\u001b[32m■■■■\u001b[0m\u001b[34m■■■■\u001b[0m\u001b[31m■■■■\u001b[0mcolumn_index_length = 23\n",
            "\u001b[31m■■■■\u001b[0m\u001b[33m■■■■\u001b[0m\u001b[32m■■■■\u001b[0m\u001b[34m■■■■\u001b[0mColumnChunk\n",
            "\u001b[31m■■■■\u001b[0m\u001b[33m■■■■\u001b[0m\u001b[32m■■■■\u001b[0m\u001b[34m■■■■\u001b[0m\u001b[31m■■■■\u001b[0mfile_offset = 1459\n",
            "\u001b[31m■■■■\u001b[0m\u001b[33m■■■■\u001b[0m\u001b[32m■■■■\u001b[0m\u001b[34m■■■■\u001b[0m\u001b[31m■■■■\u001b[0mmeta_data = ColumnMetaData\n",
            "\u001b[31m■■■■\u001b[0m\u001b[33m■■■■\u001b[0m\u001b[32m■■■■\u001b[0m\u001b[34m■■■■\u001b[0m\u001b[31m■■■■\u001b[0m\u001b[33m■■■■\u001b[0mtype = 5\n",
            "\u001b[31m■■■■\u001b[0m\u001b[33m■■■■\u001b[0m\u001b[32m■■■■\u001b[0m\u001b[34m■■■■\u001b[0m\u001b[31m■■■■\u001b[0m\u001b[33m■■■■\u001b[0mencodings = list\n",
            "\u001b[31m■■■■\u001b[0m\u001b[33m■■■■\u001b[0m\u001b[32m■■■■\u001b[0m\u001b[34m■■■■\u001b[0m\u001b[31m■■■■\u001b[0m\u001b[33m■■■■\u001b[0m\u001b[32m■■■■\u001b[0m4\n",
            "\u001b[31m■■■■\u001b[0m\u001b[33m■■■■\u001b[0m\u001b[32m■■■■\u001b[0m\u001b[34m■■■■\u001b[0m\u001b[31m■■■■\u001b[0m\u001b[33m■■■■\u001b[0m\u001b[32m■■■■\u001b[0m2\n",
            "\u001b[31m■■■■\u001b[0m\u001b[33m■■■■\u001b[0m\u001b[32m■■■■\u001b[0m\u001b[34m■■■■\u001b[0m\u001b[31m■■■■\u001b[0m\u001b[33m■■■■\u001b[0m\u001b[32m■■■■\u001b[0m3\n",
            "\u001b[31m■■■■\u001b[0m\u001b[33m■■■■\u001b[0m\u001b[32m■■■■\u001b[0m\u001b[34m■■■■\u001b[0m\u001b[31m■■■■\u001b[0m\u001b[33m■■■■\u001b[0mpath_in_schema = list\n",
            "\u001b[31m■■■■\u001b[0m\u001b[33m■■■■\u001b[0m\u001b[32m■■■■\u001b[0m\u001b[34m■■■■\u001b[0m\u001b[31m■■■■\u001b[0m\u001b[33m■■■■\u001b[0m\u001b[32m■■■■\u001b[0mquantity\n",
            "\u001b[31m■■■■\u001b[0m\u001b[33m■■■■\u001b[0m\u001b[32m■■■■\u001b[0m\u001b[34m■■■■\u001b[0m\u001b[31m■■■■\u001b[0m\u001b[33m■■■■\u001b[0mcodec = 1\n",
            "\u001b[31m■■■■\u001b[0m\u001b[33m■■■■\u001b[0m\u001b[32m■■■■\u001b[0m\u001b[34m■■■■\u001b[0m\u001b[31m■■■■\u001b[0m\u001b[33m■■■■\u001b[0mnum_values = 250\n",
            "\u001b[31m■■■■\u001b[0m\u001b[33m■■■■\u001b[0m\u001b[32m■■■■\u001b[0m\u001b[34m■■■■\u001b[0m\u001b[31m■■■■\u001b[0m\u001b[33m■■■■\u001b[0mtotal_uncompressed_size = 149\n",
            "\u001b[31m■■■■\u001b[0m\u001b[33m■■■■\u001b[0m\u001b[32m■■■■\u001b[0m\u001b[34m■■■■\u001b[0m\u001b[31m■■■■\u001b[0m\u001b[33m■■■■\u001b[0mtotal_compressed_size = 109\n",
            "\u001b[31m■■■■\u001b[0m\u001b[33m■■■■\u001b[0m\u001b[32m■■■■\u001b[0m\u001b[34m■■■■\u001b[0m\u001b[31m■■■■\u001b[0m\u001b[33m■■■■\u001b[0mdata_page_offset = 1459\n",
            "\u001b[31m■■■■\u001b[0m\u001b[33m■■■■\u001b[0m\u001b[32m■■■■\u001b[0m\u001b[34m■■■■\u001b[0m\u001b[31m■■■■\u001b[0m\u001b[33m■■■■\u001b[0mdictionary_page_offset = 1410\n",
            "\u001b[31m■■■■\u001b[0m\u001b[33m■■■■\u001b[0m\u001b[32m■■■■\u001b[0m\u001b[34m■■■■\u001b[0m\u001b[31m■■■■\u001b[0m\u001b[33m■■■■\u001b[0mstatistics = Statistics\n",
            "\u001b[31m■■■■\u001b[0m\u001b[33m■■■■\u001b[0m\u001b[32m■■■■\u001b[0m\u001b[34m■■■■\u001b[0m\u001b[31m■■■■\u001b[0m\u001b[33m■■■■\u001b[0m\u001b[32m■■■■\u001b[0mmax = b'\\x00\\x00\\x00\\x00\\x00\\x00\\x10@'\n",
            "\u001b[31m■■■■\u001b[0m\u001b[33m■■■■\u001b[0m\u001b[32m■■■■\u001b[0m\u001b[34m■■■■\u001b[0m\u001b[31m■■■■\u001b[0m\u001b[33m■■■■\u001b[0m\u001b[32m■■■■\u001b[0mmin = b'\\x00\\x00\\x00\\x00\\x00\\x00\\xf0?'\n",
            "\u001b[31m■■■■\u001b[0m\u001b[33m■■■■\u001b[0m\u001b[32m■■■■\u001b[0m\u001b[34m■■■■\u001b[0m\u001b[31m■■■■\u001b[0m\u001b[33m■■■■\u001b[0m\u001b[32m■■■■\u001b[0mmax_value = b'\\x00\\x00\\x00\\x00\\x00\\x00\\x10@'\n",
            "\u001b[31m■■■■\u001b[0m\u001b[33m■■■■\u001b[0m\u001b[32m■■■■\u001b[0m\u001b[34m■■■■\u001b[0m\u001b[31m■■■■\u001b[0m\u001b[33m■■■■\u001b[0m\u001b[32m■■■■\u001b[0mmin_value = b'\\x00\\x00\\x00\\x00\\x00\\x00\\xf0?'\n",
            "\u001b[31m■■■■\u001b[0m\u001b[33m■■■■\u001b[0m\u001b[32m■■■■\u001b[0m\u001b[34m■■■■\u001b[0m\u001b[31m■■■■\u001b[0m\u001b[33m■■■■\u001b[0mencoding_stats = list\n",
            "\u001b[31m■■■■\u001b[0m\u001b[33m■■■■\u001b[0m\u001b[32m■■■■\u001b[0m\u001b[34m■■■■\u001b[0m\u001b[31m■■■■\u001b[0m\u001b[33m■■■■\u001b[0m\u001b[32m■■■■\u001b[0mPageEncodingStats\n",
            "\u001b[31m■■■■\u001b[0m\u001b[33m■■■■\u001b[0m\u001b[32m■■■■\u001b[0m\u001b[34m■■■■\u001b[0m\u001b[31m■■■■\u001b[0m\u001b[33m■■■■\u001b[0m\u001b[32m■■■■\u001b[0m\u001b[34m■■■■\u001b[0mpage_type = 2\n",
            "\u001b[31m■■■■\u001b[0m\u001b[33m■■■■\u001b[0m\u001b[32m■■■■\u001b[0m\u001b[34m■■■■\u001b[0m\u001b[31m■■■■\u001b[0m\u001b[33m■■■■\u001b[0m\u001b[32m■■■■\u001b[0m\u001b[34m■■■■\u001b[0mencoding = 2\n",
            "\u001b[31m■■■■\u001b[0m\u001b[33m■■■■\u001b[0m\u001b[32m■■■■\u001b[0m\u001b[34m■■■■\u001b[0m\u001b[31m■■■■\u001b[0m\u001b[33m■■■■\u001b[0m\u001b[32m■■■■\u001b[0m\u001b[34m■■■■\u001b[0mcount = 1\n",
            "\u001b[31m■■■■\u001b[0m\u001b[33m■■■■\u001b[0m\u001b[32m■■■■\u001b[0m\u001b[34m■■■■\u001b[0m\u001b[31m■■■■\u001b[0m\u001b[33m■■■■\u001b[0m\u001b[32m■■■■\u001b[0mPageEncodingStats\n",
            "\u001b[31m■■■■\u001b[0m\u001b[33m■■■■\u001b[0m\u001b[32m■■■■\u001b[0m\u001b[34m■■■■\u001b[0m\u001b[31m■■■■\u001b[0m\u001b[33m■■■■\u001b[0m\u001b[32m■■■■\u001b[0m\u001b[34m■■■■\u001b[0mencoding = 2\n",
            "\u001b[31m■■■■\u001b[0m\u001b[33m■■■■\u001b[0m\u001b[32m■■■■\u001b[0m\u001b[34m■■■■\u001b[0m\u001b[31m■■■■\u001b[0m\u001b[33m■■■■\u001b[0m\u001b[32m■■■■\u001b[0m\u001b[34m■■■■\u001b[0mcount = 1\n",
            "\u001b[31m■■■■\u001b[0m\u001b[33m■■■■\u001b[0m\u001b[32m■■■■\u001b[0m\u001b[34m■■■■\u001b[0m\u001b[31m■■■■\u001b[0moffset_index_offset = 4318\n",
            "\u001b[31m■■■■\u001b[0m\u001b[33m■■■■\u001b[0m\u001b[32m■■■■\u001b[0m\u001b[34m■■■■\u001b[0m\u001b[31m■■■■\u001b[0moffset_index_length = 11\n",
            "\u001b[31m■■■■\u001b[0m\u001b[33m■■■■\u001b[0m\u001b[32m■■■■\u001b[0m\u001b[34m■■■■\u001b[0m\u001b[31m■■■■\u001b[0mcolumn_index_offset = 3946\n",
            "\u001b[31m■■■■\u001b[0m\u001b[33m■■■■\u001b[0m\u001b[32m■■■■\u001b[0m\u001b[34m■■■■\u001b[0m\u001b[31m■■■■\u001b[0mcolumn_index_length = 31\n",
            "\u001b[31m■■■■\u001b[0m\u001b[33m■■■■\u001b[0m\u001b[32m■■■■\u001b[0m\u001b[34m■■■■\u001b[0mColumnChunk\n",
            "\u001b[31m■■■■\u001b[0m\u001b[33m■■■■\u001b[0m\u001b[32m■■■■\u001b[0m\u001b[34m■■■■\u001b[0m\u001b[31m■■■■\u001b[0mfile_offset = 1605\n",
            "\u001b[31m■■■■\u001b[0m\u001b[33m■■■■\u001b[0m\u001b[32m■■■■\u001b[0m\u001b[34m■■■■\u001b[0m\u001b[31m■■■■\u001b[0mmeta_data = ColumnMetaData\n",
            "\u001b[31m■■■■\u001b[0m\u001b[33m■■■■\u001b[0m\u001b[32m■■■■\u001b[0m\u001b[34m■■■■\u001b[0m\u001b[31m■■■■\u001b[0m\u001b[33m■■■■\u001b[0mtype = 5\n",
            "\u001b[31m■■■■\u001b[0m\u001b[33m■■■■\u001b[0m\u001b[32m■■■■\u001b[0m\u001b[34m■■■■\u001b[0m\u001b[31m■■■■\u001b[0m\u001b[33m■■■■\u001b[0mencodings = list\n",
            "\u001b[31m■■■■\u001b[0m\u001b[33m■■■■\u001b[0m\u001b[32m■■■■\u001b[0m\u001b[34m■■■■\u001b[0m\u001b[31m■■■■\u001b[0m\u001b[33m■■■■\u001b[0m\u001b[32m■■■■\u001b[0m4\n",
            "\u001b[31m■■■■\u001b[0m\u001b[33m■■■■\u001b[0m\u001b[32m■■■■\u001b[0m\u001b[34m■■■■\u001b[0m\u001b[31m■■■■\u001b[0m\u001b[33m■■■■\u001b[0m\u001b[32m■■■■\u001b[0m2\n",
            "\u001b[31m■■■■\u001b[0m\u001b[33m■■■■\u001b[0m\u001b[32m■■■■\u001b[0m\u001b[34m■■■■\u001b[0m\u001b[31m■■■■\u001b[0m\u001b[33m■■■■\u001b[0m\u001b[32m■■■■\u001b[0m3\n",
            "\u001b[31m■■■■\u001b[0m\u001b[33m■■■■\u001b[0m\u001b[32m■■■■\u001b[0m\u001b[34m■■■■\u001b[0m\u001b[31m■■■■\u001b[0m\u001b[33m■■■■\u001b[0mpath_in_schema = list\n",
            "\u001b[31m■■■■\u001b[0m\u001b[33m■■■■\u001b[0m\u001b[32m■■■■\u001b[0m\u001b[34m■■■■\u001b[0m\u001b[31m■■■■\u001b[0m\u001b[33m■■■■\u001b[0m\u001b[32m■■■■\u001b[0munitprice\n",
            "\u001b[31m■■■■\u001b[0m\u001b[33m■■■■\u001b[0m\u001b[32m■■■■\u001b[0m\u001b[34m■■■■\u001b[0m\u001b[31m■■■■\u001b[0m\u001b[33m■■■■\u001b[0mcodec = 1\n",
            "\u001b[31m■■■■\u001b[0m\u001b[33m■■■■\u001b[0m\u001b[32m■■■■\u001b[0m\u001b[34m■■■■\u001b[0m\u001b[31m■■■■\u001b[0m\u001b[33m■■■■\u001b[0mnum_values = 250\n",
            "\u001b[31m■■■■\u001b[0m\u001b[33m■■■■\u001b[0m\u001b[32m■■■■\u001b[0m\u001b[34m■■■■\u001b[0m\u001b[31m■■■■\u001b[0m\u001b[33m■■■■\u001b[0mtotal_uncompressed_size = 280\n",
            "\u001b[31m■■■■\u001b[0m\u001b[33m■■■■\u001b[0m\u001b[32m■■■■\u001b[0m\u001b[34m■■■■\u001b[0m\u001b[31m■■■■\u001b[0m\u001b[33m■■■■\u001b[0mtotal_compressed_size = 196\n",
            "\u001b[31m■■■■\u001b[0m\u001b[33m■■■■\u001b[0m\u001b[32m■■■■\u001b[0m\u001b[34m■■■■\u001b[0m\u001b[31m■■■■\u001b[0m\u001b[33m■■■■\u001b[0mdata_page_offset = 1605\n",
            "\u001b[31m■■■■\u001b[0m\u001b[33m■■■■\u001b[0m\u001b[32m■■■■\u001b[0m\u001b[34m■■■■\u001b[0m\u001b[31m■■■■\u001b[0m\u001b[33m■■■■\u001b[0mdictionary_page_offset = 1519\n",
            "\u001b[31m■■■■\u001b[0m\u001b[33m■■■■\u001b[0m\u001b[32m■■■■\u001b[0m\u001b[34m■■■■\u001b[0m\u001b[31m■■■■\u001b[0m\u001b[33m■■■■\u001b[0mstatistics = Statistics\n",
            "\u001b[31m■■■■\u001b[0m\u001b[33m■■■■\u001b[0m\u001b[32m■■■■\u001b[0m\u001b[34m■■■■\u001b[0m\u001b[31m■■■■\u001b[0m\u001b[33m■■■■\u001b[0m\u001b[32m■■■■\u001b[0mmax = b'\\x00\\x00\\x00\\x00\\x00\\x80{@'\n",
            "\u001b[31m■■■■\u001b[0m\u001b[33m■■■■\u001b[0m\u001b[32m■■■■\u001b[0m\u001b[34m■■■■\u001b[0m\u001b[31m■■■■\u001b[0m\u001b[33m■■■■\u001b[0m\u001b[32m■■■■\u001b[0mmin = b'\\x00\\x00\\x00\\x00\\x00\\x004@'\n",
            "\u001b[31m■■■■\u001b[0m\u001b[33m■■■■\u001b[0m\u001b[32m■■■■\u001b[0m\u001b[34m■■■■\u001b[0m\u001b[31m■■■■\u001b[0m\u001b[33m■■■■\u001b[0m\u001b[32m■■■■\u001b[0mmax_value = b'\\x00\\x00\\x00\\x00\\x00\\x80{@'\n",
            "\u001b[31m■■■■\u001b[0m\u001b[33m■■■■\u001b[0m\u001b[32m■■■■\u001b[0m\u001b[34m■■■■\u001b[0m\u001b[31m■■■■\u001b[0m\u001b[33m■■■■\u001b[0m\u001b[32m■■■■\u001b[0mmin_value = b'\\x00\\x00\\x00\\x00\\x00\\x004@'\n",
            "\u001b[31m■■■■\u001b[0m\u001b[33m■■■■\u001b[0m\u001b[32m■■■■\u001b[0m\u001b[34m■■■■\u001b[0m\u001b[31m■■■■\u001b[0m\u001b[33m■■■■\u001b[0mencoding_stats = list\n",
            "\u001b[31m■■■■\u001b[0m\u001b[33m■■■■\u001b[0m\u001b[32m■■■■\u001b[0m\u001b[34m■■■■\u001b[0m\u001b[31m■■■■\u001b[0m\u001b[33m■■■■\u001b[0m\u001b[32m■■■■\u001b[0mPageEncodingStats\n",
            "\u001b[31m■■■■\u001b[0m\u001b[33m■■■■\u001b[0m\u001b[32m■■■■\u001b[0m\u001b[34m■■■■\u001b[0m\u001b[31m■■■■\u001b[0m\u001b[33m■■■■\u001b[0m\u001b[32m■■■■\u001b[0m\u001b[34m■■■■\u001b[0mpage_type = 2\n",
            "\u001b[31m■■■■\u001b[0m\u001b[33m■■■■\u001b[0m\u001b[32m■■■■\u001b[0m\u001b[34m■■■■\u001b[0m\u001b[31m■■■■\u001b[0m\u001b[33m■■■■\u001b[0m\u001b[32m■■■■\u001b[0m\u001b[34m■■■■\u001b[0mencoding = 2\n",
            "\u001b[31m■■■■\u001b[0m\u001b[33m■■■■\u001b[0m\u001b[32m■■■■\u001b[0m\u001b[34m■■■■\u001b[0m\u001b[31m■■■■\u001b[0m\u001b[33m■■■■\u001b[0m\u001b[32m■■■■\u001b[0m\u001b[34m■■■■\u001b[0mcount = 1\n",
            "\u001b[31m■■■■\u001b[0m\u001b[33m■■■■\u001b[0m\u001b[32m■■■■\u001b[0m\u001b[34m■■■■\u001b[0m\u001b[31m■■■■\u001b[0m\u001b[33m■■■■\u001b[0m\u001b[32m■■■■\u001b[0mPageEncodingStats\n",
            "\u001b[31m■■■■\u001b[0m\u001b[33m■■■■\u001b[0m\u001b[32m■■■■\u001b[0m\u001b[34m■■■■\u001b[0m\u001b[31m■■■■\u001b[0m\u001b[33m■■■■\u001b[0m\u001b[32m■■■■\u001b[0m\u001b[34m■■■■\u001b[0mencoding = 2\n",
            "\u001b[31m■■■■\u001b[0m\u001b[33m■■■■\u001b[0m\u001b[32m■■■■\u001b[0m\u001b[34m■■■■\u001b[0m\u001b[31m■■■■\u001b[0m\u001b[33m■■■■\u001b[0m\u001b[32m■■■■\u001b[0m\u001b[34m■■■■\u001b[0mcount = 1\n",
            "\u001b[31m■■■■\u001b[0m\u001b[33m■■■■\u001b[0m\u001b[32m■■■■\u001b[0m\u001b[34m■■■■\u001b[0m\u001b[31m■■■■\u001b[0moffset_index_offset = 4329\n",
            "\u001b[31m■■■■\u001b[0m\u001b[33m■■■■\u001b[0m\u001b[32m■■■■\u001b[0m\u001b[34m■■■■\u001b[0m\u001b[31m■■■■\u001b[0moffset_index_length = 12\n",
            "\u001b[31m■■■■\u001b[0m\u001b[33m■■■■\u001b[0m\u001b[32m■■■■\u001b[0m\u001b[34m■■■■\u001b[0m\u001b[31m■■■■\u001b[0mcolumn_index_offset = 3977\n",
            "\u001b[31m■■■■\u001b[0m\u001b[33m■■■■\u001b[0m\u001b[32m■■■■\u001b[0m\u001b[34m■■■■\u001b[0m\u001b[31m■■■■\u001b[0mcolumn_index_length = 31\n",
            "\u001b[31m■■■■\u001b[0m\u001b[33m■■■■\u001b[0m\u001b[32m■■■■\u001b[0m\u001b[34m■■■■\u001b[0mColumnChunk\n",
            "\u001b[31m■■■■\u001b[0m\u001b[33m■■■■\u001b[0m\u001b[32m■■■■\u001b[0m\u001b[34m■■■■\u001b[0m\u001b[31m■■■■\u001b[0mfile_offset = 1758\n",
            "\u001b[31m■■■■\u001b[0m\u001b[33m■■■■\u001b[0m\u001b[32m■■■■\u001b[0m\u001b[34m■■■■\u001b[0m\u001b[31m■■■■\u001b[0mmeta_data = ColumnMetaData\n",
            "\u001b[31m■■■■\u001b[0m\u001b[33m■■■■\u001b[0m\u001b[32m■■■■\u001b[0m\u001b[34m■■■■\u001b[0m\u001b[31m■■■■\u001b[0m\u001b[33m■■■■\u001b[0mtype = 6\n",
            "\u001b[31m■■■■\u001b[0m\u001b[33m■■■■\u001b[0m\u001b[32m■■■■\u001b[0m\u001b[34m■■■■\u001b[0m\u001b[31m■■■■\u001b[0m\u001b[33m■■■■\u001b[0mencodings = list\n",
            "\u001b[31m■■■■\u001b[0m\u001b[33m■■■■\u001b[0m\u001b[32m■■■■\u001b[0m\u001b[34m■■■■\u001b[0m\u001b[31m■■■■\u001b[0m\u001b[33m■■■■\u001b[0m\u001b[32m■■■■\u001b[0m4\n",
            "\u001b[31m■■■■\u001b[0m\u001b[33m■■■■\u001b[0m\u001b[32m■■■■\u001b[0m\u001b[34m■■■■\u001b[0m\u001b[31m■■■■\u001b[0m\u001b[33m■■■■\u001b[0m\u001b[32m■■■■\u001b[0m2\n",
            "\u001b[31m■■■■\u001b[0m\u001b[33m■■■■\u001b[0m\u001b[32m■■■■\u001b[0m\u001b[34m■■■■\u001b[0m\u001b[31m■■■■\u001b[0m\u001b[33m■■■■\u001b[0m\u001b[32m■■■■\u001b[0m3\n",
            "\u001b[31m■■■■\u001b[0m\u001b[33m■■■■\u001b[0m\u001b[32m■■■■\u001b[0m\u001b[34m■■■■\u001b[0m\u001b[31m■■■■\u001b[0m\u001b[33m■■■■\u001b[0mpath_in_schema = list\n",
            "\u001b[31m■■■■\u001b[0m\u001b[33m■■■■\u001b[0m\u001b[32m■■■■\u001b[0m\u001b[34m■■■■\u001b[0m\u001b[31m■■■■\u001b[0m\u001b[33m■■■■\u001b[0m\u001b[32m■■■■\u001b[0mshopid\n",
            "\u001b[31m■■■■\u001b[0m\u001b[33m■■■■\u001b[0m\u001b[32m■■■■\u001b[0m\u001b[34m■■■■\u001b[0m\u001b[31m■■■■\u001b[0m\u001b[33m■■■■\u001b[0mcodec = 1\n",
            "\u001b[31m■■■■\u001b[0m\u001b[33m■■■■\u001b[0m\u001b[32m■■■■\u001b[0m\u001b[34m■■■■\u001b[0m\u001b[31m■■■■\u001b[0m\u001b[33m■■■■\u001b[0mnum_values = 250\n",
            "\u001b[31m■■■■\u001b[0m\u001b[33m■■■■\u001b[0m\u001b[32m■■■■\u001b[0m\u001b[34m■■■■\u001b[0m\u001b[31m■■■■\u001b[0m\u001b[33m■■■■\u001b[0mtotal_uncompressed_size = 106\n",
            "\u001b[31m■■■■\u001b[0m\u001b[33m■■■■\u001b[0m\u001b[32m■■■■\u001b[0m\u001b[34m■■■■\u001b[0m\u001b[31m■■■■\u001b[0m\u001b[33m■■■■\u001b[0mtotal_compressed_size = 86\n",
            "\u001b[31m■■■■\u001b[0m\u001b[33m■■■■\u001b[0m\u001b[32m■■■■\u001b[0m\u001b[34m■■■■\u001b[0m\u001b[31m■■■■\u001b[0m\u001b[33m■■■■\u001b[0mdata_page_offset = 1758\n",
            "\u001b[31m■■■■\u001b[0m\u001b[33m■■■■\u001b[0m\u001b[32m■■■■\u001b[0m\u001b[34m■■■■\u001b[0m\u001b[31m■■■■\u001b[0m\u001b[33m■■■■\u001b[0mdictionary_page_offset = 1715\n",
            "\u001b[31m■■■■\u001b[0m\u001b[33m■■■■\u001b[0m\u001b[32m■■■■\u001b[0m\u001b[34m■■■■\u001b[0m\u001b[31m■■■■\u001b[0m\u001b[33m■■■■\u001b[0mstatistics = Statistics\n",
            "\u001b[31m■■■■\u001b[0m\u001b[33m■■■■\u001b[0m\u001b[32m■■■■\u001b[0m\u001b[34m■■■■\u001b[0m\u001b[31m■■■■\u001b[0m\u001b[33m■■■■\u001b[0m\u001b[32m■■■■\u001b[0mmax_value = b'shop_31'\n",
            "\u001b[31m■■■■\u001b[0m\u001b[33m■■■■\u001b[0m\u001b[32m■■■■\u001b[0m\u001b[34m■■■■\u001b[0m\u001b[31m■■■■\u001b[0m\u001b[33m■■■■\u001b[0m\u001b[32m■■■■\u001b[0mmin_value = b'shop_15'\n",
            "\u001b[31m■■■■\u001b[0m\u001b[33m■■■■\u001b[0m\u001b[32m■■■■\u001b[0m\u001b[34m■■■■\u001b[0m\u001b[31m■■■■\u001b[0m\u001b[33m■■■■\u001b[0mencoding_stats = list\n",
            "\u001b[31m■■■■\u001b[0m\u001b[33m■■■■\u001b[0m\u001b[32m■■■■\u001b[0m\u001b[34m■■■■\u001b[0m\u001b[31m■■■■\u001b[0m\u001b[33m■■■■\u001b[0m\u001b[32m■■■■\u001b[0mPageEncodingStats\n",
            "\u001b[31m■■■■\u001b[0m\u001b[33m■■■■\u001b[0m\u001b[32m■■■■\u001b[0m\u001b[34m■■■■\u001b[0m\u001b[31m■■■■\u001b[0m\u001b[33m■■■■\u001b[0m\u001b[32m■■■■\u001b[0m\u001b[34m■■■■\u001b[0mpage_type = 2\n",
            "\u001b[31m■■■■\u001b[0m\u001b[33m■■■■\u001b[0m\u001b[32m■■■■\u001b[0m\u001b[34m■■■■\u001b[0m\u001b[31m■■■■\u001b[0m\u001b[33m■■■■\u001b[0m\u001b[32m■■■■\u001b[0m\u001b[34m■■■■\u001b[0mencoding = 2\n",
            "\u001b[31m■■■■\u001b[0m\u001b[33m■■■■\u001b[0m\u001b[32m■■■■\u001b[0m\u001b[34m■■■■\u001b[0m\u001b[31m■■■■\u001b[0m\u001b[33m■■■■\u001b[0m\u001b[32m■■■■\u001b[0m\u001b[34m■■■■\u001b[0mcount = 1\n",
            "\u001b[31m■■■■\u001b[0m\u001b[33m■■■■\u001b[0m\u001b[32m■■■■\u001b[0m\u001b[34m■■■■\u001b[0m\u001b[31m■■■■\u001b[0m\u001b[33m■■■■\u001b[0m\u001b[32m■■■■\u001b[0mPageEncodingStats\n",
            "\u001b[31m■■■■\u001b[0m\u001b[33m■■■■\u001b[0m\u001b[32m■■■■\u001b[0m\u001b[34m■■■■\u001b[0m\u001b[31m■■■■\u001b[0m\u001b[33m■■■■\u001b[0m\u001b[32m■■■■\u001b[0m\u001b[34m■■■■\u001b[0mencoding = 2\n",
            "\u001b[31m■■■■\u001b[0m\u001b[33m■■■■\u001b[0m\u001b[32m■■■■\u001b[0m\u001b[34m■■■■\u001b[0m\u001b[31m■■■■\u001b[0m\u001b[33m■■■■\u001b[0m\u001b[32m■■■■\u001b[0m\u001b[34m■■■■\u001b[0mcount = 1\n",
            "\u001b[31m■■■■\u001b[0m\u001b[33m■■■■\u001b[0m\u001b[32m■■■■\u001b[0m\u001b[34m■■■■\u001b[0m\u001b[31m■■■■\u001b[0moffset_index_offset = 4341\n",
            "\u001b[31m■■■■\u001b[0m\u001b[33m■■■■\u001b[0m\u001b[32m■■■■\u001b[0m\u001b[34m■■■■\u001b[0m\u001b[31m■■■■\u001b[0moffset_index_length = 11\n",
            "\u001b[31m■■■■\u001b[0m\u001b[33m■■■■\u001b[0m\u001b[32m■■■■\u001b[0m\u001b[34m■■■■\u001b[0m\u001b[31m■■■■\u001b[0mcolumn_index_offset = 4008\n",
            "\u001b[31m■■■■\u001b[0m\u001b[33m■■■■\u001b[0m\u001b[32m■■■■\u001b[0m\u001b[34m■■■■\u001b[0m\u001b[31m■■■■\u001b[0mcolumn_index_length = 29\n",
            "\u001b[31m■■■■\u001b[0m\u001b[33m■■■■\u001b[0m\u001b[32m■■■■\u001b[0m\u001b[34m■■■■\u001b[0mColumnChunk\n",
            "\u001b[31m■■■■\u001b[0m\u001b[33m■■■■\u001b[0m\u001b[32m■■■■\u001b[0m\u001b[34m■■■■\u001b[0m\u001b[31m■■■■\u001b[0mfile_offset = 1834\n",
            "\u001b[31m■■■■\u001b[0m\u001b[33m■■■■\u001b[0m\u001b[32m■■■■\u001b[0m\u001b[34m■■■■\u001b[0m\u001b[31m■■■■\u001b[0mmeta_data = ColumnMetaData\n",
            "\u001b[31m■■■■\u001b[0m\u001b[33m■■■■\u001b[0m\u001b[32m■■■■\u001b[0m\u001b[34m■■■■\u001b[0m\u001b[31m■■■■\u001b[0m\u001b[33m■■■■\u001b[0mtype = 6\n",
            "\u001b[31m■■■■\u001b[0m\u001b[33m■■■■\u001b[0m\u001b[32m■■■■\u001b[0m\u001b[34m■■■■\u001b[0m\u001b[31m■■■■\u001b[0m\u001b[33m■■■■\u001b[0mencodings = list\n",
            "\u001b[31m■■■■\u001b[0m\u001b[33m■■■■\u001b[0m\u001b[32m■■■■\u001b[0m\u001b[34m■■■■\u001b[0m\u001b[31m■■■■\u001b[0m\u001b[33m■■■■\u001b[0m\u001b[32m■■■■\u001b[0m4\n",
            "\u001b[31m■■■■\u001b[0m\u001b[33m■■■■\u001b[0m\u001b[32m■■■■\u001b[0m\u001b[34m■■■■\u001b[0m\u001b[31m■■■■\u001b[0m\u001b[33m■■■■\u001b[0m\u001b[32m■■■■\u001b[0m2\n",
            "\u001b[31m■■■■\u001b[0m\u001b[33m■■■■\u001b[0m\u001b[32m■■■■\u001b[0m\u001b[34m■■■■\u001b[0m\u001b[31m■■■■\u001b[0m\u001b[33m■■■■\u001b[0m\u001b[32m■■■■\u001b[0m3\n",
            "\u001b[31m■■■■\u001b[0m\u001b[33m■■■■\u001b[0m\u001b[32m■■■■\u001b[0m\u001b[34m■■■■\u001b[0m\u001b[31m■■■■\u001b[0m\u001b[33m■■■■\u001b[0mpath_in_schema = list\n",
            "\u001b[31m■■■■\u001b[0m\u001b[33m■■■■\u001b[0m\u001b[32m■■■■\u001b[0m\u001b[34m■■■■\u001b[0m\u001b[31m■■■■\u001b[0m\u001b[33m■■■■\u001b[0m\u001b[32m■■■■\u001b[0mstate\n",
            "\u001b[31m■■■■\u001b[0m\u001b[33m■■■■\u001b[0m\u001b[32m■■■■\u001b[0m\u001b[34m■■■■\u001b[0m\u001b[31m■■■■\u001b[0m\u001b[33m■■■■\u001b[0mcodec = 1\n",
            "\u001b[31m■■■■\u001b[0m\u001b[33m■■■■\u001b[0m\u001b[32m■■■■\u001b[0m\u001b[34m■■■■\u001b[0m\u001b[31m■■■■\u001b[0m\u001b[33m■■■■\u001b[0mnum_values = 250\n",
            "\u001b[31m■■■■\u001b[0m\u001b[33m■■■■\u001b[0m\u001b[32m■■■■\u001b[0m\u001b[34m■■■■\u001b[0m\u001b[31m■■■■\u001b[0m\u001b[33m■■■■\u001b[0mtotal_uncompressed_size = 65\n",
            "\u001b[31m■■■■\u001b[0m\u001b[33m■■■■\u001b[0m\u001b[32m■■■■\u001b[0m\u001b[34m■■■■\u001b[0m\u001b[31m■■■■\u001b[0m\u001b[33m■■■■\u001b[0mtotal_compressed_size = 69\n",
            "\u001b[31m■■■■\u001b[0m\u001b[33m■■■■\u001b[0m\u001b[32m■■■■\u001b[0m\u001b[34m■■■■\u001b[0m\u001b[31m■■■■\u001b[0m\u001b[33m■■■■\u001b[0mdata_page_offset = 1834\n",
            "\u001b[31m■■■■\u001b[0m\u001b[33m■■■■\u001b[0m\u001b[32m■■■■\u001b[0m\u001b[34m■■■■\u001b[0m\u001b[31m■■■■\u001b[0m\u001b[33m■■■■\u001b[0mdictionary_page_offset = 1801\n",
            "\u001b[31m■■■■\u001b[0m\u001b[33m■■■■\u001b[0m\u001b[32m■■■■\u001b[0m\u001b[34m■■■■\u001b[0m\u001b[31m■■■■\u001b[0m\u001b[33m■■■■\u001b[0mstatistics = Statistics\n",
            "\u001b[31m■■■■\u001b[0m\u001b[33m■■■■\u001b[0m\u001b[32m■■■■\u001b[0m\u001b[34m■■■■\u001b[0m\u001b[31m■■■■\u001b[0m\u001b[33m■■■■\u001b[0m\u001b[32m■■■■\u001b[0mmax = b'Lombardy'\n",
            "\u001b[31m■■■■\u001b[0m\u001b[33m■■■■\u001b[0m\u001b[32m■■■■\u001b[0m\u001b[34m■■■■\u001b[0m\u001b[31m■■■■\u001b[0m\u001b[33m■■■■\u001b[0m\u001b[32m■■■■\u001b[0mmin = b'Lombardy'\n",
            "\u001b[31m■■■■\u001b[0m\u001b[33m■■■■\u001b[0m\u001b[32m■■■■\u001b[0m\u001b[34m■■■■\u001b[0m\u001b[31m■■■■\u001b[0m\u001b[33m■■■■\u001b[0m\u001b[32m■■■■\u001b[0mmax_value = b'Lombardy'\n",
            "\u001b[31m■■■■\u001b[0m\u001b[33m■■■■\u001b[0m\u001b[32m■■■■\u001b[0m\u001b[34m■■■■\u001b[0m\u001b[31m■■■■\u001b[0m\u001b[33m■■■■\u001b[0m\u001b[32m■■■■\u001b[0mmin_value = b'Lombardy'\n",
            "\u001b[31m■■■■\u001b[0m\u001b[33m■■■■\u001b[0m\u001b[32m■■■■\u001b[0m\u001b[34m■■■■\u001b[0m\u001b[31m■■■■\u001b[0m\u001b[33m■■■■\u001b[0mencoding_stats = list\n",
            "\u001b[31m■■■■\u001b[0m\u001b[33m■■■■\u001b[0m\u001b[32m■■■■\u001b[0m\u001b[34m■■■■\u001b[0m\u001b[31m■■■■\u001b[0m\u001b[33m■■■■\u001b[0m\u001b[32m■■■■\u001b[0mPageEncodingStats\n",
            "\u001b[31m■■■■\u001b[0m\u001b[33m■■■■\u001b[0m\u001b[32m■■■■\u001b[0m\u001b[34m■■■■\u001b[0m\u001b[31m■■■■\u001b[0m\u001b[33m■■■■\u001b[0m\u001b[32m■■■■\u001b[0m\u001b[34m■■■■\u001b[0mpage_type = 2\n",
            "\u001b[31m■■■■\u001b[0m\u001b[33m■■■■\u001b[0m\u001b[32m■■■■\u001b[0m\u001b[34m■■■■\u001b[0m\u001b[31m■■■■\u001b[0m\u001b[33m■■■■\u001b[0m\u001b[32m■■■■\u001b[0m\u001b[34m■■■■\u001b[0mencoding = 2\n",
            "\u001b[31m■■■■\u001b[0m\u001b[33m■■■■\u001b[0m\u001b[32m■■■■\u001b[0m\u001b[34m■■■■\u001b[0m\u001b[31m■■■■\u001b[0m\u001b[33m■■■■\u001b[0m\u001b[32m■■■■\u001b[0m\u001b[34m■■■■\u001b[0mcount = 1\n",
            "\u001b[31m■■■■\u001b[0m\u001b[33m■■■■\u001b[0m\u001b[32m■■■■\u001b[0m\u001b[34m■■■■\u001b[0m\u001b[31m■■■■\u001b[0m\u001b[33m■■■■\u001b[0m\u001b[32m■■■■\u001b[0mPageEncodingStats\n",
            "\u001b[31m■■■■\u001b[0m\u001b[33m■■■■\u001b[0m\u001b[32m■■■■\u001b[0m\u001b[34m■■■■\u001b[0m\u001b[31m■■■■\u001b[0m\u001b[33m■■■■\u001b[0m\u001b[32m■■■■\u001b[0m\u001b[34m■■■■\u001b[0mencoding = 2\n",
            "\u001b[31m■■■■\u001b[0m\u001b[33m■■■■\u001b[0m\u001b[32m■■■■\u001b[0m\u001b[34m■■■■\u001b[0m\u001b[31m■■■■\u001b[0m\u001b[33m■■■■\u001b[0m\u001b[32m■■■■\u001b[0m\u001b[34m■■■■\u001b[0mcount = 1\n",
            "\u001b[31m■■■■\u001b[0m\u001b[33m■■■■\u001b[0m\u001b[32m■■■■\u001b[0m\u001b[34m■■■■\u001b[0m\u001b[31m■■■■\u001b[0moffset_index_offset = 4352\n",
            "\u001b[31m■■■■\u001b[0m\u001b[33m■■■■\u001b[0m\u001b[32m■■■■\u001b[0m\u001b[34m■■■■\u001b[0m\u001b[31m■■■■\u001b[0moffset_index_length = 11\n",
            "\u001b[31m■■■■\u001b[0m\u001b[33m■■■■\u001b[0m\u001b[32m■■■■\u001b[0m\u001b[34m■■■■\u001b[0m\u001b[31m■■■■\u001b[0mcolumn_index_offset = 4037\n",
            "\u001b[31m■■■■\u001b[0m\u001b[33m■■■■\u001b[0m\u001b[32m■■■■\u001b[0m\u001b[34m■■■■\u001b[0m\u001b[31m■■■■\u001b[0mcolumn_index_length = 31\n",
            "\u001b[31m■■■■\u001b[0m\u001b[33m■■■■\u001b[0m\u001b[32m■■■■\u001b[0m\u001b[34m■■■■\u001b[0mColumnChunk\n",
            "\u001b[31m■■■■\u001b[0m\u001b[33m■■■■\u001b[0m\u001b[32m■■■■\u001b[0m\u001b[34m■■■■\u001b[0m\u001b[31m■■■■\u001b[0mfile_offset = 1900\n",
            "\u001b[31m■■■■\u001b[0m\u001b[33m■■■■\u001b[0m\u001b[32m■■■■\u001b[0m\u001b[34m■■■■\u001b[0m\u001b[31m■■■■\u001b[0mmeta_data = ColumnMetaData\n",
            "\u001b[31m■■■■\u001b[0m\u001b[33m■■■■\u001b[0m\u001b[32m■■■■\u001b[0m\u001b[34m■■■■\u001b[0m\u001b[31m■■■■\u001b[0m\u001b[33m■■■■\u001b[0mtype = 6\n",
            "\u001b[31m■■■■\u001b[0m\u001b[33m■■■■\u001b[0m\u001b[32m■■■■\u001b[0m\u001b[34m■■■■\u001b[0m\u001b[31m■■■■\u001b[0m\u001b[33m■■■■\u001b[0mencodings = list\n",
            "\u001b[31m■■■■\u001b[0m\u001b[33m■■■■\u001b[0m\u001b[32m■■■■\u001b[0m\u001b[34m■■■■\u001b[0m\u001b[31m■■■■\u001b[0m\u001b[33m■■■■\u001b[0m\u001b[32m■■■■\u001b[0m4\n",
            "\u001b[31m■■■■\u001b[0m\u001b[33m■■■■\u001b[0m\u001b[32m■■■■\u001b[0m\u001b[34m■■■■\u001b[0m\u001b[31m■■■■\u001b[0m\u001b[33m■■■■\u001b[0m\u001b[32m■■■■\u001b[0m2\n",
            "\u001b[31m■■■■\u001b[0m\u001b[33m■■■■\u001b[0m\u001b[32m■■■■\u001b[0m\u001b[34m■■■■\u001b[0m\u001b[31m■■■■\u001b[0m\u001b[33m■■■■\u001b[0m\u001b[32m■■■■\u001b[0m3\n",
            "\u001b[31m■■■■\u001b[0m\u001b[33m■■■■\u001b[0m\u001b[32m■■■■\u001b[0m\u001b[34m■■■■\u001b[0m\u001b[31m■■■■\u001b[0m\u001b[33m■■■■\u001b[0mpath_in_schema = list\n",
            "\u001b[31m■■■■\u001b[0m\u001b[33m■■■■\u001b[0m\u001b[32m■■■■\u001b[0m\u001b[34m■■■■\u001b[0m\u001b[31m■■■■\u001b[0m\u001b[33m■■■■\u001b[0m\u001b[32m■■■■\u001b[0mcountry\n",
            "\u001b[31m■■■■\u001b[0m\u001b[33m■■■■\u001b[0m\u001b[32m■■■■\u001b[0m\u001b[34m■■■■\u001b[0m\u001b[31m■■■■\u001b[0m\u001b[33m■■■■\u001b[0mcodec = 1\n",
            "\u001b[31m■■■■\u001b[0m\u001b[33m■■■■\u001b[0m\u001b[32m■■■■\u001b[0m\u001b[34m■■■■\u001b[0m\u001b[31m■■■■\u001b[0m\u001b[33m■■■■\u001b[0mnum_values = 250\n",
            "\u001b[31m■■■■\u001b[0m\u001b[33m■■■■\u001b[0m\u001b[32m■■■■\u001b[0m\u001b[34m■■■■\u001b[0m\u001b[31m■■■■\u001b[0m\u001b[33m■■■■\u001b[0mtotal_uncompressed_size = 62\n",
            "\u001b[31m■■■■\u001b[0m\u001b[33m■■■■\u001b[0m\u001b[32m■■■■\u001b[0m\u001b[34m■■■■\u001b[0m\u001b[31m■■■■\u001b[0m\u001b[33m■■■■\u001b[0mtotal_compressed_size = 66\n",
            "\u001b[31m■■■■\u001b[0m\u001b[33m■■■■\u001b[0m\u001b[32m■■■■\u001b[0m\u001b[34m■■■■\u001b[0m\u001b[31m■■■■\u001b[0m\u001b[33m■■■■\u001b[0mdata_page_offset = 1900\n",
            "\u001b[31m■■■■\u001b[0m\u001b[33m■■■■\u001b[0m\u001b[32m■■■■\u001b[0m\u001b[34m■■■■\u001b[0m\u001b[31m■■■■\u001b[0m\u001b[33m■■■■\u001b[0mdictionary_page_offset = 1870\n",
            "\u001b[31m■■■■\u001b[0m\u001b[33m■■■■\u001b[0m\u001b[32m■■■■\u001b[0m\u001b[34m■■■■\u001b[0m\u001b[31m■■■■\u001b[0m\u001b[33m■■■■\u001b[0mstatistics = Statistics\n",
            "\u001b[31m■■■■\u001b[0m\u001b[33m■■■■\u001b[0m\u001b[32m■■■■\u001b[0m\u001b[34m■■■■\u001b[0m\u001b[31m■■■■\u001b[0m\u001b[33m■■■■\u001b[0m\u001b[32m■■■■\u001b[0mmax = b'Italy'\n",
            "\u001b[31m■■■■\u001b[0m\u001b[33m■■■■\u001b[0m\u001b[32m■■■■\u001b[0m\u001b[34m■■■■\u001b[0m\u001b[31m■■■■\u001b[0m\u001b[33m■■■■\u001b[0m\u001b[32m■■■■\u001b[0mmin = b'Italy'\n",
            "\u001b[31m■■■■\u001b[0m\u001b[33m■■■■\u001b[0m\u001b[32m■■■■\u001b[0m\u001b[34m■■■■\u001b[0m\u001b[31m■■■■\u001b[0m\u001b[33m■■■■\u001b[0m\u001b[32m■■■■\u001b[0mmax_value = b'Italy'\n",
            "\u001b[31m■■■■\u001b[0m\u001b[33m■■■■\u001b[0m\u001b[32m■■■■\u001b[0m\u001b[34m■■■■\u001b[0m\u001b[31m■■■■\u001b[0m\u001b[33m■■■■\u001b[0m\u001b[32m■■■■\u001b[0mmin_value = b'Italy'\n",
            "\u001b[31m■■■■\u001b[0m\u001b[33m■■■■\u001b[0m\u001b[32m■■■■\u001b[0m\u001b[34m■■■■\u001b[0m\u001b[31m■■■■\u001b[0m\u001b[33m■■■■\u001b[0mencoding_stats = list\n",
            "\u001b[31m■■■■\u001b[0m\u001b[33m■■■■\u001b[0m\u001b[32m■■■■\u001b[0m\u001b[34m■■■■\u001b[0m\u001b[31m■■■■\u001b[0m\u001b[33m■■■■\u001b[0m\u001b[32m■■■■\u001b[0mPageEncodingStats\n",
            "\u001b[31m■■■■\u001b[0m\u001b[33m■■■■\u001b[0m\u001b[32m■■■■\u001b[0m\u001b[34m■■■■\u001b[0m\u001b[31m■■■■\u001b[0m\u001b[33m■■■■\u001b[0m\u001b[32m■■■■\u001b[0m\u001b[34m■■■■\u001b[0mpage_type = 2\n",
            "\u001b[31m■■■■\u001b[0m\u001b[33m■■■■\u001b[0m\u001b[32m■■■■\u001b[0m\u001b[34m■■■■\u001b[0m\u001b[31m■■■■\u001b[0m\u001b[33m■■■■\u001b[0m\u001b[32m■■■■\u001b[0m\u001b[34m■■■■\u001b[0mencoding = 2\n",
            "\u001b[31m■■■■\u001b[0m\u001b[33m■■■■\u001b[0m\u001b[32m■■■■\u001b[0m\u001b[34m■■■■\u001b[0m\u001b[31m■■■■\u001b[0m\u001b[33m■■■■\u001b[0m\u001b[32m■■■■\u001b[0m\u001b[34m■■■■\u001b[0mcount = 1\n",
            "\u001b[31m■■■■\u001b[0m\u001b[33m■■■■\u001b[0m\u001b[32m■■■■\u001b[0m\u001b[34m■■■■\u001b[0m\u001b[31m■■■■\u001b[0m\u001b[33m■■■■\u001b[0m\u001b[32m■■■■\u001b[0mPageEncodingStats\n",
            "\u001b[31m■■■■\u001b[0m\u001b[33m■■■■\u001b[0m\u001b[32m■■■■\u001b[0m\u001b[34m■■■■\u001b[0m\u001b[31m■■■■\u001b[0m\u001b[33m■■■■\u001b[0m\u001b[32m■■■■\u001b[0m\u001b[34m■■■■\u001b[0mencoding = 2\n",
            "\u001b[31m■■■■\u001b[0m\u001b[33m■■■■\u001b[0m\u001b[32m■■■■\u001b[0m\u001b[34m■■■■\u001b[0m\u001b[31m■■■■\u001b[0m\u001b[33m■■■■\u001b[0m\u001b[32m■■■■\u001b[0m\u001b[34m■■■■\u001b[0mcount = 1\n",
            "\u001b[31m■■■■\u001b[0m\u001b[33m■■■■\u001b[0m\u001b[32m■■■■\u001b[0m\u001b[34m■■■■\u001b[0m\u001b[31m■■■■\u001b[0moffset_index_offset = 4363\n",
            "\u001b[31m■■■■\u001b[0m\u001b[33m■■■■\u001b[0m\u001b[32m■■■■\u001b[0m\u001b[34m■■■■\u001b[0m\u001b[31m■■■■\u001b[0moffset_index_length = 11\n",
            "\u001b[31m■■■■\u001b[0m\u001b[33m■■■■\u001b[0m\u001b[32m■■■■\u001b[0m\u001b[34m■■■■\u001b[0m\u001b[31m■■■■\u001b[0mcolumn_index_offset = 4068\n",
            "\u001b[31m■■■■\u001b[0m\u001b[33m■■■■\u001b[0m\u001b[32m■■■■\u001b[0m\u001b[34m■■■■\u001b[0m\u001b[31m■■■■\u001b[0mcolumn_index_length = 25\n",
            "\u001b[31m■■■■\u001b[0m\u001b[33m■■■■\u001b[0m\u001b[32m■■■■\u001b[0m\u001b[34m■■■■\u001b[0mColumnChunk\n",
            "\u001b[31m■■■■\u001b[0m\u001b[33m■■■■\u001b[0m\u001b[32m■■■■\u001b[0m\u001b[34m■■■■\u001b[0m\u001b[31m■■■■\u001b[0mfile_offset = 1966\n",
            "\u001b[31m■■■■\u001b[0m\u001b[33m■■■■\u001b[0m\u001b[32m■■■■\u001b[0m\u001b[34m■■■■\u001b[0m\u001b[31m■■■■\u001b[0mmeta_data = ColumnMetaData\n",
            "\u001b[31m■■■■\u001b[0m\u001b[33m■■■■\u001b[0m\u001b[32m■■■■\u001b[0m\u001b[34m■■■■\u001b[0m\u001b[31m■■■■\u001b[0m\u001b[33m■■■■\u001b[0mtype = 6\n",
            "\u001b[31m■■■■\u001b[0m\u001b[33m■■■■\u001b[0m\u001b[32m■■■■\u001b[0m\u001b[34m■■■■\u001b[0m\u001b[31m■■■■\u001b[0m\u001b[33m■■■■\u001b[0mencodings = list\n",
            "\u001b[31m■■■■\u001b[0m\u001b[33m■■■■\u001b[0m\u001b[32m■■■■\u001b[0m\u001b[34m■■■■\u001b[0m\u001b[31m■■■■\u001b[0m\u001b[33m■■■■\u001b[0m\u001b[32m■■■■\u001b[0m4\n",
            "\u001b[31m■■■■\u001b[0m\u001b[33m■■■■\u001b[0m\u001b[32m■■■■\u001b[0m\u001b[34m■■■■\u001b[0m\u001b[31m■■■■\u001b[0m\u001b[33m■■■■\u001b[0m\u001b[32m■■■■\u001b[0m2\n",
            "\u001b[31m■■■■\u001b[0m\u001b[33m■■■■\u001b[0m\u001b[32m■■■■\u001b[0m\u001b[34m■■■■\u001b[0m\u001b[31m■■■■\u001b[0m\u001b[33m■■■■\u001b[0m\u001b[32m■■■■\u001b[0m3\n",
            "\u001b[31m■■■■\u001b[0m\u001b[33m■■■■\u001b[0m\u001b[32m■■■■\u001b[0m\u001b[34m■■■■\u001b[0m\u001b[31m■■■■\u001b[0m\u001b[33m■■■■\u001b[0mpath_in_schema = list\n",
            "\u001b[31m■■■■\u001b[0m\u001b[33m■■■■\u001b[0m\u001b[32m■■■■\u001b[0m\u001b[34m■■■■\u001b[0m\u001b[31m■■■■\u001b[0m\u001b[33m■■■■\u001b[0m\u001b[32m■■■■\u001b[0mshopsize\n",
            "\u001b[31m■■■■\u001b[0m\u001b[33m■■■■\u001b[0m\u001b[32m■■■■\u001b[0m\u001b[34m■■■■\u001b[0m\u001b[31m■■■■\u001b[0m\u001b[33m■■■■\u001b[0mcodec = 1\n",
            "\u001b[31m■■■■\u001b[0m\u001b[33m■■■■\u001b[0m\u001b[32m■■■■\u001b[0m\u001b[34m■■■■\u001b[0m\u001b[31m■■■■\u001b[0m\u001b[33m■■■■\u001b[0mnum_values = 250\n",
            "\u001b[31m■■■■\u001b[0m\u001b[33m■■■■\u001b[0m\u001b[32m■■■■\u001b[0m\u001b[34m■■■■\u001b[0m\u001b[31m■■■■\u001b[0m\u001b[33m■■■■\u001b[0mtotal_uncompressed_size = 62\n",
            "\u001b[31m■■■■\u001b[0m\u001b[33m■■■■\u001b[0m\u001b[32m■■■■\u001b[0m\u001b[34m■■■■\u001b[0m\u001b[31m■■■■\u001b[0m\u001b[33m■■■■\u001b[0mtotal_compressed_size = 66\n",
            "\u001b[31m■■■■\u001b[0m\u001b[33m■■■■\u001b[0m\u001b[32m■■■■\u001b[0m\u001b[34m■■■■\u001b[0m\u001b[31m■■■■\u001b[0m\u001b[33m■■■■\u001b[0mdata_page_offset = 1966\n",
            "\u001b[31m■■■■\u001b[0m\u001b[33m■■■■\u001b[0m\u001b[32m■■■■\u001b[0m\u001b[34m■■■■\u001b[0m\u001b[31m■■■■\u001b[0m\u001b[33m■■■■\u001b[0mdictionary_page_offset = 1936\n",
            "\u001b[31m■■■■\u001b[0m\u001b[33m■■■■\u001b[0m\u001b[32m■■■■\u001b[0m\u001b[34m■■■■\u001b[0m\u001b[31m■■■■\u001b[0m\u001b[33m■■■■\u001b[0mstatistics = Statistics\n",
            "\u001b[31m■■■■\u001b[0m\u001b[33m■■■■\u001b[0m\u001b[32m■■■■\u001b[0m\u001b[34m■■■■\u001b[0m\u001b[31m■■■■\u001b[0m\u001b[33m■■■■\u001b[0m\u001b[32m■■■■\u001b[0mmax = b'small'\n",
            "\u001b[31m■■■■\u001b[0m\u001b[33m■■■■\u001b[0m\u001b[32m■■■■\u001b[0m\u001b[34m■■■■\u001b[0m\u001b[31m■■■■\u001b[0m\u001b[33m■■■■\u001b[0m\u001b[32m■■■■\u001b[0mmin = b'small'\n",
            "\u001b[31m■■■■\u001b[0m\u001b[33m■■■■\u001b[0m\u001b[32m■■■■\u001b[0m\u001b[34m■■■■\u001b[0m\u001b[31m■■■■\u001b[0m\u001b[33m■■■■\u001b[0m\u001b[32m■■■■\u001b[0mmax_value = b'small'\n",
            "\u001b[31m■■■■\u001b[0m\u001b[33m■■■■\u001b[0m\u001b[32m■■■■\u001b[0m\u001b[34m■■■■\u001b[0m\u001b[31m■■■■\u001b[0m\u001b[33m■■■■\u001b[0m\u001b[32m■■■■\u001b[0mmin_value = b'small'\n",
            "\u001b[31m■■■■\u001b[0m\u001b[33m■■■■\u001b[0m\u001b[32m■■■■\u001b[0m\u001b[34m■■■■\u001b[0m\u001b[31m■■■■\u001b[0m\u001b[33m■■■■\u001b[0mencoding_stats = list\n",
            "\u001b[31m■■■■\u001b[0m\u001b[33m■■■■\u001b[0m\u001b[32m■■■■\u001b[0m\u001b[34m■■■■\u001b[0m\u001b[31m■■■■\u001b[0m\u001b[33m■■■■\u001b[0m\u001b[32m■■■■\u001b[0mPageEncodingStats\n",
            "\u001b[31m■■■■\u001b[0m\u001b[33m■■■■\u001b[0m\u001b[32m■■■■\u001b[0m\u001b[34m■■■■\u001b[0m\u001b[31m■■■■\u001b[0m\u001b[33m■■■■\u001b[0m\u001b[32m■■■■\u001b[0m\u001b[34m■■■■\u001b[0mpage_type = 2\n",
            "\u001b[31m■■■■\u001b[0m\u001b[33m■■■■\u001b[0m\u001b[32m■■■■\u001b[0m\u001b[34m■■■■\u001b[0m\u001b[31m■■■■\u001b[0m\u001b[33m■■■■\u001b[0m\u001b[32m■■■■\u001b[0m\u001b[34m■■■■\u001b[0mencoding = 2\n",
            "\u001b[31m■■■■\u001b[0m\u001b[33m■■■■\u001b[0m\u001b[32m■■■■\u001b[0m\u001b[34m■■■■\u001b[0m\u001b[31m■■■■\u001b[0m\u001b[33m■■■■\u001b[0m\u001b[32m■■■■\u001b[0m\u001b[34m■■■■\u001b[0mcount = 1\n",
            "\u001b[31m■■■■\u001b[0m\u001b[33m■■■■\u001b[0m\u001b[32m■■■■\u001b[0m\u001b[34m■■■■\u001b[0m\u001b[31m■■■■\u001b[0m\u001b[33m■■■■\u001b[0m\u001b[32m■■■■\u001b[0mPageEncodingStats\n",
            "\u001b[31m■■■■\u001b[0m\u001b[33m■■■■\u001b[0m\u001b[32m■■■■\u001b[0m\u001b[34m■■■■\u001b[0m\u001b[31m■■■■\u001b[0m\u001b[33m■■■■\u001b[0m\u001b[32m■■■■\u001b[0m\u001b[34m■■■■\u001b[0mencoding = 2\n",
            "\u001b[31m■■■■\u001b[0m\u001b[33m■■■■\u001b[0m\u001b[32m■■■■\u001b[0m\u001b[34m■■■■\u001b[0m\u001b[31m■■■■\u001b[0m\u001b[33m■■■■\u001b[0m\u001b[32m■■■■\u001b[0m\u001b[34m■■■■\u001b[0mcount = 1\n",
            "\u001b[31m■■■■\u001b[0m\u001b[33m■■■■\u001b[0m\u001b[32m■■■■\u001b[0m\u001b[34m■■■■\u001b[0m\u001b[31m■■■■\u001b[0moffset_index_offset = 4374\n",
            "\u001b[31m■■■■\u001b[0m\u001b[33m■■■■\u001b[0m\u001b[32m■■■■\u001b[0m\u001b[34m■■■■\u001b[0m\u001b[31m■■■■\u001b[0moffset_index_length = 11\n",
            "\u001b[31m■■■■\u001b[0m\u001b[33m■■■■\u001b[0m\u001b[32m■■■■\u001b[0m\u001b[34m■■■■\u001b[0m\u001b[31m■■■■\u001b[0mcolumn_index_offset = 4093\n",
            "\u001b[31m■■■■\u001b[0m\u001b[33m■■■■\u001b[0m\u001b[32m■■■■\u001b[0m\u001b[34m■■■■\u001b[0m\u001b[31m■■■■\u001b[0mcolumn_index_length = 25\n",
            "\u001b[31m■■■■\u001b[0m\u001b[33m■■■■\u001b[0m\u001b[32m■■■■\u001b[0m\u001b[34m■■■■\u001b[0mColumnChunk\n",
            "\u001b[31m■■■■\u001b[0m\u001b[33m■■■■\u001b[0m\u001b[32m■■■■\u001b[0m\u001b[34m■■■■\u001b[0m\u001b[31m■■■■\u001b[0mfile_offset = 2372\n",
            "\u001b[31m■■■■\u001b[0m\u001b[33m■■■■\u001b[0m\u001b[32m■■■■\u001b[0m\u001b[34m■■■■\u001b[0m\u001b[31m■■■■\u001b[0mmeta_data = ColumnMetaData\n",
            "\u001b[31m■■■■\u001b[0m\u001b[33m■■■■\u001b[0m\u001b[32m■■■■\u001b[0m\u001b[34m■■■■\u001b[0m\u001b[31m■■■■\u001b[0m\u001b[33m■■■■\u001b[0mtype = 6\n",
            "\u001b[31m■■■■\u001b[0m\u001b[33m■■■■\u001b[0m\u001b[32m■■■■\u001b[0m\u001b[34m■■■■\u001b[0m\u001b[31m■■■■\u001b[0m\u001b[33m■■■■\u001b[0mencodings = list\n",
            "\u001b[31m■■■■\u001b[0m\u001b[33m■■■■\u001b[0m\u001b[32m■■■■\u001b[0m\u001b[34m■■■■\u001b[0m\u001b[31m■■■■\u001b[0m\u001b[33m■■■■\u001b[0m\u001b[32m■■■■\u001b[0m4\n",
            "\u001b[31m■■■■\u001b[0m\u001b[33m■■■■\u001b[0m\u001b[32m■■■■\u001b[0m\u001b[34m■■■■\u001b[0m\u001b[31m■■■■\u001b[0m\u001b[33m■■■■\u001b[0m\u001b[32m■■■■\u001b[0m2\n",
            "\u001b[31m■■■■\u001b[0m\u001b[33m■■■■\u001b[0m\u001b[32m■■■■\u001b[0m\u001b[34m■■■■\u001b[0m\u001b[31m■■■■\u001b[0m\u001b[33m■■■■\u001b[0m\u001b[32m■■■■\u001b[0m3\n",
            "\u001b[31m■■■■\u001b[0m\u001b[33m■■■■\u001b[0m\u001b[32m■■■■\u001b[0m\u001b[34m■■■■\u001b[0m\u001b[31m■■■■\u001b[0m\u001b[33m■■■■\u001b[0mpath_in_schema = list\n",
            "\u001b[31m■■■■\u001b[0m\u001b[33m■■■■\u001b[0m\u001b[32m■■■■\u001b[0m\u001b[34m■■■■\u001b[0m\u001b[31m■■■■\u001b[0m\u001b[33m■■■■\u001b[0m\u001b[32m■■■■\u001b[0mproductid\n",
            "\u001b[31m■■■■\u001b[0m\u001b[33m■■■■\u001b[0m\u001b[32m■■■■\u001b[0m\u001b[34m■■■■\u001b[0m\u001b[31m■■■■\u001b[0m\u001b[33m■■■■\u001b[0mcodec = 1\n",
            "\u001b[31m■■■■\u001b[0m\u001b[33m■■■■\u001b[0m\u001b[32m■■■■\u001b[0m\u001b[34m■■■■\u001b[0m\u001b[31m■■■■\u001b[0m\u001b[33m■■■■\u001b[0mnum_values = 250\n",
            "\u001b[31m■■■■\u001b[0m\u001b[33m■■■■\u001b[0m\u001b[32m■■■■\u001b[0m\u001b[34m■■■■\u001b[0m\u001b[31m■■■■\u001b[0m\u001b[33m■■■■\u001b[0mtotal_uncompressed_size = 848\n",
            "\u001b[31m■■■■\u001b[0m\u001b[33m■■■■\u001b[0m\u001b[32m■■■■\u001b[0m\u001b[34m■■■■\u001b[0m\u001b[31m■■■■\u001b[0m\u001b[33m■■■■\u001b[0mtotal_compressed_size = 601\n",
            "\u001b[31m■■■■\u001b[0m\u001b[33m■■■■\u001b[0m\u001b[32m■■■■\u001b[0m\u001b[34m■■■■\u001b[0m\u001b[31m■■■■\u001b[0m\u001b[33m■■■■\u001b[0mdata_page_offset = 2372\n",
            "\u001b[31m■■■■\u001b[0m\u001b[33m■■■■\u001b[0m\u001b[32m■■■■\u001b[0m\u001b[34m■■■■\u001b[0m\u001b[31m■■■■\u001b[0m\u001b[33m■■■■\u001b[0mdictionary_page_offset = 2002\n",
            "\u001b[31m■■■■\u001b[0m\u001b[33m■■■■\u001b[0m\u001b[32m■■■■\u001b[0m\u001b[34m■■■■\u001b[0m\u001b[31m■■■■\u001b[0m\u001b[33m■■■■\u001b[0mstatistics = Statistics\n",
            "\u001b[31m■■■■\u001b[0m\u001b[33m■■■■\u001b[0m\u001b[32m■■■■\u001b[0m\u001b[34m■■■■\u001b[0m\u001b[31m■■■■\u001b[0m\u001b[33m■■■■\u001b[0m\u001b[32m■■■■\u001b[0mmax_value = b'TSH_9'\n",
            "\u001b[31m■■■■\u001b[0m\u001b[33m■■■■\u001b[0m\u001b[32m■■■■\u001b[0m\u001b[34m■■■■\u001b[0m\u001b[31m■■■■\u001b[0m\u001b[33m■■■■\u001b[0m\u001b[32m■■■■\u001b[0mmin_value = b'BED_24'\n",
            "\u001b[31m■■■■\u001b[0m\u001b[33m■■■■\u001b[0m\u001b[32m■■■■\u001b[0m\u001b[34m■■■■\u001b[0m\u001b[31m■■■■\u001b[0m\u001b[33m■■■■\u001b[0mencoding_stats = list\n",
            "\u001b[31m■■■■\u001b[0m\u001b[33m■■■■\u001b[0m\u001b[32m■■■■\u001b[0m\u001b[34m■■■■\u001b[0m\u001b[31m■■■■\u001b[0m\u001b[33m■■■■\u001b[0m\u001b[32m■■■■\u001b[0mPageEncodingStats\n",
            "\u001b[31m■■■■\u001b[0m\u001b[33m■■■■\u001b[0m\u001b[32m■■■■\u001b[0m\u001b[34m■■■■\u001b[0m\u001b[31m■■■■\u001b[0m\u001b[33m■■■■\u001b[0m\u001b[32m■■■■\u001b[0m\u001b[34m■■■■\u001b[0mpage_type = 2\n",
            "\u001b[31m■■■■\u001b[0m\u001b[33m■■■■\u001b[0m\u001b[32m■■■■\u001b[0m\u001b[34m■■■■\u001b[0m\u001b[31m■■■■\u001b[0m\u001b[33m■■■■\u001b[0m\u001b[32m■■■■\u001b[0m\u001b[34m■■■■\u001b[0mencoding = 2\n",
            "\u001b[31m■■■■\u001b[0m\u001b[33m■■■■\u001b[0m\u001b[32m■■■■\u001b[0m\u001b[34m■■■■\u001b[0m\u001b[31m■■■■\u001b[0m\u001b[33m■■■■\u001b[0m\u001b[32m■■■■\u001b[0m\u001b[34m■■■■\u001b[0mcount = 1\n",
            "\u001b[31m■■■■\u001b[0m\u001b[33m■■■■\u001b[0m\u001b[32m■■■■\u001b[0m\u001b[34m■■■■\u001b[0m\u001b[31m■■■■\u001b[0m\u001b[33m■■■■\u001b[0m\u001b[32m■■■■\u001b[0mPageEncodingStats\n",
            "\u001b[31m■■■■\u001b[0m\u001b[33m■■■■\u001b[0m\u001b[32m■■■■\u001b[0m\u001b[34m■■■■\u001b[0m\u001b[31m■■■■\u001b[0m\u001b[33m■■■■\u001b[0m\u001b[32m■■■■\u001b[0m\u001b[34m■■■■\u001b[0mencoding = 2\n",
            "\u001b[31m■■■■\u001b[0m\u001b[33m■■■■\u001b[0m\u001b[32m■■■■\u001b[0m\u001b[34m■■■■\u001b[0m\u001b[31m■■■■\u001b[0m\u001b[33m■■■■\u001b[0m\u001b[32m■■■■\u001b[0m\u001b[34m■■■■\u001b[0mcount = 1\n",
            "\u001b[31m■■■■\u001b[0m\u001b[33m■■■■\u001b[0m\u001b[32m■■■■\u001b[0m\u001b[34m■■■■\u001b[0m\u001b[31m■■■■\u001b[0moffset_index_offset = 4385\n",
            "\u001b[31m■■■■\u001b[0m\u001b[33m■■■■\u001b[0m\u001b[32m■■■■\u001b[0m\u001b[34m■■■■\u001b[0m\u001b[31m■■■■\u001b[0moffset_index_length = 12\n",
            "\u001b[31m■■■■\u001b[0m\u001b[33m■■■■\u001b[0m\u001b[32m■■■■\u001b[0m\u001b[34m■■■■\u001b[0m\u001b[31m■■■■\u001b[0mcolumn_index_offset = 4118\n",
            "\u001b[31m■■■■\u001b[0m\u001b[33m■■■■\u001b[0m\u001b[32m■■■■\u001b[0m\u001b[34m■■■■\u001b[0m\u001b[31m■■■■\u001b[0mcolumn_index_length = 26\n",
            "\u001b[31m■■■■\u001b[0m\u001b[33m■■■■\u001b[0m\u001b[32m■■■■\u001b[0m\u001b[34m■■■■\u001b[0mColumnChunk\n",
            "\u001b[31m■■■■\u001b[0m\u001b[33m■■■■\u001b[0m\u001b[32m■■■■\u001b[0m\u001b[34m■■■■\u001b[0m\u001b[31m■■■■\u001b[0mfile_offset = 2646\n",
            "\u001b[31m■■■■\u001b[0m\u001b[33m■■■■\u001b[0m\u001b[32m■■■■\u001b[0m\u001b[34m■■■■\u001b[0m\u001b[31m■■■■\u001b[0mmeta_data = ColumnMetaData\n",
            "\u001b[31m■■■■\u001b[0m\u001b[33m■■■■\u001b[0m\u001b[32m■■■■\u001b[0m\u001b[34m■■■■\u001b[0m\u001b[31m■■■■\u001b[0m\u001b[33m■■■■\u001b[0mtype = 6\n",
            "\u001b[31m■■■■\u001b[0m\u001b[33m■■■■\u001b[0m\u001b[32m■■■■\u001b[0m\u001b[34m■■■■\u001b[0m\u001b[31m■■■■\u001b[0m\u001b[33m■■■■\u001b[0mencodings = list\n",
            "\u001b[31m■■■■\u001b[0m\u001b[33m■■■■\u001b[0m\u001b[32m■■■■\u001b[0m\u001b[34m■■■■\u001b[0m\u001b[31m■■■■\u001b[0m\u001b[33m■■■■\u001b[0m\u001b[32m■■■■\u001b[0m4\n",
            "\u001b[31m■■■■\u001b[0m\u001b[33m■■■■\u001b[0m\u001b[32m■■■■\u001b[0m\u001b[34m■■■■\u001b[0m\u001b[31m■■■■\u001b[0m\u001b[33m■■■■\u001b[0m\u001b[32m■■■■\u001b[0m2\n",
            "\u001b[31m■■■■\u001b[0m\u001b[33m■■■■\u001b[0m\u001b[32m■■■■\u001b[0m\u001b[34m■■■■\u001b[0m\u001b[31m■■■■\u001b[0m\u001b[33m■■■■\u001b[0m\u001b[32m■■■■\u001b[0m3\n",
            "\u001b[31m■■■■\u001b[0m\u001b[33m■■■■\u001b[0m\u001b[32m■■■■\u001b[0m\u001b[34m■■■■\u001b[0m\u001b[31m■■■■\u001b[0m\u001b[33m■■■■\u001b[0mpath_in_schema = list\n",
            "\u001b[31m■■■■\u001b[0m\u001b[33m■■■■\u001b[0m\u001b[32m■■■■\u001b[0m\u001b[34m■■■■\u001b[0m\u001b[31m■■■■\u001b[0m\u001b[33m■■■■\u001b[0m\u001b[32m■■■■\u001b[0mcategory\n",
            "\u001b[31m■■■■\u001b[0m\u001b[33m■■■■\u001b[0m\u001b[32m■■■■\u001b[0m\u001b[34m■■■■\u001b[0m\u001b[31m■■■■\u001b[0m\u001b[33m■■■■\u001b[0mcodec = 1\n",
            "\u001b[31m■■■■\u001b[0m\u001b[33m■■■■\u001b[0m\u001b[32m■■■■\u001b[0m\u001b[34m■■■■\u001b[0m\u001b[31m■■■■\u001b[0m\u001b[33m■■■■\u001b[0mnum_values = 250\n",
            "\u001b[31m■■■■\u001b[0m\u001b[33m■■■■\u001b[0m\u001b[32m■■■■\u001b[0m\u001b[34m■■■■\u001b[0m\u001b[31m■■■■\u001b[0m\u001b[33m■■■■\u001b[0mtotal_uncompressed_size = 111\n",
            "\u001b[31m■■■■\u001b[0m\u001b[33m■■■■\u001b[0m\u001b[32m■■■■\u001b[0m\u001b[34m■■■■\u001b[0m\u001b[31m■■■■\u001b[0m\u001b[33m■■■■\u001b[0mtotal_compressed_size = 102\n",
            "\u001b[31m■■■■\u001b[0m\u001b[33m■■■■\u001b[0m\u001b[32m■■■■\u001b[0m\u001b[34m■■■■\u001b[0m\u001b[31m■■■■\u001b[0m\u001b[33m■■■■\u001b[0mdata_page_offset = 2646\n",
            "\u001b[31m■■■■\u001b[0m\u001b[33m■■■■\u001b[0m\u001b[32m■■■■\u001b[0m\u001b[34m■■■■\u001b[0m\u001b[31m■■■■\u001b[0m\u001b[33m■■■■\u001b[0mdictionary_page_offset = 2603\n",
            "\u001b[31m■■■■\u001b[0m\u001b[33m■■■■\u001b[0m\u001b[32m■■■■\u001b[0m\u001b[34m■■■■\u001b[0m\u001b[31m■■■■\u001b[0m\u001b[33m■■■■\u001b[0mstatistics = Statistics\n",
            "\u001b[31m■■■■\u001b[0m\u001b[33m■■■■\u001b[0m\u001b[32m■■■■\u001b[0m\u001b[34m■■■■\u001b[0m\u001b[31m■■■■\u001b[0m\u001b[33m■■■■\u001b[0m\u001b[32m■■■■\u001b[0mmax_value = b'Furniture'\n",
            "\u001b[31m■■■■\u001b[0m\u001b[33m■■■■\u001b[0m\u001b[32m■■■■\u001b[0m\u001b[34m■■■■\u001b[0m\u001b[31m■■■■\u001b[0m\u001b[33m■■■■\u001b[0m\u001b[32m■■■■\u001b[0mmin_value = b'Cloth'\n",
            "\u001b[31m■■■■\u001b[0m\u001b[33m■■■■\u001b[0m\u001b[32m■■■■\u001b[0m\u001b[34m■■■■\u001b[0m\u001b[31m■■■■\u001b[0m\u001b[33m■■■■\u001b[0mencoding_stats = list\n",
            "\u001b[31m■■■■\u001b[0m\u001b[33m■■■■\u001b[0m\u001b[32m■■■■\u001b[0m\u001b[34m■■■■\u001b[0m\u001b[31m■■■■\u001b[0m\u001b[33m■■■■\u001b[0m\u001b[32m■■■■\u001b[0mPageEncodingStats\n",
            "\u001b[31m■■■■\u001b[0m\u001b[33m■■■■\u001b[0m\u001b[32m■■■■\u001b[0m\u001b[34m■■■■\u001b[0m\u001b[31m■■■■\u001b[0m\u001b[33m■■■■\u001b[0m\u001b[32m■■■■\u001b[0m\u001b[34m■■■■\u001b[0mpage_type = 2\n",
            "\u001b[31m■■■■\u001b[0m\u001b[33m■■■■\u001b[0m\u001b[32m■■■■\u001b[0m\u001b[34m■■■■\u001b[0m\u001b[31m■■■■\u001b[0m\u001b[33m■■■■\u001b[0m\u001b[32m■■■■\u001b[0m\u001b[34m■■■■\u001b[0mencoding = 2\n",
            "\u001b[31m■■■■\u001b[0m\u001b[33m■■■■\u001b[0m\u001b[32m■■■■\u001b[0m\u001b[34m■■■■\u001b[0m\u001b[31m■■■■\u001b[0m\u001b[33m■■■■\u001b[0m\u001b[32m■■■■\u001b[0m\u001b[34m■■■■\u001b[0mcount = 1\n",
            "\u001b[31m■■■■\u001b[0m\u001b[33m■■■■\u001b[0m\u001b[32m■■■■\u001b[0m\u001b[34m■■■■\u001b[0m\u001b[31m■■■■\u001b[0m\u001b[33m■■■■\u001b[0m\u001b[32m■■■■\u001b[0mPageEncodingStats\n",
            "\u001b[31m■■■■\u001b[0m\u001b[33m■■■■\u001b[0m\u001b[32m■■■■\u001b[0m\u001b[34m■■■■\u001b[0m\u001b[31m■■■■\u001b[0m\u001b[33m■■■■\u001b[0m\u001b[32m■■■■\u001b[0m\u001b[34m■■■■\u001b[0mencoding = 2\n",
            "\u001b[31m■■■■\u001b[0m\u001b[33m■■■■\u001b[0m\u001b[32m■■■■\u001b[0m\u001b[34m■■■■\u001b[0m\u001b[31m■■■■\u001b[0m\u001b[33m■■■■\u001b[0m\u001b[32m■■■■\u001b[0m\u001b[34m■■■■\u001b[0mcount = 1\n",
            "\u001b[31m■■■■\u001b[0m\u001b[33m■■■■\u001b[0m\u001b[32m■■■■\u001b[0m\u001b[34m■■■■\u001b[0m\u001b[31m■■■■\u001b[0moffset_index_offset = 4397\n",
            "\u001b[31m■■■■\u001b[0m\u001b[33m■■■■\u001b[0m\u001b[32m■■■■\u001b[0m\u001b[34m■■■■\u001b[0m\u001b[31m■■■■\u001b[0moffset_index_length = 11\n",
            "\u001b[31m■■■■\u001b[0m\u001b[33m■■■■\u001b[0m\u001b[32m■■■■\u001b[0m\u001b[34m■■■■\u001b[0m\u001b[31m■■■■\u001b[0mcolumn_index_offset = 4144\n",
            "\u001b[31m■■■■\u001b[0m\u001b[33m■■■■\u001b[0m\u001b[32m■■■■\u001b[0m\u001b[34m■■■■\u001b[0m\u001b[31m■■■■\u001b[0mcolumn_index_length = 29\n",
            "\u001b[31m■■■■\u001b[0m\u001b[33m■■■■\u001b[0m\u001b[32m■■■■\u001b[0m\u001b[34m■■■■\u001b[0mColumnChunk\n",
            "\u001b[31m■■■■\u001b[0m\u001b[33m■■■■\u001b[0m\u001b[32m■■■■\u001b[0m\u001b[34m■■■■\u001b[0m\u001b[31m■■■■\u001b[0mfile_offset = 2778\n",
            "\u001b[31m■■■■\u001b[0m\u001b[33m■■■■\u001b[0m\u001b[32m■■■■\u001b[0m\u001b[34m■■■■\u001b[0m\u001b[31m■■■■\u001b[0mmeta_data = ColumnMetaData\n",
            "\u001b[31m■■■■\u001b[0m\u001b[33m■■■■\u001b[0m\u001b[32m■■■■\u001b[0m\u001b[34m■■■■\u001b[0m\u001b[31m■■■■\u001b[0m\u001b[33m■■■■\u001b[0mtype = 6\n",
            "\u001b[31m■■■■\u001b[0m\u001b[33m■■■■\u001b[0m\u001b[32m■■■■\u001b[0m\u001b[34m■■■■\u001b[0m\u001b[31m■■■■\u001b[0m\u001b[33m■■■■\u001b[0mencodings = list\n",
            "\u001b[31m■■■■\u001b[0m\u001b[33m■■■■\u001b[0m\u001b[32m■■■■\u001b[0m\u001b[34m■■■■\u001b[0m\u001b[31m■■■■\u001b[0m\u001b[33m■■■■\u001b[0m\u001b[32m■■■■\u001b[0m4\n",
            "\u001b[31m■■■■\u001b[0m\u001b[33m■■■■\u001b[0m\u001b[32m■■■■\u001b[0m\u001b[34m■■■■\u001b[0m\u001b[31m■■■■\u001b[0m\u001b[33m■■■■\u001b[0m\u001b[32m■■■■\u001b[0m2\n",
            "\u001b[31m■■■■\u001b[0m\u001b[33m■■■■\u001b[0m\u001b[32m■■■■\u001b[0m\u001b[34m■■■■\u001b[0m\u001b[31m■■■■\u001b[0m\u001b[33m■■■■\u001b[0m\u001b[32m■■■■\u001b[0m3\n",
            "\u001b[31m■■■■\u001b[0m\u001b[33m■■■■\u001b[0m\u001b[32m■■■■\u001b[0m\u001b[34m■■■■\u001b[0m\u001b[31m■■■■\u001b[0m\u001b[33m■■■■\u001b[0mpath_in_schema = list\n",
            "\u001b[31m■■■■\u001b[0m\u001b[33m■■■■\u001b[0m\u001b[32m■■■■\u001b[0m\u001b[34m■■■■\u001b[0m\u001b[31m■■■■\u001b[0m\u001b[33m■■■■\u001b[0m\u001b[32m■■■■\u001b[0msubcategory\n",
            "\u001b[31m■■■■\u001b[0m\u001b[33m■■■■\u001b[0m\u001b[32m■■■■\u001b[0m\u001b[34m■■■■\u001b[0m\u001b[31m■■■■\u001b[0m\u001b[33m■■■■\u001b[0mcodec = 1\n",
            "\u001b[31m■■■■\u001b[0m\u001b[33m■■■■\u001b[0m\u001b[32m■■■■\u001b[0m\u001b[34m■■■■\u001b[0m\u001b[31m■■■■\u001b[0m\u001b[33m■■■■\u001b[0mnum_values = 250\n",
            "\u001b[31m■■■■\u001b[0m\u001b[33m■■■■\u001b[0m\u001b[32m■■■■\u001b[0m\u001b[34m■■■■\u001b[0m\u001b[31m■■■■\u001b[0m\u001b[33m■■■■\u001b[0mtotal_uncompressed_size = 204\n",
            "\u001b[31m■■■■\u001b[0m\u001b[33m■■■■\u001b[0m\u001b[32m■■■■\u001b[0m\u001b[34m■■■■\u001b[0m\u001b[31m■■■■\u001b[0m\u001b[33m■■■■\u001b[0mtotal_compressed_size = 201\n",
            "\u001b[31m■■■■\u001b[0m\u001b[33m■■■■\u001b[0m\u001b[32m■■■■\u001b[0m\u001b[34m■■■■\u001b[0m\u001b[31m■■■■\u001b[0m\u001b[33m■■■■\u001b[0mdata_page_offset = 2778\n",
            "\u001b[31m■■■■\u001b[0m\u001b[33m■■■■\u001b[0m\u001b[32m■■■■\u001b[0m\u001b[34m■■■■\u001b[0m\u001b[31m■■■■\u001b[0m\u001b[33m■■■■\u001b[0mdictionary_page_offset = 2705\n",
            "\u001b[31m■■■■\u001b[0m\u001b[33m■■■■\u001b[0m\u001b[32m■■■■\u001b[0m\u001b[34m■■■■\u001b[0m\u001b[31m■■■■\u001b[0m\u001b[33m■■■■\u001b[0mstatistics = Statistics\n",
            "\u001b[31m■■■■\u001b[0m\u001b[33m■■■■\u001b[0m\u001b[32m■■■■\u001b[0m\u001b[34m■■■■\u001b[0m\u001b[31m■■■■\u001b[0m\u001b[33m■■■■\u001b[0m\u001b[32m■■■■\u001b[0mmax_value = b'Tshirt'\n",
            "\u001b[31m■■■■\u001b[0m\u001b[33m■■■■\u001b[0m\u001b[32m■■■■\u001b[0m\u001b[34m■■■■\u001b[0m\u001b[31m■■■■\u001b[0m\u001b[33m■■■■\u001b[0m\u001b[32m■■■■\u001b[0mmin_value = b'Bed'\n",
            "\u001b[31m■■■■\u001b[0m\u001b[33m■■■■\u001b[0m\u001b[32m■■■■\u001b[0m\u001b[34m■■■■\u001b[0m\u001b[31m■■■■\u001b[0m\u001b[33m■■■■\u001b[0mencoding_stats = list\n",
            "\u001b[31m■■■■\u001b[0m\u001b[33m■■■■\u001b[0m\u001b[32m■■■■\u001b[0m\u001b[34m■■■■\u001b[0m\u001b[31m■■■■\u001b[0m\u001b[33m■■■■\u001b[0m\u001b[32m■■■■\u001b[0mPageEncodingStats\n",
            "\u001b[31m■■■■\u001b[0m\u001b[33m■■■■\u001b[0m\u001b[32m■■■■\u001b[0m\u001b[34m■■■■\u001b[0m\u001b[31m■■■■\u001b[0m\u001b[33m■■■■\u001b[0m\u001b[32m■■■■\u001b[0m\u001b[34m■■■■\u001b[0mpage_type = 2\n",
            "\u001b[31m■■■■\u001b[0m\u001b[33m■■■■\u001b[0m\u001b[32m■■■■\u001b[0m\u001b[34m■■■■\u001b[0m\u001b[31m■■■■\u001b[0m\u001b[33m■■■■\u001b[0m\u001b[32m■■■■\u001b[0m\u001b[34m■■■■\u001b[0mencoding = 2\n",
            "\u001b[31m■■■■\u001b[0m\u001b[33m■■■■\u001b[0m\u001b[32m■■■■\u001b[0m\u001b[34m■■■■\u001b[0m\u001b[31m■■■■\u001b[0m\u001b[33m■■■■\u001b[0m\u001b[32m■■■■\u001b[0m\u001b[34m■■■■\u001b[0mcount = 1\n",
            "\u001b[31m■■■■\u001b[0m\u001b[33m■■■■\u001b[0m\u001b[32m■■■■\u001b[0m\u001b[34m■■■■\u001b[0m\u001b[31m■■■■\u001b[0m\u001b[33m■■■■\u001b[0m\u001b[32m■■■■\u001b[0mPageEncodingStats\n",
            "\u001b[31m■■■■\u001b[0m\u001b[33m■■■■\u001b[0m\u001b[32m■■■■\u001b[0m\u001b[34m■■■■\u001b[0m\u001b[31m■■■■\u001b[0m\u001b[33m■■■■\u001b[0m\u001b[32m■■■■\u001b[0m\u001b[34m■■■■\u001b[0mencoding = 2\n",
            "\u001b[31m■■■■\u001b[0m\u001b[33m■■■■\u001b[0m\u001b[32m■■■■\u001b[0m\u001b[34m■■■■\u001b[0m\u001b[31m■■■■\u001b[0m\u001b[33m■■■■\u001b[0m\u001b[32m■■■■\u001b[0m\u001b[34m■■■■\u001b[0mcount = 1\n",
            "\u001b[31m■■■■\u001b[0m\u001b[33m■■■■\u001b[0m\u001b[32m■■■■\u001b[0m\u001b[34m■■■■\u001b[0m\u001b[31m■■■■\u001b[0moffset_index_offset = 4408\n",
            "\u001b[31m■■■■\u001b[0m\u001b[33m■■■■\u001b[0m\u001b[32m■■■■\u001b[0m\u001b[34m■■■■\u001b[0m\u001b[31m■■■■\u001b[0moffset_index_length = 12\n",
            "\u001b[31m■■■■\u001b[0m\u001b[33m■■■■\u001b[0m\u001b[32m■■■■\u001b[0m\u001b[34m■■■■\u001b[0m\u001b[31m■■■■\u001b[0mcolumn_index_offset = 4173\n",
            "\u001b[31m■■■■\u001b[0m\u001b[33m■■■■\u001b[0m\u001b[32m■■■■\u001b[0m\u001b[34m■■■■\u001b[0m\u001b[31m■■■■\u001b[0mcolumn_index_length = 24\n",
            "\u001b[31m■■■■\u001b[0m\u001b[33m■■■■\u001b[0m\u001b[32m■■■■\u001b[0m\u001b[34m■■■■\u001b[0mColumnChunk\n",
            "\u001b[31m■■■■\u001b[0m\u001b[33m■■■■\u001b[0m\u001b[32m■■■■\u001b[0m\u001b[34m■■■■\u001b[0m\u001b[31m■■■■\u001b[0mfile_offset = 3029\n",
            "\u001b[31m■■■■\u001b[0m\u001b[33m■■■■\u001b[0m\u001b[32m■■■■\u001b[0m\u001b[34m■■■■\u001b[0m\u001b[31m■■■■\u001b[0mmeta_data = ColumnMetaData\n",
            "\u001b[31m■■■■\u001b[0m\u001b[33m■■■■\u001b[0m\u001b[32m■■■■\u001b[0m\u001b[34m■■■■\u001b[0m\u001b[31m■■■■\u001b[0m\u001b[33m■■■■\u001b[0mtype = 6\n",
            "\u001b[31m■■■■\u001b[0m\u001b[33m■■■■\u001b[0m\u001b[32m■■■■\u001b[0m\u001b[34m■■■■\u001b[0m\u001b[31m■■■■\u001b[0m\u001b[33m■■■■\u001b[0mencodings = list\n",
            "\u001b[31m■■■■\u001b[0m\u001b[33m■■■■\u001b[0m\u001b[32m■■■■\u001b[0m\u001b[34m■■■■\u001b[0m\u001b[31m■■■■\u001b[0m\u001b[33m■■■■\u001b[0m\u001b[32m■■■■\u001b[0m4\n",
            "\u001b[31m■■■■\u001b[0m\u001b[33m■■■■\u001b[0m\u001b[32m■■■■\u001b[0m\u001b[34m■■■■\u001b[0m\u001b[31m■■■■\u001b[0m\u001b[33m■■■■\u001b[0m\u001b[32m■■■■\u001b[0m2\n",
            "\u001b[31m■■■■\u001b[0m\u001b[33m■■■■\u001b[0m\u001b[32m■■■■\u001b[0m\u001b[34m■■■■\u001b[0m\u001b[31m■■■■\u001b[0m\u001b[33m■■■■\u001b[0m\u001b[32m■■■■\u001b[0m3\n",
            "\u001b[31m■■■■\u001b[0m\u001b[33m■■■■\u001b[0m\u001b[32m■■■■\u001b[0m\u001b[34m■■■■\u001b[0m\u001b[31m■■■■\u001b[0m\u001b[33m■■■■\u001b[0mpath_in_schema = list\n",
            "\u001b[31m■■■■\u001b[0m\u001b[33m■■■■\u001b[0m\u001b[32m■■■■\u001b[0m\u001b[34m■■■■\u001b[0m\u001b[31m■■■■\u001b[0m\u001b[33m■■■■\u001b[0m\u001b[32m■■■■\u001b[0msize\n",
            "\u001b[31m■■■■\u001b[0m\u001b[33m■■■■\u001b[0m\u001b[32m■■■■\u001b[0m\u001b[34m■■■■\u001b[0m\u001b[31m■■■■\u001b[0m\u001b[33m■■■■\u001b[0mcodec = 1\n",
            "\u001b[31m■■■■\u001b[0m\u001b[33m■■■■\u001b[0m\u001b[32m■■■■\u001b[0m\u001b[34m■■■■\u001b[0m\u001b[31m■■■■\u001b[0m\u001b[33m■■■■\u001b[0mnum_values = 250\n",
            "\u001b[31m■■■■\u001b[0m\u001b[33m■■■■\u001b[0m\u001b[32m■■■■\u001b[0m\u001b[34m■■■■\u001b[0m\u001b[31m■■■■\u001b[0m\u001b[33m■■■■\u001b[0mtotal_uncompressed_size = 336\n",
            "\u001b[31m■■■■\u001b[0m\u001b[33m■■■■\u001b[0m\u001b[32m■■■■\u001b[0m\u001b[34m■■■■\u001b[0m\u001b[31m■■■■\u001b[0m\u001b[33m■■■■\u001b[0mtotal_compressed_size = 325\n",
            "\u001b[31m■■■■\u001b[0m\u001b[33m■■■■\u001b[0m\u001b[32m■■■■\u001b[0m\u001b[34m■■■■\u001b[0m\u001b[31m■■■■\u001b[0m\u001b[33m■■■■\u001b[0mdata_page_offset = 3029\n",
            "\u001b[31m■■■■\u001b[0m\u001b[33m■■■■\u001b[0m\u001b[32m■■■■\u001b[0m\u001b[34m■■■■\u001b[0m\u001b[31m■■■■\u001b[0m\u001b[33m■■■■\u001b[0mdictionary_page_offset = 2906\n",
            "\u001b[31m■■■■\u001b[0m\u001b[33m■■■■\u001b[0m\u001b[32m■■■■\u001b[0m\u001b[34m■■■■\u001b[0m\u001b[31m■■■■\u001b[0m\u001b[33m■■■■\u001b[0mstatistics = Statistics\n",
            "\u001b[31m■■■■\u001b[0m\u001b[33m■■■■\u001b[0m\u001b[32m■■■■\u001b[0m\u001b[34m■■■■\u001b[0m\u001b[31m■■■■\u001b[0m\u001b[33m■■■■\u001b[0m\u001b[32m■■■■\u001b[0mnull_count = 12\n",
            "\u001b[31m■■■■\u001b[0m\u001b[33m■■■■\u001b[0m\u001b[32m■■■■\u001b[0m\u001b[34m■■■■\u001b[0m\u001b[31m■■■■\u001b[0m\u001b[33m■■■■\u001b[0m\u001b[32m■■■■\u001b[0mmax_value = b'XS'\n",
            "\u001b[31m■■■■\u001b[0m\u001b[33m■■■■\u001b[0m\u001b[32m■■■■\u001b[0m\u001b[34m■■■■\u001b[0m\u001b[31m■■■■\u001b[0m\u001b[33m■■■■\u001b[0m\u001b[32m■■■■\u001b[0mmin_value = b'10'\n",
            "\u001b[31m■■■■\u001b[0m\u001b[33m■■■■\u001b[0m\u001b[32m■■■■\u001b[0m\u001b[34m■■■■\u001b[0m\u001b[31m■■■■\u001b[0m\u001b[33m■■■■\u001b[0mencoding_stats = list\n",
            "\u001b[31m■■■■\u001b[0m\u001b[33m■■■■\u001b[0m\u001b[32m■■■■\u001b[0m\u001b[34m■■■■\u001b[0m\u001b[31m■■■■\u001b[0m\u001b[33m■■■■\u001b[0m\u001b[32m■■■■\u001b[0mPageEncodingStats\n",
            "\u001b[31m■■■■\u001b[0m\u001b[33m■■■■\u001b[0m\u001b[32m■■■■\u001b[0m\u001b[34m■■■■\u001b[0m\u001b[31m■■■■\u001b[0m\u001b[33m■■■■\u001b[0m\u001b[32m■■■■\u001b[0m\u001b[34m■■■■\u001b[0mpage_type = 2\n",
            "\u001b[31m■■■■\u001b[0m\u001b[33m■■■■\u001b[0m\u001b[32m■■■■\u001b[0m\u001b[34m■■■■\u001b[0m\u001b[31m■■■■\u001b[0m\u001b[33m■■■■\u001b[0m\u001b[32m■■■■\u001b[0m\u001b[34m■■■■\u001b[0mencoding = 2\n",
            "\u001b[31m■■■■\u001b[0m\u001b[33m■■■■\u001b[0m\u001b[32m■■■■\u001b[0m\u001b[34m■■■■\u001b[0m\u001b[31m■■■■\u001b[0m\u001b[33m■■■■\u001b[0m\u001b[32m■■■■\u001b[0m\u001b[34m■■■■\u001b[0mcount = 1\n",
            "\u001b[31m■■■■\u001b[0m\u001b[33m■■■■\u001b[0m\u001b[32m■■■■\u001b[0m\u001b[34m■■■■\u001b[0m\u001b[31m■■■■\u001b[0m\u001b[33m■■■■\u001b[0m\u001b[32m■■■■\u001b[0mPageEncodingStats\n",
            "\u001b[31m■■■■\u001b[0m\u001b[33m■■■■\u001b[0m\u001b[32m■■■■\u001b[0m\u001b[34m■■■■\u001b[0m\u001b[31m■■■■\u001b[0m\u001b[33m■■■■\u001b[0m\u001b[32m■■■■\u001b[0m\u001b[34m■■■■\u001b[0mencoding = 2\n",
            "\u001b[31m■■■■\u001b[0m\u001b[33m■■■■\u001b[0m\u001b[32m■■■■\u001b[0m\u001b[34m■■■■\u001b[0m\u001b[31m■■■■\u001b[0m\u001b[33m■■■■\u001b[0m\u001b[32m■■■■\u001b[0m\u001b[34m■■■■\u001b[0mcount = 1\n",
            "\u001b[31m■■■■\u001b[0m\u001b[33m■■■■\u001b[0m\u001b[32m■■■■\u001b[0m\u001b[34m■■■■\u001b[0m\u001b[31m■■■■\u001b[0moffset_index_offset = 4420\n",
            "\u001b[31m■■■■\u001b[0m\u001b[33m■■■■\u001b[0m\u001b[32m■■■■\u001b[0m\u001b[34m■■■■\u001b[0m\u001b[31m■■■■\u001b[0moffset_index_length = 12\n",
            "\u001b[31m■■■■\u001b[0m\u001b[33m■■■■\u001b[0m\u001b[32m■■■■\u001b[0m\u001b[34m■■■■\u001b[0m\u001b[31m■■■■\u001b[0mcolumn_index_offset = 4197\n",
            "\u001b[31m■■■■\u001b[0m\u001b[33m■■■■\u001b[0m\u001b[32m■■■■\u001b[0m\u001b[34m■■■■\u001b[0m\u001b[31m■■■■\u001b[0mcolumn_index_length = 19\n",
            "\u001b[31m■■■■\u001b[0m\u001b[33m■■■■\u001b[0m\u001b[32m■■■■\u001b[0m\u001b[34m■■■■\u001b[0mColumnChunk\n",
            "\u001b[31m■■■■\u001b[0m\u001b[33m■■■■\u001b[0m\u001b[32m■■■■\u001b[0m\u001b[34m■■■■\u001b[0m\u001b[31m■■■■\u001b[0mfile_offset = 3348\n",
            "\u001b[31m■■■■\u001b[0m\u001b[33m■■■■\u001b[0m\u001b[32m■■■■\u001b[0m\u001b[34m■■■■\u001b[0m\u001b[31m■■■■\u001b[0mmeta_data = ColumnMetaData\n",
            "\u001b[31m■■■■\u001b[0m\u001b[33m■■■■\u001b[0m\u001b[32m■■■■\u001b[0m\u001b[34m■■■■\u001b[0m\u001b[31m■■■■\u001b[0m\u001b[33m■■■■\u001b[0mtype = 5\n",
            "\u001b[31m■■■■\u001b[0m\u001b[33m■■■■\u001b[0m\u001b[32m■■■■\u001b[0m\u001b[34m■■■■\u001b[0m\u001b[31m■■■■\u001b[0m\u001b[33m■■■■\u001b[0mencodings = list\n",
            "\u001b[31m■■■■\u001b[0m\u001b[33m■■■■\u001b[0m\u001b[32m■■■■\u001b[0m\u001b[34m■■■■\u001b[0m\u001b[31m■■■■\u001b[0m\u001b[33m■■■■\u001b[0m\u001b[32m■■■■\u001b[0m4\n",
            "\u001b[31m■■■■\u001b[0m\u001b[33m■■■■\u001b[0m\u001b[32m■■■■\u001b[0m\u001b[34m■■■■\u001b[0m\u001b[31m■■■■\u001b[0m\u001b[33m■■■■\u001b[0m\u001b[32m■■■■\u001b[0m2\n",
            "\u001b[31m■■■■\u001b[0m\u001b[33m■■■■\u001b[0m\u001b[32m■■■■\u001b[0m\u001b[34m■■■■\u001b[0m\u001b[31m■■■■\u001b[0m\u001b[33m■■■■\u001b[0m\u001b[32m■■■■\u001b[0m3\n",
            "\u001b[31m■■■■\u001b[0m\u001b[33m■■■■\u001b[0m\u001b[32m■■■■\u001b[0m\u001b[34m■■■■\u001b[0m\u001b[31m■■■■\u001b[0m\u001b[33m■■■■\u001b[0mpath_in_schema = list\n",
            "\u001b[31m■■■■\u001b[0m\u001b[33m■■■■\u001b[0m\u001b[32m■■■■\u001b[0m\u001b[34m■■■■\u001b[0m\u001b[31m■■■■\u001b[0m\u001b[33m■■■■\u001b[0m\u001b[32m■■■■\u001b[0mpurchaseprice\n",
            "\u001b[31m■■■■\u001b[0m\u001b[33m■■■■\u001b[0m\u001b[32m■■■■\u001b[0m\u001b[34m■■■■\u001b[0m\u001b[31m■■■■\u001b[0m\u001b[33m■■■■\u001b[0mcodec = 1\n",
            "\u001b[31m■■■■\u001b[0m\u001b[33m■■■■\u001b[0m\u001b[32m■■■■\u001b[0m\u001b[34m■■■■\u001b[0m\u001b[31m■■■■\u001b[0m\u001b[33m■■■■\u001b[0mnum_values = 250\n",
            "\u001b[31m■■■■\u001b[0m\u001b[33m■■■■\u001b[0m\u001b[32m■■■■\u001b[0m\u001b[34m■■■■\u001b[0m\u001b[31m■■■■\u001b[0m\u001b[33m■■■■\u001b[0mtotal_uncompressed_size = 368\n",
            "\u001b[31m■■■■\u001b[0m\u001b[33m■■■■\u001b[0m\u001b[32m■■■■\u001b[0m\u001b[34m■■■■\u001b[0m\u001b[31m■■■■\u001b[0m\u001b[33m■■■■\u001b[0mtotal_compressed_size = 316\n",
            "\u001b[31m■■■■\u001b[0m\u001b[33m■■■■\u001b[0m\u001b[32m■■■■\u001b[0m\u001b[34m■■■■\u001b[0m\u001b[31m■■■■\u001b[0m\u001b[33m■■■■\u001b[0mdata_page_offset = 3348\n",
            "\u001b[31m■■■■\u001b[0m\u001b[33m■■■■\u001b[0m\u001b[32m■■■■\u001b[0m\u001b[34m■■■■\u001b[0m\u001b[31m■■■■\u001b[0m\u001b[33m■■■■\u001b[0mdictionary_page_offset = 3231\n",
            "\u001b[31m■■■■\u001b[0m\u001b[33m■■■■\u001b[0m\u001b[32m■■■■\u001b[0m\u001b[34m■■■■\u001b[0m\u001b[31m■■■■\u001b[0m\u001b[33m■■■■\u001b[0mstatistics = Statistics\n",
            "\u001b[31m■■■■\u001b[0m\u001b[33m■■■■\u001b[0m\u001b[32m■■■■\u001b[0m\u001b[34m■■■■\u001b[0m\u001b[31m■■■■\u001b[0m\u001b[33m■■■■\u001b[0m\u001b[32m■■■■\u001b[0mmax = b'\\x00\\x00\\x00\\x00\\x00pw@'\n",
            "\u001b[31m■■■■\u001b[0m\u001b[33m■■■■\u001b[0m\u001b[32m■■■■\u001b[0m\u001b[34m■■■■\u001b[0m\u001b[31m■■■■\u001b[0m\u001b[33m■■■■\u001b[0m\u001b[32m■■■■\u001b[0mmin = b'\\x00\\x00\\x00\\x00\\x00\\x001@'\n",
            "\u001b[31m■■■■\u001b[0m\u001b[33m■■■■\u001b[0m\u001b[32m■■■■\u001b[0m\u001b[34m■■■■\u001b[0m\u001b[31m■■■■\u001b[0m\u001b[33m■■■■\u001b[0m\u001b[32m■■■■\u001b[0mmax_value = b'\\x00\\x00\\x00\\x00\\x00pw@'\n",
            "\u001b[31m■■■■\u001b[0m\u001b[33m■■■■\u001b[0m\u001b[32m■■■■\u001b[0m\u001b[34m■■■■\u001b[0m\u001b[31m■■■■\u001b[0m\u001b[33m■■■■\u001b[0m\u001b[32m■■■■\u001b[0mmin_value = b'\\x00\\x00\\x00\\x00\\x00\\x001@'\n",
            "\u001b[31m■■■■\u001b[0m\u001b[33m■■■■\u001b[0m\u001b[32m■■■■\u001b[0m\u001b[34m■■■■\u001b[0m\u001b[31m■■■■\u001b[0m\u001b[33m■■■■\u001b[0mencoding_stats = list\n",
            "\u001b[31m■■■■\u001b[0m\u001b[33m■■■■\u001b[0m\u001b[32m■■■■\u001b[0m\u001b[34m■■■■\u001b[0m\u001b[31m■■■■\u001b[0m\u001b[33m■■■■\u001b[0m\u001b[32m■■■■\u001b[0mPageEncodingStats\n",
            "\u001b[31m■■■■\u001b[0m\u001b[33m■■■■\u001b[0m\u001b[32m■■■■\u001b[0m\u001b[34m■■■■\u001b[0m\u001b[31m■■■■\u001b[0m\u001b[33m■■■■\u001b[0m\u001b[32m■■■■\u001b[0m\u001b[34m■■■■\u001b[0mpage_type = 2\n",
            "\u001b[31m■■■■\u001b[0m\u001b[33m■■■■\u001b[0m\u001b[32m■■■■\u001b[0m\u001b[34m■■■■\u001b[0m\u001b[31m■■■■\u001b[0m\u001b[33m■■■■\u001b[0m\u001b[32m■■■■\u001b[0m\u001b[34m■■■■\u001b[0mencoding = 2\n",
            "\u001b[31m■■■■\u001b[0m\u001b[33m■■■■\u001b[0m\u001b[32m■■■■\u001b[0m\u001b[34m■■■■\u001b[0m\u001b[31m■■■■\u001b[0m\u001b[33m■■■■\u001b[0m\u001b[32m■■■■\u001b[0m\u001b[34m■■■■\u001b[0mcount = 1\n",
            "\u001b[31m■■■■\u001b[0m\u001b[33m■■■■\u001b[0m\u001b[32m■■■■\u001b[0m\u001b[34m■■■■\u001b[0m\u001b[31m■■■■\u001b[0m\u001b[33m■■■■\u001b[0m\u001b[32m■■■■\u001b[0mPageEncodingStats\n",
            "\u001b[31m■■■■\u001b[0m\u001b[33m■■■■\u001b[0m\u001b[32m■■■■\u001b[0m\u001b[34m■■■■\u001b[0m\u001b[31m■■■■\u001b[0m\u001b[33m■■■■\u001b[0m\u001b[32m■■■■\u001b[0m\u001b[34m■■■■\u001b[0mencoding = 2\n",
            "\u001b[31m■■■■\u001b[0m\u001b[33m■■■■\u001b[0m\u001b[32m■■■■\u001b[0m\u001b[34m■■■■\u001b[0m\u001b[31m■■■■\u001b[0m\u001b[33m■■■■\u001b[0m\u001b[32m■■■■\u001b[0m\u001b[34m■■■■\u001b[0mcount = 1\n",
            "\u001b[31m■■■■\u001b[0m\u001b[33m■■■■\u001b[0m\u001b[32m■■■■\u001b[0m\u001b[34m■■■■\u001b[0m\u001b[31m■■■■\u001b[0moffset_index_offset = 4432\n",
            "\u001b[31m■■■■\u001b[0m\u001b[33m■■■■\u001b[0m\u001b[32m■■■■\u001b[0m\u001b[34m■■■■\u001b[0m\u001b[31m■■■■\u001b[0moffset_index_length = 12\n",
            "\u001b[31m■■■■\u001b[0m\u001b[33m■■■■\u001b[0m\u001b[32m■■■■\u001b[0m\u001b[34m■■■■\u001b[0m\u001b[31m■■■■\u001b[0mcolumn_index_offset = 4216\n",
            "\u001b[31m■■■■\u001b[0m\u001b[33m■■■■\u001b[0m\u001b[32m■■■■\u001b[0m\u001b[34m■■■■\u001b[0m\u001b[31m■■■■\u001b[0mcolumn_index_length = 31\n",
            "\u001b[31m■■■■\u001b[0m\u001b[33m■■■■\u001b[0m\u001b[32m■■■■\u001b[0m\u001b[34m■■■■\u001b[0mColumnChunk\n",
            "\u001b[31m■■■■\u001b[0m\u001b[33m■■■■\u001b[0m\u001b[32m■■■■\u001b[0m\u001b[34m■■■■\u001b[0m\u001b[31m■■■■\u001b[0mfile_offset = 3607\n",
            "\u001b[31m■■■■\u001b[0m\u001b[33m■■■■\u001b[0m\u001b[32m■■■■\u001b[0m\u001b[34m■■■■\u001b[0m\u001b[31m■■■■\u001b[0mmeta_data = ColumnMetaData\n",
            "\u001b[31m■■■■\u001b[0m\u001b[33m■■■■\u001b[0m\u001b[32m■■■■\u001b[0m\u001b[34m■■■■\u001b[0m\u001b[31m■■■■\u001b[0m\u001b[33m■■■■\u001b[0mtype = 6\n",
            "\u001b[31m■■■■\u001b[0m\u001b[33m■■■■\u001b[0m\u001b[32m■■■■\u001b[0m\u001b[34m■■■■\u001b[0m\u001b[31m■■■■\u001b[0m\u001b[33m■■■■\u001b[0mencodings = list\n",
            "\u001b[31m■■■■\u001b[0m\u001b[33m■■■■\u001b[0m\u001b[32m■■■■\u001b[0m\u001b[34m■■■■\u001b[0m\u001b[31m■■■■\u001b[0m\u001b[33m■■■■\u001b[0m\u001b[32m■■■■\u001b[0m4\n",
            "\u001b[31m■■■■\u001b[0m\u001b[33m■■■■\u001b[0m\u001b[32m■■■■\u001b[0m\u001b[34m■■■■\u001b[0m\u001b[31m■■■■\u001b[0m\u001b[33m■■■■\u001b[0m\u001b[32m■■■■\u001b[0m2\n",
            "\u001b[31m■■■■\u001b[0m\u001b[33m■■■■\u001b[0m\u001b[32m■■■■\u001b[0m\u001b[34m■■■■\u001b[0m\u001b[31m■■■■\u001b[0m\u001b[33m■■■■\u001b[0m\u001b[32m■■■■\u001b[0m3\n",
            "\u001b[31m■■■■\u001b[0m\u001b[33m■■■■\u001b[0m\u001b[32m■■■■\u001b[0m\u001b[34m■■■■\u001b[0m\u001b[31m■■■■\u001b[0m\u001b[33m■■■■\u001b[0mpath_in_schema = list\n",
            "\u001b[31m■■■■\u001b[0m\u001b[33m■■■■\u001b[0m\u001b[32m■■■■\u001b[0m\u001b[34m■■■■\u001b[0m\u001b[31m■■■■\u001b[0m\u001b[33m■■■■\u001b[0m\u001b[32m■■■■\u001b[0mcolor\n",
            "\u001b[31m■■■■\u001b[0m\u001b[33m■■■■\u001b[0m\u001b[32m■■■■\u001b[0m\u001b[34m■■■■\u001b[0m\u001b[31m■■■■\u001b[0m\u001b[33m■■■■\u001b[0mcodec = 1\n",
            "\u001b[31m■■■■\u001b[0m\u001b[33m■■■■\u001b[0m\u001b[32m■■■■\u001b[0m\u001b[34m■■■■\u001b[0m\u001b[31m■■■■\u001b[0m\u001b[33m■■■■\u001b[0mnum_values = 250\n",
            "\u001b[31m■■■■\u001b[0m\u001b[33m■■■■\u001b[0m\u001b[32m■■■■\u001b[0m\u001b[34m■■■■\u001b[0m\u001b[31m■■■■\u001b[0m\u001b[33m■■■■\u001b[0mtotal_uncompressed_size = 192\n",
            "\u001b[31m■■■■\u001b[0m\u001b[33m■■■■\u001b[0m\u001b[32m■■■■\u001b[0m\u001b[34m■■■■\u001b[0m\u001b[31m■■■■\u001b[0m\u001b[33m■■■■\u001b[0mtotal_compressed_size = 184\n",
            "\u001b[31m■■■■\u001b[0m\u001b[33m■■■■\u001b[0m\u001b[32m■■■■\u001b[0m\u001b[34m■■■■\u001b[0m\u001b[31m■■■■\u001b[0m\u001b[33m■■■■\u001b[0mdata_page_offset = 3607\n",
            "\u001b[31m■■■■\u001b[0m\u001b[33m■■■■\u001b[0m\u001b[32m■■■■\u001b[0m\u001b[34m■■■■\u001b[0m\u001b[31m■■■■\u001b[0m\u001b[33m■■■■\u001b[0mdictionary_page_offset = 3547\n",
            "\u001b[31m■■■■\u001b[0m\u001b[33m■■■■\u001b[0m\u001b[32m■■■■\u001b[0m\u001b[34m■■■■\u001b[0m\u001b[31m■■■■\u001b[0m\u001b[33m■■■■\u001b[0mstatistics = Statistics\n",
            "\u001b[31m■■■■\u001b[0m\u001b[33m■■■■\u001b[0m\u001b[32m■■■■\u001b[0m\u001b[34m■■■■\u001b[0m\u001b[31m■■■■\u001b[0m\u001b[33m■■■■\u001b[0m\u001b[32m■■■■\u001b[0mmax_value = b'white'\n",
            "\u001b[31m■■■■\u001b[0m\u001b[33m■■■■\u001b[0m\u001b[32m■■■■\u001b[0m\u001b[34m■■■■\u001b[0m\u001b[31m■■■■\u001b[0m\u001b[33m■■■■\u001b[0m\u001b[32m■■■■\u001b[0mmin_value = b'black'\n",
            "\u001b[31m■■■■\u001b[0m\u001b[33m■■■■\u001b[0m\u001b[32m■■■■\u001b[0m\u001b[34m■■■■\u001b[0m\u001b[31m■■■■\u001b[0m\u001b[33m■■■■\u001b[0mencoding_stats = list\n",
            "\u001b[31m■■■■\u001b[0m\u001b[33m■■■■\u001b[0m\u001b[32m■■■■\u001b[0m\u001b[34m■■■■\u001b[0m\u001b[31m■■■■\u001b[0m\u001b[33m■■■■\u001b[0m\u001b[32m■■■■\u001b[0mPageEncodingStats\n",
            "\u001b[31m■■■■\u001b[0m\u001b[33m■■■■\u001b[0m\u001b[32m■■■■\u001b[0m\u001b[34m■■■■\u001b[0m\u001b[31m■■■■\u001b[0m\u001b[33m■■■■\u001b[0m\u001b[32m■■■■\u001b[0m\u001b[34m■■■■\u001b[0mpage_type = 2\n",
            "\u001b[31m■■■■\u001b[0m\u001b[33m■■■■\u001b[0m\u001b[32m■■■■\u001b[0m\u001b[34m■■■■\u001b[0m\u001b[31m■■■■\u001b[0m\u001b[33m■■■■\u001b[0m\u001b[32m■■■■\u001b[0m\u001b[34m■■■■\u001b[0mencoding = 2\n",
            "\u001b[31m■■■■\u001b[0m\u001b[33m■■■■\u001b[0m\u001b[32m■■■■\u001b[0m\u001b[34m■■■■\u001b[0m\u001b[31m■■■■\u001b[0m\u001b[33m■■■■\u001b[0m\u001b[32m■■■■\u001b[0m\u001b[34m■■■■\u001b[0mcount = 1\n",
            "\u001b[31m■■■■\u001b[0m\u001b[33m■■■■\u001b[0m\u001b[32m■■■■\u001b[0m\u001b[34m■■■■\u001b[0m\u001b[31m■■■■\u001b[0m\u001b[33m■■■■\u001b[0m\u001b[32m■■■■\u001b[0mPageEncodingStats\n",
            "\u001b[31m■■■■\u001b[0m\u001b[33m■■■■\u001b[0m\u001b[32m■■■■\u001b[0m\u001b[34m■■■■\u001b[0m\u001b[31m■■■■\u001b[0m\u001b[33m■■■■\u001b[0m\u001b[32m■■■■\u001b[0m\u001b[34m■■■■\u001b[0mencoding = 2\n",
            "\u001b[31m■■■■\u001b[0m\u001b[33m■■■■\u001b[0m\u001b[32m■■■■\u001b[0m\u001b[34m■■■■\u001b[0m\u001b[31m■■■■\u001b[0m\u001b[33m■■■■\u001b[0m\u001b[32m■■■■\u001b[0m\u001b[34m■■■■\u001b[0mcount = 1\n",
            "\u001b[31m■■■■\u001b[0m\u001b[33m■■■■\u001b[0m\u001b[32m■■■■\u001b[0m\u001b[34m■■■■\u001b[0m\u001b[31m■■■■\u001b[0moffset_index_offset = 4444\n",
            "\u001b[31m■■■■\u001b[0m\u001b[33m■■■■\u001b[0m\u001b[32m■■■■\u001b[0m\u001b[34m■■■■\u001b[0m\u001b[31m■■■■\u001b[0moffset_index_length = 12\n",
            "\u001b[31m■■■■\u001b[0m\u001b[33m■■■■\u001b[0m\u001b[32m■■■■\u001b[0m\u001b[34m■■■■\u001b[0m\u001b[31m■■■■\u001b[0mcolumn_index_offset = 4247\n",
            "\u001b[31m■■■■\u001b[0m\u001b[33m■■■■\u001b[0m\u001b[32m■■■■\u001b[0m\u001b[34m■■■■\u001b[0m\u001b[31m■■■■\u001b[0mcolumn_index_length = 25\n",
            "\u001b[31m■■■■\u001b[0m\u001b[33m■■■■\u001b[0m\u001b[32m■■■■\u001b[0m\u001b[34m■■■■\u001b[0mColumnChunk\n",
            "\u001b[31m■■■■\u001b[0m\u001b[33m■■■■\u001b[0m\u001b[32m■■■■\u001b[0m\u001b[34m■■■■\u001b[0m\u001b[31m■■■■\u001b[0mfile_offset = 3789\n",
            "\u001b[31m■■■■\u001b[0m\u001b[33m■■■■\u001b[0m\u001b[32m■■■■\u001b[0m\u001b[34m■■■■\u001b[0m\u001b[31m■■■■\u001b[0mmeta_data = ColumnMetaData\n",
            "\u001b[31m■■■■\u001b[0m\u001b[33m■■■■\u001b[0m\u001b[32m■■■■\u001b[0m\u001b[34m■■■■\u001b[0m\u001b[31m■■■■\u001b[0m\u001b[33m■■■■\u001b[0mtype = 6\n",
            "\u001b[31m■■■■\u001b[0m\u001b[33m■■■■\u001b[0m\u001b[32m■■■■\u001b[0m\u001b[34m■■■■\u001b[0m\u001b[31m■■■■\u001b[0m\u001b[33m■■■■\u001b[0mencodings = list\n",
            "\u001b[31m■■■■\u001b[0m\u001b[33m■■■■\u001b[0m\u001b[32m■■■■\u001b[0m\u001b[34m■■■■\u001b[0m\u001b[31m■■■■\u001b[0m\u001b[33m■■■■\u001b[0m\u001b[32m■■■■\u001b[0m4\n",
            "\u001b[31m■■■■\u001b[0m\u001b[33m■■■■\u001b[0m\u001b[32m■■■■\u001b[0m\u001b[34m■■■■\u001b[0m\u001b[31m■■■■\u001b[0m\u001b[33m■■■■\u001b[0m\u001b[32m■■■■\u001b[0m2\n",
            "\u001b[31m■■■■\u001b[0m\u001b[33m■■■■\u001b[0m\u001b[32m■■■■\u001b[0m\u001b[34m■■■■\u001b[0m\u001b[31m■■■■\u001b[0m\u001b[33m■■■■\u001b[0m\u001b[32m■■■■\u001b[0m3\n",
            "\u001b[31m■■■■\u001b[0m\u001b[33m■■■■\u001b[0m\u001b[32m■■■■\u001b[0m\u001b[34m■■■■\u001b[0m\u001b[31m■■■■\u001b[0m\u001b[33m■■■■\u001b[0mpath_in_schema = list\n",
            "\u001b[31m■■■■\u001b[0m\u001b[33m■■■■\u001b[0m\u001b[32m■■■■\u001b[0m\u001b[34m■■■■\u001b[0m\u001b[31m■■■■\u001b[0m\u001b[33m■■■■\u001b[0m\u001b[32m■■■■\u001b[0mbrand\n",
            "\u001b[31m■■■■\u001b[0m\u001b[33m■■■■\u001b[0m\u001b[32m■■■■\u001b[0m\u001b[34m■■■■\u001b[0m\u001b[31m■■■■\u001b[0m\u001b[33m■■■■\u001b[0mcodec = 1\n",
            "\u001b[31m■■■■\u001b[0m\u001b[33m■■■■\u001b[0m\u001b[32m■■■■\u001b[0m\u001b[34m■■■■\u001b[0m\u001b[31m■■■■\u001b[0m\u001b[33m■■■■\u001b[0mnum_values = 250\n",
            "\u001b[31m■■■■\u001b[0m\u001b[33m■■■■\u001b[0m\u001b[32m■■■■\u001b[0m\u001b[34m■■■■\u001b[0m\u001b[31m■■■■\u001b[0m\u001b[33m■■■■\u001b[0mtotal_uncompressed_size = 155\n",
            "\u001b[31m■■■■\u001b[0m\u001b[33m■■■■\u001b[0m\u001b[32m■■■■\u001b[0m\u001b[34m■■■■\u001b[0m\u001b[31m■■■■\u001b[0m\u001b[33m■■■■\u001b[0mtotal_compressed_size = 157\n",
            "\u001b[31m■■■■\u001b[0m\u001b[33m■■■■\u001b[0m\u001b[32m■■■■\u001b[0m\u001b[34m■■■■\u001b[0m\u001b[31m■■■■\u001b[0m\u001b[33m■■■■\u001b[0mdata_page_offset = 3789\n",
            "\u001b[31m■■■■\u001b[0m\u001b[33m■■■■\u001b[0m\u001b[32m■■■■\u001b[0m\u001b[34m■■■■\u001b[0m\u001b[31m■■■■\u001b[0m\u001b[33m■■■■\u001b[0mdictionary_page_offset = 3731\n",
            "\u001b[31m■■■■\u001b[0m\u001b[33m■■■■\u001b[0m\u001b[32m■■■■\u001b[0m\u001b[34m■■■■\u001b[0m\u001b[31m■■■■\u001b[0m\u001b[33m■■■■\u001b[0mstatistics = Statistics\n",
            "\u001b[31m■■■■\u001b[0m\u001b[33m■■■■\u001b[0m\u001b[32m■■■■\u001b[0m\u001b[34m■■■■\u001b[0m\u001b[31m■■■■\u001b[0m\u001b[33m■■■■\u001b[0m\u001b[32m■■■■\u001b[0mmax_value = b'Over'\n",
            "\u001b[31m■■■■\u001b[0m\u001b[33m■■■■\u001b[0m\u001b[32m■■■■\u001b[0m\u001b[34m■■■■\u001b[0m\u001b[31m■■■■\u001b[0m\u001b[33m■■■■\u001b[0m\u001b[32m■■■■\u001b[0mmin_value = b'Basic'\n",
            "\u001b[31m■■■■\u001b[0m\u001b[33m■■■■\u001b[0m\u001b[32m■■■■\u001b[0m\u001b[34m■■■■\u001b[0m\u001b[31m■■■■\u001b[0m\u001b[33m■■■■\u001b[0mencoding_stats = list\n",
            "\u001b[31m■■■■\u001b[0m\u001b[33m■■■■\u001b[0m\u001b[32m■■■■\u001b[0m\u001b[34m■■■■\u001b[0m\u001b[31m■■■■\u001b[0m\u001b[33m■■■■\u001b[0m\u001b[32m■■■■\u001b[0mPageEncodingStats\n",
            "\u001b[31m■■■■\u001b[0m\u001b[33m■■■■\u001b[0m\u001b[32m■■■■\u001b[0m\u001b[34m■■■■\u001b[0m\u001b[31m■■■■\u001b[0m\u001b[33m■■■■\u001b[0m\u001b[32m■■■■\u001b[0m\u001b[34m■■■■\u001b[0mpage_type = 2\n",
            "\u001b[31m■■■■\u001b[0m\u001b[33m■■■■\u001b[0m\u001b[32m■■■■\u001b[0m\u001b[34m■■■■\u001b[0m\u001b[31m■■■■\u001b[0m\u001b[33m■■■■\u001b[0m\u001b[32m■■■■\u001b[0m\u001b[34m■■■■\u001b[0mencoding = 2\n",
            "\u001b[31m■■■■\u001b[0m\u001b[33m■■■■\u001b[0m\u001b[32m■■■■\u001b[0m\u001b[34m■■■■\u001b[0m\u001b[31m■■■■\u001b[0m\u001b[33m■■■■\u001b[0m\u001b[32m■■■■\u001b[0m\u001b[34m■■■■\u001b[0mcount = 1\n",
            "\u001b[31m■■■■\u001b[0m\u001b[33m■■■■\u001b[0m\u001b[32m■■■■\u001b[0m\u001b[34m■■■■\u001b[0m\u001b[31m■■■■\u001b[0m\u001b[33m■■■■\u001b[0m\u001b[32m■■■■\u001b[0mPageEncodingStats\n",
            "\u001b[31m■■■■\u001b[0m\u001b[33m■■■■\u001b[0m\u001b[32m■■■■\u001b[0m\u001b[34m■■■■\u001b[0m\u001b[31m■■■■\u001b[0m\u001b[33m■■■■\u001b[0m\u001b[32m■■■■\u001b[0m\u001b[34m■■■■\u001b[0mencoding = 2\n",
            "\u001b[31m■■■■\u001b[0m\u001b[33m■■■■\u001b[0m\u001b[32m■■■■\u001b[0m\u001b[34m■■■■\u001b[0m\u001b[31m■■■■\u001b[0m\u001b[33m■■■■\u001b[0m\u001b[32m■■■■\u001b[0m\u001b[34m■■■■\u001b[0mcount = 1\n",
            "\u001b[31m■■■■\u001b[0m\u001b[33m■■■■\u001b[0m\u001b[32m■■■■\u001b[0m\u001b[34m■■■■\u001b[0m\u001b[31m■■■■\u001b[0moffset_index_offset = 4456\n",
            "\u001b[31m■■■■\u001b[0m\u001b[33m■■■■\u001b[0m\u001b[32m■■■■\u001b[0m\u001b[34m■■■■\u001b[0m\u001b[31m■■■■\u001b[0moffset_index_length = 12\n",
            "\u001b[31m■■■■\u001b[0m\u001b[33m■■■■\u001b[0m\u001b[32m■■■■\u001b[0m\u001b[34m■■■■\u001b[0m\u001b[31m■■■■\u001b[0mcolumn_index_offset = 4272\n",
            "\u001b[31m■■■■\u001b[0m\u001b[33m■■■■\u001b[0m\u001b[32m■■■■\u001b[0m\u001b[34m■■■■\u001b[0m\u001b[31m■■■■\u001b[0mcolumn_index_length = 24\n",
            "\u001b[31m■■■■\u001b[0m\u001b[33m■■■■\u001b[0m\u001b[32m■■■■\u001b[0mtotal_byte_size = 6644\n",
            "\u001b[31m■■■■\u001b[0m\u001b[33m■■■■\u001b[0m\u001b[32m■■■■\u001b[0mnum_rows = 250\n",
            "\u001b[31m■■■■\u001b[0m\u001b[33m■■■■\u001b[0m\u001b[32m■■■■\u001b[0mfile_offset = 4\n",
            "\u001b[31m■■■■\u001b[0m\u001b[33m■■■■\u001b[0m\u001b[32m■■■■\u001b[0mtotal_compressed_size = 3884\n",
            "\u001b[31m■■■■\u001b[0mkey_value_metadata = list\n",
            "\u001b[31m■■■■\u001b[0m\u001b[33m■■■■\u001b[0mKeyValue\n",
            "\u001b[31m■■■■\u001b[0m\u001b[33m■■■■\u001b[0m\u001b[32m■■■■\u001b[0mkey = org.apache.spark.version\n",
            "\u001b[31m■■■■\u001b[0m\u001b[33m■■■■\u001b[0m\u001b[32m■■■■\u001b[0mvalue = 3.5.3\n",
            "\u001b[31m■■■■\u001b[0m\u001b[33m■■■■\u001b[0mKeyValue\n",
            "\u001b[31m■■■■\u001b[0m\u001b[33m■■■■\u001b[0m\u001b[32m■■■■\u001b[0mkey = org.apache.spark.sql.parquet.row.metadata\n",
            "\u001b[31m■■■■\u001b[0m\u001b[33m■■■■\u001b[0m\u001b[32m■■■■\u001b[0mvalue = {\"type\":\"struct\",\"fields\":[{\"name\":\"saleid\",\"type\":\"string\",\"nullable\":true,\"metadata\":{}},{\"name\":\"saledate\",\"type\":\"date\",\"nullable\":true,\"metadata\":{}},{\"name\":\"quantity\",\"type\":\"double\",\"nullable\":true,\"metadata\":{}},{\"name\":\"unitprice\",\"type\":\"double\",\"nullable\":true,\"metadata\":{}},{\"name\":\"shopid\",\"type\":\"string\",\"nullable\":true,\"metadata\":{}},{\"name\":\"state\",\"type\":\"string\",\"nullable\":true,\"metadata\":{}},{\"name\":\"country\",\"type\":\"string\",\"nullable\":true,\"metadata\":{}},{\"name\":\"shopsize\",\"type\":\"string\",\"nullable\":true,\"metadata\":{}},{\"name\":\"productid\",\"type\":\"string\",\"nullable\":true,\"metadata\":{}},{\"name\":\"category\",\"type\":\"string\",\"nullable\":true,\"metadata\":{}},{\"name\":\"subcategory\",\"type\":\"string\",\"nullable\":true,\"metadata\":{}},{\"name\":\"size\",\"type\":\"string\",\"nullable\":true,\"metadata\":{}},{\"name\":\"purchaseprice\",\"type\":\"double\",\"nullable\":true,\"metadata\":{}},{\"name\":\"color\",\"type\":\"string\",\"nullable\":true,\"metadata\":{}},{\"name\":\"brand\",\"type\":\"string\",\"nullable\":true,\"metadata\":{}}]}\n",
            "\u001b[31m■■■■\u001b[0mcreated_by = parquet-mr version 1.13.1 (build db4183109d5b734ec5930d870cdae161e408ddba)\n",
            "\u001b[31m■■■■\u001b[0mcolumn_orders = list\n",
            "\u001b[31m■■■■\u001b[0m\u001b[33m■■■■\u001b[0mColumnOrder\n",
            "\u001b[31m■■■■\u001b[0m\u001b[33m■■■■\u001b[0m\u001b[32m■■■■\u001b[0mTYPE_ORDER = TypeDefinedOrder\n",
            "\u001b[31m■■■■\u001b[0m\u001b[33m■■■■\u001b[0mColumnOrder\n",
            "\u001b[31m■■■■\u001b[0m\u001b[33m■■■■\u001b[0m\u001b[32m■■■■\u001b[0mTYPE_ORDER = TypeDefinedOrder\n",
            "\u001b[31m■■■■\u001b[0m\u001b[33m■■■■\u001b[0mColumnOrder\n",
            "\u001b[31m■■■■\u001b[0m\u001b[33m■■■■\u001b[0m\u001b[32m■■■■\u001b[0mTYPE_ORDER = TypeDefinedOrder\n",
            "\u001b[31m■■■■\u001b[0m\u001b[33m■■■■\u001b[0mColumnOrder\n",
            "\u001b[31m■■■■\u001b[0m\u001b[33m■■■■\u001b[0m\u001b[32m■■■■\u001b[0mTYPE_ORDER = TypeDefinedOrder\n",
            "\u001b[31m■■■■\u001b[0m\u001b[33m■■■■\u001b[0mColumnOrder\n",
            "\u001b[31m■■■■\u001b[0m\u001b[33m■■■■\u001b[0m\u001b[32m■■■■\u001b[0mTYPE_ORDER = TypeDefinedOrder\n",
            "\u001b[31m■■■■\u001b[0m\u001b[33m■■■■\u001b[0mColumnOrder\n",
            "\u001b[31m■■■■\u001b[0m\u001b[33m■■■■\u001b[0m\u001b[32m■■■■\u001b[0mTYPE_ORDER = TypeDefinedOrder\n",
            "\u001b[31m■■■■\u001b[0m\u001b[33m■■■■\u001b[0mColumnOrder\n",
            "\u001b[31m■■■■\u001b[0m\u001b[33m■■■■\u001b[0m\u001b[32m■■■■\u001b[0mTYPE_ORDER = TypeDefinedOrder\n",
            "\u001b[31m■■■■\u001b[0m\u001b[33m■■■■\u001b[0mColumnOrder\n",
            "\u001b[31m■■■■\u001b[0m\u001b[33m■■■■\u001b[0m\u001b[32m■■■■\u001b[0mTYPE_ORDER = TypeDefinedOrder\n",
            "\u001b[31m■■■■\u001b[0m\u001b[33m■■■■\u001b[0mColumnOrder\n",
            "\u001b[31m■■■■\u001b[0m\u001b[33m■■■■\u001b[0m\u001b[32m■■■■\u001b[0mTYPE_ORDER = TypeDefinedOrder\n",
            "\u001b[31m■■■■\u001b[0m\u001b[33m■■■■\u001b[0mColumnOrder\n",
            "\u001b[31m■■■■\u001b[0m\u001b[33m■■■■\u001b[0m\u001b[32m■■■■\u001b[0mTYPE_ORDER = TypeDefinedOrder\n",
            "\u001b[31m■■■■\u001b[0m\u001b[33m■■■■\u001b[0mColumnOrder\n",
            "\u001b[31m■■■■\u001b[0m\u001b[33m■■■■\u001b[0m\u001b[32m■■■■\u001b[0mTYPE_ORDER = TypeDefinedOrder\n",
            "\u001b[31m■■■■\u001b[0m\u001b[33m■■■■\u001b[0mColumnOrder\n",
            "\u001b[31m■■■■\u001b[0m\u001b[33m■■■■\u001b[0m\u001b[32m■■■■\u001b[0mTYPE_ORDER = TypeDefinedOrder\n",
            "\u001b[31m■■■■\u001b[0m\u001b[33m■■■■\u001b[0mColumnOrder\n",
            "\u001b[31m■■■■\u001b[0m\u001b[33m■■■■\u001b[0m\u001b[32m■■■■\u001b[0mTYPE_ORDER = TypeDefinedOrder\n",
            "\u001b[31m■■■■\u001b[0m\u001b[33m■■■■\u001b[0mColumnOrder\n",
            "\u001b[31m■■■■\u001b[0m\u001b[33m■■■■\u001b[0m\u001b[32m■■■■\u001b[0mTYPE_ORDER = TypeDefinedOrder\n",
            "\u001b[31m■■■■\u001b[0m\u001b[33m■■■■\u001b[0mColumnOrder\n",
            "\u001b[31m■■■■\u001b[0m\u001b[33m■■■■\u001b[0m\u001b[32m■■■■\u001b[0mTYPE_ORDER = TypeDefinedOrder\u001b[0m\n",
            "\u001b[0m\u001b[0m"
          ]
        }
      ],
      "source": [
        "!parquet-tools inspect --detail /tmp/deltaSalesPerCity/'city=Bergamo'/*parquet"
      ]
    },
    {
      "cell_type": "markdown",
      "metadata": {
        "id": "6jbB6lVIQcUb"
      },
      "source": [
        "#### Partition by two columns"
      ]
    },
    {
      "cell_type": "code",
      "execution_count": 115,
      "metadata": {
        "colab": {
          "base_uri": "https://localhost:8080/"
        },
        "id": "OFlYJvLNdIiC",
        "outputId": "458e3c6b-8dea-4a05-9f26-2996db646476"
      },
      "outputs": [
        {
          "output_type": "execute_result",
          "data": {
            "text/plain": [
              "DataFrame[]"
            ]
          },
          "metadata": {},
          "execution_count": 115
        }
      ],
      "source": [
        "query = \"\"\"\n",
        "CREATE TABLE delta.`/tmp/deltaSalesPerCityCategory` USING DELTA PARTITIONED BY (city,category)\n",
        "AS SELECT * FROM salesOriginal\n",
        "\"\"\"\n",
        "spark.sql(query)"
      ]
    },
    {
      "cell_type": "code",
      "execution_count": 116,
      "metadata": {
        "colab": {
          "base_uri": "https://localhost:8080/"
        },
        "id": "mH77O5MVdY_t",
        "outputId": "0dff8878-9d11-4386-ca00-2c5e70078141"
      },
      "outputs": [
        {
          "output_type": "stream",
          "name": "stdout",
          "text": [
            "+-----------------------+---------+-------+\n",
            "|col_name               |data_type|comment|\n",
            "+-----------------------+---------+-------+\n",
            "|saleid                 |string   |NULL   |\n",
            "|saledate               |date     |NULL   |\n",
            "|quantity               |double   |NULL   |\n",
            "|unitprice              |double   |NULL   |\n",
            "|shopid                 |string   |NULL   |\n",
            "|city                   |string   |NULL   |\n",
            "|state                  |string   |NULL   |\n",
            "|country                |string   |NULL   |\n",
            "|shopsize               |string   |NULL   |\n",
            "|productid              |string   |NULL   |\n",
            "|category               |string   |NULL   |\n",
            "|subcategory            |string   |NULL   |\n",
            "|size                   |string   |NULL   |\n",
            "|purchaseprice          |double   |NULL   |\n",
            "|color                  |string   |NULL   |\n",
            "|brand                  |string   |NULL   |\n",
            "|# Partition Information|         |       |\n",
            "|# col_name             |data_type|comment|\n",
            "|city                   |string   |NULL   |\n",
            "|category               |string   |NULL   |\n",
            "+-----------------------+---------+-------+\n",
            "\n"
          ]
        }
      ],
      "source": [
        "query = \"\"\"\n",
        "DESCRIBE delta.`/tmp/deltaSalesPerCityCategory`\n",
        "\"\"\"\n",
        "spark.sql(query).show(truncate=False)"
      ]
    },
    {
      "cell_type": "code",
      "execution_count": 117,
      "metadata": {
        "colab": {
          "base_uri": "https://localhost:8080/"
        },
        "id": "sCOh_T95ddDE",
        "outputId": "8da0e752-5641-45d4-b6c8-5c41956848a0"
      },
      "outputs": [
        {
          "output_type": "stream",
          "name": "stdout",
          "text": [
            "'city=Bergamo'\t'city=Los Angeles'  'city=Pescara'\t  'city=San Jose'\n",
            "'city=Chicago'\t'city=Milan'\t    'city=Regensburg'\t   _delta_log\n",
            "'city=Chieti'\t'city=Munich'\t    'city=San Antonio'\n",
            "'city=Fulda'\t'city=New York'     'city=San Diego'\n",
            "'city=Houston'\t'city=Offenbach'    'city=San Francisco'\n"
          ]
        }
      ],
      "source": [
        "! ls /tmp/deltaSalesPerCityCategory"
      ]
    },
    {
      "cell_type": "code",
      "execution_count": 118,
      "metadata": {
        "colab": {
          "base_uri": "https://localhost:8080/"
        },
        "id": "n5v17k81dodg",
        "outputId": "4775b79c-0cb8-4ecd-d6b1-ef3ff4a7fe43"
      },
      "outputs": [
        {
          "output_type": "stream",
          "name": "stdout",
          "text": [
            "'category=Cloth'  'category=Furniture'\n"
          ]
        }
      ],
      "source": [
        "! ls /tmp/deltaSalesPerCityCategory/'city=Bergamo'"
      ]
    },
    {
      "cell_type": "code",
      "execution_count": 119,
      "metadata": {
        "colab": {
          "base_uri": "https://localhost:8080/"
        },
        "id": "PFULTUFuYGWC",
        "outputId": "bd864195-cb10-4a59-c4b0-634fed07965b"
      },
      "outputs": [
        {
          "output_type": "stream",
          "name": "stdout",
          "text": [
            "00000000000000000000.json\n"
          ]
        }
      ],
      "source": [
        "! ls /tmp/deltaSalesPerCityCategory/_delta_log"
      ]
    },
    {
      "cell_type": "markdown",
      "metadata": {
        "id": "sp2_U2rfeSLr"
      },
      "source": [
        "### Comparing the query plans"
      ]
    },
    {
      "cell_type": "markdown",
      "metadata": {
        "id": "FXEjT5Y_g3Ry"
      },
      "source": [
        "#### selection query on the partitionning column"
      ]
    },
    {
      "cell_type": "code",
      "execution_count": 120,
      "metadata": {
        "colab": {
          "base_uri": "https://localhost:8080/"
        },
        "id": "mNrjessAfmdc",
        "outputId": "e0d0b6f2-ee0c-4802-abf2-2fc6d4f32474"
      },
      "outputs": [
        {
          "output_type": "execute_result",
          "data": {
            "text/plain": [
              "[Row(sumQty=1214.0, maxPrice=440.0)]"
            ]
          },
          "metadata": {},
          "execution_count": 120
        }
      ],
      "source": [
        "spark.sparkContext.setJobDescription('P1: selection salesOriginal on city = SF or C')\n",
        "\n",
        "query = \"\"\"\n",
        "SELECT sum(quantity) as sumQty, max(unitprice) as maxPrice\n",
        "FROM salesOriginal\n",
        "WHERE city in('San Francisco', 'Chicago')\n",
        "\"\"\"\n",
        "spark.sql(query).collect()"
      ]
    },
    {
      "cell_type": "code",
      "execution_count": 121,
      "metadata": {
        "colab": {
          "base_uri": "https://localhost:8080/"
        },
        "id": "Hb5EZGayf71D",
        "outputId": "d2844e94-f5ff-4b45-b9a2-cccc333561b1"
      },
      "outputs": [
        {
          "output_type": "execute_result",
          "data": {
            "text/plain": [
              "[Row(sumQty=1214.0, maxPrice=440.0)]"
            ]
          },
          "metadata": {},
          "execution_count": 121
        }
      ],
      "source": [
        "spark.sparkContext.setJobDescription('P2: selection deltaSalesPerCity on city = SF or C')\n",
        "\n",
        "query = \"\"\"\n",
        "SELECT sum(quantity) as sumQty, max(unitprice) as maxPrice\n",
        "FROM delta.`/tmp/deltaSalesPerCity`\n",
        "WHERE city in('San Francisco', 'Chicago')\n",
        "\"\"\"\n",
        "spark.sql(query).collect()"
      ]
    },
    {
      "cell_type": "markdown",
      "metadata": {
        "id": "iWlB-XC1-LH3"
      },
      "source": [
        "report and compare the number of files and size of data read in the two above plans\n",
        "- P1\n",
        "- P2"
      ]
    },
    {
      "cell_type": "code",
      "execution_count": 122,
      "metadata": {
        "colab": {
          "base_uri": "https://localhost:8080/"
        },
        "id": "y9L3-WJASETG",
        "outputId": "1398152e-509b-4573-dfe7-3310ce6251a6"
      },
      "outputs": [
        {
          "output_type": "execute_result",
          "data": {
            "text/plain": [
              "[Row(sumQty=5208.0, maxPrice=60.0)]"
            ]
          },
          "metadata": {},
          "execution_count": 122
        }
      ],
      "source": [
        "spark.sparkContext.setJobDescription('P3: selection salesOriginal on category = C')\n",
        "\n",
        "query = \"\"\"\n",
        "SELECT sum(quantity) as sumQty, max(unitprice) as maxPrice\n",
        "FROM salesOriginal\n",
        "WHERE category = 'Cloth'\n",
        "\"\"\"\n",
        "spark.sql(query).collect()"
      ]
    },
    {
      "cell_type": "code",
      "execution_count": 123,
      "metadata": {
        "colab": {
          "base_uri": "https://localhost:8080/"
        },
        "id": "pTp7SO8eSC9s",
        "outputId": "7975b7b7-ed43-455b-9cd8-61f7d867c45a"
      },
      "outputs": [
        {
          "output_type": "execute_result",
          "data": {
            "text/plain": [
              "[Row(sumQty=5208.0, maxPrice=60.0)]"
            ]
          },
          "metadata": {},
          "execution_count": 123
        }
      ],
      "source": [
        "spark.sparkContext.setJobDescription('P4 selection deltaSalesPerCityCategory on category = C')\n",
        "\n",
        "query = \"\"\"\n",
        "SELECT sum(quantity) as sumQty, max(unitprice) as maxPrice\n",
        "FROM delta.`/tmp/deltaSalesPerCityCategory`\n",
        "WHERE category = 'Cloth'\n",
        "\"\"\"\n",
        "spark.sql(query).collect()"
      ]
    },
    {
      "cell_type": "markdown",
      "metadata": {
        "id": "eOMjfXvT_KGy"
      },
      "source": [
        "report and compare the number of files and size of data read in the two above plans\n",
        "- P3\n",
        "- P4"
      ]
    },
    {
      "cell_type": "markdown",
      "metadata": {
        "id": "tbe8NswrWrsz"
      },
      "source": [
        "#### selection query on a column not used for partitionning"
      ]
    },
    {
      "cell_type": "code",
      "execution_count": 124,
      "metadata": {
        "colab": {
          "base_uri": "https://localhost:8080/"
        },
        "id": "jnrw7x9pW12_",
        "outputId": "204be074-5a29-482b-9124-b32f3270a080"
      },
      "outputs": [
        {
          "output_type": "execute_result",
          "data": {
            "text/plain": [
              "[Row(sumQty=3232.0, maxPrice=440.0)]"
            ]
          },
          "metadata": {},
          "execution_count": 124
        }
      ],
      "source": [
        "spark.sparkContext.setJobDescription('P5 selection salesOriginal on country = G or I')\n",
        "\n",
        "query = \"\"\"\n",
        "SELECT sum(quantity) as sumQty, max(unitprice) as maxPrice\n",
        "FROM salesOriginal\n",
        "WHERE country in ('Germany', 'Italy')\n",
        "\"\"\"\n",
        "spark.sql(query).collect()"
      ]
    },
    {
      "cell_type": "code",
      "execution_count": 125,
      "metadata": {
        "colab": {
          "base_uri": "https://localhost:8080/"
        },
        "id": "OMxYv41aW4BR",
        "outputId": "aa24e32e-68e0-4a20-ae73-88d13ea55a89"
      },
      "outputs": [
        {
          "output_type": "execute_result",
          "data": {
            "text/plain": [
              "[Row(sumQty=3232.0, maxPrice=440.0)]"
            ]
          },
          "metadata": {},
          "execution_count": 125
        }
      ],
      "source": [
        "spark.sparkContext.setJobDescription('P6 selection deltaSalesPerCity on country = G or I')\n",
        "\n",
        "query = \"\"\"\n",
        "SELECT sum(quantity) as sumQty, max(unitprice) as maxPrice\n",
        "FROM delta.`/tmp/deltaSalesPerCity`\n",
        "WHERE country in ('Germany', 'Italy')\n",
        "\"\"\"\n",
        "spark.sql(query).collect()"
      ]
    },
    {
      "cell_type": "markdown",
      "metadata": {
        "id": "wS7Mnm1y_wHt"
      },
      "source": [
        "report and compare the number of files and size of data read in the two above plans\n",
        "- P5\n",
        "- P6"
      ]
    },
    {
      "cell_type": "markdown",
      "metadata": {
        "id": "MppWYwCjezIP"
      },
      "source": [
        "#### aggregation query on the partitionning column"
      ]
    },
    {
      "cell_type": "code",
      "execution_count": 126,
      "metadata": {
        "colab": {
          "base_uri": "https://localhost:8080/"
        },
        "id": "_8puO38ad0Ax",
        "outputId": "4913048c-9552-42cc-907a-5aa6971df36e"
      },
      "outputs": [
        {
          "output_type": "execute_result",
          "data": {
            "text/plain": [
              "Row(city='Fulda', sumQty=405.0, maxPrice=440.0)"
            ]
          },
          "metadata": {},
          "execution_count": 126
        }
      ],
      "source": [
        "spark.sparkContext.setJobDescription('P7 aggregation salesOriginal on city')\n",
        "\n",
        "query = \"\"\"\n",
        "SELECT city, sum(quantity) as sumQty, max(unitprice) as maxPrice\n",
        "FROM salesOriginal\n",
        "group by city\n",
        "\"\"\"\n",
        "spark.sql(query).collect()[0]"
      ]
    },
    {
      "cell_type": "code",
      "execution_count": 127,
      "metadata": {
        "colab": {
          "base_uri": "https://localhost:8080/"
        },
        "id": "VhXpTsWqeyW3",
        "outputId": "df62b2d4-5da0-43bc-e171-02c7b6c2ccf6"
      },
      "outputs": [
        {
          "output_type": "execute_result",
          "data": {
            "text/plain": [
              "Row(city='Fulda', sumQty=405.0, maxPrice=440.0)"
            ]
          },
          "metadata": {},
          "execution_count": 127
        }
      ],
      "source": [
        "spark.sparkContext.setJobDescription('P8 aggregation deltaSalesPerCity on city')\n",
        "\n",
        "query = \"\"\"\n",
        "SELECT city, sum(quantity) as sumQty, max(unitprice) as maxPrice\n",
        "FROM delta.`/tmp/deltaSalesPerCity`\n",
        "group by city\n",
        "\"\"\"\n",
        "spark.sql(query).collect()[0]"
      ]
    },
    {
      "cell_type": "markdown",
      "metadata": {
        "id": "EfO1YeUyC9cO"
      },
      "source": [
        "report and compare the number of files and size of data read in the two above plans\n",
        "- P7\n",
        "- P8"
      ]
    },
    {
      "cell_type": "markdown",
      "metadata": {
        "id": "Cf_TDu65ZXGX"
      },
      "source": [
        "#### aggregation query on a column not used for partitionning"
      ]
    },
    {
      "cell_type": "code",
      "execution_count": 128,
      "metadata": {
        "colab": {
          "base_uri": "https://localhost:8080/"
        },
        "id": "16TGl-v1ZhjN",
        "outputId": "ca7408f5-be5c-4718-bf04-3d48fa4df706"
      },
      "outputs": [
        {
          "output_type": "execute_result",
          "data": {
            "text/plain": [
              "Row(country='Germany', sumQty=1616.0, maxPrice=440.0)"
            ]
          },
          "metadata": {},
          "execution_count": 128
        }
      ],
      "source": [
        "spark.sparkContext.setJobDescription('P9 aggregation salesOriginal on country')\n",
        "\n",
        "query = \"\"\"\n",
        "SELECT country, sum(quantity) as sumQty, max(unitprice) as maxPrice\n",
        "FROM salesOriginal\n",
        "group by country\n",
        "\"\"\"\n",
        "spark.sql(query).collect()[0]"
      ]
    },
    {
      "cell_type": "code",
      "execution_count": 129,
      "metadata": {
        "colab": {
          "base_uri": "https://localhost:8080/"
        },
        "id": "-VPmkIpJZhSg",
        "outputId": "167e804b-2be4-43ee-95c9-4f9aa9dfa888"
      },
      "outputs": [
        {
          "output_type": "execute_result",
          "data": {
            "text/plain": [
              "Row(country='Germany', sumQty=1616.0, maxPrice=440.0)"
            ]
          },
          "metadata": {},
          "execution_count": 129
        }
      ],
      "source": [
        "spark.sparkContext.setJobDescription('P10 aggregation deltaSalesPerCity on country')\n",
        "\n",
        "query = \"\"\"\n",
        "SELECT country, sum(quantity) as sumQty, max(unitprice) as maxPrice\n",
        "FROM delta.`/tmp/deltaSalesPerCity`\n",
        "group by country\n",
        "\"\"\"\n",
        "spark.sql(query).collect()[0]"
      ]
    },
    {
      "cell_type": "markdown",
      "metadata": {
        "id": "ggjgvg1wDTaq"
      },
      "source": [
        "report and compare the number of files and size of data read in the two above plans\n",
        "- P9\n",
        "- P10"
      ]
    }
  ],
  "metadata": {
    "colab": {
      "provenance": [],
      "toc_visible": true
    },
    "kernelspec": {
      "display_name": ".env",
      "language": "python",
      "name": "python3"
    },
    "language_info": {
      "codemirror_mode": {
        "name": "ipython",
        "version": 3
      },
      "file_extension": ".py",
      "mimetype": "text/x-python",
      "name": "python",
      "nbconvert_exporter": "python",
      "pygments_lexer": "ipython3",
      "version": "3.10.12"
    }
  },
  "nbformat": 4,
  "nbformat_minor": 0
}
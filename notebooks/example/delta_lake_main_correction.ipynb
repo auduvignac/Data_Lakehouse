{
  "nbformat": 4,
  "nbformat_minor": 0,
  "metadata": {
    "colab": {
      "provenance": [],
      "toc_visible": true
    },
    "kernelspec": {
      "name": "python3",
      "display_name": "Python 3"
    },
    "language_info": {
      "name": "python"
    }
  },
  "cells": [
    {
      "cell_type": "markdown",
      "source": [
        "* Formation Continue EMIASD, Univ. Paris Dauphine, Promo 6\n",
        "* Author: Mohamed-Amine Baazizi\n",
        "* Affiliation: LIP6 - Faculté des Sciences - Sorbonne Université\n",
        "* Email: mohamed-amine.baazizi@lip6.fr\n",
        "* Reusing without consent of the author is strictly forbidden\n",
        "* June 2025\n",
        "\n"
      ],
      "metadata": {
        "id": "GwjrdGLoXzly"
      }
    },
    {
      "cell_type": "markdown",
      "source": [
        "# Delta Lake\n"
      ],
      "metadata": {
        "id": "GunJfIR6YM_h"
      }
    },
    {
      "cell_type": "markdown",
      "source": [
        "## Outline"
      ],
      "metadata": {
        "id": "-kfCqy7EtbGd"
      }
    },
    {
      "cell_type": "markdown",
      "source": [
        "This lab is dedicated to practicing Delta Lake. It begins with a set of demos meant to illustrate the usage of Delta, on small examples.\n",
        "A use case based on realistic data is then presented and followed by the analysis of query plans generated for Delta operations.\n",
        "\n",
        "\n",
        "For the official documentation visit https://docs.delta.io/latest/index.html\n",
        "\n",
        "\n",
        "\n",
        "\n",
        "\n",
        "\n",
        "\n"
      ],
      "metadata": {
        "id": "GpI9l0JZYRdh"
      }
    },
    {
      "cell_type": "markdown",
      "source": [
        "## Prerequisite"
      ],
      "metadata": {
        "id": "csSU_SanYPJQ"
      }
    },
    {
      "cell_type": "markdown",
      "source": [
        "### System setup"
      ],
      "metadata": {
        "id": "BYxx4XY_TN0H"
      }
    },
    {
      "cell_type": "code",
      "execution_count": null,
      "metadata": {
        "id": "mW_DrY7ZlUj_"
      },
      "outputs": [],
      "source": [
        "%%capture\n",
        "!pip install pyspark==3.5.3\n",
        "!pip install -q delta-spark==3.2.1\n",
        "!pip install pyngrok"
      ]
    },
    {
      "cell_type": "code",
      "source": [
        "!pip list|grep spark"
      ],
      "metadata": {
        "colab": {
          "base_uri": "https://localhost:8080/"
        },
        "id": "o1YXYF4nWHNE",
        "outputId": "052cb325-bdee-479e-80e6-06cfe5890a44"
      },
      "execution_count": null,
      "outputs": [
        {
          "output_type": "stream",
          "name": "stdout",
          "text": [
            "dataproc-spark-connect                0.7.5\n",
            "delta-spark                           3.2.1\n",
            "pyspark                               3.5.3\n"
          ]
        }
      ]
    },
    {
      "cell_type": "code",
      "source": [
        "import pyspark\n",
        "print(f\"PySpark version: {pyspark.__version__}\")"
      ],
      "metadata": {
        "colab": {
          "base_uri": "https://localhost:8080/"
        },
        "id": "YleMAo5BgR0P",
        "outputId": "cf18d99d-66a7-4f24-a9ac-b3a8db50068a"
      },
      "execution_count": null,
      "outputs": [
        {
          "output_type": "stream",
          "name": "stdout",
          "text": [
            "PySpark version: 3.5.3\n"
          ]
        }
      ]
    },
    {
      "cell_type": "code",
      "source": [
        "from pyspark import SparkConf\n",
        "# from pyspark.context import SparkContext\n",
        "from pyspark.sql import SparkSession\n",
        "\n",
        "local = \"local[*]\"\n",
        "appName = \"Formation Continue EMIASD - Delta Lake \"\n",
        "localConfig = SparkConf().setAppName(appName).setMaster(local).\\\n",
        "  set(\"spark.executor.memory\", \"8G\").\\\n",
        "  set(\"spark.driver.memory\",\"8G\").\\\n",
        "  set(\"spark.sql.catalogImplementation\",\"in-memory\").\\\n",
        "  set(\"spark.sql.extensions\",\"io.delta.sql.DeltaSparkSessionExtension\").\\\n",
        "  set(\"spark.sql.catalog.spark_catalog\",\"org.apache.spark.sql.delta.catalog.DeltaCatalog\").\\\n",
        "  set(\"spark.jars.packages\",\"io.delta:delta-spark_2.12:3.1.0\").\\\n",
        "  set(\"spark.databricks.delta.schema.autoMerge.enabled\",\"true\")\n",
        "\n",
        "spark = SparkSession.builder.config(conf = localConfig).getOrCreate()\n",
        "sc = spark.sparkContext\n",
        "sc.setLogLevel(\"ERROR\")"
      ],
      "metadata": {
        "id": "ZGcYc-DKqpUi"
      },
      "execution_count": null,
      "outputs": []
    },
    {
      "cell_type": "code",
      "source": [
        "spark"
      ],
      "metadata": {
        "colab": {
          "base_uri": "https://localhost:8080/",
          "height": 222
        },
        "id": "tvPytoK4Xl3t",
        "outputId": "94c5408b-e222-4092-e738-12f7e0d5146b"
      },
      "execution_count": null,
      "outputs": [
        {
          "output_type": "execute_result",
          "data": {
            "text/plain": [
              "<pyspark.sql.session.SparkSession at 0x7f7ac5e21450>"
            ],
            "text/html": [
              "\n",
              "            <div>\n",
              "                <p><b>SparkSession - in-memory</b></p>\n",
              "                \n",
              "        <div>\n",
              "            <p><b>SparkContext</b></p>\n",
              "\n",
              "            <p><a href=\"http://73cb4bf66ce2:4040\">Spark UI</a></p>\n",
              "\n",
              "            <dl>\n",
              "              <dt>Version</dt>\n",
              "                <dd><code>v3.5.3</code></dd>\n",
              "              <dt>Master</dt>\n",
              "                <dd><code>local[*]</code></dd>\n",
              "              <dt>AppName</dt>\n",
              "                <dd><code>Formation Continue EMIASD - Delta Lake </code></dd>\n",
              "            </dl>\n",
              "        </div>\n",
              "        \n",
              "            </div>\n",
              "        "
            ]
          },
          "metadata": {},
          "execution_count": 5
        }
      ]
    },
    {
      "cell_type": "markdown",
      "source": [
        "### Data import"
      ],
      "metadata": {
        "id": "uEE-92qgTQ4p"
      }
    },
    {
      "cell_type": "code",
      "source": [
        "%%capture\n",
        "! wget https://nuage.lip6.fr/s/BbQ9rzGHKJexKYp/download/sales.tar -O /tmp/sales.tar\n",
        "!mkdir /tmp/delta\n",
        "! tar xvf /tmp/sales.tar -C /tmp/delta\n"
      ],
      "metadata": {
        "id": "95fudS-iTbB5"
      },
      "execution_count": null,
      "outputs": []
    },
    {
      "cell_type": "code",
      "source": [
        "!ls /tmp/delta/sales"
      ],
      "metadata": {
        "colab": {
          "base_uri": "https://localhost:8080/"
        },
        "id": "o7YspSlaTdTh",
        "outputId": "4a1c6708-e60c-42a2-e1e1-b856f76f9c53"
      },
      "execution_count": null,
      "outputs": [
        {
          "output_type": "stream",
          "name": "stdout",
          "text": [
            "march23_sales.csv  salesOriginal.csv\n"
          ]
        }
      ]
    },
    {
      "cell_type": "markdown",
      "source": [
        "## Demo1: first steps"
      ],
      "metadata": {
        "id": "PPmP7vcOr6XX"
      }
    },
    {
      "cell_type": "markdown",
      "source": [
        "### load the data into delta"
      ],
      "metadata": {
        "id": "6sBb4C8GteZR"
      }
    },
    {
      "cell_type": "code",
      "source": [
        "query = \"\"\"\n",
        "CREATE TABLE delta.`/tmp/delta-table` USING DELTA AS SELECT col1 as id FROM VALUES 0,1,2,3,4;\n",
        "\"\"\"\n",
        "spark.sql(query)\n"
      ],
      "metadata": {
        "colab": {
          "base_uri": "https://localhost:8080/"
        },
        "id": "4pqEJ8Q5Y4SX",
        "outputId": "7ce225b7-2a1a-429c-d288-1b0fdfffbd25"
      },
      "execution_count": null,
      "outputs": [
        {
          "output_type": "execute_result",
          "data": {
            "text/plain": [
              "DataFrame[]"
            ]
          },
          "metadata": {},
          "execution_count": 9
        }
      ]
    },
    {
      "cell_type": "code",
      "source": [
        "query = \"\"\"\n",
        "SELECT * FROM delta.`/tmp/delta-table`;\n",
        "\"\"\"\n",
        "spark.sql(query).show()"
      ],
      "metadata": {
        "colab": {
          "base_uri": "https://localhost:8080/"
        },
        "id": "0biz8Q2kZGh5",
        "outputId": "50acee89-4355-4024-b1d4-f4ad26d40744"
      },
      "execution_count": null,
      "outputs": [
        {
          "output_type": "stream",
          "name": "stdout",
          "text": [
            "+---+\n",
            "| id|\n",
            "+---+\n",
            "|  2|\n",
            "|  3|\n",
            "|  4|\n",
            "|  0|\n",
            "|  1|\n",
            "+---+\n",
            "\n"
          ]
        }
      ]
    },
    {
      "cell_type": "markdown",
      "source": [
        "### update the data\n",
        "#### overwrite"
      ],
      "metadata": {
        "id": "7gC5yWqIti5z"
      }
    },
    {
      "cell_type": "code",
      "source": [
        "query = \"\"\"\n",
        "INSERT OVERWRITE delta.`/tmp/delta-table` SELECT col1 as id FROM VALUES 5,6,7,8,9;\n",
        "\"\"\"\n",
        "spark.sql(query)\n"
      ],
      "metadata": {
        "colab": {
          "base_uri": "https://localhost:8080/"
        },
        "id": "54vtYTfOZWMg",
        "outputId": "e65ac606-ac1b-4115-a22b-670a62b18820"
      },
      "execution_count": null,
      "outputs": [
        {
          "output_type": "execute_result",
          "data": {
            "text/plain": [
              "DataFrame[]"
            ]
          },
          "metadata": {},
          "execution_count": 11
        }
      ]
    },
    {
      "cell_type": "code",
      "source": [
        "query = \"\"\"\n",
        "SELECT * FROM delta.`/tmp/delta-table`;\n",
        "\"\"\"\n",
        "spark.sql(query).show()"
      ],
      "metadata": {
        "colab": {
          "base_uri": "https://localhost:8080/"
        },
        "id": "d4UkNiH4ZanE",
        "outputId": "aa64c1cf-f36c-4a97-b2db-174d1a1274bc"
      },
      "execution_count": null,
      "outputs": [
        {
          "output_type": "stream",
          "name": "stdout",
          "text": [
            "+---+\n",
            "| id|\n",
            "+---+\n",
            "|  7|\n",
            "|  8|\n",
            "|  9|\n",
            "|  5|\n",
            "|  6|\n",
            "+---+\n",
            "\n"
          ]
        }
      ]
    },
    {
      "cell_type": "markdown",
      "source": [
        "#### conditional overwrite"
      ],
      "metadata": {
        "id": "n51K-OE-zEbi"
      }
    },
    {
      "cell_type": "code",
      "source": [
        "query = \"\"\"\n",
        "UPDATE delta.`/tmp/delta-table` SET id = id + 100 WHERE id % 2 == 0;\n",
        "\"\"\"\n",
        "spark.sql(query)\n"
      ],
      "metadata": {
        "colab": {
          "base_uri": "https://localhost:8080/"
        },
        "id": "PgZYQlzKZmC-",
        "outputId": "43465362-f109-4ec1-b185-f742b4694c17"
      },
      "execution_count": null,
      "outputs": [
        {
          "output_type": "execute_result",
          "data": {
            "text/plain": [
              "DataFrame[num_affected_rows: bigint]"
            ]
          },
          "metadata": {},
          "execution_count": 13
        }
      ]
    },
    {
      "cell_type": "code",
      "source": [
        "query = \"\"\"\n",
        "SELECT * FROM delta.`/tmp/delta-table`;\n",
        "\"\"\"\n",
        "spark.sql(query).show()"
      ],
      "metadata": {
        "colab": {
          "base_uri": "https://localhost:8080/"
        },
        "id": "ZGyGJUbTZ5Tk",
        "outputId": "9ac0d4e7-672a-4056-fdd1-1eeb53822906"
      },
      "execution_count": null,
      "outputs": [
        {
          "output_type": "stream",
          "name": "stdout",
          "text": [
            "+---+\n",
            "| id|\n",
            "+---+\n",
            "|  7|\n",
            "|108|\n",
            "|  9|\n",
            "|  5|\n",
            "|106|\n",
            "+---+\n",
            "\n"
          ]
        }
      ]
    },
    {
      "cell_type": "code",
      "source": [
        "query = \"\"\"\n",
        "DELETE FROM delta.`/tmp/delta-table` WHERE id % 2 == 0;\n",
        "\"\"\"\n",
        "spark.sql(query)"
      ],
      "metadata": {
        "colab": {
          "base_uri": "https://localhost:8080/"
        },
        "id": "WEOePP5UaIhx",
        "outputId": "3a3bc2f0-d769-4242-bcea-ee41f609b1dc"
      },
      "execution_count": null,
      "outputs": [
        {
          "output_type": "execute_result",
          "data": {
            "text/plain": [
              "DataFrame[num_affected_rows: bigint]"
            ]
          },
          "metadata": {},
          "execution_count": 15
        }
      ]
    },
    {
      "cell_type": "code",
      "source": [
        "query = \"\"\"\n",
        "SELECT * FROM delta.`/tmp/delta-table`;\n",
        "\"\"\"\n",
        "spark.sql(query).show()"
      ],
      "metadata": {
        "colab": {
          "base_uri": "https://localhost:8080/"
        },
        "id": "Tycomqu-aIfb",
        "outputId": "961f0617-9902-4160-9182-11318a3fcd13"
      },
      "execution_count": null,
      "outputs": [
        {
          "output_type": "stream",
          "name": "stdout",
          "text": [
            "+---+\n",
            "| id|\n",
            "+---+\n",
            "|  7|\n",
            "|  9|\n",
            "|  5|\n",
            "+---+\n",
            "\n"
          ]
        }
      ]
    },
    {
      "cell_type": "code",
      "source": [
        "query = \"\"\"\n",
        "CREATE TEMP VIEW newData AS SELECT col1 AS id FROM VALUES 1,3,5,7,9,11,13,15,17,19;\n",
        "\"\"\"\n",
        "spark.sql(query)"
      ],
      "metadata": {
        "colab": {
          "base_uri": "https://localhost:8080/"
        },
        "id": "vwV6XupUaPIL",
        "outputId": "b3ba038b-05c9-4296-b59d-8cf88544b0ac"
      },
      "execution_count": null,
      "outputs": [
        {
          "output_type": "execute_result",
          "data": {
            "text/plain": [
              "DataFrame[]"
            ]
          },
          "metadata": {},
          "execution_count": 17
        }
      ]
    },
    {
      "cell_type": "code",
      "source": [
        "query = \"\"\"\n",
        "SELECT * FROM `newData`;\n",
        "\"\"\"\n",
        "spark.sql(query).show()"
      ],
      "metadata": {
        "colab": {
          "base_uri": "https://localhost:8080/"
        },
        "id": "M96V_5IBaZhE",
        "outputId": "337878df-ac45-4953-9a1f-9e0416959544"
      },
      "execution_count": null,
      "outputs": [
        {
          "output_type": "stream",
          "name": "stdout",
          "text": [
            "+---+\n",
            "| id|\n",
            "+---+\n",
            "|  1|\n",
            "|  3|\n",
            "|  5|\n",
            "|  7|\n",
            "|  9|\n",
            "| 11|\n",
            "| 13|\n",
            "| 15|\n",
            "| 17|\n",
            "| 19|\n",
            "+---+\n",
            "\n"
          ]
        }
      ]
    },
    {
      "cell_type": "code",
      "source": [
        "query = \"\"\"\n",
        "MERGE INTO delta.`/tmp/delta-table` AS oldData\n",
        "USING newData\n",
        "ON oldData.id = newData.id\n",
        "WHEN MATCHED\n",
        "  THEN UPDATE SET id = newData.id\n",
        "WHEN NOT MATCHED\n",
        "  THEN INSERT (id) VALUES (newData.id);\n",
        "\"\"\"\n",
        "spark.sql(query)"
      ],
      "metadata": {
        "colab": {
          "base_uri": "https://localhost:8080/"
        },
        "id": "3bPAmhZlaWez",
        "outputId": "fac11af8-8155-4f98-c2cb-b3d90819837f"
      },
      "execution_count": null,
      "outputs": [
        {
          "output_type": "execute_result",
          "data": {
            "text/plain": [
              "DataFrame[num_affected_rows: bigint, num_updated_rows: bigint, num_deleted_rows: bigint, num_inserted_rows: bigint]"
            ]
          },
          "metadata": {},
          "execution_count": 19
        }
      ]
    },
    {
      "cell_type": "code",
      "source": [
        "query = \"\"\"\n",
        "SELECT * FROM delta.`/tmp/delta-table`;\n",
        "\"\"\"\n",
        "spark.sql(query).show()"
      ],
      "metadata": {
        "colab": {
          "base_uri": "https://localhost:8080/"
        },
        "id": "EVIy7AOmaPA5",
        "outputId": "98eee580-bf08-4482-8ab5-97409d2d1729"
      },
      "execution_count": null,
      "outputs": [
        {
          "output_type": "stream",
          "name": "stdout",
          "text": [
            "+---+\n",
            "| id|\n",
            "+---+\n",
            "|  1|\n",
            "|  3|\n",
            "|  5|\n",
            "|  7|\n",
            "|  9|\n",
            "| 11|\n",
            "| 13|\n",
            "| 15|\n",
            "| 17|\n",
            "| 19|\n",
            "+---+\n",
            "\n"
          ]
        }
      ]
    },
    {
      "cell_type": "markdown",
      "source": [
        "### view history"
      ],
      "metadata": {
        "id": "LFk6LjuF6YLI"
      }
    },
    {
      "cell_type": "code",
      "source": [
        "query = \"\"\"\n",
        "SELECT * FROM delta.`/tmp/delta-table` VERSION AS OF 0;\n",
        "\"\"\"\n",
        "spark.sql(query).show()"
      ],
      "metadata": {
        "colab": {
          "base_uri": "https://localhost:8080/"
        },
        "id": "4M23w7FrbuRj",
        "outputId": "185828ce-d54f-46f2-e394-f25ffe6a5f43"
      },
      "execution_count": null,
      "outputs": [
        {
          "output_type": "stream",
          "name": "stdout",
          "text": [
            "+---+\n",
            "| id|\n",
            "+---+\n",
            "|  2|\n",
            "|  3|\n",
            "|  4|\n",
            "|  0|\n",
            "|  1|\n",
            "+---+\n",
            "\n"
          ]
        }
      ]
    },
    {
      "cell_type": "code",
      "source": [
        "query = \"\"\"\n",
        "SELECT * FROM delta.`/tmp/delta-table` VERSION AS OF 1;\n",
        "\"\"\"\n",
        "spark.sql(query).show()"
      ],
      "metadata": {
        "colab": {
          "base_uri": "https://localhost:8080/"
        },
        "id": "BxTIpNxYbzDV",
        "outputId": "95d393b3-6cc9-476d-8e0b-fd311efc9b24"
      },
      "execution_count": null,
      "outputs": [
        {
          "output_type": "stream",
          "name": "stdout",
          "text": [
            "+---+\n",
            "| id|\n",
            "+---+\n",
            "|  7|\n",
            "|  8|\n",
            "|  9|\n",
            "|  5|\n",
            "|  6|\n",
            "+---+\n",
            "\n"
          ]
        }
      ]
    },
    {
      "cell_type": "markdown",
      "source": [
        "## Creating synthetic data\n"
      ],
      "metadata": {
        "id": "8h6Zc1bPoAUB"
      }
    },
    {
      "cell_type": "markdown",
      "source": [
        "### Persons"
      ],
      "metadata": {
        "id": "IQBLb81vr2_o"
      }
    },
    {
      "cell_type": "code",
      "source": [
        "query = \"\"\"\n",
        "CREATE TABLE delta.`/tmp/persons` USING DELTA AS\n",
        "SELECT col1 as serial, col2 as name, col3 as age, col4 as address\n",
        "FROM VALUES (\"12345\", \"Alice\", 25, \"123 Main St\"),\n",
        "            (\"67890\", \"Bob\", 30, \"456 Oak Ave\"),\n",
        "            (\"24680\", \"Charlie\", 35, \"789 Elm St\");\n",
        "\"\"\"\n",
        "spark.sql(query)\n"
      ],
      "metadata": {
        "id": "Mz04HT1LqHms",
        "colab": {
          "base_uri": "https://localhost:8080/"
        },
        "outputId": "602e6e73-b74a-48fe-c1ea-8a383f00cf3a"
      },
      "execution_count": null,
      "outputs": [
        {
          "output_type": "execute_result",
          "data": {
            "text/plain": [
              "DataFrame[]"
            ]
          },
          "metadata": {},
          "execution_count": 9
        }
      ]
    },
    {
      "cell_type": "code",
      "source": [
        "query = \"\"\"\n",
        "SELECT * FROM delta.`/tmp/persons`;\n",
        "\"\"\"\n",
        "spark.sql(query).show()"
      ],
      "metadata": {
        "colab": {
          "base_uri": "https://localhost:8080/"
        },
        "id": "BRS4ng1Exzty",
        "outputId": "edef89e3-16b8-47a1-9900-c40a8d8575f2"
      },
      "execution_count": null,
      "outputs": [
        {
          "output_type": "stream",
          "name": "stdout",
          "text": [
            "+------+-------+---+-----------+\n",
            "|serial|   name|age|    address|\n",
            "+------+-------+---+-----------+\n",
            "| 12345|  Alice| 25|123 Main St|\n",
            "| 67890|    Bob| 30|456 Oak Ave|\n",
            "| 24680|Charlie| 35| 789 Elm St|\n",
            "+------+-------+---+-----------+\n",
            "\n"
          ]
        }
      ]
    },
    {
      "cell_type": "code",
      "source": [
        "! ls -alR /tmp/persons"
      ],
      "metadata": {
        "colab": {
          "base_uri": "https://localhost:8080/"
        },
        "id": "AVHqgfnM9iTp",
        "outputId": "d89ea143-85ab-41aa-d536-484a862dc0dc"
      },
      "execution_count": null,
      "outputs": [
        {
          "output_type": "stream",
          "name": "stdout",
          "text": [
            "/tmp/persons:\n",
            "total 28\n",
            "drwxr-xr-x 3 root root 4096 Jun 23 18:00 .\n",
            "drwxrwxrwt 1 root root 4096 Jun 23 18:03 ..\n",
            "drwxr-xr-x 2 root root 4096 Jun 23 18:00 _delta_log\n",
            "-rw-r--r-- 1 root root 1234 Jun 23 18:00 part-00000-ad650c98-e758-4f7a-a104-fd49d849c44d-c000.snappy.parquet\n",
            "-rw-r--r-- 1 root root   20 Jun 23 18:00 .part-00000-ad650c98-e758-4f7a-a104-fd49d849c44d-c000.snappy.parquet.crc\n",
            "-rw-r--r-- 1 root root 1213 Jun 23 18:00 part-00001-5f33a4e3-72f4-440a-8b55-f82e6d625c28-c000.snappy.parquet\n",
            "-rw-r--r-- 1 root root   20 Jun 23 18:00 .part-00001-5f33a4e3-72f4-440a-8b55-f82e6d625c28-c000.snappy.parquet.crc\n",
            "\n",
            "/tmp/persons/_delta_log:\n",
            "total 16\n",
            "drwxr-xr-x 2 root root 4096 Jun 23 18:00 .\n",
            "drwxr-xr-x 3 root root 4096 Jun 23 18:00 ..\n",
            "-rw-r--r-- 1 root root 1901 Jun 23 18:00 00000000000000000000.json\n",
            "-rw-r--r-- 1 root root   24 Jun 23 18:00 .00000000000000000000.json.crc\n"
          ]
        }
      ]
    },
    {
      "cell_type": "code",
      "source": [
        "query = \"\"\"\n",
        "CREATE TEMP VIEW newPersons AS\n",
        "SELECT col1 as serial, col2 as name, col3 as age, col4 as address\n",
        "FROM VALUES (\"78120\", \"Dan\", 42, \"432 Holly Rd\"), (\"97362\", \"Lorry\", 40, \"290 Wise Ave\"), (\"12345\", \"Alice\", 25, \"123 Main St\")\n",
        "\"\"\"\n",
        "spark.sql(query)"
      ],
      "metadata": {
        "colab": {
          "base_uri": "https://localhost:8080/"
        },
        "id": "r7wKrQvYyCT_",
        "outputId": "117badd3-12e8-4a03-f111-51ce8219fe90"
      },
      "execution_count": null,
      "outputs": [
        {
          "output_type": "execute_result",
          "data": {
            "text/plain": [
              "DataFrame[]"
            ]
          },
          "metadata": {},
          "execution_count": 13
        }
      ]
    },
    {
      "cell_type": "code",
      "source": [
        "query = \"\"\"\n",
        "SELECT * from newPersons\n",
        "\"\"\"\n",
        "spark.sql(query).show()"
      ],
      "metadata": {
        "colab": {
          "base_uri": "https://localhost:8080/"
        },
        "id": "GjBg5aKyqjjk",
        "outputId": "e6fbfb4f-14d0-45d0-c4c3-9fc1097a4ac1"
      },
      "execution_count": null,
      "outputs": [
        {
          "output_type": "stream",
          "name": "stdout",
          "text": [
            "+------+-----+---+------------+\n",
            "|serial| name|age|     address|\n",
            "+------+-----+---+------------+\n",
            "| 78120|  Dan| 42|432 Holly Rd|\n",
            "| 97362|Lorry| 40|290 Wise Ave|\n",
            "| 12345|Alice| 25| 123 Main St|\n",
            "+------+-----+---+------------+\n",
            "\n"
          ]
        }
      ]
    },
    {
      "cell_type": "markdown",
      "source": [
        "### Salaries"
      ],
      "metadata": {
        "id": "hrInpLvgod65"
      }
    },
    {
      "cell_type": "code",
      "source": [
        "query = \"\"\"\n",
        "CREATE TABLE delta.`/tmp/salaries` USING DELTA AS\n",
        "SELECT col1 as serial, col2 as salary\n",
        "FROM VALUES (\"12345\", 45000),\n",
        "        (\"67890\", 52000),\n",
        "        (\"24680\", 36000),\n",
        "        (\"78120\", 60000),\n",
        "        (\"97362\",38000)\n",
        "\"\"\"\n",
        "spark.sql(query)"
      ],
      "metadata": {
        "colab": {
          "base_uri": "https://localhost:8080/"
        },
        "id": "MVChthzayPAH",
        "outputId": "d82010c7-5470-401c-9562-e912554d0183"
      },
      "execution_count": null,
      "outputs": [
        {
          "output_type": "execute_result",
          "data": {
            "text/plain": [
              "DataFrame[]"
            ]
          },
          "metadata": {},
          "execution_count": 15
        }
      ]
    },
    {
      "cell_type": "code",
      "source": [
        "query = \"\"\"\n",
        "SELECT * from delta.`/tmp/salaries`\n",
        "\"\"\"\n",
        "spark.sql(query).show()"
      ],
      "metadata": {
        "colab": {
          "base_uri": "https://localhost:8080/"
        },
        "id": "Q1Z-4SS8yO0_",
        "outputId": "b0dee36a-4383-4457-8545-fdf6ca1ccbc2"
      },
      "execution_count": null,
      "outputs": [
        {
          "output_type": "stream",
          "name": "stdout",
          "text": [
            "+------+------+\n",
            "|serial|salary|\n",
            "+------+------+\n",
            "| 24680| 36000|\n",
            "| 78120| 60000|\n",
            "| 97362| 38000|\n",
            "| 12345| 45000|\n",
            "| 67890| 52000|\n",
            "+------+------+\n",
            "\n"
          ]
        }
      ]
    },
    {
      "cell_type": "code",
      "source": [
        "query = \"\"\"\n",
        "CREATE TEMP VIEW newSalaries AS\n",
        "SELECT col1 as serial, col2 as salary\n",
        "FROM VALUES (\"12345\", 47000),\n",
        "        (\"67890\", 50000),\n",
        "        (\"24680\", 46000),\n",
        "        (\"78120\", 61000),\n",
        "        (\"97362\",39000)\n",
        "\"\"\"\n",
        "spark.sql(query)"
      ],
      "metadata": {
        "colab": {
          "base_uri": "https://localhost:8080/"
        },
        "id": "TgVPE7qXytsy",
        "outputId": "712f439d-2767-4a91-cfc1-5b7f829dc240"
      },
      "execution_count": null,
      "outputs": [
        {
          "output_type": "execute_result",
          "data": {
            "text/plain": [
              "DataFrame[]"
            ]
          },
          "metadata": {},
          "execution_count": 17
        }
      ]
    },
    {
      "cell_type": "code",
      "source": [
        "query = \"\"\"\n",
        "SELECT * from newSalaries\n",
        "\"\"\"\n",
        "spark.sql(query).show()"
      ],
      "metadata": {
        "colab": {
          "base_uri": "https://localhost:8080/"
        },
        "id": "XodXLDZGytly",
        "outputId": "26f23bc1-8c26-4dd6-cdb5-f19add80b3fe"
      },
      "execution_count": null,
      "outputs": [
        {
          "output_type": "stream",
          "name": "stdout",
          "text": [
            "+------+------+\n",
            "|serial|salary|\n",
            "+------+------+\n",
            "| 12345| 47000|\n",
            "| 67890| 50000|\n",
            "| 24680| 46000|\n",
            "| 78120| 61000|\n",
            "| 97362| 39000|\n",
            "+------+------+\n",
            "\n"
          ]
        }
      ]
    },
    {
      "cell_type": "markdown",
      "source": [
        "### Sales"
      ],
      "metadata": {
        "id": "qvCkgOJ2o51k"
      }
    },
    {
      "cell_type": "code",
      "source": [
        "query = \"\"\"\n",
        "CREATE TABLE delta.`/tmp/sales` USING DELTA AS\n",
        "SELECT col1 as product_id, col2 as quantity, col3 as totalprice\n",
        "FROM VALUES (\"CHA_2\",2,60),(\"BED_4\",1,300),(\"SHO_15\",2,60)\n",
        "\"\"\"\n",
        "spark.sql(query)"
      ],
      "metadata": {
        "colab": {
          "base_uri": "https://localhost:8080/"
        },
        "id": "UHT6rUe3zGtE",
        "outputId": "083e126f-4958-4510-efd7-0a537817a8ef"
      },
      "execution_count": null,
      "outputs": [
        {
          "output_type": "execute_result",
          "data": {
            "text/plain": [
              "DataFrame[]"
            ]
          },
          "metadata": {},
          "execution_count": 19
        }
      ]
    },
    {
      "cell_type": "code",
      "source": [
        "query = \"\"\"\n",
        "SELECT * FROM delta.`/tmp/sales`\n",
        "\"\"\"\n",
        "spark.sql(query).show()"
      ],
      "metadata": {
        "colab": {
          "base_uri": "https://localhost:8080/"
        },
        "id": "IcvSG8Bs1qJu",
        "outputId": "feb0e1c3-d3a3-436e-8a35-70dae820cea7"
      },
      "execution_count": null,
      "outputs": [
        {
          "output_type": "stream",
          "name": "stdout",
          "text": [
            "+----------+--------+----------+\n",
            "|product_id|quantity|totalprice|\n",
            "+----------+--------+----------+\n",
            "|     BED_4|       1|       300|\n",
            "|    SHO_15|       2|        60|\n",
            "|     CHA_2|       2|        60|\n",
            "+----------+--------+----------+\n",
            "\n"
          ]
        }
      ]
    },
    {
      "cell_type": "code",
      "source": [
        "!ls -hR /tmp/salesStatus"
      ],
      "metadata": {
        "colab": {
          "base_uri": "https://localhost:8080/"
        },
        "id": "dCZuvPSoAEcZ",
        "outputId": "5181b3e4-4193-422e-b133-dc2f5d5956ca"
      },
      "execution_count": null,
      "outputs": [
        {
          "output_type": "stream",
          "name": "stdout",
          "text": [
            "/tmp/salesStatus:\n",
            "_delta_log\n",
            "part-00000-da68e675-33ed-4554-8f22-6ce77994d211-c000.snappy.parquet\n",
            "part-00001-2d28afc4-8041-4875-a640-50a0f6a497dd-c000.snappy.parquet\n",
            "\n",
            "/tmp/salesStatus/_delta_log:\n",
            "00000000000000000000.json\n"
          ]
        }
      ]
    },
    {
      "cell_type": "code",
      "source": [
        "query = \"\"\"\n",
        "CREATE TABLE delta.`/tmp/salesStatus` USING DELTA AS\n",
        "SELECT product_id, quantity, totalprice, 'available' as status\n",
        "FROM delta.`/tmp/sales`\n",
        "\"\"\"\n",
        "spark.sql(query)"
      ],
      "metadata": {
        "colab": {
          "base_uri": "https://localhost:8080/"
        },
        "id": "loBnyH7QGVc1",
        "outputId": "d51fcbd2-0ac1-423f-e6e2-28d5c7cade23"
      },
      "execution_count": null,
      "outputs": [
        {
          "output_type": "execute_result",
          "data": {
            "text/plain": [
              "DataFrame[]"
            ]
          },
          "metadata": {},
          "execution_count": 21
        }
      ]
    },
    {
      "cell_type": "code",
      "source": [
        "query = \"\"\"\n",
        "SELECT * FROM delta.`/tmp/salesStatus`\n",
        "\"\"\"\n",
        "spark.sql(query).show()"
      ],
      "metadata": {
        "colab": {
          "base_uri": "https://localhost:8080/"
        },
        "id": "i389omYMGoeL",
        "outputId": "a00ad6e1-5ef5-4212-a70d-9db4c71c45ab"
      },
      "execution_count": null,
      "outputs": [
        {
          "output_type": "stream",
          "name": "stdout",
          "text": [
            "+----------+--------+----------+---------+\n",
            "|product_id|quantity|totalprice|   status|\n",
            "+----------+--------+----------+---------+\n",
            "|     BED_4|       1|       300|available|\n",
            "|    SHO_15|       2|        60|available|\n",
            "|     CHA_2|       2|        60|available|\n",
            "+----------+--------+----------+---------+\n",
            "\n"
          ]
        }
      ]
    },
    {
      "cell_type": "code",
      "source": [
        "spark.sql(f\"DESCRIBE TABLE EXTENDED delta.`/tmp/salesStatus`\").show()"
      ],
      "metadata": {
        "colab": {
          "base_uri": "https://localhost:8080/"
        },
        "id": "ysdcCZjYvgB6",
        "outputId": "fb36deb9-cffc-4c27-eaee-1bdaa5d4bef1"
      },
      "execution_count": null,
      "outputs": [
        {
          "output_type": "stream",
          "name": "stdout",
          "text": [
            "+--------------------+--------------------+-------+\n",
            "|            col_name|           data_type|comment|\n",
            "+--------------------+--------------------+-------+\n",
            "|          product_id|              string|   NULL|\n",
            "|            quantity|                 int|   NULL|\n",
            "|          totalprice|                 int|   NULL|\n",
            "|              status|              string|   NULL|\n",
            "|                    |                    |       |\n",
            "|# Detailed Table ...|                    |       |\n",
            "|                Name|delta.`file:/tmp/...|       |\n",
            "|                Type|             MANAGED|       |\n",
            "|            Location|    /tmp/salesStatus|       |\n",
            "|            Provider|               delta|       |\n",
            "|    Table Properties|[delta.minReaderV...|       |\n",
            "+--------------------+--------------------+-------+\n",
            "\n"
          ]
        }
      ]
    },
    {
      "cell_type": "code",
      "source": [
        "query = \"\"\"\n",
        "CREATE TEMP VIEW newSales AS\n",
        "SELECT col1 as product_id, col2 as quantity, col3 as totalprice\n",
        "FROM VALUES (\"SHO_15\",3,90),(\"CHA_2\",1,30),(\"BED_6\",1,200)\n",
        "\n",
        "\"\"\"\n",
        "spark.sql(query)\n"
      ],
      "metadata": {
        "colab": {
          "base_uri": "https://localhost:8080/"
        },
        "id": "o80YSQtzzGnM",
        "outputId": "3bfb922f-9ce4-42eb-ff08-fc2e253503df"
      },
      "execution_count": null,
      "outputs": [
        {
          "output_type": "execute_result",
          "data": {
            "text/plain": [
              "DataFrame[]"
            ]
          },
          "metadata": {},
          "execution_count": 24
        }
      ]
    },
    {
      "cell_type": "code",
      "source": [
        "query = \"\"\"\n",
        "SELECT * FROM newSales\n",
        "\"\"\"\n",
        "spark.sql(query).show()"
      ],
      "metadata": {
        "colab": {
          "base_uri": "https://localhost:8080/"
        },
        "id": "Ede4oEeM2Wz1",
        "outputId": "1a91ecb9-e6a2-47d8-c00e-925a638e6b3d"
      },
      "execution_count": null,
      "outputs": [
        {
          "output_type": "stream",
          "name": "stdout",
          "text": [
            "+----------+--------+----------+\n",
            "|product_id|quantity|totalprice|\n",
            "+----------+--------+----------+\n",
            "|    SHO_15|       3|        90|\n",
            "|     CHA_2|       1|        30|\n",
            "|     BED_6|       1|       200|\n",
            "+----------+--------+----------+\n",
            "\n"
          ]
        }
      ]
    },
    {
      "cell_type": "markdown",
      "source": [
        "### Products"
      ],
      "metadata": {
        "id": "29J3fU3po_v0"
      }
    },
    {
      "cell_type": "code",
      "source": [
        "query = \"\"\"\n",
        "CREATE TEMP VIEW products AS\n",
        "SELECT col1 as product_id, col2 as category, col3 as color\n",
        "FROM VALUES (\"CHA_2\",\"Furniture\",\"blue\"),(\"BED_4\",\"Furniture\",\"brown\"),(\"SHO_15\",\"Cloth\",\"black\")\n",
        "\n",
        "\"\"\"\n",
        "spark.sql(query)"
      ],
      "metadata": {
        "colab": {
          "base_uri": "https://localhost:8080/"
        },
        "id": "aTPJFSMp2bh7",
        "outputId": "75d1d0e9-a4c6-4a16-ed44-39a279f57009"
      },
      "execution_count": null,
      "outputs": [
        {
          "output_type": "execute_result",
          "data": {
            "text/plain": [
              "DataFrame[]"
            ]
          },
          "metadata": {},
          "execution_count": 26
        }
      ]
    },
    {
      "cell_type": "code",
      "source": [
        "query = \"\"\"\n",
        "SELECT * FROM products\n",
        "\"\"\"\n",
        "spark.sql(query).show()"
      ],
      "metadata": {
        "colab": {
          "base_uri": "https://localhost:8080/"
        },
        "id": "8RWuphHw2j-7",
        "outputId": "dd7cd8ea-5a35-42ff-e846-775ab87bc031"
      },
      "execution_count": null,
      "outputs": [
        {
          "output_type": "stream",
          "name": "stdout",
          "text": [
            "+----------+---------+-----+\n",
            "|product_id| category|color|\n",
            "+----------+---------+-----+\n",
            "|     CHA_2|Furniture| blue|\n",
            "|     BED_4|Furniture|brown|\n",
            "|    SHO_15|    Cloth|black|\n",
            "+----------+---------+-----+\n",
            "\n"
          ]
        }
      ]
    },
    {
      "cell_type": "code",
      "source": [
        "spark.sql(\"SHOW TABLES\").show()"
      ],
      "metadata": {
        "colab": {
          "base_uri": "https://localhost:8080/"
        },
        "id": "0hAHsUnAvPPT",
        "outputId": "9abdd9c0-fdfa-4333-ee8c-c2a4aeab9b31"
      },
      "execution_count": null,
      "outputs": [
        {
          "output_type": "stream",
          "name": "stdout",
          "text": [
            "+---------+-----------+-----------+\n",
            "|namespace|  tableName|isTemporary|\n",
            "+---------+-----------+-----------+\n",
            "|         | newpersons|      false|\n",
            "|         |newsalaries|      false|\n",
            "|         |   newsales|      false|\n",
            "|         |   products|      false|\n",
            "+---------+-----------+-----------+\n",
            "\n"
          ]
        }
      ]
    },
    {
      "cell_type": "markdown",
      "source": [
        "## Demo2: delta operations"
      ],
      "metadata": {
        "id": "OkgbLaJW-P0w"
      }
    },
    {
      "cell_type": "markdown",
      "source": [
        "### Q1. Adding new tuples\n",
        "Consider the Delta table `person` with the following columns: serial, name, age, and address. You have a new dataset `newPersons` with the same columns, but with additional records. Write a merge statement to update the Delta table with the new records.\n"
      ],
      "metadata": {
        "id": "aRP_QqBQN8W1"
      }
    },
    {
      "cell_type": "code",
      "source": [
        "query = \"\"\"\n",
        "MERGE INTO delta.`/tmp/persons` AS oldData\n",
        "USING newPersons\n",
        "ON oldData.serial = newPersons.serial\n",
        "WHEN NOT MATCHED\n",
        "  THEN INSERT *;\n",
        "\"\"\"\n",
        "spark.sql(query).show()"
      ],
      "metadata": {
        "colab": {
          "base_uri": "https://localhost:8080/",
          "height": 557
        },
        "id": "GuQOLNgsEvLM",
        "outputId": "49843e97-26f1-4c26-9333-4cb20c3bef1b"
      },
      "execution_count": null,
      "outputs": [
        {
          "output_type": "stream",
          "name": "stderr",
          "text": [
            "ERROR:root:KeyboardInterrupt while sending command.\n",
            "Traceback (most recent call last):\n",
            "  File \"/usr/local/lib/python3.11/dist-packages/py4j/java_gateway.py\", line 1038, in send_command\n",
            "    response = connection.send_command(command)\n",
            "               ^^^^^^^^^^^^^^^^^^^^^^^^^^^^^^^^\n",
            "  File \"/usr/local/lib/python3.11/dist-packages/py4j/clientserver.py\", line 511, in send_command\n",
            "    answer = smart_decode(self.stream.readline()[:-1])\n",
            "                          ^^^^^^^^^^^^^^^^^^^^^^\n",
            "  File \"/usr/lib/python3.11/socket.py\", line 718, in readinto\n",
            "    return self._sock.recv_into(b)\n",
            "           ^^^^^^^^^^^^^^^^^^^^^^^\n",
            "KeyboardInterrupt\n"
          ]
        },
        {
          "output_type": "error",
          "ename": "KeyboardInterrupt",
          "evalue": "",
          "traceback": [
            "\u001b[0;31m---------------------------------------------------------------------------\u001b[0m",
            "\u001b[0;31mKeyboardInterrupt\u001b[0m                         Traceback (most recent call last)",
            "\u001b[0;32m/tmp/ipython-input-44-1341589296.py\u001b[0m in \u001b[0;36m<cell line: 0>\u001b[0;34m()\u001b[0m\n\u001b[1;32m      6\u001b[0m   \u001b[0mTHEN\u001b[0m \u001b[0mINSERT\u001b[0m \u001b[0;34m*\u001b[0m\u001b[0;34m;\u001b[0m\u001b[0;34m\u001b[0m\u001b[0;34m\u001b[0m\u001b[0m\n\u001b[1;32m      7\u001b[0m \"\"\"\n\u001b[0;32m----> 8\u001b[0;31m \u001b[0mspark\u001b[0m\u001b[0;34m.\u001b[0m\u001b[0msql\u001b[0m\u001b[0;34m(\u001b[0m\u001b[0mquery\u001b[0m\u001b[0;34m)\u001b[0m\u001b[0;34m.\u001b[0m\u001b[0mshow\u001b[0m\u001b[0;34m(\u001b[0m\u001b[0;34m)\u001b[0m\u001b[0;34m\u001b[0m\u001b[0;34m\u001b[0m\u001b[0m\n\u001b[0m",
            "\u001b[0;32m/usr/local/lib/python3.11/dist-packages/pyspark/sql/session.py\u001b[0m in \u001b[0;36msql\u001b[0;34m(self, sqlQuery, args, **kwargs)\u001b[0m\n\u001b[1;32m   1629\u001b[0m                     \u001b[0;34m[\u001b[0m\u001b[0m_to_java_column\u001b[0m\u001b[0;34m(\u001b[0m\u001b[0mlit\u001b[0m\u001b[0;34m(\u001b[0m\u001b[0mv\u001b[0m\u001b[0;34m)\u001b[0m\u001b[0;34m)\u001b[0m \u001b[0;32mfor\u001b[0m \u001b[0mv\u001b[0m \u001b[0;32min\u001b[0m \u001b[0;34m(\u001b[0m\u001b[0margs\u001b[0m \u001b[0;32mor\u001b[0m \u001b[0;34m[\u001b[0m\u001b[0;34m]\u001b[0m\u001b[0;34m)\u001b[0m\u001b[0;34m]\u001b[0m\u001b[0;34m\u001b[0m\u001b[0;34m\u001b[0m\u001b[0m\n\u001b[1;32m   1630\u001b[0m                 )\n\u001b[0;32m-> 1631\u001b[0;31m             \u001b[0;32mreturn\u001b[0m \u001b[0mDataFrame\u001b[0m\u001b[0;34m(\u001b[0m\u001b[0mself\u001b[0m\u001b[0;34m.\u001b[0m\u001b[0m_jsparkSession\u001b[0m\u001b[0;34m.\u001b[0m\u001b[0msql\u001b[0m\u001b[0;34m(\u001b[0m\u001b[0msqlQuery\u001b[0m\u001b[0;34m,\u001b[0m \u001b[0mlitArgs\u001b[0m\u001b[0;34m)\u001b[0m\u001b[0;34m,\u001b[0m \u001b[0mself\u001b[0m\u001b[0;34m)\u001b[0m\u001b[0;34m\u001b[0m\u001b[0;34m\u001b[0m\u001b[0m\n\u001b[0m\u001b[1;32m   1632\u001b[0m         \u001b[0;32mfinally\u001b[0m\u001b[0;34m:\u001b[0m\u001b[0;34m\u001b[0m\u001b[0;34m\u001b[0m\u001b[0m\n\u001b[1;32m   1633\u001b[0m             \u001b[0;32mif\u001b[0m \u001b[0mlen\u001b[0m\u001b[0;34m(\u001b[0m\u001b[0mkwargs\u001b[0m\u001b[0;34m)\u001b[0m \u001b[0;34m>\u001b[0m \u001b[0;36m0\u001b[0m\u001b[0;34m:\u001b[0m\u001b[0;34m\u001b[0m\u001b[0;34m\u001b[0m\u001b[0m\n",
            "\u001b[0;32m/usr/local/lib/python3.11/dist-packages/py4j/java_gateway.py\u001b[0m in \u001b[0;36m__call__\u001b[0;34m(self, *args)\u001b[0m\n\u001b[1;32m   1319\u001b[0m             \u001b[0mproto\u001b[0m\u001b[0;34m.\u001b[0m\u001b[0mEND_COMMAND_PART\u001b[0m\u001b[0;34m\u001b[0m\u001b[0;34m\u001b[0m\u001b[0m\n\u001b[1;32m   1320\u001b[0m \u001b[0;34m\u001b[0m\u001b[0m\n\u001b[0;32m-> 1321\u001b[0;31m         \u001b[0manswer\u001b[0m \u001b[0;34m=\u001b[0m \u001b[0mself\u001b[0m\u001b[0;34m.\u001b[0m\u001b[0mgateway_client\u001b[0m\u001b[0;34m.\u001b[0m\u001b[0msend_command\u001b[0m\u001b[0;34m(\u001b[0m\u001b[0mcommand\u001b[0m\u001b[0;34m)\u001b[0m\u001b[0;34m\u001b[0m\u001b[0;34m\u001b[0m\u001b[0m\n\u001b[0m\u001b[1;32m   1322\u001b[0m         return_value = get_return_value(\n\u001b[1;32m   1323\u001b[0m             answer, self.gateway_client, self.target_id, self.name)\n",
            "\u001b[0;32m/usr/local/lib/python3.11/dist-packages/py4j/java_gateway.py\u001b[0m in \u001b[0;36msend_command\u001b[0;34m(self, command, retry, binary)\u001b[0m\n\u001b[1;32m   1036\u001b[0m         \u001b[0mconnection\u001b[0m \u001b[0;34m=\u001b[0m \u001b[0mself\u001b[0m\u001b[0;34m.\u001b[0m\u001b[0m_get_connection\u001b[0m\u001b[0;34m(\u001b[0m\u001b[0;34m)\u001b[0m\u001b[0;34m\u001b[0m\u001b[0;34m\u001b[0m\u001b[0m\n\u001b[1;32m   1037\u001b[0m         \u001b[0;32mtry\u001b[0m\u001b[0;34m:\u001b[0m\u001b[0;34m\u001b[0m\u001b[0;34m\u001b[0m\u001b[0m\n\u001b[0;32m-> 1038\u001b[0;31m             \u001b[0mresponse\u001b[0m \u001b[0;34m=\u001b[0m \u001b[0mconnection\u001b[0m\u001b[0;34m.\u001b[0m\u001b[0msend_command\u001b[0m\u001b[0;34m(\u001b[0m\u001b[0mcommand\u001b[0m\u001b[0;34m)\u001b[0m\u001b[0;34m\u001b[0m\u001b[0;34m\u001b[0m\u001b[0m\n\u001b[0m\u001b[1;32m   1039\u001b[0m             \u001b[0;32mif\u001b[0m \u001b[0mbinary\u001b[0m\u001b[0;34m:\u001b[0m\u001b[0;34m\u001b[0m\u001b[0;34m\u001b[0m\u001b[0m\n\u001b[1;32m   1040\u001b[0m                 \u001b[0;32mreturn\u001b[0m \u001b[0mresponse\u001b[0m\u001b[0;34m,\u001b[0m \u001b[0mself\u001b[0m\u001b[0;34m.\u001b[0m\u001b[0m_create_connection_guard\u001b[0m\u001b[0;34m(\u001b[0m\u001b[0mconnection\u001b[0m\u001b[0;34m)\u001b[0m\u001b[0;34m\u001b[0m\u001b[0;34m\u001b[0m\u001b[0m\n",
            "\u001b[0;32m/usr/local/lib/python3.11/dist-packages/py4j/clientserver.py\u001b[0m in \u001b[0;36msend_command\u001b[0;34m(self, command)\u001b[0m\n\u001b[1;32m    509\u001b[0m         \u001b[0;32mtry\u001b[0m\u001b[0;34m:\u001b[0m\u001b[0;34m\u001b[0m\u001b[0;34m\u001b[0m\u001b[0m\n\u001b[1;32m    510\u001b[0m             \u001b[0;32mwhile\u001b[0m \u001b[0;32mTrue\u001b[0m\u001b[0;34m:\u001b[0m\u001b[0;34m\u001b[0m\u001b[0;34m\u001b[0m\u001b[0m\n\u001b[0;32m--> 511\u001b[0;31m                 \u001b[0manswer\u001b[0m \u001b[0;34m=\u001b[0m \u001b[0msmart_decode\u001b[0m\u001b[0;34m(\u001b[0m\u001b[0mself\u001b[0m\u001b[0;34m.\u001b[0m\u001b[0mstream\u001b[0m\u001b[0;34m.\u001b[0m\u001b[0mreadline\u001b[0m\u001b[0;34m(\u001b[0m\u001b[0;34m)\u001b[0m\u001b[0;34m[\u001b[0m\u001b[0;34m:\u001b[0m\u001b[0;34m-\u001b[0m\u001b[0;36m1\u001b[0m\u001b[0;34m]\u001b[0m\u001b[0;34m)\u001b[0m\u001b[0;34m\u001b[0m\u001b[0;34m\u001b[0m\u001b[0m\n\u001b[0m\u001b[1;32m    512\u001b[0m                 \u001b[0mlogger\u001b[0m\u001b[0;34m.\u001b[0m\u001b[0mdebug\u001b[0m\u001b[0;34m(\u001b[0m\u001b[0;34m\"Answer received: {0}\"\u001b[0m\u001b[0;34m.\u001b[0m\u001b[0mformat\u001b[0m\u001b[0;34m(\u001b[0m\u001b[0manswer\u001b[0m\u001b[0;34m)\u001b[0m\u001b[0;34m)\u001b[0m\u001b[0;34m\u001b[0m\u001b[0;34m\u001b[0m\u001b[0m\n\u001b[1;32m    513\u001b[0m                 \u001b[0;31m# Happens when a the other end is dead. There might be an empty\u001b[0m\u001b[0;34m\u001b[0m\u001b[0;34m\u001b[0m\u001b[0m\n",
            "\u001b[0;32m/usr/lib/python3.11/socket.py\u001b[0m in \u001b[0;36mreadinto\u001b[0;34m(self, b)\u001b[0m\n\u001b[1;32m    716\u001b[0m         \u001b[0;32mwhile\u001b[0m \u001b[0;32mTrue\u001b[0m\u001b[0;34m:\u001b[0m\u001b[0;34m\u001b[0m\u001b[0;34m\u001b[0m\u001b[0m\n\u001b[1;32m    717\u001b[0m             \u001b[0;32mtry\u001b[0m\u001b[0;34m:\u001b[0m\u001b[0;34m\u001b[0m\u001b[0;34m\u001b[0m\u001b[0m\n\u001b[0;32m--> 718\u001b[0;31m                 \u001b[0;32mreturn\u001b[0m \u001b[0mself\u001b[0m\u001b[0;34m.\u001b[0m\u001b[0m_sock\u001b[0m\u001b[0;34m.\u001b[0m\u001b[0mrecv_into\u001b[0m\u001b[0;34m(\u001b[0m\u001b[0mb\u001b[0m\u001b[0;34m)\u001b[0m\u001b[0;34m\u001b[0m\u001b[0;34m\u001b[0m\u001b[0m\n\u001b[0m\u001b[1;32m    719\u001b[0m             \u001b[0;32mexcept\u001b[0m \u001b[0mtimeout\u001b[0m\u001b[0;34m:\u001b[0m\u001b[0;34m\u001b[0m\u001b[0;34m\u001b[0m\u001b[0m\n\u001b[1;32m    720\u001b[0m                 \u001b[0mself\u001b[0m\u001b[0;34m.\u001b[0m\u001b[0m_timeout_occurred\u001b[0m \u001b[0;34m=\u001b[0m \u001b[0;32mTrue\u001b[0m\u001b[0;34m\u001b[0m\u001b[0;34m\u001b[0m\u001b[0m\n",
            "\u001b[0;31mKeyboardInterrupt\u001b[0m: "
          ]
        }
      ]
    },
    {
      "cell_type": "code",
      "source": [
        "query = \"\"\"\n",
        "SELECT * FROM\n",
        "delta.`/tmp/persons`\n",
        "\"\"\"\n",
        "spark.sql(query).show()"
      ],
      "metadata": {
        "colab": {
          "base_uri": "https://localhost:8080/"
        },
        "id": "RkPVm4KAGcJ3",
        "outputId": "9f80aa2e-bc24-442e-a183-ef00868f8d61"
      },
      "execution_count": null,
      "outputs": [
        {
          "output_type": "stream",
          "name": "stdout",
          "text": [
            "+------+-------+---+------------+\n",
            "|serial|   name|age|     address|\n",
            "+------+-------+---+------------+\n",
            "| 97362|  Lorry| 40|290 Wise Ave|\n",
            "| 12345|  Alice| 25| 123 Main St|\n",
            "| 78120|    Dan| 42|432 Holly Rd|\n",
            "| 67890|    Bob| 30| 456 Oak Ave|\n",
            "| 24680|Charlie| 35|  789 Elm St|\n",
            "+------+-------+---+------------+\n",
            "\n"
          ]
        }
      ]
    },
    {
      "cell_type": "markdown",
      "source": [
        "### Q2: updating existing tuples\n",
        "Assume you have a Delta table `salaries` with columns serial and salary. You want to update the salary of the employees who earn less than 50,000. You have a new dataset, `newSalaries` with the same columns but with updated salary information. Write a merge statement to update the `salaries` table with the new salary information.\n"
      ],
      "metadata": {
        "id": "nKD875I8OYT_"
      }
    },
    {
      "cell_type": "code",
      "source": [
        "query = \"\"\"\n",
        "MERGE INTO delta.`/tmp/salaries` AS oldData\n",
        "USING newSalaries\n",
        "ON oldData.serial = newSalaries.serial\n",
        "WHEN MATCHED AND oldData.salary<50000\n",
        "  THEN UPDATE SET oldData.salary=newSalaries.salary;\n",
        "\"\"\"\n",
        "spark.sql(query).show()"
      ],
      "metadata": {
        "colab": {
          "base_uri": "https://localhost:8080/"
        },
        "id": "YutXzBL8Gp1U",
        "outputId": "59101285-a3c0-47ae-b4c5-0f1ffbf5fc88"
      },
      "execution_count": null,
      "outputs": [
        {
          "output_type": "stream",
          "name": "stdout",
          "text": [
            "+-----------------+----------------+----------------+-----------------+\n",
            "|num_affected_rows|num_updated_rows|num_deleted_rows|num_inserted_rows|\n",
            "+-----------------+----------------+----------------+-----------------+\n",
            "|                3|               3|               0|                0|\n",
            "+-----------------+----------------+----------------+-----------------+\n",
            "\n"
          ]
        }
      ]
    },
    {
      "cell_type": "code",
      "source": [
        "query = \"\"\"\n",
        "SELECT * FROM\n",
        "delta.`/tmp/salaries`\n",
        "\"\"\"\n",
        "spark.sql(query).show()"
      ],
      "metadata": {
        "colab": {
          "base_uri": "https://localhost:8080/"
        },
        "id": "zgv1dfHtGpy1",
        "outputId": "9695ad30-98e3-4c82-cef1-7fc118187fdd"
      },
      "execution_count": null,
      "outputs": [
        {
          "output_type": "stream",
          "name": "stdout",
          "text": [
            "+------+------+\n",
            "|serial|salary|\n",
            "+------+------+\n",
            "| 24680| 46000|\n",
            "| 78120| 60000|\n",
            "| 97362| 39000|\n",
            "| 12345| 47000|\n",
            "| 67890| 52000|\n",
            "+------+------+\n",
            "\n"
          ]
        }
      ]
    },
    {
      "cell_type": "markdown",
      "source": [
        "### Q3: adding new tuples and updating existing ones\n",
        "You have a Delta table `sales` with columns `product_id`, `quantity`, and `totalprice`. Write a merge statement to insert the new products from a dataframe `newSales` into `sales` and to make sure that, for existing products, the column `sales` has the sum of the quantity and totalprice.\n"
      ],
      "metadata": {
        "id": "hU_0ZWKHoqwj"
      }
    },
    {
      "cell_type": "code",
      "source": [
        "query = \"\"\"\n",
        "MERGE INTO delta.`/tmp/sales` AS oldData\n",
        "USING newSales\n",
        "ON oldData.product_id = newSales.product_id\n",
        "WHEN MATCHED\n",
        "  THEN UPDATE SET oldData.quantity = oldData.quantity + newSales.quantity,\n",
        "                  oldData.totalprice = oldData.totalprice + newSales.totalprice\n",
        "WHEN NOT MATCHED\n",
        "  THEN INSERT *\n",
        "\"\"\"\n",
        "spark.sql(query).show()"
      ],
      "metadata": {
        "colab": {
          "base_uri": "https://localhost:8080/"
        },
        "id": "CiHqjAQxIbAP",
        "outputId": "dcaaff26-fe91-44ba-cd9b-58831b4d6091"
      },
      "execution_count": null,
      "outputs": [
        {
          "output_type": "stream",
          "name": "stdout",
          "text": [
            "+-----------------+----------------+----------------+-----------------+\n",
            "|num_affected_rows|num_updated_rows|num_deleted_rows|num_inserted_rows|\n",
            "+-----------------+----------------+----------------+-----------------+\n",
            "|                3|               2|               0|                1|\n",
            "+-----------------+----------------+----------------+-----------------+\n",
            "\n"
          ]
        }
      ]
    },
    {
      "cell_type": "code",
      "source": [
        "query = \"\"\"\n",
        "SELECT * FROM\n",
        "delta.`/tmp/sales`\n",
        "\"\"\"\n",
        "spark.sql(query).show()"
      ],
      "metadata": {
        "colab": {
          "base_uri": "https://localhost:8080/"
        },
        "id": "BA6nfkPGIa5D",
        "outputId": "daf334de-46f0-42c3-8ca0-6021cb93a8ea"
      },
      "execution_count": null,
      "outputs": [
        {
          "output_type": "stream",
          "name": "stdout",
          "text": [
            "+----------+--------+----------+\n",
            "|product_id|quantity|totalprice|\n",
            "+----------+--------+----------+\n",
            "|     BED_4|       1|       300|\n",
            "|     BED_6|       1|       200|\n",
            "|     CHA_2|       3|        90|\n",
            "|    SHO_15|       5|       150|\n",
            "+----------+--------+----------+\n",
            "\n"
          ]
        }
      ]
    },
    {
      "cell_type": "markdown",
      "source": [
        "### Q4: Merge tables with different schemas\n",
        "Consier the delta table `sales`.  Write a merge statement to augment `sales` with the cateogry and the color of the products by using an auxiliary table `Products` whose schema is `product_id`, `category` and `color` and such that `product_id` can used for matching the tuples of `sales`."
      ],
      "metadata": {
        "id": "cOCzQqTmy7h9"
      }
    },
    {
      "cell_type": "code",
      "source": [
        "query = \"\"\"\n",
        "MERGE INTO delta.`/tmp/sales` oldData\n",
        "USING products\n",
        "ON oldData.product_id = products.product_id\n",
        "WHEN MATCHED\n",
        "  THEN UPDATE SET *\n",
        "WHEN NOT MATCHED\n",
        "  THEN INSERT *\n",
        "\"\"\"\n",
        "spark.sql(query).show()"
      ],
      "metadata": {
        "colab": {
          "base_uri": "https://localhost:8080/"
        },
        "id": "eNPS7CN5Kj-v",
        "outputId": "0aa51fd7-b115-4ed2-df4b-d271b93121e1"
      },
      "execution_count": null,
      "outputs": [
        {
          "output_type": "stream",
          "name": "stdout",
          "text": [
            "+-----------------+----------------+----------------+-----------------+\n",
            "|num_affected_rows|num_updated_rows|num_deleted_rows|num_inserted_rows|\n",
            "+-----------------+----------------+----------------+-----------------+\n",
            "|                3|               3|               0|                0|\n",
            "+-----------------+----------------+----------------+-----------------+\n",
            "\n"
          ]
        }
      ]
    },
    {
      "cell_type": "code",
      "source": [
        "query = \"\"\"\n",
        "SELECT * FROM delta.`/tmp/sales`\n",
        "\"\"\"\n",
        "spark.sql(query).show()"
      ],
      "metadata": {
        "colab": {
          "base_uri": "https://localhost:8080/"
        },
        "id": "jGPtjZOcLhWr",
        "outputId": "a4fa02b8-d26d-4793-afb5-737f09e55842"
      },
      "execution_count": null,
      "outputs": [
        {
          "output_type": "stream",
          "name": "stdout",
          "text": [
            "+----------+--------+----------+---------+-----+\n",
            "|product_id|quantity|totalprice| category|color|\n",
            "+----------+--------+----------+---------+-----+\n",
            "|     BED_4|       1|       300|Furniture|brown|\n",
            "|     BED_6|       1|       200|     NULL| NULL|\n",
            "|     CHA_2|       3|        90|Furniture| blue|\n",
            "|    SHO_15|       5|       150|    Cloth|black|\n",
            "+----------+--------+----------+---------+-----+\n",
            "\n"
          ]
        }
      ]
    },
    {
      "cell_type": "markdown",
      "source": [
        "### Q5: updating existing tuples when not matched by source\n",
        "Consier the delta table `salesStatus` which extends the table `sales` with the column `status` meant to track the availability of products.\n",
        "Write a merge statement that:\n",
        "- updates the quantity of products in `salesStatus` by considering sales reported in `newSales` like in Q3 above and\n",
        "- marks the status of the products which are not reported in `newSales` as 'unavailable'"
      ],
      "metadata": {
        "id": "iLZxdogbGs05"
      }
    },
    {
      "cell_type": "code",
      "source": [
        "query = \"\"\"\n",
        "MERGE INTO delta.`/tmp/salesStatus` AS oldData\n",
        "USING newSales\n",
        "ON oldData.product_id = newSales.product_id\n",
        "WHEN MATCHED\n",
        "  THEN UPDATE SET oldData.quantity = oldData.quantity + newSales.quantity,\n",
        "                  oldData.totalprice = oldData.totalprice + newSales.totalprice\n",
        "WHEN NOT MATCHED BY SOURCE\n",
        "  THEN UPDATE SET oldData.status = 'unavailable'\n",
        "\"\"\"\n",
        "spark.sql(query).show()"
      ],
      "metadata": {
        "colab": {
          "base_uri": "https://localhost:8080/"
        },
        "id": "LawVDl8JIQyI",
        "outputId": "a191e153-51ed-4cba-a2f8-7894d47da263"
      },
      "execution_count": null,
      "outputs": [
        {
          "output_type": "stream",
          "name": "stdout",
          "text": [
            "+-----------------+----------------+----------------+-----------------+\n",
            "|num_affected_rows|num_updated_rows|num_deleted_rows|num_inserted_rows|\n",
            "+-----------------+----------------+----------------+-----------------+\n",
            "|                3|               3|               0|                0|\n",
            "+-----------------+----------------+----------------+-----------------+\n",
            "\n"
          ]
        }
      ]
    },
    {
      "cell_type": "code",
      "source": [
        "query = \"\"\"\n",
        "SELECT * FROM delta.`/tmp/salesStatus`\n",
        "\"\"\"\n",
        "spark.sql(query).show()"
      ],
      "metadata": {
        "colab": {
          "base_uri": "https://localhost:8080/"
        },
        "id": "HGoK-tEEIVBc",
        "outputId": "318e2e71-3e55-4ddb-bf06-3d7dd397236a"
      },
      "execution_count": null,
      "outputs": [
        {
          "output_type": "stream",
          "name": "stdout",
          "text": [
            "+----------+--------+----------+-----------+\n",
            "|product_id|quantity|totalprice|     status|\n",
            "+----------+--------+----------+-----------+\n",
            "|     BED_4|       1|       300|unavailable|\n",
            "|     CHA_2|       3|        90|  available|\n",
            "|    SHO_15|       5|       150|  available|\n",
            "+----------+--------+----------+-----------+\n",
            "\n"
          ]
        }
      ]
    },
    {
      "cell_type": "markdown",
      "source": [
        "## Demo 3: Attaching constraints"
      ],
      "metadata": {
        "id": "D6Q_U_6R1yBP"
      }
    },
    {
      "cell_type": "markdown",
      "source": [
        "### Not-null constraint"
      ],
      "metadata": {
        "id": "wWeLbIQj1-3D"
      }
    },
    {
      "cell_type": "code",
      "source": [
        "query = \"\"\"\n",
        "CREATE TABLE default.persons (\n",
        "    serial INT NOT NULL,\n",
        "    name STRING,\n",
        "    birthDate TIMESTAMP,\n",
        "    address STRING\n",
        "  ) USING DELTA;\n",
        "\"\"\"\n",
        "spark.sql(query)"
      ],
      "metadata": {
        "colab": {
          "base_uri": "https://localhost:8080/"
        },
        "id": "5TqMXDUD13mQ",
        "outputId": "d8c99100-2a3f-43c4-a5d5-eaabd7f36891"
      },
      "execution_count": null,
      "outputs": [
        {
          "output_type": "execute_result",
          "data": {
            "text/plain": [
              "DataFrame[]"
            ]
          },
          "metadata": {},
          "execution_count": 60
        }
      ]
    },
    {
      "cell_type": "code",
      "source": [
        "query = \"\"\"insert into default.persons values (12345, \"Alice\",\"2000-02-01\" ,\"123 Main St\") \"\"\"\n",
        "spark.sql(query)"
      ],
      "metadata": {
        "colab": {
          "base_uri": "https://localhost:8080/"
        },
        "id": "ILZAiGWN3HzV",
        "outputId": "6d2b1ae9-fad0-4bcf-cec6-8390402cac6e"
      },
      "execution_count": null,
      "outputs": [
        {
          "output_type": "execute_result",
          "data": {
            "text/plain": [
              "DataFrame[]"
            ]
          },
          "metadata": {},
          "execution_count": 61
        }
      ]
    },
    {
      "cell_type": "code",
      "source": [
        "query = \"\"\"select * from default.persons \"\"\"\n",
        "spark.sql(query).show()"
      ],
      "metadata": {
        "colab": {
          "base_uri": "https://localhost:8080/"
        },
        "id": "C7yIbaHm3bmb",
        "outputId": "b0d24d7e-066a-4180-96f7-b5c1ae1d4465"
      },
      "execution_count": null,
      "outputs": [
        {
          "output_type": "stream",
          "name": "stdout",
          "text": [
            "+------+-----+-------------------+-----------+\n",
            "|serial| name|          birthDate|    address|\n",
            "+------+-----+-------------------+-----------+\n",
            "| 12345|Alice|2000-02-01 00:00:00|123 Main St|\n",
            "+------+-----+-------------------+-----------+\n",
            "\n"
          ]
        }
      ]
    },
    {
      "cell_type": "markdown",
      "source": [
        "Can we run the following statement?"
      ],
      "metadata": {
        "id": "8ukalnEM3tw0"
      }
    },
    {
      "cell_type": "code",
      "source": [
        "# query = \"\"\"insert into default.persons values (null, \"Bob\",\"1996-03-14\" ,\"456 Oak Ave\") \"\"\"\n",
        "# spark.sql(query).show()"
      ],
      "metadata": {
        "id": "e4QMxLUrMUsu"
      },
      "execution_count": null,
      "outputs": []
    },
    {
      "cell_type": "markdown",
      "source": [
        "### Predicate constraint"
      ],
      "metadata": {
        "id": "OCQ_46q02BDs"
      }
    },
    {
      "cell_type": "code",
      "source": [
        "spark.sql(\"\"\" ALTER TABLE default.persons ADD CONSTRAINT birthdate CHECK (birthDate > '2000-01-01'); \"\"\")"
      ],
      "metadata": {
        "colab": {
          "base_uri": "https://localhost:8080/"
        },
        "id": "yuhD3yaL2GU8",
        "outputId": "285a008f-ac8c-4636-da02-b47c047b3a83"
      },
      "execution_count": null,
      "outputs": [
        {
          "output_type": "execute_result",
          "data": {
            "text/plain": [
              "DataFrame[]"
            ]
          },
          "metadata": {},
          "execution_count": 63
        }
      ]
    },
    {
      "cell_type": "code",
      "source": [
        "spark.sql(\"\"\"SHOW TBLPROPERTIES default.persons\"\"\").show(truncate=False)"
      ],
      "metadata": {
        "colab": {
          "base_uri": "https://localhost:8080/"
        },
        "id": "wWsQJYGi4n0A",
        "outputId": "46cde176-380f-4580-8c14-ea0af7ee791f"
      },
      "execution_count": null,
      "outputs": [
        {
          "output_type": "stream",
          "name": "stdout",
          "text": [
            "+---------------------------+------------------------+\n",
            "|key                        |value                   |\n",
            "+---------------------------+------------------------+\n",
            "|delta.constraints.birthdate|birthDate > '2000-01-01'|\n",
            "|delta.minReaderVersion     |1                       |\n",
            "|delta.minWriterVersion     |3                       |\n",
            "+---------------------------+------------------------+\n",
            "\n"
          ]
        }
      ]
    },
    {
      "cell_type": "code",
      "source": [
        "spark.sql(\"\"\"insert into default.persons values (47962, \"Bob\",\"2003-03-14\" ,\"456 Oak Ave\") \"\"\")"
      ],
      "metadata": {
        "colab": {
          "base_uri": "https://localhost:8080/"
        },
        "id": "L2jaoF7H35Uj",
        "outputId": "1436fd37-bfce-42d6-d4d7-9019985a0bee"
      },
      "execution_count": null,
      "outputs": [
        {
          "output_type": "execute_result",
          "data": {
            "text/plain": [
              "DataFrame[]"
            ]
          },
          "metadata": {},
          "execution_count": 65
        }
      ]
    },
    {
      "cell_type": "markdown",
      "source": [
        "Can we run the following statement?"
      ],
      "metadata": {
        "id": "hESBMIS434pn"
      }
    },
    {
      "cell_type": "code",
      "source": [
        "# spark.sql(\"\"\"insert into default.persons values (47962, \"Bob\",\"1999-03-14\" ,\"456 Oak Ave\") \"\"\")"
      ],
      "metadata": {
        "id": "O_zZuSuZlJPD"
      },
      "execution_count": null,
      "outputs": []
    },
    {
      "cell_type": "markdown",
      "source": [
        "### Generated columns\n",
        "The following  delta table contains three columns `year`, `month` and `day` that must correspond to the date elements in the `saledate` column."
      ],
      "metadata": {
        "id": "HVCjZ2MyDGS5"
      }
    },
    {
      "cell_type": "code",
      "source": [
        "from delta.tables import *\n",
        "DeltaTable.createOrReplace(spark) \\\n",
        "  .tableName(\"default.sales\") \\\n",
        "  .addColumn(\"saleid\", \"STRING\") \\\n",
        "  .addColumn(\"saledate\", \"TIMESTAMP\") \\\n",
        "  .addColumn(\"quantity\", \"INT\") \\\n",
        "  .addColumn(\"year\", \"INT\", generatedAlwaysAs=\"YEAR(saledate)\") \\\n",
        "  .addColumn(\"month\", \"INT\", generatedAlwaysAs=\"MONTH(saledate)\") \\\n",
        "  .addColumn(\"day\", \"INT\", generatedAlwaysAs=\"DAYOFMONTH(saledate)\") \\\n",
        "  .partitionedBy(\"year\", \"month\") \\\n",
        "  .execute()"
      ],
      "metadata": {
        "colab": {
          "base_uri": "https://localhost:8080/"
        },
        "id": "nDQp6eD7G-rG",
        "outputId": "05dc3c25-da5d-42cd-db41-3ccfa58e2192"
      },
      "execution_count": null,
      "outputs": [
        {
          "output_type": "execute_result",
          "data": {
            "text/plain": [
              "<delta.tables.DeltaTable at 0x7db335e1b150>"
            ]
          },
          "metadata": {},
          "execution_count": 66
        }
      ]
    },
    {
      "cell_type": "code",
      "source": [
        "spark.sql(\"\"\" insert into default.sales\n",
        "            values ('S000000124','2023-02-26 00:00:00',2.0,2023,02,26)  \"\"\")"
      ],
      "metadata": {
        "colab": {
          "base_uri": "https://localhost:8080/"
        },
        "id": "h77HzhcKIPpi",
        "outputId": "841652b0-d401-4223-f901-74e2cc020abe"
      },
      "execution_count": null,
      "outputs": [
        {
          "output_type": "execute_result",
          "data": {
            "text/plain": [
              "DataFrame[]"
            ]
          },
          "metadata": {},
          "execution_count": 67
        }
      ]
    },
    {
      "cell_type": "code",
      "source": [
        "spark.sql(\"\"\" select * from default.sales \"\"\").show()"
      ],
      "metadata": {
        "colab": {
          "base_uri": "https://localhost:8080/"
        },
        "id": "KqE9dVCNIVm0",
        "outputId": "4dca3795-0367-4c6f-fad6-e1769e3b0ea4"
      },
      "execution_count": null,
      "outputs": [
        {
          "output_type": "stream",
          "name": "stdout",
          "text": [
            "+----------+-------------------+--------+----+-----+---+\n",
            "|    saleid|           saledate|quantity|year|month|day|\n",
            "+----------+-------------------+--------+----+-----+---+\n",
            "|S000000124|2023-02-26 00:00:00|       2|2023|    2| 26|\n",
            "+----------+-------------------+--------+----+-----+---+\n",
            "\n"
          ]
        }
      ]
    },
    {
      "cell_type": "markdown",
      "source": [
        "can we run the following command?"
      ],
      "metadata": {
        "id": "R0ag38IaIgvW"
      }
    },
    {
      "cell_type": "code",
      "source": [
        "# spark.sql(\"\"\" insert into default.sales values ('S000000124','2024-02-26 00:00:00',2.0,2023,02,26)  \"\"\")"
      ],
      "metadata": {
        "id": "YaBbdOXvIan7"
      },
      "execution_count": null,
      "outputs": []
    },
    {
      "cell_type": "markdown",
      "source": [
        "## Exercice to solve"
      ],
      "metadata": {
        "id": "JgchT6SU7-xR"
      }
    },
    {
      "cell_type": "markdown",
      "source": [
        "### Data import"
      ],
      "metadata": {
        "id": "Z1G5IVktAXSx"
      }
    },
    {
      "cell_type": "code",
      "source": [
        "query = \"\"\"\n",
        "CREATE TABLE IF NOT EXISTS salesOriginal\n",
        "USING csv\n",
        "OPTIONS (\n",
        "  header \"true\",\n",
        "  path \"/tmp/delta/sales/salesOriginal.csv\",\n",
        "  inferSchema \"true\"\n",
        ")\n",
        "\"\"\"\n",
        "spark.sql(query)"
      ],
      "metadata": {
        "colab": {
          "base_uri": "https://localhost:8080/"
        },
        "id": "ordeWbBrN4nx",
        "outputId": "9035c3f1-d0a6-4d0c-8011-488063fd27dd"
      },
      "execution_count": null,
      "outputs": [
        {
          "output_type": "execute_result",
          "data": {
            "text/plain": [
              "DataFrame[]"
            ]
          },
          "metadata": {},
          "execution_count": 35
        }
      ]
    },
    {
      "cell_type": "code",
      "source": [
        "query = \"\"\"\n",
        "DESCRIBE salesOriginal\n",
        "\"\"\"\n",
        "spark.sql(query).show()"
      ],
      "metadata": {
        "colab": {
          "base_uri": "https://localhost:8080/"
        },
        "id": "g0Edbb9NQMdt",
        "outputId": "17a00578-6161-4243-c9a4-4b3bfb9b842b"
      },
      "execution_count": null,
      "outputs": [
        {
          "output_type": "stream",
          "name": "stdout",
          "text": [
            "+-------------+---------+-------+\n",
            "|     col_name|data_type|comment|\n",
            "+-------------+---------+-------+\n",
            "|       saleid|   string|   NULL|\n",
            "|     saledate|     date|   NULL|\n",
            "|     quantity|   double|   NULL|\n",
            "|    unitprice|   double|   NULL|\n",
            "|       shopid|   string|   NULL|\n",
            "|         city|   string|   NULL|\n",
            "|        state|   string|   NULL|\n",
            "|      country|   string|   NULL|\n",
            "|     shopsize|   string|   NULL|\n",
            "|    productid|   string|   NULL|\n",
            "|     category|   string|   NULL|\n",
            "|  subcategory|   string|   NULL|\n",
            "|         size|   string|   NULL|\n",
            "|purchaseprice|   double|   NULL|\n",
            "|        color|   string|   NULL|\n",
            "|        brand|   string|   NULL|\n",
            "+-------------+---------+-------+\n",
            "\n"
          ]
        }
      ]
    },
    {
      "cell_type": "code",
      "source": [
        "query = \"\"\"\n",
        "CREATE TABLE IF NOT EXISTS march23_sales\n",
        "USING csv\n",
        "OPTIONS (\n",
        "  header \"true\",\n",
        "  path \"/tmp/delta/sales/march23_sales.csv\",\n",
        "  inferSchema \"true\"\n",
        ")\n",
        "\"\"\"\n",
        "spark.sql(query)"
      ],
      "metadata": {
        "colab": {
          "base_uri": "https://localhost:8080/"
        },
        "id": "s0W7igW8QZbn",
        "outputId": "3d74a610-c7b1-49dc-8abf-8c0b2c0e9d40"
      },
      "execution_count": null,
      "outputs": [
        {
          "output_type": "execute_result",
          "data": {
            "text/plain": [
              "DataFrame[]"
            ]
          },
          "metadata": {},
          "execution_count": 38
        }
      ]
    },
    {
      "cell_type": "code",
      "source": [
        "query = \"\"\"\n",
        "DESCRIBE march23_sales\n",
        "\"\"\"\n",
        "spark.sql(query).show()"
      ],
      "metadata": {
        "colab": {
          "base_uri": "https://localhost:8080/"
        },
        "id": "v_tVBHO4QdNU",
        "outputId": "e1d8e204-2581-4d19-9100-070c41e1ecb4"
      },
      "execution_count": null,
      "outputs": [
        {
          "output_type": "stream",
          "name": "stdout",
          "text": [
            "+-------------+---------+-------+\n",
            "|     col_name|data_type|comment|\n",
            "+-------------+---------+-------+\n",
            "|       saleid|   string|   NULL|\n",
            "|     saledate|     date|   NULL|\n",
            "|     quantity|   double|   NULL|\n",
            "|    unitprice|   double|   NULL|\n",
            "|       shopid|   string|   NULL|\n",
            "|         city|   string|   NULL|\n",
            "|        state|   string|   NULL|\n",
            "|      country|   string|   NULL|\n",
            "|     shopsize|   string|   NULL|\n",
            "|    productid|   string|   NULL|\n",
            "|     category|   string|   NULL|\n",
            "|  subcategory|   string|   NULL|\n",
            "|         size|   string|   NULL|\n",
            "|purchaseprice|   double|   NULL|\n",
            "|        color|   string|   NULL|\n",
            "|        brand|   string|   NULL|\n",
            "+-------------+---------+-------+\n",
            "\n"
          ]
        }
      ]
    },
    {
      "cell_type": "code",
      "source": [
        "query = \"\"\"\n",
        "SELECT count(*) FROM  march23_sales\n",
        "\"\"\"\n",
        "spark.sql(query).show(5)"
      ],
      "metadata": {
        "colab": {
          "base_uri": "https://localhost:8080/"
        },
        "id": "6QfLaZbENqqx",
        "outputId": "49470634-d25b-4162-9ec9-9567abdafc2a"
      },
      "execution_count": null,
      "outputs": [
        {
          "output_type": "stream",
          "name": "stdout",
          "text": [
            "+--------+\n",
            "|count(1)|\n",
            "+--------+\n",
            "|      84|\n",
            "+--------+\n",
            "\n"
          ]
        }
      ]
    },
    {
      "cell_type": "markdown",
      "source": [
        "### Creation of the delta tables"
      ],
      "metadata": {
        "id": "6e_agqb2v0n2"
      }
    },
    {
      "cell_type": "code",
      "source": [
        "query = \"\"\"\n",
        "CREATE TABLE delta.`/tmp/deltaSales` USING DELTA AS SELECT * FROM salesOriginal;\n",
        "\"\"\"\n",
        "spark.sql(query)"
      ],
      "metadata": {
        "colab": {
          "base_uri": "https://localhost:8080/"
        },
        "id": "mWVBUgduQtNF",
        "outputId": "0dd98e6c-8128-4b39-941f-a38495a0bb0f"
      },
      "execution_count": null,
      "outputs": [
        {
          "output_type": "execute_result",
          "data": {
            "text/plain": [
              "DataFrame[]"
            ]
          },
          "metadata": {},
          "execution_count": 41
        }
      ]
    },
    {
      "cell_type": "code",
      "source": [
        "query = \"\"\"\n",
        "SELECT * FROM  delta.`/tmp/deltaSales`\n",
        "\"\"\"\n",
        "spark.sql(query).show(5)"
      ],
      "metadata": {
        "colab": {
          "base_uri": "https://localhost:8080/"
        },
        "id": "HvFi5eYOREaI",
        "outputId": "c7bb43bd-4953-4ad5-e79a-d72f2603ff2b"
      },
      "execution_count": null,
      "outputs": [
        {
          "output_type": "stream",
          "name": "stdout",
          "text": [
            "+----------+----------+--------+---------+------+-------------+----------+-------+--------+---------+---------+-----------+------+-------------+-----+-----+\n",
            "|    saleid|  saledate|quantity|unitprice|shopid|         city|     state|country|shopsize|productid| category|subcategory|  size|purchaseprice|color|brand|\n",
            "+----------+----------+--------+---------+------+-------------+----------+-------+--------+---------+---------+-----------+------+-------------+-----+-----+\n",
            "|S000000124|2023-02-26|     2.0|     60.0|shop_4|San Francisco|California|    USA|   small|    CHA_2|Furniture|      Chair|  NULL|         48.0| blue|Basic|\n",
            "|S000000125|2023-02-25|     1.0|    150.0|shop_5|      Houston|     Texas|    USA|   small|    BED_3|Furniture|        Bed|Single|        127.0|  red| Mega|\n",
            "|S000000126|2023-02-24|     1.0|    300.0|shop_6|  San Antonio|     Texas|    USA|   small|    BED_4|Furniture|        Bed|Double|        252.0|brown|Basic|\n",
            "|S000000127|2023-02-23|     1.0|    395.0|shop_7|      Chicago|  Illinois|    USA|   small|    BED_5|Furniture|        Bed| Queen|        333.0|black| Mega|\n",
            "|S000000128|2023-02-22|     4.0|    440.0|shop_8|   Regensburg|   Bavaria|Germany|   small|    BED_6|Furniture|        Bed|  King|        375.0|white|Basic|\n",
            "+----------+----------+--------+---------+------+-------------+----------+-------+--------+---------+---------+-----------+------+-------------+-----+-----+\n",
            "only showing top 5 rows\n",
            "\n"
          ]
        }
      ]
    },
    {
      "cell_type": "code",
      "source": [
        "query = \"\"\"\n",
        "SELECT count(*) FROM  delta.`/tmp/deltaSales`\n",
        "\"\"\"\n",
        "spark.sql(query).show()"
      ],
      "metadata": {
        "colab": {
          "base_uri": "https://localhost:8080/"
        },
        "id": "dUkfdbjjNjaj",
        "outputId": "f2859f29-1b51-4af4-d8e5-b7598fd263c1"
      },
      "execution_count": null,
      "outputs": [
        {
          "output_type": "stream",
          "name": "stdout",
          "text": [
            "+--------+\n",
            "|count(1)|\n",
            "+--------+\n",
            "|    4916|\n",
            "+--------+\n",
            "\n"
          ]
        }
      ]
    },
    {
      "cell_type": "markdown",
      "source": [
        "### Adding new records\n",
        "Write a merge statement to insert the march 2023 records into `deltaSales`"
      ],
      "metadata": {
        "id": "Dmo8PBuNAK_o"
      }
    },
    {
      "cell_type": "code",
      "source": [
        "query = \"\"\"\n",
        "MERGE INTO delta.`/tmp/deltaSales` AS oldData\n",
        "USING march23_sales\n",
        "ON oldData.saleid = march23_sales.saleid\n",
        "WHEN NOT MATCHED\n",
        "  THEN INSERT *;\n",
        "\n",
        "\"\"\"\n",
        "spark.sql(query).show()"
      ],
      "metadata": {
        "colab": {
          "base_uri": "https://localhost:8080/"
        },
        "id": "1QXirBTdN2k8",
        "outputId": "090d4117-90c1-49c0-ff7f-4dbf15826b17"
      },
      "execution_count": null,
      "outputs": [
        {
          "output_type": "stream",
          "name": "stdout",
          "text": [
            "+-----------------+----------------+----------------+-----------------+\n",
            "|num_affected_rows|num_updated_rows|num_deleted_rows|num_inserted_rows|\n",
            "+-----------------+----------------+----------------+-----------------+\n",
            "|               84|               0|               0|               84|\n",
            "+-----------------+----------------+----------------+-----------------+\n",
            "\n"
          ]
        }
      ]
    },
    {
      "cell_type": "markdown",
      "source": [
        "### Updating records\n",
        "Write update statements that increases the unitprice of products sold on 2023, based on their category, as follows: furniture -> 5%, others -> 10%"
      ],
      "metadata": {
        "id": "jJ0GWq2OAR06"
      }
    },
    {
      "cell_type": "code",
      "source": [
        "query = \"\"\"\n",
        "select category, count(*) from delta.`/tmp/deltaSales`\n",
        "WHERE YEAR(saledate) >=2023\n",
        "group by category\n",
        "\"\"\"\n",
        "spark.sql(query).show()"
      ],
      "metadata": {
        "colab": {
          "base_uri": "https://localhost:8080/"
        },
        "id": "OvjFyUD4PMqr",
        "outputId": "cf9cbcbb-e777-425f-985c-11c8250ad0c6"
      },
      "execution_count": null,
      "outputs": [
        {
          "output_type": "stream",
          "name": "stdout",
          "text": [
            "+---------+--------+\n",
            "| category|count(1)|\n",
            "+---------+--------+\n",
            "|Furniture|     882|\n",
            "|    Cloth|    1680|\n",
            "+---------+--------+\n",
            "\n"
          ]
        }
      ]
    },
    {
      "cell_type": "code",
      "source": [
        "query = \"\"\"\n",
        "update delta.`/tmp/deltaSales`\n",
        "set unitprice=unitprice*1.05\n",
        "WHERE category='Furniture' and YEAR(saledate) >=2023\n",
        "\"\"\"\n",
        "spark.sql(query).show()"
      ],
      "metadata": {
        "id": "UPs31eToTAwT",
        "colab": {
          "base_uri": "https://localhost:8080/"
        },
        "outputId": "652f44dc-d1f5-4ab9-a95b-f286e579147a"
      },
      "execution_count": null,
      "outputs": [
        {
          "output_type": "stream",
          "name": "stdout",
          "text": [
            "+-----------------+\n",
            "|num_affected_rows|\n",
            "+-----------------+\n",
            "|              882|\n",
            "+-----------------+\n",
            "\n"
          ]
        }
      ]
    },
    {
      "cell_type": "code",
      "source": [
        "query = \"\"\"\n",
        "update delta.`/tmp/deltaSales`\n",
        "set unitprice=unitprice*1.1\n",
        "WHERE category!='Furniture' and YEAR(saledate) >=2023\n",
        "\"\"\"\n",
        "spark.sql(query).show()"
      ],
      "metadata": {
        "colab": {
          "base_uri": "https://localhost:8080/"
        },
        "id": "XYz5VmL-U2qn",
        "outputId": "a66836aa-a320-46dd-d527-cc845c6e3278"
      },
      "execution_count": null,
      "outputs": [
        {
          "output_type": "stream",
          "name": "stdout",
          "text": [
            "+-----------------+\n",
            "|num_affected_rows|\n",
            "+-----------------+\n",
            "|             1680|\n",
            "+-----------------+\n",
            "\n"
          ]
        }
      ]
    },
    {
      "cell_type": "code",
      "source": [],
      "metadata": {
        "id": "NhyKGRPUqoLx"
      },
      "execution_count": null,
      "outputs": []
    },
    {
      "cell_type": "markdown",
      "source": [
        "### Removing old records\n",
        "remove all sales older than 01-Jan-2023. How many records remain?"
      ],
      "metadata": {
        "id": "hNyHm2oly6Cg"
      }
    },
    {
      "cell_type": "code",
      "source": [
        "query = \"\"\"\n",
        "select count(*) from delta.`/tmp/deltaSales`\n",
        "WHERE saledate <'2023-01-01'\n",
        "\"\"\"\n",
        "spark.sql(query).show()"
      ],
      "metadata": {
        "id": "Q7mXQSQWQjNL",
        "colab": {
          "base_uri": "https://localhost:8080/"
        },
        "outputId": "ecb07373-522c-4b4c-a159-61a8de381820"
      },
      "execution_count": null,
      "outputs": [
        {
          "output_type": "stream",
          "name": "stdout",
          "text": [
            "+--------+\n",
            "|count(1)|\n",
            "+--------+\n",
            "|    2438|\n",
            "+--------+\n",
            "\n"
          ]
        }
      ]
    },
    {
      "cell_type": "code",
      "source": [
        "query = \"\"\"\n",
        "delete from delta.`/tmp/deltaSales`\n",
        "WHERE saledate <'2023-01-01'\n",
        "\"\"\"\n",
        "spark.sql(query).show()"
      ],
      "metadata": {
        "colab": {
          "base_uri": "https://localhost:8080/"
        },
        "id": "3OQOnU2nVMpV",
        "outputId": "bbc6ab66-3351-48c1-a42b-37b344cf4584"
      },
      "execution_count": null,
      "outputs": [
        {
          "output_type": "stream",
          "name": "stdout",
          "text": [
            "+-----------------+\n",
            "|num_affected_rows|\n",
            "+-----------------+\n",
            "|             2438|\n",
            "+-----------------+\n",
            "\n"
          ]
        }
      ]
    },
    {
      "cell_type": "markdown",
      "source": [
        "### History viewing\n"
      ],
      "metadata": {
        "id": "3y09Br-I04C8"
      }
    },
    {
      "cell_type": "code",
      "source": [
        "queryv = \"\"\"\n",
        "DESCRIBE HISTORY delta.`/tmp/deltaSales`\n",
        "\"\"\"\n",
        "dfv = spark.sql(queryv)\n",
        "dfv.show()"
      ],
      "metadata": {
        "colab": {
          "base_uri": "https://localhost:8080/"
        },
        "id": "LWrOrQfDVfms",
        "outputId": "50485bcb-f146-41b3-e85a-bae4869d4bbb"
      },
      "execution_count": null,
      "outputs": [
        {
          "output_type": "stream",
          "name": "stdout",
          "text": [
            "+-------+--------------------+------+--------+--------------------+--------------------+----+--------+---------+-----------+--------------+-------------+--------------------+------------+--------------------+\n",
            "|version|           timestamp|userId|userName|           operation| operationParameters| job|notebook|clusterId|readVersion|isolationLevel|isBlindAppend|    operationMetrics|userMetadata|          engineInfo|\n",
            "+-------+--------------------+------+--------+--------------------+--------------------+----+--------+---------+-----------+--------------+-------------+--------------------+------------+--------------------+\n",
            "|      5|2025-06-23 18:59:...|  NULL|    NULL|              DELETE|{predicate -> [\"(...|NULL|    NULL|     NULL|          4|  Serializable|        false|{numRemovedFiles ...|        NULL|Apache-Spark/3.5....|\n",
            "|      4|2025-06-23 18:58:...|  NULL|    NULL|              UPDATE|{predicate -> [\"(...|NULL|    NULL|     NULL|          3|  Serializable|        false|{numRemovedFiles ...|        NULL|Apache-Spark/3.5....|\n",
            "|      3|2025-06-23 18:57:...|  NULL|    NULL|              UPDATE|{predicate -> [\"(...|NULL|    NULL|     NULL|          2|  Serializable|        false|{numRemovedFiles ...|        NULL|Apache-Spark/3.5....|\n",
            "|      2|2025-06-23 18:56:...|  NULL|    NULL|              UPDATE|{predicate -> [\"(...|NULL|    NULL|     NULL|          1|  Serializable|        false|{numRemovedFiles ...|        NULL|Apache-Spark/3.5....|\n",
            "|      1|2025-06-23 18:54:...|  NULL|    NULL|               MERGE|{predicate -> [\"(...|NULL|    NULL|     NULL|          0|  Serializable|        false|{numTargetRowsCop...|        NULL|Apache-Spark/3.5....|\n",
            "|      0|2025-06-23 18:28:...|  NULL|    NULL|CREATE TABLE AS S...|{isManaged -> fal...|NULL|    NULL|     NULL|       NULL|  Serializable|         true|{numFiles -> 1, n...|        NULL|Apache-Spark/3.5....|\n",
            "+-------+--------------------+------+--------+--------------------+--------------------+----+--------+---------+-----------+--------------+-------------+--------------------+------------+--------------------+\n",
            "\n"
          ]
        }
      ]
    },
    {
      "cell_type": "code",
      "source": [
        "dfv = dfv.select(\"operation\",  \"operationMetrics\")\n",
        "# dfv.select(\"operation\", \"operationParameters\")\n",
        "dfv.show(truncate=False)"
      ],
      "metadata": {
        "colab": {
          "base_uri": "https://localhost:8080/"
        },
        "id": "Zna2qqvSrSXk",
        "outputId": "d6fc2279-abb3-4247-bbc8-ad39c0f51755"
      },
      "execution_count": null,
      "outputs": [
        {
          "output_type": "stream",
          "name": "stdout",
          "text": [
            "+----------------------+-----------------------------------------------------------------------------------------------------------------------------------------------------------------------------------------------------------------------------------------------------------------------------------------------------------------------------------------------------------------------------------------------------------------------------------------------------------------------------------------------------------------------------------------------------------------------------------------------------------------------------------------------------+\n",
            "|operation             |operationMetrics                                                                                                                                                                                                                                                                                                                                                                                                                                                                                                                                                                                                                                     |\n",
            "+----------------------+-----------------------------------------------------------------------------------------------------------------------------------------------------------------------------------------------------------------------------------------------------------------------------------------------------------------------------------------------------------------------------------------------------------------------------------------------------------------------------------------------------------------------------------------------------------------------------------------------------------------------------------------------------+\n",
            "|DELETE                |{numRemovedFiles -> 1, numRemovedBytes -> 37791, numCopiedRows -> 2478, numDeletionVectorsAdded -> 0, numDeletionVectorsRemoved -> 0, numAddedChangeFiles -> 0, executionTimeMs -> 3268, numDeletionVectorsUpdated -> 0, numDeletedRows -> 2438, scanTimeMs -> 2372, numAddedFiles -> 1, numAddedBytes -> 22013, rewriteTimeMs -> 894}                                                                                                                                                                                                                                                                                                               |\n",
            "|UPDATE                |{numRemovedFiles -> 2, numRemovedBytes -> 43956, numCopiedRows -> 3320, numDeletionVectorsAdded -> 0, numDeletionVectorsRemoved -> 0, numAddedChangeFiles -> 0, executionTimeMs -> 3294, numDeletionVectorsUpdated -> 0, scanTimeMs -> 2530, numAddedFiles -> 2, numUpdatedRows -> 1680, numAddedBytes -> 44155, rewriteTimeMs -> 764}                                                                                                                                                                                                                                                                                                               |\n",
            "|UPDATE                |{numRemovedFiles -> 2, numRemovedBytes -> 43948, numCopiedRows -> 4118, numDeletionVectorsAdded -> 0, numDeletionVectorsRemoved -> 0, numAddedChangeFiles -> 0, executionTimeMs -> 2827, numDeletionVectorsUpdated -> 0, scanTimeMs -> 1946, numAddedFiles -> 2, numUpdatedRows -> 882, numAddedBytes -> 43956, rewriteTimeMs -> 880}                                                                                                                                                                                                                                                                                                                |\n",
            "|UPDATE                |{numRemovedFiles -> 2, numRemovedBytes -> 43674, numCopiedRows -> 4118, numDeletionVectorsAdded -> 0, numDeletionVectorsRemoved -> 0, numAddedChangeFiles -> 0, executionTimeMs -> 4940, numDeletionVectorsUpdated -> 0, scanTimeMs -> 3296, numAddedFiles -> 2, numUpdatedRows -> 882, numAddedBytes -> 43948, rewriteTimeMs -> 1641}                                                                                                                                                                                                                                                                                                               |\n",
            "|MERGE                 |{numTargetRowsCopied -> 0, numTargetRowsDeleted -> 0, numTargetFilesAdded -> 1, numTargetBytesAdded -> 6345, numTargetBytesRemoved -> 0, numTargetDeletionVectorsAdded -> 0, numTargetRowsMatchedUpdated -> 0, executionTimeMs -> 3368, numTargetRowsInserted -> 84, numTargetRowsMatchedDeleted -> 0, numTargetDeletionVectorsUpdated -> 0, scanTimeMs -> 0, numTargetRowsUpdated -> 0, numOutputRows -> 84, numTargetDeletionVectorsRemoved -> 0, numTargetRowsNotMatchedBySourceUpdated -> 0, numTargetChangeFilesAdded -> 0, numSourceRows -> 84, numTargetFilesRemoved -> 0, numTargetRowsNotMatchedBySourceDeleted -> 0, rewriteTimeMs -> 3360}|\n",
            "|CREATE TABLE AS SELECT|{numFiles -> 1, numOutputRows -> 4916, numOutputBytes -> 37329}                                                                                                                                                                                                                                                                                                                                                                                                                                                                                                                                                                                      |\n",
            "+----------------------+-----------------------------------------------------------------------------------------------------------------------------------------------------------------------------------------------------------------------------------------------------------------------------------------------------------------------------------------------------------------------------------------------------------------------------------------------------------------------------------------------------------------------------------------------------------------------------------------------------------------------------------------------------+\n",
            "\n"
          ]
        }
      ]
    },
    {
      "cell_type": "markdown",
      "source": [
        "### Restoring to a previous version"
      ],
      "metadata": {
        "id": "a1YclKosWbn5"
      }
    },
    {
      "cell_type": "code",
      "source": [
        "query = \"\"\"\n",
        "RESTORE TABLE delta.`/tmp/deltaSales` TO VERSION AS OF 2\n",
        "\"\"\"\n",
        "spark.sql(query).show()\n"
      ],
      "metadata": {
        "colab": {
          "base_uri": "https://localhost:8080/"
        },
        "id": "ChaMilCYWbQ2",
        "outputId": "94002cf7-4cbf-4a02-ce33-a199bded19ab"
      },
      "execution_count": null,
      "outputs": [
        {
          "output_type": "stream",
          "name": "stdout",
          "text": [
            "+------------------------+--------------------------+-----------------+------------------+------------------+-------------------+\n",
            "|table_size_after_restore|num_of_files_after_restore|num_removed_files|num_restored_files|removed_files_size|restored_files_size|\n",
            "+------------------------+--------------------------+-----------------+------------------+------------------+-------------------+\n",
            "|                   43948|                         2|                2|                 2|             28370|              43948|\n",
            "+------------------------+--------------------------+-----------------+------------------+------------------+-------------------+\n",
            "\n"
          ]
        }
      ]
    },
    {
      "cell_type": "code",
      "source": [
        "query = \"\"\"\n",
        "select count(*) from delta.`/tmp/deltaSales`\n",
        "WHERE saledate <'2023-01-01'\n",
        "\"\"\"\n",
        "spark.sql(query).show()"
      ],
      "metadata": {
        "colab": {
          "base_uri": "https://localhost:8080/"
        },
        "id": "N1kkrS1dSGAI",
        "outputId": "58c9fabe-804b-4fcf-daf5-24b186cf4118"
      },
      "execution_count": null,
      "outputs": [
        {
          "output_type": "stream",
          "name": "stdout",
          "text": [
            "+--------+\n",
            "|count(1)|\n",
            "+--------+\n",
            "|    2438|\n",
            "+--------+\n",
            "\n"
          ]
        }
      ]
    },
    {
      "cell_type": "code",
      "source": [
        "query = \"\"\"\n",
        "DESCRIBE HISTORY delta.`/tmp/deltaSales`\n",
        "\"\"\"\n",
        "spark.sql(query).show()"
      ],
      "metadata": {
        "id": "CqQT52ChWqd1"
      },
      "execution_count": null,
      "outputs": []
    },
    {
      "cell_type": "code",
      "source": [
        "query = \"\"\"\n",
        "RESTORE TABLE delta.`/tmp/deltaSales` TO VERSION AS OF 4\n",
        "\"\"\"\n",
        "spark.sql(query).show()\n"
      ],
      "metadata": {
        "colab": {
          "base_uri": "https://localhost:8080/"
        },
        "id": "rKE4VR7lOi00",
        "outputId": "8823d9c3-2b06-4f51-e358-58156de9c610"
      },
      "execution_count": null,
      "outputs": [
        {
          "output_type": "stream",
          "name": "stdout",
          "text": [
            "+------------------------+--------------------------+-----------------+------------------+------------------+-------------------+\n",
            "|table_size_after_restore|num_of_files_after_restore|num_removed_files|num_restored_files|removed_files_size|restored_files_size|\n",
            "+------------------------+--------------------------+-----------------+------------------+------------------+-------------------+\n",
            "|                   28370|                         2|                2|                 2|             43948|              28370|\n",
            "+------------------------+--------------------------+-----------------+------------------+------------------+-------------------+\n",
            "\n"
          ]
        }
      ]
    },
    {
      "cell_type": "markdown",
      "source": [
        "## Demo 4: change data feed"
      ],
      "metadata": {
        "id": "R7oLc2P-juaY"
      }
    },
    {
      "cell_type": "markdown",
      "source": [
        "### Table creation with CDF activated"
      ],
      "metadata": {
        "id": "GZ9_0glRj150"
      }
    },
    {
      "cell_type": "code",
      "source": [
        "query = \"\"\"\n",
        "CREATE TABLE IF NOT EXISTS salesOriginal\n",
        "USING csv\n",
        "OPTIONS (\n",
        "  header \"true\",\n",
        "  path \"/tmp/delta/sales/salesOriginal.csv\",\n",
        "  inferSchema \"true\"\n",
        ")\n",
        "\"\"\"\n",
        "spark.sql(query)"
      ],
      "metadata": {
        "colab": {
          "base_uri": "https://localhost:8080/"
        },
        "id": "DVjvb3jNjxW-",
        "outputId": "5a1f0630-3951-499b-85ba-82a72619b58b"
      },
      "execution_count": null,
      "outputs": [
        {
          "output_type": "execute_result",
          "data": {
            "text/plain": [
              "DataFrame[]"
            ]
          },
          "metadata": {},
          "execution_count": 8
        }
      ]
    },
    {
      "cell_type": "code",
      "source": [
        "query = \"\"\"\n",
        "CREATE TABLE delta.`/tmp/deltaSalesCDF` USING DELTA TBLPROPERTIES (delta.enableChangeDataFeed = true)\n",
        "AS SELECT * FROM salesOriginal\n",
        "\"\"\"\n",
        "spark.sql(query)"
      ],
      "metadata": {
        "colab": {
          "base_uri": "https://localhost:8080/"
        },
        "id": "RBYOz4X2j-xT",
        "outputId": "1e1c3de5-76d9-4724-e151-9c29e024763d"
      },
      "execution_count": null,
      "outputs": [
        {
          "output_type": "execute_result",
          "data": {
            "text/plain": [
              "DataFrame[]"
            ]
          },
          "metadata": {},
          "execution_count": 9
        }
      ]
    },
    {
      "cell_type": "markdown",
      "source": [
        "### CDF for Updates"
      ],
      "metadata": {
        "id": "OmzXP3nNkhxi"
      }
    },
    {
      "cell_type": "code",
      "source": [
        "query = \"\"\"\n",
        "UPDATE delta.`/tmp/deltaSalesCDF`\n",
        "SET unitprice = unitprice * 1.05\n",
        "WHERE saledate >= '2023-02-01' and category='Cloth'\n",
        "\"\"\"\n",
        "spark.sql(query).show()"
      ],
      "metadata": {
        "colab": {
          "base_uri": "https://localhost:8080/"
        },
        "id": "DLJ8O6lWkkhE",
        "outputId": "d7a528b5-608f-4c13-c2eb-858609572b48"
      },
      "execution_count": null,
      "outputs": [
        {
          "output_type": "stream",
          "name": "stdout",
          "text": [
            "+-----------------+\n",
            "|num_affected_rows|\n",
            "+-----------------+\n",
            "|              765|\n",
            "+-----------------+\n",
            "\n"
          ]
        }
      ]
    },
    {
      "cell_type": "code",
      "source": [
        "query = \"\"\"\n",
        "SELECT * FROM table_changes_by_path('/tmp/deltaSalesCDF', 0)\n",
        "\"\"\"\n",
        "spark.sql(query).show()\n"
      ],
      "metadata": {
        "id": "VxKvoYpfjwys",
        "colab": {
          "base_uri": "https://localhost:8080/"
        },
        "outputId": "4d61cf62-3213-47b2-9ea0-4a6ee60bdcb4"
      },
      "execution_count": null,
      "outputs": [
        {
          "output_type": "stream",
          "name": "stdout",
          "text": [
            "+----------+----------+--------+------------------+-------+-----------+----------+-------+--------+---------+--------+-----------+----+-------------+-----+--------+----------------+---------------+--------------------+\n",
            "|    saleid|  saledate|quantity|         unitprice| shopid|       city|     state|country|shopsize|productid|category|subcategory|size|purchaseprice|color|   brand|    _change_type|_commit_version|   _commit_timestamp|\n",
            "+----------+----------+--------+------------------+-------+-----------+----------+-------+--------+---------+--------+-----------+----+-------------+-----+--------+----------------+---------------+--------------------+\n",
            "|S000000129|2023-02-21|     1.0|              20.0| shop_9|     Munich|   Bavaria|Germany|     big|    TSH_7|   Cloth|     Tshirt|  XS|         17.0| blue|NewBrand| update_preimage|              1|2025-07-03 16:23:...|\n",
            "|S000000129|2023-02-21|     1.0|              21.0| shop_9|     Munich|   Bavaria|Germany|     big|    TSH_7|   Cloth|     Tshirt|  XS|         17.0| blue|NewBrand|update_postimage|              1|2025-07-03 16:23:...|\n",
            "|S000000130|2023-02-20|     1.0|              20.0|shop_10|  Offenbach|     Hesse|Germany|  medium|    TSH_8|   Cloth|     Tshirt|   S|         18.0|  red|   Basic| update_preimage|              1|2025-07-03 16:23:...|\n",
            "|S000000130|2023-02-20|     1.0|              21.0|shop_10|  Offenbach|     Hesse|Germany|  medium|    TSH_8|   Cloth|     Tshirt|   S|         18.0|  red|   Basic|update_postimage|              1|2025-07-03 16:23:...|\n",
            "|S000000131|2023-02-19|     1.0|              22.0|shop_11|      Fulda|     Hesse|Germany|  medium|    TSH_9|   Cloth|     Tshirt|   M|         19.0|brown|    Mega| update_preimage|              1|2025-07-03 16:23:...|\n",
            "|S000000131|2023-02-19|     1.0|              23.1|shop_11|      Fulda|     Hesse|Germany|  medium|    TSH_9|   Cloth|     Tshirt|   M|         19.0|brown|    Mega|update_postimage|              1|2025-07-03 16:23:...|\n",
            "|S000000132|2023-02-18|     2.0|              24.0|shop_12|     Chieti|   Abruzzo|  Italy|  medium|   TSH_10|   Cloth|     Tshirt|   L|         20.0|black|    Over| update_preimage|              1|2025-07-03 16:23:...|\n",
            "|S000000132|2023-02-18|     2.0|25.200000000000003|shop_12|     Chieti|   Abruzzo|  Italy|  medium|   TSH_10|   Cloth|     Tshirt|   L|         20.0|black|    Over|update_postimage|              1|2025-07-03 16:23:...|\n",
            "|S000000133|2023-02-17|     1.0|              24.0|shop_13|    Pescara|   Abruzzo|  Italy|   small|   TSH_11|   Cloth|     Tshirt|  XL|         21.0|white|NewBrand| update_preimage|              1|2025-07-03 16:23:...|\n",
            "|S000000133|2023-02-17|     1.0|25.200000000000003|shop_13|    Pescara|   Abruzzo|  Italy|   small|   TSH_11|   Cloth|     Tshirt|  XL|         21.0|white|NewBrand|update_postimage|              1|2025-07-03 16:23:...|\n",
            "|S000000134|2023-02-16|     3.0|              45.0|shop_14|      Milan|  Lombardy|  Italy|   small|   HOO_12|   Cloth|     Hoodie|   S|         35.0| blue|   Basic| update_preimage|              1|2025-07-03 16:23:...|\n",
            "|S000000134|2023-02-16|     3.0|             47.25|shop_14|      Milan|  Lombardy|  Italy|   small|   HOO_12|   Cloth|     Hoodie|   S|         35.0| blue|   Basic|update_postimage|              1|2025-07-03 16:23:...|\n",
            "|S000000135|2023-02-15|     1.0|              48.0|shop_15|    Bergamo|  Lombardy|  Italy|   small|   HOO_13|   Cloth|     Hoodie|   M|         38.0|  red|    Mega| update_preimage|              1|2025-07-03 16:23:...|\n",
            "|S000000135|2023-02-15|     1.0|50.400000000000006|shop_15|    Bergamo|  Lombardy|  Italy|   small|   HOO_13|   Cloth|     Hoodie|   M|         38.0|  red|    Mega|update_postimage|              1|2025-07-03 16:23:...|\n",
            "|S000000136|2023-02-14|     2.0|              49.0|shop_16|   New York|  New York|    USA|   small|   HOO_14|   Cloth|     Hoodie|   L|         39.0|brown|    Over| update_preimage|              1|2025-07-03 16:23:...|\n",
            "|S000000136|2023-02-14|     2.0|             51.45|shop_16|   New York|  New York|    USA|   small|   HOO_14|   Cloth|     Hoodie|   L|         39.0|brown|    Over|update_postimage|              1|2025-07-03 16:23:...|\n",
            "|S000000137|2023-02-13|     2.0|              60.0|shop_17|Los Angeles|California|    USA|   small|   SHO_15|   Cloth|      Shoes|   7|         40.0|black|NewBrand| update_preimage|              1|2025-07-03 16:23:...|\n",
            "|S000000137|2023-02-13|     2.0|              63.0|shop_17|Los Angeles|California|    USA|   small|   SHO_15|   Cloth|      Shoes|   7|         40.0|black|NewBrand|update_postimage|              1|2025-07-03 16:23:...|\n",
            "|S000000138|2023-02-12|     1.0|              60.0|shop_18|  San Diego|California|    USA|     big|   SHO_16|   Cloth|      Shoes|   8|         42.0|white|   Basic| update_preimage|              1|2025-07-03 16:23:...|\n",
            "|S000000138|2023-02-12|     1.0|              63.0|shop_18|  San Diego|California|    USA|     big|   SHO_16|   Cloth|      Shoes|   8|         42.0|white|   Basic|update_postimage|              1|2025-07-03 16:23:...|\n",
            "+----------+----------+--------+------------------+-------+-----------+----------+-------+--------+---------+--------+-----------+----+-------------+-----+--------+----------------+---------------+--------------------+\n",
            "only showing top 20 rows\n",
            "\n"
          ]
        }
      ]
    },
    {
      "cell_type": "code",
      "source": [
        "query = \"\"\"\n",
        "SELECT _change_type, _commit_version, _commit_timestamp, count(*)\n",
        "FROM table_changes_by_path('/tmp/deltaSalesCDF', 0)\n",
        "GROUP BY _change_type, _commit_version, _commit_timestamp\n",
        "\"\"\"\n",
        "spark.sql(query).show()"
      ],
      "metadata": {
        "colab": {
          "base_uri": "https://localhost:8080/"
        },
        "id": "d76UtMwblcHo",
        "outputId": "3091e745-876b-42c2-cb22-8c7361870832"
      },
      "execution_count": null,
      "outputs": [
        {
          "output_type": "stream",
          "name": "stdout",
          "text": [
            "+----------------+---------------+--------------------+--------+\n",
            "|    _change_type|_commit_version|   _commit_timestamp|count(1)|\n",
            "+----------------+---------------+--------------------+--------+\n",
            "|update_postimage|              1|2025-07-03 16:23:...|     765|\n",
            "| update_preimage|              1|2025-07-03 16:23:...|     765|\n",
            "|          insert|              0|2025-07-03 16:23:...|    4916|\n",
            "+----------------+---------------+--------------------+--------+\n",
            "\n"
          ]
        }
      ]
    },
    {
      "cell_type": "code",
      "source": [
        "query = \"\"\"\n",
        "SELECT saleid, _change_type, unitprice\n",
        "FROM table_changes_by_path('/tmp/deltaSalesCDF', 0)\n",
        "WHERE saledate >= '2023-02-01' and category='Cloth' and _commit_version = 1\n",
        "CLUSTER BY saleid\n",
        "\"\"\"\n",
        "spark.sql(query).show()"
      ],
      "metadata": {
        "colab": {
          "base_uri": "https://localhost:8080/"
        },
        "id": "vVQbly6BkXeY",
        "outputId": "72eb6d99-f2c4-473e-999b-b949825265da"
      },
      "execution_count": null,
      "outputs": [
        {
          "output_type": "stream",
          "name": "stdout",
          "text": [
            "+----------+----------------+------------------+\n",
            "|    saleid|    _change_type|         unitprice|\n",
            "+----------+----------------+------------------+\n",
            "|S000000007| update_preimage|              20.0|\n",
            "|S000000007|update_postimage|              21.0|\n",
            "|S000000008| update_preimage|              20.0|\n",
            "|S000000008|update_postimage|              21.0|\n",
            "|S000000009| update_preimage|              22.0|\n",
            "|S000000009|update_postimage|              23.1|\n",
            "|S000000010| update_preimage|              24.0|\n",
            "|S000000010|update_postimage|25.200000000000003|\n",
            "|S000000011| update_preimage|              24.0|\n",
            "|S000000011|update_postimage|25.200000000000003|\n",
            "|S000000012| update_preimage|              45.0|\n",
            "|S000000012|update_postimage|             47.25|\n",
            "|S000000013| update_preimage|              48.0|\n",
            "|S000000013|update_postimage|50.400000000000006|\n",
            "|S000000014| update_preimage|              49.0|\n",
            "|S000000014|update_postimage|             51.45|\n",
            "|S000000015| update_preimage|              60.0|\n",
            "|S000000015|update_postimage|              63.0|\n",
            "|S000000016| update_preimage|              60.0|\n",
            "|S000000016|update_postimage|              63.0|\n",
            "+----------+----------------+------------------+\n",
            "only showing top 20 rows\n",
            "\n"
          ]
        }
      ]
    },
    {
      "cell_type": "markdown",
      "source": [
        "### CDF for Deletes"
      ],
      "metadata": {
        "id": "OseLpQxFnKCB"
      }
    },
    {
      "cell_type": "code",
      "source": [
        "query = \"\"\"\n",
        "DELETE FROM delta.`/tmp/deltaSalesCDF`\n",
        "WHERE city = 'Chicago' and category='Cloth'\n",
        "\"\"\"\n",
        "spark.sql(query).show()"
      ],
      "metadata": {
        "colab": {
          "base_uri": "https://localhost:8080/"
        },
        "id": "384NC-GZnO9w",
        "outputId": "61aff0dc-fd93-4401-9523-6d72abe65b66"
      },
      "execution_count": null,
      "outputs": [
        {
          "output_type": "stream",
          "name": "stdout",
          "text": [
            "+-----------------+\n",
            "|num_affected_rows|\n",
            "+-----------------+\n",
            "|              244|\n",
            "+-----------------+\n",
            "\n"
          ]
        }
      ]
    },
    {
      "cell_type": "code",
      "source": [
        "query = \"\"\"\n",
        "SELECT _change_type, _commit_version, _commit_timestamp, count(*)\n",
        "FROM table_changes_by_path('/tmp/deltaSalesCDF', 0)\n",
        "GROUP BY _change_type, _commit_version, _commit_timestamp\n",
        "\"\"\"\n",
        "spark.sql(query).show()"
      ],
      "metadata": {
        "colab": {
          "base_uri": "https://localhost:8080/"
        },
        "id": "j2hfvqPWnO2p",
        "outputId": "ccbfa073-b3d2-49b0-a635-1d1b5162cfef"
      },
      "execution_count": null,
      "outputs": [
        {
          "output_type": "stream",
          "name": "stdout",
          "text": [
            "+----------------+---------------+--------------------+--------+\n",
            "|    _change_type|_commit_version|   _commit_timestamp|count(1)|\n",
            "+----------------+---------------+--------------------+--------+\n",
            "|update_postimage|              1|2025-07-03 16:23:...|     765|\n",
            "| update_preimage|              1|2025-07-03 16:23:...|     765|\n",
            "|          insert|              0|2025-07-03 16:23:...|    4916|\n",
            "+----------------+---------------+--------------------+--------+\n",
            "\n"
          ]
        }
      ]
    },
    {
      "cell_type": "markdown",
      "source": [
        "Retrieve the deleted records"
      ],
      "metadata": {
        "id": "dvxfKgRCoyTD"
      }
    },
    {
      "cell_type": "code",
      "source": [
        "query = \"\"\"\n",
        "SELECT distinct city, category\n",
        "FROM table_changes_by_path('/tmp/deltaSalesCDF', 0)\n",
        "\"\"\"\n",
        "spark.sql(query).show()"
      ],
      "metadata": {
        "colab": {
          "base_uri": "https://localhost:8080/"
        },
        "id": "oTEnGL67ovj4",
        "outputId": "5bc8f4f0-94e8-4627-aac5-c765af9379e4"
      },
      "execution_count": null,
      "outputs": [
        {
          "output_type": "stream",
          "name": "stdout",
          "text": [
            "+-------------+---------+\n",
            "|         city| category|\n",
            "+-------------+---------+\n",
            "|  Los Angeles|    Cloth|\n",
            "|      Pescara|    Cloth|\n",
            "|       Munich|    Cloth|\n",
            "|        Milan|    Cloth|\n",
            "|   Regensburg|    Cloth|\n",
            "|San Francisco|    Cloth|\n",
            "|     New York|    Cloth|\n",
            "|  San Antonio|    Cloth|\n",
            "|      Chicago|    Cloth|\n",
            "|    San Diego|    Cloth|\n",
            "|      Bergamo|    Cloth|\n",
            "|        Fulda|    Cloth|\n",
            "|       Chieti|    Cloth|\n",
            "|      Houston|    Cloth|\n",
            "|     San Jose|    Cloth|\n",
            "|    Offenbach|    Cloth|\n",
            "|        Fulda|Furniture|\n",
            "|       Munich|Furniture|\n",
            "|  San Antonio|Furniture|\n",
            "|     New York|Furniture|\n",
            "+-------------+---------+\n",
            "only showing top 20 rows\n",
            "\n"
          ]
        }
      ]
    },
    {
      "cell_type": "markdown",
      "source": [
        "## Query plan analysis"
      ],
      "metadata": {
        "id": "Sp41GQxObYwK"
      }
    },
    {
      "cell_type": "markdown",
      "source": [
        "The goal is to observe the impact of clustering on query plans. We start by creating a tunnel, using the ngrok.com service, to access the Spark GUI.\n",
        "Make sure to have access to ngrok.com by connecting using your google account, for example."
      ],
      "metadata": {
        "id": "FK0LmP96bc-e"
      }
    },
    {
      "cell_type": "code",
      "source": [
        "spark.conf.set(\"spark.sql.adaptive.enabled\", False)"
      ],
      "metadata": {
        "id": "pjkiFbq7gLny"
      },
      "execution_count": null,
      "outputs": []
    },
    {
      "cell_type": "code",
      "source": [
        "from pyngrok import ngrok, conf\n",
        "import getpass\n",
        "\n",
        "print(\"Enter your authtoken, which can be copied \"\n",
        "\"from https://dashboard.ngrok.com/get-started/your-authtoken\")\n",
        "conf.get_default().auth_token = getpass.getpass()\n",
        "\n",
        "ui_port = 4040\n",
        "public_url = ngrok.connect(ui_port).public_url\n",
        "print(f\" * ngrok tunnel \\\"{public_url}\\\" -> \\\"http://127.0.0.1:{ui_port}\\\"\")"
      ],
      "metadata": {
        "colab": {
          "base_uri": "https://localhost:8080/"
        },
        "id": "3WOUAa-pSzUo",
        "outputId": "75217fbd-6d73-47af-dfc7-8cb09727f7d7"
      },
      "execution_count": null,
      "outputs": [
        {
          "output_type": "stream",
          "name": "stdout",
          "text": [
            "Enter your authtoken, which can be copied from https://dashboard.ngrok.com/get-started/your-authtoken\n",
            "··········\n"
          ]
        },
        {
          "output_type": "stream",
          "name": "stderr",
          "text": [
            "WARNING:pyngrok.process.ngrok:t=2025-07-03T16:46:33+0000 lvl=warn msg=\"can't bind default web address, trying alternatives\" obj=web addr=127.0.0.1:4040\n"
          ]
        },
        {
          "output_type": "stream",
          "name": "stdout",
          "text": [
            " * ngrok tunnel \"https://cd07-34-9-14-188.ngrok-free.app\" -> \"http://127.0.0.1:4040\"\n"
          ]
        }
      ]
    },
    {
      "cell_type": "markdown",
      "source": [
        "### Creation of the partitionned delta tables"
      ],
      "metadata": {
        "id": "wChWGI4xdc9a"
      }
    },
    {
      "cell_type": "code",
      "source": [
        "query = \"\"\"\n",
        "CREATE TABLE IF NOT EXISTS salesOriginal\n",
        "USING csv\n",
        "OPTIONS (\n",
        "  header \"true\",\n",
        "  path \"/tmp/delta/sales/salesOriginal.csv\",\n",
        "  inferSchema \"true\"\n",
        ")\n",
        "\"\"\"\n",
        "spark.sql(query)"
      ],
      "metadata": {
        "colab": {
          "base_uri": "https://localhost:8080/"
        },
        "id": "81GCzQ8ST2yz",
        "outputId": "c3012cf8-715a-4b06-e91d-be1be969cad7"
      },
      "execution_count": null,
      "outputs": [
        {
          "output_type": "execute_result",
          "data": {
            "text/plain": [
              "DataFrame[]"
            ]
          },
          "metadata": {},
          "execution_count": 18
        }
      ]
    },
    {
      "cell_type": "markdown",
      "source": [
        "#### Partition by one column"
      ],
      "metadata": {
        "id": "qouNuKmLQTMm"
      }
    },
    {
      "cell_type": "code",
      "source": [
        "query = \"\"\"\n",
        "CREATE TABLE delta.`/tmp/deltaSalesPerCity` USING DELTA PARTITIONED BY (city)\n",
        "AS SELECT * FROM salesOriginal\n",
        "\"\"\"\n",
        "spark.sql(query)"
      ],
      "metadata": {
        "colab": {
          "base_uri": "https://localhost:8080/"
        },
        "id": "XAL25djdbdMB",
        "outputId": "55524b65-8dd8-452d-d9cc-4e0a89560f05"
      },
      "execution_count": null,
      "outputs": [
        {
          "output_type": "execute_result",
          "data": {
            "text/plain": [
              "DataFrame[]"
            ]
          },
          "metadata": {},
          "execution_count": 20
        }
      ]
    },
    {
      "cell_type": "code",
      "source": [
        "query = \"\"\"\n",
        "DESCRIBE delta.`/tmp/deltaSalesPerCity`\n",
        "\"\"\"\n",
        "spark.sql(query).show(truncate=False)"
      ],
      "metadata": {
        "colab": {
          "base_uri": "https://localhost:8080/"
        },
        "id": "cMR7VCgydiZn",
        "outputId": "ff0fa75f-4992-4a7f-c282-e34d7664e16d"
      },
      "execution_count": null,
      "outputs": [
        {
          "output_type": "stream",
          "name": "stdout",
          "text": [
            "+-----------------------+---------+-------+\n",
            "|col_name               |data_type|comment|\n",
            "+-----------------------+---------+-------+\n",
            "|saleid                 |string   |NULL   |\n",
            "|saledate               |date     |NULL   |\n",
            "|quantity               |double   |NULL   |\n",
            "|unitprice              |double   |NULL   |\n",
            "|shopid                 |string   |NULL   |\n",
            "|city                   |string   |NULL   |\n",
            "|state                  |string   |NULL   |\n",
            "|country                |string   |NULL   |\n",
            "|shopsize               |string   |NULL   |\n",
            "|productid              |string   |NULL   |\n",
            "|category               |string   |NULL   |\n",
            "|subcategory            |string   |NULL   |\n",
            "|size                   |string   |NULL   |\n",
            "|purchaseprice          |double   |NULL   |\n",
            "|color                  |string   |NULL   |\n",
            "|brand                  |string   |NULL   |\n",
            "|# Partition Information|         |       |\n",
            "|# col_name             |data_type|comment|\n",
            "|city                   |string   |NULL   |\n",
            "+-----------------------+---------+-------+\n",
            "\n"
          ]
        }
      ]
    },
    {
      "cell_type": "code",
      "source": [
        "! ls /tmp/deltaSalesPerCity"
      ],
      "metadata": {
        "colab": {
          "base_uri": "https://localhost:8080/"
        },
        "id": "eJ6lXtoedtTT",
        "outputId": "93e9fcce-1c5e-47a9-8f32-544b83cdf414"
      },
      "execution_count": null,
      "outputs": [
        {
          "output_type": "stream",
          "name": "stdout",
          "text": [
            "'city=Bergamo'\t'city=Los Angeles'  'city=Pescara'\t  'city=San Jose'\n",
            "'city=Chicago'\t'city=Milan'\t    'city=Regensburg'\t   _delta_log\n",
            "'city=Chieti'\t'city=Munich'\t    'city=San Antonio'\n",
            "'city=Fulda'\t'city=New York'     'city=San Diego'\n",
            "'city=Houston'\t'city=Offenbach'    'city=San Francisco'\n"
          ]
        }
      ]
    },
    {
      "cell_type": "code",
      "source": [
        "! ls /tmp/deltaSalesPerCity/'city=Bergamo'"
      ],
      "metadata": {
        "colab": {
          "base_uri": "https://localhost:8080/"
        },
        "id": "lsrBHb1vd5G5",
        "outputId": "7caafb4d-2e75-4b36-e5b4-6f32c3a0e937"
      },
      "execution_count": null,
      "outputs": [
        {
          "output_type": "stream",
          "name": "stdout",
          "text": [
            "part-00000-9d55e499-31af-4598-b9e1-08a43f798cc6.c000.snappy.parquet\n"
          ]
        }
      ]
    },
    {
      "cell_type": "code",
      "source": [
        "%%capture\n",
        "!pip install parquet-tools"
      ],
      "metadata": {
        "id": "_Z1mzma8TwUr"
      },
      "execution_count": null,
      "outputs": []
    },
    {
      "cell_type": "code",
      "source": [
        "!parquet-tools inspect --detail /tmp/deltaSalesPerCity/'city=Chicago'/*parquet"
      ],
      "metadata": {
        "colab": {
          "base_uri": "https://localhost:8080/"
        },
        "id": "amPvgX9aUiSN",
        "outputId": "26616c8c-9d1c-405c-ba1f-98153a889bdd"
      },
      "execution_count": null,
      "outputs": [
        {
          "output_type": "stream",
          "name": "stdout",
          "text": [
            "\n",
            "############ file meta data ############\n",
            "created_by: parquet-mr version 1.13.1 (build db4183109d5b734ec5930d870cdae161e408ddba)\n",
            "num_columns: 15\n",
            "num_rows: 375\n",
            "num_row_groups: 1\n",
            "format_version: 1.0\n",
            "serialized_size: 2935\n",
            "\u001b[0m\n",
            "\u001b[0m\n",
            "############ Columns ############\n",
            "saleid\n",
            "saledate\n",
            "quantity\n",
            "unitprice\n",
            "shopid\n",
            "state\n",
            "country\n",
            "shopsize\n",
            "productid\n",
            "category\n",
            "subcategory\n",
            "size\n",
            "purchaseprice\n",
            "color\n",
            "brand\n",
            "\n",
            "############ Column(saleid) ############\n",
            "name: saleid\n",
            "path: saleid\n",
            "max_definition_level: 1\n",
            "max_repetition_level: 0\n",
            "physical_type: BYTE_ARRAY\n",
            "logical_type: String\n",
            "converted_type (legacy): UTF8\n",
            "compression: SNAPPY (space_saved: 63%)\n",
            "\n",
            "############ Column(saledate) ############\n",
            "name: saledate\n",
            "path: saledate\n",
            "max_definition_level: 1\n",
            "max_repetition_level: 0\n",
            "physical_type: INT32\n",
            "logical_type: Date\n",
            "converted_type (legacy): DATE\n",
            "compression: SNAPPY (space_saved: 56%)\n",
            "\n",
            "############ Column(quantity) ############\n",
            "name: quantity\n",
            "path: quantity\n",
            "max_definition_level: 1\n",
            "max_repetition_level: 0\n",
            "physical_type: DOUBLE\n",
            "logical_type: None\n",
            "converted_type (legacy): NONE\n",
            "compression: SNAPPY (space_saved: 26%)\n",
            "\n",
            "############ Column(unitprice) ############\n",
            "name: unitprice\n",
            "path: unitprice\n",
            "max_definition_level: 1\n",
            "max_repetition_level: 0\n",
            "physical_type: DOUBLE\n",
            "logical_type: None\n",
            "converted_type (legacy): NONE\n",
            "compression: SNAPPY (space_saved: 8%)\n",
            "\n",
            "############ Column(shopid) ############\n",
            "name: shopid\n",
            "path: shopid\n",
            "max_definition_level: 1\n",
            "max_repetition_level: 0\n",
            "physical_type: BYTE_ARRAY\n",
            "logical_type: String\n",
            "converted_type (legacy): UTF8\n",
            "compression: SNAPPY (space_saved: 45%)\n",
            "\n",
            "############ Column(state) ############\n",
            "name: state\n",
            "path: state\n",
            "max_definition_level: 1\n",
            "max_repetition_level: 0\n",
            "physical_type: BYTE_ARRAY\n",
            "logical_type: String\n",
            "converted_type (legacy): UTF8\n",
            "compression: SNAPPY (space_saved: -6%)\n",
            "\n",
            "############ Column(country) ############\n",
            "name: country\n",
            "path: country\n",
            "max_definition_level: 1\n",
            "max_repetition_level: 0\n",
            "physical_type: BYTE_ARRAY\n",
            "logical_type: String\n",
            "converted_type (legacy): UTF8\n",
            "compression: SNAPPY (space_saved: -7%)\n",
            "\n",
            "############ Column(shopsize) ############\n",
            "name: shopsize\n",
            "path: shopsize\n",
            "max_definition_level: 1\n",
            "max_repetition_level: 0\n",
            "physical_type: BYTE_ARRAY\n",
            "logical_type: String\n",
            "converted_type (legacy): UTF8\n",
            "compression: SNAPPY (space_saved: 29%)\n",
            "\n",
            "############ Column(productid) ############\n",
            "name: productid\n",
            "path: productid\n",
            "max_definition_level: 1\n",
            "max_repetition_level: 0\n",
            "physical_type: BYTE_ARRAY\n",
            "logical_type: String\n",
            "converted_type (legacy): UTF8\n",
            "compression: SNAPPY (space_saved: 26%)\n",
            "\n",
            "############ Column(category) ############\n",
            "name: category\n",
            "path: category\n",
            "max_definition_level: 1\n",
            "max_repetition_level: 0\n",
            "physical_type: BYTE_ARRAY\n",
            "logical_type: String\n",
            "converted_type (legacy): UTF8\n",
            "compression: SNAPPY (space_saved: 4%)\n",
            "\n",
            "############ Column(subcategory) ############\n",
            "name: subcategory\n",
            "path: subcategory\n",
            "max_definition_level: 1\n",
            "max_repetition_level: 0\n",
            "physical_type: BYTE_ARRAY\n",
            "logical_type: String\n",
            "converted_type (legacy): UTF8\n",
            "compression: SNAPPY (space_saved: 3%)\n",
            "\n",
            "############ Column(size) ############\n",
            "name: size\n",
            "path: size\n",
            "max_definition_level: 1\n",
            "max_repetition_level: 0\n",
            "physical_type: BYTE_ARRAY\n",
            "logical_type: String\n",
            "converted_type (legacy): UTF8\n",
            "compression: SNAPPY (space_saved: 5%)\n",
            "\n",
            "############ Column(purchaseprice) ############\n",
            "name: purchaseprice\n",
            "path: purchaseprice\n",
            "max_definition_level: 1\n",
            "max_repetition_level: 0\n",
            "physical_type: DOUBLE\n",
            "logical_type: None\n",
            "converted_type (legacy): NONE\n",
            "compression: SNAPPY (space_saved: 12%)\n",
            "\n",
            "############ Column(color) ############\n",
            "name: color\n",
            "path: color\n",
            "max_definition_level: 1\n",
            "max_repetition_level: 0\n",
            "physical_type: BYTE_ARRAY\n",
            "logical_type: String\n",
            "converted_type (legacy): UTF8\n",
            "compression: SNAPPY (space_saved: -1%)\n",
            "\n",
            "############ Column(brand) ############\n",
            "name: brand\n",
            "path: brand\n",
            "max_definition_level: 1\n",
            "max_repetition_level: 0\n",
            "physical_type: BYTE_ARRAY\n",
            "logical_type: String\n",
            "converted_type (legacy): UTF8\n",
            "compression: SNAPPY (space_saved: -3%)\n",
            "\u001b[0m\n",
            "\u001b[0m\u001b[0m"
          ]
        }
      ]
    },
    {
      "cell_type": "code",
      "source": [
        "!parquet-tools inspect --detail /tmp/deltaSalesPerCity/'city=Bergamo'/*parquet"
      ],
      "metadata": {
        "colab": {
          "base_uri": "https://localhost:8080/"
        },
        "id": "pQl-CJPHTxKo",
        "outputId": "d3dca716-0192-4bee-8351-59a1bb46b698"
      },
      "execution_count": null,
      "outputs": [
        {
          "output_type": "stream",
          "name": "stdout",
          "text": [
            "FileMetaData\n",
            "\u001b[31m■■■■\u001b[0mversion = 1\n",
            "\u001b[31m■■■■\u001b[0mschema = list\n",
            "\u001b[31m■■■■\u001b[0m\u001b[33m■■■■\u001b[0mSchemaElement\n",
            "\u001b[31m■■■■\u001b[0m\u001b[33m■■■■\u001b[0m\u001b[32m■■■■\u001b[0mname = spark_schema\n",
            "\u001b[31m■■■■\u001b[0m\u001b[33m■■■■\u001b[0m\u001b[32m■■■■\u001b[0mnum_children = 15\n",
            "\u001b[31m■■■■\u001b[0m\u001b[33m■■■■\u001b[0mSchemaElement\n",
            "\u001b[31m■■■■\u001b[0m\u001b[33m■■■■\u001b[0m\u001b[32m■■■■\u001b[0mtype = 6\n",
            "\u001b[31m■■■■\u001b[0m\u001b[33m■■■■\u001b[0m\u001b[32m■■■■\u001b[0mrepetition_type = 1\n",
            "\u001b[31m■■■■\u001b[0m\u001b[33m■■■■\u001b[0m\u001b[32m■■■■\u001b[0mname = saleid\n",
            "\u001b[31m■■■■\u001b[0m\u001b[33m■■■■\u001b[0m\u001b[32m■■■■\u001b[0mlogicalType = LogicalType\n",
            "\u001b[31m■■■■\u001b[0m\u001b[33m■■■■\u001b[0m\u001b[32m■■■■\u001b[0m\u001b[34m■■■■\u001b[0mSTRING = StringType\n",
            "\u001b[31m■■■■\u001b[0m\u001b[33m■■■■\u001b[0mSchemaElement\n",
            "\u001b[31m■■■■\u001b[0m\u001b[33m■■■■\u001b[0m\u001b[32m■■■■\u001b[0mtype = 1\n",
            "\u001b[31m■■■■\u001b[0m\u001b[33m■■■■\u001b[0m\u001b[32m■■■■\u001b[0mrepetition_type = 1\n",
            "\u001b[31m■■■■\u001b[0m\u001b[33m■■■■\u001b[0m\u001b[32m■■■■\u001b[0mname = saledate\n",
            "\u001b[31m■■■■\u001b[0m\u001b[33m■■■■\u001b[0m\u001b[32m■■■■\u001b[0mconverted_type = 6\n",
            "\u001b[31m■■■■\u001b[0m\u001b[33m■■■■\u001b[0m\u001b[32m■■■■\u001b[0mlogicalType = LogicalType\n",
            "\u001b[31m■■■■\u001b[0m\u001b[33m■■■■\u001b[0m\u001b[32m■■■■\u001b[0m\u001b[34m■■■■\u001b[0mDATE = DateType\n",
            "\u001b[31m■■■■\u001b[0m\u001b[33m■■■■\u001b[0mSchemaElement\n",
            "\u001b[31m■■■■\u001b[0m\u001b[33m■■■■\u001b[0m\u001b[32m■■■■\u001b[0mtype = 5\n",
            "\u001b[31m■■■■\u001b[0m\u001b[33m■■■■\u001b[0m\u001b[32m■■■■\u001b[0mrepetition_type = 1\n",
            "\u001b[31m■■■■\u001b[0m\u001b[33m■■■■\u001b[0m\u001b[32m■■■■\u001b[0mname = quantity\n",
            "\u001b[31m■■■■\u001b[0m\u001b[33m■■■■\u001b[0mSchemaElement\n",
            "\u001b[31m■■■■\u001b[0m\u001b[33m■■■■\u001b[0m\u001b[32m■■■■\u001b[0mtype = 5\n",
            "\u001b[31m■■■■\u001b[0m\u001b[33m■■■■\u001b[0m\u001b[32m■■■■\u001b[0mrepetition_type = 1\n",
            "\u001b[31m■■■■\u001b[0m\u001b[33m■■■■\u001b[0m\u001b[32m■■■■\u001b[0mname = unitprice\n",
            "\u001b[31m■■■■\u001b[0m\u001b[33m■■■■\u001b[0mSchemaElement\n",
            "\u001b[31m■■■■\u001b[0m\u001b[33m■■■■\u001b[0m\u001b[32m■■■■\u001b[0mtype = 6\n",
            "\u001b[31m■■■■\u001b[0m\u001b[33m■■■■\u001b[0m\u001b[32m■■■■\u001b[0mrepetition_type = 1\n",
            "\u001b[31m■■■■\u001b[0m\u001b[33m■■■■\u001b[0m\u001b[32m■■■■\u001b[0mname = shopid\n",
            "\u001b[31m■■■■\u001b[0m\u001b[33m■■■■\u001b[0m\u001b[32m■■■■\u001b[0mlogicalType = LogicalType\n",
            "\u001b[31m■■■■\u001b[0m\u001b[33m■■■■\u001b[0m\u001b[32m■■■■\u001b[0m\u001b[34m■■■■\u001b[0mSTRING = StringType\n",
            "\u001b[31m■■■■\u001b[0m\u001b[33m■■■■\u001b[0mSchemaElement\n",
            "\u001b[31m■■■■\u001b[0m\u001b[33m■■■■\u001b[0m\u001b[32m■■■■\u001b[0mtype = 6\n",
            "\u001b[31m■■■■\u001b[0m\u001b[33m■■■■\u001b[0m\u001b[32m■■■■\u001b[0mrepetition_type = 1\n",
            "\u001b[31m■■■■\u001b[0m\u001b[33m■■■■\u001b[0m\u001b[32m■■■■\u001b[0mname = state\n",
            "\u001b[31m■■■■\u001b[0m\u001b[33m■■■■\u001b[0m\u001b[32m■■■■\u001b[0mlogicalType = LogicalType\n",
            "\u001b[31m■■■■\u001b[0m\u001b[33m■■■■\u001b[0m\u001b[32m■■■■\u001b[0m\u001b[34m■■■■\u001b[0mSTRING = StringType\n",
            "\u001b[31m■■■■\u001b[0m\u001b[33m■■■■\u001b[0mSchemaElement\n",
            "\u001b[31m■■■■\u001b[0m\u001b[33m■■■■\u001b[0m\u001b[32m■■■■\u001b[0mtype = 6\n",
            "\u001b[31m■■■■\u001b[0m\u001b[33m■■■■\u001b[0m\u001b[32m■■■■\u001b[0mrepetition_type = 1\n",
            "\u001b[31m■■■■\u001b[0m\u001b[33m■■■■\u001b[0m\u001b[32m■■■■\u001b[0mname = country\n",
            "\u001b[31m■■■■\u001b[0m\u001b[33m■■■■\u001b[0m\u001b[32m■■■■\u001b[0mlogicalType = LogicalType\n",
            "\u001b[31m■■■■\u001b[0m\u001b[33m■■■■\u001b[0m\u001b[32m■■■■\u001b[0m\u001b[34m■■■■\u001b[0mSTRING = StringType\n",
            "\u001b[31m■■■■\u001b[0m\u001b[33m■■■■\u001b[0mSchemaElement\n",
            "\u001b[31m■■■■\u001b[0m\u001b[33m■■■■\u001b[0m\u001b[32m■■■■\u001b[0mtype = 6\n",
            "\u001b[31m■■■■\u001b[0m\u001b[33m■■■■\u001b[0m\u001b[32m■■■■\u001b[0mrepetition_type = 1\n",
            "\u001b[31m■■■■\u001b[0m\u001b[33m■■■■\u001b[0m\u001b[32m■■■■\u001b[0mname = shopsize\n",
            "\u001b[31m■■■■\u001b[0m\u001b[33m■■■■\u001b[0m\u001b[32m■■■■\u001b[0mlogicalType = LogicalType\n",
            "\u001b[31m■■■■\u001b[0m\u001b[33m■■■■\u001b[0m\u001b[32m■■■■\u001b[0m\u001b[34m■■■■\u001b[0mSTRING = StringType\n",
            "\u001b[31m■■■■\u001b[0m\u001b[33m■■■■\u001b[0mSchemaElement\n",
            "\u001b[31m■■■■\u001b[0m\u001b[33m■■■■\u001b[0m\u001b[32m■■■■\u001b[0mtype = 6\n",
            "\u001b[31m■■■■\u001b[0m\u001b[33m■■■■\u001b[0m\u001b[32m■■■■\u001b[0mrepetition_type = 1\n",
            "\u001b[31m■■■■\u001b[0m\u001b[33m■■■■\u001b[0m\u001b[32m■■■■\u001b[0mname = productid\n",
            "\u001b[31m■■■■\u001b[0m\u001b[33m■■■■\u001b[0m\u001b[32m■■■■\u001b[0mlogicalType = LogicalType\n",
            "\u001b[31m■■■■\u001b[0m\u001b[33m■■■■\u001b[0m\u001b[32m■■■■\u001b[0m\u001b[34m■■■■\u001b[0mSTRING = StringType\n",
            "\u001b[31m■■■■\u001b[0m\u001b[33m■■■■\u001b[0mSchemaElement\n",
            "\u001b[31m■■■■\u001b[0m\u001b[33m■■■■\u001b[0m\u001b[32m■■■■\u001b[0mtype = 6\n",
            "\u001b[31m■■■■\u001b[0m\u001b[33m■■■■\u001b[0m\u001b[32m■■■■\u001b[0mrepetition_type = 1\n",
            "\u001b[31m■■■■\u001b[0m\u001b[33m■■■■\u001b[0m\u001b[32m■■■■\u001b[0mname = category\n",
            "\u001b[31m■■■■\u001b[0m\u001b[33m■■■■\u001b[0m\u001b[32m■■■■\u001b[0mlogicalType = LogicalType\n",
            "\u001b[31m■■■■\u001b[0m\u001b[33m■■■■\u001b[0m\u001b[32m■■■■\u001b[0m\u001b[34m■■■■\u001b[0mSTRING = StringType\n",
            "\u001b[31m■■■■\u001b[0m\u001b[33m■■■■\u001b[0mSchemaElement\n",
            "\u001b[31m■■■■\u001b[0m\u001b[33m■■■■\u001b[0m\u001b[32m■■■■\u001b[0mtype = 6\n",
            "\u001b[31m■■■■\u001b[0m\u001b[33m■■■■\u001b[0m\u001b[32m■■■■\u001b[0mrepetition_type = 1\n",
            "\u001b[31m■■■■\u001b[0m\u001b[33m■■■■\u001b[0m\u001b[32m■■■■\u001b[0mname = subcategory\n",
            "\u001b[31m■■■■\u001b[0m\u001b[33m■■■■\u001b[0m\u001b[32m■■■■\u001b[0mlogicalType = LogicalType\n",
            "\u001b[31m■■■■\u001b[0m\u001b[33m■■■■\u001b[0m\u001b[32m■■■■\u001b[0m\u001b[34m■■■■\u001b[0mSTRING = StringType\n",
            "\u001b[31m■■■■\u001b[0m\u001b[33m■■■■\u001b[0mSchemaElement\n",
            "\u001b[31m■■■■\u001b[0m\u001b[33m■■■■\u001b[0m\u001b[32m■■■■\u001b[0mtype = 6\n",
            "\u001b[31m■■■■\u001b[0m\u001b[33m■■■■\u001b[0m\u001b[32m■■■■\u001b[0mrepetition_type = 1\n",
            "\u001b[31m■■■■\u001b[0m\u001b[33m■■■■\u001b[0m\u001b[32m■■■■\u001b[0mname = size\n",
            "\u001b[31m■■■■\u001b[0m\u001b[33m■■■■\u001b[0m\u001b[32m■■■■\u001b[0mlogicalType = LogicalType\n",
            "\u001b[31m■■■■\u001b[0m\u001b[33m■■■■\u001b[0m\u001b[32m■■■■\u001b[0m\u001b[34m■■■■\u001b[0mSTRING = StringType\n",
            "\u001b[31m■■■■\u001b[0m\u001b[33m■■■■\u001b[0mSchemaElement\n",
            "\u001b[31m■■■■\u001b[0m\u001b[33m■■■■\u001b[0m\u001b[32m■■■■\u001b[0mtype = 5\n",
            "\u001b[31m■■■■\u001b[0m\u001b[33m■■■■\u001b[0m\u001b[32m■■■■\u001b[0mrepetition_type = 1\n",
            "\u001b[31m■■■■\u001b[0m\u001b[33m■■■■\u001b[0m\u001b[32m■■■■\u001b[0mname = purchaseprice\n",
            "\u001b[31m■■■■\u001b[0m\u001b[33m■■■■\u001b[0mSchemaElement\n",
            "\u001b[31m■■■■\u001b[0m\u001b[33m■■■■\u001b[0m\u001b[32m■■■■\u001b[0mtype = 6\n",
            "\u001b[31m■■■■\u001b[0m\u001b[33m■■■■\u001b[0m\u001b[32m■■■■\u001b[0mrepetition_type = 1\n",
            "\u001b[31m■■■■\u001b[0m\u001b[33m■■■■\u001b[0m\u001b[32m■■■■\u001b[0mname = color\n",
            "\u001b[31m■■■■\u001b[0m\u001b[33m■■■■\u001b[0m\u001b[32m■■■■\u001b[0mlogicalType = LogicalType\n",
            "\u001b[31m■■■■\u001b[0m\u001b[33m■■■■\u001b[0m\u001b[32m■■■■\u001b[0m\u001b[34m■■■■\u001b[0mSTRING = StringType\n",
            "\u001b[31m■■■■\u001b[0m\u001b[33m■■■■\u001b[0mSchemaElement\n",
            "\u001b[31m■■■■\u001b[0m\u001b[33m■■■■\u001b[0m\u001b[32m■■■■\u001b[0mtype = 6\n",
            "\u001b[31m■■■■\u001b[0m\u001b[33m■■■■\u001b[0m\u001b[32m■■■■\u001b[0mrepetition_type = 1\n",
            "\u001b[31m■■■■\u001b[0m\u001b[33m■■■■\u001b[0m\u001b[32m■■■■\u001b[0mname = brand\n",
            "\u001b[31m■■■■\u001b[0m\u001b[33m■■■■\u001b[0m\u001b[32m■■■■\u001b[0mlogicalType = LogicalType\n",
            "\u001b[31m■■■■\u001b[0m\u001b[33m■■■■\u001b[0m\u001b[32m■■■■\u001b[0m\u001b[34m■■■■\u001b[0mSTRING = StringType\n",
            "\u001b[31m■■■■\u001b[0mnum_rows = 250\n",
            "\u001b[31m■■■■\u001b[0mrow_groups = list\n",
            "\u001b[31m■■■■\u001b[0m\u001b[33m■■■■\u001b[0mRowGroup\n",
            "\u001b[31m■■■■\u001b[0m\u001b[33m■■■■\u001b[0m\u001b[32m■■■■\u001b[0mcolumns = list\n",
            "\u001b[31m■■■■\u001b[0m\u001b[33m■■■■\u001b[0m\u001b[32m■■■■\u001b[0m\u001b[34m■■■■\u001b[0mColumnChunk\n",
            "\u001b[31m■■■■\u001b[0m\u001b[33m■■■■\u001b[0m\u001b[32m■■■■\u001b[0m\u001b[34m■■■■\u001b[0m\u001b[31m■■■■\u001b[0mfile_offset = 4\n",
            "\u001b[31m■■■■\u001b[0m\u001b[33m■■■■\u001b[0m\u001b[32m■■■■\u001b[0m\u001b[34m■■■■\u001b[0m\u001b[31m■■■■\u001b[0mmeta_data = ColumnMetaData\n",
            "\u001b[31m■■■■\u001b[0m\u001b[33m■■■■\u001b[0m\u001b[32m■■■■\u001b[0m\u001b[34m■■■■\u001b[0m\u001b[31m■■■■\u001b[0m\u001b[33m■■■■\u001b[0mtype = 6\n",
            "\u001b[31m■■■■\u001b[0m\u001b[33m■■■■\u001b[0m\u001b[32m■■■■\u001b[0m\u001b[34m■■■■\u001b[0m\u001b[31m■■■■\u001b[0m\u001b[33m■■■■\u001b[0mencodings = list\n",
            "\u001b[31m■■■■\u001b[0m\u001b[33m■■■■\u001b[0m\u001b[32m■■■■\u001b[0m\u001b[34m■■■■\u001b[0m\u001b[31m■■■■\u001b[0m\u001b[33m■■■■\u001b[0m\u001b[32m■■■■\u001b[0m0\n",
            "\u001b[31m■■■■\u001b[0m\u001b[33m■■■■\u001b[0m\u001b[32m■■■■\u001b[0m\u001b[34m■■■■\u001b[0m\u001b[31m■■■■\u001b[0m\u001b[33m■■■■\u001b[0m\u001b[32m■■■■\u001b[0m3\n",
            "\u001b[31m■■■■\u001b[0m\u001b[33m■■■■\u001b[0m\u001b[32m■■■■\u001b[0m\u001b[34m■■■■\u001b[0m\u001b[31m■■■■\u001b[0m\u001b[33m■■■■\u001b[0m\u001b[32m■■■■\u001b[0m4\n",
            "\u001b[31m■■■■\u001b[0m\u001b[33m■■■■\u001b[0m\u001b[32m■■■■\u001b[0m\u001b[34m■■■■\u001b[0m\u001b[31m■■■■\u001b[0m\u001b[33m■■■■\u001b[0mpath_in_schema = list\n",
            "\u001b[31m■■■■\u001b[0m\u001b[33m■■■■\u001b[0m\u001b[32m■■■■\u001b[0m\u001b[34m■■■■\u001b[0m\u001b[31m■■■■\u001b[0m\u001b[33m■■■■\u001b[0m\u001b[32m■■■■\u001b[0msaleid\n",
            "\u001b[31m■■■■\u001b[0m\u001b[33m■■■■\u001b[0m\u001b[32m■■■■\u001b[0m\u001b[34m■■■■\u001b[0m\u001b[31m■■■■\u001b[0m\u001b[33m■■■■\u001b[0mcodec = 1\n",
            "\u001b[31m■■■■\u001b[0m\u001b[33m■■■■\u001b[0m\u001b[32m■■■■\u001b[0m\u001b[34m■■■■\u001b[0m\u001b[31m■■■■\u001b[0m\u001b[33m■■■■\u001b[0mnum_values = 250\n",
            "\u001b[31m■■■■\u001b[0m\u001b[33m■■■■\u001b[0m\u001b[32m■■■■\u001b[0m\u001b[34m■■■■\u001b[0m\u001b[31m■■■■\u001b[0m\u001b[33m■■■■\u001b[0mtotal_uncompressed_size = 3533\n",
            "\u001b[31m■■■■\u001b[0m\u001b[33m■■■■\u001b[0m\u001b[32m■■■■\u001b[0m\u001b[34m■■■■\u001b[0m\u001b[31m■■■■\u001b[0m\u001b[33m■■■■\u001b[0mtotal_compressed_size = 1303\n",
            "\u001b[31m■■■■\u001b[0m\u001b[33m■■■■\u001b[0m\u001b[32m■■■■\u001b[0m\u001b[34m■■■■\u001b[0m\u001b[31m■■■■\u001b[0m\u001b[33m■■■■\u001b[0mdata_page_offset = 4\n",
            "\u001b[31m■■■■\u001b[0m\u001b[33m■■■■\u001b[0m\u001b[32m■■■■\u001b[0m\u001b[34m■■■■\u001b[0m\u001b[31m■■■■\u001b[0m\u001b[33m■■■■\u001b[0mstatistics = Statistics\n",
            "\u001b[31m■■■■\u001b[0m\u001b[33m■■■■\u001b[0m\u001b[32m■■■■\u001b[0m\u001b[34m■■■■\u001b[0m\u001b[31m■■■■\u001b[0m\u001b[33m■■■■\u001b[0m\u001b[32m■■■■\u001b[0mmax_value = b'S000004991'\n",
            "\u001b[31m■■■■\u001b[0m\u001b[33m■■■■\u001b[0m\u001b[32m■■■■\u001b[0m\u001b[34m■■■■\u001b[0m\u001b[31m■■■■\u001b[0m\u001b[33m■■■■\u001b[0m\u001b[32m■■■■\u001b[0mmin_value = b'S000000015'\n",
            "\u001b[31m■■■■\u001b[0m\u001b[33m■■■■\u001b[0m\u001b[32m■■■■\u001b[0m\u001b[34m■■■■\u001b[0m\u001b[31m■■■■\u001b[0m\u001b[33m■■■■\u001b[0mencoding_stats = list\n",
            "\u001b[31m■■■■\u001b[0m\u001b[33m■■■■\u001b[0m\u001b[32m■■■■\u001b[0m\u001b[34m■■■■\u001b[0m\u001b[31m■■■■\u001b[0m\u001b[33m■■■■\u001b[0m\u001b[32m■■■■\u001b[0mPageEncodingStats\n",
            "\u001b[31m■■■■\u001b[0m\u001b[33m■■■■\u001b[0m\u001b[32m■■■■\u001b[0m\u001b[34m■■■■\u001b[0m\u001b[31m■■■■\u001b[0m\u001b[33m■■■■\u001b[0m\u001b[32m■■■■\u001b[0m\u001b[34m■■■■\u001b[0mcount = 1\n",
            "\u001b[31m■■■■\u001b[0m\u001b[33m■■■■\u001b[0m\u001b[32m■■■■\u001b[0m\u001b[34m■■■■\u001b[0m\u001b[31m■■■■\u001b[0moffset_index_offset = 4296\n",
            "\u001b[31m■■■■\u001b[0m\u001b[33m■■■■\u001b[0m\u001b[32m■■■■\u001b[0m\u001b[34m■■■■\u001b[0m\u001b[31m■■■■\u001b[0moffset_index_length = 11\n",
            "\u001b[31m■■■■\u001b[0m\u001b[33m■■■■\u001b[0m\u001b[32m■■■■\u001b[0m\u001b[34m■■■■\u001b[0m\u001b[31m■■■■\u001b[0mcolumn_index_offset = 3888\n",
            "\u001b[31m■■■■\u001b[0m\u001b[33m■■■■\u001b[0m\u001b[32m■■■■\u001b[0m\u001b[34m■■■■\u001b[0m\u001b[31m■■■■\u001b[0mcolumn_index_length = 35\n",
            "\u001b[31m■■■■\u001b[0m\u001b[33m■■■■\u001b[0m\u001b[32m■■■■\u001b[0m\u001b[34m■■■■\u001b[0mColumnChunk\n",
            "\u001b[31m■■■■\u001b[0m\u001b[33m■■■■\u001b[0m\u001b[32m■■■■\u001b[0m\u001b[34m■■■■\u001b[0m\u001b[31m■■■■\u001b[0mfile_offset = 1352\n",
            "\u001b[31m■■■■\u001b[0m\u001b[33m■■■■\u001b[0m\u001b[32m■■■■\u001b[0m\u001b[34m■■■■\u001b[0m\u001b[31m■■■■\u001b[0mmeta_data = ColumnMetaData\n",
            "\u001b[31m■■■■\u001b[0m\u001b[33m■■■■\u001b[0m\u001b[32m■■■■\u001b[0m\u001b[34m■■■■\u001b[0m\u001b[31m■■■■\u001b[0m\u001b[33m■■■■\u001b[0mtype = 1\n",
            "\u001b[31m■■■■\u001b[0m\u001b[33m■■■■\u001b[0m\u001b[32m■■■■\u001b[0m\u001b[34m■■■■\u001b[0m\u001b[31m■■■■\u001b[0m\u001b[33m■■■■\u001b[0mencodings = list\n",
            "\u001b[31m■■■■\u001b[0m\u001b[33m■■■■\u001b[0m\u001b[32m■■■■\u001b[0m\u001b[34m■■■■\u001b[0m\u001b[31m■■■■\u001b[0m\u001b[33m■■■■\u001b[0m\u001b[32m■■■■\u001b[0m3\n",
            "\u001b[31m■■■■\u001b[0m\u001b[33m■■■■\u001b[0m\u001b[32m■■■■\u001b[0m\u001b[34m■■■■\u001b[0m\u001b[31m■■■■\u001b[0m\u001b[33m■■■■\u001b[0m\u001b[32m■■■■\u001b[0m4\n",
            "\u001b[31m■■■■\u001b[0m\u001b[33m■■■■\u001b[0m\u001b[32m■■■■\u001b[0m\u001b[34m■■■■\u001b[0m\u001b[31m■■■■\u001b[0m\u001b[33m■■■■\u001b[0m\u001b[32m■■■■\u001b[0m2\n",
            "\u001b[31m■■■■\u001b[0m\u001b[33m■■■■\u001b[0m\u001b[32m■■■■\u001b[0m\u001b[34m■■■■\u001b[0m\u001b[31m■■■■\u001b[0m\u001b[33m■■■■\u001b[0mpath_in_schema = list\n",
            "\u001b[31m■■■■\u001b[0m\u001b[33m■■■■\u001b[0m\u001b[32m■■■■\u001b[0m\u001b[34m■■■■\u001b[0m\u001b[31m■■■■\u001b[0m\u001b[33m■■■■\u001b[0m\u001b[32m■■■■\u001b[0msaledate\n",
            "\u001b[31m■■■■\u001b[0m\u001b[33m■■■■\u001b[0m\u001b[32m■■■■\u001b[0m\u001b[34m■■■■\u001b[0m\u001b[31m■■■■\u001b[0m\u001b[33m■■■■\u001b[0mcodec = 1\n",
            "\u001b[31m■■■■\u001b[0m\u001b[33m■■■■\u001b[0m\u001b[32m■■■■\u001b[0m\u001b[34m■■■■\u001b[0m\u001b[31m■■■■\u001b[0m\u001b[33m■■■■\u001b[0mnum_values = 250\n",
            "\u001b[31m■■■■\u001b[0m\u001b[33m■■■■\u001b[0m\u001b[32m■■■■\u001b[0m\u001b[34m■■■■\u001b[0m\u001b[31m■■■■\u001b[0m\u001b[33m■■■■\u001b[0mtotal_uncompressed_size = 173\n",
            "\u001b[31m■■■■\u001b[0m\u001b[33m■■■■\u001b[0m\u001b[32m■■■■\u001b[0m\u001b[34m■■■■\u001b[0m\u001b[31m■■■■\u001b[0m\u001b[33m■■■■\u001b[0mtotal_compressed_size = 103\n",
            "\u001b[31m■■■■\u001b[0m\u001b[33m■■■■\u001b[0m\u001b[32m■■■■\u001b[0m\u001b[34m■■■■\u001b[0m\u001b[31m■■■■\u001b[0m\u001b[33m■■■■\u001b[0mdata_page_offset = 1352\n",
            "\u001b[31m■■■■\u001b[0m\u001b[33m■■■■\u001b[0m\u001b[32m■■■■\u001b[0m\u001b[34m■■■■\u001b[0m\u001b[31m■■■■\u001b[0m\u001b[33m■■■■\u001b[0mdictionary_page_offset = 1307\n",
            "\u001b[31m■■■■\u001b[0m\u001b[33m■■■■\u001b[0m\u001b[32m■■■■\u001b[0m\u001b[34m■■■■\u001b[0m\u001b[31m■■■■\u001b[0m\u001b[33m■■■■\u001b[0mstatistics = Statistics\n",
            "\u001b[31m■■■■\u001b[0m\u001b[33m■■■■\u001b[0m\u001b[32m■■■■\u001b[0m\u001b[34m■■■■\u001b[0m\u001b[31m■■■■\u001b[0m\u001b[33m■■■■\u001b[0m\u001b[32m■■■■\u001b[0mmax = b'\\xcbK\\x00\\x00'\n",
            "\u001b[31m■■■■\u001b[0m\u001b[33m■■■■\u001b[0m\u001b[32m■■■■\u001b[0m\u001b[34m■■■■\u001b[0m\u001b[31m■■■■\u001b[0m\u001b[33m■■■■\u001b[0m\u001b[32m■■■■\u001b[0mmin = b'kK\\x00\\x00'\n",
            "\u001b[31m■■■■\u001b[0m\u001b[33m■■■■\u001b[0m\u001b[32m■■■■\u001b[0m\u001b[34m■■■■\u001b[0m\u001b[31m■■■■\u001b[0m\u001b[33m■■■■\u001b[0m\u001b[32m■■■■\u001b[0mmax_value = b'\\xcbK\\x00\\x00'\n",
            "\u001b[31m■■■■\u001b[0m\u001b[33m■■■■\u001b[0m\u001b[32m■■■■\u001b[0m\u001b[34m■■■■\u001b[0m\u001b[31m■■■■\u001b[0m\u001b[33m■■■■\u001b[0m\u001b[32m■■■■\u001b[0mmin_value = b'kK\\x00\\x00'\n",
            "\u001b[31m■■■■\u001b[0m\u001b[33m■■■■\u001b[0m\u001b[32m■■■■\u001b[0m\u001b[34m■■■■\u001b[0m\u001b[31m■■■■\u001b[0m\u001b[33m■■■■\u001b[0mencoding_stats = list\n",
            "\u001b[31m■■■■\u001b[0m\u001b[33m■■■■\u001b[0m\u001b[32m■■■■\u001b[0m\u001b[34m■■■■\u001b[0m\u001b[31m■■■■\u001b[0m\u001b[33m■■■■\u001b[0m\u001b[32m■■■■\u001b[0mPageEncodingStats\n",
            "\u001b[31m■■■■\u001b[0m\u001b[33m■■■■\u001b[0m\u001b[32m■■■■\u001b[0m\u001b[34m■■■■\u001b[0m\u001b[31m■■■■\u001b[0m\u001b[33m■■■■\u001b[0m\u001b[32m■■■■\u001b[0m\u001b[34m■■■■\u001b[0mpage_type = 2\n",
            "\u001b[31m■■■■\u001b[0m\u001b[33m■■■■\u001b[0m\u001b[32m■■■■\u001b[0m\u001b[34m■■■■\u001b[0m\u001b[31m■■■■\u001b[0m\u001b[33m■■■■\u001b[0m\u001b[32m■■■■\u001b[0m\u001b[34m■■■■\u001b[0mencoding = 2\n",
            "\u001b[31m■■■■\u001b[0m\u001b[33m■■■■\u001b[0m\u001b[32m■■■■\u001b[0m\u001b[34m■■■■\u001b[0m\u001b[31m■■■■\u001b[0m\u001b[33m■■■■\u001b[0m\u001b[32m■■■■\u001b[0m\u001b[34m■■■■\u001b[0mcount = 1\n",
            "\u001b[31m■■■■\u001b[0m\u001b[33m■■■■\u001b[0m\u001b[32m■■■■\u001b[0m\u001b[34m■■■■\u001b[0m\u001b[31m■■■■\u001b[0m\u001b[33m■■■■\u001b[0m\u001b[32m■■■■\u001b[0mPageEncodingStats\n",
            "\u001b[31m■■■■\u001b[0m\u001b[33m■■■■\u001b[0m\u001b[32m■■■■\u001b[0m\u001b[34m■■■■\u001b[0m\u001b[31m■■■■\u001b[0m\u001b[33m■■■■\u001b[0m\u001b[32m■■■■\u001b[0m\u001b[34m■■■■\u001b[0mencoding = 2\n",
            "\u001b[31m■■■■\u001b[0m\u001b[33m■■■■\u001b[0m\u001b[32m■■■■\u001b[0m\u001b[34m■■■■\u001b[0m\u001b[31m■■■■\u001b[0m\u001b[33m■■■■\u001b[0m\u001b[32m■■■■\u001b[0m\u001b[34m■■■■\u001b[0mcount = 1\n",
            "\u001b[31m■■■■\u001b[0m\u001b[33m■■■■\u001b[0m\u001b[32m■■■■\u001b[0m\u001b[34m■■■■\u001b[0m\u001b[31m■■■■\u001b[0moffset_index_offset = 4307\n",
            "\u001b[31m■■■■\u001b[0m\u001b[33m■■■■\u001b[0m\u001b[32m■■■■\u001b[0m\u001b[34m■■■■\u001b[0m\u001b[31m■■■■\u001b[0moffset_index_length = 11\n",
            "\u001b[31m■■■■\u001b[0m\u001b[33m■■■■\u001b[0m\u001b[32m■■■■\u001b[0m\u001b[34m■■■■\u001b[0m\u001b[31m■■■■\u001b[0mcolumn_index_offset = 3923\n",
            "\u001b[31m■■■■\u001b[0m\u001b[33m■■■■\u001b[0m\u001b[32m■■■■\u001b[0m\u001b[34m■■■■\u001b[0m\u001b[31m■■■■\u001b[0mcolumn_index_length = 23\n",
            "\u001b[31m■■■■\u001b[0m\u001b[33m■■■■\u001b[0m\u001b[32m■■■■\u001b[0m\u001b[34m■■■■\u001b[0mColumnChunk\n",
            "\u001b[31m■■■■\u001b[0m\u001b[33m■■■■\u001b[0m\u001b[32m■■■■\u001b[0m\u001b[34m■■■■\u001b[0m\u001b[31m■■■■\u001b[0mfile_offset = 1459\n",
            "\u001b[31m■■■■\u001b[0m\u001b[33m■■■■\u001b[0m\u001b[32m■■■■\u001b[0m\u001b[34m■■■■\u001b[0m\u001b[31m■■■■\u001b[0mmeta_data = ColumnMetaData\n",
            "\u001b[31m■■■■\u001b[0m\u001b[33m■■■■\u001b[0m\u001b[32m■■■■\u001b[0m\u001b[34m■■■■\u001b[0m\u001b[31m■■■■\u001b[0m\u001b[33m■■■■\u001b[0mtype = 5\n",
            "\u001b[31m■■■■\u001b[0m\u001b[33m■■■■\u001b[0m\u001b[32m■■■■\u001b[0m\u001b[34m■■■■\u001b[0m\u001b[31m■■■■\u001b[0m\u001b[33m■■■■\u001b[0mencodings = list\n",
            "\u001b[31m■■■■\u001b[0m\u001b[33m■■■■\u001b[0m\u001b[32m■■■■\u001b[0m\u001b[34m■■■■\u001b[0m\u001b[31m■■■■\u001b[0m\u001b[33m■■■■\u001b[0m\u001b[32m■■■■\u001b[0m3\n",
            "\u001b[31m■■■■\u001b[0m\u001b[33m■■■■\u001b[0m\u001b[32m■■■■\u001b[0m\u001b[34m■■■■\u001b[0m\u001b[31m■■■■\u001b[0m\u001b[33m■■■■\u001b[0m\u001b[32m■■■■\u001b[0m4\n",
            "\u001b[31m■■■■\u001b[0m\u001b[33m■■■■\u001b[0m\u001b[32m■■■■\u001b[0m\u001b[34m■■■■\u001b[0m\u001b[31m■■■■\u001b[0m\u001b[33m■■■■\u001b[0m\u001b[32m■■■■\u001b[0m2\n",
            "\u001b[31m■■■■\u001b[0m\u001b[33m■■■■\u001b[0m\u001b[32m■■■■\u001b[0m\u001b[34m■■■■\u001b[0m\u001b[31m■■■■\u001b[0m\u001b[33m■■■■\u001b[0mpath_in_schema = list\n",
            "\u001b[31m■■■■\u001b[0m\u001b[33m■■■■\u001b[0m\u001b[32m■■■■\u001b[0m\u001b[34m■■■■\u001b[0m\u001b[31m■■■■\u001b[0m\u001b[33m■■■■\u001b[0m\u001b[32m■■■■\u001b[0mquantity\n",
            "\u001b[31m■■■■\u001b[0m\u001b[33m■■■■\u001b[0m\u001b[32m■■■■\u001b[0m\u001b[34m■■■■\u001b[0m\u001b[31m■■■■\u001b[0m\u001b[33m■■■■\u001b[0mcodec = 1\n",
            "\u001b[31m■■■■\u001b[0m\u001b[33m■■■■\u001b[0m\u001b[32m■■■■\u001b[0m\u001b[34m■■■■\u001b[0m\u001b[31m■■■■\u001b[0m\u001b[33m■■■■\u001b[0mnum_values = 250\n",
            "\u001b[31m■■■■\u001b[0m\u001b[33m■■■■\u001b[0m\u001b[32m■■■■\u001b[0m\u001b[34m■■■■\u001b[0m\u001b[31m■■■■\u001b[0m\u001b[33m■■■■\u001b[0mtotal_uncompressed_size = 149\n",
            "\u001b[31m■■■■\u001b[0m\u001b[33m■■■■\u001b[0m\u001b[32m■■■■\u001b[0m\u001b[34m■■■■\u001b[0m\u001b[31m■■■■\u001b[0m\u001b[33m■■■■\u001b[0mtotal_compressed_size = 109\n",
            "\u001b[31m■■■■\u001b[0m\u001b[33m■■■■\u001b[0m\u001b[32m■■■■\u001b[0m\u001b[34m■■■■\u001b[0m\u001b[31m■■■■\u001b[0m\u001b[33m■■■■\u001b[0mdata_page_offset = 1459\n",
            "\u001b[31m■■■■\u001b[0m\u001b[33m■■■■\u001b[0m\u001b[32m■■■■\u001b[0m\u001b[34m■■■■\u001b[0m\u001b[31m■■■■\u001b[0m\u001b[33m■■■■\u001b[0mdictionary_page_offset = 1410\n",
            "\u001b[31m■■■■\u001b[0m\u001b[33m■■■■\u001b[0m\u001b[32m■■■■\u001b[0m\u001b[34m■■■■\u001b[0m\u001b[31m■■■■\u001b[0m\u001b[33m■■■■\u001b[0mstatistics = Statistics\n",
            "\u001b[31m■■■■\u001b[0m\u001b[33m■■■■\u001b[0m\u001b[32m■■■■\u001b[0m\u001b[34m■■■■\u001b[0m\u001b[31m■■■■\u001b[0m\u001b[33m■■■■\u001b[0m\u001b[32m■■■■\u001b[0mmax = b'\\x00\\x00\\x00\\x00\\x00\\x00\\x10@'\n",
            "\u001b[31m■■■■\u001b[0m\u001b[33m■■■■\u001b[0m\u001b[32m■■■■\u001b[0m\u001b[34m■■■■\u001b[0m\u001b[31m■■■■\u001b[0m\u001b[33m■■■■\u001b[0m\u001b[32m■■■■\u001b[0mmin = b'\\x00\\x00\\x00\\x00\\x00\\x00\\xf0?'\n",
            "\u001b[31m■■■■\u001b[0m\u001b[33m■■■■\u001b[0m\u001b[32m■■■■\u001b[0m\u001b[34m■■■■\u001b[0m\u001b[31m■■■■\u001b[0m\u001b[33m■■■■\u001b[0m\u001b[32m■■■■\u001b[0mmax_value = b'\\x00\\x00\\x00\\x00\\x00\\x00\\x10@'\n",
            "\u001b[31m■■■■\u001b[0m\u001b[33m■■■■\u001b[0m\u001b[32m■■■■\u001b[0m\u001b[34m■■■■\u001b[0m\u001b[31m■■■■\u001b[0m\u001b[33m■■■■\u001b[0m\u001b[32m■■■■\u001b[0mmin_value = b'\\x00\\x00\\x00\\x00\\x00\\x00\\xf0?'\n",
            "\u001b[31m■■■■\u001b[0m\u001b[33m■■■■\u001b[0m\u001b[32m■■■■\u001b[0m\u001b[34m■■■■\u001b[0m\u001b[31m■■■■\u001b[0m\u001b[33m■■■■\u001b[0mencoding_stats = list\n",
            "\u001b[31m■■■■\u001b[0m\u001b[33m■■■■\u001b[0m\u001b[32m■■■■\u001b[0m\u001b[34m■■■■\u001b[0m\u001b[31m■■■■\u001b[0m\u001b[33m■■■■\u001b[0m\u001b[32m■■■■\u001b[0mPageEncodingStats\n",
            "\u001b[31m■■■■\u001b[0m\u001b[33m■■■■\u001b[0m\u001b[32m■■■■\u001b[0m\u001b[34m■■■■\u001b[0m\u001b[31m■■■■\u001b[0m\u001b[33m■■■■\u001b[0m\u001b[32m■■■■\u001b[0m\u001b[34m■■■■\u001b[0mpage_type = 2\n",
            "\u001b[31m■■■■\u001b[0m\u001b[33m■■■■\u001b[0m\u001b[32m■■■■\u001b[0m\u001b[34m■■■■\u001b[0m\u001b[31m■■■■\u001b[0m\u001b[33m■■■■\u001b[0m\u001b[32m■■■■\u001b[0m\u001b[34m■■■■\u001b[0mencoding = 2\n",
            "\u001b[31m■■■■\u001b[0m\u001b[33m■■■■\u001b[0m\u001b[32m■■■■\u001b[0m\u001b[34m■■■■\u001b[0m\u001b[31m■■■■\u001b[0m\u001b[33m■■■■\u001b[0m\u001b[32m■■■■\u001b[0m\u001b[34m■■■■\u001b[0mcount = 1\n",
            "\u001b[31m■■■■\u001b[0m\u001b[33m■■■■\u001b[0m\u001b[32m■■■■\u001b[0m\u001b[34m■■■■\u001b[0m\u001b[31m■■■■\u001b[0m\u001b[33m■■■■\u001b[0m\u001b[32m■■■■\u001b[0mPageEncodingStats\n",
            "\u001b[31m■■■■\u001b[0m\u001b[33m■■■■\u001b[0m\u001b[32m■■■■\u001b[0m\u001b[34m■■■■\u001b[0m\u001b[31m■■■■\u001b[0m\u001b[33m■■■■\u001b[0m\u001b[32m■■■■\u001b[0m\u001b[34m■■■■\u001b[0mencoding = 2\n",
            "\u001b[31m■■■■\u001b[0m\u001b[33m■■■■\u001b[0m\u001b[32m■■■■\u001b[0m\u001b[34m■■■■\u001b[0m\u001b[31m■■■■\u001b[0m\u001b[33m■■■■\u001b[0m\u001b[32m■■■■\u001b[0m\u001b[34m■■■■\u001b[0mcount = 1\n",
            "\u001b[31m■■■■\u001b[0m\u001b[33m■■■■\u001b[0m\u001b[32m■■■■\u001b[0m\u001b[34m■■■■\u001b[0m\u001b[31m■■■■\u001b[0moffset_index_offset = 4318\n",
            "\u001b[31m■■■■\u001b[0m\u001b[33m■■■■\u001b[0m\u001b[32m■■■■\u001b[0m\u001b[34m■■■■\u001b[0m\u001b[31m■■■■\u001b[0moffset_index_length = 11\n",
            "\u001b[31m■■■■\u001b[0m\u001b[33m■■■■\u001b[0m\u001b[32m■■■■\u001b[0m\u001b[34m■■■■\u001b[0m\u001b[31m■■■■\u001b[0mcolumn_index_offset = 3946\n",
            "\u001b[31m■■■■\u001b[0m\u001b[33m■■■■\u001b[0m\u001b[32m■■■■\u001b[0m\u001b[34m■■■■\u001b[0m\u001b[31m■■■■\u001b[0mcolumn_index_length = 31\n",
            "\u001b[31m■■■■\u001b[0m\u001b[33m■■■■\u001b[0m\u001b[32m■■■■\u001b[0m\u001b[34m■■■■\u001b[0mColumnChunk\n",
            "\u001b[31m■■■■\u001b[0m\u001b[33m■■■■\u001b[0m\u001b[32m■■■■\u001b[0m\u001b[34m■■■■\u001b[0m\u001b[31m■■■■\u001b[0mfile_offset = 1605\n",
            "\u001b[31m■■■■\u001b[0m\u001b[33m■■■■\u001b[0m\u001b[32m■■■■\u001b[0m\u001b[34m■■■■\u001b[0m\u001b[31m■■■■\u001b[0mmeta_data = ColumnMetaData\n",
            "\u001b[31m■■■■\u001b[0m\u001b[33m■■■■\u001b[0m\u001b[32m■■■■\u001b[0m\u001b[34m■■■■\u001b[0m\u001b[31m■■■■\u001b[0m\u001b[33m■■■■\u001b[0mtype = 5\n",
            "\u001b[31m■■■■\u001b[0m\u001b[33m■■■■\u001b[0m\u001b[32m■■■■\u001b[0m\u001b[34m■■■■\u001b[0m\u001b[31m■■■■\u001b[0m\u001b[33m■■■■\u001b[0mencodings = list\n",
            "\u001b[31m■■■■\u001b[0m\u001b[33m■■■■\u001b[0m\u001b[32m■■■■\u001b[0m\u001b[34m■■■■\u001b[0m\u001b[31m■■■■\u001b[0m\u001b[33m■■■■\u001b[0m\u001b[32m■■■■\u001b[0m3\n",
            "\u001b[31m■■■■\u001b[0m\u001b[33m■■■■\u001b[0m\u001b[32m■■■■\u001b[0m\u001b[34m■■■■\u001b[0m\u001b[31m■■■■\u001b[0m\u001b[33m■■■■\u001b[0m\u001b[32m■■■■\u001b[0m4\n",
            "\u001b[31m■■■■\u001b[0m\u001b[33m■■■■\u001b[0m\u001b[32m■■■■\u001b[0m\u001b[34m■■■■\u001b[0m\u001b[31m■■■■\u001b[0m\u001b[33m■■■■\u001b[0m\u001b[32m■■■■\u001b[0m2\n",
            "\u001b[31m■■■■\u001b[0m\u001b[33m■■■■\u001b[0m\u001b[32m■■■■\u001b[0m\u001b[34m■■■■\u001b[0m\u001b[31m■■■■\u001b[0m\u001b[33m■■■■\u001b[0mpath_in_schema = list\n",
            "\u001b[31m■■■■\u001b[0m\u001b[33m■■■■\u001b[0m\u001b[32m■■■■\u001b[0m\u001b[34m■■■■\u001b[0m\u001b[31m■■■■\u001b[0m\u001b[33m■■■■\u001b[0m\u001b[32m■■■■\u001b[0munitprice\n",
            "\u001b[31m■■■■\u001b[0m\u001b[33m■■■■\u001b[0m\u001b[32m■■■■\u001b[0m\u001b[34m■■■■\u001b[0m\u001b[31m■■■■\u001b[0m\u001b[33m■■■■\u001b[0mcodec = 1\n",
            "\u001b[31m■■■■\u001b[0m\u001b[33m■■■■\u001b[0m\u001b[32m■■■■\u001b[0m\u001b[34m■■■■\u001b[0m\u001b[31m■■■■\u001b[0m\u001b[33m■■■■\u001b[0mnum_values = 250\n",
            "\u001b[31m■■■■\u001b[0m\u001b[33m■■■■\u001b[0m\u001b[32m■■■■\u001b[0m\u001b[34m■■■■\u001b[0m\u001b[31m■■■■\u001b[0m\u001b[33m■■■■\u001b[0mtotal_uncompressed_size = 280\n",
            "\u001b[31m■■■■\u001b[0m\u001b[33m■■■■\u001b[0m\u001b[32m■■■■\u001b[0m\u001b[34m■■■■\u001b[0m\u001b[31m■■■■\u001b[0m\u001b[33m■■■■\u001b[0mtotal_compressed_size = 196\n",
            "\u001b[31m■■■■\u001b[0m\u001b[33m■■■■\u001b[0m\u001b[32m■■■■\u001b[0m\u001b[34m■■■■\u001b[0m\u001b[31m■■■■\u001b[0m\u001b[33m■■■■\u001b[0mdata_page_offset = 1605\n",
            "\u001b[31m■■■■\u001b[0m\u001b[33m■■■■\u001b[0m\u001b[32m■■■■\u001b[0m\u001b[34m■■■■\u001b[0m\u001b[31m■■■■\u001b[0m\u001b[33m■■■■\u001b[0mdictionary_page_offset = 1519\n",
            "\u001b[31m■■■■\u001b[0m\u001b[33m■■■■\u001b[0m\u001b[32m■■■■\u001b[0m\u001b[34m■■■■\u001b[0m\u001b[31m■■■■\u001b[0m\u001b[33m■■■■\u001b[0mstatistics = Statistics\n",
            "\u001b[31m■■■■\u001b[0m\u001b[33m■■■■\u001b[0m\u001b[32m■■■■\u001b[0m\u001b[34m■■■■\u001b[0m\u001b[31m■■■■\u001b[0m\u001b[33m■■■■\u001b[0m\u001b[32m■■■■\u001b[0mmax = b'\\x00\\x00\\x00\\x00\\x00\\x80{@'\n",
            "\u001b[31m■■■■\u001b[0m\u001b[33m■■■■\u001b[0m\u001b[32m■■■■\u001b[0m\u001b[34m■■■■\u001b[0m\u001b[31m■■■■\u001b[0m\u001b[33m■■■■\u001b[0m\u001b[32m■■■■\u001b[0mmin = b'\\x00\\x00\\x00\\x00\\x00\\x004@'\n",
            "\u001b[31m■■■■\u001b[0m\u001b[33m■■■■\u001b[0m\u001b[32m■■■■\u001b[0m\u001b[34m■■■■\u001b[0m\u001b[31m■■■■\u001b[0m\u001b[33m■■■■\u001b[0m\u001b[32m■■■■\u001b[0mmax_value = b'\\x00\\x00\\x00\\x00\\x00\\x80{@'\n",
            "\u001b[31m■■■■\u001b[0m\u001b[33m■■■■\u001b[0m\u001b[32m■■■■\u001b[0m\u001b[34m■■■■\u001b[0m\u001b[31m■■■■\u001b[0m\u001b[33m■■■■\u001b[0m\u001b[32m■■■■\u001b[0mmin_value = b'\\x00\\x00\\x00\\x00\\x00\\x004@'\n",
            "\u001b[31m■■■■\u001b[0m\u001b[33m■■■■\u001b[0m\u001b[32m■■■■\u001b[0m\u001b[34m■■■■\u001b[0m\u001b[31m■■■■\u001b[0m\u001b[33m■■■■\u001b[0mencoding_stats = list\n",
            "\u001b[31m■■■■\u001b[0m\u001b[33m■■■■\u001b[0m\u001b[32m■■■■\u001b[0m\u001b[34m■■■■\u001b[0m\u001b[31m■■■■\u001b[0m\u001b[33m■■■■\u001b[0m\u001b[32m■■■■\u001b[0mPageEncodingStats\n",
            "\u001b[31m■■■■\u001b[0m\u001b[33m■■■■\u001b[0m\u001b[32m■■■■\u001b[0m\u001b[34m■■■■\u001b[0m\u001b[31m■■■■\u001b[0m\u001b[33m■■■■\u001b[0m\u001b[32m■■■■\u001b[0m\u001b[34m■■■■\u001b[0mpage_type = 2\n",
            "\u001b[31m■■■■\u001b[0m\u001b[33m■■■■\u001b[0m\u001b[32m■■■■\u001b[0m\u001b[34m■■■■\u001b[0m\u001b[31m■■■■\u001b[0m\u001b[33m■■■■\u001b[0m\u001b[32m■■■■\u001b[0m\u001b[34m■■■■\u001b[0mencoding = 2\n",
            "\u001b[31m■■■■\u001b[0m\u001b[33m■■■■\u001b[0m\u001b[32m■■■■\u001b[0m\u001b[34m■■■■\u001b[0m\u001b[31m■■■■\u001b[0m\u001b[33m■■■■\u001b[0m\u001b[32m■■■■\u001b[0m\u001b[34m■■■■\u001b[0mcount = 1\n",
            "\u001b[31m■■■■\u001b[0m\u001b[33m■■■■\u001b[0m\u001b[32m■■■■\u001b[0m\u001b[34m■■■■\u001b[0m\u001b[31m■■■■\u001b[0m\u001b[33m■■■■\u001b[0m\u001b[32m■■■■\u001b[0mPageEncodingStats\n",
            "\u001b[31m■■■■\u001b[0m\u001b[33m■■■■\u001b[0m\u001b[32m■■■■\u001b[0m\u001b[34m■■■■\u001b[0m\u001b[31m■■■■\u001b[0m\u001b[33m■■■■\u001b[0m\u001b[32m■■■■\u001b[0m\u001b[34m■■■■\u001b[0mencoding = 2\n",
            "\u001b[31m■■■■\u001b[0m\u001b[33m■■■■\u001b[0m\u001b[32m■■■■\u001b[0m\u001b[34m■■■■\u001b[0m\u001b[31m■■■■\u001b[0m\u001b[33m■■■■\u001b[0m\u001b[32m■■■■\u001b[0m\u001b[34m■■■■\u001b[0mcount = 1\n",
            "\u001b[31m■■■■\u001b[0m\u001b[33m■■■■\u001b[0m\u001b[32m■■■■\u001b[0m\u001b[34m■■■■\u001b[0m\u001b[31m■■■■\u001b[0moffset_index_offset = 4329\n",
            "\u001b[31m■■■■\u001b[0m\u001b[33m■■■■\u001b[0m\u001b[32m■■■■\u001b[0m\u001b[34m■■■■\u001b[0m\u001b[31m■■■■\u001b[0moffset_index_length = 12\n",
            "\u001b[31m■■■■\u001b[0m\u001b[33m■■■■\u001b[0m\u001b[32m■■■■\u001b[0m\u001b[34m■■■■\u001b[0m\u001b[31m■■■■\u001b[0mcolumn_index_offset = 3977\n",
            "\u001b[31m■■■■\u001b[0m\u001b[33m■■■■\u001b[0m\u001b[32m■■■■\u001b[0m\u001b[34m■■■■\u001b[0m\u001b[31m■■■■\u001b[0mcolumn_index_length = 31\n",
            "\u001b[31m■■■■\u001b[0m\u001b[33m■■■■\u001b[0m\u001b[32m■■■■\u001b[0m\u001b[34m■■■■\u001b[0mColumnChunk\n",
            "\u001b[31m■■■■\u001b[0m\u001b[33m■■■■\u001b[0m\u001b[32m■■■■\u001b[0m\u001b[34m■■■■\u001b[0m\u001b[31m■■■■\u001b[0mfile_offset = 1758\n",
            "\u001b[31m■■■■\u001b[0m\u001b[33m■■■■\u001b[0m\u001b[32m■■■■\u001b[0m\u001b[34m■■■■\u001b[0m\u001b[31m■■■■\u001b[0mmeta_data = ColumnMetaData\n",
            "\u001b[31m■■■■\u001b[0m\u001b[33m■■■■\u001b[0m\u001b[32m■■■■\u001b[0m\u001b[34m■■■■\u001b[0m\u001b[31m■■■■\u001b[0m\u001b[33m■■■■\u001b[0mtype = 6\n",
            "\u001b[31m■■■■\u001b[0m\u001b[33m■■■■\u001b[0m\u001b[32m■■■■\u001b[0m\u001b[34m■■■■\u001b[0m\u001b[31m■■■■\u001b[0m\u001b[33m■■■■\u001b[0mencodings = list\n",
            "\u001b[31m■■■■\u001b[0m\u001b[33m■■■■\u001b[0m\u001b[32m■■■■\u001b[0m\u001b[34m■■■■\u001b[0m\u001b[31m■■■■\u001b[0m\u001b[33m■■■■\u001b[0m\u001b[32m■■■■\u001b[0m3\n",
            "\u001b[31m■■■■\u001b[0m\u001b[33m■■■■\u001b[0m\u001b[32m■■■■\u001b[0m\u001b[34m■■■■\u001b[0m\u001b[31m■■■■\u001b[0m\u001b[33m■■■■\u001b[0m\u001b[32m■■■■\u001b[0m4\n",
            "\u001b[31m■■■■\u001b[0m\u001b[33m■■■■\u001b[0m\u001b[32m■■■■\u001b[0m\u001b[34m■■■■\u001b[0m\u001b[31m■■■■\u001b[0m\u001b[33m■■■■\u001b[0m\u001b[32m■■■■\u001b[0m2\n",
            "\u001b[31m■■■■\u001b[0m\u001b[33m■■■■\u001b[0m\u001b[32m■■■■\u001b[0m\u001b[34m■■■■\u001b[0m\u001b[31m■■■■\u001b[0m\u001b[33m■■■■\u001b[0mpath_in_schema = list\n",
            "\u001b[31m■■■■\u001b[0m\u001b[33m■■■■\u001b[0m\u001b[32m■■■■\u001b[0m\u001b[34m■■■■\u001b[0m\u001b[31m■■■■\u001b[0m\u001b[33m■■■■\u001b[0m\u001b[32m■■■■\u001b[0mshopid\n",
            "\u001b[31m■■■■\u001b[0m\u001b[33m■■■■\u001b[0m\u001b[32m■■■■\u001b[0m\u001b[34m■■■■\u001b[0m\u001b[31m■■■■\u001b[0m\u001b[33m■■■■\u001b[0mcodec = 1\n",
            "\u001b[31m■■■■\u001b[0m\u001b[33m■■■■\u001b[0m\u001b[32m■■■■\u001b[0m\u001b[34m■■■■\u001b[0m\u001b[31m■■■■\u001b[0m\u001b[33m■■■■\u001b[0mnum_values = 250\n",
            "\u001b[31m■■■■\u001b[0m\u001b[33m■■■■\u001b[0m\u001b[32m■■■■\u001b[0m\u001b[34m■■■■\u001b[0m\u001b[31m■■■■\u001b[0m\u001b[33m■■■■\u001b[0mtotal_uncompressed_size = 106\n",
            "\u001b[31m■■■■\u001b[0m\u001b[33m■■■■\u001b[0m\u001b[32m■■■■\u001b[0m\u001b[34m■■■■\u001b[0m\u001b[31m■■■■\u001b[0m\u001b[33m■■■■\u001b[0mtotal_compressed_size = 86\n",
            "\u001b[31m■■■■\u001b[0m\u001b[33m■■■■\u001b[0m\u001b[32m■■■■\u001b[0m\u001b[34m■■■■\u001b[0m\u001b[31m■■■■\u001b[0m\u001b[33m■■■■\u001b[0mdata_page_offset = 1758\n",
            "\u001b[31m■■■■\u001b[0m\u001b[33m■■■■\u001b[0m\u001b[32m■■■■\u001b[0m\u001b[34m■■■■\u001b[0m\u001b[31m■■■■\u001b[0m\u001b[33m■■■■\u001b[0mdictionary_page_offset = 1715\n",
            "\u001b[31m■■■■\u001b[0m\u001b[33m■■■■\u001b[0m\u001b[32m■■■■\u001b[0m\u001b[34m■■■■\u001b[0m\u001b[31m■■■■\u001b[0m\u001b[33m■■■■\u001b[0mstatistics = Statistics\n",
            "\u001b[31m■■■■\u001b[0m\u001b[33m■■■■\u001b[0m\u001b[32m■■■■\u001b[0m\u001b[34m■■■■\u001b[0m\u001b[31m■■■■\u001b[0m\u001b[33m■■■■\u001b[0m\u001b[32m■■■■\u001b[0mmax_value = b'shop_31'\n",
            "\u001b[31m■■■■\u001b[0m\u001b[33m■■■■\u001b[0m\u001b[32m■■■■\u001b[0m\u001b[34m■■■■\u001b[0m\u001b[31m■■■■\u001b[0m\u001b[33m■■■■\u001b[0m\u001b[32m■■■■\u001b[0mmin_value = b'shop_15'\n",
            "\u001b[31m■■■■\u001b[0m\u001b[33m■■■■\u001b[0m\u001b[32m■■■■\u001b[0m\u001b[34m■■■■\u001b[0m\u001b[31m■■■■\u001b[0m\u001b[33m■■■■\u001b[0mencoding_stats = list\n",
            "\u001b[31m■■■■\u001b[0m\u001b[33m■■■■\u001b[0m\u001b[32m■■■■\u001b[0m\u001b[34m■■■■\u001b[0m\u001b[31m■■■■\u001b[0m\u001b[33m■■■■\u001b[0m\u001b[32m■■■■\u001b[0mPageEncodingStats\n",
            "\u001b[31m■■■■\u001b[0m\u001b[33m■■■■\u001b[0m\u001b[32m■■■■\u001b[0m\u001b[34m■■■■\u001b[0m\u001b[31m■■■■\u001b[0m\u001b[33m■■■■\u001b[0m\u001b[32m■■■■\u001b[0m\u001b[34m■■■■\u001b[0mpage_type = 2\n",
            "\u001b[31m■■■■\u001b[0m\u001b[33m■■■■\u001b[0m\u001b[32m■■■■\u001b[0m\u001b[34m■■■■\u001b[0m\u001b[31m■■■■\u001b[0m\u001b[33m■■■■\u001b[0m\u001b[32m■■■■\u001b[0m\u001b[34m■■■■\u001b[0mencoding = 2\n",
            "\u001b[31m■■■■\u001b[0m\u001b[33m■■■■\u001b[0m\u001b[32m■■■■\u001b[0m\u001b[34m■■■■\u001b[0m\u001b[31m■■■■\u001b[0m\u001b[33m■■■■\u001b[0m\u001b[32m■■■■\u001b[0m\u001b[34m■■■■\u001b[0mcount = 1\n",
            "\u001b[31m■■■■\u001b[0m\u001b[33m■■■■\u001b[0m\u001b[32m■■■■\u001b[0m\u001b[34m■■■■\u001b[0m\u001b[31m■■■■\u001b[0m\u001b[33m■■■■\u001b[0m\u001b[32m■■■■\u001b[0mPageEncodingStats\n",
            "\u001b[31m■■■■\u001b[0m\u001b[33m■■■■\u001b[0m\u001b[32m■■■■\u001b[0m\u001b[34m■■■■\u001b[0m\u001b[31m■■■■\u001b[0m\u001b[33m■■■■\u001b[0m\u001b[32m■■■■\u001b[0m\u001b[34m■■■■\u001b[0mencoding = 2\n",
            "\u001b[31m■■■■\u001b[0m\u001b[33m■■■■\u001b[0m\u001b[32m■■■■\u001b[0m\u001b[34m■■■■\u001b[0m\u001b[31m■■■■\u001b[0m\u001b[33m■■■■\u001b[0m\u001b[32m■■■■\u001b[0m\u001b[34m■■■■\u001b[0mcount = 1\n",
            "\u001b[31m■■■■\u001b[0m\u001b[33m■■■■\u001b[0m\u001b[32m■■■■\u001b[0m\u001b[34m■■■■\u001b[0m\u001b[31m■■■■\u001b[0moffset_index_offset = 4341\n",
            "\u001b[31m■■■■\u001b[0m\u001b[33m■■■■\u001b[0m\u001b[32m■■■■\u001b[0m\u001b[34m■■■■\u001b[0m\u001b[31m■■■■\u001b[0moffset_index_length = 11\n",
            "\u001b[31m■■■■\u001b[0m\u001b[33m■■■■\u001b[0m\u001b[32m■■■■\u001b[0m\u001b[34m■■■■\u001b[0m\u001b[31m■■■■\u001b[0mcolumn_index_offset = 4008\n",
            "\u001b[31m■■■■\u001b[0m\u001b[33m■■■■\u001b[0m\u001b[32m■■■■\u001b[0m\u001b[34m■■■■\u001b[0m\u001b[31m■■■■\u001b[0mcolumn_index_length = 29\n",
            "\u001b[31m■■■■\u001b[0m\u001b[33m■■■■\u001b[0m\u001b[32m■■■■\u001b[0m\u001b[34m■■■■\u001b[0mColumnChunk\n",
            "\u001b[31m■■■■\u001b[0m\u001b[33m■■■■\u001b[0m\u001b[32m■■■■\u001b[0m\u001b[34m■■■■\u001b[0m\u001b[31m■■■■\u001b[0mfile_offset = 1834\n",
            "\u001b[31m■■■■\u001b[0m\u001b[33m■■■■\u001b[0m\u001b[32m■■■■\u001b[0m\u001b[34m■■■■\u001b[0m\u001b[31m■■■■\u001b[0mmeta_data = ColumnMetaData\n",
            "\u001b[31m■■■■\u001b[0m\u001b[33m■■■■\u001b[0m\u001b[32m■■■■\u001b[0m\u001b[34m■■■■\u001b[0m\u001b[31m■■■■\u001b[0m\u001b[33m■■■■\u001b[0mtype = 6\n",
            "\u001b[31m■■■■\u001b[0m\u001b[33m■■■■\u001b[0m\u001b[32m■■■■\u001b[0m\u001b[34m■■■■\u001b[0m\u001b[31m■■■■\u001b[0m\u001b[33m■■■■\u001b[0mencodings = list\n",
            "\u001b[31m■■■■\u001b[0m\u001b[33m■■■■\u001b[0m\u001b[32m■■■■\u001b[0m\u001b[34m■■■■\u001b[0m\u001b[31m■■■■\u001b[0m\u001b[33m■■■■\u001b[0m\u001b[32m■■■■\u001b[0m3\n",
            "\u001b[31m■■■■\u001b[0m\u001b[33m■■■■\u001b[0m\u001b[32m■■■■\u001b[0m\u001b[34m■■■■\u001b[0m\u001b[31m■■■■\u001b[0m\u001b[33m■■■■\u001b[0m\u001b[32m■■■■\u001b[0m4\n",
            "\u001b[31m■■■■\u001b[0m\u001b[33m■■■■\u001b[0m\u001b[32m■■■■\u001b[0m\u001b[34m■■■■\u001b[0m\u001b[31m■■■■\u001b[0m\u001b[33m■■■■\u001b[0m\u001b[32m■■■■\u001b[0m2\n",
            "\u001b[31m■■■■\u001b[0m\u001b[33m■■■■\u001b[0m\u001b[32m■■■■\u001b[0m\u001b[34m■■■■\u001b[0m\u001b[31m■■■■\u001b[0m\u001b[33m■■■■\u001b[0mpath_in_schema = list\n",
            "\u001b[31m■■■■\u001b[0m\u001b[33m■■■■\u001b[0m\u001b[32m■■■■\u001b[0m\u001b[34m■■■■\u001b[0m\u001b[31m■■■■\u001b[0m\u001b[33m■■■■\u001b[0m\u001b[32m■■■■\u001b[0mstate\n",
            "\u001b[31m■■■■\u001b[0m\u001b[33m■■■■\u001b[0m\u001b[32m■■■■\u001b[0m\u001b[34m■■■■\u001b[0m\u001b[31m■■■■\u001b[0m\u001b[33m■■■■\u001b[0mcodec = 1\n",
            "\u001b[31m■■■■\u001b[0m\u001b[33m■■■■\u001b[0m\u001b[32m■■■■\u001b[0m\u001b[34m■■■■\u001b[0m\u001b[31m■■■■\u001b[0m\u001b[33m■■■■\u001b[0mnum_values = 250\n",
            "\u001b[31m■■■■\u001b[0m\u001b[33m■■■■\u001b[0m\u001b[32m■■■■\u001b[0m\u001b[34m■■■■\u001b[0m\u001b[31m■■■■\u001b[0m\u001b[33m■■■■\u001b[0mtotal_uncompressed_size = 65\n",
            "\u001b[31m■■■■\u001b[0m\u001b[33m■■■■\u001b[0m\u001b[32m■■■■\u001b[0m\u001b[34m■■■■\u001b[0m\u001b[31m■■■■\u001b[0m\u001b[33m■■■■\u001b[0mtotal_compressed_size = 69\n",
            "\u001b[31m■■■■\u001b[0m\u001b[33m■■■■\u001b[0m\u001b[32m■■■■\u001b[0m\u001b[34m■■■■\u001b[0m\u001b[31m■■■■\u001b[0m\u001b[33m■■■■\u001b[0mdata_page_offset = 1834\n",
            "\u001b[31m■■■■\u001b[0m\u001b[33m■■■■\u001b[0m\u001b[32m■■■■\u001b[0m\u001b[34m■■■■\u001b[0m\u001b[31m■■■■\u001b[0m\u001b[33m■■■■\u001b[0mdictionary_page_offset = 1801\n",
            "\u001b[31m■■■■\u001b[0m\u001b[33m■■■■\u001b[0m\u001b[32m■■■■\u001b[0m\u001b[34m■■■■\u001b[0m\u001b[31m■■■■\u001b[0m\u001b[33m■■■■\u001b[0mstatistics = Statistics\n",
            "\u001b[31m■■■■\u001b[0m\u001b[33m■■■■\u001b[0m\u001b[32m■■■■\u001b[0m\u001b[34m■■■■\u001b[0m\u001b[31m■■■■\u001b[0m\u001b[33m■■■■\u001b[0m\u001b[32m■■■■\u001b[0mmax = b'Lombardy'\n",
            "\u001b[31m■■■■\u001b[0m\u001b[33m■■■■\u001b[0m\u001b[32m■■■■\u001b[0m\u001b[34m■■■■\u001b[0m\u001b[31m■■■■\u001b[0m\u001b[33m■■■■\u001b[0m\u001b[32m■■■■\u001b[0mmin = b'Lombardy'\n",
            "\u001b[31m■■■■\u001b[0m\u001b[33m■■■■\u001b[0m\u001b[32m■■■■\u001b[0m\u001b[34m■■■■\u001b[0m\u001b[31m■■■■\u001b[0m\u001b[33m■■■■\u001b[0m\u001b[32m■■■■\u001b[0mmax_value = b'Lombardy'\n",
            "\u001b[31m■■■■\u001b[0m\u001b[33m■■■■\u001b[0m\u001b[32m■■■■\u001b[0m\u001b[34m■■■■\u001b[0m\u001b[31m■■■■\u001b[0m\u001b[33m■■■■\u001b[0m\u001b[32m■■■■\u001b[0mmin_value = b'Lombardy'\n",
            "\u001b[31m■■■■\u001b[0m\u001b[33m■■■■\u001b[0m\u001b[32m■■■■\u001b[0m\u001b[34m■■■■\u001b[0m\u001b[31m■■■■\u001b[0m\u001b[33m■■■■\u001b[0mencoding_stats = list\n",
            "\u001b[31m■■■■\u001b[0m\u001b[33m■■■■\u001b[0m\u001b[32m■■■■\u001b[0m\u001b[34m■■■■\u001b[0m\u001b[31m■■■■\u001b[0m\u001b[33m■■■■\u001b[0m\u001b[32m■■■■\u001b[0mPageEncodingStats\n",
            "\u001b[31m■■■■\u001b[0m\u001b[33m■■■■\u001b[0m\u001b[32m■■■■\u001b[0m\u001b[34m■■■■\u001b[0m\u001b[31m■■■■\u001b[0m\u001b[33m■■■■\u001b[0m\u001b[32m■■■■\u001b[0m\u001b[34m■■■■\u001b[0mpage_type = 2\n",
            "\u001b[31m■■■■\u001b[0m\u001b[33m■■■■\u001b[0m\u001b[32m■■■■\u001b[0m\u001b[34m■■■■\u001b[0m\u001b[31m■■■■\u001b[0m\u001b[33m■■■■\u001b[0m\u001b[32m■■■■\u001b[0m\u001b[34m■■■■\u001b[0mencoding = 2\n",
            "\u001b[31m■■■■\u001b[0m\u001b[33m■■■■\u001b[0m\u001b[32m■■■■\u001b[0m\u001b[34m■■■■\u001b[0m\u001b[31m■■■■\u001b[0m\u001b[33m■■■■\u001b[0m\u001b[32m■■■■\u001b[0m\u001b[34m■■■■\u001b[0mcount = 1\n",
            "\u001b[31m■■■■\u001b[0m\u001b[33m■■■■\u001b[0m\u001b[32m■■■■\u001b[0m\u001b[34m■■■■\u001b[0m\u001b[31m■■■■\u001b[0m\u001b[33m■■■■\u001b[0m\u001b[32m■■■■\u001b[0mPageEncodingStats\n",
            "\u001b[31m■■■■\u001b[0m\u001b[33m■■■■\u001b[0m\u001b[32m■■■■\u001b[0m\u001b[34m■■■■\u001b[0m\u001b[31m■■■■\u001b[0m\u001b[33m■■■■\u001b[0m\u001b[32m■■■■\u001b[0m\u001b[34m■■■■\u001b[0mencoding = 2\n",
            "\u001b[31m■■■■\u001b[0m\u001b[33m■■■■\u001b[0m\u001b[32m■■■■\u001b[0m\u001b[34m■■■■\u001b[0m\u001b[31m■■■■\u001b[0m\u001b[33m■■■■\u001b[0m\u001b[32m■■■■\u001b[0m\u001b[34m■■■■\u001b[0mcount = 1\n",
            "\u001b[31m■■■■\u001b[0m\u001b[33m■■■■\u001b[0m\u001b[32m■■■■\u001b[0m\u001b[34m■■■■\u001b[0m\u001b[31m■■■■\u001b[0moffset_index_offset = 4352\n",
            "\u001b[31m■■■■\u001b[0m\u001b[33m■■■■\u001b[0m\u001b[32m■■■■\u001b[0m\u001b[34m■■■■\u001b[0m\u001b[31m■■■■\u001b[0moffset_index_length = 11\n",
            "\u001b[31m■■■■\u001b[0m\u001b[33m■■■■\u001b[0m\u001b[32m■■■■\u001b[0m\u001b[34m■■■■\u001b[0m\u001b[31m■■■■\u001b[0mcolumn_index_offset = 4037\n",
            "\u001b[31m■■■■\u001b[0m\u001b[33m■■■■\u001b[0m\u001b[32m■■■■\u001b[0m\u001b[34m■■■■\u001b[0m\u001b[31m■■■■\u001b[0mcolumn_index_length = 31\n",
            "\u001b[31m■■■■\u001b[0m\u001b[33m■■■■\u001b[0m\u001b[32m■■■■\u001b[0m\u001b[34m■■■■\u001b[0mColumnChunk\n",
            "\u001b[31m■■■■\u001b[0m\u001b[33m■■■■\u001b[0m\u001b[32m■■■■\u001b[0m\u001b[34m■■■■\u001b[0m\u001b[31m■■■■\u001b[0mfile_offset = 1900\n",
            "\u001b[31m■■■■\u001b[0m\u001b[33m■■■■\u001b[0m\u001b[32m■■■■\u001b[0m\u001b[34m■■■■\u001b[0m\u001b[31m■■■■\u001b[0mmeta_data = ColumnMetaData\n",
            "\u001b[31m■■■■\u001b[0m\u001b[33m■■■■\u001b[0m\u001b[32m■■■■\u001b[0m\u001b[34m■■■■\u001b[0m\u001b[31m■■■■\u001b[0m\u001b[33m■■■■\u001b[0mtype = 6\n",
            "\u001b[31m■■■■\u001b[0m\u001b[33m■■■■\u001b[0m\u001b[32m■■■■\u001b[0m\u001b[34m■■■■\u001b[0m\u001b[31m■■■■\u001b[0m\u001b[33m■■■■\u001b[0mencodings = list\n",
            "\u001b[31m■■■■\u001b[0m\u001b[33m■■■■\u001b[0m\u001b[32m■■■■\u001b[0m\u001b[34m■■■■\u001b[0m\u001b[31m■■■■\u001b[0m\u001b[33m■■■■\u001b[0m\u001b[32m■■■■\u001b[0m3\n",
            "\u001b[31m■■■■\u001b[0m\u001b[33m■■■■\u001b[0m\u001b[32m■■■■\u001b[0m\u001b[34m■■■■\u001b[0m\u001b[31m■■■■\u001b[0m\u001b[33m■■■■\u001b[0m\u001b[32m■■■■\u001b[0m4\n",
            "\u001b[31m■■■■\u001b[0m\u001b[33m■■■■\u001b[0m\u001b[32m■■■■\u001b[0m\u001b[34m■■■■\u001b[0m\u001b[31m■■■■\u001b[0m\u001b[33m■■■■\u001b[0m\u001b[32m■■■■\u001b[0m2\n",
            "\u001b[31m■■■■\u001b[0m\u001b[33m■■■■\u001b[0m\u001b[32m■■■■\u001b[0m\u001b[34m■■■■\u001b[0m\u001b[31m■■■■\u001b[0m\u001b[33m■■■■\u001b[0mpath_in_schema = list\n",
            "\u001b[31m■■■■\u001b[0m\u001b[33m■■■■\u001b[0m\u001b[32m■■■■\u001b[0m\u001b[34m■■■■\u001b[0m\u001b[31m■■■■\u001b[0m\u001b[33m■■■■\u001b[0m\u001b[32m■■■■\u001b[0mcountry\n",
            "\u001b[31m■■■■\u001b[0m\u001b[33m■■■■\u001b[0m\u001b[32m■■■■\u001b[0m\u001b[34m■■■■\u001b[0m\u001b[31m■■■■\u001b[0m\u001b[33m■■■■\u001b[0mcodec = 1\n",
            "\u001b[31m■■■■\u001b[0m\u001b[33m■■■■\u001b[0m\u001b[32m■■■■\u001b[0m\u001b[34m■■■■\u001b[0m\u001b[31m■■■■\u001b[0m\u001b[33m■■■■\u001b[0mnum_values = 250\n",
            "\u001b[31m■■■■\u001b[0m\u001b[33m■■■■\u001b[0m\u001b[32m■■■■\u001b[0m\u001b[34m■■■■\u001b[0m\u001b[31m■■■■\u001b[0m\u001b[33m■■■■\u001b[0mtotal_uncompressed_size = 62\n",
            "\u001b[31m■■■■\u001b[0m\u001b[33m■■■■\u001b[0m\u001b[32m■■■■\u001b[0m\u001b[34m■■■■\u001b[0m\u001b[31m■■■■\u001b[0m\u001b[33m■■■■\u001b[0mtotal_compressed_size = 66\n",
            "\u001b[31m■■■■\u001b[0m\u001b[33m■■■■\u001b[0m\u001b[32m■■■■\u001b[0m\u001b[34m■■■■\u001b[0m\u001b[31m■■■■\u001b[0m\u001b[33m■■■■\u001b[0mdata_page_offset = 1900\n",
            "\u001b[31m■■■■\u001b[0m\u001b[33m■■■■\u001b[0m\u001b[32m■■■■\u001b[0m\u001b[34m■■■■\u001b[0m\u001b[31m■■■■\u001b[0m\u001b[33m■■■■\u001b[0mdictionary_page_offset = 1870\n",
            "\u001b[31m■■■■\u001b[0m\u001b[33m■■■■\u001b[0m\u001b[32m■■■■\u001b[0m\u001b[34m■■■■\u001b[0m\u001b[31m■■■■\u001b[0m\u001b[33m■■■■\u001b[0mstatistics = Statistics\n",
            "\u001b[31m■■■■\u001b[0m\u001b[33m■■■■\u001b[0m\u001b[32m■■■■\u001b[0m\u001b[34m■■■■\u001b[0m\u001b[31m■■■■\u001b[0m\u001b[33m■■■■\u001b[0m\u001b[32m■■■■\u001b[0mmax = b'Italy'\n",
            "\u001b[31m■■■■\u001b[0m\u001b[33m■■■■\u001b[0m\u001b[32m■■■■\u001b[0m\u001b[34m■■■■\u001b[0m\u001b[31m■■■■\u001b[0m\u001b[33m■■■■\u001b[0m\u001b[32m■■■■\u001b[0mmin = b'Italy'\n",
            "\u001b[31m■■■■\u001b[0m\u001b[33m■■■■\u001b[0m\u001b[32m■■■■\u001b[0m\u001b[34m■■■■\u001b[0m\u001b[31m■■■■\u001b[0m\u001b[33m■■■■\u001b[0m\u001b[32m■■■■\u001b[0mmax_value = b'Italy'\n",
            "\u001b[31m■■■■\u001b[0m\u001b[33m■■■■\u001b[0m\u001b[32m■■■■\u001b[0m\u001b[34m■■■■\u001b[0m\u001b[31m■■■■\u001b[0m\u001b[33m■■■■\u001b[0m\u001b[32m■■■■\u001b[0mmin_value = b'Italy'\n",
            "\u001b[31m■■■■\u001b[0m\u001b[33m■■■■\u001b[0m\u001b[32m■■■■\u001b[0m\u001b[34m■■■■\u001b[0m\u001b[31m■■■■\u001b[0m\u001b[33m■■■■\u001b[0mencoding_stats = list\n",
            "\u001b[31m■■■■\u001b[0m\u001b[33m■■■■\u001b[0m\u001b[32m■■■■\u001b[0m\u001b[34m■■■■\u001b[0m\u001b[31m■■■■\u001b[0m\u001b[33m■■■■\u001b[0m\u001b[32m■■■■\u001b[0mPageEncodingStats\n",
            "\u001b[31m■■■■\u001b[0m\u001b[33m■■■■\u001b[0m\u001b[32m■■■■\u001b[0m\u001b[34m■■■■\u001b[0m\u001b[31m■■■■\u001b[0m\u001b[33m■■■■\u001b[0m\u001b[32m■■■■\u001b[0m\u001b[34m■■■■\u001b[0mpage_type = 2\n",
            "\u001b[31m■■■■\u001b[0m\u001b[33m■■■■\u001b[0m\u001b[32m■■■■\u001b[0m\u001b[34m■■■■\u001b[0m\u001b[31m■■■■\u001b[0m\u001b[33m■■■■\u001b[0m\u001b[32m■■■■\u001b[0m\u001b[34m■■■■\u001b[0mencoding = 2\n",
            "\u001b[31m■■■■\u001b[0m\u001b[33m■■■■\u001b[0m\u001b[32m■■■■\u001b[0m\u001b[34m■■■■\u001b[0m\u001b[31m■■■■\u001b[0m\u001b[33m■■■■\u001b[0m\u001b[32m■■■■\u001b[0m\u001b[34m■■■■\u001b[0mcount = 1\n",
            "\u001b[31m■■■■\u001b[0m\u001b[33m■■■■\u001b[0m\u001b[32m■■■■\u001b[0m\u001b[34m■■■■\u001b[0m\u001b[31m■■■■\u001b[0m\u001b[33m■■■■\u001b[0m\u001b[32m■■■■\u001b[0mPageEncodingStats\n",
            "\u001b[31m■■■■\u001b[0m\u001b[33m■■■■\u001b[0m\u001b[32m■■■■\u001b[0m\u001b[34m■■■■\u001b[0m\u001b[31m■■■■\u001b[0m\u001b[33m■■■■\u001b[0m\u001b[32m■■■■\u001b[0m\u001b[34m■■■■\u001b[0mencoding = 2\n",
            "\u001b[31m■■■■\u001b[0m\u001b[33m■■■■\u001b[0m\u001b[32m■■■■\u001b[0m\u001b[34m■■■■\u001b[0m\u001b[31m■■■■\u001b[0m\u001b[33m■■■■\u001b[0m\u001b[32m■■■■\u001b[0m\u001b[34m■■■■\u001b[0mcount = 1\n",
            "\u001b[31m■■■■\u001b[0m\u001b[33m■■■■\u001b[0m\u001b[32m■■■■\u001b[0m\u001b[34m■■■■\u001b[0m\u001b[31m■■■■\u001b[0moffset_index_offset = 4363\n",
            "\u001b[31m■■■■\u001b[0m\u001b[33m■■■■\u001b[0m\u001b[32m■■■■\u001b[0m\u001b[34m■■■■\u001b[0m\u001b[31m■■■■\u001b[0moffset_index_length = 11\n",
            "\u001b[31m■■■■\u001b[0m\u001b[33m■■■■\u001b[0m\u001b[32m■■■■\u001b[0m\u001b[34m■■■■\u001b[0m\u001b[31m■■■■\u001b[0mcolumn_index_offset = 4068\n",
            "\u001b[31m■■■■\u001b[0m\u001b[33m■■■■\u001b[0m\u001b[32m■■■■\u001b[0m\u001b[34m■■■■\u001b[0m\u001b[31m■■■■\u001b[0mcolumn_index_length = 25\n",
            "\u001b[31m■■■■\u001b[0m\u001b[33m■■■■\u001b[0m\u001b[32m■■■■\u001b[0m\u001b[34m■■■■\u001b[0mColumnChunk\n",
            "\u001b[31m■■■■\u001b[0m\u001b[33m■■■■\u001b[0m\u001b[32m■■■■\u001b[0m\u001b[34m■■■■\u001b[0m\u001b[31m■■■■\u001b[0mfile_offset = 1966\n",
            "\u001b[31m■■■■\u001b[0m\u001b[33m■■■■\u001b[0m\u001b[32m■■■■\u001b[0m\u001b[34m■■■■\u001b[0m\u001b[31m■■■■\u001b[0mmeta_data = ColumnMetaData\n",
            "\u001b[31m■■■■\u001b[0m\u001b[33m■■■■\u001b[0m\u001b[32m■■■■\u001b[0m\u001b[34m■■■■\u001b[0m\u001b[31m■■■■\u001b[0m\u001b[33m■■■■\u001b[0mtype = 6\n",
            "\u001b[31m■■■■\u001b[0m\u001b[33m■■■■\u001b[0m\u001b[32m■■■■\u001b[0m\u001b[34m■■■■\u001b[0m\u001b[31m■■■■\u001b[0m\u001b[33m■■■■\u001b[0mencodings = list\n",
            "\u001b[31m■■■■\u001b[0m\u001b[33m■■■■\u001b[0m\u001b[32m■■■■\u001b[0m\u001b[34m■■■■\u001b[0m\u001b[31m■■■■\u001b[0m\u001b[33m■■■■\u001b[0m\u001b[32m■■■■\u001b[0m3\n",
            "\u001b[31m■■■■\u001b[0m\u001b[33m■■■■\u001b[0m\u001b[32m■■■■\u001b[0m\u001b[34m■■■■\u001b[0m\u001b[31m■■■■\u001b[0m\u001b[33m■■■■\u001b[0m\u001b[32m■■■■\u001b[0m4\n",
            "\u001b[31m■■■■\u001b[0m\u001b[33m■■■■\u001b[0m\u001b[32m■■■■\u001b[0m\u001b[34m■■■■\u001b[0m\u001b[31m■■■■\u001b[0m\u001b[33m■■■■\u001b[0m\u001b[32m■■■■\u001b[0m2\n",
            "\u001b[31m■■■■\u001b[0m\u001b[33m■■■■\u001b[0m\u001b[32m■■■■\u001b[0m\u001b[34m■■■■\u001b[0m\u001b[31m■■■■\u001b[0m\u001b[33m■■■■\u001b[0mpath_in_schema = list\n",
            "\u001b[31m■■■■\u001b[0m\u001b[33m■■■■\u001b[0m\u001b[32m■■■■\u001b[0m\u001b[34m■■■■\u001b[0m\u001b[31m■■■■\u001b[0m\u001b[33m■■■■\u001b[0m\u001b[32m■■■■\u001b[0mshopsize\n",
            "\u001b[31m■■■■\u001b[0m\u001b[33m■■■■\u001b[0m\u001b[32m■■■■\u001b[0m\u001b[34m■■■■\u001b[0m\u001b[31m■■■■\u001b[0m\u001b[33m■■■■\u001b[0mcodec = 1\n",
            "\u001b[31m■■■■\u001b[0m\u001b[33m■■■■\u001b[0m\u001b[32m■■■■\u001b[0m\u001b[34m■■■■\u001b[0m\u001b[31m■■■■\u001b[0m\u001b[33m■■■■\u001b[0mnum_values = 250\n",
            "\u001b[31m■■■■\u001b[0m\u001b[33m■■■■\u001b[0m\u001b[32m■■■■\u001b[0m\u001b[34m■■■■\u001b[0m\u001b[31m■■■■\u001b[0m\u001b[33m■■■■\u001b[0mtotal_uncompressed_size = 62\n",
            "\u001b[31m■■■■\u001b[0m\u001b[33m■■■■\u001b[0m\u001b[32m■■■■\u001b[0m\u001b[34m■■■■\u001b[0m\u001b[31m■■■■\u001b[0m\u001b[33m■■■■\u001b[0mtotal_compressed_size = 66\n",
            "\u001b[31m■■■■\u001b[0m\u001b[33m■■■■\u001b[0m\u001b[32m■■■■\u001b[0m\u001b[34m■■■■\u001b[0m\u001b[31m■■■■\u001b[0m\u001b[33m■■■■\u001b[0mdata_page_offset = 1966\n",
            "\u001b[31m■■■■\u001b[0m\u001b[33m■■■■\u001b[0m\u001b[32m■■■■\u001b[0m\u001b[34m■■■■\u001b[0m\u001b[31m■■■■\u001b[0m\u001b[33m■■■■\u001b[0mdictionary_page_offset = 1936\n",
            "\u001b[31m■■■■\u001b[0m\u001b[33m■■■■\u001b[0m\u001b[32m■■■■\u001b[0m\u001b[34m■■■■\u001b[0m\u001b[31m■■■■\u001b[0m\u001b[33m■■■■\u001b[0mstatistics = Statistics\n",
            "\u001b[31m■■■■\u001b[0m\u001b[33m■■■■\u001b[0m\u001b[32m■■■■\u001b[0m\u001b[34m■■■■\u001b[0m\u001b[31m■■■■\u001b[0m\u001b[33m■■■■\u001b[0m\u001b[32m■■■■\u001b[0mmax = b'small'\n",
            "\u001b[31m■■■■\u001b[0m\u001b[33m■■■■\u001b[0m\u001b[32m■■■■\u001b[0m\u001b[34m■■■■\u001b[0m\u001b[31m■■■■\u001b[0m\u001b[33m■■■■\u001b[0m\u001b[32m■■■■\u001b[0mmin = b'small'\n",
            "\u001b[31m■■■■\u001b[0m\u001b[33m■■■■\u001b[0m\u001b[32m■■■■\u001b[0m\u001b[34m■■■■\u001b[0m\u001b[31m■■■■\u001b[0m\u001b[33m■■■■\u001b[0m\u001b[32m■■■■\u001b[0mmax_value = b'small'\n",
            "\u001b[31m■■■■\u001b[0m\u001b[33m■■■■\u001b[0m\u001b[32m■■■■\u001b[0m\u001b[34m■■■■\u001b[0m\u001b[31m■■■■\u001b[0m\u001b[33m■■■■\u001b[0m\u001b[32m■■■■\u001b[0mmin_value = b'small'\n",
            "\u001b[31m■■■■\u001b[0m\u001b[33m■■■■\u001b[0m\u001b[32m■■■■\u001b[0m\u001b[34m■■■■\u001b[0m\u001b[31m■■■■\u001b[0m\u001b[33m■■■■\u001b[0mencoding_stats = list\n",
            "\u001b[31m■■■■\u001b[0m\u001b[33m■■■■\u001b[0m\u001b[32m■■■■\u001b[0m\u001b[34m■■■■\u001b[0m\u001b[31m■■■■\u001b[0m\u001b[33m■■■■\u001b[0m\u001b[32m■■■■\u001b[0mPageEncodingStats\n",
            "\u001b[31m■■■■\u001b[0m\u001b[33m■■■■\u001b[0m\u001b[32m■■■■\u001b[0m\u001b[34m■■■■\u001b[0m\u001b[31m■■■■\u001b[0m\u001b[33m■■■■\u001b[0m\u001b[32m■■■■\u001b[0m\u001b[34m■■■■\u001b[0mpage_type = 2\n",
            "\u001b[31m■■■■\u001b[0m\u001b[33m■■■■\u001b[0m\u001b[32m■■■■\u001b[0m\u001b[34m■■■■\u001b[0m\u001b[31m■■■■\u001b[0m\u001b[33m■■■■\u001b[0m\u001b[32m■■■■\u001b[0m\u001b[34m■■■■\u001b[0mencoding = 2\n",
            "\u001b[31m■■■■\u001b[0m\u001b[33m■■■■\u001b[0m\u001b[32m■■■■\u001b[0m\u001b[34m■■■■\u001b[0m\u001b[31m■■■■\u001b[0m\u001b[33m■■■■\u001b[0m\u001b[32m■■■■\u001b[0m\u001b[34m■■■■\u001b[0mcount = 1\n",
            "\u001b[31m■■■■\u001b[0m\u001b[33m■■■■\u001b[0m\u001b[32m■■■■\u001b[0m\u001b[34m■■■■\u001b[0m\u001b[31m■■■■\u001b[0m\u001b[33m■■■■\u001b[0m\u001b[32m■■■■\u001b[0mPageEncodingStats\n",
            "\u001b[31m■■■■\u001b[0m\u001b[33m■■■■\u001b[0m\u001b[32m■■■■\u001b[0m\u001b[34m■■■■\u001b[0m\u001b[31m■■■■\u001b[0m\u001b[33m■■■■\u001b[0m\u001b[32m■■■■\u001b[0m\u001b[34m■■■■\u001b[0mencoding = 2\n",
            "\u001b[31m■■■■\u001b[0m\u001b[33m■■■■\u001b[0m\u001b[32m■■■■\u001b[0m\u001b[34m■■■■\u001b[0m\u001b[31m■■■■\u001b[0m\u001b[33m■■■■\u001b[0m\u001b[32m■■■■\u001b[0m\u001b[34m■■■■\u001b[0mcount = 1\n",
            "\u001b[31m■■■■\u001b[0m\u001b[33m■■■■\u001b[0m\u001b[32m■■■■\u001b[0m\u001b[34m■■■■\u001b[0m\u001b[31m■■■■\u001b[0moffset_index_offset = 4374\n",
            "\u001b[31m■■■■\u001b[0m\u001b[33m■■■■\u001b[0m\u001b[32m■■■■\u001b[0m\u001b[34m■■■■\u001b[0m\u001b[31m■■■■\u001b[0moffset_index_length = 11\n",
            "\u001b[31m■■■■\u001b[0m\u001b[33m■■■■\u001b[0m\u001b[32m■■■■\u001b[0m\u001b[34m■■■■\u001b[0m\u001b[31m■■■■\u001b[0mcolumn_index_offset = 4093\n",
            "\u001b[31m■■■■\u001b[0m\u001b[33m■■■■\u001b[0m\u001b[32m■■■■\u001b[0m\u001b[34m■■■■\u001b[0m\u001b[31m■■■■\u001b[0mcolumn_index_length = 25\n",
            "\u001b[31m■■■■\u001b[0m\u001b[33m■■■■\u001b[0m\u001b[32m■■■■\u001b[0m\u001b[34m■■■■\u001b[0mColumnChunk\n",
            "\u001b[31m■■■■\u001b[0m\u001b[33m■■■■\u001b[0m\u001b[32m■■■■\u001b[0m\u001b[34m■■■■\u001b[0m\u001b[31m■■■■\u001b[0mfile_offset = 2372\n",
            "\u001b[31m■■■■\u001b[0m\u001b[33m■■■■\u001b[0m\u001b[32m■■■■\u001b[0m\u001b[34m■■■■\u001b[0m\u001b[31m■■■■\u001b[0mmeta_data = ColumnMetaData\n",
            "\u001b[31m■■■■\u001b[0m\u001b[33m■■■■\u001b[0m\u001b[32m■■■■\u001b[0m\u001b[34m■■■■\u001b[0m\u001b[31m■■■■\u001b[0m\u001b[33m■■■■\u001b[0mtype = 6\n",
            "\u001b[31m■■■■\u001b[0m\u001b[33m■■■■\u001b[0m\u001b[32m■■■■\u001b[0m\u001b[34m■■■■\u001b[0m\u001b[31m■■■■\u001b[0m\u001b[33m■■■■\u001b[0mencodings = list\n",
            "\u001b[31m■■■■\u001b[0m\u001b[33m■■■■\u001b[0m\u001b[32m■■■■\u001b[0m\u001b[34m■■■■\u001b[0m\u001b[31m■■■■\u001b[0m\u001b[33m■■■■\u001b[0m\u001b[32m■■■■\u001b[0m3\n",
            "\u001b[31m■■■■\u001b[0m\u001b[33m■■■■\u001b[0m\u001b[32m■■■■\u001b[0m\u001b[34m■■■■\u001b[0m\u001b[31m■■■■\u001b[0m\u001b[33m■■■■\u001b[0m\u001b[32m■■■■\u001b[0m4\n",
            "\u001b[31m■■■■\u001b[0m\u001b[33m■■■■\u001b[0m\u001b[32m■■■■\u001b[0m\u001b[34m■■■■\u001b[0m\u001b[31m■■■■\u001b[0m\u001b[33m■■■■\u001b[0m\u001b[32m■■■■\u001b[0m2\n",
            "\u001b[31m■■■■\u001b[0m\u001b[33m■■■■\u001b[0m\u001b[32m■■■■\u001b[0m\u001b[34m■■■■\u001b[0m\u001b[31m■■■■\u001b[0m\u001b[33m■■■■\u001b[0mpath_in_schema = list\n",
            "\u001b[31m■■■■\u001b[0m\u001b[33m■■■■\u001b[0m\u001b[32m■■■■\u001b[0m\u001b[34m■■■■\u001b[0m\u001b[31m■■■■\u001b[0m\u001b[33m■■■■\u001b[0m\u001b[32m■■■■\u001b[0mproductid\n",
            "\u001b[31m■■■■\u001b[0m\u001b[33m■■■■\u001b[0m\u001b[32m■■■■\u001b[0m\u001b[34m■■■■\u001b[0m\u001b[31m■■■■\u001b[0m\u001b[33m■■■■\u001b[0mcodec = 1\n",
            "\u001b[31m■■■■\u001b[0m\u001b[33m■■■■\u001b[0m\u001b[32m■■■■\u001b[0m\u001b[34m■■■■\u001b[0m\u001b[31m■■■■\u001b[0m\u001b[33m■■■■\u001b[0mnum_values = 250\n",
            "\u001b[31m■■■■\u001b[0m\u001b[33m■■■■\u001b[0m\u001b[32m■■■■\u001b[0m\u001b[34m■■■■\u001b[0m\u001b[31m■■■■\u001b[0m\u001b[33m■■■■\u001b[0mtotal_uncompressed_size = 848\n",
            "\u001b[31m■■■■\u001b[0m\u001b[33m■■■■\u001b[0m\u001b[32m■■■■\u001b[0m\u001b[34m■■■■\u001b[0m\u001b[31m■■■■\u001b[0m\u001b[33m■■■■\u001b[0mtotal_compressed_size = 601\n",
            "\u001b[31m■■■■\u001b[0m\u001b[33m■■■■\u001b[0m\u001b[32m■■■■\u001b[0m\u001b[34m■■■■\u001b[0m\u001b[31m■■■■\u001b[0m\u001b[33m■■■■\u001b[0mdata_page_offset = 2372\n",
            "\u001b[31m■■■■\u001b[0m\u001b[33m■■■■\u001b[0m\u001b[32m■■■■\u001b[0m\u001b[34m■■■■\u001b[0m\u001b[31m■■■■\u001b[0m\u001b[33m■■■■\u001b[0mdictionary_page_offset = 2002\n",
            "\u001b[31m■■■■\u001b[0m\u001b[33m■■■■\u001b[0m\u001b[32m■■■■\u001b[0m\u001b[34m■■■■\u001b[0m\u001b[31m■■■■\u001b[0m\u001b[33m■■■■\u001b[0mstatistics = Statistics\n",
            "\u001b[31m■■■■\u001b[0m\u001b[33m■■■■\u001b[0m\u001b[32m■■■■\u001b[0m\u001b[34m■■■■\u001b[0m\u001b[31m■■■■\u001b[0m\u001b[33m■■■■\u001b[0m\u001b[32m■■■■\u001b[0mmax_value = b'TSH_9'\n",
            "\u001b[31m■■■■\u001b[0m\u001b[33m■■■■\u001b[0m\u001b[32m■■■■\u001b[0m\u001b[34m■■■■\u001b[0m\u001b[31m■■■■\u001b[0m\u001b[33m■■■■\u001b[0m\u001b[32m■■■■\u001b[0mmin_value = b'BED_24'\n",
            "\u001b[31m■■■■\u001b[0m\u001b[33m■■■■\u001b[0m\u001b[32m■■■■\u001b[0m\u001b[34m■■■■\u001b[0m\u001b[31m■■■■\u001b[0m\u001b[33m■■■■\u001b[0mencoding_stats = list\n",
            "\u001b[31m■■■■\u001b[0m\u001b[33m■■■■\u001b[0m\u001b[32m■■■■\u001b[0m\u001b[34m■■■■\u001b[0m\u001b[31m■■■■\u001b[0m\u001b[33m■■■■\u001b[0m\u001b[32m■■■■\u001b[0mPageEncodingStats\n",
            "\u001b[31m■■■■\u001b[0m\u001b[33m■■■■\u001b[0m\u001b[32m■■■■\u001b[0m\u001b[34m■■■■\u001b[0m\u001b[31m■■■■\u001b[0m\u001b[33m■■■■\u001b[0m\u001b[32m■■■■\u001b[0m\u001b[34m■■■■\u001b[0mpage_type = 2\n",
            "\u001b[31m■■■■\u001b[0m\u001b[33m■■■■\u001b[0m\u001b[32m■■■■\u001b[0m\u001b[34m■■■■\u001b[0m\u001b[31m■■■■\u001b[0m\u001b[33m■■■■\u001b[0m\u001b[32m■■■■\u001b[0m\u001b[34m■■■■\u001b[0mencoding = 2\n",
            "\u001b[31m■■■■\u001b[0m\u001b[33m■■■■\u001b[0m\u001b[32m■■■■\u001b[0m\u001b[34m■■■■\u001b[0m\u001b[31m■■■■\u001b[0m\u001b[33m■■■■\u001b[0m\u001b[32m■■■■\u001b[0m\u001b[34m■■■■\u001b[0mcount = 1\n",
            "\u001b[31m■■■■\u001b[0m\u001b[33m■■■■\u001b[0m\u001b[32m■■■■\u001b[0m\u001b[34m■■■■\u001b[0m\u001b[31m■■■■\u001b[0m\u001b[33m■■■■\u001b[0m\u001b[32m■■■■\u001b[0mPageEncodingStats\n",
            "\u001b[31m■■■■\u001b[0m\u001b[33m■■■■\u001b[0m\u001b[32m■■■■\u001b[0m\u001b[34m■■■■\u001b[0m\u001b[31m■■■■\u001b[0m\u001b[33m■■■■\u001b[0m\u001b[32m■■■■\u001b[0m\u001b[34m■■■■\u001b[0mencoding = 2\n",
            "\u001b[31m■■■■\u001b[0m\u001b[33m■■■■\u001b[0m\u001b[32m■■■■\u001b[0m\u001b[34m■■■■\u001b[0m\u001b[31m■■■■\u001b[0m\u001b[33m■■■■\u001b[0m\u001b[32m■■■■\u001b[0m\u001b[34m■■■■\u001b[0mcount = 1\n",
            "\u001b[31m■■■■\u001b[0m\u001b[33m■■■■\u001b[0m\u001b[32m■■■■\u001b[0m\u001b[34m■■■■\u001b[0m\u001b[31m■■■■\u001b[0moffset_index_offset = 4385\n",
            "\u001b[31m■■■■\u001b[0m\u001b[33m■■■■\u001b[0m\u001b[32m■■■■\u001b[0m\u001b[34m■■■■\u001b[0m\u001b[31m■■■■\u001b[0moffset_index_length = 12\n",
            "\u001b[31m■■■■\u001b[0m\u001b[33m■■■■\u001b[0m\u001b[32m■■■■\u001b[0m\u001b[34m■■■■\u001b[0m\u001b[31m■■■■\u001b[0mcolumn_index_offset = 4118\n",
            "\u001b[31m■■■■\u001b[0m\u001b[33m■■■■\u001b[0m\u001b[32m■■■■\u001b[0m\u001b[34m■■■■\u001b[0m\u001b[31m■■■■\u001b[0mcolumn_index_length = 26\n",
            "\u001b[31m■■■■\u001b[0m\u001b[33m■■■■\u001b[0m\u001b[32m■■■■\u001b[0m\u001b[34m■■■■\u001b[0mColumnChunk\n",
            "\u001b[31m■■■■\u001b[0m\u001b[33m■■■■\u001b[0m\u001b[32m■■■■\u001b[0m\u001b[34m■■■■\u001b[0m\u001b[31m■■■■\u001b[0mfile_offset = 2646\n",
            "\u001b[31m■■■■\u001b[0m\u001b[33m■■■■\u001b[0m\u001b[32m■■■■\u001b[0m\u001b[34m■■■■\u001b[0m\u001b[31m■■■■\u001b[0mmeta_data = ColumnMetaData\n",
            "\u001b[31m■■■■\u001b[0m\u001b[33m■■■■\u001b[0m\u001b[32m■■■■\u001b[0m\u001b[34m■■■■\u001b[0m\u001b[31m■■■■\u001b[0m\u001b[33m■■■■\u001b[0mtype = 6\n",
            "\u001b[31m■■■■\u001b[0m\u001b[33m■■■■\u001b[0m\u001b[32m■■■■\u001b[0m\u001b[34m■■■■\u001b[0m\u001b[31m■■■■\u001b[0m\u001b[33m■■■■\u001b[0mencodings = list\n",
            "\u001b[31m■■■■\u001b[0m\u001b[33m■■■■\u001b[0m\u001b[32m■■■■\u001b[0m\u001b[34m■■■■\u001b[0m\u001b[31m■■■■\u001b[0m\u001b[33m■■■■\u001b[0m\u001b[32m■■■■\u001b[0m3\n",
            "\u001b[31m■■■■\u001b[0m\u001b[33m■■■■\u001b[0m\u001b[32m■■■■\u001b[0m\u001b[34m■■■■\u001b[0m\u001b[31m■■■■\u001b[0m\u001b[33m■■■■\u001b[0m\u001b[32m■■■■\u001b[0m4\n",
            "\u001b[31m■■■■\u001b[0m\u001b[33m■■■■\u001b[0m\u001b[32m■■■■\u001b[0m\u001b[34m■■■■\u001b[0m\u001b[31m■■■■\u001b[0m\u001b[33m■■■■\u001b[0m\u001b[32m■■■■\u001b[0m2\n",
            "\u001b[31m■■■■\u001b[0m\u001b[33m■■■■\u001b[0m\u001b[32m■■■■\u001b[0m\u001b[34m■■■■\u001b[0m\u001b[31m■■■■\u001b[0m\u001b[33m■■■■\u001b[0mpath_in_schema = list\n",
            "\u001b[31m■■■■\u001b[0m\u001b[33m■■■■\u001b[0m\u001b[32m■■■■\u001b[0m\u001b[34m■■■■\u001b[0m\u001b[31m■■■■\u001b[0m\u001b[33m■■■■\u001b[0m\u001b[32m■■■■\u001b[0mcategory\n",
            "\u001b[31m■■■■\u001b[0m\u001b[33m■■■■\u001b[0m\u001b[32m■■■■\u001b[0m\u001b[34m■■■■\u001b[0m\u001b[31m■■■■\u001b[0m\u001b[33m■■■■\u001b[0mcodec = 1\n",
            "\u001b[31m■■■■\u001b[0m\u001b[33m■■■■\u001b[0m\u001b[32m■■■■\u001b[0m\u001b[34m■■■■\u001b[0m\u001b[31m■■■■\u001b[0m\u001b[33m■■■■\u001b[0mnum_values = 250\n",
            "\u001b[31m■■■■\u001b[0m\u001b[33m■■■■\u001b[0m\u001b[32m■■■■\u001b[0m\u001b[34m■■■■\u001b[0m\u001b[31m■■■■\u001b[0m\u001b[33m■■■■\u001b[0mtotal_uncompressed_size = 111\n",
            "\u001b[31m■■■■\u001b[0m\u001b[33m■■■■\u001b[0m\u001b[32m■■■■\u001b[0m\u001b[34m■■■■\u001b[0m\u001b[31m■■■■\u001b[0m\u001b[33m■■■■\u001b[0mtotal_compressed_size = 102\n",
            "\u001b[31m■■■■\u001b[0m\u001b[33m■■■■\u001b[0m\u001b[32m■■■■\u001b[0m\u001b[34m■■■■\u001b[0m\u001b[31m■■■■\u001b[0m\u001b[33m■■■■\u001b[0mdata_page_offset = 2646\n",
            "\u001b[31m■■■■\u001b[0m\u001b[33m■■■■\u001b[0m\u001b[32m■■■■\u001b[0m\u001b[34m■■■■\u001b[0m\u001b[31m■■■■\u001b[0m\u001b[33m■■■■\u001b[0mdictionary_page_offset = 2603\n",
            "\u001b[31m■■■■\u001b[0m\u001b[33m■■■■\u001b[0m\u001b[32m■■■■\u001b[0m\u001b[34m■■■■\u001b[0m\u001b[31m■■■■\u001b[0m\u001b[33m■■■■\u001b[0mstatistics = Statistics\n",
            "\u001b[31m■■■■\u001b[0m\u001b[33m■■■■\u001b[0m\u001b[32m■■■■\u001b[0m\u001b[34m■■■■\u001b[0m\u001b[31m■■■■\u001b[0m\u001b[33m■■■■\u001b[0m\u001b[32m■■■■\u001b[0mmax_value = b'Furniture'\n",
            "\u001b[31m■■■■\u001b[0m\u001b[33m■■■■\u001b[0m\u001b[32m■■■■\u001b[0m\u001b[34m■■■■\u001b[0m\u001b[31m■■■■\u001b[0m\u001b[33m■■■■\u001b[0m\u001b[32m■■■■\u001b[0mmin_value = b'Cloth'\n",
            "\u001b[31m■■■■\u001b[0m\u001b[33m■■■■\u001b[0m\u001b[32m■■■■\u001b[0m\u001b[34m■■■■\u001b[0m\u001b[31m■■■■\u001b[0m\u001b[33m■■■■\u001b[0mencoding_stats = list\n",
            "\u001b[31m■■■■\u001b[0m\u001b[33m■■■■\u001b[0m\u001b[32m■■■■\u001b[0m\u001b[34m■■■■\u001b[0m\u001b[31m■■■■\u001b[0m\u001b[33m■■■■\u001b[0m\u001b[32m■■■■\u001b[0mPageEncodingStats\n",
            "\u001b[31m■■■■\u001b[0m\u001b[33m■■■■\u001b[0m\u001b[32m■■■■\u001b[0m\u001b[34m■■■■\u001b[0m\u001b[31m■■■■\u001b[0m\u001b[33m■■■■\u001b[0m\u001b[32m■■■■\u001b[0m\u001b[34m■■■■\u001b[0mpage_type = 2\n",
            "\u001b[31m■■■■\u001b[0m\u001b[33m■■■■\u001b[0m\u001b[32m■■■■\u001b[0m\u001b[34m■■■■\u001b[0m\u001b[31m■■■■\u001b[0m\u001b[33m■■■■\u001b[0m\u001b[32m■■■■\u001b[0m\u001b[34m■■■■\u001b[0mencoding = 2\n",
            "\u001b[31m■■■■\u001b[0m\u001b[33m■■■■\u001b[0m\u001b[32m■■■■\u001b[0m\u001b[34m■■■■\u001b[0m\u001b[31m■■■■\u001b[0m\u001b[33m■■■■\u001b[0m\u001b[32m■■■■\u001b[0m\u001b[34m■■■■\u001b[0mcount = 1\n",
            "\u001b[31m■■■■\u001b[0m\u001b[33m■■■■\u001b[0m\u001b[32m■■■■\u001b[0m\u001b[34m■■■■\u001b[0m\u001b[31m■■■■\u001b[0m\u001b[33m■■■■\u001b[0m\u001b[32m■■■■\u001b[0mPageEncodingStats\n",
            "\u001b[31m■■■■\u001b[0m\u001b[33m■■■■\u001b[0m\u001b[32m■■■■\u001b[0m\u001b[34m■■■■\u001b[0m\u001b[31m■■■■\u001b[0m\u001b[33m■■■■\u001b[0m\u001b[32m■■■■\u001b[0m\u001b[34m■■■■\u001b[0mencoding = 2\n",
            "\u001b[31m■■■■\u001b[0m\u001b[33m■■■■\u001b[0m\u001b[32m■■■■\u001b[0m\u001b[34m■■■■\u001b[0m\u001b[31m■■■■\u001b[0m\u001b[33m■■■■\u001b[0m\u001b[32m■■■■\u001b[0m\u001b[34m■■■■\u001b[0mcount = 1\n",
            "\u001b[31m■■■■\u001b[0m\u001b[33m■■■■\u001b[0m\u001b[32m■■■■\u001b[0m\u001b[34m■■■■\u001b[0m\u001b[31m■■■■\u001b[0moffset_index_offset = 4397\n",
            "\u001b[31m■■■■\u001b[0m\u001b[33m■■■■\u001b[0m\u001b[32m■■■■\u001b[0m\u001b[34m■■■■\u001b[0m\u001b[31m■■■■\u001b[0moffset_index_length = 11\n",
            "\u001b[31m■■■■\u001b[0m\u001b[33m■■■■\u001b[0m\u001b[32m■■■■\u001b[0m\u001b[34m■■■■\u001b[0m\u001b[31m■■■■\u001b[0mcolumn_index_offset = 4144\n",
            "\u001b[31m■■■■\u001b[0m\u001b[33m■■■■\u001b[0m\u001b[32m■■■■\u001b[0m\u001b[34m■■■■\u001b[0m\u001b[31m■■■■\u001b[0mcolumn_index_length = 29\n",
            "\u001b[31m■■■■\u001b[0m\u001b[33m■■■■\u001b[0m\u001b[32m■■■■\u001b[0m\u001b[34m■■■■\u001b[0mColumnChunk\n",
            "\u001b[31m■■■■\u001b[0m\u001b[33m■■■■\u001b[0m\u001b[32m■■■■\u001b[0m\u001b[34m■■■■\u001b[0m\u001b[31m■■■■\u001b[0mfile_offset = 2778\n",
            "\u001b[31m■■■■\u001b[0m\u001b[33m■■■■\u001b[0m\u001b[32m■■■■\u001b[0m\u001b[34m■■■■\u001b[0m\u001b[31m■■■■\u001b[0mmeta_data = ColumnMetaData\n",
            "\u001b[31m■■■■\u001b[0m\u001b[33m■■■■\u001b[0m\u001b[32m■■■■\u001b[0m\u001b[34m■■■■\u001b[0m\u001b[31m■■■■\u001b[0m\u001b[33m■■■■\u001b[0mtype = 6\n",
            "\u001b[31m■■■■\u001b[0m\u001b[33m■■■■\u001b[0m\u001b[32m■■■■\u001b[0m\u001b[34m■■■■\u001b[0m\u001b[31m■■■■\u001b[0m\u001b[33m■■■■\u001b[0mencodings = list\n",
            "\u001b[31m■■■■\u001b[0m\u001b[33m■■■■\u001b[0m\u001b[32m■■■■\u001b[0m\u001b[34m■■■■\u001b[0m\u001b[31m■■■■\u001b[0m\u001b[33m■■■■\u001b[0m\u001b[32m■■■■\u001b[0m3\n",
            "\u001b[31m■■■■\u001b[0m\u001b[33m■■■■\u001b[0m\u001b[32m■■■■\u001b[0m\u001b[34m■■■■\u001b[0m\u001b[31m■■■■\u001b[0m\u001b[33m■■■■\u001b[0m\u001b[32m■■■■\u001b[0m4\n",
            "\u001b[31m■■■■\u001b[0m\u001b[33m■■■■\u001b[0m\u001b[32m■■■■\u001b[0m\u001b[34m■■■■\u001b[0m\u001b[31m■■■■\u001b[0m\u001b[33m■■■■\u001b[0m\u001b[32m■■■■\u001b[0m2\n",
            "\u001b[31m■■■■\u001b[0m\u001b[33m■■■■\u001b[0m\u001b[32m■■■■\u001b[0m\u001b[34m■■■■\u001b[0m\u001b[31m■■■■\u001b[0m\u001b[33m■■■■\u001b[0mpath_in_schema = list\n",
            "\u001b[31m■■■■\u001b[0m\u001b[33m■■■■\u001b[0m\u001b[32m■■■■\u001b[0m\u001b[34m■■■■\u001b[0m\u001b[31m■■■■\u001b[0m\u001b[33m■■■■\u001b[0m\u001b[32m■■■■\u001b[0msubcategory\n",
            "\u001b[31m■■■■\u001b[0m\u001b[33m■■■■\u001b[0m\u001b[32m■■■■\u001b[0m\u001b[34m■■■■\u001b[0m\u001b[31m■■■■\u001b[0m\u001b[33m■■■■\u001b[0mcodec = 1\n",
            "\u001b[31m■■■■\u001b[0m\u001b[33m■■■■\u001b[0m\u001b[32m■■■■\u001b[0m\u001b[34m■■■■\u001b[0m\u001b[31m■■■■\u001b[0m\u001b[33m■■■■\u001b[0mnum_values = 250\n",
            "\u001b[31m■■■■\u001b[0m\u001b[33m■■■■\u001b[0m\u001b[32m■■■■\u001b[0m\u001b[34m■■■■\u001b[0m\u001b[31m■■■■\u001b[0m\u001b[33m■■■■\u001b[0mtotal_uncompressed_size = 204\n",
            "\u001b[31m■■■■\u001b[0m\u001b[33m■■■■\u001b[0m\u001b[32m■■■■\u001b[0m\u001b[34m■■■■\u001b[0m\u001b[31m■■■■\u001b[0m\u001b[33m■■■■\u001b[0mtotal_compressed_size = 201\n",
            "\u001b[31m■■■■\u001b[0m\u001b[33m■■■■\u001b[0m\u001b[32m■■■■\u001b[0m\u001b[34m■■■■\u001b[0m\u001b[31m■■■■\u001b[0m\u001b[33m■■■■\u001b[0mdata_page_offset = 2778\n",
            "\u001b[31m■■■■\u001b[0m\u001b[33m■■■■\u001b[0m\u001b[32m■■■■\u001b[0m\u001b[34m■■■■\u001b[0m\u001b[31m■■■■\u001b[0m\u001b[33m■■■■\u001b[0mdictionary_page_offset = 2705\n",
            "\u001b[31m■■■■\u001b[0m\u001b[33m■■■■\u001b[0m\u001b[32m■■■■\u001b[0m\u001b[34m■■■■\u001b[0m\u001b[31m■■■■\u001b[0m\u001b[33m■■■■\u001b[0mstatistics = Statistics\n",
            "\u001b[31m■■■■\u001b[0m\u001b[33m■■■■\u001b[0m\u001b[32m■■■■\u001b[0m\u001b[34m■■■■\u001b[0m\u001b[31m■■■■\u001b[0m\u001b[33m■■■■\u001b[0m\u001b[32m■■■■\u001b[0mmax_value = b'Tshirt'\n",
            "\u001b[31m■■■■\u001b[0m\u001b[33m■■■■\u001b[0m\u001b[32m■■■■\u001b[0m\u001b[34m■■■■\u001b[0m\u001b[31m■■■■\u001b[0m\u001b[33m■■■■\u001b[0m\u001b[32m■■■■\u001b[0mmin_value = b'Bed'\n",
            "\u001b[31m■■■■\u001b[0m\u001b[33m■■■■\u001b[0m\u001b[32m■■■■\u001b[0m\u001b[34m■■■■\u001b[0m\u001b[31m■■■■\u001b[0m\u001b[33m■■■■\u001b[0mencoding_stats = list\n",
            "\u001b[31m■■■■\u001b[0m\u001b[33m■■■■\u001b[0m\u001b[32m■■■■\u001b[0m\u001b[34m■■■■\u001b[0m\u001b[31m■■■■\u001b[0m\u001b[33m■■■■\u001b[0m\u001b[32m■■■■\u001b[0mPageEncodingStats\n",
            "\u001b[31m■■■■\u001b[0m\u001b[33m■■■■\u001b[0m\u001b[32m■■■■\u001b[0m\u001b[34m■■■■\u001b[0m\u001b[31m■■■■\u001b[0m\u001b[33m■■■■\u001b[0m\u001b[32m■■■■\u001b[0m\u001b[34m■■■■\u001b[0mpage_type = 2\n",
            "\u001b[31m■■■■\u001b[0m\u001b[33m■■■■\u001b[0m\u001b[32m■■■■\u001b[0m\u001b[34m■■■■\u001b[0m\u001b[31m■■■■\u001b[0m\u001b[33m■■■■\u001b[0m\u001b[32m■■■■\u001b[0m\u001b[34m■■■■\u001b[0mencoding = 2\n",
            "\u001b[31m■■■■\u001b[0m\u001b[33m■■■■\u001b[0m\u001b[32m■■■■\u001b[0m\u001b[34m■■■■\u001b[0m\u001b[31m■■■■\u001b[0m\u001b[33m■■■■\u001b[0m\u001b[32m■■■■\u001b[0m\u001b[34m■■■■\u001b[0mcount = 1\n",
            "\u001b[31m■■■■\u001b[0m\u001b[33m■■■■\u001b[0m\u001b[32m■■■■\u001b[0m\u001b[34m■■■■\u001b[0m\u001b[31m■■■■\u001b[0m\u001b[33m■■■■\u001b[0m\u001b[32m■■■■\u001b[0mPageEncodingStats\n",
            "\u001b[31m■■■■\u001b[0m\u001b[33m■■■■\u001b[0m\u001b[32m■■■■\u001b[0m\u001b[34m■■■■\u001b[0m\u001b[31m■■■■\u001b[0m\u001b[33m■■■■\u001b[0m\u001b[32m■■■■\u001b[0m\u001b[34m■■■■\u001b[0mencoding = 2\n",
            "\u001b[31m■■■■\u001b[0m\u001b[33m■■■■\u001b[0m\u001b[32m■■■■\u001b[0m\u001b[34m■■■■\u001b[0m\u001b[31m■■■■\u001b[0m\u001b[33m■■■■\u001b[0m\u001b[32m■■■■\u001b[0m\u001b[34m■■■■\u001b[0mcount = 1\n",
            "\u001b[31m■■■■\u001b[0m\u001b[33m■■■■\u001b[0m\u001b[32m■■■■\u001b[0m\u001b[34m■■■■\u001b[0m\u001b[31m■■■■\u001b[0moffset_index_offset = 4408\n",
            "\u001b[31m■■■■\u001b[0m\u001b[33m■■■■\u001b[0m\u001b[32m■■■■\u001b[0m\u001b[34m■■■■\u001b[0m\u001b[31m■■■■\u001b[0moffset_index_length = 12\n",
            "\u001b[31m■■■■\u001b[0m\u001b[33m■■■■\u001b[0m\u001b[32m■■■■\u001b[0m\u001b[34m■■■■\u001b[0m\u001b[31m■■■■\u001b[0mcolumn_index_offset = 4173\n",
            "\u001b[31m■■■■\u001b[0m\u001b[33m■■■■\u001b[0m\u001b[32m■■■■\u001b[0m\u001b[34m■■■■\u001b[0m\u001b[31m■■■■\u001b[0mcolumn_index_length = 24\n",
            "\u001b[31m■■■■\u001b[0m\u001b[33m■■■■\u001b[0m\u001b[32m■■■■\u001b[0m\u001b[34m■■■■\u001b[0mColumnChunk\n",
            "\u001b[31m■■■■\u001b[0m\u001b[33m■■■■\u001b[0m\u001b[32m■■■■\u001b[0m\u001b[34m■■■■\u001b[0m\u001b[31m■■■■\u001b[0mfile_offset = 3029\n",
            "\u001b[31m■■■■\u001b[0m\u001b[33m■■■■\u001b[0m\u001b[32m■■■■\u001b[0m\u001b[34m■■■■\u001b[0m\u001b[31m■■■■\u001b[0mmeta_data = ColumnMetaData\n",
            "\u001b[31m■■■■\u001b[0m\u001b[33m■■■■\u001b[0m\u001b[32m■■■■\u001b[0m\u001b[34m■■■■\u001b[0m\u001b[31m■■■■\u001b[0m\u001b[33m■■■■\u001b[0mtype = 6\n",
            "\u001b[31m■■■■\u001b[0m\u001b[33m■■■■\u001b[0m\u001b[32m■■■■\u001b[0m\u001b[34m■■■■\u001b[0m\u001b[31m■■■■\u001b[0m\u001b[33m■■■■\u001b[0mencodings = list\n",
            "\u001b[31m■■■■\u001b[0m\u001b[33m■■■■\u001b[0m\u001b[32m■■■■\u001b[0m\u001b[34m■■■■\u001b[0m\u001b[31m■■■■\u001b[0m\u001b[33m■■■■\u001b[0m\u001b[32m■■■■\u001b[0m3\n",
            "\u001b[31m■■■■\u001b[0m\u001b[33m■■■■\u001b[0m\u001b[32m■■■■\u001b[0m\u001b[34m■■■■\u001b[0m\u001b[31m■■■■\u001b[0m\u001b[33m■■■■\u001b[0m\u001b[32m■■■■\u001b[0m4\n",
            "\u001b[31m■■■■\u001b[0m\u001b[33m■■■■\u001b[0m\u001b[32m■■■■\u001b[0m\u001b[34m■■■■\u001b[0m\u001b[31m■■■■\u001b[0m\u001b[33m■■■■\u001b[0m\u001b[32m■■■■\u001b[0m2\n",
            "\u001b[31m■■■■\u001b[0m\u001b[33m■■■■\u001b[0m\u001b[32m■■■■\u001b[0m\u001b[34m■■■■\u001b[0m\u001b[31m■■■■\u001b[0m\u001b[33m■■■■\u001b[0mpath_in_schema = list\n",
            "\u001b[31m■■■■\u001b[0m\u001b[33m■■■■\u001b[0m\u001b[32m■■■■\u001b[0m\u001b[34m■■■■\u001b[0m\u001b[31m■■■■\u001b[0m\u001b[33m■■■■\u001b[0m\u001b[32m■■■■\u001b[0msize\n",
            "\u001b[31m■■■■\u001b[0m\u001b[33m■■■■\u001b[0m\u001b[32m■■■■\u001b[0m\u001b[34m■■■■\u001b[0m\u001b[31m■■■■\u001b[0m\u001b[33m■■■■\u001b[0mcodec = 1\n",
            "\u001b[31m■■■■\u001b[0m\u001b[33m■■■■\u001b[0m\u001b[32m■■■■\u001b[0m\u001b[34m■■■■\u001b[0m\u001b[31m■■■■\u001b[0m\u001b[33m■■■■\u001b[0mnum_values = 250\n",
            "\u001b[31m■■■■\u001b[0m\u001b[33m■■■■\u001b[0m\u001b[32m■■■■\u001b[0m\u001b[34m■■■■\u001b[0m\u001b[31m■■■■\u001b[0m\u001b[33m■■■■\u001b[0mtotal_uncompressed_size = 336\n",
            "\u001b[31m■■■■\u001b[0m\u001b[33m■■■■\u001b[0m\u001b[32m■■■■\u001b[0m\u001b[34m■■■■\u001b[0m\u001b[31m■■■■\u001b[0m\u001b[33m■■■■\u001b[0mtotal_compressed_size = 325\n",
            "\u001b[31m■■■■\u001b[0m\u001b[33m■■■■\u001b[0m\u001b[32m■■■■\u001b[0m\u001b[34m■■■■\u001b[0m\u001b[31m■■■■\u001b[0m\u001b[33m■■■■\u001b[0mdata_page_offset = 3029\n",
            "\u001b[31m■■■■\u001b[0m\u001b[33m■■■■\u001b[0m\u001b[32m■■■■\u001b[0m\u001b[34m■■■■\u001b[0m\u001b[31m■■■■\u001b[0m\u001b[33m■■■■\u001b[0mdictionary_page_offset = 2906\n",
            "\u001b[31m■■■■\u001b[0m\u001b[33m■■■■\u001b[0m\u001b[32m■■■■\u001b[0m\u001b[34m■■■■\u001b[0m\u001b[31m■■■■\u001b[0m\u001b[33m■■■■\u001b[0mstatistics = Statistics\n",
            "\u001b[31m■■■■\u001b[0m\u001b[33m■■■■\u001b[0m\u001b[32m■■■■\u001b[0m\u001b[34m■■■■\u001b[0m\u001b[31m■■■■\u001b[0m\u001b[33m■■■■\u001b[0m\u001b[32m■■■■\u001b[0mnull_count = 12\n",
            "\u001b[31m■■■■\u001b[0m\u001b[33m■■■■\u001b[0m\u001b[32m■■■■\u001b[0m\u001b[34m■■■■\u001b[0m\u001b[31m■■■■\u001b[0m\u001b[33m■■■■\u001b[0m\u001b[32m■■■■\u001b[0mmax_value = b'XS'\n",
            "\u001b[31m■■■■\u001b[0m\u001b[33m■■■■\u001b[0m\u001b[32m■■■■\u001b[0m\u001b[34m■■■■\u001b[0m\u001b[31m■■■■\u001b[0m\u001b[33m■■■■\u001b[0m\u001b[32m■■■■\u001b[0mmin_value = b'10'\n",
            "\u001b[31m■■■■\u001b[0m\u001b[33m■■■■\u001b[0m\u001b[32m■■■■\u001b[0m\u001b[34m■■■■\u001b[0m\u001b[31m■■■■\u001b[0m\u001b[33m■■■■\u001b[0mencoding_stats = list\n",
            "\u001b[31m■■■■\u001b[0m\u001b[33m■■■■\u001b[0m\u001b[32m■■■■\u001b[0m\u001b[34m■■■■\u001b[0m\u001b[31m■■■■\u001b[0m\u001b[33m■■■■\u001b[0m\u001b[32m■■■■\u001b[0mPageEncodingStats\n",
            "\u001b[31m■■■■\u001b[0m\u001b[33m■■■■\u001b[0m\u001b[32m■■■■\u001b[0m\u001b[34m■■■■\u001b[0m\u001b[31m■■■■\u001b[0m\u001b[33m■■■■\u001b[0m\u001b[32m■■■■\u001b[0m\u001b[34m■■■■\u001b[0mpage_type = 2\n",
            "\u001b[31m■■■■\u001b[0m\u001b[33m■■■■\u001b[0m\u001b[32m■■■■\u001b[0m\u001b[34m■■■■\u001b[0m\u001b[31m■■■■\u001b[0m\u001b[33m■■■■\u001b[0m\u001b[32m■■■■\u001b[0m\u001b[34m■■■■\u001b[0mencoding = 2\n",
            "\u001b[31m■■■■\u001b[0m\u001b[33m■■■■\u001b[0m\u001b[32m■■■■\u001b[0m\u001b[34m■■■■\u001b[0m\u001b[31m■■■■\u001b[0m\u001b[33m■■■■\u001b[0m\u001b[32m■■■■\u001b[0m\u001b[34m■■■■\u001b[0mcount = 1\n",
            "\u001b[31m■■■■\u001b[0m\u001b[33m■■■■\u001b[0m\u001b[32m■■■■\u001b[0m\u001b[34m■■■■\u001b[0m\u001b[31m■■■■\u001b[0m\u001b[33m■■■■\u001b[0m\u001b[32m■■■■\u001b[0mPageEncodingStats\n",
            "\u001b[31m■■■■\u001b[0m\u001b[33m■■■■\u001b[0m\u001b[32m■■■■\u001b[0m\u001b[34m■■■■\u001b[0m\u001b[31m■■■■\u001b[0m\u001b[33m■■■■\u001b[0m\u001b[32m■■■■\u001b[0m\u001b[34m■■■■\u001b[0mencoding = 2\n",
            "\u001b[31m■■■■\u001b[0m\u001b[33m■■■■\u001b[0m\u001b[32m■■■■\u001b[0m\u001b[34m■■■■\u001b[0m\u001b[31m■■■■\u001b[0m\u001b[33m■■■■\u001b[0m\u001b[32m■■■■\u001b[0m\u001b[34m■■■■\u001b[0mcount = 1\n",
            "\u001b[31m■■■■\u001b[0m\u001b[33m■■■■\u001b[0m\u001b[32m■■■■\u001b[0m\u001b[34m■■■■\u001b[0m\u001b[31m■■■■\u001b[0moffset_index_offset = 4420\n",
            "\u001b[31m■■■■\u001b[0m\u001b[33m■■■■\u001b[0m\u001b[32m■■■■\u001b[0m\u001b[34m■■■■\u001b[0m\u001b[31m■■■■\u001b[0moffset_index_length = 12\n",
            "\u001b[31m■■■■\u001b[0m\u001b[33m■■■■\u001b[0m\u001b[32m■■■■\u001b[0m\u001b[34m■■■■\u001b[0m\u001b[31m■■■■\u001b[0mcolumn_index_offset = 4197\n",
            "\u001b[31m■■■■\u001b[0m\u001b[33m■■■■\u001b[0m\u001b[32m■■■■\u001b[0m\u001b[34m■■■■\u001b[0m\u001b[31m■■■■\u001b[0mcolumn_index_length = 19\n",
            "\u001b[31m■■■■\u001b[0m\u001b[33m■■■■\u001b[0m\u001b[32m■■■■\u001b[0m\u001b[34m■■■■\u001b[0mColumnChunk\n",
            "\u001b[31m■■■■\u001b[0m\u001b[33m■■■■\u001b[0m\u001b[32m■■■■\u001b[0m\u001b[34m■■■■\u001b[0m\u001b[31m■■■■\u001b[0mfile_offset = 3348\n",
            "\u001b[31m■■■■\u001b[0m\u001b[33m■■■■\u001b[0m\u001b[32m■■■■\u001b[0m\u001b[34m■■■■\u001b[0m\u001b[31m■■■■\u001b[0mmeta_data = ColumnMetaData\n",
            "\u001b[31m■■■■\u001b[0m\u001b[33m■■■■\u001b[0m\u001b[32m■■■■\u001b[0m\u001b[34m■■■■\u001b[0m\u001b[31m■■■■\u001b[0m\u001b[33m■■■■\u001b[0mtype = 5\n",
            "\u001b[31m■■■■\u001b[0m\u001b[33m■■■■\u001b[0m\u001b[32m■■■■\u001b[0m\u001b[34m■■■■\u001b[0m\u001b[31m■■■■\u001b[0m\u001b[33m■■■■\u001b[0mencodings = list\n",
            "\u001b[31m■■■■\u001b[0m\u001b[33m■■■■\u001b[0m\u001b[32m■■■■\u001b[0m\u001b[34m■■■■\u001b[0m\u001b[31m■■■■\u001b[0m\u001b[33m■■■■\u001b[0m\u001b[32m■■■■\u001b[0m3\n",
            "\u001b[31m■■■■\u001b[0m\u001b[33m■■■■\u001b[0m\u001b[32m■■■■\u001b[0m\u001b[34m■■■■\u001b[0m\u001b[31m■■■■\u001b[0m\u001b[33m■■■■\u001b[0m\u001b[32m■■■■\u001b[0m4\n",
            "\u001b[31m■■■■\u001b[0m\u001b[33m■■■■\u001b[0m\u001b[32m■■■■\u001b[0m\u001b[34m■■■■\u001b[0m\u001b[31m■■■■\u001b[0m\u001b[33m■■■■\u001b[0m\u001b[32m■■■■\u001b[0m2\n",
            "\u001b[31m■■■■\u001b[0m\u001b[33m■■■■\u001b[0m\u001b[32m■■■■\u001b[0m\u001b[34m■■■■\u001b[0m\u001b[31m■■■■\u001b[0m\u001b[33m■■■■\u001b[0mpath_in_schema = list\n",
            "\u001b[31m■■■■\u001b[0m\u001b[33m■■■■\u001b[0m\u001b[32m■■■■\u001b[0m\u001b[34m■■■■\u001b[0m\u001b[31m■■■■\u001b[0m\u001b[33m■■■■\u001b[0m\u001b[32m■■■■\u001b[0mpurchaseprice\n",
            "\u001b[31m■■■■\u001b[0m\u001b[33m■■■■\u001b[0m\u001b[32m■■■■\u001b[0m\u001b[34m■■■■\u001b[0m\u001b[31m■■■■\u001b[0m\u001b[33m■■■■\u001b[0mcodec = 1\n",
            "\u001b[31m■■■■\u001b[0m\u001b[33m■■■■\u001b[0m\u001b[32m■■■■\u001b[0m\u001b[34m■■■■\u001b[0m\u001b[31m■■■■\u001b[0m\u001b[33m■■■■\u001b[0mnum_values = 250\n",
            "\u001b[31m■■■■\u001b[0m\u001b[33m■■■■\u001b[0m\u001b[32m■■■■\u001b[0m\u001b[34m■■■■\u001b[0m\u001b[31m■■■■\u001b[0m\u001b[33m■■■■\u001b[0mtotal_uncompressed_size = 368\n",
            "\u001b[31m■■■■\u001b[0m\u001b[33m■■■■\u001b[0m\u001b[32m■■■■\u001b[0m\u001b[34m■■■■\u001b[0m\u001b[31m■■■■\u001b[0m\u001b[33m■■■■\u001b[0mtotal_compressed_size = 316\n",
            "\u001b[31m■■■■\u001b[0m\u001b[33m■■■■\u001b[0m\u001b[32m■■■■\u001b[0m\u001b[34m■■■■\u001b[0m\u001b[31m■■■■\u001b[0m\u001b[33m■■■■\u001b[0mdata_page_offset = 3348\n",
            "\u001b[31m■■■■\u001b[0m\u001b[33m■■■■\u001b[0m\u001b[32m■■■■\u001b[0m\u001b[34m■■■■\u001b[0m\u001b[31m■■■■\u001b[0m\u001b[33m■■■■\u001b[0mdictionary_page_offset = 3231\n",
            "\u001b[31m■■■■\u001b[0m\u001b[33m■■■■\u001b[0m\u001b[32m■■■■\u001b[0m\u001b[34m■■■■\u001b[0m\u001b[31m■■■■\u001b[0m\u001b[33m■■■■\u001b[0mstatistics = Statistics\n",
            "\u001b[31m■■■■\u001b[0m\u001b[33m■■■■\u001b[0m\u001b[32m■■■■\u001b[0m\u001b[34m■■■■\u001b[0m\u001b[31m■■■■\u001b[0m\u001b[33m■■■■\u001b[0m\u001b[32m■■■■\u001b[0mmax = b'\\x00\\x00\\x00\\x00\\x00pw@'\n",
            "\u001b[31m■■■■\u001b[0m\u001b[33m■■■■\u001b[0m\u001b[32m■■■■\u001b[0m\u001b[34m■■■■\u001b[0m\u001b[31m■■■■\u001b[0m\u001b[33m■■■■\u001b[0m\u001b[32m■■■■\u001b[0mmin = b'\\x00\\x00\\x00\\x00\\x00\\x001@'\n",
            "\u001b[31m■■■■\u001b[0m\u001b[33m■■■■\u001b[0m\u001b[32m■■■■\u001b[0m\u001b[34m■■■■\u001b[0m\u001b[31m■■■■\u001b[0m\u001b[33m■■■■\u001b[0m\u001b[32m■■■■\u001b[0mmax_value = b'\\x00\\x00\\x00\\x00\\x00pw@'\n",
            "\u001b[31m■■■■\u001b[0m\u001b[33m■■■■\u001b[0m\u001b[32m■■■■\u001b[0m\u001b[34m■■■■\u001b[0m\u001b[31m■■■■\u001b[0m\u001b[33m■■■■\u001b[0m\u001b[32m■■■■\u001b[0mmin_value = b'\\x00\\x00\\x00\\x00\\x00\\x001@'\n",
            "\u001b[31m■■■■\u001b[0m\u001b[33m■■■■\u001b[0m\u001b[32m■■■■\u001b[0m\u001b[34m■■■■\u001b[0m\u001b[31m■■■■\u001b[0m\u001b[33m■■■■\u001b[0mencoding_stats = list\n",
            "\u001b[31m■■■■\u001b[0m\u001b[33m■■■■\u001b[0m\u001b[32m■■■■\u001b[0m\u001b[34m■■■■\u001b[0m\u001b[31m■■■■\u001b[0m\u001b[33m■■■■\u001b[0m\u001b[32m■■■■\u001b[0mPageEncodingStats\n",
            "\u001b[31m■■■■\u001b[0m\u001b[33m■■■■\u001b[0m\u001b[32m■■■■\u001b[0m\u001b[34m■■■■\u001b[0m\u001b[31m■■■■\u001b[0m\u001b[33m■■■■\u001b[0m\u001b[32m■■■■\u001b[0m\u001b[34m■■■■\u001b[0mpage_type = 2\n",
            "\u001b[31m■■■■\u001b[0m\u001b[33m■■■■\u001b[0m\u001b[32m■■■■\u001b[0m\u001b[34m■■■■\u001b[0m\u001b[31m■■■■\u001b[0m\u001b[33m■■■■\u001b[0m\u001b[32m■■■■\u001b[0m\u001b[34m■■■■\u001b[0mencoding = 2\n",
            "\u001b[31m■■■■\u001b[0m\u001b[33m■■■■\u001b[0m\u001b[32m■■■■\u001b[0m\u001b[34m■■■■\u001b[0m\u001b[31m■■■■\u001b[0m\u001b[33m■■■■\u001b[0m\u001b[32m■■■■\u001b[0m\u001b[34m■■■■\u001b[0mcount = 1\n",
            "\u001b[31m■■■■\u001b[0m\u001b[33m■■■■\u001b[0m\u001b[32m■■■■\u001b[0m\u001b[34m■■■■\u001b[0m\u001b[31m■■■■\u001b[0m\u001b[33m■■■■\u001b[0m\u001b[32m■■■■\u001b[0mPageEncodingStats\n",
            "\u001b[31m■■■■\u001b[0m\u001b[33m■■■■\u001b[0m\u001b[32m■■■■\u001b[0m\u001b[34m■■■■\u001b[0m\u001b[31m■■■■\u001b[0m\u001b[33m■■■■\u001b[0m\u001b[32m■■■■\u001b[0m\u001b[34m■■■■\u001b[0mencoding = 2\n",
            "\u001b[31m■■■■\u001b[0m\u001b[33m■■■■\u001b[0m\u001b[32m■■■■\u001b[0m\u001b[34m■■■■\u001b[0m\u001b[31m■■■■\u001b[0m\u001b[33m■■■■\u001b[0m\u001b[32m■■■■\u001b[0m\u001b[34m■■■■\u001b[0mcount = 1\n",
            "\u001b[31m■■■■\u001b[0m\u001b[33m■■■■\u001b[0m\u001b[32m■■■■\u001b[0m\u001b[34m■■■■\u001b[0m\u001b[31m■■■■\u001b[0moffset_index_offset = 4432\n",
            "\u001b[31m■■■■\u001b[0m\u001b[33m■■■■\u001b[0m\u001b[32m■■■■\u001b[0m\u001b[34m■■■■\u001b[0m\u001b[31m■■■■\u001b[0moffset_index_length = 12\n",
            "\u001b[31m■■■■\u001b[0m\u001b[33m■■■■\u001b[0m\u001b[32m■■■■\u001b[0m\u001b[34m■■■■\u001b[0m\u001b[31m■■■■\u001b[0mcolumn_index_offset = 4216\n",
            "\u001b[31m■■■■\u001b[0m\u001b[33m■■■■\u001b[0m\u001b[32m■■■■\u001b[0m\u001b[34m■■■■\u001b[0m\u001b[31m■■■■\u001b[0mcolumn_index_length = 31\n",
            "\u001b[31m■■■■\u001b[0m\u001b[33m■■■■\u001b[0m\u001b[32m■■■■\u001b[0m\u001b[34m■■■■\u001b[0mColumnChunk\n",
            "\u001b[31m■■■■\u001b[0m\u001b[33m■■■■\u001b[0m\u001b[32m■■■■\u001b[0m\u001b[34m■■■■\u001b[0m\u001b[31m■■■■\u001b[0mfile_offset = 3607\n",
            "\u001b[31m■■■■\u001b[0m\u001b[33m■■■■\u001b[0m\u001b[32m■■■■\u001b[0m\u001b[34m■■■■\u001b[0m\u001b[31m■■■■\u001b[0mmeta_data = ColumnMetaData\n",
            "\u001b[31m■■■■\u001b[0m\u001b[33m■■■■\u001b[0m\u001b[32m■■■■\u001b[0m\u001b[34m■■■■\u001b[0m\u001b[31m■■■■\u001b[0m\u001b[33m■■■■\u001b[0mtype = 6\n",
            "\u001b[31m■■■■\u001b[0m\u001b[33m■■■■\u001b[0m\u001b[32m■■■■\u001b[0m\u001b[34m■■■■\u001b[0m\u001b[31m■■■■\u001b[0m\u001b[33m■■■■\u001b[0mencodings = list\n",
            "\u001b[31m■■■■\u001b[0m\u001b[33m■■■■\u001b[0m\u001b[32m■■■■\u001b[0m\u001b[34m■■■■\u001b[0m\u001b[31m■■■■\u001b[0m\u001b[33m■■■■\u001b[0m\u001b[32m■■■■\u001b[0m3\n",
            "\u001b[31m■■■■\u001b[0m\u001b[33m■■■■\u001b[0m\u001b[32m■■■■\u001b[0m\u001b[34m■■■■\u001b[0m\u001b[31m■■■■\u001b[0m\u001b[33m■■■■\u001b[0m\u001b[32m■■■■\u001b[0m4\n",
            "\u001b[31m■■■■\u001b[0m\u001b[33m■■■■\u001b[0m\u001b[32m■■■■\u001b[0m\u001b[34m■■■■\u001b[0m\u001b[31m■■■■\u001b[0m\u001b[33m■■■■\u001b[0m\u001b[32m■■■■\u001b[0m2\n",
            "\u001b[31m■■■■\u001b[0m\u001b[33m■■■■\u001b[0m\u001b[32m■■■■\u001b[0m\u001b[34m■■■■\u001b[0m\u001b[31m■■■■\u001b[0m\u001b[33m■■■■\u001b[0mpath_in_schema = list\n",
            "\u001b[31m■■■■\u001b[0m\u001b[33m■■■■\u001b[0m\u001b[32m■■■■\u001b[0m\u001b[34m■■■■\u001b[0m\u001b[31m■■■■\u001b[0m\u001b[33m■■■■\u001b[0m\u001b[32m■■■■\u001b[0mcolor\n",
            "\u001b[31m■■■■\u001b[0m\u001b[33m■■■■\u001b[0m\u001b[32m■■■■\u001b[0m\u001b[34m■■■■\u001b[0m\u001b[31m■■■■\u001b[0m\u001b[33m■■■■\u001b[0mcodec = 1\n",
            "\u001b[31m■■■■\u001b[0m\u001b[33m■■■■\u001b[0m\u001b[32m■■■■\u001b[0m\u001b[34m■■■■\u001b[0m\u001b[31m■■■■\u001b[0m\u001b[33m■■■■\u001b[0mnum_values = 250\n",
            "\u001b[31m■■■■\u001b[0m\u001b[33m■■■■\u001b[0m\u001b[32m■■■■\u001b[0m\u001b[34m■■■■\u001b[0m\u001b[31m■■■■\u001b[0m\u001b[33m■■■■\u001b[0mtotal_uncompressed_size = 192\n",
            "\u001b[31m■■■■\u001b[0m\u001b[33m■■■■\u001b[0m\u001b[32m■■■■\u001b[0m\u001b[34m■■■■\u001b[0m\u001b[31m■■■■\u001b[0m\u001b[33m■■■■\u001b[0mtotal_compressed_size = 184\n",
            "\u001b[31m■■■■\u001b[0m\u001b[33m■■■■\u001b[0m\u001b[32m■■■■\u001b[0m\u001b[34m■■■■\u001b[0m\u001b[31m■■■■\u001b[0m\u001b[33m■■■■\u001b[0mdata_page_offset = 3607\n",
            "\u001b[31m■■■■\u001b[0m\u001b[33m■■■■\u001b[0m\u001b[32m■■■■\u001b[0m\u001b[34m■■■■\u001b[0m\u001b[31m■■■■\u001b[0m\u001b[33m■■■■\u001b[0mdictionary_page_offset = 3547\n",
            "\u001b[31m■■■■\u001b[0m\u001b[33m■■■■\u001b[0m\u001b[32m■■■■\u001b[0m\u001b[34m■■■■\u001b[0m\u001b[31m■■■■\u001b[0m\u001b[33m■■■■\u001b[0mstatistics = Statistics\n",
            "\u001b[31m■■■■\u001b[0m\u001b[33m■■■■\u001b[0m\u001b[32m■■■■\u001b[0m\u001b[34m■■■■\u001b[0m\u001b[31m■■■■\u001b[0m\u001b[33m■■■■\u001b[0m\u001b[32m■■■■\u001b[0mmax_value = b'white'\n",
            "\u001b[31m■■■■\u001b[0m\u001b[33m■■■■\u001b[0m\u001b[32m■■■■\u001b[0m\u001b[34m■■■■\u001b[0m\u001b[31m■■■■\u001b[0m\u001b[33m■■■■\u001b[0m\u001b[32m■■■■\u001b[0mmin_value = b'black'\n",
            "\u001b[31m■■■■\u001b[0m\u001b[33m■■■■\u001b[0m\u001b[32m■■■■\u001b[0m\u001b[34m■■■■\u001b[0m\u001b[31m■■■■\u001b[0m\u001b[33m■■■■\u001b[0mencoding_stats = list\n",
            "\u001b[31m■■■■\u001b[0m\u001b[33m■■■■\u001b[0m\u001b[32m■■■■\u001b[0m\u001b[34m■■■■\u001b[0m\u001b[31m■■■■\u001b[0m\u001b[33m■■■■\u001b[0m\u001b[32m■■■■\u001b[0mPageEncodingStats\n",
            "\u001b[31m■■■■\u001b[0m\u001b[33m■■■■\u001b[0m\u001b[32m■■■■\u001b[0m\u001b[34m■■■■\u001b[0m\u001b[31m■■■■\u001b[0m\u001b[33m■■■■\u001b[0m\u001b[32m■■■■\u001b[0m\u001b[34m■■■■\u001b[0mpage_type = 2\n",
            "\u001b[31m■■■■\u001b[0m\u001b[33m■■■■\u001b[0m\u001b[32m■■■■\u001b[0m\u001b[34m■■■■\u001b[0m\u001b[31m■■■■\u001b[0m\u001b[33m■■■■\u001b[0m\u001b[32m■■■■\u001b[0m\u001b[34m■■■■\u001b[0mencoding = 2\n",
            "\u001b[31m■■■■\u001b[0m\u001b[33m■■■■\u001b[0m\u001b[32m■■■■\u001b[0m\u001b[34m■■■■\u001b[0m\u001b[31m■■■■\u001b[0m\u001b[33m■■■■\u001b[0m\u001b[32m■■■■\u001b[0m\u001b[34m■■■■\u001b[0mcount = 1\n",
            "\u001b[31m■■■■\u001b[0m\u001b[33m■■■■\u001b[0m\u001b[32m■■■■\u001b[0m\u001b[34m■■■■\u001b[0m\u001b[31m■■■■\u001b[0m\u001b[33m■■■■\u001b[0m\u001b[32m■■■■\u001b[0mPageEncodingStats\n",
            "\u001b[31m■■■■\u001b[0m\u001b[33m■■■■\u001b[0m\u001b[32m■■■■\u001b[0m\u001b[34m■■■■\u001b[0m\u001b[31m■■■■\u001b[0m\u001b[33m■■■■\u001b[0m\u001b[32m■■■■\u001b[0m\u001b[34m■■■■\u001b[0mencoding = 2\n",
            "\u001b[31m■■■■\u001b[0m\u001b[33m■■■■\u001b[0m\u001b[32m■■■■\u001b[0m\u001b[34m■■■■\u001b[0m\u001b[31m■■■■\u001b[0m\u001b[33m■■■■\u001b[0m\u001b[32m■■■■\u001b[0m\u001b[34m■■■■\u001b[0mcount = 1\n",
            "\u001b[31m■■■■\u001b[0m\u001b[33m■■■■\u001b[0m\u001b[32m■■■■\u001b[0m\u001b[34m■■■■\u001b[0m\u001b[31m■■■■\u001b[0moffset_index_offset = 4444\n",
            "\u001b[31m■■■■\u001b[0m\u001b[33m■■■■\u001b[0m\u001b[32m■■■■\u001b[0m\u001b[34m■■■■\u001b[0m\u001b[31m■■■■\u001b[0moffset_index_length = 12\n",
            "\u001b[31m■■■■\u001b[0m\u001b[33m■■■■\u001b[0m\u001b[32m■■■■\u001b[0m\u001b[34m■■■■\u001b[0m\u001b[31m■■■■\u001b[0mcolumn_index_offset = 4247\n",
            "\u001b[31m■■■■\u001b[0m\u001b[33m■■■■\u001b[0m\u001b[32m■■■■\u001b[0m\u001b[34m■■■■\u001b[0m\u001b[31m■■■■\u001b[0mcolumn_index_length = 25\n",
            "\u001b[31m■■■■\u001b[0m\u001b[33m■■■■\u001b[0m\u001b[32m■■■■\u001b[0m\u001b[34m■■■■\u001b[0mColumnChunk\n",
            "\u001b[31m■■■■\u001b[0m\u001b[33m■■■■\u001b[0m\u001b[32m■■■■\u001b[0m\u001b[34m■■■■\u001b[0m\u001b[31m■■■■\u001b[0mfile_offset = 3789\n",
            "\u001b[31m■■■■\u001b[0m\u001b[33m■■■■\u001b[0m\u001b[32m■■■■\u001b[0m\u001b[34m■■■■\u001b[0m\u001b[31m■■■■\u001b[0mmeta_data = ColumnMetaData\n",
            "\u001b[31m■■■■\u001b[0m\u001b[33m■■■■\u001b[0m\u001b[32m■■■■\u001b[0m\u001b[34m■■■■\u001b[0m\u001b[31m■■■■\u001b[0m\u001b[33m■■■■\u001b[0mtype = 6\n",
            "\u001b[31m■■■■\u001b[0m\u001b[33m■■■■\u001b[0m\u001b[32m■■■■\u001b[0m\u001b[34m■■■■\u001b[0m\u001b[31m■■■■\u001b[0m\u001b[33m■■■■\u001b[0mencodings = list\n",
            "\u001b[31m■■■■\u001b[0m\u001b[33m■■■■\u001b[0m\u001b[32m■■■■\u001b[0m\u001b[34m■■■■\u001b[0m\u001b[31m■■■■\u001b[0m\u001b[33m■■■■\u001b[0m\u001b[32m■■■■\u001b[0m3\n",
            "\u001b[31m■■■■\u001b[0m\u001b[33m■■■■\u001b[0m\u001b[32m■■■■\u001b[0m\u001b[34m■■■■\u001b[0m\u001b[31m■■■■\u001b[0m\u001b[33m■■■■\u001b[0m\u001b[32m■■■■\u001b[0m4\n",
            "\u001b[31m■■■■\u001b[0m\u001b[33m■■■■\u001b[0m\u001b[32m■■■■\u001b[0m\u001b[34m■■■■\u001b[0m\u001b[31m■■■■\u001b[0m\u001b[33m■■■■\u001b[0m\u001b[32m■■■■\u001b[0m2\n",
            "\u001b[31m■■■■\u001b[0m\u001b[33m■■■■\u001b[0m\u001b[32m■■■■\u001b[0m\u001b[34m■■■■\u001b[0m\u001b[31m■■■■\u001b[0m\u001b[33m■■■■\u001b[0mpath_in_schema = list\n",
            "\u001b[31m■■■■\u001b[0m\u001b[33m■■■■\u001b[0m\u001b[32m■■■■\u001b[0m\u001b[34m■■■■\u001b[0m\u001b[31m■■■■\u001b[0m\u001b[33m■■■■\u001b[0m\u001b[32m■■■■\u001b[0mbrand\n",
            "\u001b[31m■■■■\u001b[0m\u001b[33m■■■■\u001b[0m\u001b[32m■■■■\u001b[0m\u001b[34m■■■■\u001b[0m\u001b[31m■■■■\u001b[0m\u001b[33m■■■■\u001b[0mcodec = 1\n",
            "\u001b[31m■■■■\u001b[0m\u001b[33m■■■■\u001b[0m\u001b[32m■■■■\u001b[0m\u001b[34m■■■■\u001b[0m\u001b[31m■■■■\u001b[0m\u001b[33m■■■■\u001b[0mnum_values = 250\n",
            "\u001b[31m■■■■\u001b[0m\u001b[33m■■■■\u001b[0m\u001b[32m■■■■\u001b[0m\u001b[34m■■■■\u001b[0m\u001b[31m■■■■\u001b[0m\u001b[33m■■■■\u001b[0mtotal_uncompressed_size = 155\n",
            "\u001b[31m■■■■\u001b[0m\u001b[33m■■■■\u001b[0m\u001b[32m■■■■\u001b[0m\u001b[34m■■■■\u001b[0m\u001b[31m■■■■\u001b[0m\u001b[33m■■■■\u001b[0mtotal_compressed_size = 157\n",
            "\u001b[31m■■■■\u001b[0m\u001b[33m■■■■\u001b[0m\u001b[32m■■■■\u001b[0m\u001b[34m■■■■\u001b[0m\u001b[31m■■■■\u001b[0m\u001b[33m■■■■\u001b[0mdata_page_offset = 3789\n",
            "\u001b[31m■■■■\u001b[0m\u001b[33m■■■■\u001b[0m\u001b[32m■■■■\u001b[0m\u001b[34m■■■■\u001b[0m\u001b[31m■■■■\u001b[0m\u001b[33m■■■■\u001b[0mdictionary_page_offset = 3731\n",
            "\u001b[31m■■■■\u001b[0m\u001b[33m■■■■\u001b[0m\u001b[32m■■■■\u001b[0m\u001b[34m■■■■\u001b[0m\u001b[31m■■■■\u001b[0m\u001b[33m■■■■\u001b[0mstatistics = Statistics\n",
            "\u001b[31m■■■■\u001b[0m\u001b[33m■■■■\u001b[0m\u001b[32m■■■■\u001b[0m\u001b[34m■■■■\u001b[0m\u001b[31m■■■■\u001b[0m\u001b[33m■■■■\u001b[0m\u001b[32m■■■■\u001b[0mmax_value = b'Over'\n",
            "\u001b[31m■■■■\u001b[0m\u001b[33m■■■■\u001b[0m\u001b[32m■■■■\u001b[0m\u001b[34m■■■■\u001b[0m\u001b[31m■■■■\u001b[0m\u001b[33m■■■■\u001b[0m\u001b[32m■■■■\u001b[0mmin_value = b'Basic'\n",
            "\u001b[31m■■■■\u001b[0m\u001b[33m■■■■\u001b[0m\u001b[32m■■■■\u001b[0m\u001b[34m■■■■\u001b[0m\u001b[31m■■■■\u001b[0m\u001b[33m■■■■\u001b[0mencoding_stats = list\n",
            "\u001b[31m■■■■\u001b[0m\u001b[33m■■■■\u001b[0m\u001b[32m■■■■\u001b[0m\u001b[34m■■■■\u001b[0m\u001b[31m■■■■\u001b[0m\u001b[33m■■■■\u001b[0m\u001b[32m■■■■\u001b[0mPageEncodingStats\n",
            "\u001b[31m■■■■\u001b[0m\u001b[33m■■■■\u001b[0m\u001b[32m■■■■\u001b[0m\u001b[34m■■■■\u001b[0m\u001b[31m■■■■\u001b[0m\u001b[33m■■■■\u001b[0m\u001b[32m■■■■\u001b[0m\u001b[34m■■■■\u001b[0mpage_type = 2\n",
            "\u001b[31m■■■■\u001b[0m\u001b[33m■■■■\u001b[0m\u001b[32m■■■■\u001b[0m\u001b[34m■■■■\u001b[0m\u001b[31m■■■■\u001b[0m\u001b[33m■■■■\u001b[0m\u001b[32m■■■■\u001b[0m\u001b[34m■■■■\u001b[0mencoding = 2\n",
            "\u001b[31m■■■■\u001b[0m\u001b[33m■■■■\u001b[0m\u001b[32m■■■■\u001b[0m\u001b[34m■■■■\u001b[0m\u001b[31m■■■■\u001b[0m\u001b[33m■■■■\u001b[0m\u001b[32m■■■■\u001b[0m\u001b[34m■■■■\u001b[0mcount = 1\n",
            "\u001b[31m■■■■\u001b[0m\u001b[33m■■■■\u001b[0m\u001b[32m■■■■\u001b[0m\u001b[34m■■■■\u001b[0m\u001b[31m■■■■\u001b[0m\u001b[33m■■■■\u001b[0m\u001b[32m■■■■\u001b[0mPageEncodingStats\n",
            "\u001b[31m■■■■\u001b[0m\u001b[33m■■■■\u001b[0m\u001b[32m■■■■\u001b[0m\u001b[34m■■■■\u001b[0m\u001b[31m■■■■\u001b[0m\u001b[33m■■■■\u001b[0m\u001b[32m■■■■\u001b[0m\u001b[34m■■■■\u001b[0mencoding = 2\n",
            "\u001b[31m■■■■\u001b[0m\u001b[33m■■■■\u001b[0m\u001b[32m■■■■\u001b[0m\u001b[34m■■■■\u001b[0m\u001b[31m■■■■\u001b[0m\u001b[33m■■■■\u001b[0m\u001b[32m■■■■\u001b[0m\u001b[34m■■■■\u001b[0mcount = 1\n",
            "\u001b[31m■■■■\u001b[0m\u001b[33m■■■■\u001b[0m\u001b[32m■■■■\u001b[0m\u001b[34m■■■■\u001b[0m\u001b[31m■■■■\u001b[0moffset_index_offset = 4456\n",
            "\u001b[31m■■■■\u001b[0m\u001b[33m■■■■\u001b[0m\u001b[32m■■■■\u001b[0m\u001b[34m■■■■\u001b[0m\u001b[31m■■■■\u001b[0moffset_index_length = 12\n",
            "\u001b[31m■■■■\u001b[0m\u001b[33m■■■■\u001b[0m\u001b[32m■■■■\u001b[0m\u001b[34m■■■■\u001b[0m\u001b[31m■■■■\u001b[0mcolumn_index_offset = 4272\n",
            "\u001b[31m■■■■\u001b[0m\u001b[33m■■■■\u001b[0m\u001b[32m■■■■\u001b[0m\u001b[34m■■■■\u001b[0m\u001b[31m■■■■\u001b[0mcolumn_index_length = 24\n",
            "\u001b[31m■■■■\u001b[0m\u001b[33m■■■■\u001b[0m\u001b[32m■■■■\u001b[0mtotal_byte_size = 6644\n",
            "\u001b[31m■■■■\u001b[0m\u001b[33m■■■■\u001b[0m\u001b[32m■■■■\u001b[0mnum_rows = 250\n",
            "\u001b[31m■■■■\u001b[0m\u001b[33m■■■■\u001b[0m\u001b[32m■■■■\u001b[0mfile_offset = 4\n",
            "\u001b[31m■■■■\u001b[0m\u001b[33m■■■■\u001b[0m\u001b[32m■■■■\u001b[0mtotal_compressed_size = 3884\n",
            "\u001b[31m■■■■\u001b[0mkey_value_metadata = list\n",
            "\u001b[31m■■■■\u001b[0m\u001b[33m■■■■\u001b[0mKeyValue\n",
            "\u001b[31m■■■■\u001b[0m\u001b[33m■■■■\u001b[0m\u001b[32m■■■■\u001b[0mkey = org.apache.spark.version\n",
            "\u001b[31m■■■■\u001b[0m\u001b[33m■■■■\u001b[0m\u001b[32m■■■■\u001b[0mvalue = 3.5.3\n",
            "\u001b[31m■■■■\u001b[0m\u001b[33m■■■■\u001b[0mKeyValue\n",
            "\u001b[31m■■■■\u001b[0m\u001b[33m■■■■\u001b[0m\u001b[32m■■■■\u001b[0mkey = org.apache.spark.sql.parquet.row.metadata\n",
            "\u001b[31m■■■■\u001b[0m\u001b[33m■■■■\u001b[0m\u001b[32m■■■■\u001b[0mvalue = {\"type\":\"struct\",\"fields\":[{\"name\":\"saleid\",\"type\":\"string\",\"nullable\":true,\"metadata\":{}},{\"name\":\"saledate\",\"type\":\"date\",\"nullable\":true,\"metadata\":{}},{\"name\":\"quantity\",\"type\":\"double\",\"nullable\":true,\"metadata\":{}},{\"name\":\"unitprice\",\"type\":\"double\",\"nullable\":true,\"metadata\":{}},{\"name\":\"shopid\",\"type\":\"string\",\"nullable\":true,\"metadata\":{}},{\"name\":\"state\",\"type\":\"string\",\"nullable\":true,\"metadata\":{}},{\"name\":\"country\",\"type\":\"string\",\"nullable\":true,\"metadata\":{}},{\"name\":\"shopsize\",\"type\":\"string\",\"nullable\":true,\"metadata\":{}},{\"name\":\"productid\",\"type\":\"string\",\"nullable\":true,\"metadata\":{}},{\"name\":\"category\",\"type\":\"string\",\"nullable\":true,\"metadata\":{}},{\"name\":\"subcategory\",\"type\":\"string\",\"nullable\":true,\"metadata\":{}},{\"name\":\"size\",\"type\":\"string\",\"nullable\":true,\"metadata\":{}},{\"name\":\"purchaseprice\",\"type\":\"double\",\"nullable\":true,\"metadata\":{}},{\"name\":\"color\",\"type\":\"string\",\"nullable\":true,\"metadata\":{}},{\"name\":\"brand\",\"type\":\"string\",\"nullable\":true,\"metadata\":{}}]}\n",
            "\u001b[31m■■■■\u001b[0mcreated_by = parquet-mr version 1.13.1 (build db4183109d5b734ec5930d870cdae161e408ddba)\n",
            "\u001b[31m■■■■\u001b[0mcolumn_orders = list\n",
            "\u001b[31m■■■■\u001b[0m\u001b[33m■■■■\u001b[0mColumnOrder\n",
            "\u001b[31m■■■■\u001b[0m\u001b[33m■■■■\u001b[0m\u001b[32m■■■■\u001b[0mTYPE_ORDER = TypeDefinedOrder\n",
            "\u001b[31m■■■■\u001b[0m\u001b[33m■■■■\u001b[0mColumnOrder\n",
            "\u001b[31m■■■■\u001b[0m\u001b[33m■■■■\u001b[0m\u001b[32m■■■■\u001b[0mTYPE_ORDER = TypeDefinedOrder\n",
            "\u001b[31m■■■■\u001b[0m\u001b[33m■■■■\u001b[0mColumnOrder\n",
            "\u001b[31m■■■■\u001b[0m\u001b[33m■■■■\u001b[0m\u001b[32m■■■■\u001b[0mTYPE_ORDER = TypeDefinedOrder\n",
            "\u001b[31m■■■■\u001b[0m\u001b[33m■■■■\u001b[0mColumnOrder\n",
            "\u001b[31m■■■■\u001b[0m\u001b[33m■■■■\u001b[0m\u001b[32m■■■■\u001b[0mTYPE_ORDER = TypeDefinedOrder\n",
            "\u001b[31m■■■■\u001b[0m\u001b[33m■■■■\u001b[0mColumnOrder\n",
            "\u001b[31m■■■■\u001b[0m\u001b[33m■■■■\u001b[0m\u001b[32m■■■■\u001b[0mTYPE_ORDER = TypeDefinedOrder\n",
            "\u001b[31m■■■■\u001b[0m\u001b[33m■■■■\u001b[0mColumnOrder\n",
            "\u001b[31m■■■■\u001b[0m\u001b[33m■■■■\u001b[0m\u001b[32m■■■■\u001b[0mTYPE_ORDER = TypeDefinedOrder\n",
            "\u001b[31m■■■■\u001b[0m\u001b[33m■■■■\u001b[0mColumnOrder\n",
            "\u001b[31m■■■■\u001b[0m\u001b[33m■■■■\u001b[0m\u001b[32m■■■■\u001b[0mTYPE_ORDER = TypeDefinedOrder\n",
            "\u001b[31m■■■■\u001b[0m\u001b[33m■■■■\u001b[0mColumnOrder\n",
            "\u001b[31m■■■■\u001b[0m\u001b[33m■■■■\u001b[0m\u001b[32m■■■■\u001b[0mTYPE_ORDER = TypeDefinedOrder\n",
            "\u001b[31m■■■■\u001b[0m\u001b[33m■■■■\u001b[0mColumnOrder\n",
            "\u001b[31m■■■■\u001b[0m\u001b[33m■■■■\u001b[0m\u001b[32m■■■■\u001b[0mTYPE_ORDER = TypeDefinedOrder\n",
            "\u001b[31m■■■■\u001b[0m\u001b[33m■■■■\u001b[0mColumnOrder\n",
            "\u001b[31m■■■■\u001b[0m\u001b[33m■■■■\u001b[0m\u001b[32m■■■■\u001b[0mTYPE_ORDER = TypeDefinedOrder\n",
            "\u001b[31m■■■■\u001b[0m\u001b[33m■■■■\u001b[0mColumnOrder\n",
            "\u001b[31m■■■■\u001b[0m\u001b[33m■■■■\u001b[0m\u001b[32m■■■■\u001b[0mTYPE_ORDER = TypeDefinedOrder\n",
            "\u001b[31m■■■■\u001b[0m\u001b[33m■■■■\u001b[0mColumnOrder\n",
            "\u001b[31m■■■■\u001b[0m\u001b[33m■■■■\u001b[0m\u001b[32m■■■■\u001b[0mTYPE_ORDER = TypeDefinedOrder\n",
            "\u001b[31m■■■■\u001b[0m\u001b[33m■■■■\u001b[0mColumnOrder\n",
            "\u001b[31m■■■■\u001b[0m\u001b[33m■■■■\u001b[0m\u001b[32m■■■■\u001b[0mTYPE_ORDER = TypeDefinedOrder\n",
            "\u001b[31m■■■■\u001b[0m\u001b[33m■■■■\u001b[0mColumnOrder\n",
            "\u001b[31m■■■■\u001b[0m\u001b[33m■■■■\u001b[0m\u001b[32m■■■■\u001b[0mTYPE_ORDER = TypeDefinedOrder\n",
            "\u001b[31m■■■■\u001b[0m\u001b[33m■■■■\u001b[0mColumnOrder\n",
            "\u001b[31m■■■■\u001b[0m\u001b[33m■■■■\u001b[0m\u001b[32m■■■■\u001b[0mTYPE_ORDER = TypeDefinedOrder\u001b[0m\n",
            "\u001b[0m\u001b[0m"
          ]
        }
      ]
    },
    {
      "cell_type": "markdown",
      "source": [
        "#### Partition by two columns"
      ],
      "metadata": {
        "id": "6jbB6lVIQcUb"
      }
    },
    {
      "cell_type": "code",
      "source": [
        "query = \"\"\"\n",
        "CREATE TABLE delta.`/tmp/deltaSalesPerCityCategory` USING DELTA PARTITIONED BY (city,category)\n",
        "AS SELECT * FROM salesOriginal\n",
        "\"\"\"\n",
        "spark.sql(query)"
      ],
      "metadata": {
        "colab": {
          "base_uri": "https://localhost:8080/"
        },
        "id": "OFlYJvLNdIiC",
        "outputId": "e330d52c-0f45-4d6c-8d6a-c6c869caa904"
      },
      "execution_count": null,
      "outputs": [
        {
          "output_type": "execute_result",
          "data": {
            "text/plain": [
              "DataFrame[]"
            ]
          },
          "metadata": {},
          "execution_count": 24
        }
      ]
    },
    {
      "cell_type": "code",
      "source": [
        "query = \"\"\"\n",
        "DESCRIBE delta.`/tmp/deltaSalesPerCityCategory`\n",
        "\"\"\"\n",
        "spark.sql(query).show(truncate=False)"
      ],
      "metadata": {
        "colab": {
          "base_uri": "https://localhost:8080/"
        },
        "id": "mH77O5MVdY_t",
        "outputId": "d1092934-fe5a-4c2d-e7a9-9d60654c5285"
      },
      "execution_count": null,
      "outputs": [
        {
          "output_type": "stream",
          "name": "stdout",
          "text": [
            "+-----------------------+---------+-------+\n",
            "|col_name               |data_type|comment|\n",
            "+-----------------------+---------+-------+\n",
            "|saleid                 |string   |NULL   |\n",
            "|saledate               |date     |NULL   |\n",
            "|quantity               |double   |NULL   |\n",
            "|unitprice              |double   |NULL   |\n",
            "|shopid                 |string   |NULL   |\n",
            "|city                   |string   |NULL   |\n",
            "|state                  |string   |NULL   |\n",
            "|country                |string   |NULL   |\n",
            "|shopsize               |string   |NULL   |\n",
            "|productid              |string   |NULL   |\n",
            "|category               |string   |NULL   |\n",
            "|subcategory            |string   |NULL   |\n",
            "|size                   |string   |NULL   |\n",
            "|purchaseprice          |double   |NULL   |\n",
            "|color                  |string   |NULL   |\n",
            "|brand                  |string   |NULL   |\n",
            "|# Partition Information|         |       |\n",
            "|# col_name             |data_type|comment|\n",
            "|city                   |string   |NULL   |\n",
            "|category               |string   |NULL   |\n",
            "+-----------------------+---------+-------+\n",
            "\n"
          ]
        }
      ]
    },
    {
      "cell_type": "code",
      "source": [
        "! ls /tmp/deltaSalesPerCityCategory"
      ],
      "metadata": {
        "colab": {
          "base_uri": "https://localhost:8080/"
        },
        "id": "sCOh_T95ddDE",
        "outputId": "d74c4e89-da73-4963-e27b-ed0d5705cf62"
      },
      "execution_count": null,
      "outputs": [
        {
          "output_type": "stream",
          "name": "stdout",
          "text": [
            "'city=Bergamo'\t'city=Los Angeles'  'city=Pescara'\t  'city=San Jose'\n",
            "'city=Chicago'\t'city=Milan'\t    'city=Regensburg'\t   _delta_log\n",
            "'city=Chieti'\t'city=Munich'\t    'city=San Antonio'\n",
            "'city=Fulda'\t'city=New York'     'city=San Diego'\n",
            "'city=Houston'\t'city=Offenbach'    'city=San Francisco'\n"
          ]
        }
      ]
    },
    {
      "cell_type": "code",
      "source": [
        "! ls /tmp/deltaSalesPerCityCategory/'city=Bergamo'"
      ],
      "metadata": {
        "colab": {
          "base_uri": "https://localhost:8080/"
        },
        "id": "n5v17k81dodg",
        "outputId": "0439631c-a1f6-42a2-c98a-65a90a9f0d55"
      },
      "execution_count": null,
      "outputs": [
        {
          "output_type": "stream",
          "name": "stdout",
          "text": [
            "'category=Cloth'  'category=Furniture'\n"
          ]
        }
      ]
    },
    {
      "cell_type": "code",
      "source": [
        "! ls /tmp/deltaSalesPerCityCategory/_delta_log"
      ],
      "metadata": {
        "id": "PFULTUFuYGWC",
        "outputId": "59d1d8b3-8ed1-4965-b8aa-7868f5dc166a",
        "colab": {
          "base_uri": "https://localhost:8080/"
        }
      },
      "execution_count": null,
      "outputs": [
        {
          "output_type": "stream",
          "name": "stdout",
          "text": [
            "00000000000000000000.json\n"
          ]
        }
      ]
    },
    {
      "cell_type": "markdown",
      "source": [
        "### Comparing the query plans"
      ],
      "metadata": {
        "id": "sp2_U2rfeSLr"
      }
    },
    {
      "cell_type": "markdown",
      "source": [
        "#### selection query on the partitionning column"
      ],
      "metadata": {
        "id": "FXEjT5Y_g3Ry"
      }
    },
    {
      "cell_type": "code",
      "source": [
        "spark.sparkContext.setJobDescription('P1: selection salesOriginal on city = SF or C')\n",
        "\n",
        "query = \"\"\"\n",
        "SELECT sum(quantity) as sumQty, max(unitprice) as maxPrice\n",
        "FROM salesOriginal\n",
        "WHERE city in('San Francisco', 'Chicago')\n",
        "\"\"\"\n",
        "spark.sql(query).collect()"
      ],
      "metadata": {
        "colab": {
          "base_uri": "https://localhost:8080/"
        },
        "id": "mNrjessAfmdc",
        "outputId": "1d0cac70-1505-48d7-87aa-d90248980fa6"
      },
      "execution_count": null,
      "outputs": [
        {
          "output_type": "execute_result",
          "data": {
            "text/plain": [
              "[Row(sumQty=1214.0, maxPrice=440.0)]"
            ]
          },
          "metadata": {},
          "execution_count": 28
        }
      ]
    },
    {
      "cell_type": "code",
      "source": [
        "spark.sparkContext.setJobDescription('P2: selection deltaSalesPerCity on city = SF or C')\n",
        "\n",
        "query = \"\"\"\n",
        "SELECT sum(quantity) as sumQty, max(unitprice) as maxPrice\n",
        "FROM delta.`/tmp/deltaSalesPerCity`\n",
        "WHERE city in('San Francisco', 'Chicago')\n",
        "\"\"\"\n",
        "spark.sql(query).collect()"
      ],
      "metadata": {
        "colab": {
          "base_uri": "https://localhost:8080/"
        },
        "id": "Hb5EZGayf71D",
        "outputId": "f22eafc8-5127-400c-98c2-ffbed3fb7673"
      },
      "execution_count": null,
      "outputs": [
        {
          "output_type": "execute_result",
          "data": {
            "text/plain": [
              "[Row(sumQty=1214.0, maxPrice=440.0)]"
            ]
          },
          "metadata": {},
          "execution_count": 29
        }
      ]
    },
    {
      "cell_type": "markdown",
      "source": [
        "report and compare the number of files and size of data read in the two above plans\n",
        "- P1\n",
        "- P2"
      ],
      "metadata": {
        "id": "iWlB-XC1-LH3"
      }
    },
    {
      "cell_type": "code",
      "source": [
        "spark.sparkContext.setJobDescription('P3: selection salesOriginal on category = C')\n",
        "\n",
        "query = \"\"\"\n",
        "SELECT sum(quantity) as sumQty, max(unitprice) as maxPrice\n",
        "FROM salesOriginal\n",
        "WHERE category = 'Cloth'\n",
        "\"\"\"\n",
        "spark.sql(query).collect()"
      ],
      "metadata": {
        "colab": {
          "base_uri": "https://localhost:8080/"
        },
        "id": "y9L3-WJASETG",
        "outputId": "53db04b7-545e-404f-8f15-5c0e9ac3ad04"
      },
      "execution_count": null,
      "outputs": [
        {
          "output_type": "execute_result",
          "data": {
            "text/plain": [
              "[Row(sumQty=5208.0, maxPrice=60.0)]"
            ]
          },
          "metadata": {},
          "execution_count": 30
        }
      ]
    },
    {
      "cell_type": "code",
      "source": [
        "spark.sparkContext.setJobDescription('P4 selection deltaSalesPerCityCategory on category = C')\n",
        "\n",
        "query = \"\"\"\n",
        "SELECT sum(quantity) as sumQty, max(unitprice) as maxPrice\n",
        "FROM delta.`/tmp/deltaSalesPerCityCategory`\n",
        "WHERE category = 'Cloth'\n",
        "\"\"\"\n",
        "spark.sql(query).collect()"
      ],
      "metadata": {
        "colab": {
          "base_uri": "https://localhost:8080/"
        },
        "id": "pTp7SO8eSC9s",
        "outputId": "4de06517-1d6a-48d5-a3af-5a343aec3077"
      },
      "execution_count": null,
      "outputs": [
        {
          "output_type": "execute_result",
          "data": {
            "text/plain": [
              "[Row(sumQty=5208.0, maxPrice=60.0)]"
            ]
          },
          "metadata": {},
          "execution_count": 31
        }
      ]
    },
    {
      "cell_type": "markdown",
      "source": [
        "report and compare the number of files and size of data read in the two above plans\n",
        "- P3\n",
        "- P4"
      ],
      "metadata": {
        "id": "eOMjfXvT_KGy"
      }
    },
    {
      "cell_type": "markdown",
      "source": [
        "#### selection query on a column not used for partitionning"
      ],
      "metadata": {
        "id": "tbe8NswrWrsz"
      }
    },
    {
      "cell_type": "code",
      "source": [
        "spark.sparkContext.setJobDescription('P5 selection salesOriginal on country = G or I')\n",
        "\n",
        "query = \"\"\"\n",
        "SELECT sum(quantity) as sumQty, max(unitprice) as maxPrice\n",
        "FROM salesOriginal\n",
        "WHERE country in ('Germany', 'Italy')\n",
        "\"\"\"\n",
        "spark.sql(query).collect()"
      ],
      "metadata": {
        "colab": {
          "base_uri": "https://localhost:8080/"
        },
        "id": "jnrw7x9pW12_",
        "outputId": "99d64981-8f28-4534-bc3c-c2238ecb45bc"
      },
      "execution_count": null,
      "outputs": [
        {
          "output_type": "execute_result",
          "data": {
            "text/plain": [
              "[Row(sumQty=3232.0, maxPrice=440.0)]"
            ]
          },
          "metadata": {},
          "execution_count": 32
        }
      ]
    },
    {
      "cell_type": "code",
      "source": [
        "spark.sparkContext.setJobDescription('P6 selection deltaSalesPerCity on country = G or I')\n",
        "\n",
        "query = \"\"\"\n",
        "SELECT sum(quantity) as sumQty, max(unitprice) as maxPrice\n",
        "FROM delta.`/tmp/deltaSalesPerCity`\n",
        "WHERE country in ('Germany', 'Italy')\n",
        "\"\"\"\n",
        "spark.sql(query).collect()"
      ],
      "metadata": {
        "colab": {
          "base_uri": "https://localhost:8080/"
        },
        "id": "OMxYv41aW4BR",
        "outputId": "6c94cdbd-ebbd-48bb-dcae-e734a4fa6b19"
      },
      "execution_count": null,
      "outputs": [
        {
          "output_type": "execute_result",
          "data": {
            "text/plain": [
              "[Row(sumQty=3232.0, maxPrice=440.0)]"
            ]
          },
          "metadata": {},
          "execution_count": 33
        }
      ]
    },
    {
      "cell_type": "markdown",
      "source": [
        "report and compare the number of files and size of data read in the two above plans\n",
        "- P5\n",
        "- P6"
      ],
      "metadata": {
        "id": "wS7Mnm1y_wHt"
      }
    },
    {
      "cell_type": "markdown",
      "source": [
        "#### aggregation query on the partitionning column"
      ],
      "metadata": {
        "id": "MppWYwCjezIP"
      }
    },
    {
      "cell_type": "code",
      "source": [
        "spark.sparkContext.setJobDescription('P7 aggregation salesOriginal on city')\n",
        "\n",
        "query = \"\"\"\n",
        "SELECT city, sum(quantity) as sumQty, max(unitprice) as maxPrice\n",
        "FROM salesOriginal\n",
        "group by city\n",
        "\"\"\"\n",
        "spark.sql(query).collect()[0]"
      ],
      "metadata": {
        "colab": {
          "base_uri": "https://localhost:8080/"
        },
        "id": "_8puO38ad0Ax",
        "outputId": "0828d682-133c-40c1-ad02-c22254141918"
      },
      "execution_count": null,
      "outputs": [
        {
          "output_type": "execute_result",
          "data": {
            "text/plain": [
              "Row(city='Fulda', sumQty=405.0, maxPrice=440.0)"
            ]
          },
          "metadata": {},
          "execution_count": 39
        }
      ]
    },
    {
      "cell_type": "code",
      "source": [
        "spark.sparkContext.setJobDescription('P8 aggregation deltaSalesPerCity on city')\n",
        "\n",
        "query = \"\"\"\n",
        "SELECT city, sum(quantity) as sumQty, max(unitprice) as maxPrice\n",
        "FROM delta.`/tmp/deltaSalesPerCity`\n",
        "group by city\n",
        "\"\"\"\n",
        "spark.sql(query).collect()[0]"
      ],
      "metadata": {
        "colab": {
          "base_uri": "https://localhost:8080/"
        },
        "id": "VhXpTsWqeyW3",
        "outputId": "12062ded-fe08-4a5d-941b-4b9e4bba7755"
      },
      "execution_count": null,
      "outputs": [
        {
          "output_type": "execute_result",
          "data": {
            "text/plain": [
              "Row(city='Fulda', sumQty=405.0, maxPrice=440.0)"
            ]
          },
          "metadata": {},
          "execution_count": 40
        }
      ]
    },
    {
      "cell_type": "markdown",
      "source": [
        "report and compare the number of files and size of data read in the two above plans\n",
        "- P7\n",
        "- P8"
      ],
      "metadata": {
        "id": "EfO1YeUyC9cO"
      }
    },
    {
      "cell_type": "markdown",
      "source": [
        "#### aggregation query on a column not used for partitionning"
      ],
      "metadata": {
        "id": "Cf_TDu65ZXGX"
      }
    },
    {
      "cell_type": "code",
      "source": [
        "spark.sparkContext.setJobDescription('P9 aggregation salesOriginal on country')\n",
        "\n",
        "query = \"\"\"\n",
        "SELECT country, sum(quantity) as sumQty, max(unitprice) as maxPrice\n",
        "FROM salesOriginal\n",
        "group by country\n",
        "\"\"\"\n",
        "spark.sql(query).collect()[0]"
      ],
      "metadata": {
        "colab": {
          "base_uri": "https://localhost:8080/"
        },
        "id": "16TGl-v1ZhjN",
        "outputId": "93b529fd-893e-4a4e-d352-f6f5ad88074e"
      },
      "execution_count": null,
      "outputs": [
        {
          "output_type": "execute_result",
          "data": {
            "text/plain": [
              "Row(country='Germany', sumQty=1616.0, maxPrice=440.0)"
            ]
          },
          "metadata": {},
          "execution_count": 41
        }
      ]
    },
    {
      "cell_type": "code",
      "source": [
        "spark.sparkContext.setJobDescription('P10 aggregation deltaSalesPerCity on country')\n",
        "\n",
        "query = \"\"\"\n",
        "SELECT country, sum(quantity) as sumQty, max(unitprice) as maxPrice\n",
        "FROM delta.`/tmp/deltaSalesPerCity`\n",
        "group by country\n",
        "\"\"\"\n",
        "spark.sql(query).collect()[0]"
      ],
      "metadata": {
        "colab": {
          "base_uri": "https://localhost:8080/"
        },
        "id": "-VPmkIpJZhSg",
        "outputId": "b669b8a4-5159-4924-96d5-958546578d86"
      },
      "execution_count": null,
      "outputs": [
        {
          "output_type": "execute_result",
          "data": {
            "text/plain": [
              "Row(country='Germany', sumQty=1616.0, maxPrice=440.0)"
            ]
          },
          "metadata": {},
          "execution_count": 42
        }
      ]
    },
    {
      "cell_type": "markdown",
      "source": [
        "report and compare the number of files and size of data read in the two above plans\n",
        "- P9\n",
        "- P10"
      ],
      "metadata": {
        "id": "ggjgvg1wDTaq"
      }
    }
  ]
}
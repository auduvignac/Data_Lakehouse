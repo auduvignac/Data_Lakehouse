{
  "cells": [
    {
      "cell_type": "markdown",
      "metadata": {
        "id": "GwjrdGLoXzly"
      },
      "source": [
        "* Formation Continue EMIASD, Univ. Paris Dauphine, Promo 6\n",
        "\n",
        "* Author: Mohamed-Amine Baazizi\n",
        "* Affiliation: LIP6 - Faculté des Sciences - Sorbonne Université\n",
        "* Email: mohamed-amine.baazizi@lip6.fr\n",
        "* Reusing without consent of the author is strictly forbidden\n",
        "* July 2025\n",
        "\n",
        "<p align=\"center\">\n",
        "  <a href=\"https://colab.research.google.com/github/auduvignac/Data_Lakehouse/blob/main/notebooks/project/delta_lake_usecase.ipynb\" target=\"_blank\">\n",
        "  <img src=\"https://colab.research.google.com/assets/colab-badge.svg\" alt=\"Ouvrir dans Google Colab\"/>\n",
        "  </a>\n",
        "</p>"
      ]
    },
    {
      "cell_type": "markdown",
      "metadata": {
        "id": "GunJfIR6YM_h"
      },
      "source": [
        "# Homework\n"
      ]
    },
    {
      "cell_type": "markdown",
      "metadata": {
        "id": "-kfCqy7EtbGd"
      },
      "source": [
        "## Outline"
      ]
    },
    {
      "cell_type": "markdown",
      "metadata": {
        "id": "GpI9l0JZYRdh"
      },
      "source": [
        "This homework is about building an effective data preparation pipeline.\n",
        "It covers the following aspects covered throughout the session:\n",
        "\n",
        "* ingest raw data, curate it, transform it\n",
        "* load the data into delta tables to enforce constraints and allow updates\n",
        "* chose an optimal data layout to speedup query evaluation\n",
        "\n",
        "It is based on raw data about car prices crawled from a public source.\n",
        "\n",
        "You are kindly asked to understand the data and decide about a relevant analysis (2 or 3 analytical queries) that can be performed on this data.\n",
        "For example, you could suggest to derive insights (min, max, avg) about the price per year of registration.\n",
        "You can use any other descriptive column that you may find useful.\n",
        "You are also kindly invited to briefly comment the choices you made at each phase.\n",
        "\n",
        "\n",
        "\n",
        "\n",
        "\n",
        "\n"
      ]
    },
    {
      "cell_type": "markdown",
      "metadata": {
        "id": "csSU_SanYPJQ"
      },
      "source": [
        "## Prerequisite"
      ]
    },
    {
      "cell_type": "markdown",
      "metadata": {
        "id": "BYxx4XY_TN0H"
      },
      "source": [
        "### System setup"
      ]
    },
    {
      "cell_type": "code",
      "execution_count": 153,
      "metadata": {
        "colab": {
          "base_uri": "https://localhost:8080/",
          "height": 139
        },
        "id": "WEQ6g-8ZzATC",
        "outputId": "4407b026-f1ad-45e1-ec66-53e96e979913"
      },
      "outputs": [
        {
          "name": "stdout",
          "output_type": "stream",
          "text": [
            "⚡ Exécution sur Colab : vérification stricte des dépendances…\n",
            "✅ delta-spark 3.2.1 — OK\n",
            "✅ parquet-tools 0.2.16 — OK\n",
            "✅ pyngrok 7.3.0 — OK\n",
            "✅ pyspark 3.5.3 — OK\n",
            "✅ Toutes les dépendances satisfont les contraintes.\n"
          ]
        },
        {
          "data": {
            "text/plain": [
              "<Figure size 640x480 with 0 Axes>"
            ]
          },
          "metadata": {},
          "output_type": "display_data"
        }
      ],
      "source": [
        "!wget -q https://raw.githubusercontent.com/auduvignac/Data_Lakehouse/refs/heads/main/setup_env.py -O setup_env.py\n",
        "%run setup_env.py"
      ]
    },
    {
      "cell_type": "code",
      "execution_count": 154,
      "metadata": {
        "id": "mW_DrY7ZlUj_"
      },
      "outputs": [],
      "source": [
        "%%capture\n",
        "%pip install pyspark==3.5.3\n",
        "%pip install -q delta-spark==3.2.1\n",
        "%pip install pyngrok"
      ]
    },
    {
      "cell_type": "code",
      "execution_count": 155,
      "metadata": {
        "colab": {
          "base_uri": "https://localhost:8080/"
        },
        "id": "o1YXYF4nWHNE",
        "outputId": "0602fab2-4e15-4c39-832d-330ca2e58acf"
      },
      "outputs": [
        {
          "name": "stdout",
          "output_type": "stream",
          "text": [
            "dataproc-spark-connect                0.8.3\n",
            "delta-spark                           3.2.1\n",
            "pyspark                               3.5.3\n"
          ]
        }
      ],
      "source": [
        "!pip list|grep spark"
      ]
    },
    {
      "cell_type": "code",
      "execution_count": 156,
      "metadata": {
        "id": "3sRSCkH2qQlB"
      },
      "outputs": [],
      "source": [
        "import getpass\n",
        "import shutil\n",
        "\n",
        "import matplotlib.pyplot as plt\n",
        "from pyngrok import (\n",
        "    conf,\n",
        "    ngrok,\n",
        ")\n",
        "from pyspark import SparkConf\n",
        "from pyspark.sql import (\n",
        "    Row,\n",
        "    SparkSession,\n",
        ")\n",
        "from pyspark.sql.functions import col\n",
        "from pyspark.sql.types import IntegerType"
      ]
    },
    {
      "cell_type": "code",
      "execution_count": 157,
      "metadata": {
        "id": "ZGcYc-DKqpUi"
      },
      "outputs": [],
      "source": [
        "local = \"local[*]\"\n",
        "appName = \"Formation Continue EMIASD - Delta Lake \"\n",
        "localConfig = (\n",
        "    SparkConf()\n",
        "    .setAppName(appName)\n",
        "    .setMaster(local)\n",
        "    .set(\"spark.executor.memory\", \"8G\")\n",
        "    .set(\"spark.driver.memory\", \"8G\")\n",
        "    .set(\"spark.sql.catalogImplementation\", \"in-memory\")\n",
        "    .set(\"spark.sql.extensions\", \"io.delta.sql.DeltaSparkSessionExtension\")\n",
        "    .set(\n",
        "        \"spark.sql.catalog.spark_catalog\",\n",
        "        \"org.apache.spark.sql.delta.catalog.DeltaCatalog\",\n",
        "    )\n",
        "    .set(\"spark.jars.packages\", \"io.delta:delta-spark_2.12:3.1.0\")\n",
        "    .set(\"spark.databricks.delta.schema.autoMerge.enabled\", \"true\")\n",
        ")\n",
        "\n",
        "spark = SparkSession.builder.config(conf=localConfig).getOrCreate()\n",
        "sc = spark.sparkContext\n",
        "sc.setLogLevel(\"ERROR\")"
      ]
    },
    {
      "cell_type": "code",
      "execution_count": 158,
      "metadata": {
        "colab": {
          "base_uri": "https://localhost:8080/",
          "height": 219
        },
        "id": "tvPytoK4Xl3t",
        "outputId": "69dcb13b-a6fd-4a9b-9f3c-c9b7483a4ad0"
      },
      "outputs": [
        {
          "data": {
            "text/html": [
              "\n",
              "            <div>\n",
              "                <p><b>SparkSession - in-memory</b></p>\n",
              "                \n",
              "        <div>\n",
              "            <p><b>SparkContext</b></p>\n",
              "\n",
              "            <p><a href=\"http://37eed5f5d4ee:4040\">Spark UI</a></p>\n",
              "\n",
              "            <dl>\n",
              "              <dt>Version</dt>\n",
              "                <dd><code>v3.5.3</code></dd>\n",
              "              <dt>Master</dt>\n",
              "                <dd><code>local[*]</code></dd>\n",
              "              <dt>AppName</dt>\n",
              "                <dd><code>Formation Continue EMIASD - Delta Lake </code></dd>\n",
              "            </dl>\n",
              "        </div>\n",
              "        \n",
              "            </div>\n",
              "        "
            ],
            "text/plain": [
              "<pyspark.sql.session.SparkSession at 0x7a2acc127920>"
            ]
          },
          "execution_count": 158,
          "metadata": {},
          "output_type": "execute_result"
        }
      ],
      "source": [
        "spark"
      ]
    },
    {
      "cell_type": "markdown",
      "metadata": {
        "id": "uEE-92qgTQ4p"
      },
      "source": [
        "### Data import\n",
        "\n",
        "Before performing any analysis, we need to import the dataset into our working environment.  \n",
        "This involves three main steps:  \n",
        "1. Downloading and extracting the dataset archive.  \n",
        "2. Checking the extracted files to confirm the dataset is available.  \n",
        "3. Loading the CSV file into a Spark SQL table for further exploration and transformation.  \n",
        "\n",
        "These steps ensure that the raw data is properly prepared and accessible for the data preparation pipeline.\n",
        "\n",
        "\n",
        "\n",
        "#### Download and extract dataset\n",
        "\n",
        "This section aims to fetch the dataset archive from the remote server and extract its contents locally in `/tmp/MLData`.\n",
        "\n",
        "\n"
      ]
    },
    {
      "cell_type": "code",
      "execution_count": 159,
      "metadata": {
        "id": "95fudS-iTbB5"
      },
      "outputs": [],
      "source": [
        "%%capture\n",
        "!wget --no-verbose https://nuage.lip6.fr/s/89BG8HD9r3iE693/download/MLData.tgz -O /tmp/MLData.tgz\n",
        "!tar -xzvf /tmp/MLData.tgz  --directory /tmp/"
      ]
    },
    {
      "cell_type": "markdown",
      "metadata": {
        "id": "bU6F-uLw7x6p"
      },
      "source": [
        "The command above is used to download and extract the dataset.  \n",
        "Since the dataset is distributed as a compressed `.tgz` archive, we first fetch it with `wget` and then unpack it into `/tmp/MLData` using `tar`.  \n",
        "The `%%capture` magic is applied to hide the verbose output and keep the notebook tidy."
      ]
    },
    {
      "cell_type": "markdown",
      "metadata": {
        "id": "7UBrUiHa7JIZ"
      },
      "source": [
        "#### Check extracted files\n",
        "\n",
        "This section aims to verify that the dataset has been correctly extracted and explore the available files.\n"
      ]
    },
    {
      "cell_type": "code",
      "execution_count": 160,
      "metadata": {
        "colab": {
          "base_uri": "https://localhost:8080/"
        },
        "id": "qiJOcxz1bLJ2",
        "outputId": "ea3618e2-50ce-48b2-cdf3-14922aa22eb1"
      },
      "outputs": [
        {
          "name": "stdout",
          "output_type": "stream",
          "text": [
            "total 73M\n",
            "drwxr-xr-x 2  501 staff 4.0K Jan  6  2022 .\n",
            "drwxrwxrwt 1 root root   20K Sep 13 16:23 ..\n",
            "-rw-r--r-- 1  501 staff  66M Jan  6  2022 autos.csv\n",
            "-rw-r--r-- 1  501 staff  176 Jan  6  2022 ._loan.csv\n",
            "-rw-r--r-- 1  501 staff 6.8M Jan  6  2022 loan.csv\n"
          ]
        }
      ],
      "source": [
        "!ls -hal /tmp/MLData"
      ]
    },
    {
      "cell_type": "markdown",
      "metadata": {
        "id": "YjNdnwE_7XBC"
      },
      "source": [
        "The command above lists the contents of `/tmp/MLData` along with file sizes.\n",
        "From here, we confirm the presence of `autos.csv`, which is the main dataset we will use for our analysis."
      ]
    },
    {
      "cell_type": "markdown",
      "metadata": {
        "id": "qPxV1tC16i5h"
      },
      "source": [
        "#### Load dataset into Spark table\n",
        "\n",
        "The following query aims to create a Spark SQL table from the raw CSV file so that we can query the data efficiently.\n",
        "\n",
        "```sql\n",
        "CREATE TABLE IF NOT EXISTS raw_vehiculePrices\n",
        "USING csv\n",
        "OPTIONS (\n",
        "  header \"true\",\n",
        "  path \"/tmp/MLData/autos.csv\",\n",
        "  inferSchema \"true\"\n",
        ")\n",
        "```\n",
        "\n",
        "We define a new table `raw_vehiculePrices` using the CSV file `autos.csv`.\n",
        "\n",
        "- `header \"true\"` ensures the first row is used as column names ;\n",
        "- `inferSchema \"true\"` allows Spark to automatically detect column data types ;\n",
        "\n",
        "This creates a structured table in Spark SQL, making it easier to explore and transform the dataset in the next steps."
      ]
    },
    {
      "cell_type": "code",
      "execution_count": 161,
      "metadata": {
        "colab": {
          "base_uri": "https://localhost:8080/"
        },
        "id": "lDEBF-MkYhvh",
        "outputId": "2aebc393-d4c3-4b23-e109-205edf883cee"
      },
      "outputs": [
        {
          "data": {
            "text/plain": [
              "DataFrame[]"
            ]
          },
          "execution_count": 161,
          "metadata": {},
          "output_type": "execute_result"
        }
      ],
      "source": [
        "sc.setJobDescription(\n",
        "    \"[Data Import] Load raw car prices data from CSV into raw_vehiculePrices table\"\n",
        ")\n",
        "query = \"\"\"\n",
        "CREATE TABLE IF NOT EXISTS raw_vehiculePrices\n",
        "USING csv\n",
        "OPTIONS (\n",
        "  header \"true\",\n",
        "  path \"/tmp/MLData/autos.csv\",\n",
        "  inferSchema \"true\"\n",
        ")\n",
        "\"\"\"\n",
        "spark.sql(query)"
      ]
    },
    {
      "cell_type": "markdown",
      "metadata": {
        "id": "0EKaX3uGYiJg"
      },
      "source": [
        "## Phase 0: Understanding the data\n",
        "\n",
        "\n",
        "\n",
        "\n"
      ]
    },
    {
      "cell_type": "markdown",
      "metadata": {
        "id": "h9yzUuD7uvrD"
      },
      "source": [
        "In this part, you are invited to get some knowledge about the data by reading its schema and extracting  some basic statistical information about the values of columns that you will find interesting."
      ]
    },
    {
      "cell_type": "markdown",
      "metadata": {
        "id": "1y2DZRfl4IcI"
      },
      "source": [
        "### Schema exploration\n",
        "\n",
        "#### Objective\n",
        "\n",
        "Before analyzing the data, we want to understand its structure. The `DESCRIBE` command shows the schema of the table, including column names, data types, and roles.\n",
        "\n",
        "#### Query\n",
        "\n",
        "```sql\n",
        "DESCRIBE raw_vehiculePrices\n",
        "```"
      ]
    },
    {
      "cell_type": "code",
      "execution_count": 162,
      "metadata": {
        "colab": {
          "base_uri": "https://localhost:8080/"
        },
        "id": "Eb6-J0azcBma",
        "outputId": "2a518bb3-3f44-4942-8683-5a413217be3f"
      },
      "outputs": [
        {
          "name": "stdout",
          "output_type": "stream",
          "text": [
            "+-------------------+---------+-------+\n",
            "|           col_name|data_type|comment|\n",
            "+-------------------+---------+-------+\n",
            "|        dateCrawled|timestamp|   NULL|\n",
            "|               name|   string|   NULL|\n",
            "|             seller|   string|   NULL|\n",
            "|          offerType|   string|   NULL|\n",
            "|              price|      int|   NULL|\n",
            "|             abtest|   string|   NULL|\n",
            "|        vehicleType|   string|   NULL|\n",
            "| yearOfRegistration|      int|   NULL|\n",
            "|            gearbox|   string|   NULL|\n",
            "|            powerPS|      int|   NULL|\n",
            "|              model|   string|   NULL|\n",
            "|          kilometer|      int|   NULL|\n",
            "|monthOfRegistration|      int|   NULL|\n",
            "|           fuelType|   string|   NULL|\n",
            "|              brand|   string|   NULL|\n",
            "|  notRepairedDamage|   string|   NULL|\n",
            "|        dateCreated|timestamp|   NULL|\n",
            "|       nrOfPictures|      int|   NULL|\n",
            "|         postalCode|      int|   NULL|\n",
            "|           lastSeen|timestamp|   NULL|\n",
            "+-------------------+---------+-------+\n",
            "\n"
          ]
        }
      ],
      "source": [
        "sc.setJobDescription(\"[Phase 0] Describe schema of raw_vehiculePrices table\")\n",
        "query = \"\"\"\n",
        "DESCRIBE raw_vehiculePrices\n",
        "\"\"\"\n",
        "spark.sql(query).show()"
      ]
    },
    {
      "cell_type": "markdown",
      "metadata": {
        "id": "5WyavCP_4K--"
      },
      "source": [
        "#### Explanation\n",
        "\n",
        "The dataset contains 20 columns, such as `yearOfRegistration`, `price`, `kilometer`, `brand`, and `fuelType`.\n",
        "We observe a mix of:\n",
        "\n",
        "- **Numerical columns**: `price`, `powerPS`, `kilometer`, `yearOfRegistration` ;\n",
        "- **Categorical columns**: `brand`, `fuelType`, `gearbox`, `vehicleType` ;\n",
        "- **Timestamps**: `dateCrawled`, `dateCreated`, `lastSeen`.\n",
        "\n",
        "This confirms the dataset is rich enough for meaningful analysis of vehicle prices and characteristics."
      ]
    },
    {
      "cell_type": "markdown",
      "metadata": {
        "id": "T1YZAnwyiZfH"
      },
      "source": [
        "### Data Preview: Sample Rows from the Dataset\n",
        "\n",
        "#### Objective\n",
        "\n",
        "Before diving into detailed statistics, we want to preview a few sample rows of the dataset.  \n",
        "This helps us understand the raw structure, check how values are formatted (e.g., prices, dates, categorical fields),  \n",
        "and spot any obvious anomalies or missing values directly in the data.\n",
        "\n",
        "#### Query\n",
        "\n",
        "```sql\n",
        "SELECT *\n",
        "FROM raw_vehiculePrices TABLESAMPLE (5 ROWS);\n",
        "```"
      ]
    },
    {
      "cell_type": "code",
      "execution_count": 163,
      "metadata": {
        "colab": {
          "base_uri": "https://localhost:8080/"
        },
        "id": "XeJDgTnicSx0",
        "outputId": "76567b6a-a269-4ab2-8064-bd9bd48c65b3"
      },
      "outputs": [
        {
          "name": "stdout",
          "output_type": "stream",
          "text": [
            "+-------------------+--------------------+------+---------+-----+------+-----------+------------------+---------+-------+-----+---------+-------------------+--------+----------+-----------------+-------------------+------------+----------+-------------------+\n",
            "|        dateCrawled|                name|seller|offerType|price|abtest|vehicleType|yearOfRegistration|  gearbox|powerPS|model|kilometer|monthOfRegistration|fuelType|     brand|notRepairedDamage|        dateCreated|nrOfPictures|postalCode|           lastSeen|\n",
            "+-------------------+--------------------+------+---------+-----+------+-----------+------------------+---------+-------+-----+---------+-------------------+--------+----------+-----------------+-------------------+------------+----------+-------------------+\n",
            "|2016-03-24 11:52:17|          Golf_3_1.6|privat|  Angebot|  480|  test|       NULL|              1993|  manuell|      0| golf|   150000|                  0|  benzin|volkswagen|             NULL|2016-03-24 00:00:00|           0|     70435|2016-04-07 03:16:57|\n",
            "|2016-03-24 10:58:45|A5_Sportback_2.7_Tdi|privat|  Angebot|18300|  test|      coupe|              2011|  manuell|    190| NULL|   125000|                  5|  diesel|      audi|               ja|2016-03-24 00:00:00|           0|     66954|2016-04-07 01:46:50|\n",
            "|2016-03-14 12:52:21|Jeep_Grand_Cherok...|privat|  Angebot| 9800|  test|        suv|              2004|automatik|    163|grand|   125000|                  8|  diesel|      jeep|             NULL|2016-03-14 00:00:00|           0|     90480|2016-04-05 12:47:46|\n",
            "|2016-03-17 16:54:04|  GOLF_4_1_4__3T�RER|privat|  Angebot| 1500|  test| kleinwagen|              2001|  manuell|     75| golf|   150000|                  6|  benzin|volkswagen|             nein|2016-03-17 00:00:00|           0|     91074|2016-03-17 17:40:17|\n",
            "|2016-03-31 17:25:20|Skoda_Fabia_1.4_T...|privat|  Angebot| 3600|  test| kleinwagen|              2008|  manuell|     69|fabia|    90000|                  7|  diesel|     skoda|             nein|2016-03-31 00:00:00|           0|     60437|2016-04-06 10:17:21|\n",
            "+-------------------+--------------------+------+---------+-----+------+-----------+------------------+---------+-------+-----+---------+-------------------+--------+----------+-----------------+-------------------+------------+----------+-------------------+\n",
            "\n"
          ]
        }
      ],
      "source": [
        "sc.setJobDescription(\n",
        "    \"[Phase 0] Preview sample rows from raw_vehiculePrices table\"\n",
        ")\n",
        "query = \"\"\"\n",
        "SELECT * FROM raw_vehiculePrices TABLESAMPLE (5 ROWS);\n",
        "\"\"\"\n",
        "spark.sql(query).show()"
      ]
    },
    {
      "cell_type": "markdown",
      "metadata": {
        "id": "W1k6vl8a525t"
      },
      "source": [
        "#### Explanation\n",
        "\n",
        "The preview confirms that the dataset contains diverse information about car listings:\n",
        "\n",
        "- Timestamps such as `dateCrawled`, `dateCreated`, and `lastSeen` record when the ad was collected and updated ;\n",
        "- Vehicle details include `name`, `brand`, `model`, `yearOfRegistration`, `gearbox`, `fuelType`, `kilometer`, and `powerPS` ;\n",
        "- Market-related attributes include `price`, `seller`, `offerType`, and `notRepairedDamage` ;\n",
        "- Some fields contain missing values (e.g., `vehicleType = NULL`, `model = NULL`), and unrealistic values are already visible (e.g., `powerPS = 0`) ;\n",
        "- The column `nrOfPictures` is always 0 in the sample, which suggests it may not provide useful information.  \n",
        "\n",
        "This sample illustrates both the richness of the dataset and the data quality issues (nulls, zeros, possible encoding problems like special characters in names) that will need to be addressed during cleaning."
      ]
    },
    {
      "cell_type": "markdown",
      "metadata": {
        "id": "x30mbRS03min"
      },
      "source": [
        "### Year of registration: Summary statistics\n",
        "\n",
        "#### Objective\n",
        "\n",
        "We want to identify the range and central tendency of the `yearOfRegistration` column to check for anomalies and understand the distribution of registration years.\n",
        "\n",
        "#### Query\n",
        "\n",
        "```sql\n",
        "SELECT  min(yearOfRegistration), max(yearOfRegistration),\n",
        "        avg(yearOfRegistration), median(yearOfRegistration)\n",
        "FROM raw_vehiculePrices\n",
        "```"
      ]
    },
    {
      "cell_type": "code",
      "execution_count": 164,
      "metadata": {
        "colab": {
          "base_uri": "https://localhost:8080/"
        },
        "id": "OHSwz3vShMMx",
        "outputId": "15f87e0d-a7a9-41f0-d10e-bbc26fdb7f97"
      },
      "outputs": [
        {
          "name": "stdout",
          "output_type": "stream",
          "text": [
            "+-----------------------+-----------------------+-----------------------+--------------------------+\n",
            "|min(yearOfRegistration)|max(yearOfRegistration)|avg(yearOfRegistration)|median(yearOfRegistration)|\n",
            "+-----------------------+-----------------------+-----------------------+--------------------------+\n",
            "|                   1000|                   9999|     2004.5767206439623|                    2003.0|\n",
            "+-----------------------+-----------------------+-----------------------+--------------------------+\n",
            "\n"
          ]
        }
      ],
      "source": [
        "sc.setJobDescription(\n",
        "    \"[Phase 0] Compute min, max, avg, and median of yearOfRegistration in raw_vehiculePrices\"\n",
        ")\n",
        "query = \"\"\"\n",
        "SELECT  min(yearOfRegistration), max(yearOfRegistration),\n",
        "          avg(yearOfRegistration), median(yearOfRegistration)\n",
        "FROM raw_vehiculePrices\n",
        "\"\"\"\n",
        "spark.sql(query).show()"
      ]
    },
    {
      "cell_type": "markdown",
      "metadata": {
        "id": "VeniEb7x3voE"
      },
      "source": [
        "#### Explanation\n",
        "\n",
        "* Min = 1000 → invalid year ;\n",
        "* Max = 9999 → invalid future year ;\n",
        "* Average ≈ 2004.6 ;\n",
        "* Median = 2003.\n",
        "\n",
        "This shows that the majority of cars are from the 2000s, but the column also contains strong outliers that must be removed for correct analysis."
      ]
    },
    {
      "cell_type": "markdown",
      "metadata": {
        "id": "cEYejq9S3Gcr"
      },
      "source": [
        "### Year of registration: Distribution analysis\n",
        "\n",
        "#### Objective\n",
        "\n",
        "We want to explore the distribution of `yearOfRegistration` to confirm where most cars are concentrated and detect abnormal entries.\n",
        "\n",
        "#### Query\n",
        "\n",
        "```sql\n",
        "SELECT yearOfRegistration, count(*)\n",
        "FROM raw_vehiculePrices\n",
        "GROUP BY yearOfRegistration\n",
        "ORDER BY yearOfRegistration DESC\n",
        "```"
      ]
    },
    {
      "cell_type": "code",
      "execution_count": 165,
      "metadata": {
        "colab": {
          "base_uri": "https://localhost:8080/"
        },
        "id": "y43pSPgweGPF",
        "outputId": "9b6af65b-f509-4005-beba-065069e74195"
      },
      "outputs": [
        {
          "name": "stdout",
          "output_type": "stream",
          "text": [
            "+------------------+--------+\n",
            "|yearOfRegistration|count(1)|\n",
            "+------------------+--------+\n",
            "|              9999|      27|\n",
            "|              9996|       1|\n",
            "|              9450|       1|\n",
            "|              9229|       1|\n",
            "|              9000|       5|\n",
            "|              8888|       2|\n",
            "|              8500|       1|\n",
            "|              8455|       1|\n",
            "|              8200|       1|\n",
            "|              8000|       2|\n",
            "|              7800|       1|\n",
            "|              7777|       1|\n",
            "|              7500|       2|\n",
            "|              7100|       1|\n",
            "|              7000|       4|\n",
            "|              6500|       1|\n",
            "|              6200|       1|\n",
            "|              6000|       6|\n",
            "|              5911|       2|\n",
            "|              5900|       1|\n",
            "|              5600|       1|\n",
            "|              5555|       2|\n",
            "|              5300|       1|\n",
            "|              5000|      18|\n",
            "|              4800|       1|\n",
            "|              4500|       2|\n",
            "|              4100|       1|\n",
            "|              4000|       3|\n",
            "|              3800|       1|\n",
            "|              3700|       1|\n",
            "|              3500|       1|\n",
            "|              3200|       1|\n",
            "|              3000|       7|\n",
            "|              2900|       1|\n",
            "|              2800|       2|\n",
            "|              2500|       4|\n",
            "|              2290|       1|\n",
            "|              2222|       2|\n",
            "|              2200|       1|\n",
            "|              2066|       1|\n",
            "|              2019|      27|\n",
            "|              2018|    3996|\n",
            "|              2017|   10554|\n",
            "|              2016|    9865|\n",
            "|              2015|    2987|\n",
            "|              2014|    4805|\n",
            "|              2013|    6162|\n",
            "|              2012|    9427|\n",
            "|              2011|   12073|\n",
            "|              2010|   12364|\n",
            "|              2009|   15617|\n",
            "|              2008|   16184|\n",
            "|              2007|   17684|\n",
            "|              2006|   20252|\n",
            "|              2005|   22330|\n",
            "|              2004|   19761|\n",
            "|              2003|   19885|\n",
            "|              2002|   19211|\n",
            "|              2001|   20231|\n",
            "|              2000|   24575|\n",
            "|              1999|   22783|\n",
            "|              1998|   17973|\n",
            "|              1997|   14714|\n",
            "|              1996|   10895|\n",
            "|              1995|    9664|\n",
            "|              1994|    4876|\n",
            "|              1993|    3473|\n",
            "|              1992|    3050|\n",
            "|              1991|    2813|\n",
            "|              1990|    2859|\n",
            "|              1989|    1344|\n",
            "|              1988|     968|\n",
            "|              1987|     697|\n",
            "|              1986|     576|\n",
            "|              1985|     787|\n",
            "|              1984|     423|\n",
            "|              1983|     455|\n",
            "|              1982|     335|\n",
            "|              1981|     284|\n",
            "|              1980|     629|\n",
            "|              1979|     312|\n",
            "|              1978|     307|\n",
            "|              1977|     193|\n",
            "|              1976|     193|\n",
            "|              1975|     152|\n",
            "|              1974|     201|\n",
            "|              1973|     205|\n",
            "|              1972|     248|\n",
            "|              1971|     199|\n",
            "|              1970|     372|\n",
            "|              1969|     154|\n",
            "|              1968|     147|\n",
            "|              1967|     142|\n",
            "|              1966|     160|\n",
            "|              1965|     121|\n",
            "|              1964|      80|\n",
            "|              1963|      77|\n",
            "|              1962|      53|\n",
            "|              1961|      51|\n",
            "|              1960|     214|\n",
            "|              1959|      45|\n",
            "|              1958|      34|\n",
            "|              1957|      27|\n",
            "|              1956|      33|\n",
            "|              1955|      25|\n",
            "|              1954|      16|\n",
            "|              1953|      18|\n",
            "|              1952|      12|\n",
            "|              1951|      19|\n",
            "|              1950|      22|\n",
            "|              1949|       3|\n",
            "|              1948|       4|\n",
            "|              1947|       5|\n",
            "|              1946|       2|\n",
            "|              1945|       5|\n",
            "|              1944|       2|\n",
            "|              1943|       5|\n",
            "|              1942|       3|\n",
            "|              1941|       4|\n",
            "|              1940|       2|\n",
            "|              1939|       4|\n",
            "|              1938|       8|\n",
            "|              1937|      13|\n",
            "|              1936|       7|\n",
            "|              1935|       6|\n",
            "|              1934|       5|\n",
            "|              1933|       6|\n",
            "|              1932|       4|\n",
            "|              1931|       4|\n",
            "|              1930|       5|\n",
            "|              1929|       8|\n",
            "|              1928|       2|\n",
            "|              1927|       2|\n",
            "|              1925|       1|\n",
            "|              1923|       3|\n",
            "|              1920|       1|\n",
            "|              1919|       1|\n",
            "|              1915|       1|\n",
            "|              1911|       1|\n",
            "|              1910|     104|\n",
            "|              1800|       5|\n",
            "|              1688|       1|\n",
            "|              1602|       1|\n",
            "|              1600|       2|\n",
            "|              1500|       5|\n",
            "|              1400|       1|\n",
            "|              1300|       2|\n",
            "|              1255|       1|\n",
            "|              1253|       1|\n",
            "|              1234|       4|\n",
            "+------------------+--------+\n",
            "only showing top 150 rows\n",
            "\n"
          ]
        }
      ],
      "source": [
        "sc.setJobDescription(\n",
        "    \"[Phase 0] Count vehicles grouped by yearOfRegistration in raw_vehiculePrices\"\n",
        ")\n",
        "query = \"\"\"\n",
        "SELECT  yearOfRegistration, count(*)\n",
        "FROM raw_vehiculePrices\n",
        "GROUP BY yearOfRegistration\n",
        "order by 1 desc,2 desc\n",
        "\"\"\"\n",
        "spark.sql(query).show(150)"
      ]
    },
    {
      "cell_type": "markdown",
      "metadata": {
        "id": "k3nC_EtY3X-Y"
      },
      "source": [
        "#### Explanation\n",
        "\n",
        "* Unrealistic years are present (9999, 3000, 1500, etc.).\n",
        "* Most records are within **1950-2019**, which is a realistic range.\n",
        "* Highest counts are between **1995-2010**, with a peak around 2000.\n",
        "* Few entries exist for 2018-2019, probably because of the dataset's collection date.\n",
        "\n",
        "This suggests we should keep only registrations in a valid range (e.g. 1950-2019) for further analysis.\n",
        "\n",
        "To gain deeper insights, it is useful to visualize the distribution of the year of registration.\n",
        "\n",
        "#### Bar Plot of Vehicle Registrations by Year\n",
        "\n",
        "The observed interval is extremely wide. Since the previous query revealed that `yearOfRegistration` ranges from 1000 to 9999, it is necessary to filter out unrealistic values.  \n",
        "For the analysis, we restrict the data to the realistic range of 1950-2019."
      ]
    },
    {
      "cell_type": "code",
      "execution_count": 166,
      "metadata": {
        "colab": {
          "base_uri": "https://localhost:8080/",
          "height": 478
        },
        "id": "5ymvq5ab9i1g",
        "outputId": "27020043-0a53-460f-ce00-03a2a808f77d"
      },
      "outputs": [
        {
          "data": {
            "image/png": "[encoded data removed]",
            "text/plain": [
              "<Figure size 1400x600 with 1 Axes>"
            ]
          },
          "metadata": {},
          "output_type": "display_data"
        }
      ],
      "source": [
        "sc.setJobDescription(\n",
        "    \"[Phase 0] Count vehicles grouped by yearOfRegistration in raw_vehiculePrices [plot]\"\n",
        ")\n",
        "# Run the query and convert to Pandas for plotting\n",
        "query = \"\"\"\n",
        "SELECT yearOfRegistration, count(*) as count\n",
        "FROM raw_vehiculePrices\n",
        "GROUP BY yearOfRegistration\n",
        "ORDER BY yearOfRegistration\n",
        "\"\"\"\n",
        "df_years = spark.sql(query).toPandas()\n",
        "\n",
        "# Filter unrealistic years, e.g. keep only 1950–2019\n",
        "df_years = df_years[\n",
        "    (df_years[\"yearOfRegistration\"] >= 1950)\n",
        "    & (df_years[\"yearOfRegistration\"] <= 2019)\n",
        "]\n",
        "\n",
        "# Convert yearOfRegistration from float (e.g. 1977.0) to integer (1977) for\n",
        "# cleaner axis labels\n",
        "df_years[\"yearOfRegistration\"] = df_years[\"yearOfRegistration\"].astype(int)\n",
        "\n",
        "# Plot\n",
        "plt.figure(figsize=(14, 6))\n",
        "plt.bar(df_years[\"yearOfRegistration\"].astype(str), df_years[\"count\"])\n",
        "plt.xticks(rotation=90)\n",
        "plt.xlabel(\"Year of Registration\")\n",
        "plt.ylabel(\"Number of Vehicles\")\n",
        "plt.title(\"Distribution of Vehicle Registrations (1950–2019)\")\n",
        "plt.tight_layout()\n",
        "plt.show()"
      ]
    },
    {
      "cell_type": "markdown",
      "metadata": {
        "id": "M2jKSIMr-MJL"
      },
      "source": [
        "The bar plot above shows the distribution of vehicles by year of registration, restricted to the realistic range 1950-2019.  \n",
        "We observe that:  \n",
        "- Very few vehicles are registered before 1980, as expected for older cars ;\n",
        "- The number of registrations increases steadily from the mid-1980s, peaking around 1995-2010 ;\n",
        "- After 2010, the counts decline, with only a small number of cars from 2018-2019, likely due to the dataset's collection period.  \n",
        "\n",
        "This visualization confirms the earlier statistical findings: most cars in the dataset are relatively modern, with a strong concentration in the 1995-2010 range."
      ]
    },
    {
      "cell_type": "markdown",
      "metadata": {
        "id": "5SO34d-E21uk"
      },
      "source": [
        "### Price\n",
        "\n",
        "#### Objective\n",
        "\n",
        "We want to analyze car prices by computing minimum, maximum, average, and median values to detect unrealistic entries and identify a central tendency.\n",
        "\n",
        "#### Query\n",
        "\n",
        "```sql\n",
        "SELECT min(price), max(price),\n",
        "       avg(price), median(price)\n",
        "FROM raw_vehiculePrices\n",
        "```"
      ]
    },
    {
      "cell_type": "code",
      "execution_count": 167,
      "metadata": {
        "colab": {
          "base_uri": "https://localhost:8080/"
        },
        "id": "L07JiYkMe8Ss",
        "outputId": "370279a7-acf7-4f78-c45e-7664035bb7f1"
      },
      "outputs": [
        {
          "name": "stdout",
          "output_type": "stream",
          "text": [
            "+----------+----------+------------------+-------------+\n",
            "|min(price)|max(price)|        avg(price)|median(price)|\n",
            "+----------+----------+------------------+-------------+\n",
            "|         0|2147483647|17286.338865535483|       2950.0|\n",
            "+----------+----------+------------------+-------------+\n",
            "\n"
          ]
        }
      ],
      "source": [
        "sc.setJobDescription(\n",
        "    \"[Phase 0] Compute min, max, avg, and median of price in raw_vehiculePrices\"\n",
        ")\n",
        "query = \"\"\"\n",
        "SELECT  min(price), max(price),\n",
        "          avg(price), median(price)\n",
        "FROM raw_vehiculePrices\n",
        "\"\"\"\n",
        "spark.sql(query).show()"
      ]
    },
    {
      "cell_type": "markdown",
      "metadata": {
        "id": "T5kqI4JS3BBY"
      },
      "source": [
        "#### Explanation\n",
        "\n",
        "- Min = 0 → invalid ;\n",
        "- Max = 2,147,483,647 → unrealistic (max integer value) ;\n",
        "- Average ≈ 17,286 → skewed by outliers ;\n",
        "- Median = 2,950 → more representative of used car prices.\n",
        "\n",
        "Outliers strongly affect the mean, so the **median is a better measure**. Cleaning is needed to remove 0 and excessively high prices."
      ]
    },
    {
      "cell_type": "markdown",
      "metadata": {
        "id": "_FwxzozV2JsX"
      },
      "source": [
        "### Kilometer\n",
        "\n",
        "#### Objective\n",
        "\n",
        "We want to analyze the mileage of vehicles (`kilometer`) to understand usage levels and check for potential capping or anomalies.\n",
        "\n",
        "#### Query\n",
        "\n",
        "```sql\n",
        "SELECT min(kilometer), max(kilometer),\n",
        "       avg(kilometer), median(kilometer)\n",
        "FROM raw_vehiculePrices\n",
        "```\n",
        "\n"
      ]
    },
    {
      "cell_type": "code",
      "execution_count": 168,
      "metadata": {
        "colab": {
          "base_uri": "https://localhost:8080/"
        },
        "id": "1i5aH7TuiB7U",
        "outputId": "1df2878d-bd70-477e-ad2a-bd4ef99f15d1"
      },
      "outputs": [
        {
          "name": "stdout",
          "output_type": "stream",
          "text": [
            "+--------------+--------------+------------------+-----------------+\n",
            "|min(kilometer)|max(kilometer)|    avg(kilometer)|median(kilometer)|\n",
            "+--------------+--------------+------------------+-----------------+\n",
            "|          5000|        150000|125618.56044408226|         150000.0|\n",
            "+--------------+--------------+------------------+-----------------+\n",
            "\n"
          ]
        }
      ],
      "source": [
        "sc.setJobDescription(\n",
        "    \"[Phase 0] Compute min, max, avg, and median of kilometer in raw_vehiculePrices\"\n",
        ")\n",
        "query = \"\"\"\n",
        "SELECT  min(kilometer), max(kilometer),\n",
        "          avg(kilometer), median(kilometer)\n",
        "FROM raw_vehiculePrices\n",
        "\"\"\"\n",
        "spark.sql(query).show()"
      ]
    },
    {
      "cell_type": "markdown",
      "metadata": {
        "id": "ZmU42ayi2bSv"
      },
      "source": [
        "#### Explanation\n",
        "\n",
        "- Min = 5,000 → suspicious (new cars should have values closer to 0) ;\n",
        "- Max = 150,000 → capped value, suggesting a data limit ;\n",
        "- Average ≈ 125,619 ;\n",
        "- Median = 150,000 → indicates at least half of the vehicles are at the maximum cap.\n",
        "\n",
        "This shows that most vehicles in the dataset are **high-mileage** and that the column is truncated at 150,000 km."
      ]
    },
    {
      "cell_type": "markdown",
      "metadata": {
        "id": "QN_gQsYV1hwg"
      },
      "source": [
        "### Global summary\n",
        "\n",
        "The dataset contains a rich set of categorical and numerical features.\n",
        "Data quality issues exist:\n",
        "\n",
        "- Invalid years of registration (1000, 9999, etc.) ;\n",
        "- Invalid prices (0 or extremely large).\n",
        "- Mileage capped at 150,000.\n",
        "\n",
        "Some patterns are observed:\n",
        "\n",
        "- Most cars were registered between 1995-2010.\n",
        "- Typical prices cluster around €3,000.\n",
        "- Vehicles are generally high-mileage.\n",
        "\n",
        "These insights confirm the need for **data cleaning** before deeper analysis. After cleaning, we will be able to analyze relationships such as:\n",
        "\n",
        "- Price per year of registration.\n",
        "- Price differences by brand or fuel type.\n",
        "- Effect of mileage on price."
      ]
    },
    {
      "cell_type": "markdown",
      "metadata": {
        "id": "5eQ7H8YNvJ-C"
      },
      "source": [
        "## Phase 1: Cleaning the data and selecting relevant columns"
      ]
    },
    {
      "cell_type": "markdown",
      "metadata": {
        "id": "aElQN6zKvLrO"
      },
      "source": [
        "In this part you are invited to decide which columns are useful for you analysis and to perform some cleaning on the data by removing outlier values (e.g. remove records with strange values for a specific column).\n",
        "The result of your cleaning and selection should be stored in a table called `phase1`\n",
        "\n",
        "Give a brief summary of your choices."
      ]
    },
    {
      "cell_type": "markdown",
      "metadata": {
        "id": "Kh-LCjIF-0uK"
      },
      "source": [
        "Based on everything we saw in the exploration section here's a structured plan:\n",
        "\n",
        "### Columns to Keep\n",
        "\n",
        "These columns are relevant for analyzing car prices and patterns:\n",
        "\n",
        "- `price`: target of analysis, must be cleaned of invalid values (0, unrealistic highs) ;\n",
        "- `yearOfRegistration` : key for trends; filter to realistic range (1950-2019) ;\n",
        "- `kilometer`: indicates usage level, despite capping at 150,000.\n",
        "- `powerPS`: engine power; keep but filter out zeros and unrealistic values (e.g., > 500-600 PS may be extreme for most cars) ;\n",
        "- `fuelType`: categorical feature, useful for grouping (diesel, benzin, etc.).\n",
        "- `gearbox`: categorical, relevant for analysis (manual vs automatic).\n",
        "- `vehicleType`: useful categorical (SUV, coupe, etc.), despite some nulls ;\n",
        "- `brand`: essential categorical (BMW, Audi, VW, etc.) ;\n",
        "- `notRepairedDamage`: categorical, may affect price (yes/no).\n",
        "\n",
        "### Columns to Drop (less relevant / redundant)\n",
        "\n",
        "- `dateCrawled`, `dateCreated`, `lastSeen`: technical crawling metadata, not useful for price analysis ;\n",
        "- `name`: unstructured text, too noisy for this homework's scope.\n",
        "- `abtest`: internal A/B testing flag, irrelevant ;\n",
        "- `seller`: mostly “privat” (not informative) ;\n",
        "- `offerType`: almost always “Angebot” (not informative) ;\n",
        "- `nrOfPictures`: always 0 in sample, useless ;\n",
        "- `postalCode`: location info, could be interesting but too granular for now (can be dropped unless geographical analysis is needed) ;\n",
        "- `monthOfRegistration`: redundant with `yearOfRegistration`, too fine-grained.\n",
        "\n",
        "### Cleaning Rules (to apply before saving `phase1`)\n",
        "\n",
        "- `yearOfRegistration`: keep only 1950-2019 ;\n",
        "- `price`: remove records where `price <= 100` or `price >= 100000` (the threshold will be adjusted in order to determine the most suitable value) ;\n",
        "- `kilometer`: already capped at 150,000 : keep but note limitation.\n",
        "- `powerPS`: remove outliers (e.g., `powerPS < 10` or `powerPS > 500`).\n",
        "- Categorical values: filter out nulls where appropriate (e.g., brand).\n",
        "\n",
        "So the **final cleaned table `phase1`** should include:\n",
        "\n",
        "\n",
        "- `price`;\n",
        "- `yearOfRegistration`;\n",
        "- `kilometer`;\n",
        "- `powerPS`;\n",
        "- `fuelType`;\n",
        "- `gearbox`;\n",
        "- `vehicleType`;\n",
        "- `brand`;\n",
        "-`notRepairedDamage`.\n",
        "\n",
        "The following query will be used:\n",
        "\n",
        "```sql\n",
        "CREATE OR REPLACE TABLE phase1 AS\n",
        "SELECT\n",
        "    price,\n",
        "    yearOfRegistration,\n",
        "    kilometer,\n",
        "    powerPS,\n",
        "    fuelType,\n",
        "    gearbox,\n",
        "    vehicleType,\n",
        "    brand,\n",
        "    notRepairedDamage\n",
        "FROM raw_vehiculePrices\n",
        "WHERE\n",
        "    -- keep only realistic years\n",
        "    yearOfRegistration BETWEEN 1950 AND 2019\n",
        "    -- filter price (remove too low / too high)\n",
        "    AND price BETWEEN 100 AND 100000\n",
        "    -- filter engine power\n",
        "    AND powerPS BETWEEN 10 AND 500\n",
        "    -- remove null brands\n",
        "    AND brand IS NOT NULL\n",
        "```"
      ]
    },
    {
      "cell_type": "code",
      "execution_count": 169,
      "metadata": {
        "colab": {
          "base_uri": "https://localhost:8080/"
        },
        "id": "EPN6EUQGwpgJ",
        "outputId": "840740d8-ff67-4597-80c1-8c179e9abe4c"
      },
      "outputs": [
        {
          "name": "stdout",
          "output_type": "stream",
          "text": [
            "✅ Table 'phase1' created successfully.\n"
          ]
        }
      ],
      "source": [
        "sc.setJobDescription(\"[Phase 1] Clean raw data and save as table phase1\")\n",
        "# Apply cleaning with DataFrame API\n",
        "phase1_df = (\n",
        "    spark.table(\"raw_vehiculePrices\")\n",
        "    .select(\n",
        "        \"price\",\n",
        "        \"yearOfRegistration\",\n",
        "        \"kilometer\",\n",
        "        \"powerPS\",\n",
        "        \"fuelType\",\n",
        "        \"gearbox\",\n",
        "        \"vehicleType\",\n",
        "        \"brand\",\n",
        "        \"notRepairedDamage\",\n",
        "    )\n",
        "    .where(\n",
        "        (col(\"yearOfRegistration\").between(1950, 2019))\n",
        "        & (col(\"price\").between(100, 100000))\n",
        "        & (col(\"powerPS\").between(10, 500))\n",
        "        & (col(\"brand\").isNotNull())\n",
        "    )\n",
        ")\n",
        "\n",
        "try:\n",
        "    # Try saving directly\n",
        "    phase1_df.write.mode(\"overwrite\").saveAsTable(\"phase1\")\n",
        "    print(\"✅ Table 'phase1' created successfully.\")\n",
        "\n",
        "except Exception as e:\n",
        "    print(\"⚠️ Save failed, cleaning existing location...\")\n",
        "\n",
        "    # Remove the old location if it exists\n",
        "    shutil.rmtree(\"/content/spark-warehouse/phase1\", ignore_errors=True)\n",
        "\n",
        "    # Retry saving\n",
        "    phase1_df.write.mode(\"overwrite\").saveAsTable(\"phase1\")\n",
        "    print(\"✅ Table 'phase1' created successfully after cleanup.\")"
      ]
    },
    {
      "cell_type": "code",
      "execution_count": 170,
      "metadata": {
        "colab": {
          "base_uri": "https://localhost:8080/"
        },
        "id": "krsvswNBwpYh",
        "outputId": "69d03cb2-ac79-4d9c-d28d-52ece72346f5"
      },
      "outputs": [
        {
          "name": "stdout",
          "output_type": "stream",
          "text": [
            "+------------------+---------+-------+\n",
            "|          col_name|data_type|comment|\n",
            "+------------------+---------+-------+\n",
            "|             price|      int|   NULL|\n",
            "|yearOfRegistration|      int|   NULL|\n",
            "|         kilometer|      int|   NULL|\n",
            "|           powerPS|      int|   NULL|\n",
            "|          fuelType|   string|   NULL|\n",
            "|           gearbox|   string|   NULL|\n",
            "|       vehicleType|   string|   NULL|\n",
            "|             brand|   string|   NULL|\n",
            "| notRepairedDamage|   string|   NULL|\n",
            "+------------------+---------+-------+\n",
            "\n",
            "+--------+\n",
            "|count(1)|\n",
            "+--------+\n",
            "|  321442|\n",
            "+--------+\n",
            "\n"
          ]
        }
      ],
      "source": [
        "sc.setJobDescription(\"[Phase 1] DESCRIBE phase1\")\n",
        "spark.sql(\"DESCRIBE phase1\").show()\n",
        "sc.setJobDescription(\"[Phase 1] COUNT(*) FROM phase1\")\n",
        "spark.sql(\"SELECT COUNT(*) FROM phase1\").show()"
      ]
    },
    {
      "cell_type": "markdown",
      "metadata": {
        "id": "imiDhnt7Ymi3"
      },
      "source": [
        "## Phase 2: Organizing the data"
      ]
    },
    {
      "cell_type": "markdown",
      "metadata": {
        "id": "9EEhbLS3w5G4"
      },
      "source": [
        "In this part you are invited to load the data into delta tables where you will define meaningful constraints and conditions to be fulfiled by any future incoming data.\n",
        "The result of this phase should a delta table called `deltaPrices`\n",
        "\n",
        "### Create the Delta table\n",
        "\n",
        "First, we load the cleaned dataset (`phase1`) into Delta format.  \n",
        "This step transforms the intermediate table produced in Phase 1 into a Delta table called `deltaPrices`.  \n",
        "\n",
        "Using the **Delta Lake format** ensures:\n",
        "- **ACID transactions** (atomicity, consistency, isolation, durability),\n",
        "- support for **updates and deletes** (not possible in plain CSV/Parquet),\n",
        "- ability to **enforce constraints** on future incoming data.\n",
        "\n",
        "This makes `deltaPrices` the central, reliable dataset for all subsequent analyses.\n",
        "\n",
        "The following query will be used:\n",
        "```SQL\n",
        "CREATE OR REPLACE TABLE deltaPrices\n",
        "USING delta\n",
        "AS\n",
        "SELECT *\n",
        "FROM phase1\n",
        "```\n",
        "\n",
        "We previously created a dataframe `phase1_df` to apply cleaning with DataFrame API.\n"
      ]
    },
    {
      "cell_type": "code",
      "execution_count": 171,
      "metadata": {
        "colab": {
          "base_uri": "https://localhost:8080/"
        },
        "id": "BkWSLKNFYrmb",
        "outputId": "b7b369fa-87f6-4d8d-9998-3e28677d9815"
      },
      "outputs": [
        {
          "name": "stdout",
          "output_type": "stream",
          "text": [
            "✅ Table 'deltaPrices' created successfully.\n"
          ]
        }
      ],
      "source": [
        "sc.setJobDescription(\n",
        "    \"[Phase 2] Create the delta table and save as table deltaPrices\"\n",
        ")\n",
        "try:\n",
        "    # Try saving directly as a Delta table\n",
        "    phase1_df.write.format(\"delta\").mode(\"overwrite\").saveAsTable(\n",
        "        \"deltaPrices\"\n",
        "    )\n",
        "    print(\"✅ Table 'deltaPrices' created successfully.\")\n",
        "\n",
        "except Exception as e:\n",
        "    print(\"⚠️ Save failed, cleaning existing location...\")\n",
        "\n",
        "    # Remove the old location if it exists\n",
        "    shutil.rmtree(\"/content/spark-warehouse/deltaPrices\", ignore_errors=True)\n",
        "\n",
        "    # Retry saving\n",
        "    phase1_df.write.format(\"delta\").mode(\"overwrite\").saveAsTable(\n",
        "        \"deltaPrices\"\n",
        "    )\n",
        "    print(\"✅ Table 'deltaPrices' recreated successfully after cleanup.\")"
      ]
    },
    {
      "cell_type": "markdown",
      "metadata": {
        "id": "D2ZPMIjGsebY"
      },
      "source": [
        "### Add Constraints\n",
        "\n",
        "Now that deltaPrices exists, we enforce the same cleaning rules as in Phase 1, but this time at the table level so that future inserts/updates can't break them.\n",
        "\n",
        "This task can be accomplished using the following SQL command:\n",
        "\n",
        "```SQL\n",
        "ALTER TABLE deltaPrices\n",
        "ADD CONSTRAINT valid_price CHECK (price BETWEEN 100 AND 100000);\n",
        "\n",
        "ALTER TABLE deltaPrices\n",
        "ADD CONSTRAINT valid_year CHECK (yearOfRegistration BETWEEN 1950 AND 2019);\n",
        "\n",
        "ALTER TABLE deltaPrices\n",
        "ADD CONSTRAINT valid_power CHECK (powerPS BETWEEN 10 AND 500);\n",
        "\n",
        "ALTER TABLE deltaPrices\n",
        "ADD CONSTRAINT non_null_brand CHECK (brand IS NOT NULL);\n",
        "```"
      ]
    },
    {
      "cell_type": "markdown",
      "metadata": {
        "id": "C0YP77iE0-O6"
      },
      "source": [
        "The constraints we defined for `deltaPrices` mirror the cleaning rules established in Phase 1.  \n",
        "They ensure that the dataset remains consistent and that any future incoming records respect the same quality standards.  \n",
        "\n",
        "- **valid_price**: guarantees that prices are realistic (between €100 and €100,000), avoiding entries with 0 or excessively high values.  \n",
        "- **valid_year**: restricts registrations to the realistic range (1950-2019), removing invalid values like 1000 or 9999.  \n",
        "- **valid_power**: ensures engine power (`powerPS`) falls within plausible bounds (10-500 PS).  \n",
        "- **non_null_brand**: enforces that every vehicle has a brand, since this is a critical feature for analysis.  \n",
        "\n",
        "These constraints act as a safeguard: if new data violates them, the insertion will fail.  \n",
        "This makes `deltaPrices` more robust than the intermediate `phase1` dataset, because the rules are now **enforced automatically** by the Delta table."
      ]
    },
    {
      "cell_type": "code",
      "execution_count": 172,
      "metadata": {
        "colab": {
          "base_uri": "https://localhost:8080/"
        },
        "id": "uhHtM6bHtKg0",
        "outputId": "832d040c-2cbc-418b-8e57-d871f6bfbd69"
      },
      "outputs": [
        {
          "name": "stdout",
          "output_type": "stream",
          "text": [
            "Constraint valid_price already exists: [DELTA_CONSTRAINT_ALREADY_EXISTS] Constraint 'valid_price' already exists. Please delete the old constraint first.\n",
            "Old constraint:\n",
            "price BETWEEN 100 AND 100000\n",
            "Constraint valid_year already exists: [DELTA_CONSTRAINT_ALREADY_EXISTS] Constraint 'valid_year' already exists. Please delete the old constraint first.\n",
            "Old constraint:\n",
            "yearOfRegistration BETWEEN 1950 AND 2019\n",
            "Constraint valid_power already exists: [DELTA_CONSTRAINT_ALREADY_EXISTS] Constraint 'valid_power' already exists. Please delete the old constraint first.\n",
            "Old constraint:\n",
            "powerPS BETWEEN 10 AND 500\n",
            "Constraint non_null_brand already exists: [DELTA_CONSTRAINT_ALREADY_EXISTS] Constraint 'non_null_brand' already exists. Please delete the old constraint first.\n",
            "Old constraint:\n",
            "brand IS NOT NULL\n"
          ]
        }
      ],
      "source": [
        "sc.setJobDescription(\"[Phase 2] Add constraints\")\n",
        "constraints = [\n",
        "    (\"valid_price\", \"price BETWEEN 100 AND 100000\"),\n",
        "    (\"valid_year\", \"yearOfRegistration BETWEEN 1950 AND 2019\"),\n",
        "    (\"valid_power\", \"powerPS BETWEEN 10 AND 500\"),\n",
        "    (\"non_null_brand\", \"brand IS NOT NULL\"),\n",
        "]\n",
        "\n",
        "for name, condition in constraints:\n",
        "    try:\n",
        "        spark.sql(\n",
        "            f\"ALTER TABLE deltaPrices ADD CONSTRAINT {name} CHECK ({condition})\"\n",
        "        )\n",
        "    except Exception as e:\n",
        "        print(f\"Constraint {name} already exists: {e}\")"
      ]
    },
    {
      "cell_type": "markdown",
      "metadata": {
        "id": "e4hHNhKFt65U"
      },
      "source": [
        "### Test Constraint Enforcement\n",
        "\n",
        "We try to insert invalid data and confirm Spark blocks it."
      ]
    },
    {
      "cell_type": "code",
      "execution_count": 173,
      "metadata": {
        "colab": {
          "base_uri": "https://localhost:8080/"
        },
        "id": "lem7sBVuuA-p",
        "outputId": "a557a323-81e8-467a-e6f7-0b3875709988"
      },
      "outputs": [
        {
          "name": "stdout",
          "output_type": "stream",
          "text": [
            "❌ Price too low (<100): Constraint violation -> An error occurred while calling o42.sql.\n",
            ": org.apache.spark.sql.delta.schema.DeltaInvariantViolationException: [DELTA_VIOLATE_CONSTRAINT_WITH_VALUES] CHECK constraint valid_price ((price >= 100) AND (price <= 100000)) violated by row with values:\n",
            " - price : 50\n",
            "\tat org.apache.spark.sql.delta.schema.DeltaInvariantViolationException$.getConstraintViolationWithValuesException(InvariantViolationException.scala:75)\n",
            "\tat org.apache.spark.sql.delta.schema.DeltaInvariantViolationException$.apply(InvariantViolationException.scala:101)\n",
            "\tat org.apache.spark.sql.delta.schema.DeltaInvariantViolationException$.apply(InvariantViolationException.scala:112)\n",
            "\tat org.apache.spark.sql.delta.schema.DeltaInvariantViolationException.apply(InvariantViolationException.scala)\n",
            "\tat org.apache.spark.sql.catalyst.expressions.GeneratedClass$SpecificUnsafeProjection.writeFields_0_0$(Unknown Source)\n",
            "\tat org.apache.spark.sql.catalyst.expressions.GeneratedClass$SpecificUnsafeProjection.apply(Unknown Source)\n",
            "\tat org.apache.spark.sql.delta.constraints.DeltaInvariantCheckerExec.$anonfun$doExecute$3(DeltaInvariantCheckerExec.scala:79)\n",
            "\tat scala.collection.Iterator$$anon$10.next(Iterator.scala:461)\n",
            "\tat org.apache.spark.sql.execution.datasources.FileFormatDataWriter.writeWithIterator(FileFormatDataWriter.scala:92)\n",
            "\tat org.apache.spark.sql.delta.files.DeltaFileFormatWriter$.$anonfun$executeTask$1(DeltaFileFormatWriter.scala:430)\n",
            "\tat org.apache.spark.util.Utils$.tryWithSafeFinallyAndFailureCallbacks(Utils.scala:1397)\n",
            "\tat org.apache.spark.sql.delta.files.DeltaFileFormatWriter$.executeTask(DeltaFileFormatWriter.scala:437)\n",
            "\tat org.apache.spark.sql.delta.files.DeltaFileFormatWriter$.$anonfun$executeWrite$2(DeltaFileFormatWriter.scala:274)\n",
            "\tat org.apache.spark.scheduler.ResultTask.runTask(ResultTask.scala:93)\n",
            "\tat org.apache.spark.TaskContext.runTaskWithListeners(TaskContext.scala:166)\n",
            "\tat org.apache.spark.scheduler.Task.run(Task.scala:141)\n",
            "\tat org.apache.spark.executor.Executor$TaskRunner.$anonfun$run$4(Executor.scala:620)\n",
            "\tat org.apache.spark.util.SparkErrorUtils.tryWithSafeFinally(SparkErrorUtils.scala:64)\n",
            "\tat org.apache.spark.util.SparkErrorUtils.tryWithSafeFinally$(SparkErrorUtils.scala:61)\n",
            "\tat org.apache.spark.util.Utils$.tryWithSafeFinally(Utils.scala:94)\n",
            "\tat org.apache.spark.executor.Executor$TaskRunner.run(Executor.scala:623)\n",
            "\tat java.base/java.util.concurrent.ThreadPoolExecutor.runWorker(ThreadPoolExecutor.java:1128)\n",
            "\tat java.base/java.util.concurrent.ThreadPoolExecutor$Worker.run(ThreadPoolExecutor.java:628)\n",
            "\tat java.base/java.lang.Thread.run(Thread.java:829)\n",
            "\n",
            "❌ Price too high (>100000): Constraint violation -> An error occurred while calling o42.sql.\n",
            ": org.apache.spark.sql.delta.schema.DeltaInvariantViolationException: [DELTA_VIOLATE_CONSTRAINT_WITH_VALUES] CHECK constraint valid_price ((price >= 100) AND (price <= 100000)) violated by row with values:\n",
            " - price : 200000\n",
            "\tat org.apache.spark.sql.delta.schema.DeltaInvariantViolationException$.getConstraintViolationWithValuesException(InvariantViolationException.scala:75)\n",
            "\tat org.apache.spark.sql.delta.schema.DeltaInvariantViolationException$.apply(InvariantViolationException.scala:101)\n",
            "\tat org.apache.spark.sql.delta.schema.DeltaInvariantViolationException$.apply(InvariantViolationException.scala:112)\n",
            "\tat org.apache.spark.sql.delta.schema.DeltaInvariantViolationException.apply(InvariantViolationException.scala)\n",
            "\tat org.apache.spark.sql.catalyst.expressions.GeneratedClass$SpecificUnsafeProjection.writeFields_0_0$(Unknown Source)\n",
            "\tat org.apache.spark.sql.catalyst.expressions.GeneratedClass$SpecificUnsafeProjection.apply(Unknown Source)\n",
            "\tat org.apache.spark.sql.delta.constraints.DeltaInvariantCheckerExec.$anonfun$doExecute$3(DeltaInvariantCheckerExec.scala:79)\n",
            "\tat scala.collection.Iterator$$anon$10.next(Iterator.scala:461)\n",
            "\tat org.apache.spark.sql.execution.datasources.FileFormatDataWriter.writeWithIterator(FileFormatDataWriter.scala:92)\n",
            "\tat org.apache.spark.sql.delta.files.DeltaFileFormatWriter$.$anonfun$executeTask$1(DeltaFileFormatWriter.scala:430)\n",
            "\tat org.apache.spark.util.Utils$.tryWithSafeFinallyAndFailureCallbacks(Utils.scala:1397)\n",
            "\tat org.apache.spark.sql.delta.files.DeltaFileFormatWriter$.executeTask(DeltaFileFormatWriter.scala:437)\n",
            "\tat org.apache.spark.sql.delta.files.DeltaFileFormatWriter$.$anonfun$executeWrite$2(DeltaFileFormatWriter.scala:274)\n",
            "\tat org.apache.spark.scheduler.ResultTask.runTask(ResultTask.scala:93)\n",
            "\tat org.apache.spark.TaskContext.runTaskWithListeners(TaskContext.scala:166)\n",
            "\tat org.apache.spark.scheduler.Task.run(Task.scala:141)\n",
            "\tat org.apache.spark.executor.Executor$TaskRunner.$anonfun$run$4(Executor.scala:620)\n",
            "\tat org.apache.spark.util.SparkErrorUtils.tryWithSafeFinally(SparkErrorUtils.scala:64)\n",
            "\tat org.apache.spark.util.SparkErrorUtils.tryWithSafeFinally$(SparkErrorUtils.scala:61)\n",
            "\tat org.apache.spark.util.Utils$.tryWithSafeFinally(Utils.scala:94)\n",
            "\tat org.apache.spark.executor.Executor$TaskRunner.run(Executor.scala:623)\n",
            "\tat java.base/java.util.concurrent.ThreadPoolExecutor.runWorker(ThreadPoolExecutor.java:1128)\n",
            "\tat java.base/java.util.concurrent.ThreadPoolExecutor$Worker.run(ThreadPoolExecutor.java:628)\n",
            "\tat java.base/java.lang.Thread.run(Thread.java:829)\n",
            "\n",
            "❌ Year too low (<1950): Constraint violation -> An error occurred while calling o42.sql.\n",
            ": org.apache.spark.sql.delta.schema.DeltaInvariantViolationException: [DELTA_VIOLATE_CONSTRAINT_WITH_VALUES] CHECK constraint valid_year ((yearOfRegistration >= 1950) AND (yearOfRegistration <= 2019)) violated by row with values:\n",
            " - yearOfRegistration : 1900\n",
            "\tat org.apache.spark.sql.delta.schema.DeltaInvariantViolationException$.getConstraintViolationWithValuesException(InvariantViolationException.scala:75)\n",
            "\tat org.apache.spark.sql.delta.schema.DeltaInvariantViolationException$.apply(InvariantViolationException.scala:101)\n",
            "\tat org.apache.spark.sql.delta.schema.DeltaInvariantViolationException$.apply(InvariantViolationException.scala:112)\n",
            "\tat org.apache.spark.sql.delta.schema.DeltaInvariantViolationException.apply(InvariantViolationException.scala)\n",
            "\tat org.apache.spark.sql.catalyst.expressions.GeneratedClass$SpecificUnsafeProjection.writeFields_0_0$(Unknown Source)\n",
            "\tat org.apache.spark.sql.catalyst.expressions.GeneratedClass$SpecificUnsafeProjection.apply(Unknown Source)\n",
            "\tat org.apache.spark.sql.delta.constraints.DeltaInvariantCheckerExec.$anonfun$doExecute$3(DeltaInvariantCheckerExec.scala:79)\n",
            "\tat scala.collection.Iterator$$anon$10.next(Iterator.scala:461)\n",
            "\tat org.apache.spark.sql.execution.datasources.FileFormatDataWriter.writeWithIterator(FileFormatDataWriter.scala:92)\n",
            "\tat org.apache.spark.sql.delta.files.DeltaFileFormatWriter$.$anonfun$executeTask$1(DeltaFileFormatWriter.scala:430)\n",
            "\tat org.apache.spark.util.Utils$.tryWithSafeFinallyAndFailureCallbacks(Utils.scala:1397)\n",
            "\tat org.apache.spark.sql.delta.files.DeltaFileFormatWriter$.executeTask(DeltaFileFormatWriter.scala:437)\n",
            "\tat org.apache.spark.sql.delta.files.DeltaFileFormatWriter$.$anonfun$executeWrite$2(DeltaFileFormatWriter.scala:274)\n",
            "\tat org.apache.spark.scheduler.ResultTask.runTask(ResultTask.scala:93)\n",
            "\tat org.apache.spark.TaskContext.runTaskWithListeners(TaskContext.scala:166)\n",
            "\tat org.apache.spark.scheduler.Task.run(Task.scala:141)\n",
            "\tat org.apache.spark.executor.Executor$TaskRunner.$anonfun$run$4(Executor.scala:620)\n",
            "\tat org.apache.spark.util.SparkErrorUtils.tryWithSafeFinally(SparkErrorUtils.scala:64)\n",
            "\tat org.apache.spark.util.SparkErrorUtils.tryWithSafeFinally$(SparkErrorUtils.scala:61)\n",
            "\tat org.apache.spark.util.Utils$.tryWithSafeFinally(Utils.scala:94)\n",
            "\tat org.apache.spark.executor.Executor$TaskRunner.run(Executor.scala:623)\n",
            "\tat java.base/java.util.concurrent.ThreadPoolExecutor.runWorker(ThreadPoolExecutor.java:1128)\n",
            "\tat java.base/java.util.concurrent.ThreadPoolExecutor$Worker.run(ThreadPoolExecutor.java:628)\n",
            "\tat java.base/java.lang.Thread.run(Thread.java:829)\n",
            "\n",
            "❌ Year too high (>2019): Constraint violation -> An error occurred while calling o42.sql.\n",
            ": org.apache.spark.sql.delta.schema.DeltaInvariantViolationException: [DELTA_VIOLATE_CONSTRAINT_WITH_VALUES] CHECK constraint valid_year ((yearOfRegistration >= 1950) AND (yearOfRegistration <= 2019)) violated by row with values:\n",
            " - yearOfRegistration : 2050\n",
            "\tat org.apache.spark.sql.delta.schema.DeltaInvariantViolationException$.getConstraintViolationWithValuesException(InvariantViolationException.scala:75)\n",
            "\tat org.apache.spark.sql.delta.schema.DeltaInvariantViolationException$.apply(InvariantViolationException.scala:101)\n",
            "\tat org.apache.spark.sql.delta.schema.DeltaInvariantViolationException$.apply(InvariantViolationException.scala:112)\n",
            "\tat org.apache.spark.sql.delta.schema.DeltaInvariantViolationException.apply(InvariantViolationException.scala)\n",
            "\tat org.apache.spark.sql.catalyst.expressions.GeneratedClass$SpecificUnsafeProjection.writeFields_0_0$(Unknown Source)\n",
            "\tat org.apache.spark.sql.catalyst.expressions.GeneratedClass$SpecificUnsafeProjection.apply(Unknown Source)\n",
            "\tat org.apache.spark.sql.delta.constraints.DeltaInvariantCheckerExec.$anonfun$doExecute$3(DeltaInvariantCheckerExec.scala:79)\n",
            "\tat scala.collection.Iterator$$anon$10.next(Iterator.scala:461)\n",
            "\tat org.apache.spark.sql.execution.datasources.FileFormatDataWriter.writeWithIterator(FileFormatDataWriter.scala:92)\n",
            "\tat org.apache.spark.sql.delta.files.DeltaFileFormatWriter$.$anonfun$executeTask$1(DeltaFileFormatWriter.scala:430)\n",
            "\tat org.apache.spark.util.Utils$.tryWithSafeFinallyAndFailureCallbacks(Utils.scala:1397)\n",
            "\tat org.apache.spark.sql.delta.files.DeltaFileFormatWriter$.executeTask(DeltaFileFormatWriter.scala:437)\n",
            "\tat org.apache.spark.sql.delta.files.DeltaFileFormatWriter$.$anonfun$executeWrite$2(DeltaFileFormatWriter.scala:274)\n",
            "\tat org.apache.spark.scheduler.ResultTask.runTask(ResultTask.scala:93)\n",
            "\tat org.apache.spark.TaskContext.runTaskWithListeners(TaskContext.scala:166)\n",
            "\tat org.apache.spark.scheduler.Task.run(Task.scala:141)\n",
            "\tat org.apache.spark.executor.Executor$TaskRunner.$anonfun$run$4(Executor.scala:620)\n",
            "\tat org.apache.spark.util.SparkErrorUtils.tryWithSafeFinally(SparkErrorUtils.scala:64)\n",
            "\tat org.apache.spark.util.SparkErrorUtils.tryWithSafeFinally$(SparkErrorUtils.scala:61)\n",
            "\tat org.apache.spark.util.Utils$.tryWithSafeFinally(Utils.scala:94)\n",
            "\tat org.apache.spark.executor.Executor$TaskRunner.run(Executor.scala:623)\n",
            "\tat java.base/java.util.concurrent.ThreadPoolExecutor.runWorker(ThreadPoolExecutor.java:1128)\n",
            "\tat java.base/java.util.concurrent.ThreadPoolExecutor$Worker.run(ThreadPoolExecutor.java:628)\n",
            "\tat java.base/java.lang.Thread.run(Thread.java:829)\n",
            "\n",
            "❌ Power too low (<10): Constraint violation -> An error occurred while calling o42.sql.\n",
            ": org.apache.spark.sql.delta.schema.DeltaInvariantViolationException: [DELTA_VIOLATE_CONSTRAINT_WITH_VALUES] CHECK constraint valid_power ((powerPS >= 10) AND (powerPS <= 500)) violated by row with values:\n",
            " - powerPS : 5\n",
            "\tat org.apache.spark.sql.delta.schema.DeltaInvariantViolationException$.getConstraintViolationWithValuesException(InvariantViolationException.scala:75)\n",
            "\tat org.apache.spark.sql.delta.schema.DeltaInvariantViolationException$.apply(InvariantViolationException.scala:101)\n",
            "\tat org.apache.spark.sql.delta.schema.DeltaInvariantViolationException$.apply(InvariantViolationException.scala:112)\n",
            "\tat org.apache.spark.sql.delta.schema.DeltaInvariantViolationException.apply(InvariantViolationException.scala)\n",
            "\tat org.apache.spark.sql.catalyst.expressions.GeneratedClass$SpecificUnsafeProjection.writeFields_0_1$(Unknown Source)\n",
            "\tat org.apache.spark.sql.catalyst.expressions.GeneratedClass$SpecificUnsafeProjection.apply(Unknown Source)\n",
            "\tat org.apache.spark.sql.delta.constraints.DeltaInvariantCheckerExec.$anonfun$doExecute$3(DeltaInvariantCheckerExec.scala:79)\n",
            "\tat scala.collection.Iterator$$anon$10.next(Iterator.scala:461)\n",
            "\tat org.apache.spark.sql.execution.datasources.FileFormatDataWriter.writeWithIterator(FileFormatDataWriter.scala:92)\n",
            "\tat org.apache.spark.sql.delta.files.DeltaFileFormatWriter$.$anonfun$executeTask$1(DeltaFileFormatWriter.scala:430)\n",
            "\tat org.apache.spark.util.Utils$.tryWithSafeFinallyAndFailureCallbacks(Utils.scala:1397)\n",
            "\tat org.apache.spark.sql.delta.files.DeltaFileFormatWriter$.executeTask(DeltaFileFormatWriter.scala:437)\n",
            "\tat org.apache.spark.sql.delta.files.DeltaFileFormatWriter$.$anonfun$executeWrite$2(DeltaFileFormatWriter.scala:274)\n",
            "\tat org.apache.spark.scheduler.ResultTask.runTask(ResultTask.scala:93)\n",
            "\tat org.apache.spark.TaskContext.runTaskWithListeners(TaskContext.scala:166)\n",
            "\tat org.apache.spark.scheduler.Task.run(Task.scala:141)\n",
            "\tat org.apache.spark.executor.Executor$TaskRunner.$anonfun$run$4(Executor.scala:620)\n",
            "\tat org.apache.spark.util.SparkErrorUtils.tryWithSafeFinally(SparkErrorUtils.scala:64)\n",
            "\tat org.apache.spark.util.SparkErrorUtils.tryWithSafeFinally$(SparkErrorUtils.scala:61)\n",
            "\tat org.apache.spark.util.Utils$.tryWithSafeFinally(Utils.scala:94)\n",
            "\tat org.apache.spark.executor.Executor$TaskRunner.run(Executor.scala:623)\n",
            "\tat java.base/java.util.concurrent.ThreadPoolExecutor.runWorker(ThreadPoolExecutor.java:1128)\n",
            "\tat java.base/java.util.concurrent.ThreadPoolExecutor$Worker.run(ThreadPoolExecutor.java:628)\n",
            "\tat java.base/java.lang.Thread.run(Thread.java:829)\n",
            "\n",
            "❌ Power too high (>500): Constraint violation -> An error occurred while calling o42.sql.\n",
            ": org.apache.spark.sql.delta.schema.DeltaInvariantViolationException: [DELTA_VIOLATE_CONSTRAINT_WITH_VALUES] CHECK constraint valid_power ((powerPS >= 10) AND (powerPS <= 500)) violated by row with values:\n",
            " - powerPS : 600\n",
            "\tat org.apache.spark.sql.delta.schema.DeltaInvariantViolationException$.getConstraintViolationWithValuesException(InvariantViolationException.scala:75)\n",
            "\tat org.apache.spark.sql.delta.schema.DeltaInvariantViolationException$.apply(InvariantViolationException.scala:101)\n",
            "\tat org.apache.spark.sql.delta.schema.DeltaInvariantViolationException$.apply(InvariantViolationException.scala:112)\n",
            "\tat org.apache.spark.sql.delta.schema.DeltaInvariantViolationException.apply(InvariantViolationException.scala)\n",
            "\tat org.apache.spark.sql.catalyst.expressions.GeneratedClass$SpecificUnsafeProjection.writeFields_0_1$(Unknown Source)\n",
            "\tat org.apache.spark.sql.catalyst.expressions.GeneratedClass$SpecificUnsafeProjection.apply(Unknown Source)\n",
            "\tat org.apache.spark.sql.delta.constraints.DeltaInvariantCheckerExec.$anonfun$doExecute$3(DeltaInvariantCheckerExec.scala:79)\n",
            "\tat scala.collection.Iterator$$anon$10.next(Iterator.scala:461)\n",
            "\tat org.apache.spark.sql.execution.datasources.FileFormatDataWriter.writeWithIterator(FileFormatDataWriter.scala:92)\n",
            "\tat org.apache.spark.sql.delta.files.DeltaFileFormatWriter$.$anonfun$executeTask$1(DeltaFileFormatWriter.scala:430)\n",
            "\tat org.apache.spark.util.Utils$.tryWithSafeFinallyAndFailureCallbacks(Utils.scala:1397)\n",
            "\tat org.apache.spark.sql.delta.files.DeltaFileFormatWriter$.executeTask(DeltaFileFormatWriter.scala:437)\n",
            "\tat org.apache.spark.sql.delta.files.DeltaFileFormatWriter$.$anonfun$executeWrite$2(DeltaFileFormatWriter.scala:274)\n",
            "\tat org.apache.spark.scheduler.ResultTask.runTask(ResultTask.scala:93)\n",
            "\tat org.apache.spark.TaskContext.runTaskWithListeners(TaskContext.scala:166)\n",
            "\tat org.apache.spark.scheduler.Task.run(Task.scala:141)\n",
            "\tat org.apache.spark.executor.Executor$TaskRunner.$anonfun$run$4(Executor.scala:620)\n",
            "\tat org.apache.spark.util.SparkErrorUtils.tryWithSafeFinally(SparkErrorUtils.scala:64)\n",
            "\tat org.apache.spark.util.SparkErrorUtils.tryWithSafeFinally$(SparkErrorUtils.scala:61)\n",
            "\tat org.apache.spark.util.Utils$.tryWithSafeFinally(Utils.scala:94)\n",
            "\tat org.apache.spark.executor.Executor$TaskRunner.run(Executor.scala:623)\n",
            "\tat java.base/java.util.concurrent.ThreadPoolExecutor.runWorker(ThreadPoolExecutor.java:1128)\n",
            "\tat java.base/java.util.concurrent.ThreadPoolExecutor$Worker.run(ThreadPoolExecutor.java:628)\n",
            "\tat java.base/java.lang.Thread.run(Thread.java:829)\n",
            "\n",
            "❌ Brand is NULL: Constraint violation -> An error occurred while calling o42.sql.\n",
            ": org.apache.spark.sql.delta.schema.DeltaInvariantViolationException: [DELTA_VIOLATE_CONSTRAINT_WITH_VALUES] CHECK constraint non_null_brand (brand IS NOT NULL) violated by row with values:\n",
            " - brand : null\n",
            "\tat org.apache.spark.sql.delta.schema.DeltaInvariantViolationException$.getConstraintViolationWithValuesException(InvariantViolationException.scala:75)\n",
            "\tat org.apache.spark.sql.delta.schema.DeltaInvariantViolationException$.apply(InvariantViolationException.scala:101)\n",
            "\tat org.apache.spark.sql.delta.schema.DeltaInvariantViolationException$.apply(InvariantViolationException.scala:112)\n",
            "\tat org.apache.spark.sql.delta.schema.DeltaInvariantViolationException.apply(InvariantViolationException.scala)\n",
            "\tat org.apache.spark.sql.catalyst.expressions.GeneratedClass$SpecificUnsafeProjection.writeFields_0_1$(Unknown Source)\n",
            "\tat org.apache.spark.sql.catalyst.expressions.GeneratedClass$SpecificUnsafeProjection.apply(Unknown Source)\n",
            "\tat org.apache.spark.sql.delta.constraints.DeltaInvariantCheckerExec.$anonfun$doExecute$3(DeltaInvariantCheckerExec.scala:79)\n",
            "\tat scala.collection.Iterator$$anon$10.next(Iterator.scala:461)\n",
            "\tat org.apache.spark.sql.execution.datasources.FileFormatDataWriter.writeWithIterator(FileFormatDataWriter.scala:92)\n",
            "\tat org.apache.spark.sql.delta.files.DeltaFileFormatWriter$.$anonfun$executeTask$1(DeltaFileFormatWriter.scala:430)\n",
            "\tat org.apache.spark.util.Utils$.tryWithSafeFinallyAndFailureCallbacks(Utils.scala:1397)\n",
            "\tat org.apache.spark.sql.delta.files.DeltaFileFormatWriter$.executeTask(DeltaFileFormatWriter.scala:437)\n",
            "\tat org.apache.spark.sql.delta.files.DeltaFileFormatWriter$.$anonfun$executeWrite$2(DeltaFileFormatWriter.scala:274)\n",
            "\tat org.apache.spark.scheduler.ResultTask.runTask(ResultTask.scala:93)\n",
            "\tat org.apache.spark.TaskContext.runTaskWithListeners(TaskContext.scala:166)\n",
            "\tat org.apache.spark.scheduler.Task.run(Task.scala:141)\n",
            "\tat org.apache.spark.executor.Executor$TaskRunner.$anonfun$run$4(Executor.scala:620)\n",
            "\tat org.apache.spark.util.SparkErrorUtils.tryWithSafeFinally(SparkErrorUtils.scala:64)\n",
            "\tat org.apache.spark.util.SparkErrorUtils.tryWithSafeFinally$(SparkErrorUtils.scala:61)\n",
            "\tat org.apache.spark.util.Utils$.tryWithSafeFinally(Utils.scala:94)\n",
            "\tat org.apache.spark.executor.Executor$TaskRunner.run(Executor.scala:623)\n",
            "\tat java.base/java.util.concurrent.ThreadPoolExecutor.runWorker(ThreadPoolExecutor.java:1128)\n",
            "\tat java.base/java.util.concurrent.ThreadPoolExecutor$Worker.run(ThreadPoolExecutor.java:628)\n",
            "\tat java.base/java.lang.Thread.run(Thread.java:829)\n",
            "\n"
          ]
        }
      ],
      "source": [
        "sc.setJobDescription(\"[Phase 2] Check constraints applied correctly\")\n",
        "# Invalid test rows, one for each constraint\n",
        "# Format: (description, values)\n",
        "invalid_inserts = [\n",
        "    (\n",
        "        \"Price too low (<100)\",\n",
        "        \"INSERT INTO deltaPrices VALUES (50, 2010, 120000, 150, 'diesel', 'manual', 'sedan', 'audi', 'no')\",\n",
        "    ),\n",
        "    (\n",
        "        \"Price too high (>100000)\",\n",
        "        \"INSERT INTO deltaPrices VALUES (200000, 2010, 120000, 150, 'diesel', 'manual', 'sedan', 'audi', 'no')\",\n",
        "    ),\n",
        "    (\n",
        "        \"Year too low (<1950)\",\n",
        "        \"INSERT INTO deltaPrices VALUES (5000, 1900, 120000, 150, 'diesel', 'manual', 'sedan', 'audi', 'no')\",\n",
        "    ),\n",
        "    (\n",
        "        \"Year too high (>2019)\",\n",
        "        \"INSERT INTO deltaPrices VALUES (5000, 2050, 120000, 150, 'diesel', 'manual', 'sedan', 'audi', 'no')\",\n",
        "    ),\n",
        "    (\n",
        "        \"Power too low (<10)\",\n",
        "        \"INSERT INTO deltaPrices VALUES (5000, 2010, 120000, 5, 'diesel', 'manual', 'sedan', 'audi', 'no')\",\n",
        "    ),\n",
        "    (\n",
        "        \"Power too high (>500)\",\n",
        "        \"INSERT INTO deltaPrices VALUES (5000, 2010, 120000, 600, 'diesel', 'manual', 'sedan', 'audi', 'no')\",\n",
        "    ),\n",
        "    (\n",
        "        \"Brand is NULL\",\n",
        "        \"INSERT INTO deltaPrices VALUES (5000, 2010, 120000, 150, 'diesel', 'manual', 'sedan', NULL, 'no')\",\n",
        "    ),\n",
        "]\n",
        "\n",
        "# Run each invalid insert and catch errors\n",
        "for desc, query in invalid_inserts:\n",
        "    try:\n",
        "        spark.sql(query)\n",
        "        print(f\"⚠️ {desc}: Insert succeeded (unexpected!)\")\n",
        "    except Exception as e:\n",
        "        print(f\"❌ {desc}: Constraint violation -> {e}\")"
      ]
    },
    {
      "cell_type": "markdown",
      "metadata": {
        "id": "en7IVcS-uK9j"
      },
      "source": [
        "This test shows that any row violating a constraint (price, year, power, or brand) is automatically rejected by Delta Lake, and an exception is raised instead of inserting bad data."
      ]
    },
    {
      "cell_type": "markdown",
      "metadata": {
        "id": "EAbULRdHv80I"
      },
      "source": [
        "### Conclusion\n",
        "\n",
        "By converting the cleaned dataset into a Delta table with explicit constraints, we ensured that any future incoming data will respect the same quality standards defined during cleaning.  \n",
        "The table `deltaPrices` is now robust, consistent, and optimized for analysis, serving as the foundation for the next phase."
      ]
    },
    {
      "cell_type": "markdown",
      "metadata": {
        "id": "fki_wgyWxL1C"
      },
      "source": [
        "## Phase 3: Analysing the data and ensuring query evaluation effeciency"
      ]
    },
    {
      "cell_type": "markdown",
      "metadata": {
        "id": "t4BJIJ4y0Y8b"
      },
      "source": [
        "Suggest 2 or 3 meaningfull queries as described above and suggest a data organization scheme for optimizing one such query of your choice."
      ]
    },
    {
      "cell_type": "code",
      "execution_count": 174,
      "metadata": {
        "colab": {
          "base_uri": "https://localhost:8080/"
        },
        "id": "CTP7VHrjxVKX",
        "outputId": "0749093e-0dce-48da-a3de-274532c27524"
      },
      "outputs": [
        {
          "name": "stdout",
          "output_type": "stream",
          "text": [
            "Stopping existing ngrok processes to prevent conflicts\n",
            "Enter your authtoken, which can be copied from https://dashboard.ngrok.com/get-started/your-authtoken\n",
            "··········\n"
          ]
        },
        {
          "name": "stderr",
          "output_type": "stream",
          "text": [
            "WARNING:pyngrok.process.ngrok:t=2025-09-13T16:24:22+0000 lvl=warn msg=\"can't bind default web address, trying alternatives\" obj=web addr=127.0.0.1:4040\n"
          ]
        },
        {
          "name": "stdout",
          "output_type": "stream",
          "text": [
            " * ngrok tunnel \"https://1906739ef88c.ngrok-free.app\" -> \"http://127.0.0.1:4040\"\n"
          ]
        }
      ],
      "source": [
        "print(\"Stopping existing ngrok processes to prevent conflicts\")\n",
        "ngrok.kill()\n",
        "\n",
        "print(\n",
        "    \"Enter your authtoken, which can be copied \"\n",
        "    \"from https://dashboard.ngrok.com/get-started/your-authtoken\"\n",
        ")\n",
        "conf.get_default().auth_token = getpass.getpass()\n",
        "\n",
        "ui_port = 4040\n",
        "public_url = ngrok.connect(ui_port).public_url\n",
        "print(f' * ngrok tunnel \"{public_url}\" -> \"http://127.0.0.1:{ui_port}\"')"
      ]
    },
    {
      "cell_type": "markdown",
      "metadata": {
        "id": "HQjzkdvRVi8i"
      },
      "source": [
        "In this section, we propose 3 meaningful analytical queries on the cleaned dataset stored in Delta format.  \n",
        "We then choose one of them to demonstrate how data organization (partitioning) can optimize query execution.\n",
        "\n",
        "### Query 1 — Average car price per year of registration\n",
        "\n",
        "#### Objective\n",
        "\n",
        "We aim to study how the **average car price changes across registration years**.  \n",
        "This is meaningful because:  \n",
        "- It reveals **depreciation patterns** as vehicles age.  \n",
        "- It highlights years with **abnormally high or low prices**.  \n",
        "- It directly uses the cleaned field `yearOfRegistration`.\n",
        "\n",
        "#### SQL Query\n",
        "\n",
        "\n"
      ]
    },
    {
      "cell_type": "code",
      "execution_count": 175,
      "metadata": {
        "colab": {
          "base_uri": "https://localhost:8080/"
        },
        "id": "y-6DFEKxV05k",
        "outputId": "39900c06-c231-49ab-e8b5-53ba63dda628"
      },
      "outputs": [
        {
          "name": "stdout",
          "output_type": "stream",
          "text": [
            "+------------------+------------------+\n",
            "|yearOfRegistration|         avg_price|\n",
            "+------------------+------------------+\n",
            "|              1950|17205.555555555555|\n",
            "|              1951|21342.916666666668|\n",
            "|              1952|           11325.0|\n",
            "|              1953|12037.777777777777|\n",
            "|              1954|17374.083333333332|\n",
            "|              1955| 33449.92307692308|\n",
            "|              1956|18529.944444444445|\n",
            "|              1957|24746.736842105263|\n",
            "|              1958|17325.315789473683|\n",
            "|              1959|19523.242424242424|\n",
            "|              1960|       12613.65625|\n",
            "|              1961|13383.135135135135|\n",
            "|              1962|15057.379310344828|\n",
            "|              1963|19829.254901960783|\n",
            "|              1964|16085.633333333333|\n",
            "|              1965|20473.506172839505|\n",
            "|              1966|18125.122807017542|\n",
            "|              1967| 20172.61111111111|\n",
            "|              1968|17260.235772357722|\n",
            "|              1969| 16127.16393442623|\n",
            "+------------------+------------------+\n",
            "only showing top 20 rows\n",
            "\n"
          ]
        }
      ],
      "source": [
        "sc.setJobDescription(\"[Phase 3] Average car price per year of registration\")\n",
        "query_price_year = \"\"\"\n",
        "SELECT yearOfRegistration,\n",
        "       AVG(price) AS avg_price\n",
        "FROM deltaPrices\n",
        "GROUP BY yearOfRegistration\n",
        "ORDER BY yearOfRegistration\n",
        "\"\"\"\n",
        "\n",
        "df_year = spark.sql(query_price_year)\n",
        "df_year.show(20)"
      ]
    },
    {
      "cell_type": "markdown",
      "metadata": {
        "id": "k0eIskwuVxYG"
      },
      "source": [
        "### Query 2 — Average car price per brand\n",
        "\n",
        "#### Objective\n",
        "\n",
        "We compare **average car prices across brands**.  \n",
        "This query is useful because:  \n",
        "- It highlights the gap between **premium brands** (BMW, Audi, Mercedes) and **budget brands** (Opel, Ford, Fiat).  \n",
        "- It helps detect if some brands are systematically over- or under-valued.  \n",
        "- It uses the categorical field `brand`, which is central for market analysis.\n",
        "\n",
        "#### SQL Query\n"
      ]
    },
    {
      "cell_type": "code",
      "execution_count": 176,
      "metadata": {
        "colab": {
          "base_uri": "https://localhost:8080/"
        },
        "id": "wVhfU3d4WJb4",
        "outputId": "7108a0a5-b1ca-4d77-cb5c-d6a101db59e2"
      },
      "outputs": [
        {
          "name": "stdout",
          "output_type": "stream",
          "text": [
            "+--------------+----------+------------------+\n",
            "|         brand|total_cars|         avg_price|\n",
            "+--------------+----------+------------------+\n",
            "|       porsche|      1848| 34650.94642857143|\n",
            "|    land_rover|       684| 17397.79970760234|\n",
            "|sonstige_autos|      2158|13889.333178869323|\n",
            "|        jaguar|       524|11793.276717557252|\n",
            "|          jeep|       717|11528.485355648536|\n",
            "|          mini|      3238|10022.372760963557|\n",
            "|          audi|     29634| 9253.200580414388|\n",
            "|           bmw|     36167| 8573.859678712639|\n",
            "| mercedes_benz|     30956|   8542.9703127019|\n",
            "|     chevrolet|      1562| 6922.993597951345|\n",
            "|         skoda|      5192| 6734.259437596302|\n",
            "|           kia|      2245|6103.4467706013365|\n",
            "|         dacia|       822| 5952.861313868613|\n",
            "|       hyundai|      3251| 5784.575207628422|\n",
            "|    volkswagen|     69248| 5614.612609750462|\n",
            "|         volvo|      2980| 5461.205033557047|\n",
            "|        toyota|      4201| 5432.690787907641|\n",
            "|        nissan|      4252| 4965.507525870179|\n",
            "|          seat|      6233| 4728.114712016685|\n",
            "|        subaru|       669| 4702.463378176382|\n",
            "+--------------+----------+------------------+\n",
            "only showing top 20 rows\n",
            "\n"
          ]
        }
      ],
      "source": [
        "sc.setJobDescription(\"[Phase 3] Average car price per brand\")\n",
        "query_price_brand = \"\"\"\n",
        "SELECT brand,\n",
        "       COUNT(*) AS total_cars,\n",
        "       AVG(price) AS avg_price\n",
        "FROM deltaPrices\n",
        "GROUP BY brand\n",
        "ORDER BY avg_price DESC\n",
        "\"\"\"\n",
        "\n",
        "df_brand = spark.sql(query_price_brand)\n",
        "df_brand.show(20)"
      ]
    },
    {
      "cell_type": "markdown",
      "metadata": {
        "id": "q8ClBkbuWElS"
      },
      "source": [
        "### Query 3 — Impact of mileage on price\n",
        "\n",
        "#### Objective\n",
        "\n",
        "We want to understand how **vehicle mileage (`kilometer`)** affects resale price.  \n",
        "This query is meaningful because:  \n",
        "- Mileage is a key factor in car depreciation.  \n",
        "- It shows how cars with higher kilometers lose value.  \n",
        "- It helps check the effect of the **150,000 km cap** in the dataset.\n",
        "\n",
        "#### SQL Query"
      ]
    },
    {
      "cell_type": "code",
      "execution_count": 177,
      "metadata": {
        "colab": {
          "base_uri": "https://localhost:8080/"
        },
        "id": "4A1RSpeAWYWa",
        "outputId": "b9886633-2543-42ca-a256-728b4f7cc138"
      },
      "outputs": [
        {
          "name": "stdout",
          "output_type": "stream",
          "text": [
            "+---------+------------------+\n",
            "|kilometer|         avg_price|\n",
            "+---------+------------------+\n",
            "|     5000| 9293.266628108733|\n",
            "|    10000|21250.705184259838|\n",
            "|    20000| 17082.41109989909|\n",
            "|    30000|15943.207554022154|\n",
            "|    40000|14999.939165409754|\n",
            "|    50000| 13324.47645897942|\n",
            "|    60000| 11850.26191942836|\n",
            "|    70000| 10883.02566927399|\n",
            "|    80000| 9635.185225048923|\n",
            "|    90000| 8728.637401918048|\n",
            "|   100000| 7938.417552814405|\n",
            "|   125000| 6422.263145622012|\n",
            "|   150000| 3941.017610258705|\n",
            "+---------+------------------+\n",
            "\n"
          ]
        }
      ],
      "source": [
        "sc.setJobDescription(\"[Phase 3] Impact of mileage on price\")\n",
        "query_price_km = \"\"\"\n",
        "SELECT kilometer,\n",
        "       AVG(price) AS avg_price\n",
        "FROM deltaPrices\n",
        "GROUP BY kilometer\n",
        "ORDER BY kilometer\n",
        "\"\"\"\n",
        "\n",
        "df_km = spark.sql(query_price_km)\n",
        "df_km.show(20)"
      ]
    },
    {
      "cell_type": "markdown",
      "metadata": {
        "id": "mMmdu6lOWWF-"
      },
      "source": [
        "### Optimization Example — Query 1 (Average price per year)\n",
        "\n",
        "We choose **Query 1** to demonstrate optimization with **partitioning on `yearOfRegistration`**.\n",
        "\n",
        "### Run the query before optimization"
      ]
    },
    {
      "cell_type": "code",
      "execution_count": 178,
      "metadata": {
        "colab": {
          "base_uri": "https://localhost:8080/"
        },
        "id": "I-HPfdnkWoUa",
        "outputId": "999db615-e688-4014-a74c-e3212a30a5f2"
      },
      "outputs": [
        {
          "name": "stdout",
          "output_type": "stream",
          "text": [
            "+------------------+------------------+\n",
            "|yearOfRegistration|         avg_price|\n",
            "+------------------+------------------+\n",
            "|              2005| 5451.458405591466|\n",
            "|              2006| 6777.523336696225|\n",
            "|              2007| 8055.765023346067|\n",
            "|              2008|  9454.52248998621|\n",
            "|              2009|10114.342351436839|\n",
            "|              2010|12565.620622732258|\n",
            "+------------------+------------------+\n",
            "\n",
            "== Parsed Logical Plan ==\n",
            "'Sort ['yearOfRegistration ASC NULLS FIRST], true\n",
            "+- 'Aggregate ['yearOfRegistration], ['yearOfRegistration, 'AVG('price) AS avg_price#38556]\n",
            "   +- 'Filter (('yearOfRegistration >= 2005) AND ('yearOfRegistration <= 2010))\n",
            "      +- 'UnresolvedRelation [deltaPrices], [], false\n",
            "\n",
            "== Analyzed Logical Plan ==\n",
            "yearOfRegistration: int, avg_price: double\n",
            "Sort [yearOfRegistration#38558 ASC NULLS FIRST], true\n",
            "+- Aggregate [yearOfRegistration#38558], [yearOfRegistration#38558, avg(price#38557) AS avg_price#38556]\n",
            "   +- Filter ((yearOfRegistration#38558 >= 2005) AND (yearOfRegistration#38558 <= 2010))\n",
            "      +- SubqueryAlias spark_catalog.default.deltaPrices\n",
            "         +- Relation spark_catalog.default.deltaprices[price#38557,yearOfRegistration#38558,kilometer#38559,powerPS#38560,fuelType#38561,gearbox#38562,vehicleType#38563,brand#38564,notRepairedDamage#38565] parquet\n",
            "\n",
            "== Optimized Logical Plan ==\n",
            "Sort [yearOfRegistration#38558 ASC NULLS FIRST], true\n",
            "+- Aggregate [yearOfRegistration#38558], [yearOfRegistration#38558, avg(price#38557) AS avg_price#38556]\n",
            "   +- Project [price#38557, yearOfRegistration#38558]\n",
            "      +- Filter (isnotnull(yearOfRegistration#38558) AND ((yearOfRegistration#38558 >= 2005) AND (yearOfRegistration#38558 <= 2010)))\n",
            "         +- Relation spark_catalog.default.deltaprices[price#38557,yearOfRegistration#38558,kilometer#38559,powerPS#38560,fuelType#38561,gearbox#38562,vehicleType#38563,brand#38564,notRepairedDamage#38565] parquet\n",
            "\n",
            "== Physical Plan ==\n",
            "AdaptiveSparkPlan isFinalPlan=false\n",
            "+- Sort [yearOfRegistration#38558 ASC NULLS FIRST], true, 0\n",
            "   +- Exchange rangepartitioning(yearOfRegistration#38558 ASC NULLS FIRST, 200), ENSURE_REQUIREMENTS, [plan_id=9434]\n",
            "      +- HashAggregate(keys=[yearOfRegistration#38558], functions=[avg(price#38557)], output=[yearOfRegistration#38558, avg_price#38556])\n",
            "         +- Exchange hashpartitioning(yearOfRegistration#38558, 200), ENSURE_REQUIREMENTS, [plan_id=9431]\n",
            "            +- HashAggregate(keys=[yearOfRegistration#38558], functions=[partial_avg(price#38557)], output=[yearOfRegistration#38558, sum#38738, count#38739L])\n",
            "               +- Filter ((isnotnull(yearOfRegistration#38558) AND (yearOfRegistration#38558 >= 2005)) AND (yearOfRegistration#38558 <= 2010))\n",
            "                  +- FileScan parquet spark_catalog.default.deltaprices[price#38557,yearOfRegistration#38558] Batched: true, DataFilters: [isnotnull(yearOfRegistration#38558), (yearOfRegistration#38558 >= 2005), (yearOfRegistration#385..., Format: Parquet, Location: PreparedDeltaFileIndex(1 paths)[file:/content/spark-warehouse/deltaprices], PartitionFilters: [], PushedFilters: [IsNotNull(yearOfRegistration), GreaterThanOrEqual(yearOfRegistration,2005), LessThanOrEqual(year..., ReadSchema: struct<price:int,yearOfRegistration:int>\n",
            "\n"
          ]
        }
      ],
      "source": [
        "sc.setJobDescription(\n",
        "    \"[Phase 3] Average per price (Run the query before optimization)\"\n",
        ")\n",
        "query_not_opt = \"\"\"\n",
        "SELECT yearOfRegistration,\n",
        "       AVG(price) AS avg_price\n",
        "FROM deltaPrices\n",
        "WHERE yearOfRegistration BETWEEN 2005 AND 2010\n",
        "GROUP BY yearOfRegistration\n",
        "ORDER BY yearOfRegistration\n",
        "\"\"\"\n",
        "\n",
        "df_not_opt = spark.sql(query_not_opt)\n",
        "df_not_opt.show()\n",
        "df_not_opt.explain(True)"
      ]
    },
    {
      "cell_type": "markdown",
      "metadata": {
        "id": "u8BKDaJGXeXN"
      },
      "source": [
        "As we can see above, the query plan shows `PartitionFilters: []`.  \n",
        "This means Spark cannot apply partition pruning and is forced to scan the entire dataset, including all partitions and files.  \n",
        "\n",
        "To improve efficiency, we now reorganize the data by partitioning it, so Spark can skip irrelevant data when filtering on `yearOfRegistration`."
      ]
    },
    {
      "cell_type": "markdown",
      "metadata": {
        "id": "ZzIPsdpoWlrI"
      },
      "source": [
        "### Organize the data (partitioning)\n",
        "\n",
        "We create a new Delta table partitioned by `yearOfRegistration`.\n",
        "\n",
        "\n"
      ]
    },
    {
      "cell_type": "code",
      "execution_count": 179,
      "metadata": {
        "colab": {
          "base_uri": "https://localhost:8080/"
        },
        "id": "dJEB-ThfWzWc",
        "outputId": "5d109ed7-defc-40f4-ef5c-7b48dfabe23d"
      },
      "outputs": [
        {
          "name": "stdout",
          "output_type": "stream",
          "text": [
            "⚠️ Failed with error: An error occurred while calling o42.sql.\n",
            ": java.lang.AssertionError: assertion failed\n",
            "\tat scala.Predef$.assert(Predef.scala:208)\n",
            "\tat org.apache.spark.sql.catalyst.catalog.CatalogTable.partitionSchema(interface.scala:264)\n",
            "\tat org.apache.spark.sql.catalyst.catalog.InMemoryCatalog.alterTableDataSchema(InMemoryCatalog.scala:330)\n",
            "\tat org.apache.spark.sql.catalyst.catalog.ExternalCatalogWithListener.alterTableDataSchema(ExternalCatalogWithListener.scala:124)\n",
            "\tat org.apache.spark.sql.delta.hooks.UpdateCatalog$.org$apache$spark$sql$delta$hooks$UpdateCatalog$$replaceTable(UpdateCatalog.scala:332)\n",
            "\tat org.apache.spark.sql.delta.hooks.UpdateCatalog.updateSchema(UpdateCatalog.scala:233)\n",
            "\tat org.apache.spark.sql.delta.commands.CreateDeltaTableCommand.updateCatalog(CreateDeltaTableCommand.scala:550)\n",
            "\tat org.apache.spark.sql.delta.commands.CreateDeltaTableCommand.runPostCommitUpdates(CreateDeltaTableCommand.scala:194)\n",
            "\tat org.apache.spark.sql.delta.commands.CreateDeltaTableCommand.handleCommit(CreateDeltaTableCommand.scala:174)\n",
            "\tat org.apache.spark.sql.delta.commands.CreateDeltaTableCommand.$anonfun$run$2(CreateDeltaTableCommand.scala:110)\n",
            "\tat org.apache.spark.sql.delta.metering.DeltaLogging.recordFrameProfile(DeltaLogging.scala:140)\n",
            "\tat org.apache.spark.sql.delta.metering.DeltaLogging.recordFrameProfile$(DeltaLogging.scala:138)\n",
            "\tat org.apache.spark.sql.delta.commands.CreateDeltaTableCommand.recordFrameProfile(CreateDeltaTableCommand.scala:57)\n",
            "\tat org.apache.spark.sql.delta.metering.DeltaLogging.$anonfun$recordDeltaOperationInternal$1(DeltaLogging.scala:133)\n",
            "\tat com.databricks.spark.util.DatabricksLogging.recordOperation(DatabricksLogging.scala:128)\n",
            "\tat com.databricks.spark.util.DatabricksLogging.recordOperation$(DatabricksLogging.scala:117)\n",
            "\tat org.apache.spark.sql.delta.commands.CreateDeltaTableCommand.recordOperation(CreateDeltaTableCommand.scala:57)\n",
            "\tat org.apache.spark.sql.delta.metering.DeltaLogging.recordDeltaOperationInternal(DeltaLogging.scala:132)\n",
            "\tat org.apache.spark.sql.delta.metering.DeltaLogging.recordDeltaOperation(DeltaLogging.scala:122)\n",
            "\tat org.apache.spark.sql.delta.metering.DeltaLogging.recordDeltaOperation$(DeltaLogging.scala:112)\n",
            "\tat org.apache.spark.sql.delta.commands.CreateDeltaTableCommand.recordDeltaOperation(CreateDeltaTableCommand.scala:57)\n",
            "\tat org.apache.spark.sql.delta.commands.CreateDeltaTableCommand.run(CreateDeltaTableCommand.scala:110)\n",
            "\tat org.apache.spark.sql.delta.catalog.DeltaCatalog.$anonfun$createDeltaTable$1(DeltaCatalog.scala:184)\n",
            "\tat org.apache.spark.sql.delta.metering.DeltaLogging.recordFrameProfile(DeltaLogging.scala:140)\n",
            "\tat org.apache.spark.sql.delta.metering.DeltaLogging.recordFrameProfile$(DeltaLogging.scala:138)\n",
            "\tat org.apache.spark.sql.delta.catalog.DeltaCatalog.recordFrameProfile(DeltaCatalog.scala:65)\n",
            "\tat org.apache.spark.sql.delta.catalog.DeltaCatalog.org$apache$spark$sql$delta$catalog$DeltaCatalog$$createDeltaTable(DeltaCatalog.scala:95)\n",
            "\tat org.apache.spark.sql.delta.catalog.DeltaCatalog$StagedDeltaTableV2.$anonfun$commitStagedChanges$1(DeltaCatalog.scala:546)\n",
            "\tat org.apache.spark.sql.delta.metering.DeltaLogging.recordFrameProfile(DeltaLogging.scala:140)\n",
            "\tat org.apache.spark.sql.delta.metering.DeltaLogging.recordFrameProfile$(DeltaLogging.scala:138)\n",
            "\tat org.apache.spark.sql.delta.catalog.DeltaCatalog.recordFrameProfile(DeltaCatalog.scala:65)\n",
            "\tat org.apache.spark.sql.delta.catalog.DeltaCatalog$StagedDeltaTableV2.commitStagedChanges(DeltaCatalog.scala:508)\n",
            "\tat org.apache.spark.sql.execution.datasources.v2.V2CreateTableAsSelectBaseExec.$anonfun$writeToTable$1(WriteToDataSourceV2Exec.scala:585)\n",
            "\tat org.apache.spark.util.Utils$.tryWithSafeFinallyAndFailureCallbacks(Utils.scala:1397)\n",
            "\tat org.apache.spark.sql.execution.datasources.v2.V2CreateTableAsSelectBaseExec.writeToTable(WriteToDataSourceV2Exec.scala:578)\n",
            "\tat org.apache.spark.sql.execution.datasources.v2.V2CreateTableAsSelectBaseExec.writeToTable$(WriteToDataSourceV2Exec.scala:572)\n",
            "\tat org.apache.spark.sql.execution.datasources.v2.AtomicReplaceTableAsSelectExec.writeToTable(WriteToDataSourceV2Exec.scala:186)\n",
            "\tat org.apache.spark.sql.execution.datasources.v2.AtomicReplaceTableAsSelectExec.run(WriteToDataSourceV2Exec.scala:221)\n",
            "\tat org.apache.spark.sql.execution.datasources.v2.V2CommandExec.result$lzycompute(V2CommandExec.scala:43)\n",
            "\tat org.apache.spark.sql.execution.datasources.v2.V2CommandExec.result(V2CommandExec.scala:43)\n",
            "\tat org.apache.spark.sql.execution.datasources.v2.V2CommandExec.executeCollect(V2CommandExec.scala:49)\n",
            "\tat org.apache.spark.sql.execution.QueryExecution$$anonfun$eagerlyExecuteCommands$1.$anonfun$applyOrElse$1(QueryExecution.scala:107)\n",
            "\tat org.apache.spark.sql.execution.SQLExecution$.$anonfun$withNewExecutionId$6(SQLExecution.scala:125)\n",
            "\tat org.apache.spark.sql.execution.SQLExecution$.withSQLConfPropagated(SQLExecution.scala:201)\n",
            "\tat org.apache.spark.sql.execution.SQLExecution$.$anonfun$withNewExecutionId$1(SQLExecution.scala:108)\n",
            "\tat org.apache.spark.sql.SparkSession.withActive(SparkSession.scala:900)\n",
            "\tat org.apache.spark.sql.execution.SQLExecution$.withNewExecutionId(SQLExecution.scala:66)\n",
            "\tat org.apache.spark.sql.execution.QueryExecution$$anonfun$eagerlyExecuteCommands$1.applyOrElse(QueryExecution.scala:107)\n",
            "\tat org.apache.spark.sql.execution.QueryExecution$$anonfun$eagerlyExecuteCommands$1.applyOrElse(QueryExecution.scala:98)\n",
            "\tat org.apache.spark.sql.catalyst.trees.TreeNode.$anonfun$transformDownWithPruning$1(TreeNode.scala:461)\n",
            "\tat org.apache.spark.sql.catalyst.trees.CurrentOrigin$.withOrigin(origin.scala:76)\n",
            "\tat org.apache.spark.sql.catalyst.trees.TreeNode.transformDownWithPruning(TreeNode.scala:461)\n",
            "\tat org.apache.spark.sql.catalyst.plans.logical.LogicalPlan.org$apache$spark$sql$catalyst$plans$logical$AnalysisHelper$$super$transformDownWithPruning(LogicalPlan.scala:32)\n",
            "\tat org.apache.spark.sql.catalyst.plans.logical.AnalysisHelper.transformDownWithPruning(AnalysisHelper.scala:267)\n",
            "\tat org.apache.spark.sql.catalyst.plans.logical.AnalysisHelper.transformDownWithPruning$(AnalysisHelper.scala:263)\n",
            "\tat org.apache.spark.sql.catalyst.plans.logical.LogicalPlan.transformDownWithPruning(LogicalPlan.scala:32)\n",
            "\tat org.apache.spark.sql.catalyst.plans.logical.LogicalPlan.transformDownWithPruning(LogicalPlan.scala:32)\n",
            "\tat org.apache.spark.sql.catalyst.trees.TreeNode.transformDown(TreeNode.scala:437)\n",
            "\tat org.apache.spark.sql.execution.QueryExecution.eagerlyExecuteCommands(QueryExecution.scala:98)\n",
            "\tat org.apache.spark.sql.execution.QueryExecution.commandExecuted$lzycompute(QueryExecution.scala:85)\n",
            "\tat org.apache.spark.sql.execution.QueryExecution.commandExecuted(QueryExecution.scala:83)\n",
            "\tat org.apache.spark.sql.Dataset.<init>(Dataset.scala:220)\n",
            "\tat org.apache.spark.sql.Dataset$.$anonfun$ofRows$2(Dataset.scala:100)\n",
            "\tat org.apache.spark.sql.SparkSession.withActive(SparkSession.scala:900)\n",
            "\tat org.apache.spark.sql.Dataset$.ofRows(Dataset.scala:97)\n",
            "\tat org.apache.spark.sql.SparkSession.$anonfun$sql$1(SparkSession.scala:638)\n",
            "\tat org.apache.spark.sql.SparkSession.withActive(SparkSession.scala:900)\n",
            "\tat org.apache.spark.sql.SparkSession.sql(SparkSession.scala:629)\n",
            "\tat org.apache.spark.sql.SparkSession.sql(SparkSession.scala:659)\n",
            "\tat jdk.internal.reflect.GeneratedMethodAccessor89.invoke(Unknown Source)\n",
            "\tat java.base/jdk.internal.reflect.DelegatingMethodAccessorImpl.invoke(DelegatingMethodAccessorImpl.java:43)\n",
            "\tat java.base/java.lang.reflect.Method.invoke(Method.java:566)\n",
            "\tat py4j.reflection.MethodInvoker.invoke(MethodInvoker.java:244)\n",
            "\tat py4j.reflection.ReflectionEngine.invoke(ReflectionEngine.java:374)\n",
            "\tat py4j.Gateway.invoke(Gateway.java:282)\n",
            "\tat py4j.commands.AbstractCommand.invokeMethod(AbstractCommand.java:132)\n",
            "\tat py4j.commands.CallCommand.execute(CallCommand.java:79)\n",
            "\tat py4j.ClientServerConnection.waitForCommands(ClientServerConnection.java:182)\n",
            "\tat py4j.ClientServerConnection.run(ClientServerConnection.java:106)\n",
            "\tat java.base/java.lang.Thread.run(Thread.java:829)\n",
            "\n",
            "Cleaning old table and retrying...\n",
            "✅ Table 'deltaPrices_partitioned' recreated successfully after cleanup.\n"
          ]
        }
      ],
      "source": [
        "sc.setJobDescription(\"[Phase 3] Organize the data (partitioning)\")\n",
        "\n",
        "query_optimize_by_year_partition = \"\"\"\n",
        "CREATE OR REPLACE TABLE deltaPrices_partitioned\n",
        "USING delta\n",
        "PARTITIONED BY (yearOfRegistration)\n",
        "AS\n",
        "SELECT * FROM deltaPrices\n",
        "\"\"\"\n",
        "\n",
        "try:\n",
        "    spark.sql(query_optimize_by_year_partition)\n",
        "    print(\"✅ Table 'deltaPrices_partitioned' created successfully.\")\n",
        "\n",
        "except Exception as e:\n",
        "    print(f\"⚠️ Failed with error: {e}\")\n",
        "    print(\"Cleaning old table and retrying...\")\n",
        "\n",
        "    # Drop and delete location\n",
        "    spark.sql(\"DROP TABLE IF EXISTS deltaPrices_partitioned\")\n",
        "    shutil.rmtree(\n",
        "        \"/content/spark-warehouse/deltaPrices_partitioned\", ignore_errors=True\n",
        "    )\n",
        "\n",
        "    # Retry SQL\n",
        "    spark.sql(query_optimize_by_year_partition)\n",
        "    print(\n",
        "        \"✅ Table 'deltaPrices_partitioned' recreated successfully after cleanup.\"\n",
        "    )"
      ]
    },
    {
      "cell_type": "markdown",
      "metadata": {
        "id": "D3-YiWDOWw9X"
      },
      "source": [
        "### Run the query after optimization"
      ]
    },
    {
      "cell_type": "code",
      "execution_count": 180,
      "metadata": {
        "colab": {
          "base_uri": "https://localhost:8080/"
        },
        "id": "se9DYMlIW65j",
        "outputId": "bc839cc6-2607-4c4a-fa9e-72ceae1d9a41"
      },
      "outputs": [
        {
          "name": "stdout",
          "output_type": "stream",
          "text": [
            "+------------------+------------------+\n",
            "|yearOfRegistration|         avg_price|\n",
            "+------------------+------------------+\n",
            "|              2005| 5451.458405591466|\n",
            "|              2006| 6777.523336696225|\n",
            "|              2007| 8055.765023346067|\n",
            "|              2008|  9454.52248998621|\n",
            "|              2009|10114.342351436839|\n",
            "|              2010|12565.620622732258|\n",
            "+------------------+------------------+\n",
            "\n",
            "== Parsed Logical Plan ==\n",
            "'Sort ['yearOfRegistration ASC NULLS FIRST], true\n",
            "+- 'Aggregate ['yearOfRegistration], ['yearOfRegistration, 'AVG('price) AS avg_price#41187]\n",
            "   +- 'Filter (('yearOfRegistration >= 2005) AND ('yearOfRegistration <= 2010))\n",
            "      +- 'UnresolvedRelation [deltaPrices_partitioned], [], false\n",
            "\n",
            "== Analyzed Logical Plan ==\n",
            "yearOfRegistration: int, avg_price: double\n",
            "Sort [yearOfRegistration#41189 ASC NULLS FIRST], true\n",
            "+- Aggregate [yearOfRegistration#41189], [yearOfRegistration#41189, avg(price#41188) AS avg_price#41187]\n",
            "   +- Filter ((yearOfRegistration#41189 >= 2005) AND (yearOfRegistration#41189 <= 2010))\n",
            "      +- SubqueryAlias spark_catalog.default.deltaPrices_partitioned\n",
            "         +- Relation spark_catalog.default.deltaprices_partitioned[price#41188,yearOfRegistration#41189,kilometer#41190,powerPS#41191,fuelType#41192,gearbox#41193,vehicleType#41194,brand#41195,notRepairedDamage#41196] parquet\n",
            "\n",
            "== Optimized Logical Plan ==\n",
            "Sort [yearOfRegistration#41189 ASC NULLS FIRST], true\n",
            "+- Aggregate [yearOfRegistration#41189], [yearOfRegistration#41189, avg(price#41188) AS avg_price#41187]\n",
            "   +- Project [price#41188, yearOfRegistration#41189]\n",
            "      +- Filter (isnotnull(yearOfRegistration#41189) AND ((yearOfRegistration#41189 >= 2005) AND (yearOfRegistration#41189 <= 2010)))\n",
            "         +- Relation spark_catalog.default.deltaprices_partitioned[price#41188,yearOfRegistration#41189,kilometer#41190,powerPS#41191,fuelType#41192,gearbox#41193,vehicleType#41194,brand#41195,notRepairedDamage#41196] parquet\n",
            "\n",
            "== Physical Plan ==\n",
            "AdaptiveSparkPlan isFinalPlan=false\n",
            "+- Sort [yearOfRegistration#41189 ASC NULLS FIRST], true, 0\n",
            "   +- Exchange rangepartitioning(yearOfRegistration#41189 ASC NULLS FIRST, 200), ENSURE_REQUIREMENTS, [plan_id=9960]\n",
            "      +- HashAggregate(keys=[yearOfRegistration#41189], functions=[avg(price#41188)], output=[yearOfRegistration#41189, avg_price#41187])\n",
            "         +- Exchange hashpartitioning(yearOfRegistration#41189, 200), ENSURE_REQUIREMENTS, [plan_id=9957]\n",
            "            +- HashAggregate(keys=[yearOfRegistration#41189], functions=[partial_avg(price#41188)], output=[yearOfRegistration#41189, sum#41318, count#41319L])\n",
            "               +- FileScan parquet spark_catalog.default.deltaprices_partitioned[price#41188,yearOfRegistration#41189] Batched: true, DataFilters: [], Format: Parquet, Location: PreparedDeltaFileIndex(1 paths)[file:/content/spark-warehouse/deltaprices_partitioned], PartitionFilters: [isnotnull(yearOfRegistration#41189), (yearOfRegistration#41189 >= 2005), (yearOfRegistration#411..., PushedFilters: [], ReadSchema: struct<price:int>\n",
            "\n"
          ]
        }
      ],
      "source": [
        "sc.setJobDescription(\n",
        "    \"[Phase 3] Average per price (Run the query after optimization)\"\n",
        ")\n",
        "query_opt = \"\"\"\n",
        "SELECT yearOfRegistration,\n",
        "       AVG(price) AS avg_price\n",
        "FROM deltaPrices_partitioned\n",
        "WHERE yearOfRegistration BETWEEN 2005 AND 2010\n",
        "GROUP BY yearOfRegistration\n",
        "ORDER BY yearOfRegistration\n",
        "\"\"\"\n",
        "\n",
        "df_opt = spark.sql(query_opt)\n",
        "df_opt.show()\n",
        "df_opt.explain(True)"
      ]
    },
    {
      "cell_type": "markdown",
      "metadata": {
        "id": "3u7E5pzTW435"
      },
      "source": [
        "### Compare results\n",
        "\n",
        "In the optimized query plan, we now see:  \n",
        "\n",
        "`PartitionFilters: [isnotnull(yearOfRegistration), (yearOfRegistration >= 2005), (yearOfRegistration <= 2010)]`  \n",
        "\n",
        "This shows that Spark successfully applies **partition pruning**, scanning only the partitions corresponding to the years 2005-2010.  \n",
        "Additionally, the `ReadSchema: struct<price:int>` confirms that Spark only reads the necessary columns (`price` and `yearOfRegistration`), thanks to **column pruning**.  \n",
        "\n",
        "Compared to the unoptimized plan, this reduces the amount of irrelevant data scanned and demonstrates the benefit of organizing the table by `yearOfRegistration`."
      ]
    },
    {
      "cell_type": "markdown",
      "metadata": {
        "id": "BOfKxBYryX8Y"
      },
      "source": [
        "## Ingesting new data and reruning analytics  "
      ]
    },
    {
      "cell_type": "markdown",
      "metadata": {
        "id": "QSfuBf4KyiuZ"
      },
      "source": [
        "In this part you are invited to suggest the insertion of fictious new data that conforms to the schema established in phase 2 and to rerun some queries of phase 3 to see the evolution of the result. Ideally, write a query that compares an aggregation value in two different versions of the data by exploiting the delta history feature."
      ]
    },
    {
      "cell_type": "markdown",
      "metadata": {
        "id": "CPbt5gVAedS8"
      },
      "source": [
        "### Insert fictitious new data\n",
        "\n",
        "We add a few rows of **synthetic car data** that respect the schema defined in Phase 2 (`price`, `yearOfRegistration`, `kilometer`, `powerPS`, `fuelType`, `gearbox`, `vehicleType`, `brand`, `notRepairedDamage`)."
      ]
    },
    {
      "cell_type": "code",
      "execution_count": 181,
      "metadata": {
        "id": "KouCvHhRe6sw"
      },
      "outputs": [],
      "source": [
        "sc.setJobDescription(\n",
        "    \"[Ingesting new data and reruning analytics] Insert fictitious new data\"\n",
        ")\n",
        "# Create a small DataFrame with new rows\n",
        "new_data = [\n",
        "    Row(\n",
        "        price=8000,\n",
        "        yearOfRegistration=2015,\n",
        "        kilometer=60000,\n",
        "        powerPS=120,\n",
        "        fuelType=\"petrol\",\n",
        "        gearbox=\"manual\",\n",
        "        vehicleType=\"sedan\",\n",
        "        brand=\"audi\",\n",
        "        notRepairedDamage=\"no\",\n",
        "    ),\n",
        "    Row(\n",
        "        price=12000,\n",
        "        yearOfRegistration=2016,\n",
        "        kilometer=40000,\n",
        "        powerPS=150,\n",
        "        fuelType=\"diesel\",\n",
        "        gearbox=\"automatic\",\n",
        "        vehicleType=\"wagon\",\n",
        "        brand=\"bmw\",\n",
        "        notRepairedDamage=\"no\",\n",
        "    ),\n",
        "    Row(\n",
        "        price=5000,\n",
        "        yearOfRegistration=2010,\n",
        "        kilometer=100000,\n",
        "        powerPS=90,\n",
        "        fuelType=\"petrol\",\n",
        "        gearbox=\"manual\",\n",
        "        vehicleType=\"hatchback\",\n",
        "        brand=\"ford\",\n",
        "        notRepairedDamage=\"yes\",\n",
        "    ),\n",
        "]\n",
        "\n",
        "new_df = spark.createDataFrame(new_data)\n",
        "new_df = (\n",
        "    new_df.withColumn(\"price\", new_df[\"price\"].cast(IntegerType()))\n",
        "    .withColumn(\n",
        "        \"yearOfRegistration\", new_df[\"yearOfRegistration\"].cast(IntegerType())\n",
        "    )\n",
        "    .withColumn(\"kilometer\", new_df[\"kilometer\"].cast(IntegerType()))\n",
        "    .withColumn(\"powerPS\", new_df[\"powerPS\"].cast(IntegerType()))\n",
        ")\n",
        "\n",
        "# Append to deltaPrices\n",
        "new_df.write.format(\"delta\").mode(\"append\").saveAsTable(\"deltaPrices\")"
      ]
    },
    {
      "cell_type": "markdown",
      "metadata": {
        "id": "zlykI0PGew2C"
      },
      "source": [
        "### Check Delta table history\n",
        "\n",
        "Delta Lake automatically tracks **all versions** of the table.\n",
        "We can use the `DESCRIBE HISTORY`:\n",
        "\n",
        "```SQL\n",
        "DESCRIBE HISTORY deltaPrices\n",
        "```"
      ]
    },
    {
      "cell_type": "code",
      "execution_count": 182,
      "metadata": {
        "colab": {
          "base_uri": "https://localhost:8080/"
        },
        "id": "W-bgS9UBfp87",
        "outputId": "4f16c50b-0fe8-4c3b-9d88-cc084d52c295"
      },
      "outputs": [
        {
          "name": "stdout",
          "output_type": "stream",
          "text": [
            "+-------+-----------------------+------+--------+---------------------------------+-----------------------------------------------------------------------------------------------------------------------------------------------------------------------------------------------------------------------------------------------------------------------------------------------------------------------------------------+----+--------+---------+-----------+--------------+-------------+-------------------------------------------------------------------+------------+-----------------------------------+\n",
            "|version|timestamp              |userId|userName|operation                        |operationParameters                                                                                                                                                                                                                                                                                                                      |job |notebook|clusterId|readVersion|isolationLevel|isBlindAppend|operationMetrics                                                   |userMetadata|engineInfo                         |\n",
            "+-------+-----------------------+------+--------+---------------------------------+-----------------------------------------------------------------------------------------------------------------------------------------------------------------------------------------------------------------------------------------------------------------------------------------------------------------------------------------+----+--------+---------+-----------+--------------+-------------+-------------------------------------------------------------------+------------+-----------------------------------+\n",
            "|19     |2025-09-13 16:24:47.843|NULL  |NULL    |WRITE                            |{mode -> Append, partitionBy -> []}                                                                                                                                                                                                                                                                                                      |NULL|NULL    |NULL     |18         |Serializable  |true         |{numFiles -> 2, numOutputRows -> 3, numOutputBytes -> 4956}        |NULL        |Apache-Spark/3.5.3 Delta-Lake/3.1.0|\n",
            "|18     |2025-09-13 16:24:13.173|NULL  |NULL    |CREATE OR REPLACE TABLE AS SELECT|{isManaged -> true, description -> NULL, partitionBy -> [], properties -> {\"delta.constraints.valid_price\":\"price BETWEEN 100 AND 100000\",\"delta.constraints.valid_year\":\"yearOfRegistration BETWEEN 1950 AND 2019\",\"delta.constraints.valid_power\":\"powerPS BETWEEN 10 AND 500\",\"delta.constraints.non_null_brand\":\"brand IS NOT NULL\"}}|NULL|NULL    |NULL     |17         |Serializable  |false        |{numFiles -> 2, numOutputRows -> 321442, numOutputBytes -> 1982822}|NULL        |Apache-Spark/3.5.3 Delta-Lake/3.1.0|\n",
            "|17     |2025-09-13 16:10:45.079|NULL  |NULL    |CREATE OR REPLACE TABLE AS SELECT|{isManaged -> true, description -> NULL, partitionBy -> [], properties -> {\"delta.constraints.valid_price\":\"price BETWEEN 100 AND 100000\",\"delta.constraints.valid_year\":\"yearOfRegistration BETWEEN 1950 AND 2019\",\"delta.constraints.valid_power\":\"powerPS BETWEEN 10 AND 500\",\"delta.constraints.non_null_brand\":\"brand IS NOT NULL\"}}|NULL|NULL    |NULL     |16         |Serializable  |false        |{numFiles -> 2, numOutputRows -> 321442, numOutputBytes -> 1982822}|NULL        |Apache-Spark/3.5.3 Delta-Lake/3.1.0|\n",
            "|16     |2025-09-13 16:08:24.811|NULL  |NULL    |WRITE                            |{mode -> Append, partitionBy -> []}                                                                                                                                                                                                                                                                                                      |NULL|NULL    |NULL     |15         |Serializable  |true         |{numFiles -> 2, numOutputRows -> 3, numOutputBytes -> 4956}        |NULL        |Apache-Spark/3.5.3 Delta-Lake/3.1.0|\n",
            "|15     |2025-09-13 16:06:30.344|NULL  |NULL    |CREATE OR REPLACE TABLE AS SELECT|{isManaged -> true, description -> NULL, partitionBy -> [], properties -> {\"delta.constraints.valid_price\":\"price BETWEEN 100 AND 100000\",\"delta.constraints.valid_year\":\"yearOfRegistration BETWEEN 1950 AND 2019\",\"delta.constraints.valid_power\":\"powerPS BETWEEN 10 AND 500\",\"delta.constraints.non_null_brand\":\"brand IS NOT NULL\"}}|NULL|NULL    |NULL     |14         |Serializable  |false        |{numFiles -> 2, numOutputRows -> 321442, numOutputBytes -> 1982822}|NULL        |Apache-Spark/3.5.3 Delta-Lake/3.1.0|\n",
            "|14     |2025-09-13 15:59:18.373|NULL  |NULL    |WRITE                            |{mode -> Append, partitionBy -> []}                                                                                                                                                                                                                                                                                                      |NULL|NULL    |NULL     |13         |Serializable  |true         |{numFiles -> 2, numOutputRows -> 3, numOutputBytes -> 4956}        |NULL        |Apache-Spark/3.5.3 Delta-Lake/3.1.0|\n",
            "|13     |2025-09-13 15:47:22.728|NULL  |NULL    |CREATE OR REPLACE TABLE AS SELECT|{isManaged -> true, description -> NULL, partitionBy -> [], properties -> {\"delta.constraints.valid_price\":\"price BETWEEN 100 AND 100000\",\"delta.constraints.valid_year\":\"yearOfRegistration BETWEEN 1950 AND 2019\",\"delta.constraints.valid_power\":\"powerPS BETWEEN 10 AND 500\",\"delta.constraints.non_null_brand\":\"brand IS NOT NULL\"}}|NULL|NULL    |NULL     |12         |Serializable  |false        |{numFiles -> 2, numOutputRows -> 321442, numOutputBytes -> 1982822}|NULL        |Apache-Spark/3.5.3 Delta-Lake/3.1.0|\n",
            "|12     |2025-09-13 15:21:34.347|NULL  |NULL    |CREATE OR REPLACE TABLE AS SELECT|{isManaged -> true, description -> NULL, partitionBy -> [], properties -> {\"delta.constraints.valid_price\":\"price BETWEEN 100 AND 100000\",\"delta.constraints.valid_year\":\"yearOfRegistration BETWEEN 1950 AND 2019\",\"delta.constraints.valid_power\":\"powerPS BETWEEN 10 AND 500\",\"delta.constraints.non_null_brand\":\"brand IS NOT NULL\"}}|NULL|NULL    |NULL     |11         |Serializable  |false        |{numFiles -> 2, numOutputRows -> 321442, numOutputBytes -> 1982822}|NULL        |Apache-Spark/3.5.3 Delta-Lake/3.1.0|\n",
            "|11     |2025-09-13 14:59:31.698|NULL  |NULL    |WRITE                            |{mode -> Append, partitionBy -> []}                                                                                                                                                                                                                                                                                                      |NULL|NULL    |NULL     |10         |Serializable  |true         |{numFiles -> 2, numOutputRows -> 3, numOutputBytes -> 4956}        |NULL        |Apache-Spark/3.5.3 Delta-Lake/3.1.0|\n",
            "|10     |2025-09-13 14:57:37.491|NULL  |NULL    |CREATE OR REPLACE TABLE AS SELECT|{isManaged -> true, description -> NULL, partitionBy -> [], properties -> {\"delta.constraints.valid_price\":\"price BETWEEN 100 AND 100000\",\"delta.constraints.valid_year\":\"yearOfRegistration BETWEEN 1950 AND 2019\",\"delta.constraints.valid_power\":\"powerPS BETWEEN 10 AND 500\",\"delta.constraints.non_null_brand\":\"brand IS NOT NULL\"}}|NULL|NULL    |NULL     |9          |Serializable  |false        |{numFiles -> 2, numOutputRows -> 321442, numOutputBytes -> 1982822}|NULL        |Apache-Spark/3.5.3 Delta-Lake/3.1.0|\n",
            "|9      |2025-09-13 14:32:24.998|NULL  |NULL    |WRITE                            |{mode -> Append, partitionBy -> []}                                                                                                                                                                                                                                                                                                      |NULL|NULL    |NULL     |8          |Serializable  |true         |{numFiles -> 2, numOutputRows -> 3, numOutputBytes -> 4956}        |NULL        |Apache-Spark/3.5.3 Delta-Lake/3.1.0|\n",
            "|8      |2025-09-13 14:21:09.31 |NULL  |NULL    |CREATE OR REPLACE TABLE AS SELECT|{isManaged -> true, description -> NULL, partitionBy -> [], properties -> {\"delta.constraints.valid_price\":\"price BETWEEN 100 AND 100000\",\"delta.constraints.valid_year\":\"yearOfRegistration BETWEEN 1950 AND 2019\",\"delta.constraints.valid_power\":\"powerPS BETWEEN 10 AND 500\",\"delta.constraints.non_null_brand\":\"brand IS NOT NULL\"}}|NULL|NULL    |NULL     |7          |Serializable  |false        |{numFiles -> 2, numOutputRows -> 321442, numOutputBytes -> 1982822}|NULL        |Apache-Spark/3.5.3 Delta-Lake/3.1.0|\n",
            "|7      |2025-09-13 14:20:43.184|NULL  |NULL    |CREATE OR REPLACE TABLE AS SELECT|{isManaged -> true, description -> NULL, partitionBy -> [], properties -> {\"delta.constraints.valid_price\":\"price BETWEEN 100 AND 100000\",\"delta.constraints.valid_year\":\"yearOfRegistration BETWEEN 1950 AND 2019\",\"delta.constraints.valid_power\":\"powerPS BETWEEN 10 AND 500\",\"delta.constraints.non_null_brand\":\"brand IS NOT NULL\"}}|NULL|NULL    |NULL     |6          |Serializable  |false        |{numFiles -> 2, numOutputRows -> 321442, numOutputBytes -> 1982822}|NULL        |Apache-Spark/3.5.3 Delta-Lake/3.1.0|\n",
            "|6      |2025-09-13 14:03:11.005|NULL  |NULL    |CREATE OR REPLACE TABLE AS SELECT|{isManaged -> true, description -> NULL, partitionBy -> [], properties -> {\"delta.constraints.valid_price\":\"price BETWEEN 100 AND 100000\",\"delta.constraints.valid_year\":\"yearOfRegistration BETWEEN 1950 AND 2019\",\"delta.constraints.valid_power\":\"powerPS BETWEEN 10 AND 500\",\"delta.constraints.non_null_brand\":\"brand IS NOT NULL\"}}|NULL|NULL    |NULL     |5          |Serializable  |false        |{numFiles -> 2, numOutputRows -> 321442, numOutputBytes -> 1982822}|NULL        |Apache-Spark/3.5.3 Delta-Lake/3.1.0|\n",
            "|5      |2025-09-13 12:16:11.06 |NULL  |NULL    |CREATE OR REPLACE TABLE AS SELECT|{isManaged -> true, description -> NULL, partitionBy -> [], properties -> {\"delta.constraints.valid_price\":\"price BETWEEN 100 AND 100000\",\"delta.constraints.valid_year\":\"yearOfRegistration BETWEEN 1950 AND 2019\",\"delta.constraints.valid_power\":\"powerPS BETWEEN 10 AND 500\",\"delta.constraints.non_null_brand\":\"brand IS NOT NULL\"}}|NULL|NULL    |NULL     |4          |Serializable  |false        |{numFiles -> 2, numOutputRows -> 321442, numOutputBytes -> 1982822}|NULL        |Apache-Spark/3.5.3 Delta-Lake/3.1.0|\n",
            "|4      |2025-09-13 10:55:54.189|NULL  |NULL    |ADD CONSTRAINT                   |{name -> non_null_brand, expr -> brand IS NOT NULL}                                                                                                                                                                                                                                                                                      |NULL|NULL    |NULL     |3          |Serializable  |false        |{}                                                                 |NULL        |Apache-Spark/3.5.3 Delta-Lake/3.1.0|\n",
            "|3      |2025-09-13 10:55:47.336|NULL  |NULL    |ADD CONSTRAINT                   |{name -> valid_power, expr -> powerPS BETWEEN 10 AND 500}                                                                                                                                                                                                                                                                                |NULL|NULL    |NULL     |2          |Serializable  |false        |{}                                                                 |NULL        |Apache-Spark/3.5.3 Delta-Lake/3.1.0|\n",
            "|2      |2025-09-13 10:55:38.724|NULL  |NULL    |ADD CONSTRAINT                   |{name -> valid_year, expr -> yearOfRegistration BETWEEN 1950 AND 2019}                                                                                                                                                                                                                                                                   |NULL|NULL    |NULL     |1          |Serializable  |false        |{}                                                                 |NULL        |Apache-Spark/3.5.3 Delta-Lake/3.1.0|\n",
            "|1      |2025-09-13 10:55:30.68 |NULL  |NULL    |ADD CONSTRAINT                   |{name -> valid_price, expr -> price BETWEEN 100 AND 100000}                                                                                                                                                                                                                                                                              |NULL|NULL    |NULL     |0          |Serializable  |false        |{}                                                                 |NULL        |Apache-Spark/3.5.3 Delta-Lake/3.1.0|\n",
            "|0      |2025-09-13 10:47:10.325|NULL  |NULL    |CREATE OR REPLACE TABLE AS SELECT|{isManaged -> true, description -> NULL, partitionBy -> [], properties -> {}}                                                                                                                                                                                                                                                            |NULL|NULL    |NULL     |NULL       |Serializable  |false        |{numFiles -> 2, numOutputRows -> 321442, numOutputBytes -> 1982822}|NULL        |Apache-Spark/3.5.3 Delta-Lake/3.1.0|\n",
            "+-------+-----------------------+------+--------+---------------------------------+-----------------------------------------------------------------------------------------------------------------------------------------------------------------------------------------------------------------------------------------------------------------------------------------------------------------------------------------+----+--------+---------+-----------+--------------+-------------+-------------------------------------------------------------------+------------+-----------------------------------+\n",
            "\n"
          ]
        }
      ],
      "source": [
        "sc.setJobDescription(\n",
        "    \"[Ingesting new data and reruning analytics] DESCRIBE HISTORY deltaPrices\"\n",
        ")\n",
        "spark.sql(\"DESCRIBE HISTORY deltaPrices\").show(truncate=False)"
      ]
    },
    {
      "cell_type": "markdown",
      "metadata": {
        "id": "-hVJ8nXggndn"
      },
      "source": [
        "The output below shows that Delta Lake is correctly tracking every operation on the table.\n",
        "The version 9 presents exactly the `WRITE` operation with `numOutputRows -> 3` : that's exactly the 3 fictitious rows we just ingested.\n"
      ]
    },
    {
      "cell_type": "markdown",
      "metadata": {
        "id": "xxfz53sRfl2D"
      },
      "source": [
        "### Compare aggregations across versions\n",
        "\n",
        "Let's re-run **Query 1 (average price by year)** on two versions of the data."
      ]
    },
    {
      "cell_type": "code",
      "execution_count": 183,
      "metadata": {
        "colab": {
          "base_uri": "https://localhost:8080/"
        },
        "id": "l293A2ufhS5N",
        "outputId": "464a593c-90f1-49a8-b661-d325c3252d47"
      },
      "outputs": [
        {
          "name": "stdout",
          "output_type": "stream",
          "text": [
            "+------------------+------------------+\n",
            "|yearOfRegistration|        avg(price)|\n",
            "+------------------+------------------+\n",
            "|              2010|12565.620622732258|\n",
            "|              2015|25842.256983240222|\n",
            "|              2016| 3574.006775485063|\n",
            "+------------------+------------------+\n",
            "\n",
            "+------------------+-----------------+\n",
            "|yearOfRegistration|       avg(price)|\n",
            "+------------------+-----------------+\n",
            "|              2010|12564.98228147148|\n",
            "|              2015|25835.61429635145|\n",
            "|              2016|3575.304080061586|\n",
            "+------------------+-----------------+\n",
            "\n"
          ]
        }
      ],
      "source": [
        "sc.setJobDescription(\n",
        "    \"[Ingesting new data and reruning analytics] Compare aggregations across versions\"\n",
        ")\n",
        "# Old version (before new data)\n",
        "df_old = (\n",
        "    spark.read.format(\"delta\").option(\"versionAsOf\", 8).table(\"deltaPrices\")\n",
        ")\n",
        "df_old.groupBy(\"yearOfRegistration\").avg(\"price\").filter(\n",
        "    \"yearOfRegistration IN (2010, 2015, 2016)\"\n",
        ").orderBy(\"yearOfRegistration\").show()\n",
        "\n",
        "# New version (after new data)\n",
        "df_new = (\n",
        "    spark.read.format(\"delta\").option(\"versionAsOf\", 9).table(\"deltaPrices\")\n",
        ")\n",
        "df_new.groupBy(\"yearOfRegistration\").avg(\"price\").filter(\n",
        "    \"yearOfRegistration IN (2010, 2015, 2016)\"\n",
        ").orderBy(\"yearOfRegistration\").show()"
      ]
    },
    {
      "cell_type": "markdown",
      "metadata": {
        "id": "cJzJvou5hOpK"
      },
      "source": [
        "### Conclusion about the operation of ingesting new data\n",
        "\n",
        "By comparing version 0 (before new data) and version 1 (after insertion), we can observe\n",
        "how the average price for years : 2010, 2015, 2016 changes as a result of the newly ingested rows.  \n",
        "\n",
        "This demonstrates how Delta Lake's **time travel feature** allows us to track the evolution\n",
        "of analytical results over time, making it easy to validate the impact of newly ingested data."
      ]
    },
    {
      "cell_type": "markdown",
      "metadata": {},
      "source": [
        "## Conclusion\n",
        "\n",
        "This project built an end-to-end **data preparation pipeline** for car price analysis.\n",
        "We cleaned and validated the raw dataset, stored it in **Delta Lake** with constraints to ensure future data quality, and explored meaningful analytical queries (price by year, brand, mileage). We then applied **partitioning** to optimize queries and used **Delta Lake’s time travel** to compare results across different versions after ingesting new data.\n",
        "\n",
        "Overall, the pipeline ensures that the dataset is **clean, reliable, optimized, and reproducible** for future analytics."
      ]
    }
  ],
  "metadata": {
    "colab": {
      "collapsed_sections": [
        "uEE-92qgTQ4p"
      ],
      "provenance": [],
      "toc_visible": true
    },
    "kernelspec": {
      "display_name": "Python 3",
      "name": "python3"
    },
    "language_info": {
      "name": "python"
    }
  },
  "nbformat": 4,
  "nbformat_minor": 0
}

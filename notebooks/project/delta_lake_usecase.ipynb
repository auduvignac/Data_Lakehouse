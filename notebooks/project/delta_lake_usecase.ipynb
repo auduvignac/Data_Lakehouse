{
  "cells": [
    {
      "cell_type": "markdown",
      "metadata": {
        "id": "GwjrdGLoXzly"
      },
      "source": [
        "* Formation Continue EMIASD, Univ. Paris Dauphine, Promo 6\n",
        "\n",
        "* Author: Mohamed-Amine Baazizi\n",
        "* Affiliation: LIP6 - Faculté des Sciences - Sorbonne Université\n",
        "* Email: mohamed-amine.baazizi@lip6.fr\n",
        "* Reusing without consent of the author is strictly forbidden\n",
        "* July 2025\n",
        "\n",
        "<p align=\"center\">\n",
        "  <a href=\"https://colab.research.google.com/github/auduvignac/Data_Lakehouse/blob/main/notebooks/project/delta_lake_usecase.ipynb\" target=\"_blank\">\n",
        "  <img src=\"https://colab.research.google.com/assets/colab-badge.svg\" alt=\"Ouvrir dans Google Colab\"/>\n",
        "  </a>\n",
        "</p>"
      ]
    },
    {
      "cell_type": "markdown",
      "metadata": {
        "id": "GunJfIR6YM_h"
      },
      "source": [
        "# Homework\n"
      ]
    },
    {
      "cell_type": "markdown",
      "metadata": {
        "id": "-kfCqy7EtbGd"
      },
      "source": [
        "## Outline"
      ]
    },
    {
      "cell_type": "markdown",
      "metadata": {
        "id": "GpI9l0JZYRdh"
      },
      "source": [
        "This homework is about building an effective data preparation pipeline.\n",
        "It covers the following aspects covered throughout the session:\n",
        "\n",
        "* ingest raw data, curate it, transform it\n",
        "* load the data into delta tables to enforce constraints and allow updates\n",
        "* chose an optimal data layout to speedup query evaluation\n",
        "\n",
        "It is based on raw data about car prices crawled from a public source.\n",
        "\n",
        "You are kindly asked to understand the data and decide about a relevant analysis (2 or 3 analytical queries) that can be performed on this data.\n",
        "For example, you could suggest to derive insights (min, max, avg) about the price per year of registration.\n",
        "You can use any other descriptive column that you may find useful.\n",
        "You are also kindly invited to briefly comment the choices you made at each phase.\n",
        "\n",
        "\n",
        "\n",
        "\n",
        "\n",
        "\n"
      ]
    },
    {
      "cell_type": "markdown",
      "metadata": {
        "id": "csSU_SanYPJQ"
      },
      "source": [
        "## Prerequisite"
      ]
    },
    {
      "cell_type": "markdown",
      "metadata": {
        "id": "BYxx4XY_TN0H"
      },
      "source": [
        "### System setup"
      ]
    },
    {
      "cell_type": "code",
      "execution_count": 1,
      "metadata": {
        "id": "WEQ6g-8ZzATC",
        "outputId": "c58d7d0b-5ab2-412b-bea8-7bd517d1dd8c",
        "colab": {
          "base_uri": "https://localhost:8080/"
        }
      },
      "outputs": [
        {
          "output_type": "stream",
          "name": "stdout",
          "text": [
            "⚡ Exécution sur Colab : vérification stricte des dépendances…\n",
            "✅ delta-spark 3.2.1 — OK\n",
            "✅ parquet-tools 0.2.16 — OK\n",
            "✅ pyngrok 7.3.0 — OK\n",
            "✅ pyspark 3.5.3 — OK\n",
            "✅ Toutes les dépendances satisfont les contraintes.\n"
          ]
        }
      ],
      "source": [
        "!wget -q https://raw.githubusercontent.com/auduvignac/Data_Lakehouse/refs/heads/main/setup_env.py -O setup_env.py\n",
        "%run setup_env.py"
      ]
    },
    {
      "cell_type": "code",
      "execution_count": null,
      "metadata": {
        "id": "mW_DrY7ZlUj_"
      },
      "outputs": [],
      "source": [
        "%%capture\n",
        "%pip install pyspark==3.5.3\n",
        "%pip install -q delta-spark==3.2.1\n",
        "%pip install pyngrok"
      ]
    },
    {
      "cell_type": "code",
      "execution_count": 2,
      "metadata": {
        "colab": {
          "base_uri": "https://localhost:8080/"
        },
        "id": "o1YXYF4nWHNE",
        "outputId": "a5e00eac-7f75-400e-f918-cc1715aedf14"
      },
      "outputs": [
        {
          "output_type": "stream",
          "name": "stdout",
          "text": [
            "dataproc-spark-connect                0.8.3\n",
            "delta-spark                           3.2.1\n",
            "pyspark                               3.5.3\n"
          ]
        }
      ],
      "source": [
        "!pip list|grep spark"
      ]
    },
    {
      "cell_type": "code",
      "execution_count": 3,
      "metadata": {
        "id": "ZGcYc-DKqpUi"
      },
      "outputs": [],
      "source": [
        "from pyspark import SparkConf\n",
        "\n",
        "from pyspark.context import SparkContext\n",
        "from pyspark.sql import SparkSession\n",
        "\n",
        "local = \"local[*]\"\n",
        "appName = \"Formation Continue EMIASD - Delta Lake \"\n",
        "localConfig = SparkConf().setAppName(appName).setMaster(local).\\\n",
        "  set(\"spark.executor.memory\", \"8G\").\\\n",
        "  set(\"spark.driver.memory\",\"8G\").\\\n",
        "  set(\"spark.sql.catalogImplementation\",\"in-memory\").\\\n",
        "  set(\"spark.sql.extensions\",\"io.delta.sql.DeltaSparkSessionExtension\").\\\n",
        "  set(\"spark.sql.catalog.spark_catalog\",\"org.apache.spark.sql.delta.catalog.DeltaCatalog\").\\\n",
        "  set(\"spark.jars.packages\",\"io.delta:delta-spark_2.12:3.1.0\").\\\n",
        "  set(\"spark.databricks.delta.schema.autoMerge.enabled\",\"true\")\n",
        "\n",
        "spark = SparkSession.builder.config(conf = localConfig).getOrCreate()\n",
        "sc = spark.sparkContext\n",
        "sc.setLogLevel(\"ERROR\")"
      ]
    },
    {
      "cell_type": "code",
      "execution_count": 4,
      "metadata": {
        "colab": {
          "base_uri": "https://localhost:8080/",
          "height": 219
        },
        "id": "tvPytoK4Xl3t",
        "outputId": "9fb62830-93d4-4f94-c705-262b3c96807a"
      },
      "outputs": [
        {
          "output_type": "execute_result",
          "data": {
            "text/plain": [
              "<pyspark.sql.session.SparkSession at 0x7ad576626b70>"
            ],
            "text/html": [
              "\n",
              "            <div>\n",
              "                <p><b>SparkSession - in-memory</b></p>\n",
              "                \n",
              "        <div>\n",
              "            <p><b>SparkContext</b></p>\n",
              "\n",
              "            <p><a href=\"http://e1ba0932eb44:4040\">Spark UI</a></p>\n",
              "\n",
              "            <dl>\n",
              "              <dt>Version</dt>\n",
              "                <dd><code>v3.5.3</code></dd>\n",
              "              <dt>Master</dt>\n",
              "                <dd><code>local[*]</code></dd>\n",
              "              <dt>AppName</dt>\n",
              "                <dd><code>Formation Continue EMIASD - Delta Lake </code></dd>\n",
              "            </dl>\n",
              "        </div>\n",
              "        \n",
              "            </div>\n",
              "        "
            ]
          },
          "metadata": {},
          "execution_count": 4
        }
      ],
      "source": [
        "spark"
      ]
    },
    {
      "cell_type": "markdown",
      "metadata": {
        "id": "uEE-92qgTQ4p"
      },
      "source": [
        "### Data import\n",
        "\n",
        "Before performing any analysis, we need to import the dataset into our working environment.  \n",
        "This involves three main steps:  \n",
        "1. Downloading and extracting the dataset archive.  \n",
        "2. Checking the extracted files to confirm the dataset is available.  \n",
        "3. Loading the CSV file into a Spark SQL table for further exploration and transformation.  \n",
        "\n",
        "These steps ensure that the raw data is properly prepared and accessible for the data preparation pipeline.\n",
        "\n",
        "\n",
        "\n",
        "#### Download and extract dataset\n",
        "\n",
        "This section aims to fetch the dataset archive from the remote server and extract its contents locally in `/tmp/MLData`.\n",
        "\n",
        "\n"
      ]
    },
    {
      "cell_type": "code",
      "execution_count": 5,
      "metadata": {
        "id": "95fudS-iTbB5"
      },
      "outputs": [],
      "source": [
        "%%capture\n",
        "!wget --no-verbose https://nuage.lip6.fr/s/89BG8HD9r3iE693/download/MLData.tgz -O /tmp/MLData.tgz\n",
        "!tar -xzvf /tmp/MLData.tgz  --directory /tmp/"
      ]
    },
    {
      "cell_type": "markdown",
      "source": [
        "The command above is used to download and extract the dataset.  \n",
        "Since the dataset is distributed as a compressed `.tgz` archive, we first fetch it with `wget` and then unpack it into `/tmp/MLData` using `tar`.  \n",
        "The `%%capture` magic is applied to hide the verbose output and keep the notebook tidy."
      ],
      "metadata": {
        "id": "bU6F-uLw7x6p"
      }
    },
    {
      "cell_type": "markdown",
      "source": [
        "#### Check extracted files\n",
        "\n",
        "This section aims to verify that the dataset has been correctly extracted and explore the available files.\n"
      ],
      "metadata": {
        "id": "7UBrUiHa7JIZ"
      }
    },
    {
      "cell_type": "code",
      "execution_count": 6,
      "metadata": {
        "colab": {
          "base_uri": "https://localhost:8080/"
        },
        "id": "qiJOcxz1bLJ2",
        "outputId": "1d868d47-7d20-459f-9555-c4901edad04e"
      },
      "outputs": [
        {
          "output_type": "stream",
          "name": "stdout",
          "text": [
            "total 73M\n",
            "drwxr-xr-x 2  501 staff 4.0K Jan  6  2022 .\n",
            "drwxrwxrwt 1 root root  4.0K Aug 23 07:21 ..\n",
            "-rw-r--r-- 1  501 staff  66M Jan  6  2022 autos.csv\n",
            "-rw-r--r-- 1  501 staff  176 Jan  6  2022 ._loan.csv\n",
            "-rw-r--r-- 1  501 staff 6.8M Jan  6  2022 loan.csv\n"
          ]
        }
      ],
      "source": [
        "!ls -hal /tmp/MLData"
      ]
    },
    {
      "cell_type": "markdown",
      "source": [
        "The command above lists the contents of `/tmp/MLData` along with file sizes.\n",
        "From here, we confirm the presence of `autos.csv`, which is the main dataset we will use for our analysis."
      ],
      "metadata": {
        "id": "YjNdnwE_7XBC"
      }
    },
    {
      "cell_type": "markdown",
      "source": [
        "#### Load dataset into Spark table\n",
        "\n",
        "The following query aims to create a Spark SQL table from the raw CSV file so that we can query the data efficiently.\n",
        "\n",
        "```sql\n",
        "CREATE TABLE IF NOT EXISTS raw_vehiculePrices\n",
        "USING csv\n",
        "OPTIONS (\n",
        "  header \"true\",\n",
        "  path \"/tmp/MLData/autos.csv\",\n",
        "  inferSchema \"true\"\n",
        ")\n",
        "```\n",
        "\n",
        "We define a new table `raw_vehiculePrices` using the CSV file `autos.csv`.\n",
        "\n",
        "- `header \"true\"` ensures the first row is used as column names ;\n",
        "- `inferSchema \"true\"` allows Spark to automatically detect column data types ;\n",
        "\n",
        "This creates a structured table in Spark SQL, making it easier to explore and transform the dataset in the next steps."
      ],
      "metadata": {
        "id": "qPxV1tC16i5h"
      }
    },
    {
      "cell_type": "code",
      "execution_count": 7,
      "metadata": {
        "colab": {
          "base_uri": "https://localhost:8080/"
        },
        "id": "lDEBF-MkYhvh",
        "outputId": "f3a7c4d4-753b-4e95-e3e5-e43c658b2480"
      },
      "outputs": [
        {
          "output_type": "execute_result",
          "data": {
            "text/plain": [
              "DataFrame[]"
            ]
          },
          "metadata": {},
          "execution_count": 7
        }
      ],
      "source": [
        "query = \"\"\"\n",
        "CREATE TABLE IF NOT EXISTS raw_vehiculePrices\n",
        "USING csv\n",
        "OPTIONS (\n",
        "  header \"true\",\n",
        "  path \"/tmp/MLData/autos.csv\",\n",
        "  inferSchema \"true\"\n",
        ")\n",
        "\"\"\"\n",
        "spark.sql(query)"
      ]
    },
    {
      "cell_type": "markdown",
      "metadata": {
        "id": "0EKaX3uGYiJg"
      },
      "source": [
        "## Phase 0: Understanding the data\n",
        "\n",
        "\n",
        "\n",
        "\n"
      ]
    },
    {
      "cell_type": "markdown",
      "metadata": {
        "id": "h9yzUuD7uvrD"
      },
      "source": [
        "In this part, you are invited to get some knowledge about the data by reading its schema and extracting  some basic statistical information about the values of columns that you will find interesting."
      ]
    },
    {
      "cell_type": "markdown",
      "source": [
        "### Schema exploration\n",
        "\n",
        "#### Objective\n",
        "\n",
        "Before analyzing the data, we want to understand its structure. The `DESCRIBE` command shows the schema of the table, including column names, data types, and roles.\n",
        "\n",
        "#### Query\n",
        "\n",
        "```sql\n",
        "DESCRIBE raw_vehiculePrices\n",
        "```"
      ],
      "metadata": {
        "id": "1y2DZRfl4IcI"
      }
    },
    {
      "cell_type": "code",
      "execution_count": 8,
      "metadata": {
        "colab": {
          "base_uri": "https://localhost:8080/"
        },
        "id": "Eb6-J0azcBma",
        "outputId": "00fe3059-0924-42c4-a7ed-103ef8e12adb"
      },
      "outputs": [
        {
          "output_type": "stream",
          "name": "stdout",
          "text": [
            "+-------------------+---------+-------+\n",
            "|           col_name|data_type|comment|\n",
            "+-------------------+---------+-------+\n",
            "|        dateCrawled|timestamp|   NULL|\n",
            "|               name|   string|   NULL|\n",
            "|             seller|   string|   NULL|\n",
            "|          offerType|   string|   NULL|\n",
            "|              price|      int|   NULL|\n",
            "|             abtest|   string|   NULL|\n",
            "|        vehicleType|   string|   NULL|\n",
            "| yearOfRegistration|      int|   NULL|\n",
            "|            gearbox|   string|   NULL|\n",
            "|            powerPS|      int|   NULL|\n",
            "|              model|   string|   NULL|\n",
            "|          kilometer|      int|   NULL|\n",
            "|monthOfRegistration|      int|   NULL|\n",
            "|           fuelType|   string|   NULL|\n",
            "|              brand|   string|   NULL|\n",
            "|  notRepairedDamage|   string|   NULL|\n",
            "|        dateCreated|timestamp|   NULL|\n",
            "|       nrOfPictures|      int|   NULL|\n",
            "|         postalCode|      int|   NULL|\n",
            "|           lastSeen|timestamp|   NULL|\n",
            "+-------------------+---------+-------+\n",
            "\n"
          ]
        }
      ],
      "source": [
        "query = \"\"\"\n",
        "DESCRIBE raw_vehiculePrices\n",
        "\"\"\"\n",
        "spark.sql(query).show()"
      ]
    },
    {
      "cell_type": "markdown",
      "source": [
        "#### Explanation\n",
        "\n",
        "The dataset contains 20 columns, such as `yearOfRegistration`, `price`, `kilometer`, `brand`, and `fuelType`.\n",
        "We observe a mix of:\n",
        "\n",
        "- **Numerical columns**: `price`, `powerPS`, `kilometer`, `yearOfRegistration` ;\n",
        "- **Categorical columns**: `brand`, `fuelType`, `gearbox`, `vehicleType` ;\n",
        "- **Timestamps**: `dateCrawled`, `dateCreated`, `lastSeen`.\n",
        "\n",
        "This confirms the dataset is rich enough for meaningful analysis of vehicle prices and characteristics.\n",
        "\n",
        "### Data Preview: Sample Rows from the Dataset\n",
        "\n",
        "#### Objective\n",
        "\n",
        "Before diving into detailed statistics, we want to preview a few sample rows of the dataset.  \n",
        "This helps us understand the raw structure, check how values are formatted (e.g., prices, dates, categorical fields),  \n",
        "and spot any obvious anomalies or missing values directly in the data.\n",
        "\n",
        "#### Query\n",
        "\n",
        "```sql\n",
        "SELECT *\n",
        "FROM raw_vehiculePrices TABLESAMPLE (5 ROWS);\n",
        "```"
      ],
      "metadata": {
        "id": "5WyavCP_4K--"
      }
    },
    {
      "cell_type": "code",
      "execution_count": 9,
      "metadata": {
        "colab": {
          "base_uri": "https://localhost:8080/"
        },
        "id": "XeJDgTnicSx0",
        "outputId": "dce75829-f1cc-4aaa-d3b2-eed1d42828f2"
      },
      "outputs": [
        {
          "output_type": "stream",
          "name": "stdout",
          "text": [
            "+-------------------+--------------------+------+---------+-----+------+-----------+------------------+---------+-------+-----+---------+-------------------+--------+----------+-----------------+-------------------+------------+----------+-------------------+\n",
            "|        dateCrawled|                name|seller|offerType|price|abtest|vehicleType|yearOfRegistration|  gearbox|powerPS|model|kilometer|monthOfRegistration|fuelType|     brand|notRepairedDamage|        dateCreated|nrOfPictures|postalCode|           lastSeen|\n",
            "+-------------------+--------------------+------+---------+-----+------+-----------+------------------+---------+-------+-----+---------+-------------------+--------+----------+-----------------+-------------------+------------+----------+-------------------+\n",
            "|2016-03-24 11:52:17|          Golf_3_1.6|privat|  Angebot|  480|  test|       NULL|              1993|  manuell|      0| golf|   150000|                  0|  benzin|volkswagen|             NULL|2016-03-24 00:00:00|           0|     70435|2016-04-07 03:16:57|\n",
            "|2016-03-24 10:58:45|A5_Sportback_2.7_Tdi|privat|  Angebot|18300|  test|      coupe|              2011|  manuell|    190| NULL|   125000|                  5|  diesel|      audi|               ja|2016-03-24 00:00:00|           0|     66954|2016-04-07 01:46:50|\n",
            "|2016-03-14 12:52:21|Jeep_Grand_Cherok...|privat|  Angebot| 9800|  test|        suv|              2004|automatik|    163|grand|   125000|                  8|  diesel|      jeep|             NULL|2016-03-14 00:00:00|           0|     90480|2016-04-05 12:47:46|\n",
            "|2016-03-17 16:54:04|  GOLF_4_1_4__3T�RER|privat|  Angebot| 1500|  test| kleinwagen|              2001|  manuell|     75| golf|   150000|                  6|  benzin|volkswagen|             nein|2016-03-17 00:00:00|           0|     91074|2016-03-17 17:40:17|\n",
            "|2016-03-31 17:25:20|Skoda_Fabia_1.4_T...|privat|  Angebot| 3600|  test| kleinwagen|              2008|  manuell|     69|fabia|    90000|                  7|  diesel|     skoda|             nein|2016-03-31 00:00:00|           0|     60437|2016-04-06 10:17:21|\n",
            "+-------------------+--------------------+------+---------+-----+------+-----------+------------------+---------+-------+-----+---------+-------------------+--------+----------+-----------------+-------------------+------------+----------+-------------------+\n",
            "\n"
          ]
        }
      ],
      "source": [
        "query = \"\"\"\n",
        "SELECT * FROM raw_vehiculePrices TABLESAMPLE (5 ROWS);\n",
        "\"\"\"\n",
        "spark.sql(query).show()"
      ]
    },
    {
      "cell_type": "markdown",
      "source": [
        "#### Explanation\n",
        "\n",
        "The preview confirms that the dataset contains diverse information about car listings:\n",
        "\n",
        "- Timestamps such as `dateCrawled`, `dateCreated`, and `lastSeen` record when the ad was collected and updated ;\n",
        "- Vehicle details include `name`, `brand`, `model`, `yearOfRegistration`, `gearbox`, `fuelType`, `kilometer`, and `powerPS` ;\n",
        "- Market-related attributes include `price`, `seller`, `offerType`, and `notRepairedDamage` ;\n",
        "- Some fields contain missing values (e.g., `vehicleType = NULL`, `model = NULL`), and unrealistic values are already visible (e.g., `powerPS = 0`) ;\n",
        "- The column `nrOfPictures` is always 0 in the sample, which suggests it may not provide useful information.  \n",
        "\n",
        "This sample illustrates both the richness of the dataset and the data quality issues (nulls, zeros, possible encoding problems like special characters in names) that will need to be addressed during cleaning."
      ],
      "metadata": {
        "id": "W1k6vl8a525t"
      }
    },
    {
      "cell_type": "markdown",
      "source": [
        "### Year of registration\n",
        "\n",
        "#### Objective\n",
        "\n",
        "We want to identify the range and central tendency of the `yearOfRegistration` column to check for anomalies and understand the distribution of registration years.\n",
        "\n",
        "#### Query\n",
        "\n",
        "```sql\n",
        "SELECT  min(yearOfRegistration), max(yearOfRegistration),\n",
        "        avg(yearOfRegistration), median(yearOfRegistration)\n",
        "FROM raw_vehiculePrices\n",
        "```"
      ],
      "metadata": {
        "id": "x30mbRS03min"
      }
    },
    {
      "cell_type": "code",
      "execution_count": 10,
      "metadata": {
        "colab": {
          "base_uri": "https://localhost:8080/"
        },
        "id": "OHSwz3vShMMx",
        "outputId": "ca5904ff-5c94-472a-9832-d48de8bf42b2"
      },
      "outputs": [
        {
          "output_type": "stream",
          "name": "stdout",
          "text": [
            "+-----------------------+-----------------------+-----------------------+--------------------------+\n",
            "|min(yearOfRegistration)|max(yearOfRegistration)|avg(yearOfRegistration)|median(yearOfRegistration)|\n",
            "+-----------------------+-----------------------+-----------------------+--------------------------+\n",
            "|                   1000|                   9999|     2004.5767206439623|                    2003.0|\n",
            "+-----------------------+-----------------------+-----------------------+--------------------------+\n",
            "\n"
          ]
        }
      ],
      "source": [
        "query = \"\"\"\n",
        "SELECT  min(yearOfRegistration), max(yearOfRegistration),\n",
        "          avg(yearOfRegistration), median(yearOfRegistration)\n",
        "FROM raw_vehiculePrices\n",
        "\"\"\"\n",
        "spark.sql(query).show()"
      ]
    },
    {
      "cell_type": "markdown",
      "source": [
        "#### Explanation\n",
        "\n",
        "* Min = 1000 → invalid year ;\n",
        "* Max = 9999 → invalid future year ;\n",
        "* Average ≈ 2004.6 ;\n",
        "* Median = 2003.\n",
        "\n",
        "This shows that the majority of cars are from the 2000s, but the column also contains strong outliers that must be removed for correct analysis."
      ],
      "metadata": {
        "id": "VeniEb7x3voE"
      }
    },
    {
      "cell_type": "markdown",
      "source": [
        "### Year of registration\n",
        "\n",
        "#### Objective\n",
        "\n",
        "We want to explore the distribution of `yearOfRegistration` to confirm where most cars are concentrated and detect abnormal entries.\n",
        "\n",
        "#### Query\n",
        "\n",
        "```sql\n",
        "SELECT yearOfRegistration, count(*)\n",
        "FROM raw_vehiculePrices\n",
        "GROUP BY yearOfRegistration\n",
        "ORDER BY yearOfRegistration DESC\n",
        "```"
      ],
      "metadata": {
        "id": "cEYejq9S3Gcr"
      }
    },
    {
      "cell_type": "code",
      "execution_count": 11,
      "metadata": {
        "id": "y43pSPgweGPF",
        "outputId": "e64a2fb6-325e-4424-9128-3afd9c58ff15",
        "colab": {
          "base_uri": "https://localhost:8080/"
        }
      },
      "outputs": [
        {
          "output_type": "stream",
          "name": "stdout",
          "text": [
            "+------------------+--------+\n",
            "|yearOfRegistration|count(1)|\n",
            "+------------------+--------+\n",
            "|              9999|      27|\n",
            "|              9996|       1|\n",
            "|              9450|       1|\n",
            "|              9229|       1|\n",
            "|              9000|       5|\n",
            "|              8888|       2|\n",
            "|              8500|       1|\n",
            "|              8455|       1|\n",
            "|              8200|       1|\n",
            "|              8000|       2|\n",
            "|              7800|       1|\n",
            "|              7777|       1|\n",
            "|              7500|       2|\n",
            "|              7100|       1|\n",
            "|              7000|       4|\n",
            "|              6500|       1|\n",
            "|              6200|       1|\n",
            "|              6000|       6|\n",
            "|              5911|       2|\n",
            "|              5900|       1|\n",
            "|              5600|       1|\n",
            "|              5555|       2|\n",
            "|              5300|       1|\n",
            "|              5000|      18|\n",
            "|              4800|       1|\n",
            "|              4500|       2|\n",
            "|              4100|       1|\n",
            "|              4000|       3|\n",
            "|              3800|       1|\n",
            "|              3700|       1|\n",
            "|              3500|       1|\n",
            "|              3200|       1|\n",
            "|              3000|       7|\n",
            "|              2900|       1|\n",
            "|              2800|       2|\n",
            "|              2500|       4|\n",
            "|              2290|       1|\n",
            "|              2222|       2|\n",
            "|              2200|       1|\n",
            "|              2066|       1|\n",
            "|              2019|      27|\n",
            "|              2018|    3996|\n",
            "|              2017|   10554|\n",
            "|              2016|    9865|\n",
            "|              2015|    2987|\n",
            "|              2014|    4805|\n",
            "|              2013|    6162|\n",
            "|              2012|    9427|\n",
            "|              2011|   12073|\n",
            "|              2010|   12364|\n",
            "|              2009|   15617|\n",
            "|              2008|   16184|\n",
            "|              2007|   17684|\n",
            "|              2006|   20252|\n",
            "|              2005|   22330|\n",
            "|              2004|   19761|\n",
            "|              2003|   19885|\n",
            "|              2002|   19211|\n",
            "|              2001|   20231|\n",
            "|              2000|   24575|\n",
            "|              1999|   22783|\n",
            "|              1998|   17973|\n",
            "|              1997|   14714|\n",
            "|              1996|   10895|\n",
            "|              1995|    9664|\n",
            "|              1994|    4876|\n",
            "|              1993|    3473|\n",
            "|              1992|    3050|\n",
            "|              1991|    2813|\n",
            "|              1990|    2859|\n",
            "|              1989|    1344|\n",
            "|              1988|     968|\n",
            "|              1987|     697|\n",
            "|              1986|     576|\n",
            "|              1985|     787|\n",
            "|              1984|     423|\n",
            "|              1983|     455|\n",
            "|              1982|     335|\n",
            "|              1981|     284|\n",
            "|              1980|     629|\n",
            "|              1979|     312|\n",
            "|              1978|     307|\n",
            "|              1977|     193|\n",
            "|              1976|     193|\n",
            "|              1975|     152|\n",
            "|              1974|     201|\n",
            "|              1973|     205|\n",
            "|              1972|     248|\n",
            "|              1971|     199|\n",
            "|              1970|     372|\n",
            "|              1969|     154|\n",
            "|              1968|     147|\n",
            "|              1967|     142|\n",
            "|              1966|     160|\n",
            "|              1965|     121|\n",
            "|              1964|      80|\n",
            "|              1963|      77|\n",
            "|              1962|      53|\n",
            "|              1961|      51|\n",
            "|              1960|     214|\n",
            "|              1959|      45|\n",
            "|              1958|      34|\n",
            "|              1957|      27|\n",
            "|              1956|      33|\n",
            "|              1955|      25|\n",
            "|              1954|      16|\n",
            "|              1953|      18|\n",
            "|              1952|      12|\n",
            "|              1951|      19|\n",
            "|              1950|      22|\n",
            "|              1949|       3|\n",
            "|              1948|       4|\n",
            "|              1947|       5|\n",
            "|              1946|       2|\n",
            "|              1945|       5|\n",
            "|              1944|       2|\n",
            "|              1943|       5|\n",
            "|              1942|       3|\n",
            "|              1941|       4|\n",
            "|              1940|       2|\n",
            "|              1939|       4|\n",
            "|              1938|       8|\n",
            "|              1937|      13|\n",
            "|              1936|       7|\n",
            "|              1935|       6|\n",
            "|              1934|       5|\n",
            "|              1933|       6|\n",
            "|              1932|       4|\n",
            "|              1931|       4|\n",
            "|              1930|       5|\n",
            "|              1929|       8|\n",
            "|              1928|       2|\n",
            "|              1927|       2|\n",
            "|              1925|       1|\n",
            "|              1923|       3|\n",
            "|              1920|       1|\n",
            "|              1919|       1|\n",
            "|              1915|       1|\n",
            "|              1911|       1|\n",
            "|              1910|     104|\n",
            "|              1800|       5|\n",
            "|              1688|       1|\n",
            "|              1602|       1|\n",
            "|              1600|       2|\n",
            "|              1500|       5|\n",
            "|              1400|       1|\n",
            "|              1300|       2|\n",
            "|              1255|       1|\n",
            "|              1253|       1|\n",
            "|              1234|       4|\n",
            "+------------------+--------+\n",
            "only showing top 150 rows\n",
            "\n"
          ]
        }
      ],
      "source": [
        "query = \"\"\"\n",
        "SELECT  yearOfRegistration, count(*)\n",
        "FROM raw_vehiculePrices\n",
        "GROUP BY yearOfRegistration\n",
        "order by 1 desc,2 desc\n",
        "\"\"\"\n",
        "spark.sql(query).show(150)"
      ]
    },
    {
      "cell_type": "markdown",
      "source": [
        "#### Explanation\n",
        "\n",
        "* Unrealistic years are present (9999, 3000, 1500, etc.).\n",
        "* Most records are within **1950-2019**, which is a realistic range.\n",
        "* Highest counts are between **1995-2010**, with a peak around 2000.\n",
        "* Few entries exist for 2018-2019, probably because of the dataset's collection date.\n",
        "\n",
        "This suggests we should keep only registrations in a valid range (e.g. 1950-2019) for further analysis.\n",
        "\n",
        "To gain deeper insights, it is useful to visualize the distribution of the year of registration.\n",
        "\n",
        "#### Bar Plot of Vehicle Registrations by Year\n",
        "\n",
        "The observed interval is extremely wide. Since the previous query revealed that `yearOfRegistration` ranges from 1000 to 9999, it is necessary to filter out unrealistic values.  \n",
        "For the analysis, we restrict the data to the realistic range of 1950-2019."
      ],
      "metadata": {
        "id": "k3nC_EtY3X-Y"
      }
    },
    {
      "cell_type": "code",
      "source": [
        "import matplotlib.pyplot as plt\n",
        "\n",
        "# Run the query and convert to Pandas for plotting\n",
        "df_years = spark.sql(\"\"\"\n",
        "SELECT yearOfRegistration, count(*) as count\n",
        "FROM raw_vehiculePrices\n",
        "GROUP BY yearOfRegistration\n",
        "ORDER BY yearOfRegistration\n",
        "\"\"\").toPandas()\n",
        "\n",
        "# Filter unrealistic years, e.g. keep only 1950–2019\n",
        "df_years = df_years[(df_years[\"yearOfRegistration\"] >= 1950) &\n",
        "                    (df_years[\"yearOfRegistration\"] <= 2019)]\n",
        "\n",
        "# Plot\n",
        "plt.figure(figsize=(14,6))\n",
        "plt.bar(df_years[\"yearOfRegistration\"].astype(str), df_years[\"count\"])\n",
        "plt.xticks(rotation=90)\n",
        "plt.xlabel(\"Year of Registration\")\n",
        "plt.ylabel(\"Number of Vehicles\")\n",
        "plt.title(\"Distribution of Vehicle Registrations (1950–2019)\")\n",
        "plt.tight_layout()\n",
        "plt.show()"
      ],
      "metadata": {
        "id": "5ymvq5ab9i1g",
        "outputId": "91a39b57-cb39-4ca8-9218-d6b4bd7bcf90",
        "colab": {
          "base_uri": "https://localhost:8080/",
          "height": 494
        }
      },
      "execution_count": 15,
      "outputs": [
        {
          "output_type": "display_data",
          "data": {
            "text/plain": [
              "<Figure size 1400x600 with 1 Axes>"
            ],
            "image/png": "[encoded data removed]"
          },
          "metadata": {}
        }
      ]
    },
    {
      "cell_type": "markdown",
      "source": [
        "The bar plot above shows the distribution of vehicles by year of registration, restricted to the realistic range 1950-2019.  \n",
        "We observe that:  \n",
        "- Very few vehicles are registered before 1980, as expected for older cars ;\n",
        "- The number of registrations increases steadily from the mid-1980s, peaking around 1995-2010 ;\n",
        "- After 2010, the counts decline, with only a small number of cars from 2018-2019, likely due to the dataset's collection period.  \n",
        "\n",
        "This visualization confirms the earlier statistical findings: most cars in the dataset are relatively modern, with a strong concentration in the 1995-2010 range."
      ],
      "metadata": {
        "id": "M2jKSIMr-MJL"
      }
    },
    {
      "cell_type": "markdown",
      "source": [
        "### Price\n",
        "\n",
        "#### Objective\n",
        "\n",
        "We want to analyze car prices by computing minimum, maximum, average, and median values to detect unrealistic entries and identify a central tendency.\n",
        "\n",
        "#### Query\n",
        "\n",
        "```sql\n",
        "SELECT min(price), max(price),\n",
        "       avg(price), median(price)\n",
        "FROM raw_vehiculePrices\n",
        "```"
      ],
      "metadata": {
        "id": "5SO34d-E21uk"
      }
    },
    {
      "cell_type": "code",
      "execution_count": 16,
      "metadata": {
        "colab": {
          "base_uri": "https://localhost:8080/"
        },
        "id": "L07JiYkMe8Ss",
        "outputId": "4b7f1197-a183-4692-ff99-0ebb12d1bae5"
      },
      "outputs": [
        {
          "output_type": "stream",
          "name": "stdout",
          "text": [
            "+----------+----------+------------------+-------------+\n",
            "|min(price)|max(price)|        avg(price)|median(price)|\n",
            "+----------+----------+------------------+-------------+\n",
            "|         0|2147483647|17286.338865535483|       2950.0|\n",
            "+----------+----------+------------------+-------------+\n",
            "\n"
          ]
        }
      ],
      "source": [
        "query = \"\"\"\n",
        "SELECT  min(price), max(price),\n",
        "          avg(price), median(price)\n",
        "FROM raw_vehiculePrices\n",
        "\"\"\"\n",
        "spark.sql(query).show()"
      ]
    },
    {
      "cell_type": "markdown",
      "source": [
        "#### Explanation\n",
        "\n",
        "- Min = 0 → invalid ;\n",
        "- Max = 2,147,483,647 → unrealistic (max integer value) ;\n",
        "- Average ≈ 17,286 → skewed by outliers ;\n",
        "- Median = 2,950 → more representative of used car prices.\n",
        "\n",
        "Outliers strongly affect the mean, so the **median is a better measure**. Cleaning is needed to remove 0 and excessively high prices."
      ],
      "metadata": {
        "id": "T5kqI4JS3BBY"
      }
    },
    {
      "cell_type": "markdown",
      "source": [
        "### Kilometer\n",
        "\n",
        "#### Objective\n",
        "\n",
        "We want to analyze the mileage of vehicles (`kilometer`) to understand usage levels and check for potential capping or anomalies.\n",
        "\n",
        "#### Query\n",
        "\n",
        "```sql\n",
        "SELECT min(kilometer), max(kilometer),\n",
        "       avg(kilometer), median(kilometer)\n",
        "FROM raw_vehiculePrices\n",
        "```\n",
        "\n"
      ],
      "metadata": {
        "id": "_FwxzozV2JsX"
      }
    },
    {
      "cell_type": "code",
      "execution_count": 17,
      "metadata": {
        "colab": {
          "base_uri": "https://localhost:8080/"
        },
        "id": "1i5aH7TuiB7U",
        "outputId": "237febaf-3b44-498f-c1d5-99baa0b175a6"
      },
      "outputs": [
        {
          "output_type": "stream",
          "name": "stdout",
          "text": [
            "+--------------+--------------+------------------+-----------------+\n",
            "|min(kilometer)|max(kilometer)|    avg(kilometer)|median(kilometer)|\n",
            "+--------------+--------------+------------------+-----------------+\n",
            "|          5000|        150000|125618.56044408226|         150000.0|\n",
            "+--------------+--------------+------------------+-----------------+\n",
            "\n"
          ]
        }
      ],
      "source": [
        "query = \"\"\"\n",
        "SELECT  min(kilometer), max(kilometer),\n",
        "          avg(kilometer), median(kilometer)\n",
        "FROM raw_vehiculePrices\n",
        "\"\"\"\n",
        "spark.sql(query).show()"
      ]
    },
    {
      "cell_type": "markdown",
      "source": [
        "#### Explanation\n",
        "\n",
        "- Min = 5,000 → suspicious (new cars should have values closer to 0) ;\n",
        "- Max = 150,000 → capped value, suggesting a data limit ;\n",
        "- Average ≈ 125,619 ;\n",
        "- Median = 150,000 → indicates at least half of the vehicles are at the maximum cap.\n",
        "\n",
        "This shows that most vehicles in the dataset are **high-mileage** and that the column is truncated at 150,000 km."
      ],
      "metadata": {
        "id": "ZmU42ayi2bSv"
      }
    },
    {
      "cell_type": "markdown",
      "source": [
        "### Global summary\n",
        "\n",
        "The dataset contains a rich set of categorical and numerical features.\n",
        "Data quality issues exist:\n",
        "\n",
        "- Invalid years of registration (1000, 9999, etc.) ;\n",
        "- Invalid prices (0 or extremely large).\n",
        "- Mileage capped at 150,000.\n",
        "\n",
        "Some patterns are observed:\n",
        "\n",
        "- Most cars were registered between 1995-2010.\n",
        "- Typical prices cluster around €3,000.\n",
        "- Vehicles are generally high-mileage.\n",
        "\n",
        "These insights confirm the need for **data cleaning** before deeper analysis. After cleaning, we will be able to analyze relationships such as:\n",
        "\n",
        "- Price per year of registration.\n",
        "- Price differences by brand or fuel type.\n",
        "- Effect of mileage on price."
      ],
      "metadata": {
        "id": "QN_gQsYV1hwg"
      }
    },
    {
      "cell_type": "markdown",
      "metadata": {
        "id": "5eQ7H8YNvJ-C"
      },
      "source": [
        "## Phase 1: Cleaning the data and selecting relevant columns"
      ]
    },
    {
      "cell_type": "markdown",
      "metadata": {
        "id": "aElQN6zKvLrO"
      },
      "source": [
        "In this part you are invited to decide which columns are useful for you analysis and to perform some cleaning on the data by removing outlier values (e.g. remove records with strange values for a specific column).\n",
        "The result of your cleaning and selection should be stored in a table called `phase1`\n",
        "\n",
        "Give a brief summary of your choices."
      ]
    },
    {
      "cell_type": "markdown",
      "source": [
        "Based on everything we saw in the exploration section here's a structured plan:\n",
        "\n",
        "### Columns to Keep\n",
        "\n",
        "These columns are relevant for analyzing car prices and patterns:\n",
        "\n",
        "- `price`: target of analysis, must be cleaned of invalid values (0, unrealistic highs) ;\n",
        "- `yearOfRegistration` : key for trends; filter to realistic range (1950-2019) ;\n",
        "- `kilometer`: indicates usage level, despite capping at 150,000.\n",
        "- `powerPS`: engine power; keep but filter out zeros and unrealistic values (e.g., > 500-600 PS may be extreme for most cars) ;\n",
        "- `fuelType`: categorical feature, useful for grouping (diesel, benzin, etc.).\n",
        "- `gearbox`: categorical, relevant for analysis (manual vs automatic).\n",
        "- `vehicleType`: useful categorical (SUV, coupe, etc.), despite some nulls ;\n",
        "- `brand`: essential categorical (BMW, Audi, VW, etc.) ;\n",
        "- `notRepairedDamage`: categorical, may affect price (yes/no).\n",
        "\n",
        "### Columns to Drop (less relevant / redundant)\n",
        "\n",
        "- `dateCrawled`, `dateCreated`, `lastSeen`: technical crawling metadata, not useful for price analysis ;\n",
        "- `name`: unstructured text, too noisy for this homework's scope.\n",
        "- `abtest`: internal A/B testing flag, irrelevant ;\n",
        "- `seller`: mostly “privat” (not informative) ;\n",
        "- `offerType`: almost always “Angebot” (not informative) ;\n",
        "- `nrOfPictures`: always 0 in sample, useless ;\n",
        "- `postalCode`: location info, could be interesting but too granular for now (can be dropped unless geographical analysis is needed) ;\n",
        "- `monthOfRegistration`: redundant with `yearOfRegistration`, too fine-grained.\n",
        "\n",
        "### Cleaning Rules (to apply before saving `phase1`)\n",
        "\n",
        "- `yearOfRegistration`: keep only 1950-2019 ;\n",
        "- `price`: remove records where `price <= 100` or `price >= 100000` (the threshold will be adjusted in order to determine the most suitable value) ;\n",
        "- `kilometer`: already capped at 150,000 : keep but note limitation.\n",
        "- `powerPS`: remove outliers (e.g., `powerPS < 10` or `powerPS > 500`).\n",
        "- Categorical values: filter out nulls where appropriate (e.g., brand).\n",
        "\n",
        "So the **final cleaned table `phase1`** should include:\n",
        "\n",
        "\n",
        "- `price`;\n",
        "- `yearOfRegistration`;\n",
        "- `kilometer`;\n",
        "- `powerPS`;\n",
        "- `fuelType`;\n",
        "- `gearbox`;\n",
        "- `vehicleType`;\n",
        "- `brand`;\n",
        "-`notRepairedDamage`.\n",
        "\n",
        "The following query will be used:\n",
        "\n",
        "```sql\n",
        "CREATE OR REPLACE TABLE phase1 AS\n",
        "SELECT\n",
        "    price,\n",
        "    yearOfRegistration,\n",
        "    kilometer,\n",
        "    powerPS,\n",
        "    fuelType,\n",
        "    gearbox,\n",
        "    vehicleType,\n",
        "    brand,\n",
        "    notRepairedDamage\n",
        "FROM raw_vehiculePrices\n",
        "WHERE\n",
        "    -- keep only realistic years\n",
        "    yearOfRegistration BETWEEN 1950 AND 2019\n",
        "    -- filter price (remove too low / too high)\n",
        "    AND price BETWEEN 100 AND 100000\n",
        "    -- filter engine power\n",
        "    AND powerPS BETWEEN 10 AND 500\n",
        "    -- remove null brands\n",
        "    AND brand IS NOT NULL\n",
        "```"
      ],
      "metadata": {
        "id": "Kh-LCjIF-0uK"
      }
    },
    {
      "cell_type": "code",
      "execution_count": 23,
      "metadata": {
        "id": "EPN6EUQGwpgJ"
      },
      "outputs": [],
      "source": [
        "from pyspark.sql.functions import col\n",
        "\n",
        "# Apply cleaning with DataFrame API\n",
        "phase1_df = (\n",
        "    spark.table(\"raw_vehiculePrices\")\n",
        "    .select(\n",
        "        \"price\",\n",
        "        \"yearOfRegistration\",\n",
        "        \"kilometer\",\n",
        "        \"powerPS\",\n",
        "        \"fuelType\",\n",
        "        \"gearbox\",\n",
        "        \"vehicleType\",\n",
        "        \"brand\",\n",
        "        \"notRepairedDamage\"\n",
        "    )\n",
        "    .where(\n",
        "        (col(\"yearOfRegistration\").between(1950, 2019)) &\n",
        "        (col(\"price\").between(100, 100000)) &\n",
        "        (col(\"powerPS\").between(10, 500)) &\n",
        "        (col(\"brand\").isNotNull())\n",
        "    )\n",
        ")\n",
        "\n",
        "# Save as a managed Spark SQL table called phase1\n",
        "phase1_df.write.mode(\"overwrite\").saveAsTable(\"phase1\")"
      ]
    },
    {
      "cell_type": "code",
      "execution_count": 24,
      "metadata": {
        "id": "krsvswNBwpYh",
        "outputId": "4c258a22-d869-4798-ae76-9aabc65f88a7",
        "colab": {
          "base_uri": "https://localhost:8080/"
        }
      },
      "outputs": [
        {
          "output_type": "stream",
          "name": "stdout",
          "text": [
            "+------------------+---------+-------+\n",
            "|          col_name|data_type|comment|\n",
            "+------------------+---------+-------+\n",
            "|             price|      int|   NULL|\n",
            "|yearOfRegistration|      int|   NULL|\n",
            "|         kilometer|      int|   NULL|\n",
            "|           powerPS|      int|   NULL|\n",
            "|          fuelType|   string|   NULL|\n",
            "|           gearbox|   string|   NULL|\n",
            "|       vehicleType|   string|   NULL|\n",
            "|             brand|   string|   NULL|\n",
            "| notRepairedDamage|   string|   NULL|\n",
            "+------------------+---------+-------+\n",
            "\n",
            "+--------+\n",
            "|count(1)|\n",
            "+--------+\n",
            "|  321442|\n",
            "+--------+\n",
            "\n"
          ]
        }
      ],
      "source": [
        "spark.sql(\"DESCRIBE phase1\").show()\n",
        "spark.sql(\"SELECT COUNT(*) FROM phase1\").show()"
      ]
    },
    {
      "cell_type": "markdown",
      "metadata": {
        "id": "imiDhnt7Ymi3"
      },
      "source": [
        "\n",
        "## Phase 2: Organizing the data"
      ]
    },
    {
      "cell_type": "markdown",
      "metadata": {
        "id": "9EEhbLS3w5G4"
      },
      "source": [
        "In this part you are invited to load the data into delta tables where you will define meaningful constraints and conditions to be fulfiled by any future incoming data.\n",
        "The result of this phase should a delta table called `deltaPrices`"
      ]
    },
    {
      "cell_type": "code",
      "execution_count": null,
      "metadata": {
        "id": "BkWSLKNFYrmb"
      },
      "outputs": [],
      "source": []
    },
    {
      "cell_type": "code",
      "execution_count": null,
      "metadata": {
        "id": "kjuBWpDSxZmV"
      },
      "outputs": [],
      "source": []
    },
    {
      "cell_type": "markdown",
      "metadata": {
        "id": "C0YP77iE0-O6"
      },
      "source": [
        "Comment on the constraints you added\n",
        "\n",
        "...."
      ]
    },
    {
      "cell_type": "markdown",
      "metadata": {
        "id": "fki_wgyWxL1C"
      },
      "source": [
        "## Phase 3: Analysing the data and ensuring query evaluation effeciency"
      ]
    },
    {
      "cell_type": "markdown",
      "metadata": {
        "id": "t4BJIJ4y0Y8b"
      },
      "source": [
        "Suggest 2 or 3 meaningfull queries as described above and suggest a data organization scheme for optimizing one such query of your choice."
      ]
    },
    {
      "cell_type": "code",
      "execution_count": null,
      "metadata": {
        "id": "CTP7VHrjxVKX"
      },
      "outputs": [],
      "source": [
        "import getpass\n",
        "\n",
        "from pyngrok import conf, ngrok\n",
        "\n",
        "print(\"Enter your authtoken, which can be copied \"\n",
        "\"from https://dashboard.ngrok.com/get-started/your-authtoken\")\n",
        "conf.get_default().auth_token = getpass.getpass()\n",
        "\n",
        "ui_port = 4040\n",
        "public_url = ngrok.connect(ui_port).public_url\n",
        "print(f\" * ngrok tunnel \\\"{public_url}\\\" -> \\\"http://127.0.0.1:{ui_port}\\\"\")"
      ]
    },
    {
      "cell_type": "markdown",
      "metadata": {
        "id": "BOfKxBYryX8Y"
      },
      "source": [
        "## Ingesting new data and reruning analytics  "
      ]
    },
    {
      "cell_type": "markdown",
      "metadata": {
        "id": "QSfuBf4KyiuZ"
      },
      "source": [
        "In this part you are invited to suggest the insertion of fictious new data that conforms to the schema established in phase 2 and to rerun some queries of phase 3 to see the evolution of the result. Ideally, write a query that compares an aggregation value in two different versions of the data by exploiting the delta history feature."
      ]
    },
    {
      "cell_type": "code",
      "execution_count": null,
      "metadata": {
        "id": "DVOHuzPWyiGp"
      },
      "outputs": [],
      "source": []
    },
    {
      "cell_type": "code",
      "execution_count": null,
      "metadata": {
        "id": "Aa7FU_EOzQ7O"
      },
      "outputs": [],
      "source": []
    }
  ],
  "metadata": {
    "colab": {
      "collapsed_sections": [
        "uEE-92qgTQ4p"
      ],
      "provenance": [],
      "toc_visible": true
    },
    "kernelspec": {
      "display_name": "Python 3",
      "name": "python3"
    },
    "language_info": {
      "name": "python"
    }
  },
  "nbformat": 4,
  "nbformat_minor": 0
}